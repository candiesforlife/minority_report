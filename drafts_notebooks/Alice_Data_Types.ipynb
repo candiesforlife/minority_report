{
 "cells": [
  {
   "cell_type": "markdown",
   "metadata": {
    "heading_collapsed": true
   },
   "source": [
    "## Load Data"
   ]
  },
  {
   "cell_type": "code",
   "execution_count": 1,
   "metadata": {
    "ExecuteTime": {
     "end_time": "2020-12-02T08:59:40.708650Z",
     "start_time": "2020-12-02T08:59:39.944764Z"
    },
    "hidden": true
   },
   "outputs": [],
   "source": [
    "import pandas as pd"
   ]
  },
  {
   "cell_type": "code",
   "execution_count": 2,
   "metadata": {
    "ExecuteTime": {
     "end_time": "2020-12-02T09:00:04.515229Z",
     "start_time": "2020-12-02T08:59:40.711960Z"
    },
    "hidden": true
   },
   "outputs": [],
   "source": [
    "file = '../raw_data/data.csv'\n",
    "\n",
    "df = pd.read_csv(file, low_memory = False)"
   ]
  },
  {
   "cell_type": "markdown",
   "metadata": {},
   "source": [
    "## Data Inspection"
   ]
  },
  {
   "cell_type": "code",
   "execution_count": 3,
   "metadata": {
    "ExecuteTime": {
     "end_time": "2020-12-02T09:00:04.569060Z",
     "start_time": "2020-12-02T09:00:04.520787Z"
    }
   },
   "outputs": [
    {
     "data": {
      "text/html": [
       "<div>\n",
       "<style scoped>\n",
       "    .dataframe tbody tr th:only-of-type {\n",
       "        vertical-align: middle;\n",
       "    }\n",
       "\n",
       "    .dataframe tbody tr th {\n",
       "        vertical-align: top;\n",
       "    }\n",
       "\n",
       "    .dataframe thead th {\n",
       "        text-align: right;\n",
       "    }\n",
       "</style>\n",
       "<table border=\"1\" class=\"dataframe\">\n",
       "  <thead>\n",
       "    <tr style=\"text-align: right;\">\n",
       "      <th></th>\n",
       "      <th>complaint_id</th>\n",
       "      <th>date</th>\n",
       "      <th>time</th>\n",
       "      <th>precinct_number</th>\n",
       "      <th>offense_type</th>\n",
       "      <th>crime_completed</th>\n",
       "      <th>offense_level</th>\n",
       "      <th>borough</th>\n",
       "      <th>premise_desc</th>\n",
       "      <th>premise</th>\n",
       "      <th>...</th>\n",
       "      <th>suspect_age</th>\n",
       "      <th>suspect_race</th>\n",
       "      <th>suspect_sex</th>\n",
       "      <th>latitude</th>\n",
       "      <th>longitude</th>\n",
       "      <th>patrol_borough</th>\n",
       "      <th>metro</th>\n",
       "      <th>victim_age</th>\n",
       "      <th>victim_race</th>\n",
       "      <th>victim_sex</th>\n",
       "    </tr>\n",
       "  </thead>\n",
       "  <tbody>\n",
       "    <tr>\n",
       "      <th>0</th>\n",
       "      <td>325341655</td>\n",
       "      <td>02/11/2015</td>\n",
       "      <td>15:00:00</td>\n",
       "      <td>73.0</td>\n",
       "      <td>OFFENSES AGAINST PUBLIC ADMINI</td>\n",
       "      <td>COMPLETED</td>\n",
       "      <td>MISDEMEANOR</td>\n",
       "      <td>BROOKLYN</td>\n",
       "      <td>INSIDE</td>\n",
       "      <td>RESIDENCE - PUBLIC HOUSING</td>\n",
       "      <td>...</td>\n",
       "      <td>25-44</td>\n",
       "      <td>BLACK</td>\n",
       "      <td>M</td>\n",
       "      <td>40.664239</td>\n",
       "      <td>-73.908425</td>\n",
       "      <td>PATROL BORO BKLYN NORTH</td>\n",
       "      <td>NaN</td>\n",
       "      <td>&lt;18</td>\n",
       "      <td>BLACK</td>\n",
       "      <td>M</td>\n",
       "    </tr>\n",
       "    <tr>\n",
       "      <th>1</th>\n",
       "      <td>393816841</td>\n",
       "      <td>03/17/2012</td>\n",
       "      <td>10:30:00</td>\n",
       "      <td>69.0</td>\n",
       "      <td>ASSAULT 3 &amp; RELATED OFFENSES</td>\n",
       "      <td>COMPLETED</td>\n",
       "      <td>MISDEMEANOR</td>\n",
       "      <td>BROOKLYN</td>\n",
       "      <td>INSIDE</td>\n",
       "      <td>RESIDENCE-HOUSE</td>\n",
       "      <td>...</td>\n",
       "      <td>NaN</td>\n",
       "      <td>NaN</td>\n",
       "      <td>NaN</td>\n",
       "      <td>40.644590</td>\n",
       "      <td>-73.892672</td>\n",
       "      <td>PATROL BORO BKLYN SOUTH</td>\n",
       "      <td>NaN</td>\n",
       "      <td>45-64</td>\n",
       "      <td>BLACK</td>\n",
       "      <td>F</td>\n",
       "    </tr>\n",
       "    <tr>\n",
       "      <th>2</th>\n",
       "      <td>802896158</td>\n",
       "      <td>10/27/2016</td>\n",
       "      <td>13:48:00</td>\n",
       "      <td>71.0</td>\n",
       "      <td>HARRASSMENT 2</td>\n",
       "      <td>COMPLETED</td>\n",
       "      <td>VIOLATION</td>\n",
       "      <td>BROOKLYN</td>\n",
       "      <td>INSIDE</td>\n",
       "      <td>PUBLIC SCHOOL</td>\n",
       "      <td>...</td>\n",
       "      <td>&lt;18</td>\n",
       "      <td>BLACK</td>\n",
       "      <td>M</td>\n",
       "      <td>40.658758</td>\n",
       "      <td>-73.942435</td>\n",
       "      <td>PATROL BORO BKLYN SOUTH</td>\n",
       "      <td>NaN</td>\n",
       "      <td>18-24</td>\n",
       "      <td>BLACK</td>\n",
       "      <td>M</td>\n",
       "    </tr>\n",
       "  </tbody>\n",
       "</table>\n",
       "<p>3 rows × 22 columns</p>\n",
       "</div>"
      ],
      "text/plain": [
       "   complaint_id        date      time  precinct_number  \\\n",
       "0     325341655  02/11/2015  15:00:00             73.0   \n",
       "1     393816841  03/17/2012  10:30:00             69.0   \n",
       "2     802896158  10/27/2016  13:48:00             71.0   \n",
       "\n",
       "                     offense_type crime_completed offense_level   borough  \\\n",
       "0  OFFENSES AGAINST PUBLIC ADMINI       COMPLETED   MISDEMEANOR  BROOKLYN   \n",
       "1    ASSAULT 3 & RELATED OFFENSES       COMPLETED   MISDEMEANOR  BROOKLYN   \n",
       "2                   HARRASSMENT 2       COMPLETED     VIOLATION  BROOKLYN   \n",
       "\n",
       "  premise_desc                     premise  ... suspect_age suspect_race  \\\n",
       "0       INSIDE  RESIDENCE - PUBLIC HOUSING  ...       25-44        BLACK   \n",
       "1       INSIDE             RESIDENCE-HOUSE  ...         NaN          NaN   \n",
       "2       INSIDE               PUBLIC SCHOOL  ...         <18        BLACK   \n",
       "\n",
       "  suspect_sex   latitude  longitude           patrol_borough  metro  \\\n",
       "0           M  40.664239 -73.908425  PATROL BORO BKLYN NORTH    NaN   \n",
       "1         NaN  40.644590 -73.892672  PATROL BORO BKLYN SOUTH    NaN   \n",
       "2           M  40.658758 -73.942435  PATROL BORO BKLYN SOUTH    NaN   \n",
       "\n",
       "  victim_age victim_race victim_sex  \n",
       "0        <18       BLACK          M  \n",
       "1      45-64       BLACK          F  \n",
       "2      18-24       BLACK          M  \n",
       "\n",
       "[3 rows x 22 columns]"
      ]
     },
     "execution_count": 3,
     "metadata": {},
     "output_type": "execute_result"
    }
   ],
   "source": [
    "df.head(3)"
   ]
  },
  {
   "cell_type": "code",
   "execution_count": 4,
   "metadata": {
    "ExecuteTime": {
     "end_time": "2020-12-02T09:00:04.601429Z",
     "start_time": "2020-12-02T09:00:04.585650Z"
    }
   },
   "outputs": [
    {
     "name": "stdout",
     "output_type": "stream",
     "text": [
      "<class 'pandas.core.frame.DataFrame'>\n",
      "RangeIndex: 6983207 entries, 0 to 6983206\n",
      "Data columns (total 22 columns):\n",
      " #   Column           Dtype  \n",
      "---  ------           -----  \n",
      " 0   complaint_id     int64  \n",
      " 1   date             object \n",
      " 2   time             object \n",
      " 3   precinct_number  float64\n",
      " 4   offense_type     object \n",
      " 5   crime_completed  object \n",
      " 6   offense_level    object \n",
      " 7   borough          object \n",
      " 8   premise_desc     object \n",
      " 9   premise          object \n",
      " 10  jurisdiction     object \n",
      " 11  park_name        object \n",
      " 12  suspect_age      object \n",
      " 13  suspect_race     object \n",
      " 14  suspect_sex      object \n",
      " 15  latitude         float64\n",
      " 16  longitude        float64\n",
      " 17  patrol_borough   object \n",
      " 18  metro            object \n",
      " 19  victim_age       object \n",
      " 20  victim_race      object \n",
      " 21  victim_sex       object \n",
      "dtypes: float64(3), int64(1), object(18)\n",
      "memory usage: 1.1+ GB\n"
     ]
    }
   ],
   "source": [
    "df.info()"
   ]
  },
  {
   "cell_type": "markdown",
   "metadata": {},
   "source": [
    "## Data Cleaning: Datetime"
   ]
  },
  {
   "cell_type": "markdown",
   "metadata": {},
   "source": [
    "### Time"
   ]
  },
  {
   "cell_type": "code",
   "execution_count": 5,
   "metadata": {
    "ExecuteTime": {
     "end_time": "2020-12-02T09:00:04.618452Z",
     "start_time": "2020-12-02T09:00:04.606382Z"
    },
    "scrolled": true
   },
   "outputs": [],
   "source": [
    "def to_timestamp(column_name, df):\n",
    "    '''converts given column to datetime.time dtype'''\n",
    "    clean_df = df.copy()\n",
    "    clean_df[column_name] = pd.to_datetime(clean_df[column_name], format = '%H:%M:%S').dt.time\n",
    "    return clean_df"
   ]
  },
  {
   "cell_type": "code",
   "execution_count": 6,
   "metadata": {
    "ExecuteTime": {
     "end_time": "2020-12-02T09:00:09.414140Z",
     "start_time": "2020-12-02T09:00:04.624892Z"
    }
   },
   "outputs": [],
   "source": [
    "clean_df = to_timestamp('time', df)"
   ]
  },
  {
   "cell_type": "code",
   "execution_count": 7,
   "metadata": {
    "ExecuteTime": {
     "end_time": "2020-12-02T09:00:09.434443Z",
     "start_time": "2020-12-02T09:00:09.416440Z"
    }
   },
   "outputs": [
    {
     "data": {
      "text/plain": [
       "datetime.time"
      ]
     },
     "execution_count": 7,
     "metadata": {},
     "output_type": "execute_result"
    }
   ],
   "source": [
    "type(clean_df['time'][3])"
   ]
  },
  {
   "cell_type": "markdown",
   "metadata": {},
   "source": [
    "In order to access **only** the hour or minutes of the committed crime, use **.hour** or **.minute**, like so:"
   ]
  },
  {
   "cell_type": "code",
   "execution_count": 8,
   "metadata": {
    "ExecuteTime": {
     "end_time": "2020-12-02T09:00:11.674210Z",
     "start_time": "2020-12-02T09:00:09.450455Z"
    }
   },
   "outputs": [],
   "source": [
    "clean_df['hour'] = clean_df['time'].apply(lambda x: x.hour)"
   ]
  },
  {
   "cell_type": "code",
   "execution_count": 9,
   "metadata": {
    "ExecuteTime": {
     "end_time": "2020-12-02T09:00:11.686355Z",
     "start_time": "2020-12-02T09:00:11.679052Z"
    }
   },
   "outputs": [
    {
     "data": {
      "text/plain": [
       "0    15.0\n",
       "1    10.0\n",
       "2    13.0\n",
       "3    19.0\n",
       "4    13.0\n",
       "Name: hour, dtype: float64"
      ]
     },
     "execution_count": 9,
     "metadata": {},
     "output_type": "execute_result"
    }
   ],
   "source": [
    "clean_df['hour'].head() # will convert to integer once NaN dropped"
   ]
  },
  {
   "cell_type": "code",
   "execution_count": 10,
   "metadata": {
    "ExecuteTime": {
     "end_time": "2020-12-02T09:00:13.900275Z",
     "start_time": "2020-12-02T09:00:11.696172Z"
    }
   },
   "outputs": [],
   "source": [
    "clean_df['minute'] = clean_df['time'].apply(lambda x: x.minute)"
   ]
  },
  {
   "cell_type": "code",
   "execution_count": 11,
   "metadata": {
    "ExecuteTime": {
     "end_time": "2020-12-02T09:00:14.126830Z",
     "start_time": "2020-12-02T09:00:13.902465Z"
    }
   },
   "outputs": [
    {
     "data": {
      "text/plain": [
       "48"
      ]
     },
     "execution_count": 11,
     "metadata": {},
     "output_type": "execute_result"
    }
   ],
   "source": [
    "clean_df['time'].isna().sum() # 48 NaN in 'time' column to be dropped"
   ]
  },
  {
   "cell_type": "code",
   "execution_count": 12,
   "metadata": {
    "ExecuteTime": {
     "end_time": "2020-12-02T09:00:14.162926Z",
     "start_time": "2020-12-02T09:00:14.130714Z"
    },
    "scrolled": true
   },
   "outputs": [
    {
     "data": {
      "text/html": [
       "<div>\n",
       "<style scoped>\n",
       "    .dataframe tbody tr th:only-of-type {\n",
       "        vertical-align: middle;\n",
       "    }\n",
       "\n",
       "    .dataframe tbody tr th {\n",
       "        vertical-align: top;\n",
       "    }\n",
       "\n",
       "    .dataframe thead th {\n",
       "        text-align: right;\n",
       "    }\n",
       "</style>\n",
       "<table border=\"1\" class=\"dataframe\">\n",
       "  <thead>\n",
       "    <tr style=\"text-align: right;\">\n",
       "      <th></th>\n",
       "      <th>complaint_id</th>\n",
       "      <th>date</th>\n",
       "      <th>time</th>\n",
       "      <th>precinct_number</th>\n",
       "      <th>offense_type</th>\n",
       "      <th>crime_completed</th>\n",
       "      <th>offense_level</th>\n",
       "      <th>borough</th>\n",
       "      <th>premise_desc</th>\n",
       "      <th>premise</th>\n",
       "      <th>...</th>\n",
       "      <th>suspect_sex</th>\n",
       "      <th>latitude</th>\n",
       "      <th>longitude</th>\n",
       "      <th>patrol_borough</th>\n",
       "      <th>metro</th>\n",
       "      <th>victim_age</th>\n",
       "      <th>victim_race</th>\n",
       "      <th>victim_sex</th>\n",
       "      <th>hour</th>\n",
       "      <th>minute</th>\n",
       "    </tr>\n",
       "  </thead>\n",
       "  <tbody>\n",
       "    <tr>\n",
       "      <th>0</th>\n",
       "      <td>325341655</td>\n",
       "      <td>02/11/2015</td>\n",
       "      <td>15:00:00</td>\n",
       "      <td>73.0</td>\n",
       "      <td>OFFENSES AGAINST PUBLIC ADMINI</td>\n",
       "      <td>COMPLETED</td>\n",
       "      <td>MISDEMEANOR</td>\n",
       "      <td>BROOKLYN</td>\n",
       "      <td>INSIDE</td>\n",
       "      <td>RESIDENCE - PUBLIC HOUSING</td>\n",
       "      <td>...</td>\n",
       "      <td>M</td>\n",
       "      <td>40.664239</td>\n",
       "      <td>-73.908425</td>\n",
       "      <td>PATROL BORO BKLYN NORTH</td>\n",
       "      <td>NaN</td>\n",
       "      <td>&lt;18</td>\n",
       "      <td>BLACK</td>\n",
       "      <td>M</td>\n",
       "      <td>15.0</td>\n",
       "      <td>0.0</td>\n",
       "    </tr>\n",
       "    <tr>\n",
       "      <th>1</th>\n",
       "      <td>393816841</td>\n",
       "      <td>03/17/2012</td>\n",
       "      <td>10:30:00</td>\n",
       "      <td>69.0</td>\n",
       "      <td>ASSAULT 3 &amp; RELATED OFFENSES</td>\n",
       "      <td>COMPLETED</td>\n",
       "      <td>MISDEMEANOR</td>\n",
       "      <td>BROOKLYN</td>\n",
       "      <td>INSIDE</td>\n",
       "      <td>RESIDENCE-HOUSE</td>\n",
       "      <td>...</td>\n",
       "      <td>NaN</td>\n",
       "      <td>40.644590</td>\n",
       "      <td>-73.892672</td>\n",
       "      <td>PATROL BORO BKLYN SOUTH</td>\n",
       "      <td>NaN</td>\n",
       "      <td>45-64</td>\n",
       "      <td>BLACK</td>\n",
       "      <td>F</td>\n",
       "      <td>10.0</td>\n",
       "      <td>30.0</td>\n",
       "    </tr>\n",
       "    <tr>\n",
       "      <th>2</th>\n",
       "      <td>802896158</td>\n",
       "      <td>10/27/2016</td>\n",
       "      <td>13:48:00</td>\n",
       "      <td>71.0</td>\n",
       "      <td>HARRASSMENT 2</td>\n",
       "      <td>COMPLETED</td>\n",
       "      <td>VIOLATION</td>\n",
       "      <td>BROOKLYN</td>\n",
       "      <td>INSIDE</td>\n",
       "      <td>PUBLIC SCHOOL</td>\n",
       "      <td>...</td>\n",
       "      <td>M</td>\n",
       "      <td>40.658758</td>\n",
       "      <td>-73.942435</td>\n",
       "      <td>PATROL BORO BKLYN SOUTH</td>\n",
       "      <td>NaN</td>\n",
       "      <td>18-24</td>\n",
       "      <td>BLACK</td>\n",
       "      <td>M</td>\n",
       "      <td>13.0</td>\n",
       "      <td>48.0</td>\n",
       "    </tr>\n",
       "  </tbody>\n",
       "</table>\n",
       "<p>3 rows × 24 columns</p>\n",
       "</div>"
      ],
      "text/plain": [
       "   complaint_id        date      time  precinct_number  \\\n",
       "0     325341655  02/11/2015  15:00:00             73.0   \n",
       "1     393816841  03/17/2012  10:30:00             69.0   \n",
       "2     802896158  10/27/2016  13:48:00             71.0   \n",
       "\n",
       "                     offense_type crime_completed offense_level   borough  \\\n",
       "0  OFFENSES AGAINST PUBLIC ADMINI       COMPLETED   MISDEMEANOR  BROOKLYN   \n",
       "1    ASSAULT 3 & RELATED OFFENSES       COMPLETED   MISDEMEANOR  BROOKLYN   \n",
       "2                   HARRASSMENT 2       COMPLETED     VIOLATION  BROOKLYN   \n",
       "\n",
       "  premise_desc                     premise  ... suspect_sex   latitude  \\\n",
       "0       INSIDE  RESIDENCE - PUBLIC HOUSING  ...           M  40.664239   \n",
       "1       INSIDE             RESIDENCE-HOUSE  ...         NaN  40.644590   \n",
       "2       INSIDE               PUBLIC SCHOOL  ...           M  40.658758   \n",
       "\n",
       "   longitude           patrol_borough metro  victim_age  victim_race  \\\n",
       "0 -73.908425  PATROL BORO BKLYN NORTH   NaN         <18        BLACK   \n",
       "1 -73.892672  PATROL BORO BKLYN SOUTH   NaN       45-64        BLACK   \n",
       "2 -73.942435  PATROL BORO BKLYN SOUTH   NaN       18-24        BLACK   \n",
       "\n",
       "  victim_sex  hour minute  \n",
       "0          M  15.0    0.0  \n",
       "1          F  10.0   30.0  \n",
       "2          M  13.0   48.0  \n",
       "\n",
       "[3 rows x 24 columns]"
      ]
     },
     "execution_count": 12,
     "metadata": {},
     "output_type": "execute_result"
    }
   ],
   "source": [
    "clean_df.head(3)"
   ]
  },
  {
   "cell_type": "code",
   "execution_count": 48,
   "metadata": {
    "ExecuteTime": {
     "end_time": "2020-12-02T09:24:24.446313Z",
     "start_time": "2020-12-02T09:24:24.441818Z"
    }
   },
   "outputs": [],
   "source": [
    "def to_timestamp(self):\n",
    "    '''converts given column to datetime.time dtype'''\n",
    "    df = self.data.copy()\n",
    "    df['time'] = pd.to_datetime(df['time'], format = '%H:%M:%S').dt.time\n",
    "    return df"
   ]
  },
  {
   "cell_type": "markdown",
   "metadata": {},
   "source": [
    "### Date"
   ]
  },
  {
   "cell_type": "code",
   "execution_count": 13,
   "metadata": {
    "ExecuteTime": {
     "end_time": "2020-12-02T09:00:15.148466Z",
     "start_time": "2020-12-02T09:00:14.165039Z"
    }
   },
   "outputs": [
    {
     "data": {
      "text/plain": [
       "<class 'str'>      6982552\n",
       "<class 'float'>        655\n",
       "Name: date, dtype: int64"
      ]
     },
     "execution_count": 13,
     "metadata": {},
     "output_type": "execute_result"
    }
   ],
   "source": [
    "df['date'].apply(type).value_counts() # mixed dtypes in 'date'"
   ]
  },
  {
   "cell_type": "code",
   "execution_count": 14,
   "metadata": {
    "ExecuteTime": {
     "end_time": "2020-12-02T09:00:16.211980Z",
     "start_time": "2020-12-02T09:00:15.152106Z"
    }
   },
   "outputs": [
    {
     "data": {
      "text/html": [
       "<div>\n",
       "<style scoped>\n",
       "    .dataframe tbody tr th:only-of-type {\n",
       "        vertical-align: middle;\n",
       "    }\n",
       "\n",
       "    .dataframe tbody tr th {\n",
       "        vertical-align: top;\n",
       "    }\n",
       "\n",
       "    .dataframe thead th {\n",
       "        text-align: right;\n",
       "    }\n",
       "</style>\n",
       "<table border=\"1\" class=\"dataframe\">\n",
       "  <thead>\n",
       "    <tr style=\"text-align: right;\">\n",
       "      <th></th>\n",
       "      <th>complaint_id</th>\n",
       "      <th>date</th>\n",
       "      <th>time</th>\n",
       "      <th>precinct_number</th>\n",
       "      <th>offense_type</th>\n",
       "      <th>crime_completed</th>\n",
       "      <th>offense_level</th>\n",
       "      <th>borough</th>\n",
       "      <th>premise_desc</th>\n",
       "      <th>premise</th>\n",
       "      <th>...</th>\n",
       "      <th>suspect_age</th>\n",
       "      <th>suspect_race</th>\n",
       "      <th>suspect_sex</th>\n",
       "      <th>latitude</th>\n",
       "      <th>longitude</th>\n",
       "      <th>patrol_borough</th>\n",
       "      <th>metro</th>\n",
       "      <th>victim_age</th>\n",
       "      <th>victim_race</th>\n",
       "      <th>victim_sex</th>\n",
       "    </tr>\n",
       "  </thead>\n",
       "  <tbody>\n",
       "    <tr>\n",
       "      <th>20568</th>\n",
       "      <td>389149830</td>\n",
       "      <td>NaN</td>\n",
       "      <td>13:55:00</td>\n",
       "      <td>43.0</td>\n",
       "      <td>DISORDERLY CONDUCT</td>\n",
       "      <td>COMPLETED</td>\n",
       "      <td>VIOLATION</td>\n",
       "      <td>BRONX</td>\n",
       "      <td>INSIDE</td>\n",
       "      <td>PUBLIC SCHOOL</td>\n",
       "      <td>...</td>\n",
       "      <td>&lt;18</td>\n",
       "      <td>BLACK</td>\n",
       "      <td>F</td>\n",
       "      <td>40.822303</td>\n",
       "      <td>-73.856172</td>\n",
       "      <td>PATROL BORO BRONX</td>\n",
       "      <td>NaN</td>\n",
       "      <td>&lt;18</td>\n",
       "      <td>BLACK</td>\n",
       "      <td>F</td>\n",
       "    </tr>\n",
       "    <tr>\n",
       "      <th>57141</th>\n",
       "      <td>550470474</td>\n",
       "      <td>NaN</td>\n",
       "      <td>18:00:00</td>\n",
       "      <td>49.0</td>\n",
       "      <td>SEX CRIMES</td>\n",
       "      <td>COMPLETED</td>\n",
       "      <td>MISDEMEANOR</td>\n",
       "      <td>BRONX</td>\n",
       "      <td>INSIDE</td>\n",
       "      <td>RESIDENCE - APT. HOUSE</td>\n",
       "      <td>...</td>\n",
       "      <td>NaN</td>\n",
       "      <td>UNKNOWN</td>\n",
       "      <td>F</td>\n",
       "      <td>40.856163</td>\n",
       "      <td>-73.844397</td>\n",
       "      <td>PATROL BORO BRONX</td>\n",
       "      <td>NaN</td>\n",
       "      <td>&lt;18</td>\n",
       "      <td>WHITE HISPANIC</td>\n",
       "      <td>M</td>\n",
       "    </tr>\n",
       "    <tr>\n",
       "      <th>61657</th>\n",
       "      <td>901463880</td>\n",
       "      <td>NaN</td>\n",
       "      <td>10:00:00</td>\n",
       "      <td>67.0</td>\n",
       "      <td>GRAND LARCENY</td>\n",
       "      <td>COMPLETED</td>\n",
       "      <td>FELONY</td>\n",
       "      <td>BROOKLYN</td>\n",
       "      <td>INSIDE</td>\n",
       "      <td>RESIDENCE - APT. HOUSE</td>\n",
       "      <td>...</td>\n",
       "      <td>NaN</td>\n",
       "      <td>NaN</td>\n",
       "      <td>NaN</td>\n",
       "      <td>40.663057</td>\n",
       "      <td>-73.923641</td>\n",
       "      <td>PATROL BORO BKLYN SOUTH</td>\n",
       "      <td>NaN</td>\n",
       "      <td>25-44</td>\n",
       "      <td>BLACK</td>\n",
       "      <td>M</td>\n",
       "    </tr>\n",
       "  </tbody>\n",
       "</table>\n",
       "<p>3 rows × 22 columns</p>\n",
       "</div>"
      ],
      "text/plain": [
       "       complaint_id date      time  precinct_number        offense_type  \\\n",
       "20568     389149830  NaN  13:55:00             43.0  DISORDERLY CONDUCT   \n",
       "57141     550470474  NaN  18:00:00             49.0          SEX CRIMES   \n",
       "61657     901463880  NaN  10:00:00             67.0       GRAND LARCENY   \n",
       "\n",
       "      crime_completed offense_level   borough premise_desc  \\\n",
       "20568       COMPLETED     VIOLATION     BRONX       INSIDE   \n",
       "57141       COMPLETED   MISDEMEANOR     BRONX       INSIDE   \n",
       "61657       COMPLETED        FELONY  BROOKLYN       INSIDE   \n",
       "\n",
       "                      premise  ... suspect_age suspect_race suspect_sex  \\\n",
       "20568           PUBLIC SCHOOL  ...         <18        BLACK           F   \n",
       "57141  RESIDENCE - APT. HOUSE  ...         NaN      UNKNOWN           F   \n",
       "61657  RESIDENCE - APT. HOUSE  ...         NaN          NaN         NaN   \n",
       "\n",
       "        latitude  longitude           patrol_borough  metro victim_age  \\\n",
       "20568  40.822303 -73.856172        PATROL BORO BRONX    NaN        <18   \n",
       "57141  40.856163 -73.844397        PATROL BORO BRONX    NaN        <18   \n",
       "61657  40.663057 -73.923641  PATROL BORO BKLYN SOUTH    NaN      25-44   \n",
       "\n",
       "          victim_race victim_sex  \n",
       "20568           BLACK          F  \n",
       "57141  WHITE HISPANIC          M  \n",
       "61657           BLACK          M  \n",
       "\n",
       "[3 rows x 22 columns]"
      ]
     },
     "execution_count": 14,
     "metadata": {},
     "output_type": "execute_result"
    }
   ],
   "source": [
    "df[df['date'].apply(type) == float].head(3) # float dtypes are NaN"
   ]
  },
  {
   "cell_type": "code",
   "execution_count": 15,
   "metadata": {
    "ExecuteTime": {
     "end_time": "2020-12-02T09:00:16.234203Z",
     "start_time": "2020-12-02T09:00:16.214774Z"
    }
   },
   "outputs": [
    {
     "data": {
      "text/plain": [
       "0    02/11/2015\n",
       "1    03/17/2012\n",
       "2    10/27/2016\n",
       "Name: date, dtype: object"
      ]
     },
     "execution_count": 15,
     "metadata": {},
     "output_type": "execute_result"
    }
   ],
   "source": [
    "df['date'][0:3] # format of date is month / day / year"
   ]
  },
  {
   "cell_type": "code",
   "execution_count": 16,
   "metadata": {
    "ExecuteTime": {
     "end_time": "2020-12-02T09:00:16.254271Z",
     "start_time": "2020-12-02T09:00:16.237261Z"
    }
   },
   "outputs": [],
   "source": [
    "# drop NaN function (Camille)\n",
    "\n",
    "def drop_miss(df):\n",
    "    '''drop precinct and time missing values'''\n",
    "    #drop precinct missing values\n",
    "    not_unknown = df['precinct_number'] != -99.0\n",
    "    not_nan = df['precinct_number'] == df['precinct_number']\n",
    "    df = df[not_unknown & not_nan]\n",
    "    #drop time and date missing values\n",
    "    df = df[df['time'] == df['time']]\n",
    "    df = df[df['date'] == df['date']]\n",
    "    return df"
   ]
  },
  {
   "cell_type": "code",
   "execution_count": 17,
   "metadata": {
    "ExecuteTime": {
     "end_time": "2020-12-02T09:00:21.278409Z",
     "start_time": "2020-12-02T09:00:16.263007Z"
    }
   },
   "outputs": [],
   "source": [
    "# apply drop NaN\n",
    "df = drop_miss(df)"
   ]
  },
  {
   "cell_type": "code",
   "execution_count": 18,
   "metadata": {
    "ExecuteTime": {
     "end_time": "2020-12-02T09:00:21.291914Z",
     "start_time": "2020-12-02T09:00:21.281158Z"
    }
   },
   "outputs": [],
   "source": [
    "from datetime import datetime\n",
    "\n",
    "def to_iso_format(df, column):\n",
    "    \"\"\"Converts pd.series of strings to ISO datetime format\"\"\"\n",
    "    series = df[column].apply(lambda x: \\\n",
    "                                  datetime.strptime(x, '%m/%d/%Y')) # converts to datetime, then ISO format\n",
    "    return series"
   ]
  },
  {
   "cell_type": "code",
   "execution_count": 55,
   "metadata": {
    "ExecuteTime": {
     "end_time": "2020-12-02T09:36:55.673943Z",
     "start_time": "2020-12-02T09:36:55.666499Z"
    }
   },
   "outputs": [],
   "source": [
    "from datetime import datetime\n",
    "\n",
    "def to_date_format(self):\n",
    "    \"\"\"Converts column 'date' from string to datetime and returns filtered df (complaints from 2007 onwards)\"\"\"\n",
    "    df = self.data.copy()\n",
    "    df['date'] = df['date'].apply(lambda x: \\\n",
    "                                  datetime.strptime(x, '%m/%d/%Y')) # converts to datetime, then ISO format\n",
    "    df = df[df['date'] > datetime(2006, 12, 31, 0, 0)]\n",
    "    return df"
   ]
  },
  {
   "cell_type": "code",
   "execution_count": 19,
   "metadata": {
    "ExecuteTime": {
     "end_time": "2020-12-02T09:01:19.466552Z",
     "start_time": "2020-12-02T09:00:21.296731Z"
    }
   },
   "outputs": [],
   "source": [
    "def to_date_format_test(s):\n",
    "    \"\"\"Convert a single US date to ISO format\"\"\"\n",
    "    return datetime.strptime(s, '%m/%d/%Y')\n",
    "\n",
    "# Create a new feature iso_date \n",
    "df[\"iso_date\"] = df[\"date\"].apply(to_date_format)"
   ]
  },
  {
   "cell_type": "code",
   "execution_count": 20,
   "metadata": {
    "ExecuteTime": {
     "end_time": "2020-12-02T09:01:19.496323Z",
     "start_time": "2020-12-02T09:01:19.469524Z"
    }
   },
   "outputs": [
    {
     "data": {
      "text/plain": [
       "datetime.datetime"
      ]
     },
     "execution_count": 20,
     "metadata": {},
     "output_type": "execute_result"
    }
   ],
   "source": [
    "type(df['iso_date'][0])"
   ]
  },
  {
   "cell_type": "code",
   "execution_count": 21,
   "metadata": {
    "ExecuteTime": {
     "end_time": "2020-12-02T09:01:19.509679Z",
     "start_time": "2020-12-02T09:01:19.499004Z"
    }
   },
   "outputs": [
    {
     "data": {
      "text/plain": [
       "datetime.datetime(2015, 2, 11, 0, 0)"
      ]
     },
     "execution_count": 21,
     "metadata": {},
     "output_type": "execute_result"
    }
   ],
   "source": [
    "df['iso_date'][0]"
   ]
  },
  {
   "cell_type": "code",
   "execution_count": 22,
   "metadata": {
    "ExecuteTime": {
     "end_time": "2020-12-02T09:01:20.358151Z",
     "start_time": "2020-12-02T09:01:19.511857Z"
    }
   },
   "outputs": [],
   "source": [
    "test_df = df.copy()"
   ]
  },
  {
   "cell_type": "code",
   "execution_count": 23,
   "metadata": {
    "ExecuteTime": {
     "end_time": "2020-12-02T09:01:20.378021Z",
     "start_time": "2020-12-02T09:01:20.367808Z"
    }
   },
   "outputs": [
    {
     "data": {
      "text/plain": [
       "str"
      ]
     },
     "execution_count": 23,
     "metadata": {},
     "output_type": "execute_result"
    }
   ],
   "source": [
    "type(test_df['date'][0])"
   ]
  },
  {
   "cell_type": "code",
   "execution_count": 24,
   "metadata": {
    "ExecuteTime": {
     "end_time": "2020-12-02T09:01:20.391783Z",
     "start_time": "2020-12-02T09:01:20.382005Z"
    }
   },
   "outputs": [
    {
     "data": {
      "text/plain": [
       "'02/11/2015'"
      ]
     },
     "execution_count": 24,
     "metadata": {},
     "output_type": "execute_result"
    }
   ],
   "source": [
    "test_df['date'][0]"
   ]
  },
  {
   "cell_type": "code",
   "execution_count": 25,
   "metadata": {
    "ExecuteTime": {
     "end_time": "2020-12-02T09:02:23.558173Z",
     "start_time": "2020-12-02T09:01:20.394962Z"
    }
   },
   "outputs": [],
   "source": [
    "test_df['date'] = to_iso_format(df, 'date')"
   ]
  },
  {
   "cell_type": "code",
   "execution_count": 26,
   "metadata": {
    "ExecuteTime": {
     "end_time": "2020-12-02T09:02:23.572555Z",
     "start_time": "2020-12-02T09:02:23.560420Z"
    }
   },
   "outputs": [
    {
     "data": {
      "text/plain": [
       "datetime.datetime(2015, 2, 11, 0, 0)"
      ]
     },
     "execution_count": 26,
     "metadata": {},
     "output_type": "execute_result"
    }
   ],
   "source": [
    "test_df['date'][0]"
   ]
  },
  {
   "cell_type": "code",
   "execution_count": 27,
   "metadata": {
    "ExecuteTime": {
     "end_time": "2020-12-02T09:02:23.581967Z",
     "start_time": "2020-12-02T09:02:23.576702Z"
    }
   },
   "outputs": [
    {
     "data": {
      "text/plain": [
       "datetime.datetime"
      ]
     },
     "execution_count": 27,
     "metadata": {},
     "output_type": "execute_result"
    }
   ],
   "source": [
    "type(test_df['date'][0])"
   ]
  },
  {
   "cell_type": "code",
   "execution_count": 28,
   "metadata": {
    "ExecuteTime": {
     "end_time": "2020-12-02T09:02:24.729157Z",
     "start_time": "2020-12-02T09:02:23.583873Z"
    }
   },
   "outputs": [
    {
     "data": {
      "text/plain": [
       "<class 'datetime.datetime'>    6979589\n",
       "Name: date, dtype: int64"
      ]
     },
     "execution_count": 28,
     "metadata": {},
     "output_type": "execute_result"
    }
   ],
   "source": [
    "test_df['date'].apply(type).value_counts()"
   ]
  },
  {
   "cell_type": "code",
   "execution_count": 53,
   "metadata": {
    "ExecuteTime": {
     "end_time": "2020-12-02T09:29:52.160577Z",
     "start_time": "2020-12-02T09:29:41.114572Z"
    }
   },
   "outputs": [],
   "source": [
    "# Filter df\n",
    "modern_df = test_df.copy()\n",
    "modern_df = modern_df[test_df['date'] > datetime(2006, 12, 31, 0, 0)]"
   ]
  },
  {
   "cell_type": "code",
   "execution_count": 51,
   "metadata": {
    "ExecuteTime": {
     "end_time": "2020-12-02T09:28:17.766247Z",
     "start_time": "2020-12-02T09:28:17.759757Z"
    }
   },
   "outputs": [
    {
     "data": {
      "text/plain": [
       "True"
      ]
     },
     "execution_count": 51,
     "metadata": {},
     "output_type": "execute_result"
    }
   ],
   "source": [
    "test_df['date'][0] > datetime(2006, 12, 31, 0, 0)"
   ]
  },
  {
   "cell_type": "code",
   "execution_count": 52,
   "metadata": {
    "ExecuteTime": {
     "end_time": "2020-12-02T09:28:52.514150Z",
     "start_time": "2020-12-02T09:28:52.494283Z"
    }
   },
   "outputs": [
    {
     "data": {
      "text/plain": [
       "False"
      ]
     },
     "execution_count": 52,
     "metadata": {},
     "output_type": "execute_result"
    }
   ],
   "source": [
    "datetime(1015, 2, 14, 0, 0) > datetime(2006, 12, 31, 0, 0)"
   ]
  },
  {
   "cell_type": "code",
   "execution_count": null,
   "metadata": {},
   "outputs": [],
   "source": [
    "np.sort(modern_df['date'].unique())"
   ]
  },
  {
   "cell_type": "code",
   "execution_count": 54,
   "metadata": {
    "ExecuteTime": {
     "end_time": "2020-12-02T09:29:52.789769Z",
     "start_time": "2020-12-02T09:29:52.167075Z"
    }
   },
   "outputs": [
    {
     "data": {
      "text/plain": [
       "array([datetime.datetime(2007, 1, 1, 0, 0),\n",
       "       datetime.datetime(2007, 1, 2, 0, 0),\n",
       "       datetime.datetime(2007, 1, 3, 0, 0), ...,\n",
       "       datetime.datetime(2019, 12, 29, 0, 0),\n",
       "       datetime.datetime(2019, 12, 30, 0, 0),\n",
       "       datetime.datetime(2019, 12, 31, 0, 0)], dtype=object)"
      ]
     },
     "execution_count": 54,
     "metadata": {},
     "output_type": "execute_result"
    }
   ],
   "source": [
    "import numpy as np\n",
    "\n",
    "np.sort(modern_df['date'].unique())"
   ]
  },
  {
   "cell_type": "code",
   "execution_count": 31,
   "metadata": {
    "ExecuteTime": {
     "end_time": "2020-12-02T09:02:43.526303Z",
     "start_time": "2020-12-02T09:02:37.455110Z"
    },
    "scrolled": false
   },
   "outputs": [
    {
     "data": {
      "text/plain": [
       "(548288, 23)"
      ]
     },
     "execution_count": 31,
     "metadata": {},
     "output_type": "execute_result"
    }
   ],
   "source": [
    "other_df = test_df.copy()\n",
    "other_df[test_df[\"iso_date\"] < datetime(2007, 1, 1, 0, 0)].shape"
   ]
  },
  {
   "cell_type": "code",
   "execution_count": 32,
   "metadata": {
    "ExecuteTime": {
     "end_time": "2020-12-02T09:02:46.618124Z",
     "start_time": "2020-12-02T09:02:43.532184Z"
    }
   },
   "outputs": [
    {
     "data": {
      "text/plain": [
       "31"
      ]
     },
     "execution_count": 32,
     "metadata": {},
     "output_type": "execute_result"
    }
   ],
   "source": [
    "df['date'].str.contains('1018').sum() # date with wrong year values to be filtered out"
   ]
  },
  {
   "cell_type": "code",
   "execution_count": 33,
   "metadata": {
    "ExecuteTime": {
     "end_time": "2020-12-02T09:02:51.475085Z",
     "start_time": "2020-12-02T09:02:46.623315Z"
    }
   },
   "outputs": [
    {
     "data": {
      "text/plain": [
       "(155, 23)"
      ]
     },
     "execution_count": 33,
     "metadata": {},
     "output_type": "execute_result"
    }
   ],
   "source": [
    "error_df = test_df.copy()\n",
    "error_df[test_df[\"iso_date\"] < datetime(1900, 1, 1, 0, 0)].shape # 155 rows with wrong vbalues"
   ]
  },
  {
   "cell_type": "markdown",
   "metadata": {},
   "source": [
    "## Data Viz: Time"
   ]
  },
  {
   "cell_type": "markdown",
   "metadata": {},
   "source": [
    "### Generate New Columns"
   ]
  },
  {
   "cell_type": "code",
   "execution_count": 35,
   "metadata": {
    "ExecuteTime": {
     "end_time": "2020-12-02T09:02:54.149233Z",
     "start_time": "2020-12-02T09:02:52.576989Z"
    }
   },
   "outputs": [],
   "source": [
    "viz_df = df.copy()"
   ]
  },
  {
   "cell_type": "markdown",
   "metadata": {},
   "source": [
    "### Group by Year"
   ]
  },
  {
   "cell_type": "markdown",
   "metadata": {},
   "source": [
    "### Group by Month"
   ]
  },
  {
   "cell_type": "markdown",
   "metadata": {},
   "source": [
    "### Group by Week"
   ]
  },
  {
   "cell_type": "markdown",
   "metadata": {},
   "source": [
    "### Group by DOW"
   ]
  },
  {
   "cell_type": "markdown",
   "metadata": {},
   "source": [
    "### Group by Hour"
   ]
  }
 ],
 "metadata": {
  "kernelspec": {
   "display_name": "Python 3",
   "language": "python",
   "name": "python3"
  },
  "language_info": {
   "codemirror_mode": {
    "name": "ipython",
    "version": 3
   },
   "file_extension": ".py",
   "mimetype": "text/x-python",
   "name": "python",
   "nbconvert_exporter": "python",
   "pygments_lexer": "ipython3",
   "version": "3.8.6"
  },
  "toc": {
   "base_numbering": 1,
   "nav_menu": {},
   "number_sections": true,
   "sideBar": true,
   "skip_h1_title": false,
   "title_cell": "Table of Contents",
   "title_sidebar": "Contents",
   "toc_cell": false,
   "toc_position": {},
   "toc_section_display": true,
   "toc_window_display": false
  }
 },
 "nbformat": 4,
 "nbformat_minor": 4
}
