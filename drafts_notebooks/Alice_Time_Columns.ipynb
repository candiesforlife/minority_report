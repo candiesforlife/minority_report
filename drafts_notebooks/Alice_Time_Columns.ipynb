{
 "cells": [
  {
   "cell_type": "markdown",
   "metadata": {},
   "source": [
    "## Debugging Clean_Data DateTime"
   ]
  },
  {
   "cell_type": "code",
   "execution_count": 1,
   "metadata": {
    "ExecuteTime": {
     "end_time": "2020-12-02T13:43:38.063523Z",
     "start_time": "2020-12-02T13:43:16.434569Z"
    }
   },
   "outputs": [],
   "source": [
    "import pandas as pd\n",
    "\n",
    "df = pd.read_csv('../raw_data/data.csv', low_memory = False)"
   ]
  },
  {
   "cell_type": "code",
   "execution_count": 2,
   "metadata": {
    "ExecuteTime": {
     "end_time": "2020-12-02T13:43:38.085982Z",
     "start_time": "2020-12-02T13:43:38.067708Z"
    }
   },
   "outputs": [
    {
     "data": {
      "text/plain": [
       "(6983207, 22)"
      ]
     },
     "execution_count": 2,
     "metadata": {},
     "output_type": "execute_result"
    }
   ],
   "source": [
    "df.shape"
   ]
  },
  {
   "cell_type": "code",
   "execution_count": 3,
   "metadata": {
    "ExecuteTime": {
     "end_time": "2020-12-02T13:43:38.104984Z",
     "start_time": "2020-12-02T13:43:38.090917Z"
    }
   },
   "outputs": [],
   "source": [
    "def drop_nan(df):\n",
    "    '''\n",
    "    Returns a dataframe without NaN\n",
    "    '''\n",
    "    df = df.copy()\n",
    "    #drop precinct missing values\n",
    "    not_unknown = df['precinct_number'] != -99.0\n",
    "    not_nan = df['precinct_number'] == df['precinct_number']\n",
    "    df = df[not_unknown & not_nan]\n",
    "    #drop time and date missing values\n",
    "    df = df[df['time'] == df['time']]\n",
    "    df = df[df['date'] == df['date']]\n",
    "    #drop offense_type and crime_completed\n",
    "    df = df[df['offense_type'] == df['offense_type']]\n",
    "    df = df[df['crime_completed'] == df['crime_completed']]\n",
    "    return df"
   ]
  },
  {
   "cell_type": "code",
   "execution_count": 4,
   "metadata": {
    "ExecuteTime": {
     "end_time": "2020-12-02T13:43:48.014460Z",
     "start_time": "2020-12-02T13:43:38.116672Z"
    }
   },
   "outputs": [],
   "source": [
    "df = drop_nan(df)"
   ]
  },
  {
   "cell_type": "code",
   "execution_count": 5,
   "metadata": {
    "ExecuteTime": {
     "end_time": "2020-12-02T13:43:48.032365Z",
     "start_time": "2020-12-02T13:43:48.016437Z"
    }
   },
   "outputs": [],
   "source": [
    "from datetime import datetime\n",
    "\n",
    "def to_date_format(df):\n",
    "    '''\n",
    "    Returns dataframe with 'date' as datetime dtype\n",
    "    Filters dataframe to show only complaints dated 2007 onwards\n",
    "    '''\n",
    "    df = df.copy()\n",
    "    df['date'] = df['date'].apply(lambda x: \\\n",
    "                                datetime.strptime(x, '%m/%d/%Y'))\n",
    "    print(type(df['date'][345_687]))\n",
    "    df = df[df['date'] > datetime(2006, 12, 31, 0, 0)]\n",
    "    print(type(df['date'][345_687]))\n",
    "    df['date'] = df['date'].apply(lambda x: x.date())\n",
    "    print(type(df['date'][345_687]))\n",
    "    return df"
   ]
  },
  {
   "cell_type": "code",
   "execution_count": 7,
   "metadata": {
    "ExecuteTime": {
     "end_time": "2020-12-02T13:44:48.122870Z",
     "start_time": "2020-12-02T13:43:48.053481Z"
    }
   },
   "outputs": [
    {
     "name": "stdout",
     "output_type": "stream",
     "text": [
      "<class 'datetime.datetime'>\n",
      "<class 'datetime.datetime'>\n",
      "<class 'datetime.date'>\n"
     ]
    }
   ],
   "source": [
    "df = to_date_format(df)"
   ]
  },
  {
   "cell_type": "code",
   "execution_count": 8,
   "metadata": {
    "ExecuteTime": {
     "end_time": "2020-12-02T13:44:48.141384Z",
     "start_time": "2020-12-02T13:44:48.128969Z"
    }
   },
   "outputs": [
    {
     "data": {
      "text/plain": [
       "datetime.date"
      ]
     },
     "execution_count": 8,
     "metadata": {},
     "output_type": "execute_result"
    }
   ],
   "source": [
    "type(df['date'][345_687])"
   ]
  },
  {
   "cell_type": "code",
   "execution_count": 9,
   "metadata": {
    "ExecuteTime": {
     "end_time": "2020-12-02T13:44:48.156318Z",
     "start_time": "2020-12-02T13:44:48.149847Z"
    }
   },
   "outputs": [
    {
     "data": {
      "text/plain": [
       "datetime.date(2008, 10, 17)"
      ]
     },
     "execution_count": 9,
     "metadata": {},
     "output_type": "execute_result"
    }
   ],
   "source": [
    "df['date'][345_687]"
   ]
  },
  {
   "cell_type": "code",
   "execution_count": 10,
   "metadata": {
    "ExecuteTime": {
     "end_time": "2020-12-02T13:44:49.234894Z",
     "start_time": "2020-12-02T13:44:48.163760Z"
    }
   },
   "outputs": [
    {
     "data": {
      "text/plain": [
       "<class 'datetime.date'>    6416137\n",
       "Name: date, dtype: int64"
      ]
     },
     "execution_count": 10,
     "metadata": {},
     "output_type": "execute_result"
    }
   ],
   "source": [
    "df['date'].apply(type).value_counts()"
   ]
  },
  {
   "cell_type": "markdown",
   "metadata": {},
   "source": [
    "*In jupyter 'Pickle test', merged 'date' and 'time' into period column so easier to manipulate and exported as pickle (so datetime format is preserved: dtype is timestamp now!)*"
   ]
  },
  {
   "cell_type": "markdown",
   "metadata": {},
   "source": [
    "## Data Viz & Modelling: Time Columns"
   ]
  },
  {
   "cell_type": "markdown",
   "metadata": {},
   "source": [
    "### Load DataFrame + Imports"
   ]
  },
  {
   "cell_type": "code",
   "execution_count": 54,
   "metadata": {
    "ExecuteTime": {
     "end_time": "2020-12-02T17:00:56.182130Z",
     "start_time": "2020-12-02T17:00:56.177219Z"
    }
   },
   "outputs": [],
   "source": [
    "import pickle\n",
    "from datetime import datetime"
   ]
  },
  {
   "cell_type": "code",
   "execution_count": 51,
   "metadata": {
    "ExecuteTime": {
     "end_time": "2020-12-02T17:00:15.109841Z",
     "start_time": "2020-12-02T17:00:08.453674Z"
    }
   },
   "outputs": [],
   "source": [
    "with open('../raw_data/clean.pickle', 'rb') as f:\n",
    "    df = pickle.load(f)"
   ]
  },
  {
   "cell_type": "code",
   "execution_count": 52,
   "metadata": {
    "ExecuteTime": {
     "end_time": "2020-12-02T17:00:18.413416Z",
     "start_time": "2020-12-02T17:00:18.353631Z"
    }
   },
   "outputs": [
    {
     "data": {
      "text/html": [
       "<div>\n",
       "<style scoped>\n",
       "    .dataframe tbody tr th:only-of-type {\n",
       "        vertical-align: middle;\n",
       "    }\n",
       "\n",
       "    .dataframe tbody tr th {\n",
       "        vertical-align: top;\n",
       "    }\n",
       "\n",
       "    .dataframe thead th {\n",
       "        text-align: right;\n",
       "    }\n",
       "</style>\n",
       "<table border=\"1\" class=\"dataframe\">\n",
       "  <thead>\n",
       "    <tr style=\"text-align: right;\">\n",
       "      <th></th>\n",
       "      <th>complaint_id</th>\n",
       "      <th>precinct_number</th>\n",
       "      <th>offense_type</th>\n",
       "      <th>crime_completed</th>\n",
       "      <th>offense_level</th>\n",
       "      <th>premise_desc</th>\n",
       "      <th>premise</th>\n",
       "      <th>jurisdiction</th>\n",
       "      <th>park_name</th>\n",
       "      <th>suspect_age</th>\n",
       "      <th>...</th>\n",
       "      <th>suspect_sex</th>\n",
       "      <th>latitude</th>\n",
       "      <th>longitude</th>\n",
       "      <th>metro</th>\n",
       "      <th>victim_age</th>\n",
       "      <th>victim_race</th>\n",
       "      <th>victim_sex</th>\n",
       "      <th>period</th>\n",
       "      <th>borough</th>\n",
       "      <th>patrol_borough</th>\n",
       "    </tr>\n",
       "  </thead>\n",
       "  <tbody>\n",
       "    <tr>\n",
       "      <th>0</th>\n",
       "      <td>325341655</td>\n",
       "      <td>73</td>\n",
       "      <td>OFFENSES AGAINST PUBLIC ADMINI</td>\n",
       "      <td>COMPLETED</td>\n",
       "      <td>MISDEMEANOR</td>\n",
       "      <td>INSIDE</td>\n",
       "      <td>RESIDENCE - PUBLIC HOUSING</td>\n",
       "      <td>N.Y. HOUSING POLICE</td>\n",
       "      <td>NOT PARK</td>\n",
       "      <td>25-44</td>\n",
       "      <td>...</td>\n",
       "      <td>M</td>\n",
       "      <td>40.664239</td>\n",
       "      <td>-73.908425</td>\n",
       "      <td>NOT SUBWAY</td>\n",
       "      <td>&lt;18</td>\n",
       "      <td>BLACK</td>\n",
       "      <td>M</td>\n",
       "      <td>2015-02-11 15:00:00</td>\n",
       "      <td>BROOKLYN</td>\n",
       "      <td>PATROL BORO BKLYN NORTH</td>\n",
       "    </tr>\n",
       "    <tr>\n",
       "      <th>1</th>\n",
       "      <td>393816841</td>\n",
       "      <td>69</td>\n",
       "      <td>ASSAULT 3 &amp; RELATED OFFENSES</td>\n",
       "      <td>COMPLETED</td>\n",
       "      <td>MISDEMEANOR</td>\n",
       "      <td>INSIDE</td>\n",
       "      <td>RESIDENCE-HOUSE</td>\n",
       "      <td>N.Y. POLICE DEPT</td>\n",
       "      <td>NOT PARK</td>\n",
       "      <td>UNKNOWN</td>\n",
       "      <td>...</td>\n",
       "      <td>UNKNOWN</td>\n",
       "      <td>40.644590</td>\n",
       "      <td>-73.892672</td>\n",
       "      <td>NOT SUBWAY</td>\n",
       "      <td>45-64</td>\n",
       "      <td>BLACK</td>\n",
       "      <td>F</td>\n",
       "      <td>2012-03-17 10:30:00</td>\n",
       "      <td>BROOKLYN</td>\n",
       "      <td>PATROL BORO BKLYN SOUTH</td>\n",
       "    </tr>\n",
       "    <tr>\n",
       "      <th>2</th>\n",
       "      <td>802896158</td>\n",
       "      <td>71</td>\n",
       "      <td>HARRASSMENT 2</td>\n",
       "      <td>COMPLETED</td>\n",
       "      <td>VIOLATION</td>\n",
       "      <td>INSIDE</td>\n",
       "      <td>PUBLIC SCHOOL</td>\n",
       "      <td>N.Y. POLICE DEPT</td>\n",
       "      <td>NOT PARK</td>\n",
       "      <td>&lt;18</td>\n",
       "      <td>...</td>\n",
       "      <td>M</td>\n",
       "      <td>40.658758</td>\n",
       "      <td>-73.942435</td>\n",
       "      <td>NOT SUBWAY</td>\n",
       "      <td>18-24</td>\n",
       "      <td>BLACK</td>\n",
       "      <td>M</td>\n",
       "      <td>2016-10-27 13:48:00</td>\n",
       "      <td>BROOKLYN</td>\n",
       "      <td>PATROL BORO BKLYN SOUTH</td>\n",
       "    </tr>\n",
       "    <tr>\n",
       "      <th>3</th>\n",
       "      <td>633812343</td>\n",
       "      <td>112</td>\n",
       "      <td>RAPE</td>\n",
       "      <td>COMPLETED</td>\n",
       "      <td>FELONY</td>\n",
       "      <td>INSIDE</td>\n",
       "      <td>RESIDENCE - APT. HOUSE</td>\n",
       "      <td>N.Y. POLICE DEPT</td>\n",
       "      <td>NOT PARK</td>\n",
       "      <td>25-44</td>\n",
       "      <td>...</td>\n",
       "      <td>M</td>\n",
       "      <td>40.722364</td>\n",
       "      <td>-73.851474</td>\n",
       "      <td>NOT SUBWAY</td>\n",
       "      <td>25-44</td>\n",
       "      <td>WHITE</td>\n",
       "      <td>F</td>\n",
       "      <td>2014-11-27 19:00:00</td>\n",
       "      <td>QUEENS</td>\n",
       "      <td>PATROL BORO QUEENS NORTH</td>\n",
       "    </tr>\n",
       "    <tr>\n",
       "      <th>4</th>\n",
       "      <td>300349533</td>\n",
       "      <td>24</td>\n",
       "      <td>GRAND LARCENY</td>\n",
       "      <td>COMPLETED</td>\n",
       "      <td>FELONY</td>\n",
       "      <td>INSIDE</td>\n",
       "      <td>DOCTOR/DENTIST OFFICE</td>\n",
       "      <td>N.Y. POLICE DEPT</td>\n",
       "      <td>NOT PARK</td>\n",
       "      <td>UNKNOWN</td>\n",
       "      <td>...</td>\n",
       "      <td>UNKNOWN</td>\n",
       "      <td>40.793465</td>\n",
       "      <td>-73.968950</td>\n",
       "      <td>NOT SUBWAY</td>\n",
       "      <td>45-64</td>\n",
       "      <td>WHITE</td>\n",
       "      <td>F</td>\n",
       "      <td>2013-12-11 13:30:00</td>\n",
       "      <td>MANHATTAN</td>\n",
       "      <td>PATROL BORO MAN NORTH</td>\n",
       "    </tr>\n",
       "  </tbody>\n",
       "</table>\n",
       "<p>5 rows × 21 columns</p>\n",
       "</div>"
      ],
      "text/plain": [
       "   complaint_id  precinct_number                    offense_type  \\\n",
       "0     325341655               73  OFFENSES AGAINST PUBLIC ADMINI   \n",
       "1     393816841               69    ASSAULT 3 & RELATED OFFENSES   \n",
       "2     802896158               71                   HARRASSMENT 2   \n",
       "3     633812343              112                            RAPE   \n",
       "4     300349533               24                   GRAND LARCENY   \n",
       "\n",
       "  crime_completed offense_level premise_desc                     premise  \\\n",
       "0       COMPLETED   MISDEMEANOR       INSIDE  RESIDENCE - PUBLIC HOUSING   \n",
       "1       COMPLETED   MISDEMEANOR       INSIDE             RESIDENCE-HOUSE   \n",
       "2       COMPLETED     VIOLATION       INSIDE               PUBLIC SCHOOL   \n",
       "3       COMPLETED        FELONY       INSIDE      RESIDENCE - APT. HOUSE   \n",
       "4       COMPLETED        FELONY       INSIDE       DOCTOR/DENTIST OFFICE   \n",
       "\n",
       "          jurisdiction park_name suspect_age  ... suspect_sex   latitude  \\\n",
       "0  N.Y. HOUSING POLICE  NOT PARK       25-44  ...           M  40.664239   \n",
       "1     N.Y. POLICE DEPT  NOT PARK     UNKNOWN  ...     UNKNOWN  40.644590   \n",
       "2     N.Y. POLICE DEPT  NOT PARK         <18  ...           M  40.658758   \n",
       "3     N.Y. POLICE DEPT  NOT PARK       25-44  ...           M  40.722364   \n",
       "4     N.Y. POLICE DEPT  NOT PARK     UNKNOWN  ...     UNKNOWN  40.793465   \n",
       "\n",
       "   longitude        metro victim_age victim_race victim_sex  \\\n",
       "0 -73.908425  NOT SUBWAY         <18       BLACK          M   \n",
       "1 -73.892672  NOT SUBWAY       45-64       BLACK          F   \n",
       "2 -73.942435  NOT SUBWAY       18-24       BLACK          M   \n",
       "3 -73.851474  NOT SUBWAY       25-44       WHITE          F   \n",
       "4 -73.968950  NOT SUBWAY       45-64       WHITE          F   \n",
       "\n",
       "                period    borough            patrol_borough  \n",
       "0  2015-02-11 15:00:00   BROOKLYN   PATROL BORO BKLYN NORTH  \n",
       "1  2012-03-17 10:30:00   BROOKLYN   PATROL BORO BKLYN SOUTH  \n",
       "2  2016-10-27 13:48:00   BROOKLYN   PATROL BORO BKLYN SOUTH  \n",
       "3  2014-11-27 19:00:00     QUEENS  PATROL BORO QUEENS NORTH  \n",
       "4  2013-12-11 13:30:00  MANHATTAN     PATROL BORO MAN NORTH  \n",
       "\n",
       "[5 rows x 21 columns]"
      ]
     },
     "execution_count": 52,
     "metadata": {},
     "output_type": "execute_result"
    }
   ],
   "source": [
    "df.head()"
   ]
  },
  {
   "cell_type": "code",
   "execution_count": 53,
   "metadata": {
    "ExecuteTime": {
     "end_time": "2020-12-02T17:00:20.428593Z",
     "start_time": "2020-12-02T17:00:20.406567Z"
    }
   },
   "outputs": [
    {
     "data": {
      "text/plain": [
       "datetime.datetime"
      ]
     },
     "execution_count": 53,
     "metadata": {},
     "output_type": "execute_result"
    }
   ],
   "source": [
    "type(df['period'][0])"
   ]
  },
  {
   "cell_type": "markdown",
   "metadata": {},
   "source": [
    "### Generate New Columns"
   ]
  },
  {
   "cell_type": "markdown",
   "metadata": {},
   "source": [
    "#### Year Column"
   ]
  },
  {
   "cell_type": "code",
   "execution_count": 55,
   "metadata": {
    "ExecuteTime": {
     "end_time": "2020-12-02T17:27:04.734591Z",
     "start_time": "2020-12-02T17:27:01.629618Z"
    }
   },
   "outputs": [],
   "source": [
    "df['year'] = df['period'].apply(lambda x: x.year)"
   ]
  },
  {
   "cell_type": "code",
   "execution_count": 56,
   "metadata": {
    "ExecuteTime": {
     "end_time": "2020-12-02T17:27:09.038212Z",
     "start_time": "2020-12-02T17:27:06.475512Z"
    }
   },
   "outputs": [],
   "source": [
    "df['month'] = df['period'].apply(lambda x: x.month)"
   ]
  },
  {
   "cell_type": "code",
   "execution_count": 57,
   "metadata": {
    "ExecuteTime": {
     "end_time": "2020-12-02T17:27:11.866242Z",
     "start_time": "2020-12-02T17:27:09.044582Z"
    }
   },
   "outputs": [],
   "source": [
    "df['day_of_week'] = df['period'].apply(lambda x: x.isoweekday()) # 1 is Monday, 7 is Sunday"
   ]
  },
  {
   "cell_type": "code",
   "execution_count": 63,
   "metadata": {
    "ExecuteTime": {
     "end_time": "2020-12-02T17:30:11.273112Z",
     "start_time": "2020-12-02T17:30:08.417131Z"
    }
   },
   "outputs": [],
   "source": [
    "df['hour'] = df['period'].apply(lambda x: x.hour)"
   ]
  },
  {
   "cell_type": "code",
   "execution_count": 66,
   "metadata": {
    "ExecuteTime": {
     "end_time": "2020-12-02T17:34:18.427265Z",
     "start_time": "2020-12-02T17:34:18.393754Z"
    }
   },
   "outputs": [],
   "source": [
    "new_date = df['period'][2].replace(minute = 0, second = 0)"
   ]
  }
 ],
 "metadata": {
  "kernelspec": {
   "display_name": "Python 3",
   "language": "python",
   "name": "python3"
  },
  "language_info": {
   "codemirror_mode": {
    "name": "ipython",
    "version": 3
   },
   "file_extension": ".py",
   "mimetype": "text/x-python",
   "name": "python",
   "nbconvert_exporter": "python",
   "pygments_lexer": "ipython3",
   "version": "3.8.6"
  },
  "toc": {
   "base_numbering": 1,
   "nav_menu": {},
   "number_sections": true,
   "sideBar": true,
   "skip_h1_title": false,
   "title_cell": "Table of Contents",
   "title_sidebar": "Contents",
   "toc_cell": false,
   "toc_position": {},
   "toc_section_display": true,
   "toc_window_display": false
  }
 },
 "nbformat": 4,
 "nbformat_minor": 4
}
