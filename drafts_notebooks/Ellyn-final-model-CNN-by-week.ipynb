{
 "cells": [
  {
   "cell_type": "code",
   "execution_count": 1,
   "metadata": {
    "ExecuteTime": {
     "end_time": "2020-12-09T13:43:06.986342Z",
     "start_time": "2020-12-09T13:42:59.326866Z"
    }
   },
   "outputs": [],
   "source": [
    "import pickle\n",
    "import minority_report\n",
    "import os\n",
    "import pandas as pd\n",
    "import numpy as np\n",
    "import pickle\n",
    "import itertools\n",
    "\n",
    "import matplotlib.pyplot as plt\n",
    "\n",
    "from datetime import datetime\n",
    "from scipy.ndimage import gaussian_filter\n",
    "\n",
    "from sklearn.model_selection import train_test_split\n",
    "\n",
    "from tensorflow.keras.callbacks import EarlyStopping\n",
    "from tensorflow.keras import models, layers"
   ]
  },
  {
   "cell_type": "markdown",
   "metadata": {},
   "source": [
    "### By week with no tuning"
   ]
  },
  {
   "cell_type": "code",
   "execution_count": 2,
   "metadata": {
    "ExecuteTime": {
     "end_time": "2020-12-09T13:43:07.002701Z",
     "start_time": "2020-12-09T13:43:06.990860Z"
    }
   },
   "outputs": [],
   "source": [
    "\n",
    "X_train_path = ('../raw_data/X_train_by_week.pickle')\n",
    "X_test_path = ('../raw_data/X_test_by_week.pickle')\n",
    "y_train_path = ('../raw_data/y_train_by_week.pickle')\n",
    "y_test_path = ('../raw_data/y_test_by_week.pickle')\n",
    "\n"
   ]
  },
  {
   "cell_type": "code",
   "execution_count": 3,
   "metadata": {
    "ExecuteTime": {
     "end_time": "2020-12-09T13:43:07.020460Z",
     "start_time": "2020-12-09T13:43:07.006608Z"
    }
   },
   "outputs": [],
   "source": [
    "with open(X_train_path, 'rb') as f:\n",
    "    X_train = pickle.load(f)\n",
    "with open(X_test_path, 'rb') as f:\n",
    "    X_test = pickle.load(f)\n",
    "with open(y_train_path, 'rb') as f:\n",
    "    y_train = pickle.load(f)\n",
    "with open(y_test_path, 'rb') as f:\n",
    "    y_test = pickle.load(f)"
   ]
  },
  {
   "cell_type": "code",
   "execution_count": 35,
   "metadata": {
    "ExecuteTime": {
     "end_time": "2020-12-09T14:01:24.003525Z",
     "start_time": "2020-12-09T14:01:00.424396Z"
    }
   },
   "outputs": [
    {
     "name": "stdout",
     "output_type": "stream",
     "text": [
      "initializing model\n",
      "adding conv3D 1\n",
      "adding MaxPooling\n",
      "Flattening\n",
      "Adding Dense Layer\n",
      "Reshaping\n",
      "Compiling\n",
      "Done !\n"
     ]
    },
    {
     "data": {
      "text/plain": [
       "<tensorflow.python.keras.engine.sequential.Sequential at 0x14416daf0>"
      ]
     },
     "execution_count": 35,
     "metadata": {},
     "output_type": "execute_result"
    }
   ],
   "source": [
    "print('initializing model')\n",
    "model = models.Sequential()\n",
    "print('adding conv3D 1')\n",
    "model.add(layers.Conv3D(64, kernel_size = (4,4,4), activation = 'relu', padding='same',\n",
    "                    input_shape = (64, 22, 8,1)))\n",
    "\n",
    "print('adding MaxPooling')\n",
    "\n",
    "model.add(layers.MaxPooling3D(2))\n",
    "print('Flattening')\n",
    "model.add(layers.Flatten())\n",
    "print('Adding Dense Layer')\n",
    "model.add(layers.Dense(64*22*4, activation = 'relu'))\n",
    "print('Reshaping')\n",
    "model.add(layers.Reshape((64,22,4)))\n",
    "print('Compiling')\n",
    "model.compile(loss ='mse',\n",
    "             optimizer='adam',\n",
    "             metrics='mae')\n",
    "print('Done !')\n",
    "model"
   ]
  },
  {
   "cell_type": "code",
   "execution_count": 36,
   "metadata": {
    "ExecuteTime": {
     "end_time": "2020-12-09T14:01:25.149981Z",
     "start_time": "2020-12-09T14:01:25.113866Z"
    }
   },
   "outputs": [
    {
     "data": {
      "text/plain": [
       "(16, 64, 22, 8, 1)"
      ]
     },
     "execution_count": 36,
     "metadata": {},
     "output_type": "execute_result"
    }
   ],
   "source": [
    "X_train.shape"
   ]
  },
  {
   "cell_type": "code",
   "execution_count": 37,
   "metadata": {
    "ExecuteTime": {
     "end_time": "2020-12-09T14:01:26.085998Z",
     "start_time": "2020-12-09T14:01:26.078713Z"
    }
   },
   "outputs": [
    {
     "data": {
      "text/plain": [
       "64"
      ]
     },
     "execution_count": 37,
     "metadata": {},
     "output_type": "execute_result"
    }
   ],
   "source": [
    "X_train.shape[1]"
   ]
  },
  {
   "cell_type": "code",
   "execution_count": 38,
   "metadata": {
    "ExecuteTime": {
     "end_time": "2020-12-09T14:01:26.788550Z",
     "start_time": "2020-12-09T14:01:26.781828Z"
    }
   },
   "outputs": [
    {
     "data": {
      "text/plain": [
       "22"
      ]
     },
     "execution_count": 38,
     "metadata": {},
     "output_type": "execute_result"
    }
   ],
   "source": [
    "X_train.shape[2]"
   ]
  },
  {
   "cell_type": "code",
   "execution_count": 8,
   "metadata": {
    "ExecuteTime": {
     "end_time": "2020-12-09T13:43:25.930651Z",
     "start_time": "2020-12-09T13:43:25.922351Z"
    }
   },
   "outputs": [
    {
     "data": {
      "text/plain": [
       "22"
      ]
     },
     "execution_count": 8,
     "metadata": {},
     "output_type": "execute_result"
    }
   ],
   "source": [
    "X_train.shape[2]"
   ]
  },
  {
   "cell_type": "code",
   "execution_count": 39,
   "metadata": {
    "ExecuteTime": {
     "end_time": "2020-12-09T14:02:32.813688Z",
     "start_time": "2020-12-09T14:01:30.156258Z"
    }
   },
   "outputs": [
    {
     "name": "stdout",
     "output_type": "stream",
     "text": [
      "Epoch 1/100\n"
     ]
    },
    {
     "ename": "KeyboardInterrupt",
     "evalue": "",
     "output_type": "error",
     "traceback": [
      "\u001b[0;31m--------------------------------------------------------------------------\u001b[0m",
      "\u001b[0;31mKeyboardInterrupt\u001b[0m                        Traceback (most recent call last)",
      "\u001b[0;32m<ipython-input-39-034bc10991d5>\u001b[0m in \u001b[0;36m<module>\u001b[0;34m\u001b[0m\n\u001b[1;32m      2\u001b[0m \u001b[0mepochs\u001b[0m\u001b[0;34m=\u001b[0m \u001b[0;36m100\u001b[0m\u001b[0;34m\u001b[0m\u001b[0;34m\u001b[0m\u001b[0m\n\u001b[1;32m      3\u001b[0m \u001b[0mes\u001b[0m \u001b[0;34m=\u001b[0m \u001b[0mEarlyStopping\u001b[0m\u001b[0;34m(\u001b[0m\u001b[0mpatience\u001b[0m \u001b[0;34m=\u001b[0m \u001b[0;36m5\u001b[0m\u001b[0;34m,\u001b[0m \u001b[0mrestore_best_weights\u001b[0m\u001b[0;34m=\u001b[0m\u001b[0;32mTrue\u001b[0m\u001b[0;34m)\u001b[0m\u001b[0;34m\u001b[0m\u001b[0;34m\u001b[0m\u001b[0m\n\u001b[0;32m----> 4\u001b[0;31m \u001b[0mmodel\u001b[0m\u001b[0;34m.\u001b[0m\u001b[0mfit\u001b[0m\u001b[0;34m(\u001b[0m\u001b[0mX_train\u001b[0m\u001b[0;34m,\u001b[0m \u001b[0my_train\u001b[0m\u001b[0;34m,\u001b[0m\u001b[0mbatch_size\u001b[0m \u001b[0;34m=\u001b[0m \u001b[0;36m32\u001b[0m\u001b[0;34m,\u001b[0m \u001b[0mepochs\u001b[0m \u001b[0;34m=\u001b[0m \u001b[0mepochs\u001b[0m\u001b[0;34m,\u001b[0m \u001b[0mvalidation_split\u001b[0m \u001b[0;34m=\u001b[0m \u001b[0;36m0.3\u001b[0m\u001b[0;34m,\u001b[0m\u001b[0mcallbacks\u001b[0m \u001b[0;34m=\u001b[0m \u001b[0mes\u001b[0m\u001b[0;34m)\u001b[0m\u001b[0;34m\u001b[0m\u001b[0;34m\u001b[0m\u001b[0m\n\u001b[0m\u001b[1;32m      5\u001b[0m \u001b[0mmodel\u001b[0m\u001b[0;34m\u001b[0m\u001b[0;34m\u001b[0m\u001b[0m\n",
      "\u001b[0;32m~/.pyenv/versions/3.8.5/envs/minority_report/lib/python3.8/site-packages/tensorflow/python/keras/engine/training.py\u001b[0m in \u001b[0;36mfit\u001b[0;34m(self, x, y, batch_size, epochs, verbose, callbacks, validation_split, validation_data, shuffle, class_weight, sample_weight, initial_epoch, steps_per_epoch, validation_steps, validation_batch_size, validation_freq, max_queue_size, workers, use_multiprocessing)\u001b[0m\n\u001b[1;32m   1130\u001b[0m                 _r=1):\n\u001b[1;32m   1131\u001b[0m               \u001b[0mcallbacks\u001b[0m\u001b[0;34m.\u001b[0m\u001b[0mon_train_batch_begin\u001b[0m\u001b[0;34m(\u001b[0m\u001b[0mstep\u001b[0m\u001b[0;34m)\u001b[0m\u001b[0;34m\u001b[0m\u001b[0;34m\u001b[0m\u001b[0m\n\u001b[0;32m-> 1132\u001b[0;31m               \u001b[0mtmp_logs\u001b[0m \u001b[0;34m=\u001b[0m \u001b[0mself\u001b[0m\u001b[0;34m.\u001b[0m\u001b[0mtrain_function\u001b[0m\u001b[0;34m(\u001b[0m\u001b[0miterator\u001b[0m\u001b[0;34m)\u001b[0m\u001b[0;34m\u001b[0m\u001b[0;34m\u001b[0m\u001b[0m\n\u001b[0m\u001b[1;32m   1133\u001b[0m               \u001b[0;32mif\u001b[0m \u001b[0mdata_handler\u001b[0m\u001b[0;34m.\u001b[0m\u001b[0mshould_sync\u001b[0m\u001b[0;34m:\u001b[0m\u001b[0;34m\u001b[0m\u001b[0;34m\u001b[0m\u001b[0m\n\u001b[1;32m   1134\u001b[0m                 \u001b[0mcontext\u001b[0m\u001b[0;34m.\u001b[0m\u001b[0masync_wait\u001b[0m\u001b[0;34m(\u001b[0m\u001b[0;34m)\u001b[0m\u001b[0;34m\u001b[0m\u001b[0;34m\u001b[0m\u001b[0m\n",
      "\u001b[0;32m~/.pyenv/versions/3.8.5/envs/minority_report/lib/python3.8/site-packages/tensorflow/python/eager/def_function.py\u001b[0m in \u001b[0;36m__call__\u001b[0;34m(self, *args, **kwds)\u001b[0m\n\u001b[1;32m    785\u001b[0m     \u001b[0mtracing_count\u001b[0m \u001b[0;34m=\u001b[0m \u001b[0mself\u001b[0m\u001b[0;34m.\u001b[0m\u001b[0mexperimental_get_tracing_count\u001b[0m\u001b[0;34m(\u001b[0m\u001b[0;34m)\u001b[0m\u001b[0;34m\u001b[0m\u001b[0;34m\u001b[0m\u001b[0m\n\u001b[1;32m    786\u001b[0m     \u001b[0;32mwith\u001b[0m \u001b[0mtrace\u001b[0m\u001b[0;34m.\u001b[0m\u001b[0mTrace\u001b[0m\u001b[0;34m(\u001b[0m\u001b[0mself\u001b[0m\u001b[0;34m.\u001b[0m\u001b[0m_name\u001b[0m\u001b[0;34m)\u001b[0m \u001b[0;32mas\u001b[0m \u001b[0mtm\u001b[0m\u001b[0;34m:\u001b[0m\u001b[0;34m\u001b[0m\u001b[0;34m\u001b[0m\u001b[0m\n\u001b[0;32m--> 787\u001b[0;31m       \u001b[0mresult\u001b[0m \u001b[0;34m=\u001b[0m \u001b[0mself\u001b[0m\u001b[0;34m.\u001b[0m\u001b[0m_call\u001b[0m\u001b[0;34m(\u001b[0m\u001b[0;34m*\u001b[0m\u001b[0margs\u001b[0m\u001b[0;34m,\u001b[0m \u001b[0;34m**\u001b[0m\u001b[0mkwds\u001b[0m\u001b[0;34m)\u001b[0m\u001b[0;34m\u001b[0m\u001b[0;34m\u001b[0m\u001b[0m\n\u001b[0m\u001b[1;32m    788\u001b[0m       \u001b[0mcompiler\u001b[0m \u001b[0;34m=\u001b[0m \u001b[0;34m\"xla\"\u001b[0m \u001b[0;32mif\u001b[0m \u001b[0mself\u001b[0m\u001b[0;34m.\u001b[0m\u001b[0m_jit_compile\u001b[0m \u001b[0;32melse\u001b[0m \u001b[0;34m\"nonXla\"\u001b[0m\u001b[0;34m\u001b[0m\u001b[0;34m\u001b[0m\u001b[0m\n\u001b[1;32m    789\u001b[0m       \u001b[0mnew_tracing_count\u001b[0m \u001b[0;34m=\u001b[0m \u001b[0mself\u001b[0m\u001b[0;34m.\u001b[0m\u001b[0mexperimental_get_tracing_count\u001b[0m\u001b[0;34m(\u001b[0m\u001b[0;34m)\u001b[0m\u001b[0;34m\u001b[0m\u001b[0;34m\u001b[0m\u001b[0m\n",
      "\u001b[0;32m~/.pyenv/versions/3.8.5/envs/minority_report/lib/python3.8/site-packages/tensorflow/python/eager/def_function.py\u001b[0m in \u001b[0;36m_call\u001b[0;34m(self, *args, **kwds)\u001b[0m\n\u001b[1;32m    846\u001b[0m         \u001b[0;31m# Lifting succeeded, so variables are initialized and we can run the\u001b[0m\u001b[0;34m\u001b[0m\u001b[0;34m\u001b[0m\u001b[0;34m\u001b[0m\u001b[0m\n\u001b[1;32m    847\u001b[0m         \u001b[0;31m# stateless function.\u001b[0m\u001b[0;34m\u001b[0m\u001b[0;34m\u001b[0m\u001b[0;34m\u001b[0m\u001b[0m\n\u001b[0;32m--> 848\u001b[0;31m         \u001b[0;32mreturn\u001b[0m \u001b[0mself\u001b[0m\u001b[0;34m.\u001b[0m\u001b[0m_stateless_fn\u001b[0m\u001b[0;34m(\u001b[0m\u001b[0;34m*\u001b[0m\u001b[0margs\u001b[0m\u001b[0;34m,\u001b[0m \u001b[0;34m**\u001b[0m\u001b[0mkwds\u001b[0m\u001b[0;34m)\u001b[0m\u001b[0;34m\u001b[0m\u001b[0;34m\u001b[0m\u001b[0m\n\u001b[0m\u001b[1;32m    849\u001b[0m     \u001b[0;32melse\u001b[0m\u001b[0;34m:\u001b[0m\u001b[0;34m\u001b[0m\u001b[0;34m\u001b[0m\u001b[0m\n\u001b[1;32m    850\u001b[0m       \u001b[0m_\u001b[0m\u001b[0;34m,\u001b[0m \u001b[0m_\u001b[0m\u001b[0;34m,\u001b[0m \u001b[0m_\u001b[0m\u001b[0;34m,\u001b[0m \u001b[0mfiltered_flat_args\u001b[0m \u001b[0;34m=\u001b[0m\u001b[0;31m \u001b[0m\u001b[0;31m\\\u001b[0m\u001b[0;34m\u001b[0m\u001b[0;34m\u001b[0m\u001b[0m\n",
      "\u001b[0;32m~/.pyenv/versions/3.8.5/envs/minority_report/lib/python3.8/site-packages/tensorflow/python/eager/function.py\u001b[0m in \u001b[0;36m__call__\u001b[0;34m(self, *args, **kwargs)\u001b[0m\n\u001b[1;32m   2969\u001b[0m       (graph_function,\n\u001b[1;32m   2970\u001b[0m        filtered_flat_args) = self._maybe_define_function(args, kwargs)\n\u001b[0;32m-> 2971\u001b[0;31m     return graph_function._call_flat(\n\u001b[0m\u001b[1;32m   2972\u001b[0m         filtered_flat_args, captured_inputs=graph_function.captured_inputs)  # pylint: disable=protected-access\n\u001b[1;32m   2973\u001b[0m \u001b[0;34m\u001b[0m\u001b[0m\n",
      "\u001b[0;32m~/.pyenv/versions/3.8.5/envs/minority_report/lib/python3.8/site-packages/tensorflow/python/eager/function.py\u001b[0m in \u001b[0;36m_call_flat\u001b[0;34m(self, args, captured_inputs, cancellation_manager)\u001b[0m\n\u001b[1;32m   1945\u001b[0m         and executing_eagerly):\n\u001b[1;32m   1946\u001b[0m       \u001b[0;31m# No tape is watching; skip to running the function.\u001b[0m\u001b[0;34m\u001b[0m\u001b[0;34m\u001b[0m\u001b[0;34m\u001b[0m\u001b[0m\n\u001b[0;32m-> 1947\u001b[0;31m       return self._build_call_outputs(self._inference_function.call(\n\u001b[0m\u001b[1;32m   1948\u001b[0m           ctx, args, cancellation_manager=cancellation_manager))\n\u001b[1;32m   1949\u001b[0m     forward_backward = self._select_forward_and_backward_functions(\n",
      "\u001b[0;32m~/.pyenv/versions/3.8.5/envs/minority_report/lib/python3.8/site-packages/tensorflow/python/eager/function.py\u001b[0m in \u001b[0;36mcall\u001b[0;34m(self, ctx, args, cancellation_manager)\u001b[0m\n\u001b[1;32m    554\u001b[0m       \u001b[0;32mwith\u001b[0m \u001b[0m_InterpolateFunctionError\u001b[0m\u001b[0;34m(\u001b[0m\u001b[0mself\u001b[0m\u001b[0;34m)\u001b[0m\u001b[0;34m:\u001b[0m\u001b[0;34m\u001b[0m\u001b[0;34m\u001b[0m\u001b[0m\n\u001b[1;32m    555\u001b[0m         \u001b[0;32mif\u001b[0m \u001b[0mcancellation_manager\u001b[0m \u001b[0;32mis\u001b[0m \u001b[0;32mNone\u001b[0m\u001b[0;34m:\u001b[0m\u001b[0;34m\u001b[0m\u001b[0;34m\u001b[0m\u001b[0m\n\u001b[0;32m--> 556\u001b[0;31m           outputs = execute.execute(\n\u001b[0m\u001b[1;32m    557\u001b[0m               \u001b[0mstr\u001b[0m\u001b[0;34m(\u001b[0m\u001b[0mself\u001b[0m\u001b[0;34m.\u001b[0m\u001b[0msignature\u001b[0m\u001b[0;34m.\u001b[0m\u001b[0mname\u001b[0m\u001b[0;34m)\u001b[0m\u001b[0;34m,\u001b[0m\u001b[0;34m\u001b[0m\u001b[0;34m\u001b[0m\u001b[0m\n\u001b[1;32m    558\u001b[0m               \u001b[0mnum_outputs\u001b[0m\u001b[0;34m=\u001b[0m\u001b[0mself\u001b[0m\u001b[0;34m.\u001b[0m\u001b[0m_num_outputs\u001b[0m\u001b[0;34m,\u001b[0m\u001b[0;34m\u001b[0m\u001b[0;34m\u001b[0m\u001b[0m\n",
      "\u001b[0;32m~/.pyenv/versions/3.8.5/envs/minority_report/lib/python3.8/site-packages/tensorflow/python/eager/execute.py\u001b[0m in \u001b[0;36mquick_execute\u001b[0;34m(op_name, num_outputs, inputs, attrs, ctx, name)\u001b[0m\n\u001b[1;32m     57\u001b[0m   \u001b[0;32mtry\u001b[0m\u001b[0;34m:\u001b[0m\u001b[0;34m\u001b[0m\u001b[0;34m\u001b[0m\u001b[0m\n\u001b[1;32m     58\u001b[0m     \u001b[0mctx\u001b[0m\u001b[0;34m.\u001b[0m\u001b[0mensure_initialized\u001b[0m\u001b[0;34m(\u001b[0m\u001b[0;34m)\u001b[0m\u001b[0;34m\u001b[0m\u001b[0;34m\u001b[0m\u001b[0m\n\u001b[0;32m---> 59\u001b[0;31m     tensors = pywrap_tfe.TFE_Py_Execute(ctx._handle, device_name, op_name,\n\u001b[0m\u001b[1;32m     60\u001b[0m                                         inputs, attrs, num_outputs)\n\u001b[1;32m     61\u001b[0m   \u001b[0;32mexcept\u001b[0m \u001b[0mcore\u001b[0m\u001b[0;34m.\u001b[0m\u001b[0m_NotOkStatusException\u001b[0m \u001b[0;32mas\u001b[0m \u001b[0me\u001b[0m\u001b[0;34m:\u001b[0m\u001b[0;34m\u001b[0m\u001b[0;34m\u001b[0m\u001b[0m\n",
      "\u001b[0;31mKeyboardInterrupt\u001b[0m: "
     ]
    }
   ],
   "source": [
    "X_train = X_train.reshape(-1, X_train.shape[1], X_train.shape[2], X_train.shape[3], 1)\n",
    "epochs= 100\n",
    "es = EarlyStopping(patience = 5, restore_best_weights=True)\n",
    "model.fit(X_train, y_train,batch_size = 32, epochs = epochs, validation_split = 0.3,callbacks = es)\n",
    "model"
   ]
  },
  {
   "cell_type": "code",
   "execution_count": null,
   "metadata": {
    "ExecuteTime": {
     "end_time": "2020-12-09T13:45:16.004824Z",
     "start_time": "2020-12-09T13:42:59.380Z"
    }
   },
   "outputs": [],
   "source": [
    "model.summary()"
   ]
  },
  {
   "cell_type": "code",
   "execution_count": null,
   "metadata": {
    "ExecuteTime": {
     "end_time": "2020-12-09T13:45:16.006732Z",
     "start_time": "2020-12-09T13:42:59.382Z"
    }
   },
   "outputs": [],
   "source": [
    "X_test = X_test.reshape(-1, X_test.shape[1], X_test.shape[2], X_test.shape[3], 1)\n",
    "\n",
    "X_test.shape"
   ]
  },
  {
   "cell_type": "code",
   "execution_count": null,
   "metadata": {
    "ExecuteTime": {
     "end_time": "2020-12-09T13:45:16.010855Z",
     "start_time": "2020-12-09T13:42:59.384Z"
    }
   },
   "outputs": [],
   "source": [
    "y_pred = model.predict(X_test)\n"
   ]
  },
  {
   "cell_type": "code",
   "execution_count": null,
   "metadata": {
    "ExecuteTime": {
     "end_time": "2020-12-09T13:45:16.014968Z",
     "start_time": "2020-12-09T13:42:59.386Z"
    }
   },
   "outputs": [],
   "source": [
    "y_pred.shape"
   ]
  },
  {
   "cell_type": "code",
   "execution_count": null,
   "metadata": {
    "ExecuteTime": {
     "end_time": "2020-12-09T13:45:16.020952Z",
     "start_time": "2020-12-09T13:42:59.388Z"
    }
   },
   "outputs": [],
   "source": [
    "model.evaluate(X_test,y_test)"
   ]
  },
  {
   "cell_type": "code",
   "execution_count": null,
   "metadata": {
    "ExecuteTime": {
     "end_time": "2020-12-09T13:45:16.066749Z",
     "start_time": "2020-12-09T13:42:59.390Z"
    }
   },
   "outputs": [],
   "source": [
    "fig,axes = plt.subplots(y_pred.shape[3],2, figsize=(20,10))\n",
    "for i in range(y_pred.shape[3]):\n",
    "    axes[i,0].imshow(y_pred[0,:,:,i])\n",
    "    axes[i,1].imshow(y_pred[0,:,:,i]) "
   ]
  },
  {
   "cell_type": "markdown",
   "metadata": {},
   "source": [
    "### BASELINE MODEL "
   ]
  },
  {
   "cell_type": "code",
   "execution_count": 65,
   "metadata": {
    "ExecuteTime": {
     "end_time": "2020-12-09T14:12:50.847084Z",
     "start_time": "2020-12-09T14:12:50.838809Z"
    }
   },
   "outputs": [
    {
     "data": {
      "text/plain": [
       "(64, 22, 4)"
      ]
     },
     "execution_count": 65,
     "metadata": {},
     "output_type": "execute_result"
    }
   ],
   "source": [
    "y_pred = np.zeros((y_test[0].shape))\n",
    "\n",
    "y_pred.shape"
   ]
  },
  {
   "cell_type": "code",
   "execution_count": 66,
   "metadata": {
    "ExecuteTime": {
     "end_time": "2020-12-09T14:12:51.952750Z",
     "start_time": "2020-12-09T14:12:51.947025Z"
    }
   },
   "outputs": [],
   "source": [
    "error = y_test[0] - y_pred"
   ]
  },
  {
   "cell_type": "code",
   "execution_count": 67,
   "metadata": {
    "ExecuteTime": {
     "end_time": "2020-12-09T14:13:04.755222Z",
     "start_time": "2020-12-09T14:13:04.739592Z"
    }
   },
   "outputs": [
    {
     "data": {
      "text/plain": [
       "16.46832904645461"
      ]
     },
     "execution_count": 67,
     "metadata": {},
     "output_type": "execute_result"
    }
   ],
   "source": [
    "mse = np.sum(error**2)/(y_pred.shape[1]*y_pred.shape[2]) #Mean squared error sur un y_pred qui predit des 0\n",
    "mse"
   ]
  },
  {
   "cell_type": "code",
   "execution_count": 80,
   "metadata": {
    "ExecuteTime": {
     "end_time": "2020-12-09T14:19:42.884360Z",
     "start_time": "2020-12-09T14:19:42.880040Z"
    }
   },
   "outputs": [],
   "source": [
    "average = y_test[0].mean()\n",
    "\n",
    "y_pred_2 = np.full(y_test[0].shape, average)"
   ]
  },
  {
   "cell_type": "code",
   "execution_count": 81,
   "metadata": {
    "ExecuteTime": {
     "end_time": "2020-12-09T14:19:50.425683Z",
     "start_time": "2020-12-09T14:19:50.420787Z"
    }
   },
   "outputs": [],
   "source": [
    "error_2 = y_test[0] - y_pred_2"
   ]
  },
  {
   "cell_type": "code",
   "execution_count": 82,
   "metadata": {
    "ExecuteTime": {
     "end_time": "2020-12-09T14:19:51.921971Z",
     "start_time": "2020-12-09T14:19:51.913868Z"
    }
   },
   "outputs": [
    {
     "data": {
      "text/plain": [
       "14.332843556968333"
      ]
     },
     "execution_count": 82,
     "metadata": {},
     "output_type": "execute_result"
    }
   ],
   "source": [
    "mse_2 = np.sum(error_2**2)/(y_pred_2.shape[1]*y_pred_2.shape[2]) #Mean squared error sur un y_pred qui predit des 0\n",
    "mse_2"
   ]
  },
  {
   "cell_type": "markdown",
   "metadata": {},
   "source": [
    "### By WEEK: first draft tuning with one more layerconv3D + maxpoolD "
   ]
  },
  {
   "cell_type": "code",
   "execution_count": 83,
   "metadata": {
    "ExecuteTime": {
     "end_time": "2020-12-09T14:23:02.260129Z",
     "start_time": "2020-12-09T14:23:01.356948Z"
    }
   },
   "outputs": [
    {
     "name": "stdout",
     "output_type": "stream",
     "text": [
      "initializing model\n",
      "adding conv3D 1\n",
      "adding MaxPooling\n",
      "Flattening\n",
      "Adding Dense Layer\n",
      "Reshaping\n",
      "Compiling\n",
      "Done !\n"
     ]
    },
    {
     "data": {
      "text/plain": [
       "<tensorflow.python.keras.engine.sequential.Sequential at 0x14456c190>"
      ]
     },
     "execution_count": 83,
     "metadata": {},
     "output_type": "execute_result"
    }
   ],
   "source": [
    "print('initializing model')\n",
    "model_two = models.Sequential()\n",
    "\n",
    "print('adding conv3D 1') #1.changing to 32 numbers of neurons\n",
    "model_two.add(layers.Conv3D(32, kernel_size = (4,4,4), strides=(1,1,1 ),activation = 'relu', padding='same', input_shape = (64, 22, 8,1))) #changing stride,\n",
    "print('adding MaxPooling')\n",
    "model_two.add(layers.MaxPooling3D(2))\n",
    "\n",
    "#2.added a second layer of CONV3D with 64 neurons, kernel smaller 3 + a maxpooling 2\n",
    "model_two.add(layers.Conv3D(64, kernel_size = (3,3,3),activation = 'relu' )) #adding a layer conv3D + MaxPool3D\n",
    "model_two.add(layers.MaxPool3D(pool_size=(2,2,2)))\n",
    "\n",
    "\n",
    "print('Flattening')\n",
    "model_two.add(layers.Flatten())\n",
    "\n",
    "print('Adding Dense Layer')\n",
    "model_two.add(layers.Dense(64*22*4, activation = 'relu'))\n",
    "\n",
    "#3.adding an other dense layer\n",
    "model_two.add(layers.Dense(64*22*4, activation='relu'))\n",
    "\n",
    "print('Reshaping')\n",
    "model_two.add(layers.Reshape((64,22,4)))\n",
    "print('Compiling')\n",
    "model_two.compile(loss ='mse',\n",
    "             optimizer='adam',\n",
    "             metrics='mae')\n",
    "print('Done !')\n",
    "model_two"
   ]
  },
  {
   "cell_type": "code",
   "execution_count": 84,
   "metadata": {
    "ExecuteTime": {
     "end_time": "2020-12-09T14:27:06.435718Z",
     "start_time": "2020-12-09T14:23:04.883301Z"
    }
   },
   "outputs": [
    {
     "name": "stdout",
     "output_type": "stream",
     "text": [
      "Epoch 1/400\n",
      "1/1 [==============================] - 2s 2s/step - loss: 0.2616 - mae: 0.2134 - val_loss: 0.1559 - val_mae: 0.1507\n",
      "Epoch 2/400\n",
      "1/1 [==============================] - 1s 1s/step - loss: 0.1562 - mae: 0.1502 - val_loss: 0.1141 - val_mae: 0.1085\n",
      "Epoch 3/400\n",
      "1/1 [==============================] - 1s 1s/step - loss: 0.1141 - mae: 0.1074 - val_loss: 0.1669 - val_mae: 0.1439\n",
      "Epoch 4/400\n",
      "1/1 [==============================] - 1s 1s/step - loss: 0.1641 - mae: 0.1426 - val_loss: 0.1002 - val_mae: 0.1025\n",
      "Epoch 5/400\n",
      "1/1 [==============================] - 1s 1s/step - loss: 0.0995 - mae: 0.1012 - val_loss: 0.1262 - val_mae: 0.1227\n",
      "Epoch 6/400\n",
      "1/1 [==============================] - 1s 1s/step - loss: 0.1257 - mae: 0.1219 - val_loss: 0.1236 - val_mae: 0.1197\n",
      "Epoch 7/400\n",
      "1/1 [==============================] - 1s 1s/step - loss: 0.1229 - mae: 0.1189 - val_loss: 0.1059 - val_mae: 0.1095\n",
      "Epoch 8/400\n",
      "1/1 [==============================] - 1s 1s/step - loss: 0.1048 - mae: 0.1084 - val_loss: 0.1000 - val_mae: 0.1072\n",
      "Epoch 9/400\n",
      "1/1 [==============================] - 1s 1s/step - loss: 0.0982 - mae: 0.1058 - val_loss: 0.1022 - val_mae: 0.1066\n",
      "Epoch 10/400\n",
      "1/1 [==============================] - 1s 1s/step - loss: 0.0997 - mae: 0.1049 - val_loss: 0.0866 - val_mae: 0.0924\n",
      "Epoch 11/400\n",
      "1/1 [==============================] - 1s 1s/step - loss: 0.0842 - mae: 0.0903 - val_loss: 0.0784 - val_mae: 0.0856\n",
      "Epoch 12/400\n",
      "1/1 [==============================] - 1s 1s/step - loss: 0.0764 - mae: 0.0831 - val_loss: 0.0816 - val_mae: 0.0908\n",
      "Epoch 13/400\n",
      "1/1 [==============================] - 1s 1s/step - loss: 0.0797 - mae: 0.0888 - val_loss: 0.0833 - val_mae: 0.0934\n",
      "Epoch 14/400\n",
      "1/1 [==============================] - 1s 1s/step - loss: 0.0814 - mae: 0.0916 - val_loss: 0.0808 - val_mae: 0.0912\n",
      "Epoch 15/400\n",
      "1/1 [==============================] - 1s 1s/step - loss: 0.0788 - mae: 0.0892 - val_loss: 0.0785 - val_mae: 0.0889\n",
      "Epoch 16/400\n",
      "1/1 [==============================] - 1s 1s/step - loss: 0.0762 - mae: 0.0864 - val_loss: 0.0783 - val_mae: 0.0878\n",
      "Epoch 17/400\n",
      "1/1 [==============================] - 1s 1s/step - loss: 0.0759 - mae: 0.0850 - val_loss: 0.0763 - val_mae: 0.0849\n",
      "Epoch 18/400\n",
      "1/1 [==============================] - 1s 1s/step - loss: 0.0739 - mae: 0.0821 - val_loss: 0.0731 - val_mae: 0.0812\n",
      "Epoch 19/400\n",
      "1/1 [==============================] - 1s 1s/step - loss: 0.0709 - mae: 0.0784 - val_loss: 0.0728 - val_mae: 0.0806\n",
      "Epoch 20/400\n",
      "1/1 [==============================] - 1s 1s/step - loss: 0.0707 - mae: 0.0781 - val_loss: 0.0737 - val_mae: 0.0817\n",
      "Epoch 21/400\n",
      "1/1 [==============================] - 1s 1s/step - loss: 0.0716 - mae: 0.0794 - val_loss: 0.0733 - val_mae: 0.0816\n",
      "Epoch 22/400\n",
      "1/1 [==============================] - 1s 1s/step - loss: 0.0713 - mae: 0.0793 - val_loss: 0.0724 - val_mae: 0.0810\n",
      "Epoch 23/400\n",
      "1/1 [==============================] - 1s 1s/step - loss: 0.0703 - mae: 0.0786 - val_loss: 0.0724 - val_mae: 0.0812\n",
      "Epoch 24/400\n",
      "1/1 [==============================] - 1s 1s/step - loss: 0.0702 - mae: 0.0786 - val_loss: 0.0722 - val_mae: 0.0806\n",
      "Epoch 25/400\n",
      "1/1 [==============================] - 1s 1s/step - loss: 0.0700 - mae: 0.0780 - val_loss: 0.0710 - val_mae: 0.0788\n",
      "Epoch 26/400\n",
      "1/1 [==============================] - 1s 1s/step - loss: 0.0688 - mae: 0.0760 - val_loss: 0.0705 - val_mae: 0.0780\n",
      "Epoch 27/400\n",
      "1/1 [==============================] - 1s 1s/step - loss: 0.0682 - mae: 0.0750 - val_loss: 0.0707 - val_mae: 0.0783\n",
      "Epoch 28/400\n",
      "1/1 [==============================] - 1s 1s/step - loss: 0.0684 - mae: 0.0753 - val_loss: 0.0706 - val_mae: 0.0783\n",
      "Epoch 29/400\n",
      "1/1 [==============================] - 1s 1s/step - loss: 0.0683 - mae: 0.0752 - val_loss: 0.0703 - val_mae: 0.0780\n",
      "Epoch 30/400\n",
      "1/1 [==============================] - 1s 1s/step - loss: 0.0680 - mae: 0.0748 - val_loss: 0.0704 - val_mae: 0.0781\n",
      "Epoch 31/400\n",
      "1/1 [==============================] - 1s 1s/step - loss: 0.0681 - mae: 0.0749 - val_loss: 0.0704 - val_mae: 0.0781\n",
      "Epoch 32/400\n",
      "1/1 [==============================] - 1s 1s/step - loss: 0.0681 - mae: 0.0748 - val_loss: 0.0698 - val_mae: 0.0773\n",
      "Epoch 33/400\n",
      "1/1 [==============================] - 1s 994ms/step - loss: 0.0675 - mae: 0.0740 - val_loss: 0.0695 - val_mae: 0.0769\n",
      "Epoch 34/400\n",
      "1/1 [==============================] - 1s 998ms/step - loss: 0.0671 - mae: 0.0734 - val_loss: 0.0694 - val_mae: 0.0768\n",
      "Epoch 35/400\n",
      "1/1 [==============================] - 1s 1s/step - loss: 0.0670 - mae: 0.0733 - val_loss: 0.0691 - val_mae: 0.0765\n",
      "Epoch 36/400\n",
      "1/1 [==============================] - 1s 990ms/step - loss: 0.0667 - mae: 0.0729 - val_loss: 0.0688 - val_mae: 0.0762\n",
      "Epoch 37/400\n",
      "1/1 [==============================] - 1s 1s/step - loss: 0.0664 - mae: 0.0727 - val_loss: 0.0688 - val_mae: 0.0763\n",
      "Epoch 38/400\n",
      "1/1 [==============================] - 1s 1s/step - loss: 0.0664 - mae: 0.0728 - val_loss: 0.0687 - val_mae: 0.0762\n",
      "Epoch 39/400\n",
      "1/1 [==============================] - 1s 982ms/step - loss: 0.0663 - mae: 0.0726 - val_loss: 0.0685 - val_mae: 0.0758\n",
      "Epoch 40/400\n",
      "1/1 [==============================] - 1s 1s/step - loss: 0.0661 - mae: 0.0721 - val_loss: 0.0685 - val_mae: 0.0756\n",
      "Epoch 41/400\n",
      "1/1 [==============================] - 1s 1s/step - loss: 0.0660 - mae: 0.0718 - val_loss: 0.0685 - val_mae: 0.0755\n",
      "Epoch 42/400\n",
      "1/1 [==============================] - 1s 1s/step - loss: 0.0659 - mae: 0.0715 - val_loss: 0.0680 - val_mae: 0.0751\n",
      "Epoch 43/400\n",
      "1/1 [==============================] - 1s 987ms/step - loss: 0.0654 - mae: 0.0710 - val_loss: 0.0674 - val_mae: 0.0748\n",
      "Epoch 44/400\n",
      "1/1 [==============================] - 1s 1s/step - loss: 0.0648 - mae: 0.0706 - val_loss: 0.0667 - val_mae: 0.0745\n",
      "Epoch 45/400\n",
      "1/1 [==============================] - 1s 1s/step - loss: 0.0642 - mae: 0.0702 - val_loss: 0.0659 - val_mae: 0.0739\n",
      "Epoch 46/400\n",
      "1/1 [==============================] - 1s 1s/step - loss: 0.0633 - mae: 0.0694 - val_loss: 0.0653 - val_mae: 0.0734\n",
      "Epoch 47/400\n",
      "1/1 [==============================] - 1s 1s/step - loss: 0.0626 - mae: 0.0687 - val_loss: 0.0647 - val_mae: 0.0729\n",
      "Epoch 48/400\n",
      "1/1 [==============================] - 1s 1s/step - loss: 0.0620 - mae: 0.0680 - val_loss: 0.0640 - val_mae: 0.0723\n",
      "Epoch 49/400\n",
      "1/1 [==============================] - 1s 1s/step - loss: 0.0613 - mae: 0.0672 - val_loss: 0.0632 - val_mae: 0.0716\n",
      "Epoch 50/400\n",
      "1/1 [==============================] - 1s 1s/step - loss: 0.0605 - mae: 0.0663 - val_loss: 0.0626 - val_mae: 0.0711\n",
      "Epoch 51/400\n",
      "1/1 [==============================] - 1s 1s/step - loss: 0.0598 - mae: 0.0656 - val_loss: 0.0621 - val_mae: 0.0707\n",
      "Epoch 52/400\n",
      "1/1 [==============================] - 2s 2s/step - loss: 0.0591 - mae: 0.0649 - val_loss: 0.0617 - val_mae: 0.0705\n",
      "Epoch 53/400\n",
      "1/1 [==============================] - 1s 1s/step - loss: 0.0586 - mae: 0.0644 - val_loss: 0.0613 - val_mae: 0.0702\n",
      "Epoch 54/400\n",
      "1/1 [==============================] - 1s 1s/step - loss: 0.0582 - mae: 0.0640 - val_loss: 0.0608 - val_mae: 0.0696\n",
      "Epoch 55/400\n",
      "1/1 [==============================] - 1s 1s/step - loss: 0.0576 - mae: 0.0633 - val_loss: 0.0604 - val_mae: 0.0692\n",
      "Epoch 56/400\n",
      "1/1 [==============================] - 1s 1s/step - loss: 0.0572 - mae: 0.0630 - val_loss: 0.0600 - val_mae: 0.0689\n",
      "Epoch 57/400\n",
      "1/1 [==============================] - 1s 1s/step - loss: 0.0567 - mae: 0.0626 - val_loss: 0.0596 - val_mae: 0.0685\n",
      "Epoch 58/400\n",
      "1/1 [==============================] - 1s 1s/step - loss: 0.0564 - mae: 0.0623 - val_loss: 0.0594 - val_mae: 0.0683\n",
      "Epoch 59/400\n",
      "1/1 [==============================] - 1s 1s/step - loss: 0.0562 - mae: 0.0622 - val_loss: 0.0592 - val_mae: 0.0682\n",
      "Epoch 60/400\n",
      "1/1 [==============================] - 1s 1s/step - loss: 0.0561 - mae: 0.0622 - val_loss: 0.0590 - val_mae: 0.0679\n",
      "Epoch 61/400\n",
      "1/1 [==============================] - 1s 1s/step - loss: 0.0559 - mae: 0.0620 - val_loss: 0.0587 - val_mae: 0.0676\n",
      "Epoch 62/400\n",
      "1/1 [==============================] - 1s 1s/step - loss: 0.0556 - mae: 0.0616 - val_loss: 0.0583 - val_mae: 0.0672\n",
      "Epoch 63/400\n",
      "1/1 [==============================] - 1s 1s/step - loss: 0.0554 - mae: 0.0611 - val_loss: 0.0581 - val_mae: 0.0669\n",
      "Epoch 64/400\n"
     ]
    },
    {
     "name": "stdout",
     "output_type": "stream",
     "text": [
      "1/1 [==============================] - 1s 1s/step - loss: 0.0552 - mae: 0.0608 - val_loss: 0.0579 - val_mae: 0.0666\n",
      "Epoch 65/400\n",
      "1/1 [==============================] - 1s 1s/step - loss: 0.0550 - mae: 0.0604 - val_loss: 0.0576 - val_mae: 0.0663\n",
      "Epoch 66/400\n",
      "1/1 [==============================] - 1s 1s/step - loss: 0.0548 - mae: 0.0601 - val_loss: 0.0575 - val_mae: 0.0662\n",
      "Epoch 67/400\n",
      "1/1 [==============================] - 1s 1s/step - loss: 0.0546 - mae: 0.0599 - val_loss: 0.0574 - val_mae: 0.0660\n",
      "Epoch 68/400\n",
      "1/1 [==============================] - 1s 1s/step - loss: 0.0545 - mae: 0.0597 - val_loss: 0.0573 - val_mae: 0.0658\n",
      "Epoch 69/400\n",
      "1/1 [==============================] - 1s 1s/step - loss: 0.0544 - mae: 0.0595 - val_loss: 0.0570 - val_mae: 0.0656\n",
      "Epoch 70/400\n",
      "1/1 [==============================] - 1s 1s/step - loss: 0.0542 - mae: 0.0593 - val_loss: 0.0567 - val_mae: 0.0651\n",
      "Epoch 71/400\n",
      "1/1 [==============================] - 1s 1s/step - loss: 0.0539 - mae: 0.0589 - val_loss: 0.0563 - val_mae: 0.0646\n",
      "Epoch 72/400\n",
      "1/1 [==============================] - 1s 1s/step - loss: 0.0536 - mae: 0.0585 - val_loss: 0.0559 - val_mae: 0.0641\n",
      "Epoch 73/400\n",
      "1/1 [==============================] - 1s 997ms/step - loss: 0.0533 - mae: 0.0580 - val_loss: 0.0557 - val_mae: 0.0638\n",
      "Epoch 74/400\n",
      "1/1 [==============================] - 1s 1s/step - loss: 0.0531 - mae: 0.0576 - val_loss: 0.0555 - val_mae: 0.0634\n",
      "Epoch 75/400\n",
      "1/1 [==============================] - 1s 1s/step - loss: 0.0529 - mae: 0.0573 - val_loss: 0.0553 - val_mae: 0.0630\n",
      "Epoch 76/400\n",
      "1/1 [==============================] - 1s 1s/step - loss: 0.0528 - mae: 0.0570 - val_loss: 0.0550 - val_mae: 0.0626\n",
      "Epoch 77/400\n",
      "1/1 [==============================] - 1s 1s/step - loss: 0.0526 - mae: 0.0567 - val_loss: 0.0546 - val_mae: 0.0621\n",
      "Epoch 78/400\n",
      "1/1 [==============================] - 1s 1s/step - loss: 0.0523 - mae: 0.0564 - val_loss: 0.0542 - val_mae: 0.0616\n",
      "Epoch 79/400\n",
      "1/1 [==============================] - 1s 1s/step - loss: 0.0520 - mae: 0.0560 - val_loss: 0.0538 - val_mae: 0.0611\n",
      "Epoch 80/400\n",
      "1/1 [==============================] - 1s 1s/step - loss: 0.0516 - mae: 0.0555 - val_loss: 0.0534 - val_mae: 0.0604\n",
      "Epoch 81/400\n",
      "1/1 [==============================] - 1s 1s/step - loss: 0.0512 - mae: 0.0549 - val_loss: 0.0531 - val_mae: 0.0599\n",
      "Epoch 82/400\n",
      "1/1 [==============================] - 1s 1s/step - loss: 0.0510 - mae: 0.0544 - val_loss: 0.0530 - val_mae: 0.0596\n",
      "Epoch 83/400\n",
      "1/1 [==============================] - 1s 1s/step - loss: 0.0509 - mae: 0.0541 - val_loss: 0.0529 - val_mae: 0.0593\n",
      "Epoch 84/400\n",
      "1/1 [==============================] - 1s 1s/step - loss: 0.0508 - mae: 0.0538 - val_loss: 0.0526 - val_mae: 0.0590\n",
      "Epoch 85/400\n",
      "1/1 [==============================] - 1s 1s/step - loss: 0.0507 - mae: 0.0535 - val_loss: 0.0524 - val_mae: 0.0585\n",
      "Epoch 86/400\n",
      "1/1 [==============================] - 1s 1s/step - loss: 0.0504 - mae: 0.0531 - val_loss: 0.0521 - val_mae: 0.0581\n",
      "Epoch 87/400\n",
      "1/1 [==============================] - 1s 1s/step - loss: 0.0502 - mae: 0.0527 - val_loss: 0.0519 - val_mae: 0.0577\n",
      "Epoch 88/400\n",
      "1/1 [==============================] - 1s 1s/step - loss: 0.0500 - mae: 0.0524 - val_loss: 0.0518 - val_mae: 0.0573\n",
      "Epoch 89/400\n",
      "1/1 [==============================] - 1s 1s/step - loss: 0.0499 - mae: 0.0520 - val_loss: 0.0516 - val_mae: 0.0570\n",
      "Epoch 90/400\n",
      "1/1 [==============================] - 1s 1s/step - loss: 0.0498 - mae: 0.0517 - val_loss: 0.0515 - val_mae: 0.0566\n",
      "Epoch 91/400\n",
      "1/1 [==============================] - 1s 1s/step - loss: 0.0497 - mae: 0.0513 - val_loss: 0.0513 - val_mae: 0.0561\n",
      "Epoch 92/400\n",
      "1/1 [==============================] - 1s 1s/step - loss: 0.0495 - mae: 0.0510 - val_loss: 0.0508 - val_mae: 0.0557\n",
      "Epoch 93/400\n",
      "1/1 [==============================] - 1s 1s/step - loss: 0.0490 - mae: 0.0506 - val_loss: 0.0502 - val_mae: 0.0554\n",
      "Epoch 94/400\n",
      "1/1 [==============================] - 1s 1s/step - loss: 0.0484 - mae: 0.0503 - val_loss: 0.0496 - val_mae: 0.0550\n",
      "Epoch 95/400\n",
      "1/1 [==============================] - 1s 1s/step - loss: 0.0479 - mae: 0.0500 - val_loss: 0.0491 - val_mae: 0.0547\n",
      "Epoch 96/400\n",
      "1/1 [==============================] - 1s 1s/step - loss: 0.0474 - mae: 0.0498 - val_loss: 0.0486 - val_mae: 0.0544\n",
      "Epoch 97/400\n",
      "1/1 [==============================] - 1s 1s/step - loss: 0.0470 - mae: 0.0495 - val_loss: 0.0481 - val_mae: 0.0540\n",
      "Epoch 98/400\n",
      "1/1 [==============================] - 1s 1s/step - loss: 0.0465 - mae: 0.0492 - val_loss: 0.0477 - val_mae: 0.0535\n",
      "Epoch 99/400\n",
      "1/1 [==============================] - 1s 1s/step - loss: 0.0461 - mae: 0.0489 - val_loss: 0.0473 - val_mae: 0.0530\n",
      "Epoch 100/400\n",
      "1/1 [==============================] - 1s 1s/step - loss: 0.0458 - mae: 0.0485 - val_loss: 0.0470 - val_mae: 0.0525\n",
      "Epoch 101/400\n",
      "1/1 [==============================] - 1s 1s/step - loss: 0.0455 - mae: 0.0481 - val_loss: 0.0469 - val_mae: 0.0522\n",
      "Epoch 102/400\n",
      "1/1 [==============================] - 1s 1s/step - loss: 0.0455 - mae: 0.0478 - val_loss: 0.0469 - val_mae: 0.0519\n",
      "Epoch 103/400\n",
      "1/1 [==============================] - 1s 1s/step - loss: 0.0456 - mae: 0.0477 - val_loss: 0.0469 - val_mae: 0.0516\n",
      "Epoch 104/400\n",
      "1/1 [==============================] - 1s 1s/step - loss: 0.0456 - mae: 0.0476 - val_loss: 0.0468 - val_mae: 0.0513\n",
      "Epoch 105/400\n",
      "1/1 [==============================] - 1s 1s/step - loss: 0.0455 - mae: 0.0474 - val_loss: 0.0466 - val_mae: 0.0510\n",
      "Epoch 106/400\n",
      "1/1 [==============================] - 1s 1s/step - loss: 0.0454 - mae: 0.0471 - val_loss: 0.0464 - val_mae: 0.0506\n",
      "Epoch 107/400\n",
      "1/1 [==============================] - 1s 1s/step - loss: 0.0452 - mae: 0.0467 - val_loss: 0.0462 - val_mae: 0.0503\n",
      "Epoch 108/400\n",
      "1/1 [==============================] - 1s 1s/step - loss: 0.0450 - mae: 0.0464 - val_loss: 0.0461 - val_mae: 0.0500\n",
      "Epoch 109/400\n",
      "1/1 [==============================] - 1s 1s/step - loss: 0.0449 - mae: 0.0462 - val_loss: 0.0459 - val_mae: 0.0497\n",
      "Epoch 110/400\n",
      "1/1 [==============================] - 1s 1s/step - loss: 0.0447 - mae: 0.0459 - val_loss: 0.0458 - val_mae: 0.0495\n",
      "Epoch 111/400\n",
      "1/1 [==============================] - 1s 1s/step - loss: 0.0447 - mae: 0.0457 - val_loss: 0.0458 - val_mae: 0.0493\n",
      "Epoch 112/400\n",
      "1/1 [==============================] - 1s 1s/step - loss: 0.0446 - mae: 0.0456 - val_loss: 0.0457 - val_mae: 0.0490\n",
      "Epoch 113/400\n",
      "1/1 [==============================] - 1s 1s/step - loss: 0.0445 - mae: 0.0454 - val_loss: 0.0456 - val_mae: 0.0488\n",
      "Epoch 114/400\n",
      "1/1 [==============================] - 1s 1s/step - loss: 0.0445 - mae: 0.0452 - val_loss: 0.0455 - val_mae: 0.0486\n",
      "Epoch 115/400\n",
      "1/1 [==============================] - 1s 1s/step - loss: 0.0444 - mae: 0.0451 - val_loss: 0.0453 - val_mae: 0.0484\n",
      "Epoch 116/400\n",
      "1/1 [==============================] - 1s 1s/step - loss: 0.0443 - mae: 0.0450 - val_loss: 0.0452 - val_mae: 0.0483\n",
      "Epoch 117/400\n",
      "1/1 [==============================] - 1s 1s/step - loss: 0.0442 - mae: 0.0449 - val_loss: 0.0451 - val_mae: 0.0482\n",
      "Epoch 118/400\n",
      "1/1 [==============================] - 1s 1s/step - loss: 0.0441 - mae: 0.0448 - val_loss: 0.0451 - val_mae: 0.0481\n",
      "Epoch 119/400\n",
      "1/1 [==============================] - 1s 1s/step - loss: 0.0441 - mae: 0.0448 - val_loss: 0.0451 - val_mae: 0.0481\n",
      "Epoch 120/400\n",
      "1/1 [==============================] - 1s 1s/step - loss: 0.0441 - mae: 0.0447 - val_loss: 0.0451 - val_mae: 0.0480\n",
      "Epoch 121/400\n",
      "1/1 [==============================] - 1s 1s/step - loss: 0.0441 - mae: 0.0446 - val_loss: 0.0451 - val_mae: 0.0479\n",
      "Epoch 122/400\n",
      "1/1 [==============================] - 1s 1s/step - loss: 0.0441 - mae: 0.0446 - val_loss: 0.0450 - val_mae: 0.0478\n",
      "Epoch 123/400\n",
      "1/1 [==============================] - 1s 1s/step - loss: 0.0440 - mae: 0.0445 - val_loss: 0.0450 - val_mae: 0.0477\n",
      "Epoch 124/400\n",
      "1/1 [==============================] - 1s 1s/step - loss: 0.0440 - mae: 0.0444 - val_loss: 0.0449 - val_mae: 0.0476\n",
      "Epoch 125/400\n",
      "1/1 [==============================] - 1s 1s/step - loss: 0.0439 - mae: 0.0443 - val_loss: 0.0449 - val_mae: 0.0475\n",
      "Epoch 126/400\n",
      "1/1 [==============================] - 1s 1s/step - loss: 0.0439 - mae: 0.0442 - val_loss: 0.0448 - val_mae: 0.0474\n",
      "Epoch 127/400\n"
     ]
    },
    {
     "name": "stdout",
     "output_type": "stream",
     "text": [
      "1/1 [==============================] - 1s 1s/step - loss: 0.0439 - mae: 0.0441 - val_loss: 0.0448 - val_mae: 0.0473\n",
      "Epoch 128/400\n",
      "1/1 [==============================] - 1s 1s/step - loss: 0.0439 - mae: 0.0440 - val_loss: 0.0448 - val_mae: 0.0472\n",
      "Epoch 129/400\n",
      "1/1 [==============================] - 1s 1s/step - loss: 0.0439 - mae: 0.0439 - val_loss: 0.0448 - val_mae: 0.0471\n",
      "Epoch 130/400\n",
      "1/1 [==============================] - 1s 1s/step - loss: 0.0439 - mae: 0.0438 - val_loss: 0.0448 - val_mae: 0.0470\n",
      "Epoch 131/400\n",
      "1/1 [==============================] - 1s 1s/step - loss: 0.0438 - mae: 0.0438 - val_loss: 0.0447 - val_mae: 0.0470\n",
      "Epoch 132/400\n",
      "1/1 [==============================] - 1s 1s/step - loss: 0.0438 - mae: 0.0437 - val_loss: 0.0447 - val_mae: 0.0469\n",
      "Epoch 133/400\n",
      "1/1 [==============================] - 1s 1s/step - loss: 0.0438 - mae: 0.0436 - val_loss: 0.0447 - val_mae: 0.0468\n",
      "Epoch 134/400\n",
      "1/1 [==============================] - 1s 1s/step - loss: 0.0438 - mae: 0.0436 - val_loss: 0.0446 - val_mae: 0.0467\n",
      "Epoch 135/400\n",
      "1/1 [==============================] - 1s 1s/step - loss: 0.0438 - mae: 0.0434 - val_loss: 0.0446 - val_mae: 0.0466\n",
      "Epoch 136/400\n",
      "1/1 [==============================] - 1s 1s/step - loss: 0.0438 - mae: 0.0434 - val_loss: 0.0446 - val_mae: 0.0466\n",
      "Epoch 137/400\n",
      "1/1 [==============================] - 1s 1s/step - loss: 0.0438 - mae: 0.0433 - val_loss: 0.0446 - val_mae: 0.0465\n",
      "Epoch 138/400\n",
      "1/1 [==============================] - 1s 1s/step - loss: 0.0438 - mae: 0.0432 - val_loss: 0.0446 - val_mae: 0.0464\n",
      "Epoch 139/400\n",
      "1/1 [==============================] - 2s 2s/step - loss: 0.0437 - mae: 0.0432 - val_loss: 0.0445 - val_mae: 0.0464\n",
      "Epoch 140/400\n",
      "1/1 [==============================] - 1s 1s/step - loss: 0.0437 - mae: 0.0431 - val_loss: 0.0445 - val_mae: 0.0463\n",
      "Epoch 141/400\n",
      "1/1 [==============================] - 1s 1s/step - loss: 0.0437 - mae: 0.0430 - val_loss: 0.0445 - val_mae: 0.0461\n",
      "Epoch 142/400\n",
      "1/1 [==============================] - 1s 1s/step - loss: 0.0437 - mae: 0.0429 - val_loss: 0.0445 - val_mae: 0.0460\n",
      "Epoch 143/400\n",
      "1/1 [==============================] - 1s 1s/step - loss: 0.0437 - mae: 0.0428 - val_loss: 0.0444 - val_mae: 0.0459\n",
      "Epoch 144/400\n",
      "1/1 [==============================] - 1s 1s/step - loss: 0.0437 - mae: 0.0427 - val_loss: 0.0444 - val_mae: 0.0458\n",
      "Epoch 145/400\n",
      "1/1 [==============================] - 1s 1s/step - loss: 0.0437 - mae: 0.0427 - val_loss: 0.0444 - val_mae: 0.0457\n",
      "Epoch 146/400\n",
      "1/1 [==============================] - 1s 1s/step - loss: 0.0437 - mae: 0.0426 - val_loss: 0.0444 - val_mae: 0.0457\n",
      "Epoch 147/400\n",
      "1/1 [==============================] - 1s 1s/step - loss: 0.0437 - mae: 0.0425 - val_loss: 0.0443 - val_mae: 0.0456\n",
      "Epoch 148/400\n",
      "1/1 [==============================] - 1s 984ms/step - loss: 0.0436 - mae: 0.0424 - val_loss: 0.0443 - val_mae: 0.0455\n",
      "Epoch 149/400\n",
      "1/1 [==============================] - 1s 1s/step - loss: 0.0436 - mae: 0.0423 - val_loss: 0.0443 - val_mae: 0.0454\n",
      "Epoch 150/400\n",
      "1/1 [==============================] - 1s 1s/step - loss: 0.0436 - mae: 0.0422 - val_loss: 0.0443 - val_mae: 0.0453\n",
      "Epoch 151/400\n",
      "1/1 [==============================] - 1s 1s/step - loss: 0.0436 - mae: 0.0421 - val_loss: 0.0443 - val_mae: 0.0452\n",
      "Epoch 152/400\n",
      "1/1 [==============================] - 1s 1s/step - loss: 0.0436 - mae: 0.0420 - val_loss: 0.0442 - val_mae: 0.0451\n",
      "Epoch 153/400\n",
      "1/1 [==============================] - 1s 1s/step - loss: 0.0436 - mae: 0.0419 - val_loss: 0.0442 - val_mae: 0.0450\n",
      "Epoch 154/400\n",
      "1/1 [==============================] - 1s 1s/step - loss: 0.0436 - mae: 0.0418 - val_loss: 0.0442 - val_mae: 0.0449\n",
      "Epoch 155/400\n",
      "1/1 [==============================] - 1s 1s/step - loss: 0.0436 - mae: 0.0418 - val_loss: 0.0442 - val_mae: 0.0448\n",
      "Epoch 156/400\n",
      "1/1 [==============================] - 1s 1s/step - loss: 0.0436 - mae: 0.0417 - val_loss: 0.0442 - val_mae: 0.0447\n",
      "Epoch 157/400\n",
      "1/1 [==============================] - 1s 1s/step - loss: 0.0436 - mae: 0.0416 - val_loss: 0.0441 - val_mae: 0.0446\n",
      "Epoch 158/400\n",
      "1/1 [==============================] - 1s 1s/step - loss: 0.0435 - mae: 0.0415 - val_loss: 0.0441 - val_mae: 0.0445\n",
      "Epoch 159/400\n",
      "1/1 [==============================] - 1s 1s/step - loss: 0.0435 - mae: 0.0415 - val_loss: 0.0441 - val_mae: 0.0444\n",
      "Epoch 160/400\n",
      "1/1 [==============================] - 1s 1s/step - loss: 0.0435 - mae: 0.0414 - val_loss: 0.0440 - val_mae: 0.0443\n",
      "Epoch 161/400\n",
      "1/1 [==============================] - 1s 1s/step - loss: 0.0434 - mae: 0.0413 - val_loss: 0.0440 - val_mae: 0.0443\n",
      "Epoch 162/400\n",
      "1/1 [==============================] - 1s 1s/step - loss: 0.0434 - mae: 0.0412 - val_loss: 0.0440 - val_mae: 0.0442\n",
      "Epoch 163/400\n",
      "1/1 [==============================] - 1s 1s/step - loss: 0.0434 - mae: 0.0412 - val_loss: 0.0440 - val_mae: 0.0442\n",
      "Epoch 164/400\n",
      "1/1 [==============================] - 1s 1s/step - loss: 0.0434 - mae: 0.0412 - val_loss: 0.0440 - val_mae: 0.0441\n",
      "Epoch 165/400\n",
      "1/1 [==============================] - 1s 1s/step - loss: 0.0434 - mae: 0.0412 - val_loss: 0.0439 - val_mae: 0.0440\n",
      "Epoch 166/400\n",
      "1/1 [==============================] - 1s 1s/step - loss: 0.0434 - mae: 0.0411 - val_loss: 0.0439 - val_mae: 0.0440\n",
      "Epoch 167/400\n",
      "1/1 [==============================] - 1s 1s/step - loss: 0.0434 - mae: 0.0411 - val_loss: 0.0439 - val_mae: 0.0439\n",
      "Epoch 168/400\n",
      "1/1 [==============================] - 1s 1s/step - loss: 0.0434 - mae: 0.0411 - val_loss: 0.0439 - val_mae: 0.0439\n",
      "Epoch 169/400\n",
      "1/1 [==============================] - 1s 1s/step - loss: 0.0434 - mae: 0.0410 - val_loss: 0.0439 - val_mae: 0.0439\n",
      "Epoch 170/400\n",
      "1/1 [==============================] - 1s 1s/step - loss: 0.0434 - mae: 0.0410 - val_loss: 0.0439 - val_mae: 0.0439\n",
      "Epoch 171/400\n",
      "1/1 [==============================] - 1s 1s/step - loss: 0.0434 - mae: 0.0410 - val_loss: 0.0439 - val_mae: 0.0438\n",
      "Epoch 172/400\n",
      "1/1 [==============================] - 1s 1s/step - loss: 0.0434 - mae: 0.0409 - val_loss: 0.0438 - val_mae: 0.0438\n",
      "Epoch 173/400\n",
      "1/1 [==============================] - 1s 1s/step - loss: 0.0433 - mae: 0.0409 - val_loss: 0.0437 - val_mae: 0.0437\n",
      "Epoch 174/400\n",
      "1/1 [==============================] - 1s 1s/step - loss: 0.0432 - mae: 0.0408 - val_loss: 0.0436 - val_mae: 0.0436\n",
      "Epoch 175/400\n",
      "1/1 [==============================] - 1s 998ms/step - loss: 0.0431 - mae: 0.0407 - val_loss: 0.0436 - val_mae: 0.0436\n",
      "Epoch 176/400\n",
      "1/1 [==============================] - 1s 1s/step - loss: 0.0430 - mae: 0.0406 - val_loss: 0.0436 - val_mae: 0.0436\n",
      "Epoch 177/400\n",
      "1/1 [==============================] - 1s 1s/step - loss: 0.0430 - mae: 0.0406 - val_loss: 0.0435 - val_mae: 0.0436\n",
      "Epoch 178/400\n",
      "1/1 [==============================] - 1s 1s/step - loss: 0.0430 - mae: 0.0405 - val_loss: 0.0435 - val_mae: 0.0435\n",
      "Epoch 179/400\n",
      "1/1 [==============================] - 1s 1s/step - loss: 0.0430 - mae: 0.0405 - val_loss: 0.0435 - val_mae: 0.0435\n",
      "Epoch 180/400\n",
      "1/1 [==============================] - 1s 1s/step - loss: 0.0430 - mae: 0.0405 - val_loss: 0.0435 - val_mae: 0.0435\n",
      "Epoch 181/400\n",
      "1/1 [==============================] - 1s 1s/step - loss: 0.0430 - mae: 0.0405 - val_loss: 0.0435 - val_mae: 0.0434\n",
      "Epoch 182/400\n",
      "1/1 [==============================] - 1s 1s/step - loss: 0.0429 - mae: 0.0404 - val_loss: 0.0434 - val_mae: 0.0433\n",
      "Epoch 183/400\n",
      "1/1 [==============================] - 1s 1s/step - loss: 0.0429 - mae: 0.0403 - val_loss: 0.0434 - val_mae: 0.0433\n",
      "Epoch 184/400\n",
      "1/1 [==============================] - 1s 1s/step - loss: 0.0429 - mae: 0.0402 - val_loss: 0.0434 - val_mae: 0.0433\n",
      "Epoch 185/400\n",
      "1/1 [==============================] - 1s 1s/step - loss: 0.0429 - mae: 0.0402 - val_loss: 0.0434 - val_mae: 0.0433\n",
      "Epoch 186/400\n",
      "1/1 [==============================] - 1s 1s/step - loss: 0.0429 - mae: 0.0403 - val_loss: 0.0434 - val_mae: 0.0434\n",
      "Epoch 187/400\n",
      "1/1 [==============================] - 1s 1s/step - loss: 0.0429 - mae: 0.0403 - val_loss: 0.0434 - val_mae: 0.0433\n",
      "Epoch 188/400\n",
      "1/1 [==============================] - 1s 1s/step - loss: 0.0429 - mae: 0.0402 - val_loss: 0.0434 - val_mae: 0.0433\n"
     ]
    },
    {
     "data": {
      "text/plain": [
       "<tensorflow.python.keras.engine.sequential.Sequential at 0x14456c190>"
      ]
     },
     "execution_count": 84,
     "metadata": {},
     "output_type": "execute_result"
    }
   ],
   "source": [
    "X_train = X_train.reshape(-1, X_train.shape[1], X_train.shape[2], X_train.shape[3], 1)\n",
    "epochs= 400\n",
    "es = EarlyStopping(patience = 5, restore_best_weights=True, verbose=0, monitor='val_loss', mode='min')\n",
    "\n",
    "model_two.fit(X_train, y_train,batch_size = 32, epochs = epochs, validation_split = 0.3,callbacks = es)\n",
    "model_two"
   ]
  },
  {
   "cell_type": "code",
   "execution_count": 86,
   "metadata": {
    "ExecuteTime": {
     "end_time": "2020-12-09T14:27:48.681929Z",
     "start_time": "2020-12-09T14:27:48.408526Z"
    }
   },
   "outputs": [
    {
     "data": {
      "text/plain": [
       "[<matplotlib.lines.Line2D at 0x143f3c070>]"
      ]
     },
     "execution_count": 86,
     "metadata": {},
     "output_type": "execute_result"
    },
    {
     "data": {
      "image/png": "[encoded data removed]",
      "text/plain": [
       "<Figure size 432x288 with 1 Axes>"
      ]
     },
     "metadata": {
      "needs_background": "light"
     },
     "output_type": "display_data"
    }
   ],
   "source": [
    "plt.plot(model_two.history.history['val_loss'])"
   ]
  },
  {
   "cell_type": "code",
   "execution_count": 55,
   "metadata": {
    "ExecuteTime": {
     "end_time": "2020-12-09T14:10:50.191835Z",
     "start_time": "2020-12-09T14:10:50.186450Z"
    }
   },
   "outputs": [
    {
     "name": "stdout",
     "output_type": "stream",
     "text": [
      "Model: \"sequential_9\"\n",
      "_________________________________________________________________\n",
      "Layer (type)                 Output Shape              Param #   \n",
      "=================================================================\n",
      "conv3d_20 (Conv3D)           (None, 64, 22, 8, 32)     2080      \n",
      "_________________________________________________________________\n",
      "max_pooling3d_16 (MaxPooling (None, 32, 11, 4, 32)     0         \n",
      "_________________________________________________________________\n",
      "conv3d_21 (Conv3D)           (None, 30, 9, 2, 64)      55360     \n",
      "_________________________________________________________________\n",
      "max_pooling3d_17 (MaxPooling (None, 15, 4, 1, 64)      0         \n",
      "_________________________________________________________________\n",
      "flatten_5 (Flatten)          (None, 3840)              0         \n",
      "_________________________________________________________________\n",
      "dense_8 (Dense)              (None, 5632)              21632512  \n",
      "_________________________________________________________________\n",
      "reshape_5 (Reshape)          (None, 64, 22, 4)         0         \n",
      "=================================================================\n",
      "Total params: 21,689,952\n",
      "Trainable params: 21,689,952\n",
      "Non-trainable params: 0\n",
      "_________________________________________________________________\n"
     ]
    }
   ],
   "source": [
    "model_two.summary()"
   ]
  },
  {
   "cell_type": "code",
   "execution_count": 56,
   "metadata": {
    "ExecuteTime": {
     "end_time": "2020-12-09T14:10:52.037655Z",
     "start_time": "2020-12-09T14:10:52.026931Z"
    }
   },
   "outputs": [
    {
     "data": {
      "text/plain": [
       "(4, 64, 22, 8, 1)"
      ]
     },
     "execution_count": 56,
     "metadata": {},
     "output_type": "execute_result"
    }
   ],
   "source": [
    "X_test = X_test.reshape(-1, X_test.shape[1], X_test.shape[2], X_test.shape[3], 1)\n",
    "\n",
    "X_test.shape"
   ]
  },
  {
   "cell_type": "code",
   "execution_count": 57,
   "metadata": {
    "ExecuteTime": {
     "end_time": "2020-12-09T14:10:53.299839Z",
     "start_time": "2020-12-09T14:10:53.137661Z"
    }
   },
   "outputs": [],
   "source": [
    "y_pred_two = model_two.predict(X_test)"
   ]
  },
  {
   "cell_type": "code",
   "execution_count": 58,
   "metadata": {
    "ExecuteTime": {
     "end_time": "2020-12-09T14:10:54.340918Z",
     "start_time": "2020-12-09T14:10:54.333113Z"
    }
   },
   "outputs": [
    {
     "data": {
      "text/plain": [
       "(4, 64, 22, 4)"
      ]
     },
     "execution_count": 58,
     "metadata": {},
     "output_type": "execute_result"
    }
   ],
   "source": [
    "y_pred_two.shape"
   ]
  },
  {
   "cell_type": "code",
   "execution_count": 59,
   "metadata": {
    "ExecuteTime": {
     "end_time": "2020-12-09T14:10:56.440779Z",
     "start_time": "2020-12-09T14:10:56.317001Z"
    }
   },
   "outputs": [
    {
     "name": "stdout",
     "output_type": "stream",
     "text": [
      "1/1 [==============================] - 0s 71ms/step - loss: 0.0402 - mae: 0.0472\n"
     ]
    },
    {
     "data": {
      "text/plain": [
       "[0.040209200233221054, 0.047231175005435944]"
      ]
     },
     "execution_count": 59,
     "metadata": {},
     "output_type": "execute_result"
    }
   ],
   "source": [
    "model_two.evaluate(X_test,y_test)"
   ]
  },
  {
   "cell_type": "code",
   "execution_count": 60,
   "metadata": {
    "ExecuteTime": {
     "end_time": "2020-12-09T14:10:58.793541Z",
     "start_time": "2020-12-09T14:10:58.786807Z"
    }
   },
   "outputs": [],
   "source": [
    "import matplotlib.pyplot as plt"
   ]
  },
  {
   "cell_type": "code",
   "execution_count": 61,
   "metadata": {
    "ExecuteTime": {
     "end_time": "2020-12-09T14:11:01.649474Z",
     "start_time": "2020-12-09T14:11:00.742833Z"
    }
   },
   "outputs": [
    {
     "data": {
      "image/png": "[encoded data removed]",
      "text/plain": [
       "<Figure size 1440x720 with 8 Axes>"
      ]
     },
     "metadata": {
      "needs_background": "light"
     },
     "output_type": "display_data"
    }
   ],
   "source": [
    "fig,axes = plt.subplots(y_pred_two.shape[3],2, figsize=(20,10))\n",
    "for i in range(y_pred_two.shape[3]):\n",
    "    axes[i,0].imshow(y_pred_two[0,:,:,i])\n",
    "    axes[i,1].imshow(y_pred_two[0,:,:,i]) "
   ]
  },
  {
   "cell_type": "markdown",
   "metadata": {},
   "source": [
    "### MODEL 3 "
   ]
  },
  {
   "cell_type": "code",
   "execution_count": 40,
   "metadata": {
    "ExecuteTime": {
     "end_time": "2020-12-09T14:03:23.454329Z",
     "start_time": "2020-12-09T14:03:23.014978Z"
    }
   },
   "outputs": [
    {
     "name": "stdout",
     "output_type": "stream",
     "text": [
      "initializing model\n",
      "adding conv3D 1\n",
      "adding MaxPooling\n",
      "Flattening\n",
      "Adding Dense Layer\n",
      "Reshaping\n",
      "Compiling\n",
      "Done !\n"
     ]
    },
    {
     "data": {
      "text/plain": [
       "<tensorflow.python.keras.engine.sequential.Sequential at 0x1442705e0>"
      ]
     },
     "execution_count": 40,
     "metadata": {},
     "output_type": "execute_result"
    }
   ],
   "source": [
    "print('initializing model')\n",
    "model_three = models.Sequential()\n",
    "\n",
    "print('adding conv3D 1') #1.changing to 32 numbers of neurons\n",
    "model_three.add(layers.Conv3D(32, kernel_size = (4,4,4), strides=(1,1,1 ),activation = 'relu', padding='same', input_shape = (64, 22, 8,1))) #changing stride,\n",
    "print('adding MaxPooling')\n",
    "model_three.add(layers.MaxPooling3D(2))\n",
    "\n",
    "#2.added a second layer of CONV3D with 64 neurons, kernel smaller 3 + a maxpooling 2\n",
    "model_three.add(layers.Conv3D(64, kernel_size = (3,3,3),activation = 'relu' )) #adding a layer conv3D + MaxPool3D\n",
    "model_three.add(layers.MaxPool3D(pool_size=(2,2,2)))\n",
    "\n",
    "\n",
    "print('Flattening')\n",
    "model_three.add(layers.Flatten())\n",
    "\n",
    "print('Adding Dense Layer')\n",
    "model_three.add(layers.Dense(64*22*4, activation = 'relu'))\n",
    "\n",
    "#3.adding an other dense layer\n",
    "model.add(layers.Dense(64*22*4, activation='relu'))\n",
    "\n",
    "print('Reshaping')\n",
    "model_three.add(layers.Reshape((64,22,4)))\n",
    "print('Compiling')\n",
    "model_three.compile(loss ='mse',\n",
    "             optimizer='adam',\n",
    "             metrics='mae')\n",
    "print('Done !')\n",
    "model_three"
   ]
  },
  {
   "cell_type": "code",
   "execution_count": 87,
   "metadata": {
    "ExecuteTime": {
     "end_time": "2020-12-09T15:06:41.812687Z",
     "start_time": "2020-12-09T15:04:35.876407Z"
    }
   },
   "outputs": [
    {
     "name": "stdout",
     "output_type": "stream",
     "text": [
      "Epoch 1/200\n",
      "1/1 [==============================] - 2s 2s/step - loss: 0.0874 - mae: 0.0850 - val_loss: 0.0890 - val_mae: 0.0880\n",
      "Epoch 2/200\n",
      "1/1 [==============================] - 1s 1s/step - loss: 0.0871 - mae: 0.0847 - val_loss: 0.0886 - val_mae: 0.0876\n",
      "Epoch 3/200\n",
      "1/1 [==============================] - 1s 1s/step - loss: 0.0867 - mae: 0.0843 - val_loss: 0.0881 - val_mae: 0.0873\n",
      "Epoch 4/200\n",
      "1/1 [==============================] - 1s 996ms/step - loss: 0.0861 - mae: 0.0840 - val_loss: 0.0876 - val_mae: 0.0871\n",
      "Epoch 5/200\n",
      "1/1 [==============================] - 1s 978ms/step - loss: 0.0856 - mae: 0.0837 - val_loss: 0.0871 - val_mae: 0.0867\n",
      "Epoch 6/200\n",
      "1/1 [==============================] - 1s 983ms/step - loss: 0.0850 - mae: 0.0833 - val_loss: 0.0864 - val_mae: 0.0861\n",
      "Epoch 7/200\n",
      "1/1 [==============================] - 1s 997ms/step - loss: 0.0844 - mae: 0.0825 - val_loss: 0.0859 - val_mae: 0.0856\n",
      "Epoch 8/200\n",
      "1/1 [==============================] - 1s 961ms/step - loss: 0.0839 - mae: 0.0819 - val_loss: 0.0854 - val_mae: 0.0852\n",
      "Epoch 9/200\n",
      "1/1 [==============================] - 1s 948ms/step - loss: 0.0834 - mae: 0.0815 - val_loss: 0.0848 - val_mae: 0.0849\n",
      "Epoch 10/200\n",
      "1/1 [==============================] - 1s 902ms/step - loss: 0.0828 - mae: 0.0810 - val_loss: 0.0843 - val_mae: 0.0845\n",
      "Epoch 11/200\n",
      "1/1 [==============================] - 1s 892ms/step - loss: 0.0823 - mae: 0.0806 - val_loss: 0.0839 - val_mae: 0.0840\n",
      "Epoch 12/200\n",
      "1/1 [==============================] - 1s 946ms/step - loss: 0.0818 - mae: 0.0800 - val_loss: 0.0833 - val_mae: 0.0834\n",
      "Epoch 13/200\n",
      "1/1 [==============================] - 1s 1s/step - loss: 0.0813 - mae: 0.0793 - val_loss: 0.0829 - val_mae: 0.0830\n",
      "Epoch 14/200\n",
      "1/1 [==============================] - 1s 989ms/step - loss: 0.0810 - mae: 0.0788 - val_loss: 0.0826 - val_mae: 0.0825\n",
      "Epoch 15/200\n",
      "1/1 [==============================] - 1s 972ms/step - loss: 0.0806 - mae: 0.0783 - val_loss: 0.0823 - val_mae: 0.0821\n",
      "Epoch 16/200\n",
      "1/1 [==============================] - 1s 949ms/step - loss: 0.0804 - mae: 0.0778 - val_loss: 0.0820 - val_mae: 0.0819\n",
      "Epoch 17/200\n",
      "1/1 [==============================] - 1s 979ms/step - loss: 0.0801 - mae: 0.0774 - val_loss: 0.0817 - val_mae: 0.0815\n",
      "Epoch 18/200\n",
      "1/1 [==============================] - 1s 1s/step - loss: 0.0798 - mae: 0.0770 - val_loss: 0.0812 - val_mae: 0.0810\n",
      "Epoch 19/200\n",
      "1/1 [==============================] - 1s 1s/step - loss: 0.0793 - mae: 0.0764 - val_loss: 0.0805 - val_mae: 0.0805\n",
      "Epoch 20/200\n",
      "1/1 [==============================] - 1s 1s/step - loss: 0.0787 - mae: 0.0758 - val_loss: 0.0798 - val_mae: 0.0799\n",
      "Epoch 21/200\n",
      "1/1 [==============================] - 1s 1s/step - loss: 0.0780 - mae: 0.0751 - val_loss: 0.0790 - val_mae: 0.0792\n",
      "Epoch 22/200\n",
      "1/1 [==============================] - 1s 1s/step - loss: 0.0773 - mae: 0.0745 - val_loss: 0.0783 - val_mae: 0.0785\n",
      "Epoch 23/200\n",
      "1/1 [==============================] - 1s 1s/step - loss: 0.0766 - mae: 0.0737 - val_loss: 0.0778 - val_mae: 0.0778\n",
      "Epoch 24/200\n",
      "1/1 [==============================] - 1s 1s/step - loss: 0.0761 - mae: 0.0730 - val_loss: 0.0774 - val_mae: 0.0774\n",
      "Epoch 25/200\n",
      "1/1 [==============================] - 1s 1s/step - loss: 0.0757 - mae: 0.0725 - val_loss: 0.0771 - val_mae: 0.0769\n",
      "Epoch 26/200\n",
      "1/1 [==============================] - 1s 1s/step - loss: 0.0753 - mae: 0.0720 - val_loss: 0.0768 - val_mae: 0.0765\n",
      "Epoch 27/200\n",
      "1/1 [==============================] - 1s 1s/step - loss: 0.0751 - mae: 0.0716 - val_loss: 0.0766 - val_mae: 0.0762\n",
      "Epoch 28/200\n",
      "1/1 [==============================] - 1s 1s/step - loss: 0.0749 - mae: 0.0713 - val_loss: 0.0765 - val_mae: 0.0760\n",
      "Epoch 29/200\n",
      "1/1 [==============================] - 1s 1s/step - loss: 0.0749 - mae: 0.0712 - val_loss: 0.0764 - val_mae: 0.0757\n",
      "Epoch 30/200\n",
      "1/1 [==============================] - 1s 970ms/step - loss: 0.0748 - mae: 0.0710 - val_loss: 0.0763 - val_mae: 0.0754\n",
      "Epoch 31/200\n",
      "1/1 [==============================] - 1s 1s/step - loss: 0.0747 - mae: 0.0708 - val_loss: 0.0760 - val_mae: 0.0751\n",
      "Epoch 32/200\n",
      "1/1 [==============================] - 1s 953ms/step - loss: 0.0744 - mae: 0.0704 - val_loss: 0.0756 - val_mae: 0.0746\n",
      "Epoch 33/200\n",
      "1/1 [==============================] - 1s 971ms/step - loss: 0.0740 - mae: 0.0699 - val_loss: 0.0753 - val_mae: 0.0742\n",
      "Epoch 34/200\n",
      "1/1 [==============================] - 1s 961ms/step - loss: 0.0737 - mae: 0.0694 - val_loss: 0.0750 - val_mae: 0.0738\n",
      "Epoch 35/200\n",
      "1/1 [==============================] - 1s 950ms/step - loss: 0.0734 - mae: 0.0690 - val_loss: 0.0748 - val_mae: 0.0735\n",
      "Epoch 36/200\n",
      "1/1 [==============================] - 1s 909ms/step - loss: 0.0733 - mae: 0.0687 - val_loss: 0.0746 - val_mae: 0.0731\n",
      "Epoch 37/200\n",
      "1/1 [==============================] - 1s 962ms/step - loss: 0.0731 - mae: 0.0684 - val_loss: 0.0744 - val_mae: 0.0727\n",
      "Epoch 38/200\n",
      "1/1 [==============================] - 1s 952ms/step - loss: 0.0729 - mae: 0.0680 - val_loss: 0.0741 - val_mae: 0.0723\n",
      "Epoch 39/200\n",
      "1/1 [==============================] - 1s 973ms/step - loss: 0.0727 - mae: 0.0676 - val_loss: 0.0737 - val_mae: 0.0719\n",
      "Epoch 40/200\n",
      "1/1 [==============================] - 1s 1s/step - loss: 0.0724 - mae: 0.0672 - val_loss: 0.0733 - val_mae: 0.0714\n",
      "Epoch 41/200\n",
      "1/1 [==============================] - 2s 2s/step - loss: 0.0720 - mae: 0.0666 - val_loss: 0.0729 - val_mae: 0.0708\n",
      "Epoch 42/200\n",
      "1/1 [==============================] - 2s 2s/step - loss: 0.0716 - mae: 0.0662 - val_loss: 0.0724 - val_mae: 0.0702\n",
      "Epoch 43/200\n",
      "1/1 [==============================] - 2s 2s/step - loss: 0.0711 - mae: 0.0657 - val_loss: 0.0718 - val_mae: 0.0696\n",
      "Epoch 44/200\n",
      "1/1 [==============================] - 2s 2s/step - loss: 0.0706 - mae: 0.0651 - val_loss: 0.0712 - val_mae: 0.0691\n",
      "Epoch 45/200\n",
      "1/1 [==============================] - 2s 2s/step - loss: 0.0701 - mae: 0.0646 - val_loss: 0.0705 - val_mae: 0.0686\n",
      "Epoch 46/200\n",
      "1/1 [==============================] - 1s 1s/step - loss: 0.0694 - mae: 0.0640 - val_loss: 0.0697 - val_mae: 0.0679\n",
      "Epoch 47/200\n",
      "1/1 [==============================] - 2s 2s/step - loss: 0.0686 - mae: 0.0634 - val_loss: 0.0688 - val_mae: 0.0671\n",
      "Epoch 48/200\n",
      "1/1 [==============================] - 2s 2s/step - loss: 0.0678 - mae: 0.0627 - val_loss: 0.0679 - val_mae: 0.0663\n",
      "Epoch 49/200\n",
      "1/1 [==============================] - 1s 1s/step - loss: 0.0669 - mae: 0.0619 - val_loss: 0.0671 - val_mae: 0.0656\n",
      "Epoch 50/200\n",
      "1/1 [==============================] - 1s 1s/step - loss: 0.0662 - mae: 0.0613 - val_loss: 0.0665 - val_mae: 0.0650\n",
      "Epoch 51/200\n",
      "1/1 [==============================] - 1s 969ms/step - loss: 0.0656 - mae: 0.0607 - val_loss: 0.0660 - val_mae: 0.0645\n",
      "Epoch 52/200\n",
      "1/1 [==============================] - 1s 997ms/step - loss: 0.0650 - mae: 0.0602 - val_loss: 0.0655 - val_mae: 0.0640\n",
      "Epoch 53/200\n",
      "1/1 [==============================] - 1s 890ms/step - loss: 0.0646 - mae: 0.0597 - val_loss: 0.0651 - val_mae: 0.0636\n",
      "Epoch 54/200\n",
      "1/1 [==============================] - 1s 1s/step - loss: 0.0642 - mae: 0.0593 - val_loss: 0.0647 - val_mae: 0.0633\n",
      "Epoch 55/200\n",
      "1/1 [==============================] - 1s 906ms/step - loss: 0.0638 - mae: 0.0591 - val_loss: 0.0644 - val_mae: 0.0631\n",
      "Epoch 56/200\n",
      "1/1 [==============================] - 1s 935ms/step - loss: 0.0636 - mae: 0.0589 - val_loss: 0.0642 - val_mae: 0.0628\n",
      "Epoch 57/200\n",
      "1/1 [==============================] - 1s 899ms/step - loss: 0.0634 - mae: 0.0586 - val_loss: 0.0639 - val_mae: 0.0624\n",
      "Epoch 58/200\n",
      "1/1 [==============================] - 1s 917ms/step - loss: 0.0631 - mae: 0.0582 - val_loss: 0.0636 - val_mae: 0.0620\n",
      "Epoch 59/200\n",
      "1/1 [==============================] - 1s 897ms/step - loss: 0.0629 - mae: 0.0579 - val_loss: 0.0633 - val_mae: 0.0617\n",
      "Epoch 60/200\n",
      "1/1 [==============================] - 1s 866ms/step - loss: 0.0626 - mae: 0.0575 - val_loss: 0.0629 - val_mae: 0.0614\n",
      "Epoch 61/200\n",
      "1/1 [==============================] - 1s 899ms/step - loss: 0.0624 - mae: 0.0573 - val_loss: 0.0626 - val_mae: 0.0611\n",
      "Epoch 62/200\n",
      "1/1 [==============================] - 1s 1s/step - loss: 0.0621 - mae: 0.0570 - val_loss: 0.0621 - val_mae: 0.0606\n",
      "Epoch 63/200\n",
      "1/1 [==============================] - 1s 845ms/step - loss: 0.0617 - mae: 0.0566 - val_loss: 0.0617 - val_mae: 0.0601\n"
     ]
    },
    {
     "name": "stdout",
     "output_type": "stream",
     "text": [
      "Epoch 64/200\n",
      "1/1 [==============================] - 1s 824ms/step - loss: 0.0613 - mae: 0.0562 - val_loss: 0.0613 - val_mae: 0.0597\n",
      "Epoch 65/200\n",
      "1/1 [==============================] - 1s 825ms/step - loss: 0.0609 - mae: 0.0558 - val_loss: 0.0610 - val_mae: 0.0594\n",
      "Epoch 66/200\n",
      "1/1 [==============================] - 1s 841ms/step - loss: 0.0607 - mae: 0.0556 - val_loss: 0.0609 - val_mae: 0.0591\n",
      "Epoch 67/200\n",
      "1/1 [==============================] - 1s 843ms/step - loss: 0.0605 - mae: 0.0553 - val_loss: 0.0607 - val_mae: 0.0588\n",
      "Epoch 68/200\n",
      "1/1 [==============================] - 1s 832ms/step - loss: 0.0604 - mae: 0.0551 - val_loss: 0.0606 - val_mae: 0.0586\n",
      "Epoch 69/200\n",
      "1/1 [==============================] - 1s 848ms/step - loss: 0.0603 - mae: 0.0549 - val_loss: 0.0604 - val_mae: 0.0584\n",
      "Epoch 70/200\n",
      "1/1 [==============================] - 1s 828ms/step - loss: 0.0601 - mae: 0.0547 - val_loss: 0.0602 - val_mae: 0.0581\n",
      "Epoch 71/200\n",
      "1/1 [==============================] - 1s 817ms/step - loss: 0.0600 - mae: 0.0544 - val_loss: 0.0601 - val_mae: 0.0577\n",
      "Epoch 72/200\n",
      "1/1 [==============================] - 1s 842ms/step - loss: 0.0598 - mae: 0.0542 - val_loss: 0.0597 - val_mae: 0.0574\n",
      "Epoch 73/200\n",
      "1/1 [==============================] - 1s 883ms/step - loss: 0.0595 - mae: 0.0539 - val_loss: 0.0594 - val_mae: 0.0569\n",
      "Epoch 74/200\n",
      "1/1 [==============================] - 1s 860ms/step - loss: 0.0592 - mae: 0.0534 - val_loss: 0.0591 - val_mae: 0.0565\n",
      "Epoch 75/200\n",
      "1/1 [==============================] - 1s 830ms/step - loss: 0.0589 - mae: 0.0531 - val_loss: 0.0588 - val_mae: 0.0561\n",
      "Epoch 76/200\n",
      "1/1 [==============================] - 1s 836ms/step - loss: 0.0586 - mae: 0.0529 - val_loss: 0.0584 - val_mae: 0.0557\n",
      "Epoch 77/200\n",
      "1/1 [==============================] - 1s 812ms/step - loss: 0.0583 - mae: 0.0526 - val_loss: 0.0580 - val_mae: 0.0553\n",
      "Epoch 78/200\n",
      "1/1 [==============================] - 1s 825ms/step - loss: 0.0578 - mae: 0.0521 - val_loss: 0.0576 - val_mae: 0.0548\n",
      "Epoch 79/200\n",
      "1/1 [==============================] - 1s 818ms/step - loss: 0.0573 - mae: 0.0516 - val_loss: 0.0572 - val_mae: 0.0545\n",
      "Epoch 80/200\n",
      "1/1 [==============================] - 1s 833ms/step - loss: 0.0570 - mae: 0.0512 - val_loss: 0.0572 - val_mae: 0.0547\n",
      "Epoch 81/200\n",
      "1/1 [==============================] - 1s 843ms/step - loss: 0.0569 - mae: 0.0515 - val_loss: 0.0574 - val_mae: 0.0555\n",
      "Epoch 82/200\n",
      "1/1 [==============================] - 1s 836ms/step - loss: 0.0571 - mae: 0.0526 - val_loss: 0.0576 - val_mae: 0.0557\n",
      "Epoch 83/200\n",
      "1/1 [==============================] - 1s 823ms/step - loss: 0.0572 - mae: 0.0528 - val_loss: 0.0574 - val_mae: 0.0555\n",
      "Epoch 84/200\n",
      "1/1 [==============================] - 1s 822ms/step - loss: 0.0571 - mae: 0.0527 - val_loss: 0.0571 - val_mae: 0.0539\n",
      "Epoch 85/200\n",
      "1/1 [==============================] - 1s 818ms/step - loss: 0.0568 - mae: 0.0508 - val_loss: 0.0571 - val_mae: 0.0546\n",
      "Epoch 86/200\n",
      "1/1 [==============================] - 1s 836ms/step - loss: 0.0568 - mae: 0.0516 - val_loss: 0.0570 - val_mae: 0.0549\n",
      "Epoch 87/200\n",
      "1/1 [==============================] - 1s 811ms/step - loss: 0.0567 - mae: 0.0521 - val_loss: 0.0567 - val_mae: 0.0532\n",
      "Epoch 88/200\n",
      "1/1 [==============================] - 1s 840ms/step - loss: 0.0564 - mae: 0.0501 - val_loss: 0.0566 - val_mae: 0.0537\n",
      "Epoch 89/200\n",
      "1/1 [==============================] - 1s 872ms/step - loss: 0.0564 - mae: 0.0508 - val_loss: 0.0566 - val_mae: 0.0538\n",
      "Epoch 90/200\n",
      "1/1 [==============================] - 1s 818ms/step - loss: 0.0564 - mae: 0.0510 - val_loss: 0.0563 - val_mae: 0.0526\n",
      "Epoch 91/200\n",
      "1/1 [==============================] - 1s 840ms/step - loss: 0.0562 - mae: 0.0495 - val_loss: 0.0564 - val_mae: 0.0533\n",
      "Epoch 92/200\n",
      "1/1 [==============================] - 1s 850ms/step - loss: 0.0562 - mae: 0.0505 - val_loss: 0.0563 - val_mae: 0.0531\n",
      "Epoch 93/200\n",
      "1/1 [==============================] - 1s 819ms/step - loss: 0.0562 - mae: 0.0503 - val_loss: 0.0561 - val_mae: 0.0521\n",
      "Epoch 94/200\n",
      "1/1 [==============================] - 1s 824ms/step - loss: 0.0561 - mae: 0.0491 - val_loss: 0.0562 - val_mae: 0.0529\n",
      "Epoch 95/200\n",
      "1/1 [==============================] - 1s 855ms/step - loss: 0.0562 - mae: 0.0502 - val_loss: 0.0562 - val_mae: 0.0524\n",
      "Epoch 96/200\n",
      "1/1 [==============================] - 1s 864ms/step - loss: 0.0561 - mae: 0.0496 - val_loss: 0.0561 - val_mae: 0.0519\n",
      "Epoch 97/200\n",
      "1/1 [==============================] - 1s 857ms/step - loss: 0.0560 - mae: 0.0489 - val_loss: 0.0562 - val_mae: 0.0527\n",
      "Epoch 98/200\n",
      "1/1 [==============================] - 1s 798ms/step - loss: 0.0561 - mae: 0.0499 - val_loss: 0.0561 - val_mae: 0.0520\n",
      "Epoch 99/200\n",
      "1/1 [==============================] - 1s 837ms/step - loss: 0.0560 - mae: 0.0490 - val_loss: 0.0560 - val_mae: 0.0518\n",
      "Epoch 100/200\n",
      "1/1 [==============================] - 1s 832ms/step - loss: 0.0559 - mae: 0.0488 - val_loss: 0.0560 - val_mae: 0.0522\n",
      "Epoch 101/200\n",
      "1/1 [==============================] - 1s 824ms/step - loss: 0.0560 - mae: 0.0493 - val_loss: 0.0559 - val_mae: 0.0514\n",
      "Epoch 102/200\n",
      "1/1 [==============================] - 1s 824ms/step - loss: 0.0559 - mae: 0.0484 - val_loss: 0.0559 - val_mae: 0.0515\n",
      "Epoch 103/200\n",
      "1/1 [==============================] - 1s 838ms/step - loss: 0.0559 - mae: 0.0486 - val_loss: 0.0559 - val_mae: 0.0516\n",
      "Epoch 104/200\n",
      "1/1 [==============================] - 1s 841ms/step - loss: 0.0559 - mae: 0.0487 - val_loss: 0.0558 - val_mae: 0.0510\n",
      "Epoch 105/200\n",
      "1/1 [==============================] - 1s 818ms/step - loss: 0.0558 - mae: 0.0480 - val_loss: 0.0559 - val_mae: 0.0513\n",
      "Epoch 106/200\n",
      "1/1 [==============================] - 1s 845ms/step - loss: 0.0558 - mae: 0.0484 - val_loss: 0.0558 - val_mae: 0.0512\n",
      "Epoch 107/200\n",
      "1/1 [==============================] - 1s 839ms/step - loss: 0.0558 - mae: 0.0482 - val_loss: 0.0558 - val_mae: 0.0508\n",
      "Epoch 108/200\n",
      "1/1 [==============================] - 1s 846ms/step - loss: 0.0558 - mae: 0.0479 - val_loss: 0.0557 - val_mae: 0.0509\n",
      "Epoch 109/200\n",
      "1/1 [==============================] - 1s 818ms/step - loss: 0.0557 - mae: 0.0481 - val_loss: 0.0556 - val_mae: 0.0507\n",
      "Epoch 110/200\n",
      "1/1 [==============================] - 1s 825ms/step - loss: 0.0556 - mae: 0.0477 - val_loss: 0.0555 - val_mae: 0.0506\n",
      "Epoch 111/200\n",
      "1/1 [==============================] - 1s 823ms/step - loss: 0.0555 - mae: 0.0476 - val_loss: 0.0554 - val_mae: 0.0505\n",
      "Epoch 112/200\n",
      "1/1 [==============================] - 1s 831ms/step - loss: 0.0554 - mae: 0.0477 - val_loss: 0.0553 - val_mae: 0.0503\n",
      "Epoch 113/200\n",
      "1/1 [==============================] - 1s 840ms/step - loss: 0.0553 - mae: 0.0474 - val_loss: 0.0553 - val_mae: 0.0503\n",
      "Epoch 114/200\n",
      "1/1 [==============================] - 1s 817ms/step - loss: 0.0552 - mae: 0.0473 - val_loss: 0.0553 - val_mae: 0.0502\n",
      "Epoch 115/200\n",
      "1/1 [==============================] - 1s 840ms/step - loss: 0.0552 - mae: 0.0473 - val_loss: 0.0553 - val_mae: 0.0500\n",
      "Epoch 116/200\n",
      "1/1 [==============================] - 1s 840ms/step - loss: 0.0552 - mae: 0.0470 - val_loss: 0.0553 - val_mae: 0.0501\n",
      "Epoch 117/200\n",
      "1/1 [==============================] - 1s 826ms/step - loss: 0.0553 - mae: 0.0471 - val_loss: 0.0554 - val_mae: 0.0501\n",
      "Epoch 118/200\n",
      "1/1 [==============================] - 1s 808ms/step - loss: 0.0553 - mae: 0.0472 - val_loss: 0.0554 - val_mae: 0.0499\n",
      "Epoch 119/200\n",
      "1/1 [==============================] - 1s 841ms/step - loss: 0.0553 - mae: 0.0469 - val_loss: 0.0553 - val_mae: 0.0500\n"
     ]
    },
    {
     "data": {
      "text/plain": [
       "<tensorflow.python.keras.engine.sequential.Sequential at 0x1442705e0>"
      ]
     },
     "execution_count": 87,
     "metadata": {},
     "output_type": "execute_result"
    }
   ],
   "source": [
    "X_train = X_train.reshape(-1, X_train.shape[1], X_train.shape[2], X_train.shape[3], 1)\n",
    "epochs= 200\n",
    "es = EarlyStopping(patience = 5, restore_best_weights=True, verbose=0, monitor='val_loss', mode='min')\n",
    "\n",
    "model_three.fit(X_train, y_train,batch_size = 32, epochs = epochs, validation_split = 0.3,callbacks = es)\n",
    "model_three"
   ]
  },
  {
   "cell_type": "code",
   "execution_count": null,
   "metadata": {},
   "outputs": [],
   "source": []
  }
 ],
 "metadata": {
  "kernelspec": {
   "display_name": "Python 3",
   "language": "python",
   "name": "python3"
  },
  "language_info": {
   "codemirror_mode": {
    "name": "ipython",
    "version": 3
   },
   "file_extension": ".py",
   "mimetype": "text/x-python",
   "name": "python",
   "nbconvert_exporter": "python",
   "pygments_lexer": "ipython3",
   "version": "3.8.5"
  },
  "toc": {
   "base_numbering": 1,
   "nav_menu": {},
   "number_sections": true,
   "sideBar": true,
   "skip_h1_title": false,
   "title_cell": "Table of Contents",
   "title_sidebar": "Contents",
   "toc_cell": false,
   "toc_position": {},
   "toc_section_display": true,
   "toc_window_display": false
  },
  "varInspector": {
   "cols": {
    "lenName": 16,
    "lenType": 16,
    "lenVar": 40
   },
   "kernels_config": {
    "python": {
     "delete_cmd_postfix": "",
     "delete_cmd_prefix": "del ",
     "library": "var_list.py",
     "varRefreshCmd": "print(var_dic_list())"
    },
    "r": {
     "delete_cmd_postfix": ") ",
     "delete_cmd_prefix": "rm(",
     "library": "var_list.r",
     "varRefreshCmd": "cat(var_dic_list()) "
    }
   },
   "types_to_exclude": [
    "module",
    "function",
    "builtin_function_or_method",
    "instance",
    "_Feature"
   ],
   "window_display": false
  }
 },
 "nbformat": 4,
 "nbformat_minor": 4
}
