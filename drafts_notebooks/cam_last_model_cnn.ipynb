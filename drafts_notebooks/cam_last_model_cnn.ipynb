{
 "cells": [
  {
   "cell_type": "markdown",
   "metadata": {},
   "source": [
    "## NYPD Data"
   ]
  },
  {
   "cell_type": "markdown",
   "metadata": {},
   "source": [
    "### Imports"
   ]
  },
  {
   "cell_type": "code",
   "execution_count": 1,
   "metadata": {
    "ExecuteTime": {
     "end_time": "2020-12-08T19:16:10.831877Z",
     "start_time": "2020-12-08T19:16:09.364309Z"
    }
   },
   "outputs": [],
   "source": [
    "# data import\n",
    "import pickle\n",
    "\n",
    "# data manipulation\n",
    "import numpy as np\n",
    "import pandas as pd\n",
    "from datetime import datetime\n",
    "\n",
    "# plotting\n",
    "import matplotlib.pyplot as plt\n",
    "\n",
    "#gaussian filter\n",
    "from scipy.ndimage import gaussian_filter"
   ]
  },
  {
   "cell_type": "markdown",
   "metadata": {},
   "source": [
    "### Data Import"
   ]
  },
  {
   "cell_type": "code",
   "execution_count": 2,
   "metadata": {
    "ExecuteTime": {
     "end_time": "2020-12-08T19:16:11.893260Z",
     "start_time": "2020-12-08T19:16:11.554103Z"
    }
   },
   "outputs": [],
   "source": [
    "pickle_path = ('../raw_data/clean-75-precinct.pickle')\n",
    "with open(pickle_path, 'rb') as f:\n",
    "    df = pickle.load(f)"
   ]
  },
  {
   "cell_type": "markdown",
   "metadata": {},
   "source": [
    "### Sample Selection"
   ]
  },
  {
   "cell_type": "code",
   "execution_count": 3,
   "metadata": {
    "ExecuteTime": {
     "end_time": "2020-12-08T19:16:15.512025Z",
     "start_time": "2020-12-08T19:16:15.447613Z"
    }
   },
   "outputs": [],
   "source": [
    "inf = df['period'] > datetime(2012, 1, 1, 0, 0, 0)\n",
    "sup = df['period'] < datetime(2013, 1, 1, 0, 0, 0)\n",
    "sample = df[ inf & sup ]"
   ]
  },
  {
   "cell_type": "code",
   "execution_count": 4,
   "metadata": {
    "ExecuteTime": {
     "end_time": "2020-12-08T19:16:16.134701Z",
     "start_time": "2020-12-08T19:16:16.112602Z"
    }
   },
   "outputs": [
    {
     "data": {
      "text/plain": [
       "(-73.904645897, -73.855902525, 40.607512254, 40.691192349)"
      ]
     },
     "execution_count": 4,
     "metadata": {},
     "output_type": "execute_result"
    }
   ],
   "source": [
    "sample['longitude'].min(), sample['longitude'].max(), sample['latitude'].min(), sample['latitude'].max() "
   ]
  },
  {
   "cell_type": "code",
   "execution_count": 5,
   "metadata": {
    "ExecuteTime": {
     "end_time": "2020-12-08T19:16:17.961396Z",
     "start_time": "2020-12-08T19:16:17.930320Z"
    }
   },
   "outputs": [],
   "source": [
    "del df"
   ]
  },
  {
   "cell_type": "code",
   "execution_count": null,
   "metadata": {
    "ExecuteTime": {
     "end_time": "2020-12-08T17:01:32.797894Z",
     "start_time": "2020-12-08T17:01:30.376Z"
    }
   },
   "outputs": [],
   "source": [
    "sample.shape"
   ]
  },
  {
   "cell_type": "markdown",
   "metadata": {
    "heading_collapsed": true
   },
   "source": [
    "### DataGenerator"
   ]
  },
  {
   "cell_type": "code",
   "execution_count": null,
   "metadata": {
    "ExecuteTime": {
     "end_time": "2020-12-08T17:01:32.813288Z",
     "start_time": "2020-12-08T17:01:30.383Z"
    },
    "hidden": true
   },
   "outputs": [],
   "source": [
    "# import tensorflow as tf\n",
    "\n",
    "# class CustomDataGenerator(tf.keras.utils.Sequence):\n",
    "#   def __init__(self, df, batch_size=32, shuffle=True, lat_meters=100, lon_meters=100, *args, **kwargs):\n",
    "#     self.df = df\n",
    "#     self.batch_size = batch_size\n",
    "#     self.indices = np.arange(len(self.df))\n",
    "#     self.shuffle = shuffle\n",
    "#     self.lat_meters = lat_meters\n",
    "#     self.lon_meters = lon_meters\n",
    "#     self.on_epoch_end()\n",
    "\n",
    "#   def __len__(self):\n",
    "#     \"\"\"\n",
    "#     Return the number of batches so the generator knows how many batches\n",
    "#     it should generate for each epoch\n",
    "#     \"\"\"\n",
    "#     return len(df) // self.batch_size\n",
    "\n",
    "#   def __getitem__(self, i):\n",
    "#     \"\"\"\n",
    "#     Return the i-th batch\n",
    "#     \"\"\"\n",
    "#     batch_indices = self.indices[i * self.batch_size:(i + 1) * self.batch_size]\n",
    "#     batch = self.df.iloc[batch_indices] \n",
    "#     return self.__get_data(batch)\n",
    "\n",
    "#   def __get_data(self, batch):\n",
    "#     X = from_coord_to_matrix(batch, lat_meters=self.lat_meters, lon_meters=self.lon_meters)\n",
    "#     y = from_coord_to_matrix(batch, lat_meters=self.lat_meters, lon_meters=self.lon_meters) # à changer\n",
    "#     return X, y\n",
    "\n",
    "#   def on_epoch_end(self):\n",
    "#     self.indices = np.arange(len(self.df))\n",
    "#     if self.shuffle == True:\n",
    "#         np.random.shuffle(self.indices)"
   ]
  },
  {
   "cell_type": "code",
   "execution_count": null,
   "metadata": {
    "ExecuteTime": {
     "end_time": "2020-12-08T17:01:32.846244Z",
     "start_time": "2020-12-08T17:01:30.388Z"
    },
    "hidden": true
   },
   "outputs": [],
   "source": [
    "# BATCH_SIZE = 2\n",
    "\n",
    "# datagen = CustomDataGenerator(df, batch_size=BATCH_SIZE)\n",
    "# p, q = datagen.__getitem__(3)\n",
    "# print(p.shape)\n",
    "# print(q.shape)"
   ]
  },
  {
   "cell_type": "markdown",
   "metadata": {},
   "source": [
    "### Lat - Long to Array"
   ]
  },
  {
   "cell_type": "code",
   "execution_count": 6,
   "metadata": {
    "ExecuteTime": {
     "end_time": "2020-12-08T19:16:21.280508Z",
     "start_time": "2020-12-08T19:16:21.259557Z"
    }
   },
   "outputs": [],
   "source": [
    "def from_meters_to_coords(lat_meters, lon_meters):\n",
    "    \"\"\"\n",
    "    gives the latitude and longitude step to use for the grid buckets\n",
    "    lat_meters, lon_meters = lat/lon step\n",
    "    \"\"\"\n",
    "    #Position, decimal degrees\n",
    "    lat = 40\n",
    "    lon = -73\n",
    "\n",
    "    #Earth's radius, sphere\n",
    "    R=6378137\n",
    "\n",
    "    #offsets in meters\n",
    "    dn = lat_meters\n",
    "    de = lon_meters\n",
    "\n",
    "    #Coordinate offsets in radians\n",
    "    dLat = dn/R\n",
    "    dLon = de/(R*np.cos(np.pi*lat/180))\n",
    "\n",
    "    #OffsetPosition, decimal degrees\n",
    "    latO = dLat * 180/np.pi\n",
    "    lonO = dLon * 180/np.pi \n",
    "\n",
    "    return latO, lonO"
   ]
  },
  {
   "cell_type": "code",
   "execution_count": 7,
   "metadata": {
    "ExecuteTime": {
     "end_time": "2020-12-08T19:16:21.852481Z",
     "start_time": "2020-12-08T19:16:21.826651Z"
    }
   },
   "outputs": [],
   "source": [
    "def from_coord_to_matrix(df, lat_meters, lon_meters):\n",
    "    \"\"\"\n",
    "    outputs the 3D matrix of all coordinates for a given bucket height and width in meters\n",
    "    \"\"\"\n",
    "    df = df.copy()\n",
    "    #add 'time_index' column to df\n",
    "    ind = {time: index for index, time in enumerate(np.sort(df['week'].unique()))}\n",
    "    df['time_index'] = df['week'].map(ind)\n",
    "    #initiate matrix\n",
    "    #40.49611539518921, 40.91553277600008, -74.25559136315213,-73.70000906387347) : NYC boundaries\n",
    "    #([40.56952999448672, 40.73912795313436],[-74.04189660705046, -73.83355923946421]) : brooklyn boundaries\n",
    "    #[40.6218192717505, 40.6951504231971],[-73.90404639808888, -73.83559344190869]) :precinct 75 boundaries\n",
    "    # Where do you start\n",
    "    # grid_offset = np.array([-40.691192349, -73.904645897, 0])\n",
    "    \n",
    "    grid_offset = np.array([ -df['latitude'].max(), df['longitude'].min(), 0 ])\n",
    "    \n",
    "    #from meters to lat/lon step\n",
    "    lat_spacing, lon_spacing = from_meters_to_coords(lat_meters, lon_meters )\n",
    "    grid_spacing = np.array([lat_spacing , lon_spacing,1]) # What's the space you consider (euclidian here)\n",
    "    \n",
    "    #get points coordinates\n",
    "    coords = np.array([( -lat, lon,t_ind) for lat, lon,t_ind \\\n",
    "                   in zip(df['latitude'],df['longitude'],df['time_index'])])\n",
    "    \n",
    "    # Convert point to index\n",
    "    indexes = np.round((coords - grid_offset)/grid_spacing).astype('int')\n",
    "    X = indexes[:,0]\n",
    "    Y = indexes[:,1]\n",
    "    Z = indexes[:,2]\n",
    "    #virgin matrix\n",
    "    a = np.zeros((X.max()+1, Y.max()+1, Z.max()+1))\n",
    "    a[X, Y, Z]=1\n",
    "    return a, a.shape[0], a.shape[1]"
   ]
  },
  {
   "cell_type": "code",
   "execution_count": 8,
   "metadata": {
    "ExecuteTime": {
     "end_time": "2020-12-08T19:16:23.774645Z",
     "start_time": "2020-12-08T19:16:23.554743Z"
    }
   },
   "outputs": [],
   "source": [
    "sample['week'] = sample['period'].apply(lambda x: int(x.strftime('%V')))"
   ]
  },
  {
   "cell_type": "code",
   "execution_count": 9,
   "metadata": {
    "ExecuteTime": {
     "end_time": "2020-12-08T19:16:25.239698Z",
     "start_time": "2020-12-08T19:16:25.165739Z"
    }
   },
   "outputs": [],
   "source": [
    "img, lat_size, lon_size = from_coord_to_matrix(sample, 15,10)"
   ]
  },
  {
   "cell_type": "code",
   "execution_count": null,
   "metadata": {
    "ExecuteTime": {
     "end_time": "2020-12-08T19:08:10.691596Z",
     "start_time": "2020-12-08T19:08:10.674697Z"
    }
   },
   "outputs": [],
   "source": [
    "lat_size"
   ]
  },
  {
   "cell_type": "code",
   "execution_count": null,
   "metadata": {
    "ExecuteTime": {
     "end_time": "2020-12-08T19:08:11.372901Z",
     "start_time": "2020-12-08T19:08:11.339107Z"
    }
   },
   "outputs": [],
   "source": [
    "lon_size"
   ]
  },
  {
   "cell_type": "code",
   "execution_count": null,
   "metadata": {
    "ExecuteTime": {
     "end_time": "2020-12-08T17:01:32.976094Z",
     "start_time": "2020-12-08T17:01:30.422Z"
    }
   },
   "outputs": [],
   "source": [
    "img.shape"
   ]
  },
  {
   "cell_type": "code",
   "execution_count": null,
   "metadata": {
    "ExecuteTime": {
     "end_time": "2020-12-08T17:01:32.983571Z",
     "start_time": "2020-12-08T17:01:30.425Z"
    }
   },
   "outputs": [],
   "source": [
    "plt.figure(figsize=(30, 30))\n",
    "\n",
    "plt.imshow(img[:,:,10], cmap='gray');"
   ]
  },
  {
   "cell_type": "markdown",
   "metadata": {},
   "source": [
    "### Plotting Array (with and w/o Gaussian filter)"
   ]
  },
  {
   "cell_type": "code",
   "execution_count": null,
   "metadata": {
    "ExecuteTime": {
     "end_time": "2020-12-08T17:01:32.990043Z",
     "start_time": "2020-12-08T17:01:30.433Z"
    }
   },
   "outputs": [],
   "source": [
    "#plt.figure(figsize=(5, 5))\n",
    "#plt.imshow(img[3], cmap='gray');"
   ]
  },
  {
   "cell_type": "code",
   "execution_count": null,
   "metadata": {
    "ExecuteTime": {
     "end_time": "2020-12-08T17:01:32.997634Z",
     "start_time": "2020-12-08T17:01:30.438Z"
    }
   },
   "outputs": [],
   "source": [
    "# crime \n",
    "# sur 500m de chaque cote, 1 semaine a se deteriorer, 168h/2 (84t)\n",
    "# 25 y \n",
    "# 50x\n"
   ]
  },
  {
   "cell_type": "code",
   "execution_count": 10,
   "metadata": {
    "ExecuteTime": {
     "end_time": "2020-12-08T19:16:36.572776Z",
     "start_time": "2020-12-08T19:16:35.649215Z"
    }
   },
   "outputs": [],
   "source": [
    "img3D_conv = gaussian_filter(img, sigma=(1,1,3))"
   ]
  },
  {
   "cell_type": "code",
   "execution_count": null,
   "metadata": {
    "ExecuteTime": {
     "end_time": "2020-12-08T17:06:39.492117Z",
     "start_time": "2020-12-08T17:06:39.477911Z"
    }
   },
   "outputs": [],
   "source": [
    "img3D_conv.shape"
   ]
  },
  {
   "cell_type": "code",
   "execution_count": null,
   "metadata": {
    "ExecuteTime": {
     "end_time": "2020-12-08T17:01:33.005961Z",
     "start_time": "2020-12-08T17:01:30.447Z"
    }
   },
   "outputs": [],
   "source": [
    "plt.figure(figsize=(10, 10))\n",
    "\n",
    "plt.imshow(img3D_conv[:,:,4], cmap='gray');"
   ]
  },
  {
   "cell_type": "markdown",
   "metadata": {},
   "source": [
    "### Splitting into X and y"
   ]
  },
  {
   "cell_type": "code",
   "execution_count": 11,
   "metadata": {
    "ExecuteTime": {
     "end_time": "2020-12-08T19:16:39.754199Z",
     "start_time": "2020-12-08T19:16:39.736665Z"
    }
   },
   "outputs": [],
   "source": [
    "def stacking(img3D, window, lat_step, lon_step, time_step):\n",
    "    \n",
    "    grid_offset = np.array([0,0,0]) # Where do you start\n",
    "    \n",
    "    #new steps from precise grid\n",
    "    grid_spacing = np.array([lat_step , lon_step, time_step]) \n",
    "    #get points coordinates\n",
    "    coords = np.argwhere(window)\n",
    "    flat = window.flatten()\n",
    "    values = flat[flat !=0]\n",
    "    \n",
    "    # Convert point to index\n",
    "    indexes = np.round((coords - grid_offset)/grid_spacing).astype('int')\n",
    "    X = indexes[:,0] \n",
    "    Y = indexes[:,1] \n",
    "    Z = indexes[:,2]\n",
    "    \n",
    "    #virgin matrix\n",
    "    a = np.zeros((int(img3D.shape[0]/lat_step)+2, int(img3D.shape[1]/lon_step)+2,Z.max()+2))  \n",
    "    \n",
    "    for i in range(len(indexes)):\n",
    "        if a[X[i], Y[i], Z[i]] == 0:\n",
    "            a[X[i], Y[i], Z[i]] = values[i]\n",
    "        else:\n",
    "            a[X[i], Y[i], Z[i]] += values[i]\n",
    "                        \n",
    "    return a"
   ]
  },
  {
   "cell_type": "code",
   "execution_count": 12,
   "metadata": {
    "ExecuteTime": {
     "end_time": "2020-12-08T19:16:40.359231Z",
     "start_time": "2020-12-08T19:16:40.351527Z"
    }
   },
   "outputs": [],
   "source": [
    "def get_observation_target(img3D,\n",
    "                           obs_timeframe,obs_lat,obs_lon, obs_time,\n",
    "                           target_timeframe,  tar_lat,tar_lon, tar_time):\n",
    "    '''\n",
    "    output an observation of x_length consecutive images and the y_length next images as the target\n",
    "    obs_step, obs_timeframe, target_step, target_timeframe : unit = hours\n",
    "    '''\n",
    "    #function from raw to hours\n",
    "    #print('creating obs')\n",
    "    length = obs_timeframe + target_timeframe\n",
    "    \n",
    "    position = np.random.randint(0, img3D_conv.shape[2] - length)\n",
    "\n",
    "    subsample = img3D[:, :, position : position + length]\n",
    "    #print(subsample.shape)\n",
    "    \n",
    "    observations, targets = np.split(subsample,[obs_timeframe], axis=2) # divide the subsample in X and y\n",
    "    \n",
    "    #print(observations.shape)\n",
    "    #print(observations.min(), observations.max())\n",
    "    \n",
    "    observation = stacking(img3D, observations, obs_lat, obs_lon, obs_time) #get stacked hours for all images\n",
    "    #print(observation.shape)\n",
    "    #print (targets.shape)\n",
    "    \n",
    "    target = stacking(img3D, targets,  tar_lat, tar_lon, tar_time )\n",
    "    #print(target.shape)\n",
    "    return observation, target"
   ]
  },
  {
   "cell_type": "code",
   "execution_count": null,
   "metadata": {
    "ExecuteTime": {
     "end_time": "2020-12-08T19:08:23.651230Z",
     "start_time": "2020-12-08T19:08:23.641679Z"
    }
   },
   "outputs": [],
   "source": [
    "obs_lon = 20 # 20*10m together in lon\n",
    "obs_lat = 10 # 10*15m\n",
    "obs_time = 2 #  2 weeks stacked together\n",
    "obs_tf = 12 # for 12weeks straight as X\n",
    "tar_lon = 20 # 4*10m together in lon\n",
    "tar_lat = 10 # 5*10m\n",
    "tar_time = 2 # 2weeks stacked together\n",
    "tar_tf = 4 # for 4weeks straight as y"
   ]
  },
  {
   "cell_type": "code",
   "execution_count": null,
   "metadata": {
    "ExecuteTime": {
     "end_time": "2020-12-08T19:08:29.207812Z",
     "start_time": "2020-12-08T19:08:24.712784Z"
    }
   },
   "outputs": [],
   "source": [
    "observation, target = get_observation_target(img3D_conv,\n",
    "                                             obs_tf, obs_lat,obs_lon,  obs_time,\n",
    "                                             tar_tf, tar_lat,tar_lon,  tar_time)"
   ]
  },
  {
   "cell_type": "code",
   "execution_count": null,
   "metadata": {
    "ExecuteTime": {
     "end_time": "2020-12-08T17:01:33.064714Z",
     "start_time": "2020-12-08T17:01:30.465Z"
    }
   },
   "outputs": [],
   "source": [
    "observation.shape"
   ]
  },
  {
   "cell_type": "code",
   "execution_count": null,
   "metadata": {
    "ExecuteTime": {
     "end_time": "2020-12-08T17:01:33.071429Z",
     "start_time": "2020-12-08T17:01:30.469Z"
    }
   },
   "outputs": [],
   "source": [
    "target.shape"
   ]
  },
  {
   "cell_type": "markdown",
   "metadata": {},
   "source": [
    "### Subsampling to get multiple X and y"
   ]
  },
  {
   "cell_type": "code",
   "execution_count": 13,
   "metadata": {
    "ExecuteTime": {
     "end_time": "2020-12-08T19:16:43.053204Z",
     "start_time": "2020-12-08T19:16:43.034516Z"
    }
   },
   "outputs": [],
   "source": [
    "def get_X_y(img3D_conv, nb_observations, obs_tf,obs_lat,obs_lon, obs_time,\n",
    "                tar_tf, tar_lat,tar_lon, tar_time):\n",
    "    '''\n",
    "    outputs n observations and their associated targets\n",
    "    '''\n",
    "    X = []\n",
    "    y = []\n",
    "    \n",
    "    for n in range(nb_observations):\n",
    "        print(f'creating obs {n}/{nb_observations}')\n",
    "        X_subsample, y_subsample = get_observation_target(img3D_conv,\n",
    "                                       obs_tf,obs_lat,obs_lon, obs_time,\n",
    "                                       tar_tf,  tar_lat,tar_lon, tar_time)\n",
    "        X.append(X_subsample)\n",
    "        y.append(y_subsample)\n",
    "        \n",
    "    X = np.array(X)\n",
    "    y = np.array(y)\n",
    "\n",
    "    del X_subsample, y_subsample, n\n",
    "    \n",
    "    return X, y"
   ]
  },
  {
   "cell_type": "code",
   "execution_count": 14,
   "metadata": {
    "ExecuteTime": {
     "end_time": "2020-12-08T19:16:43.714575Z",
     "start_time": "2020-12-08T19:16:43.700875Z"
    }
   },
   "outputs": [],
   "source": [
    "obs_lon = 20 # 20*10m together in lon\n",
    "obs_lat = 10 # 10*15m\n",
    "obs_time = 2 #  2 weeks stacked together\n",
    "obs_tf = 12 # for 12weeks straight as X\n",
    "tar_lon = 20 # 4*10m together in lon\n",
    "tar_lat = 10 # 5*10m\n",
    "tar_time = 2 # 2weeks stacked together\n",
    "tar_tf = 4 # for 4weeks straight as y"
   ]
  },
  {
   "cell_type": "code",
   "execution_count": 15,
   "metadata": {
    "ExecuteTime": {
     "end_time": "2020-12-08T19:18:09.107967Z",
     "start_time": "2020-12-08T19:16:45.224985Z"
    },
    "collapsed": true
   },
   "outputs": [
    {
     "name": "stdout",
     "output_type": "stream",
     "text": [
      "creating obs 0/20\n",
      "creating obs\n",
      "(64, 22, 8)\n",
      "(64, 22, 4)\n",
      "creating obs 1/20\n",
      "creating obs\n",
      "(64, 22, 8)\n",
      "(64, 22, 4)\n",
      "creating obs 2/20\n",
      "creating obs\n",
      "(64, 22, 8)\n",
      "(64, 22, 4)\n",
      "creating obs 3/20\n",
      "creating obs\n",
      "(64, 22, 8)\n",
      "(64, 22, 4)\n",
      "creating obs 4/20\n",
      "creating obs\n",
      "(64, 22, 8)\n",
      "(64, 22, 4)\n",
      "creating obs 5/20\n",
      "creating obs\n",
      "(64, 22, 8)\n",
      "(64, 22, 4)\n",
      "creating obs 6/20\n",
      "creating obs\n",
      "(64, 22, 8)\n",
      "(64, 22, 4)\n",
      "creating obs 7/20\n",
      "creating obs\n",
      "(64, 22, 8)\n",
      "(64, 22, 4)\n",
      "creating obs 8/20\n",
      "creating obs\n",
      "(64, 22, 8)\n",
      "(64, 22, 4)\n",
      "creating obs 9/20\n",
      "creating obs\n",
      "(64, 22, 8)\n",
      "(64, 22, 4)\n",
      "creating obs 10/20\n",
      "creating obs\n",
      "(64, 22, 8)\n",
      "(64, 22, 4)\n",
      "creating obs 11/20\n",
      "creating obs\n",
      "(64, 22, 8)\n",
      "(64, 22, 4)\n",
      "creating obs 12/20\n",
      "creating obs\n",
      "(64, 22, 8)\n",
      "(64, 22, 4)\n",
      "creating obs 13/20\n",
      "creating obs\n",
      "(64, 22, 8)\n",
      "(64, 22, 4)\n",
      "creating obs 14/20\n",
      "creating obs\n",
      "(64, 22, 8)\n",
      "(64, 22, 4)\n",
      "creating obs 15/20\n",
      "creating obs\n",
      "(64, 22, 8)\n",
      "(64, 22, 4)\n",
      "creating obs 16/20\n",
      "creating obs\n",
      "(64, 22, 8)\n",
      "(64, 22, 4)\n",
      "creating obs 17/20\n",
      "creating obs\n",
      "(64, 22, 8)\n",
      "(64, 22, 4)\n",
      "creating obs 18/20\n",
      "creating obs\n",
      "(64, 22, 8)\n",
      "(64, 22, 4)\n",
      "creating obs 19/20\n",
      "creating obs\n",
      "(64, 22, 8)\n",
      "(64, 22, 4)\n"
     ]
    }
   ],
   "source": [
    "X, y = get_X_y(img3D_conv, 20,obs_tf, obs_lat,obs_lon, obs_time, tar_tf, tar_lat,tar_lon,  tar_time)"
   ]
  },
  {
   "cell_type": "code",
   "execution_count": 16,
   "metadata": {
    "ExecuteTime": {
     "end_time": "2020-12-08T19:18:22.730832Z",
     "start_time": "2020-12-08T19:18:22.686876Z"
    }
   },
   "outputs": [],
   "source": [
    "del img, img3D_conv, inf, sup, sample"
   ]
  },
  {
   "cell_type": "code",
   "execution_count": null,
   "metadata": {
    "ExecuteTime": {
     "end_time": "2020-12-08T19:10:50.464538Z",
     "start_time": "2020-12-08T19:10:50.452578Z"
    }
   },
   "outputs": [],
   "source": [
    "X.shape"
   ]
  },
  {
   "cell_type": "code",
   "execution_count": null,
   "metadata": {
    "ExecuteTime": {
     "end_time": "2020-12-08T19:10:52.278105Z",
     "start_time": "2020-12-08T19:10:52.251371Z"
    }
   },
   "outputs": [],
   "source": [
    "y.shape"
   ]
  },
  {
   "cell_type": "code",
   "execution_count": null,
   "metadata": {},
   "outputs": [],
   "source": []
  },
  {
   "cell_type": "code",
   "execution_count": null,
   "metadata": {
    "ExecuteTime": {
     "end_time": "2020-12-08T17:15:55.272735Z",
     "start_time": "2020-12-08T17:15:54.931693Z"
    }
   },
   "outputs": [],
   "source": [
    "\n",
    "plt.imshow(X[0][:,:,0])"
   ]
  },
  {
   "cell_type": "markdown",
   "metadata": {},
   "source": [
    "## Model"
   ]
  },
  {
   "cell_type": "markdown",
   "metadata": {},
   "source": [
    "### Imports"
   ]
  },
  {
   "cell_type": "code",
   "execution_count": 2,
   "metadata": {
    "ExecuteTime": {
     "end_time": "2020-12-09T19:23:04.602592Z",
     "start_time": "2020-12-09T19:22:57.400499Z"
    }
   },
   "outputs": [],
   "source": [
    "# Train, test, split\n",
    "from sklearn.model_selection import train_test_split\n",
    "\n",
    "# Model\n",
    "from tensorflow.keras import models\n",
    "from tensorflow.keras import layers\n",
    "from tensorflow.keras.callbacks import EarlyStopping"
   ]
  },
  {
   "cell_type": "markdown",
   "metadata": {},
   "source": [
    "### Train, test, split"
   ]
  },
  {
   "cell_type": "code",
   "execution_count": 18,
   "metadata": {
    "ExecuteTime": {
     "end_time": "2020-12-08T19:18:35.223215Z",
     "start_time": "2020-12-08T19:18:35.211048Z"
    }
   },
   "outputs": [],
   "source": [
    "X_train, X_test, y_train, y_test = train_test_split(X, y, test_size = 0.2) # need to be applied before gaussian filter"
   ]
  },
  {
   "cell_type": "code",
   "execution_count": 19,
   "metadata": {
    "ExecuteTime": {
     "end_time": "2020-12-08T19:18:36.319120Z",
     "start_time": "2020-12-08T19:18:36.313185Z"
    }
   },
   "outputs": [],
   "source": [
    "del X,y"
   ]
  },
  {
   "cell_type": "markdown",
   "metadata": {},
   "source": [
    "### Model"
   ]
  },
  {
   "cell_type": "code",
   "execution_count": 41,
   "metadata": {
    "ExecuteTime": {
     "end_time": "2020-12-08T20:25:34.554658Z",
     "start_time": "2020-12-08T20:25:34.539932Z"
    }
   },
   "outputs": [],
   "source": [
    "\n",
    "#CNN: Convolutionnal neural network used to tackle image processing problems => our located & timestamped crimes.\n",
    "#CNN: specific neural network using: convolution, pooling, relu activation and fully connected layer.\n",
    "#Our convolutional layer has a number of filters that perform convolutionnal operation.\n",
    "#Every image is considered as a matrix pixel values.\n",
    "#Considering the following image (give example) whose pixel values are only 0 and 1.\n",
    "#We start from our image pixels, we pass a filter on it (give our filter shape + details) and we get a convolved feature/image (we call it image3D_conv/matrix from the same size as the filter shape.)\n",
    "#Sliding the filter matrix over the matrix and computing the dot product to detect pattern.\n",
    "#Relu layer: Once the feature maps are extracted, the next step is to move them to a ReLU layer.\n",
    "    #The relu layer is the activation function that performs element wise operation, set all negative pixels to 0.introduce non linearity to the network and gives us as an output a rectified feature map.\n",
    "    #Real image is scanned on multiple convolution layers for locating features.\n",
    "    #We get a rectified feature map/img3d_conv\n",
    "\n",
    "#Pooling layer: The rectified feature map/ our img3d_conv goes through a pooling layer. Pooling is a down-sampling operation that reduces the dimensionality of our feature map/our img3d convoluted.\n",
    "#Pooling layer: A pooling layer uses different filters to identify different parts of the image like edges, corners etc.\n",
    "\n",
    "def init_model(lat_size, lon_size, x_length, y_length ):\n",
    "    \n",
    "    #1.using sequential model from Keras\n",
    "    print('initializing model')\n",
    "    model = models.Sequential()\n",
    "    \n",
    "    #2.This layer creates a convolution kernel that is convolved with the layer input to produce a tensor of outputs.\n",
    "    #relu activation function is used to activate this specific layer. \n",
    "    print('adding conv3D 1')\n",
    "    model.add(layers.Conv3D(32, kernel_size = 10, activation = 'relu', padding='same',\n",
    "                            input_shape = (lat_size, lon_size, x_length, 1)))\n",
    "    \n",
    "    #3.Pooling layer, pooling/reducing the number of parameters.(our feature map/our img3d convoluted) in a smaller matrix with only the max (with a certain filter of a squared shape (for example 2*2))\n",
    "    print('Maxpooling')\n",
    "    model.add(layers.MaxPooling3D(2))\n",
    "    \n",
    "    \n",
    "    #4.Flattening: process of converting all the resultant 3D dimensional array from our max pooled feature map/img3Dconv&pooled into a single long continuous linear vector.\n",
    "    # We get back a flattened matrix.     \n",
    "    print('flattening')\n",
    "    model.add(layers.Flatten())\n",
    "    \n",
    "    # 5.hidden layers\n",
    "    print('adding dense layer 1')\n",
    "    model.add(layers.Dense(lat_size, activation = 'relu'))\n",
    "    \n",
    "    #6.hidden layers\n",
    "    print('adding dense layer 2')\n",
    "    model.add(layers.Dense((lat_size * lon_size)/ 2, activation = 'relu'))\n",
    "    \n",
    "    #7.hidden layers\n",
    "    print('adding dense layer 3')\n",
    "    model.add(layers.Dense(lat_size * lon_size, activation = 'relu')) \n",
    "    \n",
    "    #8. hidden layers\n",
    "    #print('adding dense layer 4')\n",
    "    #model.add(layers.Dense(lat_size * lon_size * y_length/2, activation = 'relu'))\n",
    "    \n",
    "    # Used in case of overfitting (drop 50% des neurones)\n",
    "    #     print('adding dense layer 2')\n",
    "    #     model.add(layers.Dropout(rate=0.5))\n",
    "\n",
    "    \n",
    "    #Fully connecting layer is our final output layer. Autant de neurone que de neurones dans reshape. Chaque neurone porte l'info finale.\n",
    "    print('adding final dense layer')\n",
    "    model.add(layers.Dense(y_length * lat_size * lon_size, activation = 'relu'))\n",
    "    \n",
    "    #reshape du fully conencting layer pour revenir a une same size\n",
    "    print('Reshaping')\n",
    "    model.add(layers.Reshape((lat_size, lon_size, y_length)))\n",
    "    \n",
    "    print('compiling')\n",
    "    model.compile(loss = 'mse',\n",
    "                  optimizer = 'adam',\n",
    "                  metrics = 'mae')\n",
    "    print('Done !')\n",
    "    \n",
    "    return model"
   ]
  },
  {
   "cell_type": "markdown",
   "metadata": {},
   "source": [
    "### Running Model (Instance, Early Stopping, Fit and Evaluate)"
   ]
  },
  {
   "cell_type": "markdown",
   "metadata": {},
   "source": [
    "**Reminders**\n",
    "\n",
    "**batch_size:** no. of data used to compute error between y_pred and y_true each time weights of neural network updated (use 16 or 32)\n",
    "\n",
    "**epoch:** once all data has been used once to update the weights"
   ]
  },
  {
   "cell_type": "code",
   "execution_count": 42,
   "metadata": {
    "ExecuteTime": {
     "end_time": "2020-12-08T20:25:39.687768Z",
     "start_time": "2020-12-08T20:25:39.664770Z"
    }
   },
   "outputs": [
    {
     "data": {
      "text/plain": [
       "(16, 64, 22, 8)"
      ]
     },
     "execution_count": 42,
     "metadata": {},
     "output_type": "execute_result"
    }
   ],
   "source": [
    "X_train.shape"
   ]
  },
  {
   "cell_type": "code",
   "execution_count": 43,
   "metadata": {
    "ExecuteTime": {
     "end_time": "2020-12-08T20:25:43.296255Z",
     "start_time": "2020-12-08T20:25:43.282067Z"
    }
   },
   "outputs": [
    {
     "data": {
      "text/plain": [
       "(16, 64, 22, 4)"
      ]
     },
     "execution_count": 43,
     "metadata": {},
     "output_type": "execute_result"
    }
   ],
   "source": [
    "y_train.shape"
   ]
  },
  {
   "cell_type": "code",
   "execution_count": 44,
   "metadata": {
    "ExecuteTime": {
     "end_time": "2020-12-08T20:26:20.098994Z",
     "start_time": "2020-12-08T20:26:19.728016Z"
    }
   },
   "outputs": [
    {
     "name": "stdout",
     "output_type": "stream",
     "text": [
      "initializing model\n",
      "adding conv3D 1\n",
      "Maxpooling\n",
      "flattening\n",
      "adding dense layer 1\n",
      "adding dense layer 2\n",
      "adding dense layer 3\n",
      "adding final dense layer\n",
      "Reshaping\n",
      "compiling\n",
      "Done !\n"
     ]
    }
   ],
   "source": [
    "model = init_model(X_train.shape[1], X_train.shape[2], X_train.shape[-1],y_train.shape[-1])"
   ]
  },
  {
   "cell_type": "code",
   "execution_count": 45,
   "metadata": {
    "ExecuteTime": {
     "end_time": "2020-12-08T20:26:28.635430Z",
     "start_time": "2020-12-08T20:26:28.605899Z"
    }
   },
   "outputs": [
    {
     "name": "stdout",
     "output_type": "stream",
     "text": [
      "Model: \"sequential_1\"\n",
      "_________________________________________________________________\n",
      "Layer (type)                 Output Shape              Param #   \n",
      "=================================================================\n",
      "conv3d_1 (Conv3D)            (None, 64, 22, 8, 32)     32032     \n",
      "_________________________________________________________________\n",
      "max_pooling3d_1 (MaxPooling3 (None, 32, 11, 4, 32)     0         \n",
      "_________________________________________________________________\n",
      "flatten_1 (Flatten)          (None, 45056)             0         \n",
      "_________________________________________________________________\n",
      "dense_1 (Dense)              (None, 64)                2883648   \n",
      "_________________________________________________________________\n",
      "dense_2 (Dense)              (None, 704)               45760     \n",
      "_________________________________________________________________\n",
      "dense_3 (Dense)              (None, 1408)              992640    \n",
      "_________________________________________________________________\n",
      "dense_4 (Dense)              (None, 5632)              7935488   \n",
      "_________________________________________________________________\n",
      "reshape_1 (Reshape)          (None, 64, 22, 4)         0         \n",
      "=================================================================\n",
      "Total params: 11,889,568\n",
      "Trainable params: 11,889,568\n",
      "Non-trainable params: 0\n",
      "_________________________________________________________________\n"
     ]
    }
   ],
   "source": [
    "model.summary()"
   ]
  },
  {
   "cell_type": "code",
   "execution_count": null,
   "metadata": {
    "ExecuteTime": {
     "end_time": "2020-12-08T17:28:15.934165Z",
     "start_time": "2020-12-08T17:28:15.781555Z"
    }
   },
   "outputs": [],
   "source": [
    "es = EarlyStopping(patience = 5, restore_best_weights=True)\n",
    "\n",
    "history = model.fit(X_train, y_train,\n",
    "                      batch_size = 32, \n",
    "                      epochs = 2,\n",
    "                      validation_split = 0.3,\n",
    "                      callbacks = es)"
   ]
  },
  {
   "cell_type": "code",
   "execution_count": null,
   "metadata": {
    "ExecuteTime": {
     "end_time": "2020-12-08T17:01:33.277949Z",
     "start_time": "2020-12-08T17:01:30.532Z"
    }
   },
   "outputs": [],
   "source": [
    "history.history.keys()"
   ]
  },
  {
   "cell_type": "code",
   "execution_count": null,
   "metadata": {
    "ExecuteTime": {
     "end_time": "2020-12-08T17:01:33.282509Z",
     "start_time": "2020-12-08T17:01:30.537Z"
    }
   },
   "outputs": [],
   "source": [
    "plt.plot(history.history['val_loss'])"
   ]
  },
  {
   "cell_type": "code",
   "execution_count": null,
   "metadata": {
    "ExecuteTime": {
     "end_time": "2020-12-08T17:01:33.287714Z",
     "start_time": "2020-12-08T17:01:30.541Z"
    }
   },
   "outputs": [],
   "source": [
    "plt.plot(history.history['val_mae'])"
   ]
  },
  {
   "cell_type": "code",
   "execution_count": null,
   "metadata": {
    "ExecuteTime": {
     "end_time": "2020-12-08T17:01:33.293861Z",
     "start_time": "2020-12-08T17:01:30.546Z"
    }
   },
   "outputs": [],
   "source": [
    "print(model.evaluate(X_test, y_test))"
   ]
  },
  {
   "cell_type": "code",
   "execution_count": null,
   "metadata": {
    "ExecuteTime": {
     "end_time": "2020-12-08T17:01:33.299950Z",
     "start_time": "2020-12-08T17:01:30.550Z"
    }
   },
   "outputs": [],
   "source": [
    "y_pred = model.predict(X_test)"
   ]
  },
  {
   "cell_type": "code",
   "execution_count": null,
   "metadata": {
    "ExecuteTime": {
     "end_time": "2020-12-08T17:01:33.306942Z",
     "start_time": "2020-12-08T17:01:30.555Z"
    }
   },
   "outputs": [],
   "source": [
    "y_pred = flatten"
   ]
  },
  {
   "cell_type": "code",
   "execution_count": null,
   "metadata": {
    "ExecuteTime": {
     "end_time": "2020-12-08T17:01:33.315346Z",
     "start_time": "2020-12-08T17:01:30.558Z"
    }
   },
   "outputs": [],
   "source": [
    "y_pred.reshape(y_length, lat_size, lon_size)"
   ]
  },
  {
   "cell_type": "markdown",
   "metadata": {
    "heading_collapsed": true
   },
   "source": [
    "## From coord to map"
   ]
  },
  {
   "cell_type": "code",
   "execution_count": null,
   "metadata": {
    "ExecuteTime": {
     "end_time": "2020-12-08T17:01:33.320958Z",
     "start_time": "2020-12-08T17:01:30.563Z"
    },
    "hidden": true
   },
   "outputs": [],
   "source": [
    "def from_matrix_to_coord(matrix, lat_meters, lon_meters):\n",
    "        \"\"\"\n",
    "        gives back the coordinates from a 3D matrix for a given bucket height and width\n",
    "        \"\"\"\n",
    "        results = []\n",
    "        for observation in matrix:\n",
    "            # Where do you start\n",
    "            grid_offset = np.array([0, -40.91553277600008,  -74.25559136315213,])\n",
    "\n",
    "            #from meters to lat/lon step\n",
    "            lat_spacing, lon_spacing = from_meters_to_coords(lat_meters, lon_meters)\n",
    "\n",
    "            # What's the space you consider (euclidian here)\n",
    "            grid_spacing = np.array([1, lat_spacing, lon_spacing])\n",
    "\n",
    "            indexes = np.argwhere(observation)\n",
    "            #print(indexes.shape)\n",
    "            # index : coords de mes crimes dans mon np array\n",
    "            result = grid_offset + indexes * grid_spacing\n",
    "            results.append(result)\n",
    "        return np.array(results)"
   ]
  },
  {
   "cell_type": "code",
   "execution_count": null,
   "metadata": {
    "ExecuteTime": {
     "end_time": "2020-12-08T17:01:33.327143Z",
     "start_time": "2020-12-08T17:01:30.568Z"
    },
    "hidden": true
   },
   "outputs": [],
   "source": [
    "y_pred_notsure = np.where((y_train>5*10**(-4)) & (y_train<5*10**(-3)), y_train, 0)\n",
    "y_pred_middle = np.where((y_train>5*10**(-3)) & (y_train<1*10**(-2)), y_train, 0)\n",
    "y_pred_sure = np.where(y_train>1*10**(-2), y_train, 0)\n",
    "\n",
    "#y_pred_notsure = np.where((y_pred>5*10**(-3)) & (y_pred<1*10**(-2)), y_pred, 0)\n",
    "#y_pred_middle = np.where((y_pred>1*10**(-2)) & (y_pred<1.8*10**(-2)), y_pred, 0)\n",
    "#y_pred_sure = np.where(y_pred>1.8*10**(-2), y_pred, 0)"
   ]
  },
  {
   "cell_type": "code",
   "execution_count": null,
   "metadata": {
    "ExecuteTime": {
     "end_time": "2020-12-08T17:01:33.330853Z",
     "start_time": "2020-12-08T17:01:30.575Z"
    },
    "hidden": true
   },
   "outputs": [],
   "source": [
    "coords_not_sure = from_matrix_to_coord(y_pred_notsure, 200, 200)\n",
    "coords_middle = from_matrix_to_coord(y_pred_middle, 200, 200)\n",
    "coords_sure = from_matrix_to_coord(y_pred_sure, 200, 200)"
   ]
  },
  {
   "cell_type": "code",
   "execution_count": null,
   "metadata": {
    "ExecuteTime": {
     "end_time": "2020-12-08T17:01:33.335219Z",
     "start_time": "2020-12-08T17:01:30.580Z"
    },
    "hidden": true
   },
   "outputs": [],
   "source": [
    "coords_back_not_sure_df = pd.DataFrame(coords_not_sure[0], columns=['image', 'lat', 'lon'])\n",
    "coords_back_not_sure_df['right_lat'] = -coords_back_not_sure_df['lat']\n",
    "\n",
    "coords_middle_df = pd.DataFrame(coords_middle[0], columns=['image', 'lat', 'lon'])\n",
    "coords_middle_df['right_lat'] = -coords_middle_df['lat']\n",
    "\n",
    "coords_back_sure_df = pd.DataFrame(coords_sure[0], columns=['image', 'lat', 'lon'])\n",
    "coords_back_sure_df['right_lat'] = -coords_back_sure_df['lat']"
   ]
  },
  {
   "cell_type": "code",
   "execution_count": null,
   "metadata": {
    "ExecuteTime": {
     "end_time": "2020-12-08T17:01:33.339914Z",
     "start_time": "2020-12-08T17:01:30.587Z"
    },
    "hidden": true
   },
   "outputs": [],
   "source": [
    "last_image_not_sure = coords_back_not_sure_df[coords_back_not_sure_df['image']==2.0]\n",
    "last_image_middle = coords_middle_df[coords_middle_df['image']==2.0]\n",
    "last_image_sure = coords_back_sure_df[coords_back_sure_df['image']==2.0]"
   ]
  },
  {
   "cell_type": "code",
   "execution_count": null,
   "metadata": {
    "ExecuteTime": {
     "end_time": "2020-12-08T17:01:33.346335Z",
     "start_time": "2020-12-08T17:01:30.590Z"
    },
    "hidden": true
   },
   "outputs": [],
   "source": [
    "import seaborn as sns"
   ]
  },
  {
   "cell_type": "code",
   "execution_count": null,
   "metadata": {
    "ExecuteTime": {
     "end_time": "2020-12-08T17:01:33.352878Z",
     "start_time": "2020-12-08T17:01:30.596Z"
    },
    "hidden": true
   },
   "outputs": [],
   "source": [
    "fig, ax = plt.subplots(figsize=(10,10))\n",
    "\n",
    "ax.set_xlim(left=-74.25559136315213, right=-73.70000906387347)\n",
    "ax.set_ylim(bottom = 40.49611539518921, top=40.91553277600008)\n",
    "sns.scatterplot(x='lon', y='right_lat', data=last_image_not_sure, s=2, ax=ax)\n",
    "sns.scatterplot(x='lon', y='right_lat', data=last_image_middle, s=2, ax=ax)\n",
    "sns.scatterplot(x='lon', y='right_lat', data=last_image_sure, s=2, ax=ax)\n",
    "plt.legend()"
   ]
  },
  {
   "cell_type": "code",
   "execution_count": null,
   "metadata": {
    "ExecuteTime": {
     "end_time": "2020-12-08T17:01:33.357940Z",
     "start_time": "2020-12-08T17:01:30.601Z"
    },
    "hidden": true
   },
   "outputs": [],
   "source": [
    "#modèle clairement pourri car il indique des crimes sur staten island\n",
    "#voir baseline modèle (on est en dessous)"
   ]
  },
  {
   "cell_type": "markdown",
   "metadata": {},
   "source": [
    "## Trying another model"
   ]
  },
  {
   "cell_type": "code",
   "execution_count": 20,
   "metadata": {
    "ExecuteTime": {
     "end_time": "2020-12-08T19:18:38.124041Z",
     "start_time": "2020-12-08T19:18:38.108768Z"
    }
   },
   "outputs": [
    {
     "data": {
      "text/plain": [
       "((16, 64, 22, 8), (16, 64, 22, 4))"
      ]
     },
     "execution_count": 20,
     "metadata": {},
     "output_type": "execute_result"
    }
   ],
   "source": [
    "X_train.shape, y_train.shape"
   ]
  },
  {
   "cell_type": "code",
   "execution_count": null,
   "metadata": {
    "ExecuteTime": {
     "start_time": "2020-12-09T19:23:08.316Z"
    }
   },
   "outputs": [],
   "source": [
    "model = models.Sequential()\n",
    "\n",
    "model.add(layers.Conv3D(64, kernel_size = (4,4,4), activation = 'relu', padding='same',\n",
    "                            input_shape = (138, 99, 15,1)))\n",
    "\n",
    "model.add(layers.MaxPooling3D(2))\n",
    "\n",
    "model.add(layers.Flatten())\n",
    "model.add(layers.Dense(56*50*4, activation = 'relu'))\n",
    "\n",
    "model.add(layers.Reshape((56,50,4)))"
   ]
  },
  {
   "cell_type": "code",
   "execution_count": 22,
   "metadata": {
    "ExecuteTime": {
     "end_time": "2020-12-08T19:18:44.620520Z",
     "start_time": "2020-12-08T19:18:44.601979Z"
    }
   },
   "outputs": [
    {
     "name": "stdout",
     "output_type": "stream",
     "text": [
      "Model: \"sequential\"\n",
      "_________________________________________________________________\n",
      "Layer (type)                 Output Shape              Param #   \n",
      "=================================================================\n",
      "conv3d (Conv3D)              (None, 64, 22, 8, 64)     4160      \n",
      "_________________________________________________________________\n",
      "max_pooling3d (MaxPooling3D) (None, 32, 11, 4, 64)     0         \n",
      "_________________________________________________________________\n",
      "flatten (Flatten)            (None, 90112)             0         \n",
      "_________________________________________________________________\n",
      "dense (Dense)                (None, 5632)              507516416 \n",
      "_________________________________________________________________\n",
      "reshape (Reshape)            (None, 64, 22, 4)         0         \n",
      "=================================================================\n",
      "Total params: 507,520,576\n",
      "Trainable params: 507,520,576\n",
      "Non-trainable params: 0\n",
      "_________________________________________________________________\n"
     ]
    }
   ],
   "source": [
    "model.summary()"
   ]
  },
  {
   "cell_type": "code",
   "execution_count": 23,
   "metadata": {
    "ExecuteTime": {
     "end_time": "2020-12-08T19:18:45.427292Z",
     "start_time": "2020-12-08T19:18:45.394126Z"
    }
   },
   "outputs": [],
   "source": [
    "model.compile(loss ='mse',\n",
    "             optimizer='adam',\n",
    "             metrics='mae')"
   ]
  },
  {
   "cell_type": "code",
   "execution_count": 24,
   "metadata": {
    "ExecuteTime": {
     "end_time": "2020-12-08T19:18:46.408416Z",
     "start_time": "2020-12-08T19:18:46.397665Z"
    }
   },
   "outputs": [],
   "source": [
    "train_data = X_train.reshape(-1, 64, 22, 8,1)"
   ]
  },
  {
   "cell_type": "code",
   "execution_count": 25,
   "metadata": {
    "ExecuteTime": {
     "end_time": "2020-12-08T19:38:05.604820Z",
     "start_time": "2020-12-08T19:18:47.477473Z"
    },
    "scrolled": true
   },
   "outputs": [
    {
     "name": "stdout",
     "output_type": "stream",
     "text": [
      "Epoch 1/30\n",
      "6/6 [==============================] - 42s 7s/step - loss: 0.4160 - mae: 0.2277 - val_loss: 0.2066 - val_mae: 0.1712\n",
      "Epoch 2/30\n",
      "6/6 [==============================] - 39s 6s/step - loss: 0.1767 - mae: 0.1552 - val_loss: 0.1666 - val_mae: 0.1504\n",
      "Epoch 3/30\n",
      "6/6 [==============================] - 35s 6s/step - loss: 0.1476 - mae: 0.1399 - val_loss: 0.1518 - val_mae: 0.1420\n",
      "Epoch 4/30\n",
      "6/6 [==============================] - 30s 5s/step - loss: 0.1382 - mae: 0.1329 - val_loss: 0.1445 - val_mae: 0.1356\n",
      "Epoch 5/30\n",
      "6/6 [==============================] - 31s 5s/step - loss: 0.1323 - mae: 0.1278 - val_loss: 0.1412 - val_mae: 0.1324\n",
      "Epoch 6/30\n",
      "6/6 [==============================] - 30s 5s/step - loss: 0.1296 - mae: 0.1248 - val_loss: 0.1382 - val_mae: 0.1289\n",
      "Epoch 7/30\n",
      "6/6 [==============================] - 30s 5s/step - loss: 0.1271 - mae: 0.1220 - val_loss: 0.1376 - val_mae: 0.1280\n",
      "Epoch 8/30\n",
      "6/6 [==============================] - 31s 5s/step - loss: 0.1258 - mae: 0.1205 - val_loss: 0.1352 - val_mae: 0.1266\n",
      "Epoch 9/30\n",
      "6/6 [==============================] - 31s 5s/step - loss: 0.1239 - mae: 0.1191 - val_loss: 0.1345 - val_mae: 0.1254\n",
      "Epoch 10/30\n",
      "6/6 [==============================] - 31s 5s/step - loss: 0.1237 - mae: 0.1181 - val_loss: 0.1339 - val_mae: 0.1244\n",
      "Epoch 11/30\n",
      "6/6 [==============================] - 37s 6s/step - loss: 0.1227 - mae: 0.1171 - val_loss: 0.1328 - val_mae: 0.1235\n",
      "Epoch 12/30\n",
      "6/6 [==============================] - 33s 6s/step - loss: 0.1222 - mae: 0.1164 - val_loss: 0.1328 - val_mae: 0.1234\n",
      "Epoch 13/30\n",
      "6/6 [==============================] - 31s 5s/step - loss: 0.1219 - mae: 0.1160 - val_loss: 0.1324 - val_mae: 0.1226\n",
      "Epoch 14/30\n",
      "6/6 [==============================] - 30s 5s/step - loss: 0.1218 - mae: 0.1155 - val_loss: 0.1324 - val_mae: 0.1225\n",
      "Epoch 15/30\n",
      "6/6 [==============================] - 30s 5s/step - loss: 0.1216 - mae: 0.1151 - val_loss: 0.1323 - val_mae: 0.1223\n",
      "Epoch 16/30\n",
      "6/6 [==============================] - 31s 5s/step - loss: 0.1215 - mae: 0.1149 - val_loss: 0.1315 - val_mae: 0.1218\n",
      "Epoch 17/30\n",
      "6/6 [==============================] - 30s 5s/step - loss: 0.1212 - mae: 0.1145 - val_loss: 0.1313 - val_mae: 0.1215\n",
      "Epoch 18/30\n",
      "6/6 [==============================] - 29s 5s/step - loss: 0.1210 - mae: 0.1143 - val_loss: 0.1314 - val_mae: 0.1214\n",
      "Epoch 19/30\n",
      "6/6 [==============================] - 30s 5s/step - loss: 0.1209 - mae: 0.1141 - val_loss: 0.1313 - val_mae: 0.1213\n",
      "Epoch 20/30\n",
      "6/6 [==============================] - 31s 5s/step - loss: 0.1209 - mae: 0.1140 - val_loss: 0.1313 - val_mae: 0.1212\n",
      "Epoch 21/30\n",
      "6/6 [==============================] - 30s 5s/step - loss: 0.1208 - mae: 0.1138 - val_loss: 0.1312 - val_mae: 0.1210\n",
      "Epoch 22/30\n",
      "6/6 [==============================] - 30s 5s/step - loss: 0.1208 - mae: 0.1136 - val_loss: 0.1312 - val_mae: 0.1209\n",
      "Epoch 23/30\n",
      "6/6 [==============================] - 31s 5s/step - loss: 0.1208 - mae: 0.1135 - val_loss: 0.1311 - val_mae: 0.1208\n",
      "Epoch 24/30\n",
      "6/6 [==============================] - 31s 5s/step - loss: 0.1208 - mae: 0.1135 - val_loss: 0.1311 - val_mae: 0.1208\n",
      "Epoch 25/30\n",
      "6/6 [==============================] - 31s 5s/step - loss: 0.1207 - mae: 0.1135 - val_loss: 0.1311 - val_mae: 0.1205\n",
      "Epoch 26/30\n",
      "6/6 [==============================] - 31s 5s/step - loss: 0.1208 - mae: 0.1134 - val_loss: 0.1311 - val_mae: 0.1206\n",
      "Epoch 27/30\n",
      "6/6 [==============================] - 28s 5s/step - loss: 0.1207 - mae: 0.1133 - val_loss: 0.1311 - val_mae: 0.1206\n",
      "Epoch 28/30\n",
      "6/6 [==============================] - 31s 5s/step - loss: 0.1207 - mae: 0.1132 - val_loss: 0.1310 - val_mae: 0.1204\n",
      "Epoch 29/30\n",
      "6/6 [==============================] - 31s 5s/step - loss: 0.1207 - mae: 0.1131 - val_loss: 0.1310 - val_mae: 0.1203\n",
      "Epoch 30/30\n",
      "6/6 [==============================] - 37s 6s/step - loss: 0.1207 - mae: 0.1130 - val_loss: 0.1310 - val_mae: 0.1203\n"
     ]
    }
   ],
   "source": [
    "es = EarlyStopping(patience = 2, restore_best_weights=True)\n",
    "\n",
    "history = model.fit(train_data, y_train,\n",
    "                      batch_size = 2, \n",
    "                      epochs = 30,\n",
    "                      validation_split = 0.3,\n",
    "                      callbacks = es)"
   ]
  },
  {
   "cell_type": "code",
   "execution_count": 27,
   "metadata": {
    "ExecuteTime": {
     "end_time": "2020-12-08T19:38:24.778493Z",
     "start_time": "2020-12-08T19:38:24.408988Z"
    }
   },
   "outputs": [
    {
     "data": {
      "text/plain": [
       "[<matplotlib.lines.Line2D at 0x141b7b040>]"
      ]
     },
     "execution_count": 27,
     "metadata": {},
     "output_type": "execute_result"
    },
    {
     "data": {
      "image/png": "[encoded data removed]",
      "text/plain": [
       "<Figure size 432x288 with 1 Axes>"
      ]
     },
     "metadata": {
      "needs_background": "light"
     },
     "output_type": "display_data"
    }
   ],
   "source": [
    "plt.plot(history.history['val_loss'])"
   ]
  },
  {
   "cell_type": "code",
   "execution_count": 29,
   "metadata": {
    "ExecuteTime": {
     "end_time": "2020-12-08T19:38:37.133334Z",
     "start_time": "2020-12-08T19:38:36.838268Z"
    }
   },
   "outputs": [
    {
     "data": {
      "text/plain": [
       "[<matplotlib.lines.Line2D at 0x141c4b190>]"
      ]
     },
     "execution_count": 29,
     "metadata": {},
     "output_type": "execute_result"
    },
    {
     "data": {
      "image/png": "[encoded data removed]",
      "text/plain": [
       "<Figure size 432x288 with 1 Axes>"
      ]
     },
     "metadata": {
      "needs_background": "light"
     },
     "output_type": "display_data"
    }
   ],
   "source": [
    "plt.plot(history.history['val_mae'])"
   ]
  },
  {
   "cell_type": "code",
   "execution_count": 31,
   "metadata": {
    "ExecuteTime": {
     "end_time": "2020-12-08T19:39:22.520452Z",
     "start_time": "2020-12-08T19:39:22.515817Z"
    }
   },
   "outputs": [],
   "source": [
    "test_data = X_test.reshape(-1, 64, 22, 8,1)"
   ]
  },
  {
   "cell_type": "code",
   "execution_count": 36,
   "metadata": {
    "ExecuteTime": {
     "end_time": "2020-12-08T19:39:44.139139Z",
     "start_time": "2020-12-08T19:39:43.684520Z"
    }
   },
   "outputs": [],
   "source": [
    "y_pred = model.predict(test_data)"
   ]
  },
  {
   "cell_type": "code",
   "execution_count": 39,
   "metadata": {
    "ExecuteTime": {
     "end_time": "2020-12-08T19:40:07.804516Z",
     "start_time": "2020-12-08T19:40:07.793614Z"
    }
   },
   "outputs": [
    {
     "data": {
      "text/plain": [
       "(64, 22, 4)"
      ]
     },
     "execution_count": 39,
     "metadata": {},
     "output_type": "execute_result"
    }
   ],
   "source": [
    "y_pred[0].shape"
   ]
  },
  {
   "cell_type": "code",
   "execution_count": 40,
   "metadata": {
    "ExecuteTime": {
     "end_time": "2020-12-08T19:40:22.255530Z",
     "start_time": "2020-12-08T19:40:22.004480Z"
    }
   },
   "outputs": [
    {
     "data": {
      "text/plain": [
       "<matplotlib.image.AxesImage at 0x13f4f0fa0>"
      ]
     },
     "execution_count": 40,
     "metadata": {},
     "output_type": "execute_result"
    },
    {
     "data": {
      "image/png": "[encoded data removed]",
      "text/plain": [
       "<Figure size 432x288 with 1 Axes>"
      ]
     },
     "metadata": {
      "needs_background": "light"
     },
     "output_type": "display_data"
    }
   ],
   "source": [
    "plt.imshow(y_pred[0][:,:,0])"
   ]
  },
  {
   "cell_type": "code",
   "execution_count": 46,
   "metadata": {
    "ExecuteTime": {
     "end_time": "2020-12-08T21:36:47.540393Z",
     "start_time": "2020-12-08T21:36:47.133286Z"
    }
   },
   "outputs": [],
   "source": [
    "pickle_path = ('../raw_data/clean-75-precinct.pickle')\n",
    "with open(pickle_path, 'rb') as f:\n",
    "     df= pickle.load(f)"
   ]
  },
  {
   "cell_type": "code",
   "execution_count": 47,
   "metadata": {
    "ExecuteTime": {
     "end_time": "2020-12-08T21:36:52.262090Z",
     "start_time": "2020-12-08T21:36:52.246961Z"
    }
   },
   "outputs": [
    {
     "data": {
      "text/plain": [
       "(208915, 20)"
      ]
     },
     "execution_count": 47,
     "metadata": {},
     "output_type": "execute_result"
    }
   ],
   "source": [
    "df.shape"
   ]
  },
  {
   "cell_type": "markdown",
   "metadata": {
    "heading_collapsed": true
   },
   "source": [
    "#### Save to pickle"
   ]
  },
  {
   "cell_type": "code",
   "execution_count": null,
   "metadata": {
    "ExecuteTime": {
     "end_time": "2020-12-08T18:27:27.170505Z",
     "start_time": "2020-12-08T18:27:27.155787Z"
    },
    "hidden": true
   },
   "outputs": [],
   "source": [
    "with open('../raw_data/X_train_by_week.pickle', 'wb') as f:\n",
    "    pickle.dump(X_train, f)"
   ]
  },
  {
   "cell_type": "code",
   "execution_count": null,
   "metadata": {
    "ExecuteTime": {
     "end_time": "2020-12-08T18:27:28.354683Z",
     "start_time": "2020-12-08T18:27:28.342098Z"
    },
    "hidden": true
   },
   "outputs": [],
   "source": [
    "with open('../raw_data/y_train_by_week.pickle', 'wb') as f:\n",
    "    pickle.dump(y_train, f)"
   ]
  },
  {
   "cell_type": "code",
   "execution_count": null,
   "metadata": {
    "ExecuteTime": {
     "end_time": "2020-12-08T18:27:30.245813Z",
     "start_time": "2020-12-08T18:27:30.233078Z"
    },
    "hidden": true
   },
   "outputs": [],
   "source": [
    "with open('../raw_data/X_test_by_week.pickle', 'wb') as f:\n",
    "    pickle.dump(X_test, f)"
   ]
  },
  {
   "cell_type": "code",
   "execution_count": null,
   "metadata": {
    "ExecuteTime": {
     "end_time": "2020-12-08T18:27:31.265912Z",
     "start_time": "2020-12-08T18:27:31.257328Z"
    },
    "hidden": true
   },
   "outputs": [],
   "source": [
    "with open('../raw_data/y_test_by_week.pickle', 'wb') as f:\n",
    "    pickle.dump(y_test, f)"
   ]
  },
  {
   "cell_type": "code",
   "execution_count": null,
   "metadata": {
    "hidden": true
   },
   "outputs": [],
   "source": []
  }
 ],
 "metadata": {
  "kernelspec": {
   "display_name": "Python 3",
   "language": "python",
   "name": "python3"
  },
  "language_info": {
   "codemirror_mode": {
    "name": "ipython",
    "version": 3
   },
   "file_extension": ".py",
   "mimetype": "text/x-python",
   "name": "python",
   "nbconvert_exporter": "python",
   "pygments_lexer": "ipython3",
   "version": "3.8.5"
  },
  "toc": {
   "base_numbering": 1,
   "nav_menu": {},
   "number_sections": true,
   "sideBar": true,
   "skip_h1_title": false,
   "title_cell": "Table of Contents",
   "title_sidebar": "Contents",
   "toc_cell": false,
   "toc_position": {},
   "toc_section_display": true,
   "toc_window_display": false
  },
  "varInspector": {
   "cols": {
    "lenName": 16,
    "lenType": 16,
    "lenVar": 40
   },
   "kernels_config": {
    "python": {
     "delete_cmd_postfix": "",
     "delete_cmd_prefix": "del ",
     "library": "var_list.py",
     "varRefreshCmd": "print(var_dic_list())"
    },
    "r": {
     "delete_cmd_postfix": ") ",
     "delete_cmd_prefix": "rm(",
     "library": "var_list.r",
     "varRefreshCmd": "cat(var_dic_list()) "
    }
   },
   "position": {
    "height": "334.85px",
    "left": "880px",
    "right": "20px",
    "top": "16px",
    "width": "350px"
   },
   "types_to_exclude": [
    "module",
    "function",
    "builtin_function_or_method",
    "instance",
    "_Feature"
   ],
   "window_display": false
  }
 },
 "nbformat": 4,
 "nbformat_minor": 4
}
