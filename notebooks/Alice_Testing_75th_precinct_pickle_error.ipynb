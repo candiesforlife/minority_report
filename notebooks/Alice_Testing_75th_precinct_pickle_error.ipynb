{
 "cells": [
  {
   "cell_type": "code",
   "execution_count": 1,
   "metadata": {
    "ExecuteTime": {
     "end_time": "2021-01-02T21:28:30.937348Z",
     "start_time": "2021-01-02T21:28:30.385940Z"
    }
   },
   "outputs": [],
   "source": [
    "import pandas as pd\n",
    "import pickle"
   ]
  },
  {
   "cell_type": "markdown",
   "metadata": {},
   "source": [
    "# Testing Test Df: 75th Precinct"
   ]
  },
  {
   "cell_type": "code",
   "execution_count": 2,
   "metadata": {
    "ExecuteTime": {
     "end_time": "2021-01-02T21:28:31.085334Z",
     "start_time": "2021-01-02T21:28:30.939673Z"
    }
   },
   "outputs": [],
   "source": [
    "with open('../raw_data/test_df.pickle', 'rb') as f:\n",
    "            test_df = pickle.load(f)"
   ]
  },
  {
   "cell_type": "code",
   "execution_count": 3,
   "metadata": {
    "ExecuteTime": {
     "end_time": "2021-01-02T21:28:31.121161Z",
     "start_time": "2021-01-02T21:28:31.089202Z"
    }
   },
   "outputs": [
    {
     "data": {
      "text/html": [
       "<div>\n",
       "<style scoped>\n",
       "    .dataframe tbody tr th:only-of-type {\n",
       "        vertical-align: middle;\n",
       "    }\n",
       "\n",
       "    .dataframe tbody tr th {\n",
       "        vertical-align: top;\n",
       "    }\n",
       "\n",
       "    .dataframe thead th {\n",
       "        text-align: right;\n",
       "    }\n",
       "</style>\n",
       "<table border=\"1\" class=\"dataframe\">\n",
       "  <thead>\n",
       "    <tr style=\"text-align: right;\">\n",
       "      <th></th>\n",
       "      <th>precinct_number</th>\n",
       "      <th>offense_type</th>\n",
       "      <th>crime_completed</th>\n",
       "      <th>offense_level</th>\n",
       "      <th>premise_desc</th>\n",
       "      <th>premise</th>\n",
       "      <th>jurisdiction</th>\n",
       "      <th>park_name</th>\n",
       "      <th>suspect_age</th>\n",
       "      <th>suspect_race</th>\n",
       "      <th>...</th>\n",
       "      <th>latitude</th>\n",
       "      <th>longitude</th>\n",
       "      <th>metro</th>\n",
       "      <th>victim_age</th>\n",
       "      <th>victim_race</th>\n",
       "      <th>victim_sex</th>\n",
       "      <th>period</th>\n",
       "      <th>borough</th>\n",
       "      <th>patrol_borough</th>\n",
       "      <th>six_hour_date</th>\n",
       "    </tr>\n",
       "  </thead>\n",
       "  <tbody>\n",
       "    <tr>\n",
       "      <th>55</th>\n",
       "      <td>75</td>\n",
       "      <td>CRIMINAL MISCHIEF &amp; RELATED OF</td>\n",
       "      <td>COMPLETED</td>\n",
       "      <td>MISDEMEANOR</td>\n",
       "      <td>REAR OF</td>\n",
       "      <td>FACTORY/WAREHOUSE</td>\n",
       "      <td>N.Y. POLICE DEPT</td>\n",
       "      <td>NOT PARK</td>\n",
       "      <td>UNKNOWN</td>\n",
       "      <td>BLACK</td>\n",
       "      <td>...</td>\n",
       "      <td>40.663657</td>\n",
       "      <td>-73.901087</td>\n",
       "      <td>NOT SUBWAY</td>\n",
       "      <td>UNKNOWN</td>\n",
       "      <td>UNKNOWN</td>\n",
       "      <td>D</td>\n",
       "      <td>2016-08-12 03:00:00</td>\n",
       "      <td>BROOKLYN</td>\n",
       "      <td>PATROL BORO BKLYN NORTH</td>\n",
       "      <td>2016-08-12 00:00:00</td>\n",
       "    </tr>\n",
       "    <tr>\n",
       "      <th>66</th>\n",
       "      <td>106</td>\n",
       "      <td>ASSAULT 3 &amp; RELATED OFFENSES</td>\n",
       "      <td>COMPLETED</td>\n",
       "      <td>MISDEMEANOR</td>\n",
       "      <td>INSIDE</td>\n",
       "      <td>RESIDENCE - APT. HOUSE</td>\n",
       "      <td>N.Y. POLICE DEPT</td>\n",
       "      <td>NOT PARK</td>\n",
       "      <td>18-24</td>\n",
       "      <td>ASIAN / PACIFIC ISLANDER</td>\n",
       "      <td>...</td>\n",
       "      <td>40.667652</td>\n",
       "      <td>-73.847544</td>\n",
       "      <td>NOT SUBWAY</td>\n",
       "      <td>25-44</td>\n",
       "      <td>ASIAN / PACIFIC ISLANDER</td>\n",
       "      <td>M</td>\n",
       "      <td>2016-02-15 15:00:00</td>\n",
       "      <td>QUEENS</td>\n",
       "      <td>PATROL BORO QUEENS SOUTH</td>\n",
       "      <td>2016-02-15 12:00:00</td>\n",
       "    </tr>\n",
       "    <tr>\n",
       "      <th>203</th>\n",
       "      <td>75</td>\n",
       "      <td>ASSAULT 3 &amp; RELATED OFFENSES</td>\n",
       "      <td>COMPLETED</td>\n",
       "      <td>MISDEMEANOR</td>\n",
       "      <td>FRONT OF</td>\n",
       "      <td>RESIDENCE - APT. HOUSE</td>\n",
       "      <td>N.Y. POLICE DEPT</td>\n",
       "      <td>NOT PARK</td>\n",
       "      <td>25-44</td>\n",
       "      <td>WHITE HISPANIC</td>\n",
       "      <td>...</td>\n",
       "      <td>40.673450</td>\n",
       "      <td>-73.885434</td>\n",
       "      <td>NOT SUBWAY</td>\n",
       "      <td>25-44</td>\n",
       "      <td>UNKNOWN</td>\n",
       "      <td>F</td>\n",
       "      <td>2017-05-07 20:00:00</td>\n",
       "      <td>BROOKLYN</td>\n",
       "      <td>PATROL BORO BKLYN NORTH</td>\n",
       "      <td>2017-05-07 18:00:00</td>\n",
       "    </tr>\n",
       "  </tbody>\n",
       "</table>\n",
       "<p>3 rows × 21 columns</p>\n",
       "</div>"
      ],
      "text/plain": [
       "     precinct_number                    offense_type crime_completed  \\\n",
       "55                75  CRIMINAL MISCHIEF & RELATED OF       COMPLETED   \n",
       "66               106    ASSAULT 3 & RELATED OFFENSES       COMPLETED   \n",
       "203               75    ASSAULT 3 & RELATED OFFENSES       COMPLETED   \n",
       "\n",
       "    offense_level premise_desc                 premise      jurisdiction  \\\n",
       "55    MISDEMEANOR      REAR OF       FACTORY/WAREHOUSE  N.Y. POLICE DEPT   \n",
       "66    MISDEMEANOR       INSIDE  RESIDENCE - APT. HOUSE  N.Y. POLICE DEPT   \n",
       "203   MISDEMEANOR     FRONT OF  RESIDENCE - APT. HOUSE  N.Y. POLICE DEPT   \n",
       "\n",
       "    park_name suspect_age              suspect_race  ...   latitude  \\\n",
       "55   NOT PARK     UNKNOWN                     BLACK  ...  40.663657   \n",
       "66   NOT PARK       18-24  ASIAN / PACIFIC ISLANDER  ...  40.667652   \n",
       "203  NOT PARK       25-44            WHITE HISPANIC  ...  40.673450   \n",
       "\n",
       "     longitude        metro victim_age               victim_race victim_sex  \\\n",
       "55  -73.901087  NOT SUBWAY     UNKNOWN                   UNKNOWN          D   \n",
       "66  -73.847544  NOT SUBWAY       25-44  ASIAN / PACIFIC ISLANDER          M   \n",
       "203 -73.885434  NOT SUBWAY       25-44                   UNKNOWN          F   \n",
       "\n",
       "                  period   borough            patrol_borough  \\\n",
       "55   2016-08-12 03:00:00  BROOKLYN   PATROL BORO BKLYN NORTH   \n",
       "66   2016-02-15 15:00:00    QUEENS  PATROL BORO QUEENS SOUTH   \n",
       "203  2017-05-07 20:00:00  BROOKLYN   PATROL BORO BKLYN NORTH   \n",
       "\n",
       "          six_hour_date  \n",
       "55  2016-08-12 00:00:00  \n",
       "66  2016-02-15 12:00:00  \n",
       "203 2017-05-07 18:00:00  \n",
       "\n",
       "[3 rows x 21 columns]"
      ]
     },
     "execution_count": 3,
     "metadata": {},
     "output_type": "execute_result"
    }
   ],
   "source": [
    "test_df.head(3)"
   ]
  },
  {
   "cell_type": "code",
   "execution_count": 4,
   "metadata": {
    "ExecuteTime": {
     "end_time": "2021-01-02T21:28:31.147751Z",
     "start_time": "2021-01-02T21:28:31.124089Z"
    }
   },
   "outputs": [
    {
     "data": {
      "text/plain": [
       "array([ 75, 106, 102,  69,  73,  83, 104, 101,  63])"
      ]
     },
     "execution_count": 4,
     "metadata": {},
     "output_type": "execute_result"
    }
   ],
   "source": [
    "test_df['precinct_number'].unique()"
   ]
  },
  {
   "cell_type": "markdown",
   "metadata": {},
   "source": [
    "# Testing Clean Data Df: Overall & 75th"
   ]
  },
  {
   "cell_type": "code",
   "execution_count": 5,
   "metadata": {
    "ExecuteTime": {
     "end_time": "2021-01-02T21:28:37.093212Z",
     "start_time": "2021-01-02T21:28:31.162138Z"
    }
   },
   "outputs": [],
   "source": [
    "with open('../raw_data/clean.pickle', 'rb') as f:\n",
    "            clean_df = pickle.load(f)"
   ]
  },
  {
   "cell_type": "code",
   "execution_count": 6,
   "metadata": {
    "ExecuteTime": {
     "end_time": "2021-01-02T21:28:37.430168Z",
     "start_time": "2021-01-02T21:28:37.095287Z"
    }
   },
   "outputs": [],
   "source": [
    "with open('../raw_data/clean-75-precinct.pickle', 'rb') as f:\n",
    "            clean_75_df = pickle.load(f)"
   ]
  },
  {
   "cell_type": "code",
   "execution_count": 7,
   "metadata": {
    "ExecuteTime": {
     "end_time": "2021-01-02T21:28:37.456435Z",
     "start_time": "2021-01-02T21:28:37.432334Z"
    },
    "scrolled": true
   },
   "outputs": [
    {
     "data": {
      "text/html": [
       "<div>\n",
       "<style scoped>\n",
       "    .dataframe tbody tr th:only-of-type {\n",
       "        vertical-align: middle;\n",
       "    }\n",
       "\n",
       "    .dataframe tbody tr th {\n",
       "        vertical-align: top;\n",
       "    }\n",
       "\n",
       "    .dataframe thead th {\n",
       "        text-align: right;\n",
       "    }\n",
       "</style>\n",
       "<table border=\"1\" class=\"dataframe\">\n",
       "  <thead>\n",
       "    <tr style=\"text-align: right;\">\n",
       "      <th></th>\n",
       "      <th>precinct_number</th>\n",
       "      <th>offense_type</th>\n",
       "      <th>crime_completed</th>\n",
       "      <th>offense_level</th>\n",
       "      <th>premise_desc</th>\n",
       "      <th>premise</th>\n",
       "      <th>jurisdiction</th>\n",
       "      <th>park_name</th>\n",
       "      <th>suspect_age</th>\n",
       "      <th>suspect_race</th>\n",
       "      <th>...</th>\n",
       "      <th>latitude</th>\n",
       "      <th>longitude</th>\n",
       "      <th>metro</th>\n",
       "      <th>victim_age</th>\n",
       "      <th>victim_race</th>\n",
       "      <th>victim_sex</th>\n",
       "      <th>period</th>\n",
       "      <th>borough</th>\n",
       "      <th>patrol_borough</th>\n",
       "      <th>six_hour_date</th>\n",
       "    </tr>\n",
       "  </thead>\n",
       "  <tbody>\n",
       "    <tr>\n",
       "      <th>1</th>\n",
       "      <td>69</td>\n",
       "      <td>ASSAULT 3 &amp; RELATED OFFENSES</td>\n",
       "      <td>COMPLETED</td>\n",
       "      <td>MISDEMEANOR</td>\n",
       "      <td>INSIDE</td>\n",
       "      <td>RESIDENCE-HOUSE</td>\n",
       "      <td>N.Y. POLICE DEPT</td>\n",
       "      <td>NOT PARK</td>\n",
       "      <td>UNKNOWN</td>\n",
       "      <td>UNKNOWN</td>\n",
       "      <td>...</td>\n",
       "      <td>40.644590</td>\n",
       "      <td>-73.892672</td>\n",
       "      <td>NOT SUBWAY</td>\n",
       "      <td>45-64</td>\n",
       "      <td>BLACK</td>\n",
       "      <td>F</td>\n",
       "      <td>2012-03-17 10:00:00</td>\n",
       "      <td>BROOKLYN</td>\n",
       "      <td>PATROL BORO BKLYN SOUTH</td>\n",
       "      <td>2012-03-17 06:00:00</td>\n",
       "    </tr>\n",
       "    <tr>\n",
       "      <th>45</th>\n",
       "      <td>69</td>\n",
       "      <td>PETIT LARCENY</td>\n",
       "      <td>COMPLETED</td>\n",
       "      <td>MISDEMEANOR</td>\n",
       "      <td>INSIDE</td>\n",
       "      <td>CHAIN STORE</td>\n",
       "      <td>N.Y. POLICE DEPT</td>\n",
       "      <td>NOT PARK</td>\n",
       "      <td>UNKNOWN</td>\n",
       "      <td>BLACK</td>\n",
       "      <td>...</td>\n",
       "      <td>40.636300</td>\n",
       "      <td>-73.892466</td>\n",
       "      <td>NOT SUBWAY</td>\n",
       "      <td>UNKNOWN</td>\n",
       "      <td>UNKNOWN</td>\n",
       "      <td>D</td>\n",
       "      <td>2013-06-01 16:00:00</td>\n",
       "      <td>BROOKLYN</td>\n",
       "      <td>PATROL BORO BKLYN SOUTH</td>\n",
       "      <td>2013-06-01 12:00:00</td>\n",
       "    </tr>\n",
       "    <tr>\n",
       "      <th>55</th>\n",
       "      <td>75</td>\n",
       "      <td>CRIMINAL MISCHIEF &amp; RELATED OF</td>\n",
       "      <td>COMPLETED</td>\n",
       "      <td>MISDEMEANOR</td>\n",
       "      <td>REAR OF</td>\n",
       "      <td>FACTORY/WAREHOUSE</td>\n",
       "      <td>N.Y. POLICE DEPT</td>\n",
       "      <td>NOT PARK</td>\n",
       "      <td>UNKNOWN</td>\n",
       "      <td>BLACK</td>\n",
       "      <td>...</td>\n",
       "      <td>40.663657</td>\n",
       "      <td>-73.901087</td>\n",
       "      <td>NOT SUBWAY</td>\n",
       "      <td>UNKNOWN</td>\n",
       "      <td>UNKNOWN</td>\n",
       "      <td>D</td>\n",
       "      <td>2016-08-12 03:00:00</td>\n",
       "      <td>BROOKLYN</td>\n",
       "      <td>PATROL BORO BKLYN NORTH</td>\n",
       "      <td>2016-08-12 00:00:00</td>\n",
       "    </tr>\n",
       "  </tbody>\n",
       "</table>\n",
       "<p>3 rows × 21 columns</p>\n",
       "</div>"
      ],
      "text/plain": [
       "    precinct_number                    offense_type crime_completed  \\\n",
       "1                69    ASSAULT 3 & RELATED OFFENSES       COMPLETED   \n",
       "45               69                   PETIT LARCENY       COMPLETED   \n",
       "55               75  CRIMINAL MISCHIEF & RELATED OF       COMPLETED   \n",
       "\n",
       "   offense_level premise_desc            premise      jurisdiction park_name  \\\n",
       "1    MISDEMEANOR       INSIDE    RESIDENCE-HOUSE  N.Y. POLICE DEPT  NOT PARK   \n",
       "45   MISDEMEANOR       INSIDE        CHAIN STORE  N.Y. POLICE DEPT  NOT PARK   \n",
       "55   MISDEMEANOR      REAR OF  FACTORY/WAREHOUSE  N.Y. POLICE DEPT  NOT PARK   \n",
       "\n",
       "   suspect_age suspect_race  ...   latitude  longitude        metro  \\\n",
       "1      UNKNOWN      UNKNOWN  ...  40.644590 -73.892672  NOT SUBWAY    \n",
       "45     UNKNOWN        BLACK  ...  40.636300 -73.892466  NOT SUBWAY    \n",
       "55     UNKNOWN        BLACK  ...  40.663657 -73.901087  NOT SUBWAY    \n",
       "\n",
       "   victim_age victim_race victim_sex               period   borough  \\\n",
       "1       45-64       BLACK          F  2012-03-17 10:00:00  BROOKLYN   \n",
       "45    UNKNOWN     UNKNOWN          D  2013-06-01 16:00:00  BROOKLYN   \n",
       "55    UNKNOWN     UNKNOWN          D  2016-08-12 03:00:00  BROOKLYN   \n",
       "\n",
       "             patrol_borough       six_hour_date  \n",
       "1   PATROL BORO BKLYN SOUTH 2012-03-17 06:00:00  \n",
       "45  PATROL BORO BKLYN SOUTH 2013-06-01 12:00:00  \n",
       "55  PATROL BORO BKLYN NORTH 2016-08-12 00:00:00  \n",
       "\n",
       "[3 rows x 21 columns]"
      ]
     },
     "execution_count": 7,
     "metadata": {},
     "output_type": "execute_result"
    }
   ],
   "source": [
    "clean_75_df.head(3)"
   ]
  },
  {
   "cell_type": "code",
   "execution_count": 12,
   "metadata": {
    "ExecuteTime": {
     "end_time": "2021-01-02T21:29:35.654737Z",
     "start_time": "2021-01-02T21:29:35.648581Z"
    }
   },
   "outputs": [],
   "source": [
    "def precinct_75(df):\n",
    "    '''\n",
    "    Creates df with 75th precinct only and cuts lat long outliers\n",
    "    '''\n",
    "\n",
    "    df = df.copy()\n",
    "\n",
    "    df = df[df['precinct_number'] == 75]\n",
    "\n",
    "    # Lat/Long extremities for 75th precinct\n",
    "    lat_min, lat_max, lon_min, lon_max = (\n",
    "                                        40.6218192717505,\n",
    "                                        40.6951504231971,\n",
    "                                        -73.90404639808888,\n",
    "                                        -73.83559344190869)\n",
    "\n",
    "    max_lat = df['latitude'] <= lat_max\n",
    "    min_lat = df['latitude'] >= lat_min\n",
    "\n",
    "    max_lon = df['longitude'] <= lon_max\n",
    "    min_lon = df['longitude'] >= lon_min\n",
    "\n",
    "    # Excludes 125 wrong lat long values\n",
    "    df = df[ max_lat & min_lat & max_lon & min_lon]\n",
    "    \n",
    "    return df"
   ]
  },
  {
   "cell_type": "code",
   "execution_count": 13,
   "metadata": {
    "ExecuteTime": {
     "end_time": "2021-01-02T21:29:37.703102Z",
     "start_time": "2021-01-02T21:29:36.626857Z"
    }
   },
   "outputs": [],
   "source": [
    "precinct_df = precinct_75(clean_df)"
   ]
  },
  {
   "cell_type": "code",
   "execution_count": 14,
   "metadata": {
    "ExecuteTime": {
     "end_time": "2021-01-02T21:29:38.389018Z",
     "start_time": "2021-01-02T21:29:38.355687Z"
    }
   },
   "outputs": [
    {
     "data": {
      "text/html": [
       "<div>\n",
       "<style scoped>\n",
       "    .dataframe tbody tr th:only-of-type {\n",
       "        vertical-align: middle;\n",
       "    }\n",
       "\n",
       "    .dataframe tbody tr th {\n",
       "        vertical-align: top;\n",
       "    }\n",
       "\n",
       "    .dataframe thead th {\n",
       "        text-align: right;\n",
       "    }\n",
       "</style>\n",
       "<table border=\"1\" class=\"dataframe\">\n",
       "  <thead>\n",
       "    <tr style=\"text-align: right;\">\n",
       "      <th></th>\n",
       "      <th>precinct_number</th>\n",
       "      <th>offense_type</th>\n",
       "      <th>crime_completed</th>\n",
       "      <th>offense_level</th>\n",
       "      <th>premise_desc</th>\n",
       "      <th>premise</th>\n",
       "      <th>jurisdiction</th>\n",
       "      <th>park_name</th>\n",
       "      <th>suspect_age</th>\n",
       "      <th>suspect_race</th>\n",
       "      <th>...</th>\n",
       "      <th>latitude</th>\n",
       "      <th>longitude</th>\n",
       "      <th>metro</th>\n",
       "      <th>victim_age</th>\n",
       "      <th>victim_race</th>\n",
       "      <th>victim_sex</th>\n",
       "      <th>period</th>\n",
       "      <th>borough</th>\n",
       "      <th>patrol_borough</th>\n",
       "      <th>six_hour_date</th>\n",
       "    </tr>\n",
       "  </thead>\n",
       "  <tbody>\n",
       "    <tr>\n",
       "      <th>55</th>\n",
       "      <td>75</td>\n",
       "      <td>CRIMINAL MISCHIEF &amp; RELATED OF</td>\n",
       "      <td>COMPLETED</td>\n",
       "      <td>MISDEMEANOR</td>\n",
       "      <td>REAR OF</td>\n",
       "      <td>FACTORY/WAREHOUSE</td>\n",
       "      <td>N.Y. POLICE DEPT</td>\n",
       "      <td>NOT PARK</td>\n",
       "      <td>UNKNOWN</td>\n",
       "      <td>BLACK</td>\n",
       "      <td>...</td>\n",
       "      <td>40.663657</td>\n",
       "      <td>-73.901087</td>\n",
       "      <td>NOT SUBWAY</td>\n",
       "      <td>UNKNOWN</td>\n",
       "      <td>UNKNOWN</td>\n",
       "      <td>D</td>\n",
       "      <td>2016-08-12 03:00:00</td>\n",
       "      <td>BROOKLYN</td>\n",
       "      <td>PATROL BORO BKLYN NORTH</td>\n",
       "      <td>2016-08-12 00:00:00</td>\n",
       "    </tr>\n",
       "    <tr>\n",
       "      <th>73</th>\n",
       "      <td>75</td>\n",
       "      <td>DANGEROUS DRUGS</td>\n",
       "      <td>COMPLETED</td>\n",
       "      <td>MISDEMEANOR</td>\n",
       "      <td>UNKNOWN</td>\n",
       "      <td>OTHER</td>\n",
       "      <td>N.Y. POLICE DEPT</td>\n",
       "      <td>NOT PARK</td>\n",
       "      <td>UNKNOWN</td>\n",
       "      <td>UNKNOWN</td>\n",
       "      <td>...</td>\n",
       "      <td>40.666027</td>\n",
       "      <td>-73.896318</td>\n",
       "      <td>NOT SUBWAY</td>\n",
       "      <td>UNKNOWN</td>\n",
       "      <td>UNKNOWN</td>\n",
       "      <td>E</td>\n",
       "      <td>2015-04-12 18:00:00</td>\n",
       "      <td>BROOKLYN</td>\n",
       "      <td>PATROL BORO BKLYN NORTH</td>\n",
       "      <td>2015-04-12 18:00:00</td>\n",
       "    </tr>\n",
       "    <tr>\n",
       "      <th>99</th>\n",
       "      <td>75</td>\n",
       "      <td>ASSAULT 3 &amp; RELATED OFFENSES</td>\n",
       "      <td>COMPLETED</td>\n",
       "      <td>MISDEMEANOR</td>\n",
       "      <td>INSIDE</td>\n",
       "      <td>RESIDENCE - APT. HOUSE</td>\n",
       "      <td>N.Y. POLICE DEPT</td>\n",
       "      <td>NOT PARK</td>\n",
       "      <td>UNKNOWN</td>\n",
       "      <td>UNKNOWN</td>\n",
       "      <td>...</td>\n",
       "      <td>40.679690</td>\n",
       "      <td>-73.866463</td>\n",
       "      <td>NOT SUBWAY</td>\n",
       "      <td>45-64</td>\n",
       "      <td>WHITE HISPANIC</td>\n",
       "      <td>F</td>\n",
       "      <td>2012-08-31 12:00:00</td>\n",
       "      <td>BROOKLYN</td>\n",
       "      <td>PATROL BORO BKLYN NORTH</td>\n",
       "      <td>2012-08-31 12:00:00</td>\n",
       "    </tr>\n",
       "  </tbody>\n",
       "</table>\n",
       "<p>3 rows × 21 columns</p>\n",
       "</div>"
      ],
      "text/plain": [
       "    precinct_number                    offense_type crime_completed  \\\n",
       "55               75  CRIMINAL MISCHIEF & RELATED OF       COMPLETED   \n",
       "73               75                 DANGEROUS DRUGS       COMPLETED   \n",
       "99               75    ASSAULT 3 & RELATED OFFENSES       COMPLETED   \n",
       "\n",
       "   offense_level premise_desc                 premise      jurisdiction  \\\n",
       "55   MISDEMEANOR      REAR OF       FACTORY/WAREHOUSE  N.Y. POLICE DEPT   \n",
       "73   MISDEMEANOR      UNKNOWN                   OTHER  N.Y. POLICE DEPT   \n",
       "99   MISDEMEANOR       INSIDE  RESIDENCE - APT. HOUSE  N.Y. POLICE DEPT   \n",
       "\n",
       "   park_name suspect_age suspect_race  ...   latitude  longitude        metro  \\\n",
       "55  NOT PARK     UNKNOWN        BLACK  ...  40.663657 -73.901087  NOT SUBWAY    \n",
       "73  NOT PARK     UNKNOWN      UNKNOWN  ...  40.666027 -73.896318  NOT SUBWAY    \n",
       "99  NOT PARK     UNKNOWN      UNKNOWN  ...  40.679690 -73.866463  NOT SUBWAY    \n",
       "\n",
       "   victim_age     victim_race victim_sex               period   borough  \\\n",
       "55    UNKNOWN         UNKNOWN          D  2016-08-12 03:00:00  BROOKLYN   \n",
       "73    UNKNOWN         UNKNOWN          E  2015-04-12 18:00:00  BROOKLYN   \n",
       "99      45-64  WHITE HISPANIC          F  2012-08-31 12:00:00  BROOKLYN   \n",
       "\n",
       "             patrol_borough       six_hour_date  \n",
       "55  PATROL BORO BKLYN NORTH 2016-08-12 00:00:00  \n",
       "73  PATROL BORO BKLYN NORTH 2015-04-12 18:00:00  \n",
       "99  PATROL BORO BKLYN NORTH 2012-08-31 12:00:00  \n",
       "\n",
       "[3 rows x 21 columns]"
      ]
     },
     "execution_count": 14,
     "metadata": {},
     "output_type": "execute_result"
    }
   ],
   "source": [
    "precinct_df.head(3)"
   ]
  },
  {
   "cell_type": "code",
   "execution_count": 15,
   "metadata": {
    "ExecuteTime": {
     "end_time": "2021-01-02T21:29:40.106814Z",
     "start_time": "2021-01-02T21:29:40.098932Z"
    }
   },
   "outputs": [
    {
     "data": {
      "text/plain": [
       "array([75])"
      ]
     },
     "execution_count": 15,
     "metadata": {},
     "output_type": "execute_result"
    }
   ],
   "source": [
    "precinct_df['precinct_number'].unique()"
   ]
  }
 ],
 "metadata": {
  "kernelspec": {
   "display_name": "Python 3",
   "language": "python",
   "name": "python3"
  },
  "language_info": {
   "codemirror_mode": {
    "name": "ipython",
    "version": 3
   },
   "file_extension": ".py",
   "mimetype": "text/x-python",
   "name": "python",
   "nbconvert_exporter": "python",
   "pygments_lexer": "ipython3",
   "version": "3.8.6"
  },
  "toc": {
   "base_numbering": 1,
   "nav_menu": {},
   "number_sections": true,
   "sideBar": true,
   "skip_h1_title": false,
   "title_cell": "Table of Contents",
   "title_sidebar": "Contents",
   "toc_cell": false,
   "toc_position": {},
   "toc_section_display": true,
   "toc_window_display": false
  }
 },
 "nbformat": 4,
 "nbformat_minor": 4
}
