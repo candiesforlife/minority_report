{
 "cells": [
  {
   "cell_type": "markdown",
   "metadata": {},
   "source": [
    "## NYPD Data"
   ]
  },
  {
   "cell_type": "markdown",
   "metadata": {},
   "source": [
    "### Imports"
   ]
  },
  {
   "cell_type": "code",
   "execution_count": 1,
   "metadata": {
    "ExecuteTime": {
     "end_time": "2020-12-08T18:03:26.028829Z",
     "start_time": "2020-12-08T18:03:24.529287Z"
    }
   },
   "outputs": [],
   "source": [
    "# data import\n",
    "import pickle\n",
    "\n",
    "# data manipulation\n",
    "import numpy as np\n",
    "import pandas as pd\n",
    "from datetime import datetime\n",
    "\n",
    "# plotting\n",
    "import matplotlib.pyplot as plt\n",
    "\n",
    "#gaussian filter\n",
    "from scipy.ndimage import gaussian_filter"
   ]
  },
  {
   "cell_type": "markdown",
   "metadata": {},
   "source": [
    "### Data Import"
   ]
  },
  {
   "cell_type": "code",
   "execution_count": 2,
   "metadata": {
    "ExecuteTime": {
     "end_time": "2020-12-08T18:03:42.796666Z",
     "start_time": "2020-12-08T18:03:26.825083Z"
    }
   },
   "outputs": [],
   "source": [
    "pickle_path = ('../raw_data/clean.pickle')\n",
    "with open(pickle_path, 'rb') as f:\n",
    "    df = pickle.load(f)"
   ]
  },
  {
   "cell_type": "markdown",
   "metadata": {},
   "source": [
    "### Sample Selection"
   ]
  },
  {
   "cell_type": "code",
   "execution_count": 3,
   "metadata": {
    "ExecuteTime": {
     "end_time": "2020-12-08T18:03:44.654370Z",
     "start_time": "2020-12-08T18:03:43.298876Z"
    }
   },
   "outputs": [],
   "source": [
    "inf = df['period'] >= datetime(2017, 1, 1, 0, 0, 0)\n",
    "sup = df['period'] < datetime(2017, 2, 1, 0, 0, 0)\n",
    "sample = df[ inf & sup ]"
   ]
  },
  {
   "cell_type": "code",
   "execution_count": 4,
   "metadata": {
    "ExecuteTime": {
     "end_time": "2020-12-08T18:03:45.145861Z",
     "start_time": "2020-12-08T18:03:45.128397Z"
    }
   },
   "outputs": [],
   "source": [
    "sample = sample[sample['precinct_number']==75]"
   ]
  },
  {
   "cell_type": "code",
   "execution_count": null,
   "metadata": {
    "ExecuteTime": {
     "end_time": "2020-12-08T15:54:12.005917Z",
     "start_time": "2020-12-08T15:54:11.996879Z"
    }
   },
   "outputs": [],
   "source": [
    "sample.shape"
   ]
  },
  {
   "cell_type": "code",
   "execution_count": null,
   "metadata": {
    "ExecuteTime": {
     "end_time": "2020-12-08T13:39:55.615845Z",
     "start_time": "2020-12-08T13:39:55.586964Z"
    }
   },
   "outputs": [],
   "source": [
    "sample['longitude'].min(), sample['longitude'].max(), sample['latitude'].min(), sample['latitude'].max() "
   ]
  },
  {
   "cell_type": "code",
   "execution_count": null,
   "metadata": {
    "ExecuteTime": {
     "end_time": "2020-12-08T13:39:56.344069Z",
     "start_time": "2020-12-08T13:39:55.628595Z"
    }
   },
   "outputs": [],
   "source": [
    "del df"
   ]
  },
  {
   "cell_type": "code",
   "execution_count": null,
   "metadata": {
    "ExecuteTime": {
     "end_time": "2020-12-08T14:29:11.705886Z",
     "start_time": "2020-12-08T14:29:11.640673Z"
    }
   },
   "outputs": [],
   "source": [
    "sample.groupby('period').count().head()"
   ]
  },
  {
   "cell_type": "code",
   "execution_count": null,
   "metadata": {
    "ExecuteTime": {
     "end_time": "2020-12-08T14:12:28.240845Z",
     "start_time": "2020-12-08T14:12:28.182234Z"
    }
   },
   "outputs": [],
   "source": [
    "np.sort(sample['period'].unique())"
   ]
  },
  {
   "cell_type": "markdown",
   "metadata": {
    "heading_collapsed": true
   },
   "source": [
    "### DataGenerator"
   ]
  },
  {
   "cell_type": "code",
   "execution_count": null,
   "metadata": {
    "ExecuteTime": {
     "end_time": "2020-12-08T13:39:56.449097Z",
     "start_time": "2020-12-08T13:39:56.382956Z"
    },
    "hidden": true
   },
   "outputs": [],
   "source": [
    "import tensorflow as tf\n",
    "​\n",
    "class CustomDataGenerator(tf.keras.utils.Sequence):\n",
    "  def __init__(self, df, batch_size=32, shuffle=True, lat_meters=100, lon_meters=100, *args, **kwargs):\n",
    "    self.df = df\n",
    "    self.batch_size = batch_size\n",
    "    self.indices = np.arange(len(self.df))\n",
    "    self.shuffle = shuffle\n",
    "    self.lat_meters = lat_meters\n",
    "    self.lon_meters = lon_meters\n",
    "    self.on_epoch_end()\n",
    "​\n",
    "  def __len__(self):\n",
    "    \"\"\"\n",
    "    Return the number of batches so the generator knows how many batches\n",
    "    it should generate for each epoch\n",
    "    \"\"\"\n",
    "    return len(df) // self.batch_size\n",
    "​\n",
    "  def __getitem__(self, i):\n",
    "    \"\"\"\n",
    "    Return the i-th batch\n",
    "    \"\"\"\n",
    "    batch_indices = self.indices[i * self.batch_size:(i + 1) * self.batch_size]\n",
    "    batch = self.df.iloc[batch_indices] \n",
    "    return self.__get_data(batch)\n",
    "​\n",
    "  def __get_data(self, batch):\n",
    "    X = from_coord_to_matrix(batch, lat_meters=self.lat_meters, lon_meters=self.lon_meters)\n",
    "    y = from_coord_to_matrix(batch, lat_meters=self.lat_meters, lon_meters=self.lon_meters) # à changer\n",
    "    return X, y\n",
    "​\n",
    "  def on_epoch_end(self):\n",
    "    self.indices = np.arange(len(self.df))\n",
    "    if self.shuffle == True:\n",
    "        np.random.shuffle(self.indices)"
   ]
  },
  {
   "cell_type": "code",
   "execution_count": null,
   "metadata": {
    "ExecuteTime": {
     "end_time": "2020-12-08T13:39:56.819079Z",
     "start_time": "2020-12-08T13:39:40.752Z"
    },
    "hidden": true
   },
   "outputs": [],
   "source": [
    "BATCH_SIZE = 2\n",
    "​\n",
    "datagen = CustomDataGenerator(df, batch_size=BATCH_SIZE)\n",
    "p, q = datagen.__getitem__(3)\n",
    "print(p.shape)\n",
    "print(q.shape)"
   ]
  },
  {
   "cell_type": "markdown",
   "metadata": {},
   "source": [
    "### Lat - Long to Array"
   ]
  },
  {
   "cell_type": "code",
   "execution_count": 5,
   "metadata": {
    "ExecuteTime": {
     "end_time": "2020-12-08T18:03:45.612365Z",
     "start_time": "2020-12-08T18:03:45.603811Z"
    }
   },
   "outputs": [],
   "source": [
    "def from_meters_to_coords(lat_meters, lon_meters):\n",
    "    \"\"\"\n",
    "    gives the latitude and longitude step to use for the grid buckets\n",
    "    lat_meters, lon_meters = lat/lon step\n",
    "    \"\"\"\n",
    "    #Position, decimal degrees\n",
    "    lat = 40\n",
    "    lon = -73\n",
    "\n",
    "    #Earth’s radius, sphere\n",
    "    R=6378137\n",
    "\n",
    "    #offsets in meters\n",
    "    dn = lat_meters\n",
    "    de = lon_meters\n",
    "\n",
    "    #Coordinate offsets in radians\n",
    "    dLat = dn/R\n",
    "    dLon = de/(R*np.cos(np.pi*lat/180))\n",
    "\n",
    "    #OffsetPosition, decimal degrees\n",
    "    latO = dLat * 180/np.pi\n",
    "    lonO = dLon * 180/np.pi \n",
    "\n",
    "    return latO, lonO"
   ]
  },
  {
   "cell_type": "code",
   "execution_count": 6,
   "metadata": {
    "ExecuteTime": {
     "end_time": "2020-12-08T18:03:46.163191Z",
     "start_time": "2020-12-08T18:03:46.139069Z"
    }
   },
   "outputs": [],
   "source": [
    "def from_coord_to_matrix(df, lat_meters, lon_meters):\n",
    "    \"\"\"\n",
    "    outputs the 3D matrix of all coordinates for a given bucket height and width in meters\n",
    "    \"\"\"\n",
    "    df=df.copy()\n",
    "    #add 'time_index' column to df\n",
    "    ind = {time:index for index,time in enumerate(np.sort(df['period'].unique()))}\n",
    "    df['time_index'] = df['period'].map(ind)\n",
    "    \n",
    "    #print(df.groupby('time_index').count())\n",
    "    \n",
    "    #initiate matrix\n",
    "    #40.49611539518921, 40.91553277600008, -74.25559136315213,-73.70000906387347) : NYC boundaries\n",
    "    #([40.56952999448672, 40.73912795313436],[-74.04189660705046, -73.83355923946421]) : brooklyn boundaries\n",
    "    #[40.6218192717505, 40.6951504231971],[-73.90404639808888, -73.83559344190869]) :precinct 75 boundaries\n",
    "    \n",
    "    grid_offset = np.array([ -sample['latitude'].max() , sample['longitude'].min(), 0 ]) # Where do you start\n",
    "    #from meters to lat/lon step\n",
    "    lat_spacing, lon_spacing = from_meters_to_coords(lat_meters, lon_meters )\n",
    "    grid_spacing = np.array([lat_spacing , lon_spacing, 1 ]) # What's the space you consider (euclidian here)\n",
    "    \n",
    "    \n",
    "    \n",
    "    #get points coordinates\n",
    "    coords = np.array([( -lat, lon,t_ind) for lat, lon,t_ind \\\n",
    "                   in zip(df['latitude'],df['longitude'],df['time_index'])])\n",
    "    \n",
    "    \n",
    "    # Convert point to index\n",
    "    indexes = np.round((coords - grid_offset)/grid_spacing).astype('int')\n",
    "    X = indexes[:,0] \n",
    "    Y = indexes[:,1] \n",
    "    Z = indexes[:,2] \n",
    "    #print(len(Z[Z==0]))\n",
    "    \n",
    "    #print(X.min(), X.max(), Y.min(), Y.max(),Z.min(),Z.max())\n",
    "    \n",
    "    #virgin matrix\n",
    "    a = np.zeros((X.max()+1, Y.max()+1, Z.max()+1))\n",
    "   \n",
    "    \n",
    "    a[X, Y, Z]=1\n",
    "    \n",
    "    return a, a.shape[1], a.shape[2]"
   ]
  },
  {
   "cell_type": "code",
   "execution_count": 7,
   "metadata": {
    "ExecuteTime": {
     "end_time": "2020-12-08T18:03:46.707444Z",
     "start_time": "2020-12-08T18:03:46.679870Z"
    }
   },
   "outputs": [],
   "source": [
    "img, lat_size, lon_size = from_coord_to_matrix(sample, 10, 8)"
   ]
  },
  {
   "cell_type": "code",
   "execution_count": 8,
   "metadata": {
    "ExecuteTime": {
     "end_time": "2020-12-08T18:03:47.267001Z",
     "start_time": "2020-12-08T18:03:47.246219Z"
    }
   },
   "outputs": [
    {
     "data": {
      "text/plain": [
       "(527, 482, 561)"
      ]
     },
     "execution_count": 8,
     "metadata": {},
     "output_type": "execute_result"
    }
   ],
   "source": [
    "img.shape"
   ]
  },
  {
   "cell_type": "code",
   "execution_count": null,
   "metadata": {
    "ExecuteTime": {
     "end_time": "2020-12-08T14:27:55.070444Z",
     "start_time": "2020-12-08T14:27:52.419052Z"
    }
   },
   "outputs": [],
   "source": [
    "img[:,:,0].sum()"
   ]
  },
  {
   "cell_type": "code",
   "execution_count": null,
   "metadata": {
    "ExecuteTime": {
     "end_time": "2020-12-08T14:29:25.710347Z",
     "start_time": "2020-12-08T14:29:22.739281Z"
    }
   },
   "outputs": [],
   "source": [
    "plt.figure(figsize=(10, 10))\n",
    "\n",
    "plt.imshow(img[:,:,0], cmap='gray');"
   ]
  },
  {
   "cell_type": "markdown",
   "metadata": {},
   "source": [
    "### Plotting Array (with and w/o Gaussian filter)"
   ]
  },
  {
   "cell_type": "code",
   "execution_count": null,
   "metadata": {
    "ExecuteTime": {
     "end_time": "2020-12-08T13:39:56.899699Z",
     "start_time": "2020-12-08T13:39:40.804Z"
    }
   },
   "outputs": [],
   "source": [
    "#plt.figure(figsize=(5, 5))\n",
    "#plt.imshow(img[3], cmap='gray');"
   ]
  },
  {
   "cell_type": "code",
   "execution_count": 9,
   "metadata": {
    "ExecuteTime": {
     "end_time": "2020-12-08T18:04:08.706718Z",
     "start_time": "2020-12-08T18:03:52.719147Z"
    }
   },
   "outputs": [],
   "source": [
    "img3D_conv = gaussian_filter(img, sigma=(3, 3, 6))"
   ]
  },
  {
   "cell_type": "code",
   "execution_count": null,
   "metadata": {
    "ExecuteTime": {
     "end_time": "2020-12-08T16:40:32.104079Z",
     "start_time": "2020-12-08T16:40:32.092103Z"
    }
   },
   "outputs": [],
   "source": [
    "img3D_conv.shape"
   ]
  },
  {
   "cell_type": "code",
   "execution_count": null,
   "metadata": {
    "ExecuteTime": {
     "end_time": "2020-12-08T14:31:00.344786Z",
     "start_time": "2020-12-08T14:30:59.612876Z"
    }
   },
   "outputs": [],
   "source": [
    "plt.figure(figsize=(10, 10))\n",
    "\n",
    "plt.imshow(img3D_conv[:,:,0], cmap='gray', vmax = img3D_conv[:,:,0].max());"
   ]
  },
  {
   "cell_type": "markdown",
   "metadata": {},
   "source": [
    "### Splitting into X and y"
   ]
  },
  {
   "cell_type": "markdown",
   "metadata": {
    "heading_collapsed": true
   },
   "source": [
    "#### Try outs"
   ]
  },
  {
   "cell_type": "code",
   "execution_count": null,
   "metadata": {
    "ExecuteTime": {
     "end_time": "2020-12-08T13:39:56.923054Z",
     "start_time": "2020-12-08T13:39:40.828Z"
    },
    "hidden": true
   },
   "outputs": [],
   "source": [
    "img3D_conv.shape"
   ]
  },
  {
   "cell_type": "code",
   "execution_count": null,
   "metadata": {
    "ExecuteTime": {
     "end_time": "2020-12-08T13:39:56.955743Z",
     "start_time": "2020-12-08T13:39:40.851Z"
    },
    "hidden": true
   },
   "outputs": [],
   "source": [
    "img3D_conv.max()"
   ]
  },
  {
   "cell_type": "code",
   "execution_count": null,
   "metadata": {
    "ExecuteTime": {
     "end_time": "2020-12-08T13:39:56.969679Z",
     "start_time": "2020-12-08T13:39:40.869Z"
    },
    "hidden": true
   },
   "outputs": [],
   "source": [
    "obs_lon = 2 # 2*10m together in lon\n",
    "obs_lat = 3 # 3*10m\n",
    "obs_time = 6 # 6h stacked together\n",
    "obs_tf = 24 # 24h en tout\n",
    "tar_tf = 12 # 12h en tout pour target"
   ]
  },
  {
   "cell_type": "code",
   "execution_count": null,
   "metadata": {
    "ExecuteTime": {
     "end_time": "2020-12-08T13:39:57.011506Z",
     "start_time": "2020-12-08T13:39:40.882Z"
    },
    "hidden": true
   },
   "outputs": [],
   "source": [
    "length = obs_tf + tar_tf\n",
    "position = np.random.randint(0, img3D_conv.shape[2] - length)"
   ]
  },
  {
   "cell_type": "code",
   "execution_count": null,
   "metadata": {
    "ExecuteTime": {
     "end_time": "2020-12-08T13:39:57.016847Z",
     "start_time": "2020-12-08T13:39:40.895Z"
    },
    "hidden": true
   },
   "outputs": [],
   "source": [
    "position"
   ]
  },
  {
   "cell_type": "code",
   "execution_count": null,
   "metadata": {
    "ExecuteTime": {
     "end_time": "2020-12-08T13:39:57.026655Z",
     "start_time": "2020-12-08T13:39:40.904Z"
    },
    "hidden": true
   },
   "outputs": [],
   "source": [
    "subsample = img3D_conv[:,:,position:position + length]"
   ]
  },
  {
   "cell_type": "code",
   "execution_count": null,
   "metadata": {
    "ExecuteTime": {
     "end_time": "2020-12-08T13:39:57.031491Z",
     "start_time": "2020-12-08T13:39:40.915Z"
    },
    "hidden": true
   },
   "outputs": [],
   "source": [
    "subsample.shape"
   ]
  },
  {
   "cell_type": "code",
   "execution_count": null,
   "metadata": {
    "ExecuteTime": {
     "end_time": "2020-12-08T13:39:57.041824Z",
     "start_time": "2020-12-08T13:39:40.929Z"
    },
    "hidden": true
   },
   "outputs": [],
   "source": [
    "subsample.max()"
   ]
  },
  {
   "cell_type": "code",
   "execution_count": null,
   "metadata": {
    "ExecuteTime": {
     "end_time": "2020-12-08T13:39:57.048868Z",
     "start_time": "2020-12-08T13:39:40.937Z"
    },
    "hidden": true
   },
   "outputs": [],
   "source": [
    "observations, targets = np.split(subsample,[obs_tf], axis=2)"
   ]
  },
  {
   "cell_type": "code",
   "execution_count": null,
   "metadata": {
    "ExecuteTime": {
     "end_time": "2020-12-08T13:39:57.061219Z",
     "start_time": "2020-12-08T13:39:40.945Z"
    },
    "hidden": true
   },
   "outputs": [],
   "source": [
    "observations.shape"
   ]
  },
  {
   "cell_type": "code",
   "execution_count": null,
   "metadata": {
    "ExecuteTime": {
     "end_time": "2020-12-08T13:39:57.073602Z",
     "start_time": "2020-12-08T13:39:40.954Z"
    },
    "hidden": true
   },
   "outputs": [],
   "source": [
    "observations.max()"
   ]
  },
  {
   "cell_type": "markdown",
   "metadata": {
    "heading_collapsed": true
   },
   "source": [
    "#### Math test"
   ]
  },
  {
   "cell_type": "code",
   "execution_count": null,
   "metadata": {
    "ExecuteTime": {
     "end_time": "2020-12-08T13:39:57.104995Z",
     "start_time": "2020-12-08T13:39:40.964Z"
    },
    "hidden": true
   },
   "outputs": [],
   "source": [
    "a = np.array([[[1, 2, 3], [4, 5, 6]], [[1.1, 2.2, 3.3], [4.4, 5.5, 6.6]]])\n",
    "b = np.array([[[7, 8, 9], [10, 11, 12]], [[7.7, 8.8, 9.9], [10.1, 11.1, 12.1]]])\n",
    "a"
   ]
  },
  {
   "cell_type": "code",
   "execution_count": null,
   "metadata": {
    "ExecuteTime": {
     "end_time": "2020-12-08T13:39:57.116768Z",
     "start_time": "2020-12-08T13:39:40.976Z"
    },
    "hidden": true
   },
   "outputs": [],
   "source": [
    "a.shape"
   ]
  },
  {
   "cell_type": "code",
   "execution_count": null,
   "metadata": {
    "ExecuteTime": {
     "end_time": "2020-12-08T13:39:57.129750Z",
     "start_time": "2020-12-08T13:39:40.980Z"
    },
    "hidden": true
   },
   "outputs": [],
   "source": [
    "a.reshape((1, 2, 2, 2))"
   ]
  },
  {
   "cell_type": "code",
   "execution_count": null,
   "metadata": {
    "ExecuteTime": {
     "end_time": "2020-12-08T13:39:57.137826Z",
     "start_time": "2020-12-08T13:39:40.997Z"
    },
    "hidden": true
   },
   "outputs": [],
   "source": [
    "c += b"
   ]
  },
  {
   "cell_type": "code",
   "execution_count": null,
   "metadata": {
    "ExecuteTime": {
     "end_time": "2020-12-08T13:39:57.143062Z",
     "start_time": "2020-12-08T13:39:41.007Z"
    },
    "hidden": true
   },
   "outputs": [],
   "source": [
    "c"
   ]
  },
  {
   "cell_type": "markdown",
   "metadata": {
    "heading_collapsed": true
   },
   "source": [
    "#### Resume"
   ]
  },
  {
   "cell_type": "code",
   "execution_count": null,
   "metadata": {
    "ExecuteTime": {
     "end_time": "2020-12-08T13:39:57.157449Z",
     "start_time": "2020-12-08T13:39:41.024Z"
    },
    "hidden": true
   },
   "outputs": [],
   "source": [
    "timeframes=[]\n",
    "start=0\n",
    "nb_images = int(observations.shape[2]/obs_s)\n",
    "for i in range (nb_images):\n",
    "    not_stacked = observations[: , : , start : start+obs_s]\n",
    "    base = not_stacked[:,:,0]\n",
    "    for i in range(1,obs_s):\n",
    "        base += first_timeframe[:,:,i]\n",
    "    timeframes.append(not_stacked)\n",
    "    start += obs_s"
   ]
  },
  {
   "cell_type": "code",
   "execution_count": null,
   "metadata": {
    "ExecuteTime": {
     "end_time": "2020-12-08T13:39:57.168219Z",
     "start_time": "2020-12-08T13:39:41.033Z"
    },
    "hidden": true
   },
   "outputs": [],
   "source": [
    "tf_arr = np.array(timeframes)\n",
    "tf_arr.shape"
   ]
  },
  {
   "cell_type": "code",
   "execution_count": null,
   "metadata": {
    "ExecuteTime": {
     "end_time": "2020-12-08T13:39:57.173805Z",
     "start_time": "2020-12-08T13:39:41.040Z"
    },
    "hidden": true
   },
   "outputs": [],
   "source": [
    "tf_arr.max()"
   ]
  },
  {
   "cell_type": "code",
   "execution_count": null,
   "metadata": {
    "ExecuteTime": {
     "end_time": "2020-12-08T13:39:57.181032Z",
     "start_time": "2020-12-08T13:39:41.046Z"
    },
    "hidden": true
   },
   "outputs": [],
   "source": [
    "first_timeframe = tf_arr[0]\n",
    "first_timeframe.shape"
   ]
  },
  {
   "cell_type": "code",
   "execution_count": null,
   "metadata": {
    "ExecuteTime": {
     "end_time": "2020-12-08T13:39:57.188430Z",
     "start_time": "2020-12-08T13:39:41.053Z"
    },
    "hidden": true
   },
   "outputs": [],
   "source": [
    "first_timeframe.max()"
   ]
  },
  {
   "cell_type": "code",
   "execution_count": null,
   "metadata": {
    "ExecuteTime": {
     "end_time": "2020-12-08T13:39:57.196775Z",
     "start_time": "2020-12-08T13:39:41.059Z"
    },
    "hidden": true
   },
   "outputs": [],
   "source": [
    "base = first_timeframe[:,:,0]\n",
    "base.shape"
   ]
  },
  {
   "cell_type": "code",
   "execution_count": null,
   "metadata": {
    "ExecuteTime": {
     "end_time": "2020-12-08T13:39:57.205422Z",
     "start_time": "2020-12-08T13:39:41.065Z"
    },
    "hidden": true
   },
   "outputs": [],
   "source": [
    "base.max()"
   ]
  },
  {
   "cell_type": "code",
   "execution_count": null,
   "metadata": {
    "ExecuteTime": {
     "end_time": "2020-12-08T13:39:57.220510Z",
     "start_time": "2020-12-08T13:39:41.071Z"
    },
    "hidden": true
   },
   "outputs": [],
   "source": [
    "for i in range(1,obs_s+1):\n",
    "    base += first_timeframe[:,:,i]"
   ]
  },
  {
   "cell_type": "code",
   "execution_count": null,
   "metadata": {
    "ExecuteTime": {
     "end_time": "2020-12-08T13:39:57.234580Z",
     "start_time": "2020-12-08T13:39:41.081Z"
    },
    "hidden": true
   },
   "outputs": [],
   "source": [
    "base.shape"
   ]
  },
  {
   "cell_type": "code",
   "execution_count": null,
   "metadata": {
    "ExecuteTime": {
     "end_time": "2020-12-08T13:39:57.238212Z",
     "start_time": "2020-12-08T13:39:41.087Z"
    },
    "hidden": true
   },
   "outputs": [],
   "source": [
    "base.max()"
   ]
  },
  {
   "cell_type": "code",
   "execution_count": null,
   "metadata": {
    "ExecuteTime": {
     "end_time": "2020-12-08T13:39:57.242316Z",
     "start_time": "2020-12-08T13:39:41.094Z"
    },
    "hidden": true
   },
   "outputs": [],
   "source": [
    "print(base)"
   ]
  },
  {
   "cell_type": "markdown",
   "metadata": {
    "heading_collapsed": true
   },
   "source": [
    "#### Try with othe grid"
   ]
  },
  {
   "cell_type": "code",
   "execution_count": null,
   "metadata": {
    "ExecuteTime": {
     "end_time": "2020-12-08T13:39:57.250332Z",
     "start_time": "2020-12-08T13:39:41.100Z"
    },
    "hidden": true,
    "scrolled": true
   },
   "outputs": [],
   "source": [
    "stacked = stacking_2(observations, obs_lat , obs_lon, obs_time )\n",
    "stacked"
   ]
  },
  {
   "cell_type": "code",
   "execution_count": null,
   "metadata": {
    "ExecuteTime": {
     "end_time": "2020-12-08T13:39:57.257644Z",
     "start_time": "2020-12-08T13:39:41.105Z"
    },
    "hidden": true
   },
   "outputs": [],
   "source": [
    "stacked.max()"
   ]
  },
  {
   "cell_type": "code",
   "execution_count": null,
   "metadata": {
    "ExecuteTime": {
     "end_time": "2020-12-08T13:39:57.264319Z",
     "start_time": "2020-12-08T13:39:41.111Z"
    },
    "hidden": true
   },
   "outputs": [],
   "source": [
    "observations[observations != 0]"
   ]
  },
  {
   "cell_type": "code",
   "execution_count": null,
   "metadata": {
    "ExecuteTime": {
     "end_time": "2020-12-08T09:02:54.407332Z",
     "start_time": "2020-12-08T09:02:54.397537Z"
    },
    "hidden": true
   },
   "outputs": [],
   "source": []
  },
  {
   "cell_type": "markdown",
   "metadata": {},
   "source": [
    "#### Functions"
   ]
  },
  {
   "cell_type": "code",
   "execution_count": 10,
   "metadata": {
    "ExecuteTime": {
     "end_time": "2020-12-08T18:04:45.144583Z",
     "start_time": "2020-12-08T18:04:45.124888Z"
    }
   },
   "outputs": [],
   "source": [
    "def stacking(img3D, window, lat_step, lon_step, time_step):\n",
    "    \n",
    "    grid_offset = np.array([0,0,0]) # Where do you start\n",
    "    \n",
    "    #new steps from precise grid\n",
    "    grid_spacing = np.array([lat_step , lon_step, time_step]) \n",
    "    #get points coordinates\n",
    "    coords = np.argwhere(window)\n",
    "    flat = window.flatten()\n",
    "    values = flat[flat !=0]\n",
    "    \n",
    "    # Convert point to index\n",
    "    indexes = np.round((coords - grid_offset)/grid_spacing).astype('int')\n",
    "    X = indexes[:,0] \n",
    "    Y = indexes[:,1] \n",
    "    Z = indexes[:,2]\n",
    "    \n",
    "    #virgin matrix\n",
    "    a = np.zeros((int(img3D.shape[0]/lat_step)+1, int(img3D.shape[1]/lon_step)+1,Z.max()+1))  \n",
    "    \n",
    "    for i in range(len(indexes)):\n",
    "        if a[X[i], Y[i], Z[i]] == 0:\n",
    "            a[X[i], Y[i], Z[i]] = values[i]\n",
    "        else:\n",
    "            a[X[i], Y[i], Z[i]] += values[i]\n",
    "                        \n",
    "    return a"
   ]
  },
  {
   "cell_type": "code",
   "execution_count": 11,
   "metadata": {
    "ExecuteTime": {
     "end_time": "2020-12-08T18:04:47.099098Z",
     "start_time": "2020-12-08T18:04:47.077567Z"
    }
   },
   "outputs": [],
   "source": [
    "#def stacking(window, step, timeframe):\n",
    "\n",
    "    #nb_images = int(window.shape[2]/step) #nb of image in one window\n",
    "    #print(nb_images)\n",
    "    \n",
    "#    not_stacked = np.split(window, step, axis=2) #get the group of hours to stack together\n",
    "#    stacked = np.array([box.sum(axis=2) for box in not_stacked])\n",
    "    #for element in no_stacked :\n",
    "    #    stacked = element[:,:,0] #intialise the base on which we are going to stack the others    \n",
    "    #    for i in range(1,step):\n",
    "    #        stacked += element[:,:,i] #stack all the other hours of the group onto the base\n",
    "    #    timeframes.append(stacked) #get stackedhours for all the images of the window\n",
    "\n",
    "    \n",
    "#    return stacked"
   ]
  },
  {
   "cell_type": "code",
   "execution_count": 12,
   "metadata": {
    "ExecuteTime": {
     "end_time": "2020-12-08T18:04:50.535743Z",
     "start_time": "2020-12-08T18:04:50.503919Z"
    }
   },
   "outputs": [],
   "source": [
    "def get_observation_target(img3D,\n",
    "                           obs_timeframe,obs_lat,obs_lon, obs_time,\n",
    "                           target_timeframe,  tar_lat,tar_lon, tar_time):\n",
    "    '''\n",
    "    output an observation of x_length consecutive images and the y_length next images as the target\n",
    "    obs_step, obs_timeframe, target_step, target_timeframe : unit = hours\n",
    "    '''\n",
    "    #function from raw to hours\n",
    "    print('creating obs')\n",
    "    length = obs_timeframe + target_timeframe\n",
    "    \n",
    "    position = np.random.randint(0, img3D_conv.shape[2] - length)\n",
    "\n",
    "    subsample = img3D[:, :, position : position + length]\n",
    "    #print(subsample.shape)\n",
    "    \n",
    "    observations, targets = np.split(subsample,[obs_timeframe], axis=2) # divide the subsample in X and y\n",
    "    \n",
    "    #print(observations.shape)\n",
    "    #print(observations.min(), observations.max())\n",
    "    \n",
    "    observation = stacking(img3D, observations, obs_lat, obs_lon, obs_time) #get stacked hours for all images\n",
    "    print(observation.shape)\n",
    "    #print (targets.shape)\n",
    "    \n",
    "    target = stacking(img3D, targets,  tar_lat, tar_lon, tar_time )\n",
    "    print(target.shape)\n",
    "    return observation, target"
   ]
  },
  {
   "cell_type": "code",
   "execution_count": null,
   "metadata": {
    "ExecuteTime": {
     "end_time": "2020-12-08T16:49:18.329797Z",
     "start_time": "2020-12-08T16:49:12.337852Z"
    }
   },
   "outputs": [],
   "source": [
    "observation, target = get_observation_target(img3D_conv,\n",
    "                                             obs_tf, obs_lat,obs_lon,  obs_time,\n",
    "                                             tar_tf, tar_lat,tar_lon,  tar_time)"
   ]
  },
  {
   "cell_type": "code",
   "execution_count": null,
   "metadata": {
    "ExecuteTime": {
     "end_time": "2020-12-08T14:52:27.964772Z",
     "start_time": "2020-12-08T14:52:27.955498Z"
    }
   },
   "outputs": [],
   "source": [
    "observation.shape"
   ]
  },
  {
   "cell_type": "code",
   "execution_count": null,
   "metadata": {
    "ExecuteTime": {
     "end_time": "2020-12-08T14:52:28.818979Z",
     "start_time": "2020-12-08T14:52:28.796268Z"
    }
   },
   "outputs": [],
   "source": [
    "target.shape"
   ]
  },
  {
   "cell_type": "code",
   "execution_count": null,
   "metadata": {
    "ExecuteTime": {
     "end_time": "2020-12-08T14:52:41.668192Z",
     "start_time": "2020-12-08T14:52:40.729648Z"
    }
   },
   "outputs": [],
   "source": [
    "plt.figure(figsize=(15,15))\n",
    "plt.imshow(observation[:,:,0], cmap=('gray'))"
   ]
  },
  {
   "cell_type": "markdown",
   "metadata": {},
   "source": [
    "### Subsampling to get multiple X and y"
   ]
  },
  {
   "cell_type": "code",
   "execution_count": 13,
   "metadata": {
    "ExecuteTime": {
     "end_time": "2020-12-08T18:04:55.915625Z",
     "start_time": "2020-12-08T18:04:55.904322Z"
    }
   },
   "outputs": [],
   "source": [
    "def get_X_y(img3D_conv, nb_observations, obs_tf,obs_lat,obs_lon, obs_time,\n",
    "                tar_tf, tar_lat,tar_lon, tar_time):\n",
    "    '''\n",
    "    outputs n observations and their associated targets\n",
    "    '''\n",
    "    X = []\n",
    "    y = []\n",
    "    \n",
    "    for n in range(nb_observations):\n",
    "        X_subsample, y_subsample = get_observation_target(img3D_conv,\n",
    "                                       obs_tf,obs_lat,obs_lon, obs_time,\n",
    "                                       tar_tf,  tar_lat,tar_lon, tar_time)\n",
    "        X.append(X_subsample)\n",
    "        y.append(y_subsample)\n",
    "        \n",
    "    X = np.array(X)\n",
    "    y = np.array(y)\n",
    "\n",
    "    del X_subsample, y_subsample, n\n",
    "    \n",
    "    return X, y"
   ]
  },
  {
   "cell_type": "code",
   "execution_count": 15,
   "metadata": {
    "ExecuteTime": {
     "end_time": "2020-12-08T18:08:57.803414Z",
     "start_time": "2020-12-08T18:05:25.503215Z"
    }
   },
   "outputs": [
    {
     "name": "stdout",
     "output_type": "stream",
     "text": [
      "creating obs\n",
      "(176, 161, 17)\n",
      "(176, 161, 7)\n",
      "creating obs\n",
      "(176, 161, 17)\n",
      "(176, 161, 7)\n",
      "creating obs\n",
      "(176, 161, 17)\n",
      "(176, 161, 7)\n",
      "creating obs\n",
      "(176, 161, 17)\n",
      "(176, 161, 7)\n",
      "creating obs\n",
      "(176, 161, 17)\n",
      "(176, 161, 7)\n",
      "creating obs\n",
      "(176, 161, 17)\n",
      "(176, 161, 7)\n",
      "creating obs\n",
      "(176, 161, 17)\n",
      "(176, 161, 7)\n",
      "creating obs\n",
      "(176, 161, 17)\n",
      "(176, 161, 7)\n",
      "creating obs\n",
      "(176, 161, 17)\n",
      "(176, 161, 7)\n",
      "creating obs\n",
      "(176, 161, 17)\n",
      "(176, 161, 7)\n",
      "creating obs\n",
      "(176, 161, 17)\n",
      "(176, 161, 7)\n",
      "creating obs\n",
      "(176, 161, 17)\n",
      "(176, 161, 7)\n",
      "creating obs\n",
      "(176, 161, 17)\n",
      "(176, 161, 7)\n",
      "creating obs\n",
      "(176, 161, 17)\n",
      "(176, 161, 7)\n",
      "creating obs\n",
      "(176, 161, 17)\n",
      "(176, 161, 7)\n",
      "creating obs\n",
      "(176, 161, 17)\n",
      "(176, 161, 7)\n",
      "creating obs\n",
      "(176, 161, 17)\n",
      "(176, 161, 7)\n",
      "creating obs\n",
      "(176, 161, 17)\n",
      "(176, 161, 7)\n",
      "creating obs\n",
      "(176, 161, 17)\n",
      "(176, 161, 7)\n",
      "creating obs\n",
      "(176, 161, 17)\n",
      "(176, 161, 7)\n"
     ]
    }
   ],
   "source": [
    "obs_lon = 3 # 5*5m together in lon\n",
    "obs_lat = 3 # 5*5m\n",
    "obs_time = 3 # 3h stacked together\n",
    "obs_tf = 48 # for 48h straight as X\n",
    "tar_lon =  3# 5*5m together in lon\n",
    "tar_lat = 3 # 5*5m\n",
    "tar_time = 2 # 2h stacked together\n",
    "tar_tf = 12 # for 12h straight as y\n",
    "nb_observations = 20\n",
    "\n",
    "X, y = get_X_y(img3D_conv, nb_observations, obs_tf,obs_lat,obs_lon, obs_time,\n",
    "                tar_tf, tar_lat,tar_lon, tar_time)"
   ]
  },
  {
   "cell_type": "code",
   "execution_count": null,
   "metadata": {
    "ExecuteTime": {
     "end_time": "2020-12-08T13:39:57.339104Z",
     "start_time": "2020-12-08T13:39:41.173Z"
    }
   },
   "outputs": [],
   "source": [
    "del img, img3D_conv, inf, sup, sample"
   ]
  },
  {
   "cell_type": "code",
   "execution_count": 16,
   "metadata": {
    "ExecuteTime": {
     "end_time": "2020-12-08T18:22:37.514071Z",
     "start_time": "2020-12-08T18:22:37.497847Z"
    }
   },
   "outputs": [
    {
     "data": {
      "text/plain": [
       "(20, 176, 161, 17)"
      ]
     },
     "execution_count": 16,
     "metadata": {},
     "output_type": "execute_result"
    }
   ],
   "source": [
    "X.shape"
   ]
  },
  {
   "cell_type": "code",
   "execution_count": 17,
   "metadata": {
    "ExecuteTime": {
     "end_time": "2020-12-08T18:22:39.211182Z",
     "start_time": "2020-12-08T18:22:39.185655Z"
    }
   },
   "outputs": [
    {
     "data": {
      "text/plain": [
       "(20, 176, 161, 7)"
      ]
     },
     "execution_count": 17,
     "metadata": {},
     "output_type": "execute_result"
    }
   ],
   "source": [
    "y.shape"
   ]
  },
  {
   "cell_type": "code",
   "execution_count": null,
   "metadata": {},
   "outputs": [],
   "source": []
  },
  {
   "cell_type": "code",
   "execution_count": null,
   "metadata": {},
   "outputs": [],
   "source": []
  },
  {
   "cell_type": "markdown",
   "metadata": {},
   "source": [
    "## Model"
   ]
  },
  {
   "cell_type": "markdown",
   "metadata": {},
   "source": [
    "### Imports"
   ]
  },
  {
   "cell_type": "code",
   "execution_count": 18,
   "metadata": {
    "ExecuteTime": {
     "end_time": "2020-12-08T18:23:11.324351Z",
     "start_time": "2020-12-08T18:23:03.820732Z"
    }
   },
   "outputs": [],
   "source": [
    "# Train, test, split\n",
    "from sklearn.model_selection import train_test_split\n",
    "\n",
    "# Model\n",
    "from tensorflow.keras import models\n",
    "from tensorflow.keras import layers\n",
    "from tensorflow.keras.callbacks import EarlyStopping"
   ]
  },
  {
   "cell_type": "markdown",
   "metadata": {},
   "source": [
    "### Train, test, split"
   ]
  },
  {
   "cell_type": "code",
   "execution_count": 19,
   "metadata": {
    "ExecuteTime": {
     "end_time": "2020-12-08T18:23:12.594369Z",
     "start_time": "2020-12-08T18:23:12.429652Z"
    }
   },
   "outputs": [],
   "source": [
    "X_train, X_test, y_train, y_test = train_test_split(X, y, test_size = 0.2)"
   ]
  },
  {
   "cell_type": "code",
   "execution_count": 20,
   "metadata": {
    "ExecuteTime": {
     "end_time": "2020-12-08T18:23:14.755927Z",
     "start_time": "2020-12-08T18:23:14.716354Z"
    }
   },
   "outputs": [
    {
     "data": {
      "text/plain": [
       "(16, 176, 161, 17)"
      ]
     },
     "execution_count": 20,
     "metadata": {},
     "output_type": "execute_result"
    }
   ],
   "source": [
    "X_train.shape"
   ]
  },
  {
   "cell_type": "code",
   "execution_count": 21,
   "metadata": {
    "ExecuteTime": {
     "end_time": "2020-12-08T18:23:16.383186Z",
     "start_time": "2020-12-08T18:23:16.363199Z"
    }
   },
   "outputs": [
    {
     "data": {
      "text/plain": [
       "(16, 176, 161, 7)"
      ]
     },
     "execution_count": 21,
     "metadata": {},
     "output_type": "execute_result"
    }
   ],
   "source": [
    "y_train.shape"
   ]
  },
  {
   "cell_type": "code",
   "execution_count": 28,
   "metadata": {
    "ExecuteTime": {
     "end_time": "2020-12-08T18:27:43.860828Z",
     "start_time": "2020-12-08T18:27:43.633978Z"
    }
   },
   "outputs": [],
   "source": [
    "with open('../raw_data/X_train_by_hour.pickle', 'wb') as f:\n",
    "    pickle.dump(X_train, f)"
   ]
  },
  {
   "cell_type": "code",
   "execution_count": 29,
   "metadata": {
    "ExecuteTime": {
     "end_time": "2020-12-08T18:27:45.805893Z",
     "start_time": "2020-12-08T18:27:45.720125Z"
    }
   },
   "outputs": [],
   "source": [
    "with open('../raw_data/y_train_by_hour.pickle', 'wb') as f:\n",
    "    pickle.dump(y_train, f)"
   ]
  },
  {
   "cell_type": "code",
   "execution_count": 30,
   "metadata": {
    "ExecuteTime": {
     "end_time": "2020-12-08T18:27:47.630802Z",
     "start_time": "2020-12-08T18:27:47.581812Z"
    }
   },
   "outputs": [],
   "source": [
    "with open('../raw_data/X_test_by_hour.pickle', 'wb') as f:\n",
    "    pickle.dump(X_test, f)"
   ]
  },
  {
   "cell_type": "code",
   "execution_count": 31,
   "metadata": {
    "ExecuteTime": {
     "end_time": "2020-12-08T18:27:49.227330Z",
     "start_time": "2020-12-08T18:27:49.206883Z"
    }
   },
   "outputs": [],
   "source": [
    "with open('../raw_data/y_test_by_hour.pickle', 'wb') as f:\n",
    "    pickle.dump(y_test, f)"
   ]
  },
  {
   "cell_type": "code",
   "execution_count": null,
   "metadata": {
    "ExecuteTime": {
     "end_time": "2020-12-08T13:39:57.364949Z",
     "start_time": "2020-12-08T13:39:41.199Z"
    }
   },
   "outputs": [],
   "source": [
    "del X,y"
   ]
  },
  {
   "cell_type": "markdown",
   "metadata": {},
   "source": [
    "### Model"
   ]
  },
  {
   "cell_type": "code",
   "execution_count": null,
   "metadata": {
    "ExecuteTime": {
     "end_time": "2020-12-08T13:39:57.370240Z",
     "start_time": "2020-12-08T13:39:41.206Z"
    }
   },
   "outputs": [],
   "source": [
    "def init_model(x_length, y_length, lat_size, lon_size):\n",
    "    print('initializing model')\n",
    "    model = models.Sequential()\n",
    "    \n",
    "    print('adding conv3D 1')\n",
    "    model.add(layers.Conv3D(64, kernel_size = 10, activation = 'relu', padding='same',\n",
    "                            input_shape = (lat_size, lon_size, x_length, 1)))\n",
    "    model.add(layers.MaxPooling3D(2))\n",
    "\n",
    "    #print('adding conv3D 2')\n",
    "    #model.add(layers.Conv3D(128, kernel_size = 5, activation = 'relu', padding='same'))\n",
    "    #model.add(layers.MaxPooling3D(2))\n",
    "\n",
    "    #print('adding conv3D 3')\n",
    "    #model.add(layers.Conv3D(64, kernel_size = 3, activation = 'relu', padding='same'))\n",
    "    #model.add(layers.MaxPooling3D(2,))     \n",
    "\n",
    "    print('flattening')\n",
    "    model.add(layers.Flatten())\n",
    "    \n",
    "    print('adding dense layer 1')\n",
    "    model.add(layers.Dense(5_000, activation = 'relu'))\n",
    "    \n",
    "    print('adding dense layer 2')\n",
    "    model.add(layers.Dense(50_000, activation = 'relu'))\n",
    "    \n",
    "    print('adding dense layer 3')\n",
    "    model.add(layers.Dense(lat_size * lon_size, activation = 'relu'))\n",
    "    \n",
    "    print('adding dense layer 4')\n",
    "    model.add(layers.Dense(lat_size * lon_size * y_length/2, activation = 'relu'))\n",
    "    \n",
    "    #print('adding dense layer 2')\n",
    "    #model.add(layers.Dropout(rate=0.5))\n",
    "\n",
    "    print('adding final dense layer')\n",
    "    model.add(layers.Dense(y_length * lat_size * lon_size, activation = 'relu'))\n",
    "    \n",
    "    print('Reshaping')\n",
    "    model.add(layers.Reshape((lat_size, lon_size, y_length)))\n",
    "    \n",
    "    print('compiling')\n",
    "    model.compile(loss = 'mse',\n",
    "                  optimizer = 'adam',\n",
    "                  metrics = 'mae')\n",
    "    print('Done !')\n",
    "    \n",
    "    return model"
   ]
  },
  {
   "cell_type": "markdown",
   "metadata": {},
   "source": [
    "### Running Model (Instance, Early Stopping, Fit and Evaluate)"
   ]
  },
  {
   "cell_type": "markdown",
   "metadata": {},
   "source": [
    "**Reminders**\n",
    "\n",
    "**batch_size:** no. of data used to compute error between y_pred and y_true each time weights of neural network updated (use 16 or 32)\n",
    "\n",
    "**epoch:** once all data has been used once to update the weights"
   ]
  },
  {
   "cell_type": "code",
   "execution_count": null,
   "metadata": {
    "ExecuteTime": {
     "end_time": "2020-12-08T13:39:57.375122Z",
     "start_time": "2020-12-08T13:39:41.216Z"
    }
   },
   "outputs": [],
   "source": [
    "model = init_model(x_length,y_length, lat_size, lon_size)"
   ]
  },
  {
   "cell_type": "code",
   "execution_count": null,
   "metadata": {
    "ExecuteTime": {
     "end_time": "2020-12-08T13:39:57.379125Z",
     "start_time": "2020-12-08T13:39:41.221Z"
    }
   },
   "outputs": [],
   "source": [
    "model.summary()"
   ]
  },
  {
   "cell_type": "code",
   "execution_count": null,
   "metadata": {
    "ExecuteTime": {
     "end_time": "2020-12-08T13:39:57.384833Z",
     "start_time": "2020-12-08T13:39:41.227Z"
    }
   },
   "outputs": [],
   "source": [
    "es = EarlyStopping(patience = 5, restore_best_weights=True)\n",
    "\n",
    "history = model.fit(X_train, y_train,\n",
    "                      batch_size = 32, \n",
    "                      epochs = 2,\n",
    "                      validation_split = 0.3,\n",
    "                      callbacks = es)"
   ]
  },
  {
   "cell_type": "code",
   "execution_count": null,
   "metadata": {
    "ExecuteTime": {
     "end_time": "2020-12-08T13:39:57.391679Z",
     "start_time": "2020-12-08T13:39:41.234Z"
    }
   },
   "outputs": [],
   "source": [
    "history.history.keys()"
   ]
  },
  {
   "cell_type": "code",
   "execution_count": null,
   "metadata": {
    "ExecuteTime": {
     "end_time": "2020-12-08T13:39:57.398486Z",
     "start_time": "2020-12-08T13:39:41.239Z"
    }
   },
   "outputs": [],
   "source": [
    "plt.plot(history.history['val_loss'])"
   ]
  },
  {
   "cell_type": "code",
   "execution_count": null,
   "metadata": {
    "ExecuteTime": {
     "end_time": "2020-12-08T13:39:57.404400Z",
     "start_time": "2020-12-08T13:39:41.245Z"
    }
   },
   "outputs": [],
   "source": [
    "plt.plot(history.history['val_mae'])"
   ]
  },
  {
   "cell_type": "code",
   "execution_count": null,
   "metadata": {
    "ExecuteTime": {
     "end_time": "2020-12-08T13:39:57.413651Z",
     "start_time": "2020-12-08T13:39:41.250Z"
    }
   },
   "outputs": [],
   "source": [
    "print(model.evaluate(X_test, y_test))"
   ]
  },
  {
   "cell_type": "code",
   "execution_count": null,
   "metadata": {
    "ExecuteTime": {
     "end_time": "2020-12-08T13:39:57.418870Z",
     "start_time": "2020-12-08T13:39:41.261Z"
    }
   },
   "outputs": [],
   "source": [
    "y_pred = model.predict(X_test)"
   ]
  },
  {
   "cell_type": "code",
   "execution_count": null,
   "metadata": {
    "ExecuteTime": {
     "end_time": "2020-12-08T13:39:57.422760Z",
     "start_time": "2020-12-08T13:39:41.267Z"
    }
   },
   "outputs": [],
   "source": [
    "y_pred = flatten"
   ]
  },
  {
   "cell_type": "code",
   "execution_count": null,
   "metadata": {
    "ExecuteTime": {
     "end_time": "2020-12-08T13:39:57.435473Z",
     "start_time": "2020-12-08T13:39:41.276Z"
    }
   },
   "outputs": [],
   "source": [
    "y_pred.reshape(y_length, lat_size, lon_size)"
   ]
  },
  {
   "cell_type": "markdown",
   "metadata": {},
   "source": [
    "## From coord to map"
   ]
  },
  {
   "cell_type": "code",
   "execution_count": null,
   "metadata": {
    "ExecuteTime": {
     "end_time": "2020-12-08T13:39:57.440206Z",
     "start_time": "2020-12-08T13:39:41.285Z"
    }
   },
   "outputs": [],
   "source": [
    "def from_matrix_to_coord(matrix, lat_meters, lon_meters):\n",
    "        \"\"\"\n",
    "        gives back the coordinates from a 3D matrix for a given bucket height and width\n",
    "        \"\"\"\n",
    "        results = []\n",
    "        for observation in matrix:\n",
    "            # Where do you start\n",
    "            grid_offset = np.array([0, -40.91553277600008,  -74.25559136315213,])\n",
    "\n",
    "            #from meters to lat/lon step\n",
    "            lat_spacing, lon_spacing = from_meters_to_coords(lat_meters, lon_meters)\n",
    "\n",
    "            # What's the space you consider (euclidian here)\n",
    "            grid_spacing = np.array([1, lat_spacing, lon_spacing])\n",
    "\n",
    "            indexes = np.argwhere(observation)\n",
    "            #print(indexes.shape)\n",
    "            # index : coords de mes crimes dans mon np array\n",
    "            result = grid_offset + indexes * grid_spacing\n",
    "            results.append(result)\n",
    "        return np.array(results)"
   ]
  },
  {
   "cell_type": "code",
   "execution_count": null,
   "metadata": {
    "ExecuteTime": {
     "end_time": "2020-12-08T13:39:57.442851Z",
     "start_time": "2020-12-08T13:39:41.292Z"
    }
   },
   "outputs": [],
   "source": [
    "y_pred_notsure = np.where((y_train>5*10**(-4)) & (y_train<5*10**(-3)), y_train, 0)\n",
    "y_pred_middle = np.where((y_train>5*10**(-3)) & (y_train<1*10**(-2)), y_train, 0)\n",
    "y_pred_sure = np.where(y_train>1*10**(-2), y_train, 0)\n",
    "\n",
    "#y_pred_notsure = np.where((y_pred>5*10**(-3)) & (y_pred<1*10**(-2)), y_pred, 0)\n",
    "#y_pred_middle = np.where((y_pred>1*10**(-2)) & (y_pred<1.8*10**(-2)), y_pred, 0)\n",
    "#y_pred_sure = np.where(y_pred>1.8*10**(-2), y_pred, 0)"
   ]
  },
  {
   "cell_type": "code",
   "execution_count": null,
   "metadata": {
    "ExecuteTime": {
     "end_time": "2020-12-08T13:39:57.447945Z",
     "start_time": "2020-12-08T13:39:41.297Z"
    }
   },
   "outputs": [],
   "source": [
    "coords_not_sure = from_matrix_to_coord(y_pred_notsure, 200, 200)\n",
    "coords_middle = from_matrix_to_coord(y_pred_middle, 200, 200)\n",
    "coords_sure = from_matrix_to_coord(y_pred_sure, 200, 200)"
   ]
  },
  {
   "cell_type": "code",
   "execution_count": null,
   "metadata": {
    "ExecuteTime": {
     "end_time": "2020-12-08T13:39:57.453845Z",
     "start_time": "2020-12-08T13:39:41.303Z"
    }
   },
   "outputs": [],
   "source": [
    "coords_back_not_sure_df = pd.DataFrame(coords_not_sure[0], columns=['image', 'lat', 'lon'])\n",
    "coords_back_not_sure_df['right_lat'] = -coords_back_not_sure_df['lat']\n",
    "\n",
    "coords_middle_df = pd.DataFrame(coords_middle[0], columns=['image', 'lat', 'lon'])\n",
    "coords_middle_df['right_lat'] = -coords_middle_df['lat']\n",
    "\n",
    "coords_back_sure_df = pd.DataFrame(coords_sure[0], columns=['image', 'lat', 'lon'])\n",
    "coords_back_sure_df['right_lat'] = -coords_back_sure_df['lat']"
   ]
  },
  {
   "cell_type": "code",
   "execution_count": null,
   "metadata": {
    "ExecuteTime": {
     "end_time": "2020-12-08T13:39:57.459313Z",
     "start_time": "2020-12-08T13:39:41.311Z"
    }
   },
   "outputs": [],
   "source": [
    "last_image_not_sure = coords_back_not_sure_df[coords_back_not_sure_df['image']==2.0]\n",
    "last_image_middle = coords_middle_df[coords_middle_df['image']==2.0]\n",
    "last_image_sure = coords_back_sure_df[coords_back_sure_df['image']==2.0]"
   ]
  },
  {
   "cell_type": "code",
   "execution_count": null,
   "metadata": {
    "ExecuteTime": {
     "end_time": "2020-12-08T13:39:57.466434Z",
     "start_time": "2020-12-08T13:39:41.317Z"
    }
   },
   "outputs": [],
   "source": [
    "import seaborn as sns"
   ]
  },
  {
   "cell_type": "code",
   "execution_count": null,
   "metadata": {
    "ExecuteTime": {
     "end_time": "2020-12-08T13:39:57.470035Z",
     "start_time": "2020-12-08T13:39:41.322Z"
    }
   },
   "outputs": [],
   "source": [
    "fig, ax = plt.subplots(figsize=(10,10))\n",
    "\n",
    "ax.set_xlim(left=-74.25559136315213, right=-73.70000906387347)\n",
    "ax.set_ylim(bottom = 40.49611539518921, top=40.91553277600008)\n",
    "sns.scatterplot(x='lon', y='right_lat', data=last_image_not_sure, s=2, ax=ax)\n",
    "sns.scatterplot(x='lon', y='right_lat', data=last_image_middle, s=2, ax=ax)\n",
    "sns.scatterplot(x='lon', y='right_lat', data=last_image_sure, s=2, ax=ax)\n",
    "plt.legend()"
   ]
  },
  {
   "cell_type": "code",
   "execution_count": null,
   "metadata": {
    "ExecuteTime": {
     "end_time": "2020-12-08T13:39:57.478284Z",
     "start_time": "2020-12-08T13:39:41.329Z"
    }
   },
   "outputs": [],
   "source": [
    "#modèle clairement pourri car il indique des crimes sur staten island\n",
    "#voir baseline modèle (on est en dessous)"
   ]
  },
  {
   "cell_type": "code",
   "execution_count": null,
   "metadata": {},
   "outputs": [],
   "source": []
  }
 ],
 "metadata": {
  "kernelspec": {
   "display_name": "Python 3",
   "language": "python",
   "name": "python3"
  },
  "language_info": {
   "codemirror_mode": {
    "name": "ipython",
    "version": 3
   },
   "file_extension": ".py",
   "mimetype": "text/x-python",
   "name": "python",
   "nbconvert_exporter": "python",
   "pygments_lexer": "ipython3",
   "version": "3.8.5"
  },
  "toc": {
   "base_numbering": 1,
   "nav_menu": {},
   "number_sections": true,
   "sideBar": true,
   "skip_h1_title": false,
   "title_cell": "Table of Contents",
   "title_sidebar": "Contents",
   "toc_cell": false,
   "toc_position": {},
   "toc_section_display": true,
   "toc_window_display": false
  },
  "varInspector": {
   "cols": {
    "lenName": 16,
    "lenType": 16,
    "lenVar": 40
   },
   "kernels_config": {
    "python": {
     "delete_cmd_postfix": "",
     "delete_cmd_prefix": "del ",
     "library": "var_list.py",
     "varRefreshCmd": "print(var_dic_list())"
    },
    "r": {
     "delete_cmd_postfix": ") ",
     "delete_cmd_prefix": "rm(",
     "library": "var_list.r",
     "varRefreshCmd": "cat(var_dic_list()) "
    }
   },
   "position": {
    "height": "334.85px",
    "left": "880px",
    "right": "20px",
    "top": "16px",
    "width": "350px"
   },
   "types_to_exclude": [
    "module",
    "function",
    "builtin_function_or_method",
    "instance",
    "_Feature"
   ],
   "window_display": false
  }
 },
 "nbformat": 4,
 "nbformat_minor": 4
}
