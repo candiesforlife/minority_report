{
 "cells": [
  {
   "cell_type": "markdown",
   "metadata": {},
   "source": [
    "## NYPD Data"
   ]
  },
  {
   "cell_type": "markdown",
   "metadata": {},
   "source": [
    "### Imports"
   ]
  },
  {
   "cell_type": "code",
   "execution_count": 1,
   "metadata": {
    "ExecuteTime": {
     "end_time": "2020-12-07T22:02:33.435499Z",
     "start_time": "2020-12-07T22:02:32.103742Z"
    }
   },
   "outputs": [],
   "source": [
    "# data import\n",
    "import pickle\n",
    "\n",
    "# data manipulation\n",
    "import numpy as np\n",
    "import pandas as pd\n",
    "from datetime import datetime\n",
    "\n",
    "# plotting\n",
    "import matplotlib.pyplot as plt\n",
    "\n",
    "#gaussian filter\n",
    "from scipy.ndimage import gaussian_filter"
   ]
  },
  {
   "cell_type": "markdown",
   "metadata": {},
   "source": [
    "### Data Import"
   ]
  },
  {
   "cell_type": "code",
   "execution_count": 2,
   "metadata": {
    "ExecuteTime": {
     "end_time": "2020-12-07T22:02:43.122101Z",
     "start_time": "2020-12-07T22:02:33.982807Z"
    }
   },
   "outputs": [],
   "source": [
    "pickle_path = ('../raw_data/clean.pickle')\n",
    "with open(pickle_path, 'rb') as f:\n",
    "    df = pickle.load(f)"
   ]
  },
  {
   "cell_type": "markdown",
   "metadata": {},
   "source": [
    "### Sample Selection"
   ]
  },
  {
   "cell_type": "code",
   "execution_count": 3,
   "metadata": {
    "ExecuteTime": {
     "end_time": "2020-12-07T22:02:46.054805Z",
     "start_time": "2020-12-07T22:02:44.887418Z"
    }
   },
   "outputs": [],
   "source": [
    "inf = df['period'] > datetime(2016, 10, 1, 0, 0, 0)\n",
    "sup = df['period'] < datetime(2016, 11, 1, 0, 0, 0)\n",
    "sample = df[ inf & sup ]"
   ]
  },
  {
   "cell_type": "code",
   "execution_count": 4,
   "metadata": {
    "ExecuteTime": {
     "end_time": "2020-12-07T22:02:46.873527Z",
     "start_time": "2020-12-07T22:02:46.857802Z"
    }
   },
   "outputs": [],
   "source": [
    "sample = sample[sample['precinct_number']==75]"
   ]
  },
  {
   "cell_type": "code",
   "execution_count": 5,
   "metadata": {
    "ExecuteTime": {
     "end_time": "2020-12-07T22:02:47.807355Z",
     "start_time": "2020-12-07T22:02:47.803054Z"
    }
   },
   "outputs": [],
   "source": [
    "#sample['longitude'].min(), sample['longitude'].max(), sample['latitude'].min(), sample['latitude'].max() "
   ]
  },
  {
   "cell_type": "code",
   "execution_count": 6,
   "metadata": {
    "ExecuteTime": {
     "end_time": "2020-12-07T22:02:49.201586Z",
     "start_time": "2020-12-07T22:02:48.678486Z"
    }
   },
   "outputs": [],
   "source": [
    "del df"
   ]
  },
  {
   "cell_type": "code",
   "execution_count": null,
   "metadata": {
    "ExecuteTime": {
     "end_time": "2020-12-07T16:27:05.139300Z",
     "start_time": "2020-12-07T16:27:05.128768Z"
    }
   },
   "outputs": [],
   "source": [
    "#sample.shape"
   ]
  },
  {
   "cell_type": "markdown",
   "metadata": {
    "heading_collapsed": true
   },
   "source": [
    "### DataGenerator"
   ]
  },
  {
   "cell_type": "code",
   "execution_count": null,
   "metadata": {
    "hidden": true
   },
   "outputs": [],
   "source": [
    "import tensorflow as tf\n",
    "​\n",
    "class CustomDataGenerator(tf.keras.utils.Sequence):\n",
    "  def __init__(self, df, batch_size=32, shuffle=True, lat_meters=100, lon_meters=100, *args, **kwargs):\n",
    "    self.df = df\n",
    "    self.batch_size = batch_size\n",
    "    self.indices = np.arange(len(self.df))\n",
    "    self.shuffle = shuffle\n",
    "    self.lat_meters = lat_meters\n",
    "    self.lon_meters = lon_meters\n",
    "    self.on_epoch_end()\n",
    "​\n",
    "  def __len__(self):\n",
    "    \"\"\"\n",
    "    Return the number of batches so the generator knows how many batches\n",
    "    it should generate for each epoch\n",
    "    \"\"\"\n",
    "    return len(df) // self.batch_size\n",
    "​\n",
    "  def __getitem__(self, i):\n",
    "    \"\"\"\n",
    "    Return the i-th batch\n",
    "    \"\"\"\n",
    "    batch_indices = self.indices[i * self.batch_size:(i + 1) * self.batch_size]\n",
    "    batch = self.df.iloc[batch_indices] \n",
    "    return self.__get_data(batch)\n",
    "​\n",
    "  def __get_data(self, batch):\n",
    "    X = from_coord_to_matrix(batch, lat_meters=self.lat_meters, lon_meters=self.lon_meters)\n",
    "    y = from_coord_to_matrix(batch, lat_meters=self.lat_meters, lon_meters=self.lon_meters) # à changer\n",
    "    return X, y\n",
    "​\n",
    "  def on_epoch_end(self):\n",
    "    self.indices = np.arange(len(self.df))\n",
    "    if self.shuffle == True:\n",
    "        np.random.shuffle(self.indices)"
   ]
  },
  {
   "cell_type": "code",
   "execution_count": null,
   "metadata": {
    "hidden": true
   },
   "outputs": [],
   "source": [
    "BATCH_SIZE = 2\n",
    "​\n",
    "datagen = CustomDataGenerator(df, batch_size=BATCH_SIZE)\n",
    "p, q = datagen.__getitem__(3)\n",
    "print(p.shape)\n",
    "print(q.shape)"
   ]
  },
  {
   "cell_type": "markdown",
   "metadata": {},
   "source": [
    "### Lat - Long to Array"
   ]
  },
  {
   "cell_type": "code",
   "execution_count": 7,
   "metadata": {
    "ExecuteTime": {
     "end_time": "2020-12-07T22:02:49.863899Z",
     "start_time": "2020-12-07T22:02:49.854939Z"
    }
   },
   "outputs": [],
   "source": [
    "def from_meters_to_coords(lat_meters, lon_meters):\n",
    "    \"\"\"\n",
    "    gives the latitude and longitude step to use for the grid buckets\n",
    "    lat_meters, lon_meters = lat/lon step\n",
    "    \"\"\"\n",
    "    #Position, decimal degrees\n",
    "    lat = 40\n",
    "    lon = -73\n",
    "\n",
    "    #Earth’s radius, sphere\n",
    "    R=6378137\n",
    "\n",
    "    #offsets in meters\n",
    "    dn = lat_meters\n",
    "    de = lon_meters\n",
    "\n",
    "    #Coordinate offsets in radians\n",
    "    dLat = dn/R\n",
    "    dLon = de/(R*np.cos(np.pi*lat/180))\n",
    "\n",
    "    #OffsetPosition, decimal degrees\n",
    "    latO = dLat * 180/np.pi\n",
    "    lonO = dLon * 180/np.pi \n",
    "\n",
    "    return latO, lonO"
   ]
  },
  {
   "cell_type": "code",
   "execution_count": 8,
   "metadata": {
    "ExecuteTime": {
     "end_time": "2020-12-07T22:02:50.463808Z",
     "start_time": "2020-12-07T22:02:50.445208Z"
    }
   },
   "outputs": [],
   "source": [
    "def from_coord_to_matrix(df, lat_meters, lon_meters):\n",
    "    \"\"\"\n",
    "    outputs the 3D matrix of all coordinates for a given bucket height and width in meters\n",
    "    \"\"\"\n",
    "    df=df.copy()\n",
    "    #add 'time_index' column to df\n",
    "    ind = {time:index for index,time in enumerate(np.sort(df['period'].unique()))}\n",
    "    df['time_index'] = df['period'].map(ind)\n",
    "    \n",
    "    #initiate matrix\n",
    "    #40.49611539518921, 40.91553277600008, -74.25559136315213,-73.70000906387347) : NYC boundaries\n",
    "    #([40.56952999448672, 40.73912795313436],[-74.04189660705046, -73.83355923946421]) : brooklyn boundaries\n",
    "    #[40.6218192717505, 40.6951504231971],[-73.90404639808888, -73.83559344190869]) :precinct 75 boundaries\n",
    "    \n",
    "    grid_offset = np.array([ -40.692681179000004,  -73.990914183,0]) # Where do you start\n",
    "    #from meters to lat/lon step\n",
    "    lat_spacing, lon_spacing = from_meters_to_coords(lat_meters, lon_meters )\n",
    "    grid_spacing = np.array([lat_spacing , lon_spacing,1]) # What's the space you consider (euclidian here)\n",
    "     \n",
    "    \n",
    "    #get points coordinates\n",
    "    coords = np.array([( -lat, lon,t_ind) for lat, lon,t_ind \\\n",
    "                   in zip(df['latitude'],df['longitude'],df['time_index'])])\n",
    "    \n",
    "    \n",
    "    # Convert point to index\n",
    "    indexes = np.round((coords - grid_offset)/grid_spacing).astype('int')\n",
    "    X = indexes[:,0]\n",
    "    Y = indexes[:,1]\n",
    "    Z = indexes[:,2]\n",
    "    \n",
    "    #virgin matrix\n",
    "    a = np.zeros((X.max()+1, Y.max()+1, Z.max()+1))\n",
    "   \n",
    "    \n",
    "    a[X, Y, Z]=1\n",
    "    \n",
    "    return a, a.shape[1], a.shape[2]"
   ]
  },
  {
   "cell_type": "code",
   "execution_count": 9,
   "metadata": {
    "ExecuteTime": {
     "end_time": "2020-12-07T22:02:51.053859Z",
     "start_time": "2020-12-07T22:02:51.033293Z"
    }
   },
   "outputs": [],
   "source": [
    "img, lat_size, lon_size = from_coord_to_matrix(sample, 10, 10)"
   ]
  },
  {
   "cell_type": "code",
   "execution_count": 10,
   "metadata": {
    "ExecuteTime": {
     "end_time": "2020-12-07T22:02:58.497983Z",
     "start_time": "2020-12-07T22:02:58.480693Z"
    }
   },
   "outputs": [
    {
     "data": {
      "text/plain": [
       "(562, 1141, 578)"
      ]
     },
     "execution_count": 10,
     "metadata": {},
     "output_type": "execute_result"
    }
   ],
   "source": [
    "img.shape"
   ]
  },
  {
   "cell_type": "code",
   "execution_count": null,
   "metadata": {
    "ExecuteTime": {
     "end_time": "2020-12-07T19:04:41.040429Z",
     "start_time": "2020-12-07T19:04:39.968314Z"
    }
   },
   "outputs": [],
   "source": [
    "plt.figure(figsize=(10, 10))\n",
    "\n",
    "plt.imshow(img[:,:,10], cmap='gray');"
   ]
  },
  {
   "cell_type": "markdown",
   "metadata": {},
   "source": [
    "### Plotting Array (with and w/o Gaussian filter)"
   ]
  },
  {
   "cell_type": "code",
   "execution_count": null,
   "metadata": {
    "ExecuteTime": {
     "end_time": "2020-12-05T09:46:53.621847Z",
     "start_time": "2020-12-05T09:46:53.426766Z"
    }
   },
   "outputs": [],
   "source": [
    "#plt.figure(figsize=(5, 5))\n",
    "#plt.imshow(img[3], cmap='gray');"
   ]
  },
  {
   "cell_type": "code",
   "execution_count": 11,
   "metadata": {
    "ExecuteTime": {
     "end_time": "2020-12-07T22:03:37.875841Z",
     "start_time": "2020-12-07T22:03:01.487497Z"
    }
   },
   "outputs": [],
   "source": [
    "img3D_conv = gaussian_filter(img, sigma=(2, 2, 2))"
   ]
  },
  {
   "cell_type": "code",
   "execution_count": null,
   "metadata": {
    "ExecuteTime": {
     "end_time": "2020-12-07T16:28:42.132528Z",
     "start_time": "2020-12-07T16:28:41.762189Z"
    }
   },
   "outputs": [],
   "source": [
    "plt.figure(figsize=(10, 10))\n",
    "\n",
    "plt.imshow(img3D_conv[:,:,4], cmap='gray');"
   ]
  },
  {
   "cell_type": "markdown",
   "metadata": {},
   "source": [
    "### Splitting into X and y"
   ]
  },
  {
   "cell_type": "markdown",
   "metadata": {},
   "source": [
    "#### Try outs"
   ]
  },
  {
   "cell_type": "code",
   "execution_count": 36,
   "metadata": {
    "ExecuteTime": {
     "end_time": "2020-12-07T22:34:50.670186Z",
     "start_time": "2020-12-07T22:34:50.659475Z"
    }
   },
   "outputs": [
    {
     "data": {
      "text/plain": [
       "(562, 1141, 578)"
      ]
     },
     "execution_count": 36,
     "metadata": {},
     "output_type": "execute_result"
    }
   ],
   "source": [
    "img3D_conv.shape"
   ]
  },
  {
   "cell_type": "code",
   "execution_count": 37,
   "metadata": {
    "ExecuteTime": {
     "end_time": "2020-12-07T22:34:52.419737Z",
     "start_time": "2020-12-07T22:34:52.071003Z"
    }
   },
   "outputs": [
    {
     "data": {
      "text/plain": [
       "319584169617.1231"
      ]
     },
     "execution_count": 37,
     "metadata": {},
     "output_type": "execute_result"
    }
   ],
   "source": [
    "img3D_conv.max()"
   ]
  },
  {
   "cell_type": "code",
   "execution_count": 38,
   "metadata": {
    "ExecuteTime": {
     "end_time": "2020-12-07T22:34:53.487415Z",
     "start_time": "2020-12-07T22:34:53.469287Z"
    }
   },
   "outputs": [],
   "source": [
    "obs_s = 3\n",
    "obs_tf = 24\n",
    "tar_s = 2\n",
    "tar_tf = 12"
   ]
  },
  {
   "cell_type": "code",
   "execution_count": 39,
   "metadata": {
    "ExecuteTime": {
     "end_time": "2020-12-07T22:34:55.867861Z",
     "start_time": "2020-12-07T22:34:55.860838Z"
    }
   },
   "outputs": [],
   "source": [
    "length = obs_tf + tar_tf\n",
    "position = np.random.randint(0, img3D_conv.shape[0] - length)"
   ]
  },
  {
   "cell_type": "code",
   "execution_count": null,
   "metadata": {
    "ExecuteTime": {
     "end_time": "2020-12-07T20:46:52.372860Z",
     "start_time": "2020-12-07T20:46:52.358731Z"
    }
   },
   "outputs": [],
   "source": [
    "position"
   ]
  },
  {
   "cell_type": "code",
   "execution_count": 40,
   "metadata": {
    "ExecuteTime": {
     "end_time": "2020-12-07T22:34:59.363806Z",
     "start_time": "2020-12-07T22:34:59.355127Z"
    }
   },
   "outputs": [],
   "source": [
    "subsample = img3D_conv[:,:,position:position + length]"
   ]
  },
  {
   "cell_type": "code",
   "execution_count": 41,
   "metadata": {
    "ExecuteTime": {
     "end_time": "2020-12-07T22:35:01.047983Z",
     "start_time": "2020-12-07T22:35:01.038823Z"
    }
   },
   "outputs": [
    {
     "data": {
      "text/plain": [
       "(562, 1141, 36)"
      ]
     },
     "execution_count": 41,
     "metadata": {},
     "output_type": "execute_result"
    }
   ],
   "source": [
    "subsample.shape"
   ]
  },
  {
   "cell_type": "code",
   "execution_count": null,
   "metadata": {
    "ExecuteTime": {
     "end_time": "2020-12-07T21:33:11.824364Z",
     "start_time": "2020-12-07T21:33:11.723054Z"
    }
   },
   "outputs": [],
   "source": [
    "subsample.max()"
   ]
  },
  {
   "cell_type": "code",
   "execution_count": 46,
   "metadata": {
    "ExecuteTime": {
     "end_time": "2020-12-07T22:38:08.442128Z",
     "start_time": "2020-12-07T22:38:08.433800Z"
    }
   },
   "outputs": [],
   "source": [
    "observations, targets = np.split(subsample,[24], axis=2)"
   ]
  },
  {
   "cell_type": "code",
   "execution_count": 47,
   "metadata": {
    "ExecuteTime": {
     "end_time": "2020-12-07T22:38:17.436666Z",
     "start_time": "2020-12-07T22:38:17.424023Z"
    }
   },
   "outputs": [
    {
     "data": {
      "text/plain": [
       "(562, 1141, 24)"
      ]
     },
     "execution_count": 47,
     "metadata": {},
     "output_type": "execute_result"
    }
   ],
   "source": [
    "observations.shape"
   ]
  },
  {
   "cell_type": "code",
   "execution_count": 50,
   "metadata": {
    "ExecuteTime": {
     "end_time": "2020-12-07T22:38:35.463823Z",
     "start_time": "2020-12-07T22:38:35.443439Z"
    }
   },
   "outputs": [
    {
     "data": {
      "text/plain": [
       "(562, 1141, 12)"
      ]
     },
     "execution_count": 50,
     "metadata": {},
     "output_type": "execute_result"
    }
   ],
   "source": [
    "targets.shape"
   ]
  },
  {
   "cell_type": "markdown",
   "metadata": {
    "heading_collapsed": true
   },
   "source": [
    "#### Math test"
   ]
  },
  {
   "cell_type": "code",
   "execution_count": 34,
   "metadata": {
    "ExecuteTime": {
     "end_time": "2020-12-07T22:32:58.866774Z",
     "start_time": "2020-12-07T22:32:58.844735Z"
    },
    "hidden": true
   },
   "outputs": [
    {
     "data": {
      "text/plain": [
       "array([[[1. , 2. , 3. ],\n",
       "        [4. , 5. , 6. ]],\n",
       "\n",
       "       [[1.1, 2.2, 3.3],\n",
       "        [4.4, 5.5, 6.6]]])"
      ]
     },
     "execution_count": 34,
     "metadata": {},
     "output_type": "execute_result"
    }
   ],
   "source": [
    "a = np.array([[[1, 2, 3], [4, 5, 6]], [[1.1, 2.2, 3.3], [4.4, 5.5, 6.6]]])\n",
    "b = np.array([[[7, 8, 9], [10, 11, 12]], [[7.7, 8.8, 9.9], [10.1, 11.1, 12.1]]])\n",
    "a"
   ]
  },
  {
   "cell_type": "code",
   "execution_count": 35,
   "metadata": {
    "ExecuteTime": {
     "end_time": "2020-12-07T22:33:00.400084Z",
     "start_time": "2020-12-07T22:33:00.387191Z"
    },
    "hidden": true
   },
   "outputs": [
    {
     "data": {
      "text/plain": [
       "(2, 2, 3)"
      ]
     },
     "execution_count": 35,
     "metadata": {},
     "output_type": "execute_result"
    }
   ],
   "source": [
    "a.shape"
   ]
  },
  {
   "cell_type": "code",
   "execution_count": null,
   "metadata": {
    "ExecuteTime": {
     "end_time": "2020-12-07T21:04:21.367191Z",
     "start_time": "2020-12-07T21:04:21.343562Z"
    },
    "hidden": true
   },
   "outputs": [],
   "source": [
    "a.reshape((1, 2, 2, 2))"
   ]
  },
  {
   "cell_type": "code",
   "execution_count": null,
   "metadata": {
    "ExecuteTime": {
     "end_time": "2020-12-07T21:04:27.738190Z",
     "start_time": "2020-12-07T21:04:27.725158Z"
    },
    "hidden": true
   },
   "outputs": [],
   "source": [
    "c += b"
   ]
  },
  {
   "cell_type": "code",
   "execution_count": null,
   "metadata": {
    "ExecuteTime": {
     "end_time": "2020-12-07T21:04:30.907345Z",
     "start_time": "2020-12-07T21:04:30.883585Z"
    },
    "hidden": true
   },
   "outputs": [],
   "source": [
    "c"
   ]
  },
  {
   "cell_type": "markdown",
   "metadata": {
    "heading_collapsed": true
   },
   "source": [
    "#### Resume"
   ]
  },
  {
   "cell_type": "code",
   "execution_count": null,
   "metadata": {
    "ExecuteTime": {
     "end_time": "2020-12-07T21:40:02.939729Z",
     "start_time": "2020-12-07T21:40:02.645573Z"
    },
    "hidden": true
   },
   "outputs": [],
   "source": [
    "timeframes=[]\n",
    "start=0\n",
    "nb_images = int(observations.shape[2]/obs_s)\n",
    "for i in range (nb_images):\n",
    "    not_stacked = observations[: , : , start : start+obs_s]\n",
    "    base = not_stacked[:,:,0]\n",
    "    for i in range(1,obs_s):\n",
    "        base += first_timeframe[:,:,i]\n",
    "    timeframes.append(not_stacked)\n",
    "    start += obs_s"
   ]
  },
  {
   "cell_type": "code",
   "execution_count": null,
   "metadata": {
    "ExecuteTime": {
     "end_time": "2020-12-07T21:33:26.268511Z",
     "start_time": "2020-12-07T21:33:25.877811Z"
    },
    "hidden": true
   },
   "outputs": [],
   "source": [
    "tf_arr = np.array(timeframes)\n",
    "tf_arr.shape"
   ]
  },
  {
   "cell_type": "code",
   "execution_count": null,
   "metadata": {
    "ExecuteTime": {
     "end_time": "2020-12-07T21:33:32.540262Z",
     "start_time": "2020-12-07T21:33:32.487299Z"
    },
    "hidden": true
   },
   "outputs": [],
   "source": [
    "tf_arr.max()"
   ]
  },
  {
   "cell_type": "code",
   "execution_count": null,
   "metadata": {
    "ExecuteTime": {
     "end_time": "2020-12-07T21:36:46.014441Z",
     "start_time": "2020-12-07T21:36:45.993573Z"
    },
    "hidden": true
   },
   "outputs": [],
   "source": [
    "first_timeframe = tf_arr[0]\n",
    "first_timeframe.shape"
   ]
  },
  {
   "cell_type": "code",
   "execution_count": null,
   "metadata": {
    "ExecuteTime": {
     "end_time": "2020-12-07T21:36:57.071189Z",
     "start_time": "2020-12-07T21:36:57.058968Z"
    },
    "hidden": true
   },
   "outputs": [],
   "source": [
    "first_timeframe.max()"
   ]
  },
  {
   "cell_type": "code",
   "execution_count": null,
   "metadata": {
    "hidden": true
   },
   "outputs": [],
   "source": []
  },
  {
   "cell_type": "code",
   "execution_count": null,
   "metadata": {
    "ExecuteTime": {
     "end_time": "2020-12-07T21:37:13.388000Z",
     "start_time": "2020-12-07T21:37:13.364178Z"
    },
    "hidden": true
   },
   "outputs": [],
   "source": [
    "base = first_timeframe[:,:,0]\n",
    "base.shape"
   ]
  },
  {
   "cell_type": "code",
   "execution_count": null,
   "metadata": {
    "ExecuteTime": {
     "end_time": "2020-12-07T21:37:15.294020Z",
     "start_time": "2020-12-07T21:37:15.276166Z"
    },
    "hidden": true
   },
   "outputs": [],
   "source": [
    "base.max()"
   ]
  },
  {
   "cell_type": "code",
   "execution_count": null,
   "metadata": {
    "ExecuteTime": {
     "end_time": "2020-12-07T21:37:59.488333Z",
     "start_time": "2020-12-07T21:37:59.469639Z"
    },
    "hidden": true
   },
   "outputs": [],
   "source": [
    "for i in range(1,obs_s+1):\n",
    "    base += first_timeframe[:,:,i]"
   ]
  },
  {
   "cell_type": "code",
   "execution_count": null,
   "metadata": {
    "hidden": true
   },
   "outputs": [],
   "source": []
  },
  {
   "cell_type": "code",
   "execution_count": null,
   "metadata": {
    "ExecuteTime": {
     "end_time": "2020-12-07T21:38:01.204671Z",
     "start_time": "2020-12-07T21:38:01.190804Z"
    },
    "hidden": true
   },
   "outputs": [],
   "source": [
    "base.shape"
   ]
  },
  {
   "cell_type": "code",
   "execution_count": null,
   "metadata": {
    "ExecuteTime": {
     "end_time": "2020-12-07T21:38:02.998773Z",
     "start_time": "2020-12-07T21:38:02.967479Z"
    },
    "hidden": true
   },
   "outputs": [],
   "source": [
    "base.max()"
   ]
  },
  {
   "cell_type": "code",
   "execution_count": null,
   "metadata": {
    "ExecuteTime": {
     "end_time": "2020-12-07T21:27:33.097013Z",
     "start_time": "2020-12-07T21:27:33.079664Z"
    },
    "hidden": true
   },
   "outputs": [],
   "source": [
    "print(base)"
   ]
  },
  {
   "cell_type": "markdown",
   "metadata": {},
   "source": [
    "#### Functions"
   ]
  },
  {
   "cell_type": "code",
   "execution_count": 52,
   "metadata": {
    "ExecuteTime": {
     "end_time": "2020-12-07T22:44:34.970193Z",
     "start_time": "2020-12-07T22:44:34.960476Z"
    }
   },
   "outputs": [],
   "source": [
    "def stacking(window, step, timeframe):\n",
    "\n",
    "    timeframes=[]\n",
    "    start=0\n",
    "    #nb_images = int(window.shape[2]/step) #nb of image in one window\n",
    "    #print(nb_images)\n",
    "    \n",
    "    not_stacked = np.split(window, step, axis=2) #get the group of hours to stack together\n",
    "    \n",
    "    for element in no_stacked :\n",
    "        stacked = element[:,:,0] #intialise the base on which we are going to stack the others    \n",
    "        for i in range(1,step):\n",
    "            stacked += element[:,:,i] #stack all the other hours of the group onto the base\n",
    "        timeframes.append(stacked) #get stackedhours for all the images of the window\n",
    "\n",
    "    \n",
    "    return np.array(timeframes)"
   ]
  },
  {
   "cell_type": "code",
   "execution_count": 51,
   "metadata": {
    "ExecuteTime": {
     "end_time": "2020-12-07T22:39:24.949911Z",
     "start_time": "2020-12-07T22:39:24.936161Z"
    }
   },
   "outputs": [],
   "source": [
    "def get_observation_target(img3D, obs_step, obs_timeframe, target_step, target_timeframe):\n",
    "    '''\n",
    "    output an observation of x_length consecutive images and the y_length next images as the target\n",
    "    obs_step, obs_timeframe, target_step, target_timeframe : unit = hours\n",
    "    '''\n",
    "    #function from raw to hours\n",
    "    \n",
    "    length = obs_timeframe + target_timeframe\n",
    "    \n",
    "    position = np.random.randint(0, img3D_conv.shape[0] - length)\n",
    "\n",
    "    subsample = img3D[:, :, position : position + length]\n",
    "    #print(subsample.shape)\n",
    "    \n",
    "    observations, targets = np.split(subsample,[obs_timeframe], axis=2) # divide the subsample in X and y\n",
    "    \n",
    "    #print(observations.shape)\n",
    "    observation = stacking(observations, obs_step, obs_timeframe) #get stacked hours for all images\n",
    "    \n",
    "    #print (targets.shape)\n",
    "    target = stacking(targets, target_step, target_timeframe)\n",
    "\n",
    "    return observation, target"
   ]
  },
  {
   "cell_type": "code",
   "execution_count": 16,
   "metadata": {
    "ExecuteTime": {
     "end_time": "2020-12-07T22:03:59.578038Z",
     "start_time": "2020-12-07T22:03:58.805594Z"
    }
   },
   "outputs": [],
   "source": [
    "obs_s = 3 # 3h stacked together\n",
    "obs_tf = 24 # for 24h straight as X\n",
    "tar_s = 2 # 2h stacked together\n",
    "tar_tf = 12 # for 12h straight as y\n",
    "observation, target = get_observation_target(img3D_conv, obs_s, obs_tf, tar_s, tar_tf)"
   ]
  },
  {
   "cell_type": "code",
   "execution_count": 17,
   "metadata": {
    "ExecuteTime": {
     "end_time": "2020-12-07T22:04:00.487845Z",
     "start_time": "2020-12-07T22:04:00.475034Z"
    }
   },
   "outputs": [
    {
     "data": {
      "text/plain": [
       "(8, 562, 1141)"
      ]
     },
     "execution_count": 17,
     "metadata": {},
     "output_type": "execute_result"
    }
   ],
   "source": [
    "observation.shape"
   ]
  },
  {
   "cell_type": "code",
   "execution_count": 18,
   "metadata": {
    "ExecuteTime": {
     "end_time": "2020-12-07T22:04:01.385787Z",
     "start_time": "2020-12-07T22:04:01.366616Z"
    }
   },
   "outputs": [
    {
     "data": {
      "text/plain": [
       "0.04172183986109207"
      ]
     },
     "execution_count": 18,
     "metadata": {},
     "output_type": "execute_result"
    }
   ],
   "source": [
    "observation.max()"
   ]
  },
  {
   "cell_type": "code",
   "execution_count": 19,
   "metadata": {
    "ExecuteTime": {
     "end_time": "2020-12-07T22:04:02.234103Z",
     "start_time": "2020-12-07T22:04:02.224780Z"
    }
   },
   "outputs": [
    {
     "data": {
      "text/plain": [
       "(6, 562, 1141)"
      ]
     },
     "execution_count": 19,
     "metadata": {},
     "output_type": "execute_result"
    }
   ],
   "source": [
    "target.shape"
   ]
  },
  {
   "cell_type": "code",
   "execution_count": 20,
   "metadata": {
    "ExecuteTime": {
     "end_time": "2020-12-07T22:04:03.154203Z",
     "start_time": "2020-12-07T22:04:03.134331Z"
    }
   },
   "outputs": [
    {
     "data": {
      "text/plain": [
       "0.015058409041355457"
      ]
     },
     "execution_count": 20,
     "metadata": {},
     "output_type": "execute_result"
    }
   ],
   "source": [
    "target.max()"
   ]
  },
  {
   "cell_type": "markdown",
   "metadata": {},
   "source": [
    "### Subsampling to get multiple X and y"
   ]
  },
  {
   "cell_type": "code",
   "execution_count": 33,
   "metadata": {
    "ExecuteTime": {
     "end_time": "2020-12-07T22:29:04.239977Z",
     "start_time": "2020-12-07T22:29:04.231618Z"
    }
   },
   "outputs": [],
   "source": [
    "def get_X_y(img3D_conv, number_of_observations, obs_step, obs_timeframe, target_step, target_timeframe):\n",
    "    '''\n",
    "    outputs n observations and their associated targets\n",
    "    '''\n",
    "    results = np.array([get_observation_target(img3D_conv, obs_step, obs_timeframe, target_step, target_timeframe)\n",
    "         for n in range (number_of_observations)])\n",
    "    X = results[:,0]\n",
    "    y = results[:,1]\n",
    "    \n",
    "    return X, y"
   ]
  },
  {
   "cell_type": "code",
   "execution_count": 32,
   "metadata": {
    "ExecuteTime": {
     "end_time": "2020-12-07T22:26:22.881012Z",
     "start_time": "2020-12-07T22:25:56.851789Z"
    },
    "collapsed": true
   },
   "outputs": [
    {
     "name": "stdout",
     "output_type": "stream",
     "text": [
      "image 0/8\n",
      "image 1/8\n",
      "image 2/8\n",
      "image 3/8\n",
      "image 4/8\n",
      "image 5/8\n",
      "image 6/8\n",
      "image 7/8\n",
      "image 0/6\n",
      "image 1/6\n",
      "image 2/6\n",
      "image 3/6\n",
      "image 4/6\n",
      "image 5/6\n",
      "image 0/8\n",
      "image 1/8\n",
      "image 2/8\n",
      "image 3/8\n",
      "image 4/8\n",
      "image 5/8\n",
      "image 6/8\n",
      "image 7/8\n",
      "image 0/6\n",
      "image 1/6\n",
      "image 2/6\n",
      "image 3/6\n",
      "image 4/6\n",
      "image 5/6\n",
      "image 0/8\n",
      "image 1/8\n",
      "image 2/8\n",
      "image 3/8\n",
      "image 4/8\n",
      "image 5/8\n",
      "image 6/8\n",
      "image 7/8\n",
      "image 0/6\n",
      "image 1/6\n",
      "image 2/6\n",
      "image 3/6\n",
      "image 4/6\n",
      "image 5/6\n",
      "image 0/8\n",
      "image 1/8\n",
      "image 2/8\n",
      "image 3/8\n",
      "image 4/8\n",
      "image 5/8\n",
      "image 6/8\n",
      "image 7/8\n",
      "image 0/6\n",
      "image 1/6\n",
      "image 2/6\n",
      "image 3/6\n",
      "image 4/6\n",
      "image 5/6\n",
      "image 0/8\n",
      "image 1/8\n",
      "image 2/8\n",
      "image 3/8\n",
      "image 4/8\n",
      "image 5/8\n",
      "image 6/8\n",
      "image 7/8\n",
      "image 0/6\n",
      "image 1/6\n",
      "image 2/6\n",
      "image 3/6\n",
      "image 4/6\n",
      "image 5/6\n",
      "image 0/8\n",
      "image 1/8\n",
      "image 2/8\n",
      "image 3/8\n",
      "image 4/8\n",
      "image 5/8\n",
      "image 6/8\n",
      "image 7/8\n",
      "image 0/6\n",
      "image 1/6\n",
      "image 2/6\n",
      "image 3/6\n",
      "image 4/6\n",
      "image 5/6\n",
      "image 0/8\n",
      "image 1/8\n",
      "image 2/8\n",
      "image 3/8\n",
      "image 4/8\n",
      "image 5/8\n",
      "image 6/8\n",
      "image 7/8\n",
      "image 0/6\n",
      "image 1/6\n",
      "image 2/6\n",
      "image 3/6\n",
      "image 4/6\n",
      "image 5/6\n",
      "image 0/8\n",
      "image 1/8\n",
      "image 2/8\n",
      "image 3/8\n",
      "image 4/8\n",
      "image 5/8\n",
      "image 6/8\n",
      "image 7/8\n",
      "image 0/6\n",
      "image 1/6\n",
      "image 2/6\n",
      "image 3/6\n",
      "image 4/6\n",
      "image 5/6\n",
      "image 0/8\n",
      "image 1/8\n",
      "image 2/8\n",
      "image 3/8\n",
      "image 4/8\n",
      "image 5/8\n",
      "image 6/8\n",
      "image 7/8\n",
      "image 0/6\n",
      "image 1/6\n",
      "image 2/6\n",
      "image 3/6\n",
      "image 4/6\n",
      "image 5/6\n",
      "image 0/8\n",
      "image 1/8\n",
      "image 2/8\n",
      "image 3/8\n",
      "image 4/8\n",
      "image 5/8\n",
      "image 6/8\n",
      "image 7/8\n",
      "image 0/6\n",
      "image 1/6\n",
      "image 2/6\n",
      "image 3/6\n",
      "image 4/6\n",
      "image 5/6\n",
      "image 0/8\n",
      "image 1/8\n",
      "image 2/8\n",
      "image 3/8\n",
      "image 4/8\n",
      "image 5/8\n",
      "image 6/8\n",
      "image 7/8\n",
      "image 0/6\n",
      "image 1/6\n",
      "image 2/6\n",
      "image 3/6\n",
      "image 4/6\n",
      "image 5/6\n",
      "image 0/8\n",
      "image 1/8\n",
      "image 2/8\n",
      "image 3/8\n",
      "image 4/8\n",
      "image 5/8\n",
      "image 6/8\n",
      "image 7/8\n",
      "image 0/6\n",
      "image 1/6\n",
      "image 2/6\n",
      "image 3/6\n",
      "image 4/6\n",
      "image 5/6\n",
      "image 0/8\n",
      "image 1/8\n",
      "image 2/8\n",
      "image 3/8\n",
      "image 4/8\n",
      "image 5/8\n",
      "image 6/8\n",
      "image 7/8\n",
      "image 0/6\n",
      "image 1/6\n",
      "image 2/6\n",
      "image 3/6\n",
      "image 4/6\n",
      "image 5/6\n",
      "image 0/8\n",
      "image 1/8\n",
      "image 2/8\n",
      "image 3/8\n",
      "image 4/8\n",
      "image 5/8\n",
      "image 6/8\n",
      "image 7/8\n",
      "image 0/6\n",
      "image 1/6\n",
      "image 2/6\n",
      "image 3/6\n",
      "image 4/6\n",
      "image 5/6\n",
      "image 0/8\n",
      "image 1/8\n",
      "image 2/8\n",
      "image 3/8\n",
      "image 4/8\n",
      "image 5/8\n",
      "image 6/8\n",
      "image 7/8\n",
      "image 0/6\n",
      "image 1/6\n",
      "image 2/6\n",
      "image 3/6\n",
      "image 4/6\n",
      "image 5/6\n",
      "image 0/8\n",
      "image 1/8\n",
      "image 2/8\n",
      "image 3/8\n",
      "image 4/8\n",
      "image 5/8\n",
      "image 6/8\n",
      "image 7/8\n",
      "image 0/6\n",
      "image 1/6\n",
      "image 2/6\n",
      "image 3/6\n",
      "image 4/6\n",
      "image 5/6\n",
      "image 0/8\n",
      "image 1/8\n",
      "image 2/8\n",
      "image 3/8\n",
      "image 4/8\n",
      "image 5/8\n",
      "image 6/8\n",
      "image 7/8\n",
      "image 0/6\n",
      "image 1/6\n",
      "image 2/6\n",
      "image 3/6\n",
      "image 4/6\n",
      "image 5/6\n",
      "image 0/8\n",
      "image 1/8\n",
      "image 2/8\n",
      "image 3/8\n",
      "image 4/8\n",
      "image 5/8\n",
      "image 6/8\n",
      "image 7/8\n",
      "image 0/6\n",
      "image 1/6\n",
      "image 2/6\n",
      "image 3/6\n",
      "image 4/6\n",
      "image 5/6\n",
      "image 0/8\n",
      "image 1/8\n",
      "image 2/8\n",
      "image 3/8\n",
      "image 4/8\n",
      "image 5/8\n",
      "image 6/8\n",
      "image 7/8\n",
      "image 0/6\n",
      "image 1/6\n",
      "image 2/6\n",
      "image 3/6\n",
      "image 4/6\n",
      "image 5/6\n",
      "image 0/8\n",
      "image 1/8\n",
      "image 2/8\n",
      "image 3/8\n",
      "image 4/8\n",
      "image 5/8\n",
      "image 6/8\n",
      "image 7/8\n",
      "image 0/6\n",
      "image 1/6\n",
      "image 2/6\n",
      "image 3/6\n",
      "image 4/6\n",
      "image 5/6\n",
      "image 0/8\n",
      "image 1/8\n",
      "image 2/8\n",
      "image 3/8\n",
      "image 4/8\n",
      "image 5/8\n",
      "image 6/8\n",
      "image 7/8\n",
      "image 0/6\n",
      "image 1/6\n",
      "image 2/6\n",
      "image 3/6\n",
      "image 4/6\n",
      "image 5/6\n",
      "image 0/8\n",
      "image 1/8\n",
      "image 2/8\n",
      "image 3/8\n",
      "image 4/8\n",
      "image 5/8\n",
      "image 6/8\n",
      "image 7/8\n",
      "image 0/6\n",
      "image 1/6\n",
      "image 2/6\n",
      "image 3/6\n",
      "image 4/6\n",
      "image 5/6\n",
      "image 0/8\n",
      "image 1/8\n",
      "image 2/8\n",
      "image 3/8\n",
      "image 4/8\n",
      "image 5/8\n",
      "image 6/8\n",
      "image 7/8\n",
      "image 0/6\n",
      "image 1/6\n",
      "image 2/6\n",
      "image 3/6\n",
      "image 4/6\n",
      "image 5/6\n",
      "image 0/8\n",
      "image 1/8\n",
      "image 2/8\n",
      "image 3/8\n",
      "image 4/8\n",
      "image 5/8\n",
      "image 6/8\n",
      "image 7/8\n",
      "image 0/6\n",
      "image 1/6\n",
      "image 2/6\n",
      "image 3/6\n",
      "image 4/6\n",
      "image 5/6\n",
      "image 0/8\n",
      "image 1/8\n",
      "image 2/8\n",
      "image 3/8\n",
      "image 4/8\n",
      "image 5/8\n",
      "image 6/8\n",
      "image 7/8\n",
      "image 0/6\n",
      "image 1/6\n",
      "image 2/6\n",
      "image 3/6\n",
      "image 4/6\n",
      "image 5/6\n",
      "image 0/8\n",
      "image 1/8\n",
      "image 2/8\n",
      "image 3/8\n",
      "image 4/8\n",
      "image 5/8\n",
      "image 6/8\n",
      "image 7/8\n",
      "image 0/6\n",
      "image 1/6\n",
      "image 2/6\n",
      "image 3/6\n",
      "image 4/6\n",
      "image 5/6\n",
      "image 0/8\n",
      "image 1/8\n",
      "image 2/8\n",
      "image 3/8\n",
      "image 4/8\n",
      "image 5/8\n",
      "image 6/8\n",
      "image 7/8\n",
      "image 0/6\n",
      "image 1/6\n",
      "image 2/6\n",
      "image 3/6\n",
      "image 4/6\n",
      "image 5/6\n",
      "image 0/8\n",
      "image 1/8\n",
      "image 2/8\n",
      "image 3/8\n",
      "image 4/8\n",
      "image 5/8\n",
      "image 6/8\n",
      "image 7/8\n",
      "image 0/6\n",
      "image 1/6\n",
      "image 2/6\n",
      "image 3/6\n",
      "image 4/6\n",
      "image 5/6\n",
      "image 0/8\n",
      "image 1/8\n",
      "image 2/8\n",
      "image 3/8\n",
      "image 4/8\n",
      "image 5/8\n",
      "image 6/8\n",
      "image 7/8\n",
      "image 0/6\n",
      "image 1/6\n",
      "image 2/6\n",
      "image 3/6\n",
      "image 4/6\n",
      "image 5/6\n",
      "image 0/8\n",
      "image 1/8\n",
      "image 2/8\n",
      "image 3/8\n",
      "image 4/8\n",
      "image 5/8\n",
      "image 6/8\n",
      "image 7/8\n",
      "image 0/6\n",
      "image 1/6\n",
      "image 2/6\n",
      "image 3/6\n",
      "image 4/6\n",
      "image 5/6\n",
      "image 0/8\n",
      "image 1/8\n",
      "image 2/8\n",
      "image 3/8\n",
      "image 4/8\n",
      "image 5/8\n",
      "image 6/8\n",
      "image 7/8\n",
      "image 0/6\n",
      "image 1/6\n",
      "image 2/6\n",
      "image 3/6\n",
      "image 4/6\n",
      "image 5/6\n",
      "image 0/8\n",
      "image 1/8\n",
      "image 2/8\n",
      "image 3/8\n",
      "image 4/8\n",
      "image 5/8\n",
      "image 6/8\n",
      "image 7/8\n",
      "image 0/6\n",
      "image 1/6\n",
      "image 2/6\n",
      "image 3/6\n",
      "image 4/6\n",
      "image 5/6\n",
      "image 0/8\n",
      "image 1/8\n",
      "image 2/8\n",
      "image 3/8\n",
      "image 4/8\n",
      "image 5/8\n",
      "image 6/8\n",
      "image 7/8\n",
      "image 0/6\n",
      "image 1/6\n",
      "image 2/6\n",
      "image 3/6\n",
      "image 4/6\n",
      "image 5/6\n",
      "image 0/8\n",
      "image 1/8\n",
      "image 2/8\n",
      "image 3/8\n",
      "image 4/8\n",
      "image 5/8\n",
      "image 6/8\n",
      "image 7/8\n",
      "image 0/6\n",
      "image 1/6\n",
      "image 2/6\n",
      "image 3/6\n",
      "image 4/6\n",
      "image 5/6\n",
      "image 0/8\n",
      "image 1/8\n",
      "image 2/8\n",
      "image 3/8\n",
      "image 4/8\n",
      "image 5/8\n",
      "image 6/8\n",
      "image 7/8\n",
      "image 0/6\n",
      "image 1/6\n",
      "image 2/6\n",
      "image 3/6\n",
      "image 4/6\n",
      "image 5/6\n",
      "image 0/8\n",
      "image 1/8\n",
      "image 2/8\n",
      "image 3/8\n",
      "image 4/8\n",
      "image 5/8\n",
      "image 6/8\n",
      "image 7/8\n",
      "image 0/6\n",
      "image 1/6\n",
      "image 2/6\n",
      "image 3/6\n",
      "image 4/6\n",
      "image 5/6\n",
      "image 0/8\n",
      "image 1/8\n",
      "image 2/8\n",
      "image 3/8\n",
      "image 4/8\n",
      "image 5/8\n",
      "image 6/8\n",
      "image 7/8\n",
      "image 0/6\n",
      "image 1/6\n",
      "image 2/6\n",
      "image 3/6\n",
      "image 4/6\n",
      "image 5/6\n",
      "image 0/8\n",
      "image 1/8\n",
      "image 2/8\n",
      "image 3/8\n",
      "image 4/8\n",
      "image 5/8\n",
      "image 6/8\n",
      "image 7/8\n"
     ]
    },
    {
     "ename": "KeyboardInterrupt",
     "evalue": "",
     "output_type": "error",
     "traceback": [
      "\u001b[0;31m---------------------------------------------------------------------------\u001b[0m",
      "\u001b[0;31mKeyboardInterrupt\u001b[0m                         Traceback (most recent call last)",
      "\u001b[0;32m<ipython-input-32-d8424128612c>\u001b[0m in \u001b[0;36m<module>\u001b[0;34m\u001b[0m\n\u001b[1;32m      4\u001b[0m \u001b[0mtar_tf\u001b[0m \u001b[0;34m=\u001b[0m \u001b[0;36m12\u001b[0m \u001b[0;31m# for 12h straight as y\u001b[0m\u001b[0;34m\u001b[0m\u001b[0;34m\u001b[0m\u001b[0m\n\u001b[1;32m      5\u001b[0m \u001b[0;34m\u001b[0m\u001b[0m\n\u001b[0;32m----> 6\u001b[0;31m \u001b[0mX\u001b[0m\u001b[0;34m,\u001b[0m \u001b[0my\u001b[0m \u001b[0;34m=\u001b[0m \u001b[0mget_X_y\u001b[0m\u001b[0;34m(\u001b[0m\u001b[0mimg3D_conv\u001b[0m\u001b[0;34m,\u001b[0m \u001b[0;36m500\u001b[0m\u001b[0;34m,\u001b[0m \u001b[0mobs_s\u001b[0m\u001b[0;34m,\u001b[0m \u001b[0mobs_tf\u001b[0m\u001b[0;34m,\u001b[0m \u001b[0mtar_s\u001b[0m\u001b[0;34m,\u001b[0m \u001b[0mtar_tf\u001b[0m\u001b[0;34m)\u001b[0m\u001b[0;34m\u001b[0m\u001b[0;34m\u001b[0m\u001b[0m\n\u001b[0m",
      "\u001b[0;32m<ipython-input-26-d813a87de43b>\u001b[0m in \u001b[0;36mget_X_y\u001b[0;34m(img3D_conv, number_of_observations, obs_step, obs_timeframe, target_step, target_timeframe)\u001b[0m\n\u001b[1;32m      3\u001b[0m     \u001b[0moutputs\u001b[0m \u001b[0mn\u001b[0m \u001b[0mobservations\u001b[0m \u001b[0;32mand\u001b[0m \u001b[0mtheir\u001b[0m \u001b[0massociated\u001b[0m \u001b[0mtargets\u001b[0m\u001b[0;34m\u001b[0m\u001b[0;34m\u001b[0m\u001b[0m\n\u001b[1;32m      4\u001b[0m     '''\n\u001b[0;32m----> 5\u001b[0;31m     X = np.array([get_observation_target(img3D_conv, obs_step, obs_timeframe, target_step, target_timeframe)[0]\n\u001b[0m\u001b[1;32m      6\u001b[0m          for n in range (number_of_observations)])\n\u001b[1;32m      7\u001b[0m     y = np.array([get_observation_target(img3D_conv, obs_step, obs_timeframe, target_step, target_timeframe)[1]\n",
      "\u001b[0;32m<ipython-input-26-d813a87de43b>\u001b[0m in \u001b[0;36m<listcomp>\u001b[0;34m(.0)\u001b[0m\n\u001b[1;32m      3\u001b[0m     \u001b[0moutputs\u001b[0m \u001b[0mn\u001b[0m \u001b[0mobservations\u001b[0m \u001b[0;32mand\u001b[0m \u001b[0mtheir\u001b[0m \u001b[0massociated\u001b[0m \u001b[0mtargets\u001b[0m\u001b[0;34m\u001b[0m\u001b[0;34m\u001b[0m\u001b[0m\n\u001b[1;32m      4\u001b[0m     '''\n\u001b[0;32m----> 5\u001b[0;31m     X = np.array([get_observation_target(img3D_conv, obs_step, obs_timeframe, target_step, target_timeframe)[0]\n\u001b[0m\u001b[1;32m      6\u001b[0m          for n in range (number_of_observations)])\n\u001b[1;32m      7\u001b[0m     y = np.array([get_observation_target(img3D_conv, obs_step, obs_timeframe, target_step, target_timeframe)[1]\n",
      "\u001b[0;32m<ipython-input-13-9d9debfb6dbc>\u001b[0m in \u001b[0;36mget_observation_target\u001b[0;34m(img3D, obs_step, obs_timeframe, target_step, target_timeframe)\u001b[0m\n\u001b[1;32m     15\u001b[0m     \u001b[0mobservations\u001b[0m \u001b[0;34m=\u001b[0m \u001b[0msubsample\u001b[0m\u001b[0;34m[\u001b[0m\u001b[0;34m:\u001b[0m\u001b[0;34m,\u001b[0m\u001b[0;34m:\u001b[0m\u001b[0;34m,\u001b[0m\u001b[0;34m:\u001b[0m\u001b[0mobs_timeframe\u001b[0m\u001b[0;34m]\u001b[0m \u001b[0;31m# divide the subsample in X and y\u001b[0m\u001b[0;34m\u001b[0m\u001b[0;34m\u001b[0m\u001b[0m\n\u001b[1;32m     16\u001b[0m     \u001b[0;31m#print(observations.shape)\u001b[0m\u001b[0;34m\u001b[0m\u001b[0;34m\u001b[0m\u001b[0;34m\u001b[0m\u001b[0m\n\u001b[0;32m---> 17\u001b[0;31m     \u001b[0mobservation\u001b[0m \u001b[0;34m=\u001b[0m \u001b[0mstacking\u001b[0m\u001b[0;34m(\u001b[0m\u001b[0mobservations\u001b[0m\u001b[0;34m,\u001b[0m \u001b[0mobs_step\u001b[0m\u001b[0;34m,\u001b[0m \u001b[0mobs_timeframe\u001b[0m\u001b[0;34m)\u001b[0m \u001b[0;31m#get stacked hours for\u001b[0m\u001b[0;34m\u001b[0m\u001b[0;34m\u001b[0m\u001b[0m\n\u001b[0m\u001b[1;32m     18\u001b[0m \u001b[0;34m\u001b[0m\u001b[0m\n\u001b[1;32m     19\u001b[0m     \u001b[0mtargets\u001b[0m \u001b[0;34m=\u001b[0m \u001b[0msubsample\u001b[0m\u001b[0;34m[\u001b[0m\u001b[0;34m:\u001b[0m\u001b[0;34m,\u001b[0m\u001b[0;34m:\u001b[0m\u001b[0;34m,\u001b[0m\u001b[0mobs_timeframe\u001b[0m\u001b[0;34m:\u001b[0m\u001b[0;34m]\u001b[0m \u001b[0;31m# divide the subsample in X and y\u001b[0m\u001b[0;34m\u001b[0m\u001b[0;34m\u001b[0m\u001b[0m\n",
      "\u001b[0;32m<ipython-input-31-4bbe7a0df262>\u001b[0m in \u001b[0;36mstacking\u001b[0;34m(window, step, timeframe)\u001b[0m\n\u001b[1;32m     14\u001b[0m \u001b[0;34m\u001b[0m\u001b[0m\n\u001b[1;32m     15\u001b[0m         \u001b[0;32mfor\u001b[0m \u001b[0mi\u001b[0m \u001b[0;32min\u001b[0m \u001b[0mrange\u001b[0m\u001b[0;34m(\u001b[0m\u001b[0;36m1\u001b[0m\u001b[0;34m,\u001b[0m\u001b[0mstep\u001b[0m\u001b[0;34m)\u001b[0m\u001b[0;34m:\u001b[0m\u001b[0;34m\u001b[0m\u001b[0;34m\u001b[0m\u001b[0m\n\u001b[0;32m---> 16\u001b[0;31m             \u001b[0mstacked\u001b[0m \u001b[0;34m+=\u001b[0m \u001b[0mnot_stacked\u001b[0m\u001b[0;34m[\u001b[0m\u001b[0;34m:\u001b[0m\u001b[0;34m,\u001b[0m\u001b[0;34m:\u001b[0m\u001b[0;34m,\u001b[0m\u001b[0mi\u001b[0m\u001b[0;34m]\u001b[0m \u001b[0;31m#stack all the other hours of the group onto the base\u001b[0m\u001b[0;34m\u001b[0m\u001b[0;34m\u001b[0m\u001b[0m\n\u001b[0m\u001b[1;32m     17\u001b[0m \u001b[0;34m\u001b[0m\u001b[0m\n\u001b[1;32m     18\u001b[0m         \u001b[0mtimeframes\u001b[0m\u001b[0;34m.\u001b[0m\u001b[0mappend\u001b[0m\u001b[0;34m(\u001b[0m\u001b[0mstacked\u001b[0m\u001b[0;34m)\u001b[0m\u001b[0;34m\u001b[0m\u001b[0;34m\u001b[0m\u001b[0m\n",
      "\u001b[0;31mKeyboardInterrupt\u001b[0m: "
     ]
    }
   ],
   "source": [
    "obs_s = 3 # 3h stacked together\n",
    "obs_tf = 24 # for 24h straight as X\n",
    "tar_s = 2 # 2h stacked together\n",
    "tar_tf = 12 # for 12h straight as y\n",
    "\n",
    "X, y = get_X_y(img3D_conv, 500, obs_s, obs_tf, tar_s, tar_tf)"
   ]
  },
  {
   "cell_type": "code",
   "execution_count": null,
   "metadata": {
    "ExecuteTime": {
     "end_time": "2020-12-07T15:01:31.815710Z",
     "start_time": "2020-12-07T15:01:31.584205Z"
    }
   },
   "outputs": [],
   "source": [
    "del img, img3D_conv, inf, sup, sample"
   ]
  },
  {
   "cell_type": "code",
   "execution_count": null,
   "metadata": {
    "ExecuteTime": {
     "end_time": "2020-12-07T14:28:46.476542Z",
     "start_time": "2020-12-07T14:28:46.463585Z"
    }
   },
   "outputs": [],
   "source": [
    "X.shape"
   ]
  },
  {
   "cell_type": "markdown",
   "metadata": {},
   "source": [
    "## Model"
   ]
  },
  {
   "cell_type": "markdown",
   "metadata": {},
   "source": [
    "### Imports"
   ]
  },
  {
   "cell_type": "code",
   "execution_count": null,
   "metadata": {
    "ExecuteTime": {
     "end_time": "2020-12-07T15:01:38.917867Z",
     "start_time": "2020-12-07T15:01:32.366146Z"
    }
   },
   "outputs": [],
   "source": [
    "# Train, test, split\n",
    "from sklearn.model_selection import train_test_split\n",
    "\n",
    "# Model\n",
    "from tensorflow.keras import models\n",
    "from tensorflow.keras import layers\n",
    "from tensorflow.keras.callbacks import EarlyStopping"
   ]
  },
  {
   "cell_type": "markdown",
   "metadata": {},
   "source": [
    "### Train, test, split"
   ]
  },
  {
   "cell_type": "code",
   "execution_count": null,
   "metadata": {
    "ExecuteTime": {
     "end_time": "2020-12-07T15:02:24.666332Z",
     "start_time": "2020-12-07T15:01:39.708512Z"
    }
   },
   "outputs": [],
   "source": [
    "X_train, X_test, y_train, y_test = train_test_split(X, y, test_size = 0.2)"
   ]
  },
  {
   "cell_type": "code",
   "execution_count": null,
   "metadata": {
    "ExecuteTime": {
     "end_time": "2020-12-07T15:02:27.541316Z",
     "start_time": "2020-12-07T15:02:26.212169Z"
    }
   },
   "outputs": [],
   "source": [
    "del X,y"
   ]
  },
  {
   "cell_type": "markdown",
   "metadata": {},
   "source": [
    "### Model"
   ]
  },
  {
   "cell_type": "code",
   "execution_count": null,
   "metadata": {
    "ExecuteTime": {
     "end_time": "2020-12-07T15:07:58.400259Z",
     "start_time": "2020-12-07T15:07:58.379137Z"
    }
   },
   "outputs": [],
   "source": [
    "def init_model(x_length, y_length, lat_size, lon_size):\n",
    "    print('initializing model')\n",
    "    model = models.Sequential()\n",
    "    \n",
    "    print('adding conv3D 1')\n",
    "    model.add(layers.Conv3D(64, kernel_size = 10, activation = 'relu', padding='same',\n",
    "                            input_shape = (lat_size, lon_size, x_length, 1)))\n",
    "    model.add(layers.MaxPooling3D(2))\n",
    "\n",
    "    #print('adding conv3D 2')\n",
    "    #model.add(layers.Conv3D(128, kernel_size = 5, activation = 'relu', padding='same'))\n",
    "    #model.add(layers.MaxPooling3D(2))\n",
    "\n",
    "    #print('adding conv3D 3')\n",
    "    #model.add(layers.Conv3D(64, kernel_size = 3, activation = 'relu', padding='same'))\n",
    "    #model.add(layers.MaxPooling3D(2,))     \n",
    "\n",
    "    print('flattening')\n",
    "    model.add(layers.Flatten())\n",
    "    \n",
    "    print('adding dense layer 1')\n",
    "    model.add(layers.Dense(5_000, activation = 'relu'))\n",
    "    \n",
    "    print('adding dense layer 2')\n",
    "    model.add(layers.Dense(50_000, activation = 'relu'))\n",
    "    \n",
    "    print('adding dense layer 3')\n",
    "    model.add(layers.Dense(lat_size * lon_size, activation = 'relu'))\n",
    "    \n",
    "    print('adding dense layer 4')\n",
    "    model.add(layers.Dense(lat_size * lon_size * y_length/2, activation = 'relu'))\n",
    "    \n",
    "    #print('adding dense layer 2')\n",
    "    #model.add(layers.Dropout(rate=0.5))\n",
    "\n",
    "    print('adding final dense layer')\n",
    "    model.add(layers.Dense(y_length * lat_size * lon_size, activation = 'relu'))\n",
    "    \n",
    "    print('Reshaping')\n",
    "    model.add(layers.Reshape((lat_size, lon_size, y_length)))\n",
    "    \n",
    "    print('compiling')\n",
    "    model.compile(loss = 'mse',\n",
    "                  optimizer = 'adam',\n",
    "                  metrics = 'mae')\n",
    "    print('Done !')\n",
    "    \n",
    "    return model"
   ]
  },
  {
   "cell_type": "markdown",
   "metadata": {},
   "source": [
    "### Running Model (Instance, Early Stopping, Fit and Evaluate)"
   ]
  },
  {
   "cell_type": "markdown",
   "metadata": {},
   "source": [
    "**Reminders**\n",
    "\n",
    "**batch_size:** no. of data used to compute error between y_pred and y_true each time weights of neural network updated (use 16 or 32)\n",
    "\n",
    "**epoch:** once all data has been used once to update the weights"
   ]
  },
  {
   "cell_type": "code",
   "execution_count": null,
   "metadata": {
    "ExecuteTime": {
     "start_time": "2020-12-07T15:08:05.193Z"
    }
   },
   "outputs": [],
   "source": [
    "model = init_model(x_length,y_length, lat_size, lon_size)"
   ]
  },
  {
   "cell_type": "code",
   "execution_count": null,
   "metadata": {
    "ExecuteTime": {
     "start_time": "2020-12-07T13:21:08.932Z"
    }
   },
   "outputs": [],
   "source": [
    "model.summary()"
   ]
  },
  {
   "cell_type": "code",
   "execution_count": null,
   "metadata": {
    "ExecuteTime": {
     "end_time": "2020-12-06T15:56:04.270210Z",
     "start_time": "2020-12-06T15:44:44.413837Z"
    }
   },
   "outputs": [],
   "source": [
    "es = EarlyStopping(patience = 5, restore_best_weights=True)\n",
    "\n",
    "history = model.fit(X_train, y_train,\n",
    "                      batch_size = 32, \n",
    "                      epochs = 2,\n",
    "                      validation_split = 0.3,\n",
    "                      callbacks = es)"
   ]
  },
  {
   "cell_type": "code",
   "execution_count": null,
   "metadata": {
    "ExecuteTime": {
     "end_time": "2020-12-05T13:40:35.821732Z",
     "start_time": "2020-12-05T13:40:35.811246Z"
    }
   },
   "outputs": [],
   "source": [
    "history.history.keys()"
   ]
  },
  {
   "cell_type": "code",
   "execution_count": null,
   "metadata": {
    "ExecuteTime": {
     "end_time": "2020-12-05T13:40:51.798022Z",
     "start_time": "2020-12-05T13:40:51.415337Z"
    }
   },
   "outputs": [],
   "source": [
    "plt.plot(history.history['val_loss'])"
   ]
  },
  {
   "cell_type": "code",
   "execution_count": null,
   "metadata": {
    "ExecuteTime": {
     "end_time": "2020-12-05T13:41:15.265005Z",
     "start_time": "2020-12-05T13:41:14.987087Z"
    }
   },
   "outputs": [],
   "source": [
    "plt.plot(history.history['val_mae'])"
   ]
  },
  {
   "cell_type": "code",
   "execution_count": null,
   "metadata": {
    "ExecuteTime": {
     "end_time": "2020-12-05T13:44:29.053250Z",
     "start_time": "2020-12-05T13:44:21.094787Z"
    }
   },
   "outputs": [],
   "source": [
    "print(model.evaluate(X_test, y_test))"
   ]
  },
  {
   "cell_type": "code",
   "execution_count": null,
   "metadata": {},
   "outputs": [],
   "source": [
    "y_pred = model.predict(X_test)"
   ]
  },
  {
   "cell_type": "code",
   "execution_count": null,
   "metadata": {},
   "outputs": [],
   "source": [
    "y_pred = flatten"
   ]
  },
  {
   "cell_type": "code",
   "execution_count": null,
   "metadata": {},
   "outputs": [],
   "source": [
    "y_pred.reshape(y_length, lat_size, lon_size)"
   ]
  },
  {
   "cell_type": "markdown",
   "metadata": {},
   "source": [
    "## From coord to map"
   ]
  },
  {
   "cell_type": "code",
   "execution_count": null,
   "metadata": {
    "ExecuteTime": {
     "end_time": "2020-12-06T23:24:07.312141Z",
     "start_time": "2020-12-06T23:24:07.300383Z"
    }
   },
   "outputs": [],
   "source": [
    "def from_matrix_to_coord(matrix, lat_meters, lon_meters):\n",
    "        \"\"\"\n",
    "        gives back the coordinates from a 3D matrix for a given bucket height and width\n",
    "        \"\"\"\n",
    "        results = []\n",
    "        for observation in matrix:\n",
    "            # Where do you start\n",
    "            grid_offset = np.array([0, -40.91553277600008,  -74.25559136315213,])\n",
    "\n",
    "            #from meters to lat/lon step\n",
    "            lat_spacing, lon_spacing = from_meters_to_coords(lat_meters, lon_meters)\n",
    "\n",
    "            # What's the space you consider (euclidian here)\n",
    "            grid_spacing = np.array([1, lat_spacing, lon_spacing])\n",
    "\n",
    "            indexes = np.argwhere(observation)\n",
    "            #print(indexes.shape)\n",
    "            # index : coords de mes crimes dans mon np array\n",
    "            result = grid_offset + indexes * grid_spacing\n",
    "            results.append(result)\n",
    "        return np.array(results)"
   ]
  },
  {
   "cell_type": "code",
   "execution_count": null,
   "metadata": {
    "ExecuteTime": {
     "end_time": "2020-12-06T23:24:22.507000Z",
     "start_time": "2020-12-06T23:24:21.493658Z"
    }
   },
   "outputs": [],
   "source": [
    "y_pred_notsure = np.where((y_train>5*10**(-4)) & (y_train<5*10**(-3)), y_train, 0)\n",
    "y_pred_middle = np.where((y_train>5*10**(-3)) & (y_train<1*10**(-2)), y_train, 0)\n",
    "y_pred_sure = np.where(y_train>1*10**(-2), y_train, 0)\n",
    "\n",
    "#y_pred_notsure = np.where((y_pred>5*10**(-3)) & (y_pred<1*10**(-2)), y_pred, 0)\n",
    "#y_pred_middle = np.where((y_pred>1*10**(-2)) & (y_pred<1.8*10**(-2)), y_pred, 0)\n",
    "#y_pred_sure = np.where(y_pred>1.8*10**(-2), y_pred, 0)"
   ]
  },
  {
   "cell_type": "code",
   "execution_count": null,
   "metadata": {
    "ExecuteTime": {
     "end_time": "2020-12-06T23:24:42.491969Z",
     "start_time": "2020-12-06T23:24:40.454065Z"
    }
   },
   "outputs": [],
   "source": [
    "coords_not_sure = from_matrix_to_coord(y_pred_notsure, 200, 200)\n",
    "coords_middle = from_matrix_to_coord(y_pred_middle, 200, 200)\n",
    "coords_sure = from_matrix_to_coord(y_pred_sure, 200, 200)"
   ]
  },
  {
   "cell_type": "code",
   "execution_count": null,
   "metadata": {
    "ExecuteTime": {
     "end_time": "2020-12-06T23:24:44.227319Z",
     "start_time": "2020-12-06T23:24:44.213928Z"
    }
   },
   "outputs": [],
   "source": [
    "coords_back_not_sure_df = pd.DataFrame(coords_not_sure[0], columns=['image', 'lat', 'lon'])\n",
    "coords_back_not_sure_df['right_lat'] = -coords_back_not_sure_df['lat']\n",
    "\n",
    "coords_middle_df = pd.DataFrame(coords_middle[0], columns=['image', 'lat', 'lon'])\n",
    "coords_middle_df['right_lat'] = -coords_middle_df['lat']\n",
    "\n",
    "coords_back_sure_df = pd.DataFrame(coords_sure[0], columns=['image', 'lat', 'lon'])\n",
    "coords_back_sure_df['right_lat'] = -coords_back_sure_df['lat']"
   ]
  },
  {
   "cell_type": "code",
   "execution_count": null,
   "metadata": {
    "ExecuteTime": {
     "end_time": "2020-12-06T23:24:46.073749Z",
     "start_time": "2020-12-06T23:24:46.056400Z"
    }
   },
   "outputs": [],
   "source": [
    "last_image_not_sure = coords_back_not_sure_df[coords_back_not_sure_df['image']==2.0]\n",
    "last_image_middle = coords_middle_df[coords_middle_df['image']==2.0]\n",
    "last_image_sure = coords_back_sure_df[coords_back_sure_df['image']==2.0]"
   ]
  },
  {
   "cell_type": "code",
   "execution_count": null,
   "metadata": {
    "ExecuteTime": {
     "end_time": "2020-12-06T23:24:57.300782Z",
     "start_time": "2020-12-06T23:24:57.004143Z"
    }
   },
   "outputs": [],
   "source": [
    "import seaborn as sns"
   ]
  },
  {
   "cell_type": "code",
   "execution_count": null,
   "metadata": {
    "ExecuteTime": {
     "end_time": "2020-12-06T23:24:59.672439Z",
     "start_time": "2020-12-06T23:24:59.138383Z"
    }
   },
   "outputs": [],
   "source": [
    "fig, ax = plt.subplots(figsize=(10,10))\n",
    "\n",
    "ax.set_xlim(left=-74.25559136315213, right=-73.70000906387347)\n",
    "ax.set_ylim(bottom = 40.49611539518921, top=40.91553277600008)\n",
    "sns.scatterplot(x='lon', y='right_lat', data=last_image_not_sure, s=2, ax=ax)\n",
    "sns.scatterplot(x='lon', y='right_lat', data=last_image_middle, s=2, ax=ax)\n",
    "sns.scatterplot(x='lon', y='right_lat', data=last_image_sure, s=2, ax=ax)\n",
    "plt.legend()"
   ]
  },
  {
   "cell_type": "code",
   "execution_count": null,
   "metadata": {},
   "outputs": [],
   "source": [
    "#modèle clairement pourri car il indique des crimes sur staten island\n",
    "#voir baseline modèle (on est en dessous)"
   ]
  },
  {
   "cell_type": "code",
   "execution_count": null,
   "metadata": {},
   "outputs": [],
   "source": []
  }
 ],
 "metadata": {
  "kernelspec": {
   "display_name": "Python 3",
   "language": "python",
   "name": "python3"
  },
  "language_info": {
   "codemirror_mode": {
    "name": "ipython",
    "version": 3
   },
   "file_extension": ".py",
   "mimetype": "text/x-python",
   "name": "python",
   "nbconvert_exporter": "python",
   "pygments_lexer": "ipython3",
   "version": "3.8.5"
  },
  "toc": {
   "base_numbering": 1,
   "nav_menu": {},
   "number_sections": true,
   "sideBar": true,
   "skip_h1_title": false,
   "title_cell": "Table of Contents",
   "title_sidebar": "Contents",
   "toc_cell": false,
   "toc_position": {},
   "toc_section_display": true,
   "toc_window_display": false
  },
  "varInspector": {
   "cols": {
    "lenName": 16,
    "lenType": 16,
    "lenVar": 40
   },
   "kernels_config": {
    "python": {
     "delete_cmd_postfix": "",
     "delete_cmd_prefix": "del ",
     "library": "var_list.py",
     "varRefreshCmd": "print(var_dic_list())"
    },
    "r": {
     "delete_cmd_postfix": ") ",
     "delete_cmd_prefix": "rm(",
     "library": "var_list.r",
     "varRefreshCmd": "cat(var_dic_list()) "
    }
   },
   "position": {
    "height": "334.85px",
    "left": "880px",
    "right": "20px",
    "top": "16px",
    "width": "350px"
   },
   "types_to_exclude": [
    "module",
    "function",
    "builtin_function_or_method",
    "instance",
    "_Feature"
   ],
   "window_display": false
  }
 },
 "nbformat": 4,
 "nbformat_minor": 4
}
