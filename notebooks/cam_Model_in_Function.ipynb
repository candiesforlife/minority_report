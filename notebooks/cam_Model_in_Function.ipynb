{
 "cells": [
  {
   "cell_type": "markdown",
   "metadata": {},
   "source": [
    "## NYPD Data"
   ]
  },
  {
   "cell_type": "markdown",
   "metadata": {},
   "source": [
    "### Imports"
   ]
  },
  {
   "cell_type": "code",
   "execution_count": 1,
   "metadata": {
    "ExecuteTime": {
     "end_time": "2020-12-08T09:49:59.080795Z",
     "start_time": "2020-12-08T09:49:57.666150Z"
    }
   },
   "outputs": [],
   "source": [
    "# data import\n",
    "import pickle\n",
    "\n",
    "# data manipulation\n",
    "import numpy as np\n",
    "import pandas as pd\n",
    "from datetime import datetime\n",
    "\n",
    "# plotting\n",
    "import matplotlib.pyplot as plt\n",
    "\n",
    "#gaussian filter\n",
    "from scipy.ndimage import gaussian_filter"
   ]
  },
  {
   "cell_type": "markdown",
   "metadata": {},
   "source": [
    "### Data Import"
   ]
  },
  {
   "cell_type": "code",
   "execution_count": 2,
   "metadata": {
    "ExecuteTime": {
     "end_time": "2020-12-08T09:50:11.436634Z",
     "start_time": "2020-12-08T09:49:59.512652Z"
    }
   },
   "outputs": [],
   "source": [
    "pickle_path = ('../raw_data/clean.pickle')\n",
    "with open(pickle_path, 'rb') as f:\n",
    "    df = pickle.load(f)"
   ]
  },
  {
   "cell_type": "markdown",
   "metadata": {},
   "source": [
    "### Sample Selection"
   ]
  },
  {
   "cell_type": "code",
   "execution_count": 3,
   "metadata": {
    "ExecuteTime": {
     "end_time": "2020-12-08T09:50:13.886537Z",
     "start_time": "2020-12-08T09:50:12.342595Z"
    }
   },
   "outputs": [],
   "source": [
    "inf = df['period'] > datetime(2016, 10, 1, 0, 0, 0)\n",
    "sup = df['period'] < datetime(2016, 11, 1, 0, 0, 0)\n",
    "sample = df[ inf & sup ]"
   ]
  },
  {
   "cell_type": "code",
   "execution_count": 4,
   "metadata": {
    "ExecuteTime": {
     "end_time": "2020-12-08T09:50:15.003557Z",
     "start_time": "2020-12-08T09:50:14.965843Z"
    }
   },
   "outputs": [],
   "source": [
    "sample = sample[sample['precinct_number']==75]"
   ]
  },
  {
   "cell_type": "code",
   "execution_count": null,
   "metadata": {
    "ExecuteTime": {
     "end_time": "2020-12-08T08:53:08.385051Z",
     "start_time": "2020-12-08T08:53:08.371089Z"
    }
   },
   "outputs": [],
   "source": [
    "#sample['longitude'].min(), sample['longitude'].max(), sample['latitude'].min(), sample['latitude'].max() "
   ]
  },
  {
   "cell_type": "code",
   "execution_count": null,
   "metadata": {
    "ExecuteTime": {
     "end_time": "2020-12-08T08:53:09.169793Z",
     "start_time": "2020-12-08T08:53:08.414111Z"
    }
   },
   "outputs": [],
   "source": [
    "del df"
   ]
  },
  {
   "cell_type": "code",
   "execution_count": null,
   "metadata": {
    "ExecuteTime": {
     "end_time": "2020-12-08T08:53:09.198397Z",
     "start_time": "2020-12-08T08:53:09.186835Z"
    }
   },
   "outputs": [],
   "source": [
    "#sample.shape"
   ]
  },
  {
   "cell_type": "markdown",
   "metadata": {
    "heading_collapsed": true
   },
   "source": [
    "### DataGenerator"
   ]
  },
  {
   "cell_type": "code",
   "execution_count": null,
   "metadata": {
    "ExecuteTime": {
     "end_time": "2020-12-08T08:53:09.258435Z",
     "start_time": "2020-12-08T08:53:09.205255Z"
    },
    "hidden": true
   },
   "outputs": [],
   "source": [
    "import tensorflow as tf\n",
    "​\n",
    "class CustomDataGenerator(tf.keras.utils.Sequence):\n",
    "  def __init__(self, df, batch_size=32, shuffle=True, lat_meters=100, lon_meters=100, *args, **kwargs):\n",
    "    self.df = df\n",
    "    self.batch_size = batch_size\n",
    "    self.indices = np.arange(len(self.df))\n",
    "    self.shuffle = shuffle\n",
    "    self.lat_meters = lat_meters\n",
    "    self.lon_meters = lon_meters\n",
    "    self.on_epoch_end()\n",
    "​\n",
    "  def __len__(self):\n",
    "    \"\"\"\n",
    "    Return the number of batches so the generator knows how many batches\n",
    "    it should generate for each epoch\n",
    "    \"\"\"\n",
    "    return len(df) // self.batch_size\n",
    "​\n",
    "  def __getitem__(self, i):\n",
    "    \"\"\"\n",
    "    Return the i-th batch\n",
    "    \"\"\"\n",
    "    batch_indices = self.indices[i * self.batch_size:(i + 1) * self.batch_size]\n",
    "    batch = self.df.iloc[batch_indices] \n",
    "    return self.__get_data(batch)\n",
    "​\n",
    "  def __get_data(self, batch):\n",
    "    X = from_coord_to_matrix(batch, lat_meters=self.lat_meters, lon_meters=self.lon_meters)\n",
    "    y = from_coord_to_matrix(batch, lat_meters=self.lat_meters, lon_meters=self.lon_meters) # à changer\n",
    "    return X, y\n",
    "​\n",
    "  def on_epoch_end(self):\n",
    "    self.indices = np.arange(len(self.df))\n",
    "    if self.shuffle == True:\n",
    "        np.random.shuffle(self.indices)"
   ]
  },
  {
   "cell_type": "code",
   "execution_count": null,
   "metadata": {
    "ExecuteTime": {
     "end_time": "2020-12-08T08:53:09.430733Z",
     "start_time": "2020-12-08T08:52:53.681Z"
    },
    "hidden": true
   },
   "outputs": [],
   "source": [
    "BATCH_SIZE = 2\n",
    "​\n",
    "datagen = CustomDataGenerator(df, batch_size=BATCH_SIZE)\n",
    "p, q = datagen.__getitem__(3)\n",
    "print(p.shape)\n",
    "print(q.shape)"
   ]
  },
  {
   "cell_type": "markdown",
   "metadata": {},
   "source": [
    "### Lat - Long to Array"
   ]
  },
  {
   "cell_type": "code",
   "execution_count": 5,
   "metadata": {
    "ExecuteTime": {
     "end_time": "2020-12-08T09:50:15.906001Z",
     "start_time": "2020-12-08T09:50:15.884111Z"
    }
   },
   "outputs": [],
   "source": [
    "def from_meters_to_coords(lat_meters, lon_meters):\n",
    "    \"\"\"\n",
    "    gives the latitude and longitude step to use for the grid buckets\n",
    "    lat_meters, lon_meters = lat/lon step\n",
    "    \"\"\"\n",
    "    #Position, decimal degrees\n",
    "    lat = 40\n",
    "    lon = -73\n",
    "\n",
    "    #Earth’s radius, sphere\n",
    "    R=6378137\n",
    "\n",
    "    #offsets in meters\n",
    "    dn = lat_meters\n",
    "    de = lon_meters\n",
    "\n",
    "    #Coordinate offsets in radians\n",
    "    dLat = dn/R\n",
    "    dLon = de/(R*np.cos(np.pi*lat/180))\n",
    "\n",
    "    #OffsetPosition, decimal degrees\n",
    "    latO = dLat * 180/np.pi\n",
    "    lonO = dLon * 180/np.pi \n",
    "\n",
    "    return latO, lonO"
   ]
  },
  {
   "cell_type": "code",
   "execution_count": 46,
   "metadata": {
    "ExecuteTime": {
     "end_time": "2020-12-08T10:29:01.016957Z",
     "start_time": "2020-12-08T10:29:00.988827Z"
    }
   },
   "outputs": [],
   "source": [
    "def from_coord_to_matrix(df, lat_meters, lon_meters):\n",
    "    \"\"\"\n",
    "    outputs the 3D matrix of all coordinates for a given bucket height and width in meters\n",
    "    \"\"\"\n",
    "    df=df.copy()\n",
    "    #add 'time_index' column to df\n",
    "    ind = {time:index for index,time in enumerate(np.sort(df['period'].unique()))}\n",
    "    df['time_index'] = df['period'].map(ind)\n",
    "    \n",
    "    #initiate matrix\n",
    "    #40.49611539518921, 40.91553277600008, -74.25559136315213,-73.70000906387347) : NYC boundaries\n",
    "    #([40.56952999448672, 40.73912795313436],[-74.04189660705046, -73.83355923946421]) : brooklyn boundaries\n",
    "    #[40.6218192717505, 40.6951504231971],[-73.90404639808888, -73.83559344190869]) :precinct 75 boundaries\n",
    "    \n",
    "    grid_offset = np.array([ -40.692681179000004,  -73.990914183,0]) # Where do you start\n",
    "    #from meters to lat/lon step\n",
    "    lat_spacing, lon_spacing = from_meters_to_coords(lat_meters, lon_meters )\n",
    "    grid_spacing = np.array([lat_spacing , lon_spacing,1]) # What's the space you consider (euclidian here)\n",
    "     \n",
    "    \n",
    "    #get points coordinates\n",
    "    coords = np.array([( -lat, lon,t_ind) for lat, lon,t_ind \\\n",
    "                   in zip(df['latitude'],df['longitude'],df['time_index'])])\n",
    "    \n",
    "    \n",
    "    # Convert point to index\n",
    "    indexes = np.round((coords - grid_offset)/grid_spacing).astype('int')\n",
    "    X = indexes[:,0] \n",
    "    Y = indexes[:,1] \n",
    "    Z = indexes[:,2] \n",
    "    \n",
    "    #virgin matrix\n",
    "    a = np.zeros((X.max()+1, Y.max()+1, Z.max()+1))\n",
    "   \n",
    "    \n",
    "    a[X, Y, Z]=1\n",
    "    \n",
    "    return a, a.shape[1], a.shape[2]"
   ]
  },
  {
   "cell_type": "code",
   "execution_count": 7,
   "metadata": {
    "ExecuteTime": {
     "end_time": "2020-12-08T09:50:18.294007Z",
     "start_time": "2020-12-08T09:50:18.261616Z"
    }
   },
   "outputs": [],
   "source": [
    "img, lat_size, lon_size = from_coord_to_matrix(sample, 5, 5)"
   ]
  },
  {
   "cell_type": "code",
   "execution_count": 8,
   "metadata": {
    "ExecuteTime": {
     "end_time": "2020-12-08T09:50:24.206692Z",
     "start_time": "2020-12-08T09:50:24.189061Z"
    }
   },
   "outputs": [
    {
     "data": {
      "text/plain": [
       "(1123, 2280, 578)"
      ]
     },
     "execution_count": 8,
     "metadata": {},
     "output_type": "execute_result"
    }
   ],
   "source": [
    "img.shape"
   ]
  },
  {
   "cell_type": "code",
   "execution_count": null,
   "metadata": {
    "ExecuteTime": {
     "end_time": "2020-12-08T08:53:09.577979Z",
     "start_time": "2020-12-08T08:52:53.738Z"
    }
   },
   "outputs": [],
   "source": [
    "plt.figure(figsize=(10, 10))\n",
    "\n",
    "plt.imshow(img[:,:,10], cmap='gray');"
   ]
  },
  {
   "cell_type": "markdown",
   "metadata": {},
   "source": [
    "### Plotting Array (with and w/o Gaussian filter)"
   ]
  },
  {
   "cell_type": "code",
   "execution_count": null,
   "metadata": {
    "ExecuteTime": {
     "end_time": "2020-12-08T08:53:09.586082Z",
     "start_time": "2020-12-08T08:52:53.749Z"
    }
   },
   "outputs": [],
   "source": [
    "#plt.figure(figsize=(5, 5))\n",
    "#plt.imshow(img[3], cmap='gray');"
   ]
  },
  {
   "cell_type": "code",
   "execution_count": 9,
   "metadata": {
    "ExecuteTime": {
     "end_time": "2020-12-08T09:54:47.959628Z",
     "start_time": "2020-12-08T09:50:27.285413Z"
    }
   },
   "outputs": [],
   "source": [
    "img3D_conv = gaussian_filter(img, sigma=(2, 2, 2))"
   ]
  },
  {
   "cell_type": "code",
   "execution_count": null,
   "metadata": {
    "ExecuteTime": {
     "end_time": "2020-12-08T08:53:09.621978Z",
     "start_time": "2020-12-08T08:52:53.770Z"
    }
   },
   "outputs": [],
   "source": [
    "plt.figure(figsize=(10, 10))\n",
    "\n",
    "plt.imshow(img3D_conv[:,:,4], cmap='gray');"
   ]
  },
  {
   "cell_type": "markdown",
   "metadata": {},
   "source": [
    "### Splitting into X and y"
   ]
  },
  {
   "cell_type": "markdown",
   "metadata": {},
   "source": [
    "#### Try outs"
   ]
  },
  {
   "cell_type": "code",
   "execution_count": 20,
   "metadata": {
    "ExecuteTime": {
     "end_time": "2020-12-08T09:57:40.623040Z",
     "start_time": "2020-12-08T09:57:40.568646Z"
    }
   },
   "outputs": [
    {
     "data": {
      "text/plain": [
       "(1123, 2280, 578)"
      ]
     },
     "execution_count": 20,
     "metadata": {},
     "output_type": "execute_result"
    }
   ],
   "source": [
    "img3D_conv.shape"
   ]
  },
  {
   "cell_type": "code",
   "execution_count": 21,
   "metadata": {
    "ExecuteTime": {
     "end_time": "2020-12-08T09:57:45.570973Z",
     "start_time": "2020-12-08T09:57:42.423067Z"
    }
   },
   "outputs": [
    {
     "data": {
      "text/plain": [
       "0.02812753422710114"
      ]
     },
     "execution_count": 21,
     "metadata": {},
     "output_type": "execute_result"
    }
   ],
   "source": [
    "img3D_conv.max()"
   ]
  },
  {
   "cell_type": "code",
   "execution_count": 23,
   "metadata": {
    "ExecuteTime": {
     "end_time": "2020-12-08T09:58:16.984895Z",
     "start_time": "2020-12-08T09:58:16.972584Z"
    }
   },
   "outputs": [],
   "source": [
    "obs_lon = 2 # 2*10m together in lon\n",
    "obs_lat = 3 # 3*10m\n",
    "obs_time = 6 # 6h stacked together\n",
    "obs_tf = 24 # 24h en tout\n",
    "tar_tf = 12 # 12h en tout pour target"
   ]
  },
  {
   "cell_type": "code",
   "execution_count": 28,
   "metadata": {
    "ExecuteTime": {
     "end_time": "2020-12-08T09:59:02.219148Z",
     "start_time": "2020-12-08T09:59:02.206265Z"
    }
   },
   "outputs": [],
   "source": [
    "length = obs_tf + tar_tf\n",
    "position = np.random.randint(0, img3D_conv.shape[2] - length)"
   ]
  },
  {
   "cell_type": "code",
   "execution_count": 29,
   "metadata": {
    "ExecuteTime": {
     "end_time": "2020-12-08T09:59:03.912838Z",
     "start_time": "2020-12-08T09:59:03.901873Z"
    }
   },
   "outputs": [
    {
     "data": {
      "text/plain": [
       "377"
      ]
     },
     "execution_count": 29,
     "metadata": {},
     "output_type": "execute_result"
    }
   ],
   "source": [
    "position"
   ]
  },
  {
   "cell_type": "code",
   "execution_count": 30,
   "metadata": {
    "ExecuteTime": {
     "end_time": "2020-12-08T09:59:06.033020Z",
     "start_time": "2020-12-08T09:59:06.024543Z"
    }
   },
   "outputs": [],
   "source": [
    "subsample = img3D_conv[:,:,position:position + length]"
   ]
  },
  {
   "cell_type": "code",
   "execution_count": 31,
   "metadata": {
    "ExecuteTime": {
     "end_time": "2020-12-08T09:59:07.623544Z",
     "start_time": "2020-12-08T09:59:07.585523Z"
    }
   },
   "outputs": [
    {
     "data": {
      "text/plain": [
       "(1123, 2280, 36)"
      ]
     },
     "execution_count": 31,
     "metadata": {},
     "output_type": "execute_result"
    }
   ],
   "source": [
    "subsample.shape"
   ]
  },
  {
   "cell_type": "code",
   "execution_count": null,
   "metadata": {
    "ExecuteTime": {
     "end_time": "2020-12-08T08:53:09.688182Z",
     "start_time": "2020-12-08T08:52:53.839Z"
    }
   },
   "outputs": [],
   "source": [
    "subsample.max()"
   ]
  },
  {
   "cell_type": "code",
   "execution_count": null,
   "metadata": {
    "ExecuteTime": {
     "end_time": "2020-12-08T09:16:36.624705Z",
     "start_time": "2020-12-08T09:16:36.616494Z"
    }
   },
   "outputs": [],
   "source": [
    "observations, targets = np.split(subsample,[obs_tf], axis=2)"
   ]
  },
  {
   "cell_type": "code",
   "execution_count": null,
   "metadata": {
    "ExecuteTime": {
     "end_time": "2020-12-08T09:16:38.259210Z",
     "start_time": "2020-12-08T09:16:38.239875Z"
    }
   },
   "outputs": [],
   "source": [
    "observations.shape"
   ]
  },
  {
   "cell_type": "code",
   "execution_count": null,
   "metadata": {
    "ExecuteTime": {
     "end_time": "2020-12-08T09:16:40.053335Z",
     "start_time": "2020-12-08T09:16:39.919669Z"
    }
   },
   "outputs": [],
   "source": [
    "observations.max()"
   ]
  },
  {
   "cell_type": "markdown",
   "metadata": {
    "heading_collapsed": true
   },
   "source": [
    "#### Math test"
   ]
  },
  {
   "cell_type": "code",
   "execution_count": null,
   "metadata": {
    "ExecuteTime": {
     "end_time": "2020-12-08T08:53:09.718030Z",
     "start_time": "2020-12-08T08:52:53.887Z"
    },
    "hidden": true
   },
   "outputs": [],
   "source": [
    "a = np.array([[[1, 2, 3], [4, 5, 6]], [[1.1, 2.2, 3.3], [4.4, 5.5, 6.6]]])\n",
    "b = np.array([[[7, 8, 9], [10, 11, 12]], [[7.7, 8.8, 9.9], [10.1, 11.1, 12.1]]])\n",
    "a"
   ]
  },
  {
   "cell_type": "code",
   "execution_count": null,
   "metadata": {
    "ExecuteTime": {
     "end_time": "2020-12-08T08:53:09.728626Z",
     "start_time": "2020-12-08T08:52:53.899Z"
    },
    "hidden": true
   },
   "outputs": [],
   "source": [
    "a.shape"
   ]
  },
  {
   "cell_type": "code",
   "execution_count": null,
   "metadata": {
    "ExecuteTime": {
     "end_time": "2020-12-08T08:53:09.737840Z",
     "start_time": "2020-12-08T08:52:53.910Z"
    },
    "hidden": true
   },
   "outputs": [],
   "source": [
    "a.reshape((1, 2, 2, 2))"
   ]
  },
  {
   "cell_type": "code",
   "execution_count": null,
   "metadata": {
    "ExecuteTime": {
     "end_time": "2020-12-08T08:53:09.746476Z",
     "start_time": "2020-12-08T08:52:53.928Z"
    },
    "hidden": true
   },
   "outputs": [],
   "source": [
    "c += b"
   ]
  },
  {
   "cell_type": "code",
   "execution_count": null,
   "metadata": {
    "ExecuteTime": {
     "end_time": "2020-12-08T08:53:09.755050Z",
     "start_time": "2020-12-08T08:52:53.935Z"
    },
    "hidden": true
   },
   "outputs": [],
   "source": [
    "c"
   ]
  },
  {
   "cell_type": "markdown",
   "metadata": {
    "heading_collapsed": true
   },
   "source": [
    "#### Resume"
   ]
  },
  {
   "cell_type": "code",
   "execution_count": null,
   "metadata": {
    "ExecuteTime": {
     "end_time": "2020-12-08T08:53:09.760405Z",
     "start_time": "2020-12-08T08:52:53.945Z"
    },
    "hidden": true
   },
   "outputs": [],
   "source": [
    "timeframes=[]\n",
    "start=0\n",
    "nb_images = int(observations.shape[2]/obs_s)\n",
    "for i in range (nb_images):\n",
    "    not_stacked = observations[: , : , start : start+obs_s]\n",
    "    base = not_stacked[:,:,0]\n",
    "    for i in range(1,obs_s):\n",
    "        base += first_timeframe[:,:,i]\n",
    "    timeframes.append(not_stacked)\n",
    "    start += obs_s"
   ]
  },
  {
   "cell_type": "code",
   "execution_count": null,
   "metadata": {
    "ExecuteTime": {
     "end_time": "2020-12-08T08:53:09.767007Z",
     "start_time": "2020-12-08T08:52:53.952Z"
    },
    "hidden": true
   },
   "outputs": [],
   "source": [
    "tf_arr = np.array(timeframes)\n",
    "tf_arr.shape"
   ]
  },
  {
   "cell_type": "code",
   "execution_count": null,
   "metadata": {
    "ExecuteTime": {
     "end_time": "2020-12-08T08:53:09.771783Z",
     "start_time": "2020-12-08T08:52:53.961Z"
    },
    "hidden": true
   },
   "outputs": [],
   "source": [
    "tf_arr.max()"
   ]
  },
  {
   "cell_type": "code",
   "execution_count": null,
   "metadata": {
    "ExecuteTime": {
     "end_time": "2020-12-08T08:53:09.776856Z",
     "start_time": "2020-12-08T08:52:53.971Z"
    },
    "hidden": true
   },
   "outputs": [],
   "source": [
    "first_timeframe = tf_arr[0]\n",
    "first_timeframe.shape"
   ]
  },
  {
   "cell_type": "code",
   "execution_count": null,
   "metadata": {
    "ExecuteTime": {
     "end_time": "2020-12-08T08:53:09.782133Z",
     "start_time": "2020-12-08T08:52:53.980Z"
    },
    "hidden": true
   },
   "outputs": [],
   "source": [
    "first_timeframe.max()"
   ]
  },
  {
   "cell_type": "code",
   "execution_count": null,
   "metadata": {
    "ExecuteTime": {
     "end_time": "2020-12-08T08:53:09.785633Z",
     "start_time": "2020-12-08T08:52:53.989Z"
    },
    "hidden": true
   },
   "outputs": [],
   "source": [
    "base = first_timeframe[:,:,0]\n",
    "base.shape"
   ]
  },
  {
   "cell_type": "code",
   "execution_count": null,
   "metadata": {
    "ExecuteTime": {
     "end_time": "2020-12-08T08:53:09.790485Z",
     "start_time": "2020-12-08T08:52:54.005Z"
    },
    "hidden": true
   },
   "outputs": [],
   "source": [
    "base.max()"
   ]
  },
  {
   "cell_type": "code",
   "execution_count": null,
   "metadata": {
    "ExecuteTime": {
     "end_time": "2020-12-08T08:53:09.799804Z",
     "start_time": "2020-12-08T08:52:54.020Z"
    },
    "hidden": true
   },
   "outputs": [],
   "source": [
    "for i in range(1,obs_s+1):\n",
    "    base += first_timeframe[:,:,i]"
   ]
  },
  {
   "cell_type": "code",
   "execution_count": null,
   "metadata": {
    "ExecuteTime": {
     "end_time": "2020-12-08T08:53:09.804801Z",
     "start_time": "2020-12-08T08:52:54.028Z"
    },
    "hidden": true
   },
   "outputs": [],
   "source": [
    "base.shape"
   ]
  },
  {
   "cell_type": "code",
   "execution_count": null,
   "metadata": {
    "ExecuteTime": {
     "end_time": "2020-12-08T08:53:09.809516Z",
     "start_time": "2020-12-08T08:52:54.034Z"
    },
    "hidden": true
   },
   "outputs": [],
   "source": [
    "base.max()"
   ]
  },
  {
   "cell_type": "code",
   "execution_count": null,
   "metadata": {
    "ExecuteTime": {
     "end_time": "2020-12-08T08:53:09.818993Z",
     "start_time": "2020-12-08T08:52:54.041Z"
    },
    "hidden": true
   },
   "outputs": [],
   "source": [
    "print(base)"
   ]
  },
  {
   "cell_type": "markdown",
   "metadata": {},
   "source": [
    "#### Try with othe grid"
   ]
  },
  {
   "cell_type": "code",
   "execution_count": null,
   "metadata": {
    "ExecuteTime": {
     "end_time": "2020-12-08T09:16:53.235621Z",
     "start_time": "2020-12-08T09:16:52.847630Z"
    },
    "scrolled": true
   },
   "outputs": [],
   "source": [
    "stacked = stacking_2(observations, obs_lat , obs_lon, obs_time )\n",
    "stacked"
   ]
  },
  {
   "cell_type": "code",
   "execution_count": null,
   "metadata": {
    "ExecuteTime": {
     "end_time": "2020-12-08T09:16:57.987762Z",
     "start_time": "2020-12-08T09:16:57.960627Z"
    }
   },
   "outputs": [],
   "source": [
    "stacked.max()"
   ]
  },
  {
   "cell_type": "code",
   "execution_count": null,
   "metadata": {
    "ExecuteTime": {
     "end_time": "2020-12-08T09:01:20.640696Z",
     "start_time": "2020-12-08T09:01:20.439029Z"
    }
   },
   "outputs": [],
   "source": [
    "observations[observations != 0]"
   ]
  },
  {
   "cell_type": "code",
   "execution_count": null,
   "metadata": {
    "ExecuteTime": {
     "end_time": "2020-12-08T09:02:54.407332Z",
     "start_time": "2020-12-08T09:02:54.397537Z"
    }
   },
   "outputs": [],
   "source": []
  },
  {
   "cell_type": "markdown",
   "metadata": {},
   "source": [
    "#### Functions"
   ]
  },
  {
   "cell_type": "code",
   "execution_count": 65,
   "metadata": {
    "ExecuteTime": {
     "end_time": "2020-12-08T11:16:51.572046Z",
     "start_time": "2020-12-08T11:16:51.561955Z"
    }
   },
   "outputs": [],
   "source": [
    "def stacking(window, lat_step, lon_step, time_step):\n",
    "    \n",
    "    grid_offset = np.array([0,0,0]) # Where do you start\n",
    "    \n",
    "    #new steps from precise grid\n",
    "    grid_spacing = np.array([lat_step , lon_step, time_step])\n",
    "     \n",
    "    #get points coordinates\n",
    "    coords = np.argwhere(window)\n",
    "    flat = window.flatten()\n",
    "    values = flat[flat !=0]\n",
    "    \n",
    "    # Convert point to index\n",
    "    indexes = np.round((coords - grid_offset)/grid_spacing).astype('int')\n",
    "    X = indexes[:,0] \n",
    "    Y = indexes[:,1] \n",
    "    Z = indexes[:,2]\n",
    "    \n",
    "    #virgin matrix\n",
    "    a = np.zeros((X.max(), Y.max(), Z.max()))   \n",
    "    \n",
    "    #sommer\n",
    "    #normaliser sur toute la grille\n",
    "    \n",
    "    a[X, Y, Z]=values #on perd de l'information, si il y a 2 points sur la même intersection\n",
    "                        #il ne prend la valeur que du dernier point\n",
    "    return a"
   ]
  },
  {
   "cell_type": "code",
   "execution_count": null,
   "metadata": {
    "ExecuteTime": {
     "end_time": "2020-12-08T08:53:09.835305Z",
     "start_time": "2020-12-08T08:52:54.085Z"
    }
   },
   "outputs": [],
   "source": [
    "#def stacking(window, step, timeframe):\n",
    "\n",
    "    #nb_images = int(window.shape[2]/step) #nb of image in one window\n",
    "    #print(nb_images)\n",
    "    \n",
    "#    not_stacked = np.split(window, step, axis=2) #get the group of hours to stack together\n",
    "#    stacked = np.array([box.sum(axis=2) for box in not_stacked])\n",
    "    #for element in no_stacked :\n",
    "    #    stacked = element[:,:,0] #intialise the base on which we are going to stack the others    \n",
    "    #    for i in range(1,step):\n",
    "    #        stacked += element[:,:,i] #stack all the other hours of the group onto the base\n",
    "    #    timeframes.append(stacked) #get stackedhours for all the images of the window\n",
    "\n",
    "    \n",
    "#    return stacked"
   ]
  },
  {
   "cell_type": "code",
   "execution_count": 56,
   "metadata": {
    "ExecuteTime": {
     "end_time": "2020-12-08T10:59:28.996475Z",
     "start_time": "2020-12-08T10:59:28.982743Z"
    }
   },
   "outputs": [],
   "source": [
    "def get_observation_target(img3D,\n",
    "                           obs_timeframe,obs_lat,obs_lon, obs_time,\n",
    "                           target_timeframe,  tar_lat,tar_lon, tar_time):\n",
    "    '''\n",
    "    output an observation of x_length consecutive images and the y_length next images as the target\n",
    "    obs_step, obs_timeframe, target_step, target_timeframe : unit = hours\n",
    "    '''\n",
    "    #function from raw to hours\n",
    "    \n",
    "    length = obs_timeframe + target_timeframe\n",
    "    \n",
    "    position = np.random.randint(0, img3D_conv.shape[2] - length)\n",
    "\n",
    "    subsample = img3D[:, :, position : position + length]\n",
    "    #print(subsample.shape)\n",
    "    \n",
    "    observations, targets = np.split(subsample,[obs_timeframe], axis=2) # divide the subsample in X and y\n",
    "    \n",
    "    #print(observations.shape)\n",
    "    #print(observations.max())\n",
    "    observation = stacking(observations, obs_lat, obs_lon, obs_time) #get stacked hours for all images\n",
    "    \n",
    "    #print (targets.shape)\n",
    "    target = stacking(targets,  tar_lat, tar_lon, tar_time )\n",
    "\n",
    "    return observation, target"
   ]
  },
  {
   "cell_type": "code",
   "execution_count": 66,
   "metadata": {
    "ExecuteTime": {
     "end_time": "2020-12-08T11:17:03.127975Z",
     "start_time": "2020-12-08T11:16:56.260444Z"
    }
   },
   "outputs": [
    {
     "ename": "IndexError",
     "evalue": "index 259 is out of bounds for axis 0 with size 259",
     "output_type": "error",
     "traceback": [
      "\u001b[0;31m---------------------------------------------------------------------------\u001b[0m",
      "\u001b[0;31mIndexError\u001b[0m                                Traceback (most recent call last)",
      "\u001b[0;32m<ipython-input-66-d1d76cf0acb2>\u001b[0m in \u001b[0;36m<module>\u001b[0;34m\u001b[0m\n\u001b[1;32m      7\u001b[0m \u001b[0mtar_time\u001b[0m \u001b[0;34m=\u001b[0m \u001b[0;36m2\u001b[0m \u001b[0;31m# éh stacked together\u001b[0m\u001b[0;34m\u001b[0m\u001b[0;34m\u001b[0m\u001b[0m\n\u001b[1;32m      8\u001b[0m \u001b[0mtar_tf\u001b[0m \u001b[0;34m=\u001b[0m \u001b[0;36m12\u001b[0m \u001b[0;31m# for 12h straight as y\u001b[0m\u001b[0;34m\u001b[0m\u001b[0;34m\u001b[0m\u001b[0m\n\u001b[0;32m----> 9\u001b[0;31m observation, target = get_observation_target(img3D_conv,\n\u001b[0m\u001b[1;32m     10\u001b[0m                                              \u001b[0mobs_tf\u001b[0m\u001b[0;34m,\u001b[0m \u001b[0mobs_lat\u001b[0m\u001b[0;34m,\u001b[0m\u001b[0mobs_lon\u001b[0m\u001b[0;34m,\u001b[0m  \u001b[0mobs_time\u001b[0m\u001b[0;34m,\u001b[0m\u001b[0;34m\u001b[0m\u001b[0;34m\u001b[0m\u001b[0m\n\u001b[1;32m     11\u001b[0m                                              tar_tf, tar_lat,tar_lon,  tar_time)\n",
      "\u001b[0;32m<ipython-input-56-23af09ce6cd1>\u001b[0m in \u001b[0;36mget_observation_target\u001b[0;34m(img3D, obs_timeframe, obs_lat, obs_lon, obs_time, target_timeframe, tar_lat, tar_lon, tar_time)\u001b[0m\n\u001b[1;32m     19\u001b[0m     \u001b[0;31m#print(observations.shape)\u001b[0m\u001b[0;34m\u001b[0m\u001b[0;34m\u001b[0m\u001b[0;34m\u001b[0m\u001b[0m\n\u001b[1;32m     20\u001b[0m     \u001b[0;31m#print(observations.max())\u001b[0m\u001b[0;34m\u001b[0m\u001b[0;34m\u001b[0m\u001b[0;34m\u001b[0m\u001b[0m\n\u001b[0;32m---> 21\u001b[0;31m     \u001b[0mobservation\u001b[0m \u001b[0;34m=\u001b[0m \u001b[0mstacking\u001b[0m\u001b[0;34m(\u001b[0m\u001b[0mobservations\u001b[0m\u001b[0;34m,\u001b[0m \u001b[0mobs_lat\u001b[0m\u001b[0;34m,\u001b[0m \u001b[0mobs_lon\u001b[0m\u001b[0;34m,\u001b[0m \u001b[0mobs_time\u001b[0m\u001b[0;34m)\u001b[0m \u001b[0;31m#get stacked hours for all images\u001b[0m\u001b[0;34m\u001b[0m\u001b[0;34m\u001b[0m\u001b[0m\n\u001b[0m\u001b[1;32m     22\u001b[0m \u001b[0;34m\u001b[0m\u001b[0m\n\u001b[1;32m     23\u001b[0m     \u001b[0;31m#print (targets.shape)\u001b[0m\u001b[0;34m\u001b[0m\u001b[0;34m\u001b[0m\u001b[0;34m\u001b[0m\u001b[0m\n",
      "\u001b[0;32m<ipython-input-65-344cf771bdc0>\u001b[0m in \u001b[0;36mstacking\u001b[0;34m(window, lat_step, lon_step, time_step)\u001b[0m\n\u001b[1;32m     20\u001b[0m     \u001b[0ma\u001b[0m \u001b[0;34m=\u001b[0m \u001b[0mnp\u001b[0m\u001b[0;34m.\u001b[0m\u001b[0mzeros\u001b[0m\u001b[0;34m(\u001b[0m\u001b[0;34m(\u001b[0m\u001b[0mX\u001b[0m\u001b[0;34m.\u001b[0m\u001b[0mmax\u001b[0m\u001b[0;34m(\u001b[0m\u001b[0;34m)\u001b[0m\u001b[0;34m,\u001b[0m \u001b[0mY\u001b[0m\u001b[0;34m.\u001b[0m\u001b[0mmax\u001b[0m\u001b[0;34m(\u001b[0m\u001b[0;34m)\u001b[0m\u001b[0;34m,\u001b[0m \u001b[0mZ\u001b[0m\u001b[0;34m.\u001b[0m\u001b[0mmax\u001b[0m\u001b[0;34m(\u001b[0m\u001b[0;34m)\u001b[0m\u001b[0;34m)\u001b[0m\u001b[0;34m)\u001b[0m\u001b[0;34m\u001b[0m\u001b[0;34m\u001b[0m\u001b[0m\n\u001b[1;32m     21\u001b[0m \u001b[0;34m\u001b[0m\u001b[0m\n\u001b[0;32m---> 22\u001b[0;31m     \u001b[0ma\u001b[0m\u001b[0;34m[\u001b[0m\u001b[0mX\u001b[0m\u001b[0;34m,\u001b[0m \u001b[0mY\u001b[0m\u001b[0;34m,\u001b[0m \u001b[0mZ\u001b[0m\u001b[0;34m]\u001b[0m\u001b[0;34m=\u001b[0m\u001b[0mvalues\u001b[0m \u001b[0;31m#on perd de l'information, si il y a 2 points sur la même intersection\u001b[0m\u001b[0;34m\u001b[0m\u001b[0;34m\u001b[0m\u001b[0m\n\u001b[0m\u001b[1;32m     23\u001b[0m                         \u001b[0;31m#il ne prend la valeur que du dernier point\u001b[0m\u001b[0;34m\u001b[0m\u001b[0;34m\u001b[0m\u001b[0;34m\u001b[0m\u001b[0m\n\u001b[1;32m     24\u001b[0m     \u001b[0;32mreturn\u001b[0m \u001b[0ma\u001b[0m\u001b[0;34m\u001b[0m\u001b[0;34m\u001b[0m\u001b[0m\n",
      "\u001b[0;31mIndexError\u001b[0m: index 259 is out of bounds for axis 0 with size 259"
     ]
    }
   ],
   "source": [
    "obs_lon = 2 # 2*10m together in lon\n",
    "obs_lat = 3 # 3*10m\n",
    "obs_time = 3 # 3h stacked together\n",
    "obs_tf = 24 # for 24h straight as X\n",
    "tar_lon = 4 # 4*10m together in lon\n",
    "tar_lat = 5 # 5*10m\n",
    "tar_time = 2 # éh stacked together\n",
    "tar_tf = 12 # for 12h straight as y\n",
    "observation, target = get_observation_target(img3D_conv,\n",
    "                                             obs_tf, obs_lat,obs_lon,  obs_time,\n",
    "                                             tar_tf, tar_lat,tar_lon,  tar_time)"
   ]
  },
  {
   "cell_type": "code",
   "execution_count": 63,
   "metadata": {
    "ExecuteTime": {
     "end_time": "2020-12-08T11:01:46.447193Z",
     "start_time": "2020-12-08T11:01:46.431075Z"
    }
   },
   "outputs": [
    {
     "data": {
      "text/plain": [
       "(375, 1115, 9)"
      ]
     },
     "execution_count": 63,
     "metadata": {},
     "output_type": "execute_result"
    }
   ],
   "source": [
    "observation.shape"
   ]
  },
  {
   "cell_type": "code",
   "execution_count": 64,
   "metadata": {
    "ExecuteTime": {
     "end_time": "2020-12-08T11:01:48.336150Z",
     "start_time": "2020-12-08T11:01:48.272683Z"
    }
   },
   "outputs": [
    {
     "data": {
      "text/plain": [
       "0.017598214005999417"
      ]
     },
     "execution_count": 64,
     "metadata": {},
     "output_type": "execute_result"
    }
   ],
   "source": [
    "observation.max()"
   ]
  },
  {
   "cell_type": "code",
   "execution_count": 41,
   "metadata": {
    "ExecuteTime": {
     "end_time": "2020-12-08T10:12:48.940585Z",
     "start_time": "2020-12-08T10:12:48.894072Z"
    }
   },
   "outputs": [
    {
     "data": {
      "text/plain": [
       "(187, 561, 7)"
      ]
     },
     "execution_count": 41,
     "metadata": {},
     "output_type": "execute_result"
    }
   ],
   "source": [
    "target.shape"
   ]
  },
  {
   "cell_type": "code",
   "execution_count": 42,
   "metadata": {
    "ExecuteTime": {
     "end_time": "2020-12-08T10:12:50.725105Z",
     "start_time": "2020-12-08T10:12:50.686322Z"
    }
   },
   "outputs": [
    {
     "data": {
      "text/plain": [
       "0.011638367419058153"
      ]
     },
     "execution_count": 42,
     "metadata": {},
     "output_type": "execute_result"
    }
   ],
   "source": [
    "target.max()"
   ]
  },
  {
   "cell_type": "markdown",
   "metadata": {},
   "source": [
    "### Subsampling to get multiple X and y"
   ]
  },
  {
   "cell_type": "code",
   "execution_count": null,
   "metadata": {
    "ExecuteTime": {
     "end_time": "2020-12-08T08:53:09.878650Z",
     "start_time": "2020-12-08T08:52:54.157Z"
    }
   },
   "outputs": [],
   "source": [
    "def get_X_y(img3D_conv, number_of_observations, obs_step, obs_timeframe, target_step, target_timeframe):\n",
    "    '''\n",
    "    outputs n observations and their associated targets\n",
    "    '''\n",
    "    results = np.array([get_observation_target(img3D_conv, obs_step, obs_timeframe, target_step, target_timeframe)\n",
    "         for n in range (number_of_observations)])\n",
    "    X = results[:,0]\n",
    "    y = results[:,1]\n",
    "    \n",
    "    return X, y"
   ]
  },
  {
   "cell_type": "code",
   "execution_count": null,
   "metadata": {
    "ExecuteTime": {
     "end_time": "2020-12-08T08:53:09.883949Z",
     "start_time": "2020-12-08T08:52:54.192Z"
    }
   },
   "outputs": [],
   "source": [
    "obs_s = 3 # 3h stacked together\n",
    "obs_tf = 24 # for 24h straight as X\n",
    "tar_s = 2 # 2h stacked together\n",
    "tar_tf = 12 # for 12h straight as y\n",
    "\n",
    "X, y = get_X_y(img3D_conv, 500, obs_s, obs_tf, tar_s, tar_tf)"
   ]
  },
  {
   "cell_type": "code",
   "execution_count": null,
   "metadata": {
    "ExecuteTime": {
     "end_time": "2020-12-08T08:53:09.888023Z",
     "start_time": "2020-12-08T08:52:54.201Z"
    }
   },
   "outputs": [],
   "source": [
    "del img, img3D_conv, inf, sup, sample"
   ]
  },
  {
   "cell_type": "code",
   "execution_count": null,
   "metadata": {
    "ExecuteTime": {
     "end_time": "2020-12-08T08:53:09.894405Z",
     "start_time": "2020-12-08T08:52:54.210Z"
    }
   },
   "outputs": [],
   "source": [
    "X.shape"
   ]
  },
  {
   "cell_type": "markdown",
   "metadata": {},
   "source": [
    "## Model"
   ]
  },
  {
   "cell_type": "markdown",
   "metadata": {},
   "source": [
    "### Imports"
   ]
  },
  {
   "cell_type": "code",
   "execution_count": null,
   "metadata": {
    "ExecuteTime": {
     "end_time": "2020-12-08T08:53:09.900430Z",
     "start_time": "2020-12-08T08:52:54.225Z"
    }
   },
   "outputs": [],
   "source": [
    "# Train, test, split\n",
    "from sklearn.model_selection import train_test_split\n",
    "\n",
    "# Model\n",
    "from tensorflow.keras import models\n",
    "from tensorflow.keras import layers\n",
    "from tensorflow.keras.callbacks import EarlyStopping"
   ]
  },
  {
   "cell_type": "markdown",
   "metadata": {},
   "source": [
    "### Train, test, split"
   ]
  },
  {
   "cell_type": "code",
   "execution_count": null,
   "metadata": {
    "ExecuteTime": {
     "end_time": "2020-12-08T08:53:09.904925Z",
     "start_time": "2020-12-08T08:52:54.234Z"
    }
   },
   "outputs": [],
   "source": [
    "X_train, X_test, y_train, y_test = train_test_split(X, y, test_size = 0.2)"
   ]
  },
  {
   "cell_type": "code",
   "execution_count": null,
   "metadata": {
    "ExecuteTime": {
     "end_time": "2020-12-08T08:53:09.910545Z",
     "start_time": "2020-12-08T08:52:54.241Z"
    }
   },
   "outputs": [],
   "source": [
    "del X,y"
   ]
  },
  {
   "cell_type": "markdown",
   "metadata": {},
   "source": [
    "### Model"
   ]
  },
  {
   "cell_type": "code",
   "execution_count": null,
   "metadata": {
    "ExecuteTime": {
     "end_time": "2020-12-08T08:53:09.919678Z",
     "start_time": "2020-12-08T08:52:54.252Z"
    }
   },
   "outputs": [],
   "source": [
    "def init_model(x_length, y_length, lat_size, lon_size):\n",
    "    print('initializing model')\n",
    "    model = models.Sequential()\n",
    "    \n",
    "    print('adding conv3D 1')\n",
    "    model.add(layers.Conv3D(64, kernel_size = 10, activation = 'relu', padding='same',\n",
    "                            input_shape = (lat_size, lon_size, x_length, 1)))\n",
    "    model.add(layers.MaxPooling3D(2))\n",
    "\n",
    "    #print('adding conv3D 2')\n",
    "    #model.add(layers.Conv3D(128, kernel_size = 5, activation = 'relu', padding='same'))\n",
    "    #model.add(layers.MaxPooling3D(2))\n",
    "\n",
    "    #print('adding conv3D 3')\n",
    "    #model.add(layers.Conv3D(64, kernel_size = 3, activation = 'relu', padding='same'))\n",
    "    #model.add(layers.MaxPooling3D(2,))     \n",
    "\n",
    "    print('flattening')\n",
    "    model.add(layers.Flatten())\n",
    "    \n",
    "    print('adding dense layer 1')\n",
    "    model.add(layers.Dense(5_000, activation = 'relu'))\n",
    "    \n",
    "    print('adding dense layer 2')\n",
    "    model.add(layers.Dense(50_000, activation = 'relu'))\n",
    "    \n",
    "    print('adding dense layer 3')\n",
    "    model.add(layers.Dense(lat_size * lon_size, activation = 'relu'))\n",
    "    \n",
    "    print('adding dense layer 4')\n",
    "    model.add(layers.Dense(lat_size * lon_size * y_length/2, activation = 'relu'))\n",
    "    \n",
    "    #print('adding dense layer 2')\n",
    "    #model.add(layers.Dropout(rate=0.5))\n",
    "\n",
    "    print('adding final dense layer')\n",
    "    model.add(layers.Dense(y_length * lat_size * lon_size, activation = 'relu'))\n",
    "    \n",
    "    print('Reshaping')\n",
    "    model.add(layers.Reshape((lat_size, lon_size, y_length)))\n",
    "    \n",
    "    print('compiling')\n",
    "    model.compile(loss = 'mse',\n",
    "                  optimizer = 'adam',\n",
    "                  metrics = 'mae')\n",
    "    print('Done !')\n",
    "    \n",
    "    return model"
   ]
  },
  {
   "cell_type": "markdown",
   "metadata": {},
   "source": [
    "### Running Model (Instance, Early Stopping, Fit and Evaluate)"
   ]
  },
  {
   "cell_type": "markdown",
   "metadata": {},
   "source": [
    "**Reminders**\n",
    "\n",
    "**batch_size:** no. of data used to compute error between y_pred and y_true each time weights of neural network updated (use 16 or 32)\n",
    "\n",
    "**epoch:** once all data has been used once to update the weights"
   ]
  },
  {
   "cell_type": "code",
   "execution_count": null,
   "metadata": {
    "ExecuteTime": {
     "end_time": "2020-12-08T08:53:09.937233Z",
     "start_time": "2020-12-08T08:52:54.265Z"
    }
   },
   "outputs": [],
   "source": [
    "model = init_model(x_length,y_length, lat_size, lon_size)"
   ]
  },
  {
   "cell_type": "code",
   "execution_count": null,
   "metadata": {
    "ExecuteTime": {
     "end_time": "2020-12-08T08:53:09.943987Z",
     "start_time": "2020-12-08T08:52:54.273Z"
    }
   },
   "outputs": [],
   "source": [
    "model.summary()"
   ]
  },
  {
   "cell_type": "code",
   "execution_count": null,
   "metadata": {
    "ExecuteTime": {
     "end_time": "2020-12-08T08:53:09.951191Z",
     "start_time": "2020-12-08T08:52:54.281Z"
    }
   },
   "outputs": [],
   "source": [
    "es = EarlyStopping(patience = 5, restore_best_weights=True)\n",
    "\n",
    "history = model.fit(X_train, y_train,\n",
    "                      batch_size = 32, \n",
    "                      epochs = 2,\n",
    "                      validation_split = 0.3,\n",
    "                      callbacks = es)"
   ]
  },
  {
   "cell_type": "code",
   "execution_count": null,
   "metadata": {
    "ExecuteTime": {
     "end_time": "2020-12-08T08:53:09.959510Z",
     "start_time": "2020-12-08T08:52:54.291Z"
    }
   },
   "outputs": [],
   "source": [
    "history.history.keys()"
   ]
  },
  {
   "cell_type": "code",
   "execution_count": null,
   "metadata": {
    "ExecuteTime": {
     "end_time": "2020-12-08T08:53:09.974393Z",
     "start_time": "2020-12-08T08:52:54.298Z"
    }
   },
   "outputs": [],
   "source": [
    "plt.plot(history.history['val_loss'])"
   ]
  },
  {
   "cell_type": "code",
   "execution_count": null,
   "metadata": {
    "ExecuteTime": {
     "end_time": "2020-12-08T08:53:09.980638Z",
     "start_time": "2020-12-08T08:52:54.306Z"
    }
   },
   "outputs": [],
   "source": [
    "plt.plot(history.history['val_mae'])"
   ]
  },
  {
   "cell_type": "code",
   "execution_count": null,
   "metadata": {
    "ExecuteTime": {
     "end_time": "2020-12-08T08:53:09.985702Z",
     "start_time": "2020-12-08T08:52:54.312Z"
    }
   },
   "outputs": [],
   "source": [
    "print(model.evaluate(X_test, y_test))"
   ]
  },
  {
   "cell_type": "code",
   "execution_count": null,
   "metadata": {
    "ExecuteTime": {
     "end_time": "2020-12-08T08:53:09.990738Z",
     "start_time": "2020-12-08T08:52:54.321Z"
    }
   },
   "outputs": [],
   "source": [
    "y_pred = model.predict(X_test)"
   ]
  },
  {
   "cell_type": "code",
   "execution_count": null,
   "metadata": {
    "ExecuteTime": {
     "end_time": "2020-12-08T08:53:09.999708Z",
     "start_time": "2020-12-08T08:52:54.329Z"
    }
   },
   "outputs": [],
   "source": [
    "y_pred = flatten"
   ]
  },
  {
   "cell_type": "code",
   "execution_count": null,
   "metadata": {
    "ExecuteTime": {
     "end_time": "2020-12-08T08:53:10.004374Z",
     "start_time": "2020-12-08T08:52:54.341Z"
    }
   },
   "outputs": [],
   "source": [
    "y_pred.reshape(y_length, lat_size, lon_size)"
   ]
  },
  {
   "cell_type": "markdown",
   "metadata": {},
   "source": [
    "## From coord to map"
   ]
  },
  {
   "cell_type": "code",
   "execution_count": null,
   "metadata": {
    "ExecuteTime": {
     "end_time": "2020-12-08T08:53:10.008469Z",
     "start_time": "2020-12-08T08:52:54.357Z"
    }
   },
   "outputs": [],
   "source": [
    "def from_matrix_to_coord(matrix, lat_meters, lon_meters):\n",
    "        \"\"\"\n",
    "        gives back the coordinates from a 3D matrix for a given bucket height and width\n",
    "        \"\"\"\n",
    "        results = []\n",
    "        for observation in matrix:\n",
    "            # Where do you start\n",
    "            grid_offset = np.array([0, -40.91553277600008,  -74.25559136315213,])\n",
    "\n",
    "            #from meters to lat/lon step\n",
    "            lat_spacing, lon_spacing = from_meters_to_coords(lat_meters, lon_meters)\n",
    "\n",
    "            # What's the space you consider (euclidian here)\n",
    "            grid_spacing = np.array([1, lat_spacing, lon_spacing])\n",
    "\n",
    "            indexes = np.argwhere(observation)\n",
    "            #print(indexes.shape)\n",
    "            # index : coords de mes crimes dans mon np array\n",
    "            result = grid_offset + indexes * grid_spacing\n",
    "            results.append(result)\n",
    "        return np.array(results)"
   ]
  },
  {
   "cell_type": "code",
   "execution_count": null,
   "metadata": {
    "ExecuteTime": {
     "end_time": "2020-12-08T08:53:10.014534Z",
     "start_time": "2020-12-08T08:52:54.367Z"
    }
   },
   "outputs": [],
   "source": [
    "y_pred_notsure = np.where((y_train>5*10**(-4)) & (y_train<5*10**(-3)), y_train, 0)\n",
    "y_pred_middle = np.where((y_train>5*10**(-3)) & (y_train<1*10**(-2)), y_train, 0)\n",
    "y_pred_sure = np.where(y_train>1*10**(-2), y_train, 0)\n",
    "\n",
    "#y_pred_notsure = np.where((y_pred>5*10**(-3)) & (y_pred<1*10**(-2)), y_pred, 0)\n",
    "#y_pred_middle = np.where((y_pred>1*10**(-2)) & (y_pred<1.8*10**(-2)), y_pred, 0)\n",
    "#y_pred_sure = np.where(y_pred>1.8*10**(-2), y_pred, 0)"
   ]
  },
  {
   "cell_type": "code",
   "execution_count": null,
   "metadata": {
    "ExecuteTime": {
     "end_time": "2020-12-08T08:53:10.020355Z",
     "start_time": "2020-12-08T08:52:54.376Z"
    }
   },
   "outputs": [],
   "source": [
    "coords_not_sure = from_matrix_to_coord(y_pred_notsure, 200, 200)\n",
    "coords_middle = from_matrix_to_coord(y_pred_middle, 200, 200)\n",
    "coords_sure = from_matrix_to_coord(y_pred_sure, 200, 200)"
   ]
  },
  {
   "cell_type": "code",
   "execution_count": null,
   "metadata": {
    "ExecuteTime": {
     "end_time": "2020-12-08T08:53:10.026870Z",
     "start_time": "2020-12-08T08:52:54.384Z"
    }
   },
   "outputs": [],
   "source": [
    "coords_back_not_sure_df = pd.DataFrame(coords_not_sure[0], columns=['image', 'lat', 'lon'])\n",
    "coords_back_not_sure_df['right_lat'] = -coords_back_not_sure_df['lat']\n",
    "\n",
    "coords_middle_df = pd.DataFrame(coords_middle[0], columns=['image', 'lat', 'lon'])\n",
    "coords_middle_df['right_lat'] = -coords_middle_df['lat']\n",
    "\n",
    "coords_back_sure_df = pd.DataFrame(coords_sure[0], columns=['image', 'lat', 'lon'])\n",
    "coords_back_sure_df['right_lat'] = -coords_back_sure_df['lat']"
   ]
  },
  {
   "cell_type": "code",
   "execution_count": null,
   "metadata": {
    "ExecuteTime": {
     "end_time": "2020-12-08T08:53:10.032397Z",
     "start_time": "2020-12-08T08:52:54.394Z"
    }
   },
   "outputs": [],
   "source": [
    "last_image_not_sure = coords_back_not_sure_df[coords_back_not_sure_df['image']==2.0]\n",
    "last_image_middle = coords_middle_df[coords_middle_df['image']==2.0]\n",
    "last_image_sure = coords_back_sure_df[coords_back_sure_df['image']==2.0]"
   ]
  },
  {
   "cell_type": "code",
   "execution_count": null,
   "metadata": {
    "ExecuteTime": {
     "end_time": "2020-12-08T08:53:10.038136Z",
     "start_time": "2020-12-08T08:52:54.405Z"
    }
   },
   "outputs": [],
   "source": [
    "import seaborn as sns"
   ]
  },
  {
   "cell_type": "code",
   "execution_count": null,
   "metadata": {
    "ExecuteTime": {
     "end_time": "2020-12-08T08:53:10.045040Z",
     "start_time": "2020-12-08T08:52:54.413Z"
    }
   },
   "outputs": [],
   "source": [
    "fig, ax = plt.subplots(figsize=(10,10))\n",
    "\n",
    "ax.set_xlim(left=-74.25559136315213, right=-73.70000906387347)\n",
    "ax.set_ylim(bottom = 40.49611539518921, top=40.91553277600008)\n",
    "sns.scatterplot(x='lon', y='right_lat', data=last_image_not_sure, s=2, ax=ax)\n",
    "sns.scatterplot(x='lon', y='right_lat', data=last_image_middle, s=2, ax=ax)\n",
    "sns.scatterplot(x='lon', y='right_lat', data=last_image_sure, s=2, ax=ax)\n",
    "plt.legend()"
   ]
  },
  {
   "cell_type": "code",
   "execution_count": null,
   "metadata": {
    "ExecuteTime": {
     "end_time": "2020-12-08T08:53:10.052154Z",
     "start_time": "2020-12-08T08:52:54.422Z"
    }
   },
   "outputs": [],
   "source": [
    "#modèle clairement pourri car il indique des crimes sur staten island\n",
    "#voir baseline modèle (on est en dessous)"
   ]
  },
  {
   "cell_type": "code",
   "execution_count": null,
   "metadata": {},
   "outputs": [],
   "source": []
  }
 ],
 "metadata": {
  "kernelspec": {
   "display_name": "Python 3",
   "language": "python",
   "name": "python3"
  },
  "language_info": {
   "codemirror_mode": {
    "name": "ipython",
    "version": 3
   },
   "file_extension": ".py",
   "mimetype": "text/x-python",
   "name": "python",
   "nbconvert_exporter": "python",
   "pygments_lexer": "ipython3",
   "version": "3.8.5"
  },
  "toc": {
   "base_numbering": 1,
   "nav_menu": {},
   "number_sections": true,
   "sideBar": true,
   "skip_h1_title": false,
   "title_cell": "Table of Contents",
   "title_sidebar": "Contents",
   "toc_cell": false,
   "toc_position": {},
   "toc_section_display": true,
   "toc_window_display": false
  },
  "varInspector": {
   "cols": {
    "lenName": 16,
    "lenType": 16,
    "lenVar": 40
   },
   "kernels_config": {
    "python": {
     "delete_cmd_postfix": "",
     "delete_cmd_prefix": "del ",
     "library": "var_list.py",
     "varRefreshCmd": "print(var_dic_list())"
    },
    "r": {
     "delete_cmd_postfix": ") ",
     "delete_cmd_prefix": "rm(",
     "library": "var_list.r",
     "varRefreshCmd": "cat(var_dic_list()) "
    }
   },
   "position": {
    "height": "334.85px",
    "left": "880px",
    "right": "20px",
    "top": "16px",
    "width": "350px"
   },
   "types_to_exclude": [
    "module",
    "function",
    "builtin_function_or_method",
    "instance",
    "_Feature"
   ],
   "window_display": false
  }
 },
 "nbformat": 4,
 "nbformat_minor": 4
}
