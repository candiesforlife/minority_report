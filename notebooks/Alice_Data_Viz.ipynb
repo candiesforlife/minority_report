{
 "cells": [
  {
   "cell_type": "markdown",
   "metadata": {},
   "source": [
    "# Data Viz: Presentation Style"
   ]
  },
  {
   "cell_type": "markdown",
   "metadata": {},
   "source": [
    "## Imports"
   ]
  },
  {
   "cell_type": "code",
   "execution_count": 1,
   "metadata": {
    "ExecuteTime": {
     "end_time": "2020-12-05T10:20:23.149345Z",
     "start_time": "2020-12-05T10:20:22.104910Z"
    }
   },
   "outputs": [],
   "source": [
    "# import data\n",
    "import pickle\n",
    "\n",
    "# data manipulation\n",
    "import pandas as pd\n",
    "from datetime import datetime\n",
    "\n",
    "# plotting and viz\n",
    "import matplotlib.pyplot as plt\n",
    "import seaborn as sns\n",
    "\n",
    "# maps\n",
    "import plotly.express as px\n",
    "import pydeck as pdk\n",
    "\n",
    "# interactivity\n",
    "from ipywidgets import interact"
   ]
  },
  {
   "cell_type": "markdown",
   "metadata": {},
   "source": [
    "## Prepping Data: Import & Sampling"
   ]
  },
  {
   "cell_type": "code",
   "execution_count": 2,
   "metadata": {
    "ExecuteTime": {
     "end_time": "2020-12-05T10:20:28.810395Z",
     "start_time": "2020-12-05T10:20:23.152316Z"
    }
   },
   "outputs": [],
   "source": [
    "pickle_path = ('../raw_data/viz.pickle')\n",
    "\n",
    "with open(pickle_path, 'rb') as f:\n",
    "    data = pickle.load(f)"
   ]
  },
  {
   "cell_type": "code",
   "execution_count": 3,
   "metadata": {
    "ExecuteTime": {
     "end_time": "2020-12-05T10:20:30.084431Z",
     "start_time": "2020-12-05T10:20:28.813076Z"
    }
   },
   "outputs": [],
   "source": [
    "inf = data['period'] > datetime(2016, 1, 1, 0, 0, 0)\n",
    "sup = data['period'] < datetime(2019, 1, 1, 0, 0, 0)\n",
    "df = data[ inf & sup ]"
   ]
  },
  {
   "cell_type": "code",
   "execution_count": 4,
   "metadata": {
    "ExecuteTime": {
     "end_time": "2020-12-05T10:20:39.760556Z",
     "start_time": "2020-12-05T10:20:39.743813Z"
    }
   },
   "outputs": [
    {
     "data": {
      "text/plain": [
       "(1424617, 24)"
      ]
     },
     "execution_count": 4,
     "metadata": {},
     "output_type": "execute_result"
    }
   ],
   "source": [
    "df.shape"
   ]
  },
  {
   "cell_type": "code",
   "execution_count": 6,
   "metadata": {
    "ExecuteTime": {
     "end_time": "2020-12-05T10:59:11.364913Z",
     "start_time": "2020-12-05T10:59:10.433531Z"
    }
   },
   "outputs": [
    {
     "name": "stdout",
     "output_type": "stream",
     "text": [
      "<class 'pandas.core.frame.DataFrame'>\n",
      "Int64Index: 1424617 entries, 2 to 6983206\n",
      "Data columns (total 24 columns):\n",
      " #   Column           Non-Null Count    Dtype  \n",
      "---  ------           --------------    -----  \n",
      " 0   precinct_number  1424617 non-null  int64  \n",
      " 1   offense_type     1424617 non-null  object \n",
      " 2   crime_completed  1424617 non-null  object \n",
      " 3   offense_level    1424617 non-null  object \n",
      " 4   premise_desc     1424617 non-null  object \n",
      " 5   premise          1424617 non-null  object \n",
      " 6   jurisdiction     1424617 non-null  object \n",
      " 7   park_name        1424617 non-null  object \n",
      " 8   suspect_age      1424617 non-null  object \n",
      " 9   suspect_race     1424617 non-null  object \n",
      " 10  suspect_sex      1424617 non-null  object \n",
      " 11  latitude         1424617 non-null  float64\n",
      " 12  longitude        1424617 non-null  float64\n",
      " 13  metro            1424617 non-null  object \n",
      " 14  victim_age       1424617 non-null  object \n",
      " 15  victim_race      1424617 non-null  object \n",
      " 16  victim_sex       1424617 non-null  object \n",
      " 17  period           1424617 non-null  object \n",
      " 18  borough          1424617 non-null  object \n",
      " 19  patrol_borough   1424617 non-null  object \n",
      " 20  year             1424617 non-null  int64  \n",
      " 21  month            1424617 non-null  int64  \n",
      " 22  day_of_week      1424617 non-null  int64  \n",
      " 23  hour             1424617 non-null  int64  \n",
      "dtypes: float64(2), int64(5), object(17)\n",
      "memory usage: 271.7+ MB\n"
     ]
    }
   ],
   "source": [
    "df.info()"
   ]
  },
  {
   "cell_type": "markdown",
   "metadata": {},
   "source": [
    "## Viz over Time"
   ]
  },
  {
   "cell_type": "code",
   "execution_count": 5,
   "metadata": {
    "ExecuteTime": {
     "end_time": "2020-12-05T10:49:13.307293Z",
     "start_time": "2020-12-05T10:49:12.515840Z"
    },
    "scrolled": true
   },
   "outputs": [
    {
     "data": {
      "image/png": "[encoded data removed]",
      "text/plain": [
       "<Figure size 432x288 with 1 Axes>"
      ]
     },
     "metadata": {
      "needs_background": "light"
     },
     "output_type": "display_data"
    }
   ],
   "source": [
    "# Number of Crimes per Year\n",
    "sns.countplot(x = 'year', hue = 'crime_completed', data = df, palette = sns.color_palette([\"#007a87\", \"#4da2ab\"]))\n",
    "plt.title('Number of Crimes per Year: Attempted & Completed');"
   ]
  },
  {
   "cell_type": "code",
   "execution_count": 12,
   "metadata": {
    "ExecuteTime": {
     "end_time": "2020-12-05T11:05:05.317852Z",
     "start_time": "2020-12-05T11:05:04.449076Z"
    }
   },
   "outputs": [
    {
     "data": {
      "image/png": "[encoded data removed]",
      "text/plain": [
       "<Figure size 432x288 with 1 Axes>"
      ]
     },
     "metadata": {
      "needs_background": "light"
     },
     "output_type": "display_data"
    }
   ],
   "source": [
    "# Number of Crimes per Year\n",
    "sns.countplot(x = 'year', hue = 'offense_level', data = df, palette = sns.color_palette(\"YlOrBr\"))\n",
    "plt.title('Number of Crimes per Year: Level of Crime');"
   ]
  },
  {
   "cell_type": "code",
   "execution_count": 17,
   "metadata": {
    "ExecuteTime": {
     "end_time": "2020-12-05T11:10:49.677769Z",
     "start_time": "2020-12-05T11:10:49.634520Z"
    }
   },
   "outputs": [
    {
     "ename": "AttributeError",
     "evalue": "'numpy.int64' object has no attribute 'strftime'",
     "output_type": "error",
     "traceback": [
      "\u001b[0;31m---------------------------------------------------------------------------\u001b[0m",
      "\u001b[0;31mAttributeError\u001b[0m                            Traceback (most recent call last)",
      "\u001b[0;32m<ipython-input-17-a516d5366a44>\u001b[0m in \u001b[0;36m<module>\u001b[0;34m\u001b[0m\n\u001b[0;32m----> 1\u001b[0;31m \u001b[0mdf\u001b[0m\u001b[0;34m[\u001b[0m\u001b[0;34m'month'\u001b[0m\u001b[0;34m]\u001b[0m\u001b[0;34m[\u001b[0m\u001b[0;36m2\u001b[0m\u001b[0;34m]\u001b[0m\u001b[0;34m.\u001b[0m\u001b[0mstrftime\u001b[0m\u001b[0;34m(\u001b[0m\u001b[0;34m\"%B\"\u001b[0m\u001b[0;34m)\u001b[0m\u001b[0;34m\u001b[0m\u001b[0;34m\u001b[0m\u001b[0m\n\u001b[0m",
      "\u001b[0;31mAttributeError\u001b[0m: 'numpy.int64' object has no attribute 'strftime'"
     ]
    }
   ],
   "source": [
    "df['month'][2].strftime(\"%B\")"
   ]
  },
  {
   "cell_type": "code",
   "execution_count": 7,
   "metadata": {
    "ExecuteTime": {
     "end_time": "2020-12-05T11:00:03.247901Z",
     "start_time": "2020-12-05T11:00:02.874442Z"
    }
   },
   "outputs": [
    {
     "data": {
      "image/png": "[encoded data removed]",
      "text/plain": [
       "<Figure size 432x288 with 1 Axes>"
      ]
     },
     "metadata": {
      "needs_background": "light"
     },
     "output_type": "display_data"
    }
   ],
   "source": [
    "# Number of Crimes per Month\n",
    "sns.countplot(x = 'month', data = df, palette = sns.color_palette([\"#007a87\", \"#4da2ab\"]))\n",
    "plt.title('Number of Crimes per Month in NY');"
   ]
  },
  {
   "cell_type": "code",
   "execution_count": 8,
   "metadata": {
    "ExecuteTime": {
     "end_time": "2020-12-05T11:00:51.253399Z",
     "start_time": "2020-12-05T11:00:50.954555Z"
    }
   },
   "outputs": [
    {
     "data": {
      "image/png": "[encoded data removed]",
      "text/plain": [
       "<Figure size 432x288 with 1 Axes>"
      ]
     },
     "metadata": {
      "needs_background": "light"
     },
     "output_type": "display_data"
    }
   ],
   "source": [
    "# Number of Crimes per Month\n",
    "sns.countplot(x = 'day_of_week', data = df, palette = sns.color_palette([\"#007a87\", \"#4da2ab\"]))\n",
    "plt.title('Number of Crimes per DOW in NY');"
   ]
  },
  {
   "cell_type": "code",
   "execution_count": null,
   "metadata": {},
   "outputs": [],
   "source": [
    "time_s = df.groupby(['year', 'month'], as_index=False).count()\n",
    "\n",
    "time_series = time_s[['year', 'month', 'crime_completed']].rename(columns={'crime_completed':'nb_of_crimes'})\n",
    "\n",
    "time_series.head()"
   ]
  }
 ],
 "metadata": {
  "kernelspec": {
   "display_name": "Python 3",
   "language": "python",
   "name": "python3"
  },
  "language_info": {
   "codemirror_mode": {
    "name": "ipython",
    "version": 3
   },
   "file_extension": ".py",
   "mimetype": "text/x-python",
   "name": "python",
   "nbconvert_exporter": "python",
   "pygments_lexer": "ipython3",
   "version": "3.8.6"
  },
  "toc": {
   "base_numbering": 1,
   "nav_menu": {},
   "number_sections": true,
   "sideBar": true,
   "skip_h1_title": false,
   "title_cell": "Table of Contents",
   "title_sidebar": "Contents",
   "toc_cell": false,
   "toc_position": {},
   "toc_section_display": true,
   "toc_window_display": false
  }
 },
 "nbformat": 4,
 "nbformat_minor": 4
}
