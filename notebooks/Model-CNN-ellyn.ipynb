{
 "cells": [
  {
   "cell_type": "markdown",
   "metadata": {},
   "source": [
    "## NYPD Data"
   ]
  },
  {
   "cell_type": "markdown",
   "metadata": {
    "heading_collapsed": true
   },
   "source": [
    "### Imports"
   ]
  },
  {
   "cell_type": "code",
   "execution_count": 39,
   "metadata": {
    "ExecuteTime": {
     "end_time": "2020-12-08T16:20:43.969951Z",
     "start_time": "2020-12-08T16:20:43.960899Z"
    },
    "hidden": true
   },
   "outputs": [],
   "source": [
    "# data import\n",
    "import pickle\n",
    "\n",
    "# data manipulation\n",
    "import numpy as np\n",
    "import pandas as pd\n",
    "from datetime import datetime\n",
    "\n",
    "# plotting\n",
    "import matplotlib.pyplot as plt\n",
    "\n",
    "#gaussian filter\n",
    "from scipy.ndimage import gaussian_filter"
   ]
  },
  {
   "cell_type": "markdown",
   "metadata": {
    "heading_collapsed": true
   },
   "source": [
    "### Data Import"
   ]
  },
  {
   "cell_type": "code",
   "execution_count": 40,
   "metadata": {
    "ExecuteTime": {
     "end_time": "2020-12-08T16:20:47.371723Z",
     "start_time": "2020-12-08T16:20:47.081222Z"
    },
    "hidden": true
   },
   "outputs": [],
   "source": [
    "pickle_path = ('../raw_data/clean-75-precinct.pickle')\n",
    "with open(pickle_path, 'rb') as f:\n",
    "    df = pickle.load(f)"
   ]
  },
  {
   "cell_type": "markdown",
   "metadata": {
    "heading_collapsed": true
   },
   "source": [
    "### Sample Selection"
   ]
  },
  {
   "cell_type": "code",
   "execution_count": 41,
   "metadata": {
    "ExecuteTime": {
     "end_time": "2020-12-08T16:20:50.095343Z",
     "start_time": "2020-12-08T16:20:50.040572Z"
    },
    "hidden": true
   },
   "outputs": [],
   "source": [
    "inf = df['period'] > datetime(2012, 1, 1, 0, 0, 0)\n",
    "sup = df['period'] < datetime(2013, 1, 1, 0, 0, 0)\n",
    "sample = df[ inf & sup ]"
   ]
  },
  {
   "cell_type": "code",
   "execution_count": 42,
   "metadata": {
    "ExecuteTime": {
     "end_time": "2020-12-08T16:20:51.570048Z",
     "start_time": "2020-12-08T16:20:51.560664Z"
    },
    "hidden": true
   },
   "outputs": [
    {
     "data": {
      "text/plain": [
       "(-73.904645897, -73.855902525, 40.607512254, 40.691192349)"
      ]
     },
     "execution_count": 42,
     "metadata": {},
     "output_type": "execute_result"
    }
   ],
   "source": [
    "sample['longitude'].min(), sample['longitude'].max(), sample['latitude'].min(), sample['latitude'].max() "
   ]
  },
  {
   "cell_type": "code",
   "execution_count": 43,
   "metadata": {
    "ExecuteTime": {
     "end_time": "2020-12-08T16:20:53.367585Z",
     "start_time": "2020-12-08T16:20:53.343890Z"
    },
    "hidden": true
   },
   "outputs": [],
   "source": [
    "del df"
   ]
  },
  {
   "cell_type": "code",
   "execution_count": 44,
   "metadata": {
    "ExecuteTime": {
     "end_time": "2020-12-08T16:20:54.563223Z",
     "start_time": "2020-12-08T16:20:54.523272Z"
    },
    "hidden": true
   },
   "outputs": [
    {
     "data": {
      "text/plain": [
       "(17143, 20)"
      ]
     },
     "execution_count": 44,
     "metadata": {},
     "output_type": "execute_result"
    }
   ],
   "source": [
    "sample.shape"
   ]
  },
  {
   "cell_type": "markdown",
   "metadata": {
    "heading_collapsed": true
   },
   "source": [
    "### DataGenerator"
   ]
  },
  {
   "cell_type": "code",
   "execution_count": 7,
   "metadata": {
    "ExecuteTime": {
     "end_time": "2020-12-08T16:17:12.267775Z",
     "start_time": "2020-12-08T16:17:12.261876Z"
    },
    "hidden": true
   },
   "outputs": [],
   "source": [
    "# import tensorflow as tf\n",
    "\n",
    "# class CustomDataGenerator(tf.keras.utils.Sequence):\n",
    "#   def __init__(self, df, batch_size=32, shuffle=True, lat_meters=100, lon_meters=100, *args, **kwargs):\n",
    "#     self.df = df\n",
    "#     self.batch_size = batch_size\n",
    "#     self.indices = np.arange(len(self.df))\n",
    "#     self.shuffle = shuffle\n",
    "#     self.lat_meters = lat_meters\n",
    "#     self.lon_meters = lon_meters\n",
    "#     self.on_epoch_end()\n",
    "\n",
    "#   def __len__(self):\n",
    "#     \"\"\"\n",
    "#     Return the number of batches so the generator knows how many batches\n",
    "#     it should generate for each epoch\n",
    "#     \"\"\"\n",
    "#     return len(df) // self.batch_size\n",
    "\n",
    "#   def __getitem__(self, i):\n",
    "#     \"\"\"\n",
    "#     Return the i-th batch\n",
    "#     \"\"\"\n",
    "#     batch_indices = self.indices[i * self.batch_size:(i + 1) * self.batch_size]\n",
    "#     batch = self.df.iloc[batch_indices] \n",
    "#     return self.__get_data(batch)\n",
    "\n",
    "#   def __get_data(self, batch):\n",
    "#     X = from_coord_to_matrix(batch, lat_meters=self.lat_meters, lon_meters=self.lon_meters)\n",
    "#     y = from_coord_to_matrix(batch, lat_meters=self.lat_meters, lon_meters=self.lon_meters) # à changer\n",
    "#     return X, y\n",
    "\n",
    "#   def on_epoch_end(self):\n",
    "#     self.indices = np.arange(len(self.df))\n",
    "#     if self.shuffle == True:\n",
    "#         np.random.shuffle(self.indices)"
   ]
  },
  {
   "cell_type": "code",
   "execution_count": 8,
   "metadata": {
    "ExecuteTime": {
     "end_time": "2020-12-08T16:17:12.288932Z",
     "start_time": "2020-12-08T16:17:12.285003Z"
    },
    "hidden": true
   },
   "outputs": [],
   "source": [
    "# BATCH_SIZE = 2\n",
    "\n",
    "# datagen = CustomDataGenerator(df, batch_size=BATCH_SIZE)\n",
    "# p, q = datagen.__getitem__(3)\n",
    "# print(p.shape)\n",
    "# print(q.shape)"
   ]
  },
  {
   "cell_type": "markdown",
   "metadata": {
    "heading_collapsed": true
   },
   "source": [
    "### Lat - Long to Array"
   ]
  },
  {
   "cell_type": "code",
   "execution_count": 45,
   "metadata": {
    "ExecuteTime": {
     "end_time": "2020-12-08T16:21:01.051187Z",
     "start_time": "2020-12-08T16:21:01.045528Z"
    },
    "hidden": true
   },
   "outputs": [],
   "source": [
    "def from_meters_to_coords(lat_meters, lon_meters):\n",
    "    \"\"\"\n",
    "    gives the latitude and longitude step to use for the grid buckets\n",
    "    lat_meters, lon_meters = lat/lon step\n",
    "    \"\"\"\n",
    "    #Position, decimal degrees\n",
    "    lat = 40\n",
    "    lon = -73\n",
    "\n",
    "    #Earth’s radius, sphere\n",
    "    R=6378137\n",
    "\n",
    "    #offsets in meters\n",
    "    dn = lat_meters\n",
    "    de = lon_meters\n",
    "\n",
    "    #Coordinate offsets in radians\n",
    "    dLat = dn/R\n",
    "    dLon = de/(R*np.cos(np.pi*lat/180))\n",
    "\n",
    "    #OffsetPosition, decimal degrees\n",
    "    latO = dLat * 180/np.pi\n",
    "    lonO = dLon * 180/np.pi \n",
    "\n",
    "    return latO, lonO"
   ]
  },
  {
   "cell_type": "code",
   "execution_count": 46,
   "metadata": {
    "ExecuteTime": {
     "end_time": "2020-12-08T16:21:13.084231Z",
     "start_time": "2020-12-08T16:21:13.049018Z"
    },
    "hidden": true
   },
   "outputs": [],
   "source": [
    "def from_coord_to_matrix(df, lat_meters, lon_meters):\n",
    "    \"\"\"\n",
    "    outputs the 3D matrix of all coordinates for a given bucket height and width in meters\n",
    "    \"\"\"\n",
    "    df = df.copy()\n",
    "    #add 'time_index' column to df\n",
    "    ind = {time: index for index, time in enumerate(np.sort(df['week'].unique()))}\n",
    "    df['time_index'] = df['week'].map(ind)\n",
    "    #initiate matrix\n",
    "    #40.49611539518921, 40.91553277600008, -74.25559136315213,-73.70000906387347) : NYC boundaries\n",
    "    #([40.56952999448672, 40.73912795313436],[-74.04189660705046, -73.83355923946421]) : brooklyn boundaries\n",
    "    #[40.6218192717505, 40.6951504231971],[-73.90404639808888, -73.83559344190869]) :precinct 75 boundaries\n",
    "    # Where do you start\n",
    "    # grid_offset = np.array([-40.691192349, -73.904645897, 0])\n",
    "    grid_offset = np.array([ -df['latitude'].max(), df['longitude'].min(), 0 ])\n",
    "    #from meters to lat/lon step\n",
    "    lat_spacing, lon_spacing = from_meters_to_coords(lat_meters, lon_meters )\n",
    "    grid_spacing = np.array([lat_spacing , lon_spacing,1]) # What's the space you consider (euclidian here)\n",
    "    #get points coordinates\n",
    "    coords = np.array([( -lat, lon,t_ind) for lat, lon,t_ind \\\n",
    "                   in zip(df['latitude'],df['longitude'],df['time_index'])])\n",
    "    # Convert point to index\n",
    "    indexes = np.round((coords - grid_offset)/grid_spacing).astype('int')\n",
    "    X = indexes[:,0]\n",
    "    Y = indexes[:,1]\n",
    "    Z = indexes[:,2]\n",
    "    #virgin matrix\n",
    "    a = np.zeros((X.max()+1, Y.max()+1, Z.max()+1))\n",
    "    a[X, Y, Z]=1\n",
    "    return a, a.shape[0], a.shape[1]"
   ]
  },
  {
   "cell_type": "code",
   "execution_count": 47,
   "metadata": {
    "ExecuteTime": {
     "end_time": "2020-12-08T16:21:14.771510Z",
     "start_time": "2020-12-08T16:21:14.621963Z"
    },
    "hidden": true
   },
   "outputs": [],
   "source": [
    "sample['week'] = sample['period'].apply(lambda x: int(x.strftime('%V')))"
   ]
  },
  {
   "cell_type": "code",
   "execution_count": 48,
   "metadata": {
    "ExecuteTime": {
     "end_time": "2020-12-08T16:21:16.614236Z",
     "start_time": "2020-12-08T16:21:16.561866Z"
    },
    "hidden": true
   },
   "outputs": [],
   "source": [
    "img, lat_size, lon_size = from_coord_to_matrix(sample, 15,10)"
   ]
  },
  {
   "cell_type": "code",
   "execution_count": 49,
   "metadata": {
    "ExecuteTime": {
     "end_time": "2020-12-08T16:21:17.874048Z",
     "start_time": "2020-12-08T16:21:17.866815Z"
    },
    "hidden": true
   },
   "outputs": [
    {
     "data": {
      "text/plain": [
       "622"
      ]
     },
     "execution_count": 49,
     "metadata": {},
     "output_type": "execute_result"
    }
   ],
   "source": [
    "lat_size"
   ]
  },
  {
   "cell_type": "code",
   "execution_count": 50,
   "metadata": {
    "ExecuteTime": {
     "end_time": "2020-12-08T16:21:19.341901Z",
     "start_time": "2020-12-08T16:21:19.331507Z"
    },
    "hidden": true
   },
   "outputs": [
    {
     "data": {
      "text/plain": [
       "417"
      ]
     },
     "execution_count": 50,
     "metadata": {},
     "output_type": "execute_result"
    }
   ],
   "source": [
    "lon_size"
   ]
  },
  {
   "cell_type": "code",
   "execution_count": 51,
   "metadata": {
    "ExecuteTime": {
     "end_time": "2020-12-08T16:21:21.084188Z",
     "start_time": "2020-12-08T16:21:21.071451Z"
    },
    "hidden": true
   },
   "outputs": [
    {
     "data": {
      "text/plain": [
       "(622, 417, 52)"
      ]
     },
     "execution_count": 51,
     "metadata": {},
     "output_type": "execute_result"
    }
   ],
   "source": [
    "img.shape"
   ]
  },
  {
   "cell_type": "code",
   "execution_count": 17,
   "metadata": {
    "ExecuteTime": {
     "end_time": "2020-12-08T16:17:14.285132Z",
     "start_time": "2020-12-08T16:17:12.665918Z"
    },
    "hidden": true
   },
   "outputs": [
    {
     "data": {
      "image/png": "[encoded data removed]",
      "text/plain": [
       "<Figure size 2160x2160 with 1 Axes>"
      ]
     },
     "metadata": {
      "needs_background": "light"
     },
     "output_type": "display_data"
    }
   ],
   "source": [
    "plt.figure(figsize=(30, 30))\n",
    "\n",
    "plt.imshow(img[:,:,10], cmap='gray');"
   ]
  },
  {
   "cell_type": "markdown",
   "metadata": {
    "heading_collapsed": true
   },
   "source": [
    "### Plotting Array (with and w/o Gaussian filter)"
   ]
  },
  {
   "cell_type": "code",
   "execution_count": 18,
   "metadata": {
    "ExecuteTime": {
     "end_time": "2020-12-08T16:17:14.387520Z",
     "start_time": "2020-12-08T16:17:14.336453Z"
    },
    "hidden": true
   },
   "outputs": [],
   "source": [
    "#plt.figure(figsize=(5, 5))\n",
    "#plt.imshow(img[3], cmap='gray');"
   ]
  },
  {
   "cell_type": "code",
   "execution_count": 19,
   "metadata": {
    "ExecuteTime": {
     "end_time": "2020-12-08T16:17:14.450465Z",
     "start_time": "2020-12-08T16:17:14.430065Z"
    },
    "hidden": true
   },
   "outputs": [],
   "source": [
    "# crime \n",
    "# sur 500m de chaque cote, 1 semaine a se deteriorer, 168h/2 (84t)\n",
    "# 25 y \n",
    "# 50x\n"
   ]
  },
  {
   "cell_type": "code",
   "execution_count": 52,
   "metadata": {
    "ExecuteTime": {
     "end_time": "2020-12-08T16:21:53.897777Z",
     "start_time": "2020-12-08T16:21:53.245706Z"
    },
    "hidden": true
   },
   "outputs": [],
   "source": [
    "img3D_conv = gaussian_filter(img, sigma=(1,1,3))"
   ]
  },
  {
   "cell_type": "code",
   "execution_count": 53,
   "metadata": {
    "ExecuteTime": {
     "end_time": "2020-12-08T16:21:56.026271Z",
     "start_time": "2020-12-08T16:21:55.650116Z"
    },
    "hidden": true
   },
   "outputs": [
    {
     "data": {
      "image/png": "[encoded data removed]",
      "text/plain": [
       "<Figure size 720x720 with 1 Axes>"
      ]
     },
     "metadata": {
      "needs_background": "light"
     },
     "output_type": "display_data"
    }
   ],
   "source": [
    "plt.figure(figsize=(10, 10))\n",
    "\n",
    "plt.imshow(img3D_conv[:,:,4], cmap='gray');"
   ]
  },
  {
   "cell_type": "markdown",
   "metadata": {},
   "source": [
    "### Splitting into X and y"
   ]
  },
  {
   "cell_type": "code",
   "execution_count": 54,
   "metadata": {
    "ExecuteTime": {
     "end_time": "2020-12-08T16:21:59.708502Z",
     "start_time": "2020-12-08T16:21:59.696764Z"
    }
   },
   "outputs": [],
   "source": [
    "def stacking(window, lat_step, lon_step, time_step):\n",
    "    grid_offset = np.array([0,0,0]) # Where do you start\n",
    "    #new steps from precise grid\n",
    "    grid_spacing = np.array([lat_step , lon_step, time_step]) \n",
    "    #get points coordinates\n",
    "    coords = np.argwhere(window)\n",
    "    flat = window.flatten()\n",
    "    values = flat[flat !=0]\n",
    "    # Convert point to index\n",
    "    indexes = np.round((coords - grid_offset)/grid_spacing).astype('int')\n",
    "    X = indexes[:,0] \n",
    "    Y = indexes[:,1] \n",
    "    Z = indexes[:,2]\n",
    "    #virgin matrix\n",
    "    a = np.zeros((X.max()+1, Y.max()+1 ,Z.max()+1))  \n",
    "    for i in range(len(indexes)):\n",
    "        if a[X[i], Y[i], Z[i]] == 0:\n",
    "            a[X[i], Y[i], Z[i]] = values[i]\n",
    "        else:\n",
    "            a[X[i], Y[i], Z[i]] += values[i]\n",
    "    return a"
   ]
  },
  {
   "cell_type": "code",
   "execution_count": 55,
   "metadata": {
    "ExecuteTime": {
     "end_time": "2020-12-08T16:22:01.430349Z",
     "start_time": "2020-12-08T16:22:01.421153Z"
    }
   },
   "outputs": [],
   "source": [
    "def get_observation_target(img3D,\n",
    "                           obs_timeframe,obs_lat,obs_lon, obs_time,\n",
    "                           target_timeframe,  tar_lat,tar_lon, tar_time):\n",
    "    '''\n",
    "    output an observation of x_length consecutive images and the y_length next images as the target\n",
    "    obs_step, obs_timeframe, target_step, target_timeframe : unit = hours\n",
    "    '''\n",
    "    #function from raw to hours\n",
    "    length = obs_timeframe + target_timeframe\n",
    "    position = np.random.randint(0, img3D_conv.shape[2] - length)\n",
    "    subsample = img3D[:, :, position : position + length]\n",
    "    #print(subsample.shape)\n",
    "    observations, targets = np.split(subsample,[obs_timeframe], axis=2) # divide the subsample in X and y\n",
    "    #print(observations.shape)\n",
    "    #print(observations.min(), observations.max())\n",
    "    observation = stacking(observations, obs_lat, obs_lon, obs_time) #get stacked hours for all images\n",
    "#     print(observation.min(), observation.max())\n",
    "    #print (targets.shape)\n",
    "    target = stacking(targets,  tar_lat, tar_lon, tar_time )\n",
    "    return observation, target"
   ]
  },
  {
   "cell_type": "code",
   "execution_count": 56,
   "metadata": {
    "ExecuteTime": {
     "end_time": "2020-12-08T16:22:07.869864Z",
     "start_time": "2020-12-08T16:22:03.994606Z"
    }
   },
   "outputs": [],
   "source": [
    "obs_lon = 20 # 20*10m together in lon\n",
    "obs_lat = 10 # 10*15m\n",
    "obs_time = 2 #  2 weeks stacked together\n",
    "obs_tf = 12 # for 12weeks straight as X\n",
    "tar_lon = 20 # 4*10m together in lon\n",
    "tar_lat = 10 # 5*10m\n",
    "tar_time = 2 # 2weeks stacked together\n",
    "tar_tf = 4 # for 4weeks straight as y\n",
    "observation, target = get_observation_target(img3D_conv,\n",
    "                                             obs_tf, obs_lat,obs_lon,  obs_time,\n",
    "                                             tar_tf, tar_lat,tar_lon,  tar_time)\n",
    "\n"
   ]
  },
  {
   "cell_type": "code",
   "execution_count": 57,
   "metadata": {
    "ExecuteTime": {
     "end_time": "2020-12-08T16:22:09.814204Z",
     "start_time": "2020-12-08T16:22:09.791604Z"
    }
   },
   "outputs": [
    {
     "data": {
      "text/plain": [
       "(63, 22, 7)"
      ]
     },
     "execution_count": 57,
     "metadata": {},
     "output_type": "execute_result"
    }
   ],
   "source": [
    "observation.shape"
   ]
  },
  {
   "cell_type": "code",
   "execution_count": 58,
   "metadata": {
    "ExecuteTime": {
     "end_time": "2020-12-08T16:22:11.374785Z",
     "start_time": "2020-12-08T16:22:11.363994Z"
    }
   },
   "outputs": [
    {
     "data": {
      "text/plain": [
       "(38, 22, 3)"
      ]
     },
     "execution_count": 58,
     "metadata": {},
     "output_type": "execute_result"
    }
   ],
   "source": [
    "target.shape"
   ]
  },
  {
   "cell_type": "markdown",
   "metadata": {},
   "source": [
    "### Subsampling to get multiple X and y"
   ]
  },
  {
   "cell_type": "code",
   "execution_count": 59,
   "metadata": {
    "ExecuteTime": {
     "end_time": "2020-12-08T16:22:15.703126Z",
     "start_time": "2020-12-08T16:22:15.695446Z"
    }
   },
   "outputs": [],
   "source": [
    "def get_X_y(img3D_conv, number_of_observations, obs_tf, obs_lat,obs_lon,  obs_time, tar_tf, tar_lat,tar_lon, tar_time):\n",
    "    '''\n",
    "    outputs n observations and their associated targets\n",
    "    '''        \n",
    "    results = np.array([get_observation_target(img3D_conv,\n",
    "                                             obs_tf, obs_lat,obs_lon,  obs_time,\n",
    "                                             tar_tf, tar_lat,tar_lon,  tar_time)\n",
    "         for n in range(number_of_observations)])\n",
    "    X = results[:,0]\n",
    "    y = results[:,1]\n",
    "    return X, y"
   ]
  },
  {
   "cell_type": "code",
   "execution_count": 71,
   "metadata": {
    "ExecuteTime": {
     "end_time": "2020-12-08T16:33:12.295886Z",
     "start_time": "2020-12-08T16:32:06.775909Z"
    }
   },
   "outputs": [],
   "source": [
    "X, y = get_X_y(img3D_conv, 20,obs_tf, obs_lat,obs_lon, obs_time, tar_tf, tar_lat,tar_lon,  tar_time)"
   ]
  },
  {
   "cell_type": "code",
   "execution_count": 29,
   "metadata": {
    "ExecuteTime": {
     "end_time": "2020-12-08T16:18:38.656103Z",
     "start_time": "2020-12-08T16:18:38.554510Z"
    }
   },
   "outputs": [],
   "source": [
    "# del img, img3D_conv, inf, sup, sample"
   ]
  },
  {
   "cell_type": "code",
   "execution_count": 69,
   "metadata": {
    "ExecuteTime": {
     "end_time": "2020-12-08T16:30:47.609327Z",
     "start_time": "2020-12-08T16:30:47.598019Z"
    }
   },
   "outputs": [
    {
     "data": {
      "text/plain": [
       "(20,)"
      ]
     },
     "execution_count": 69,
     "metadata": {},
     "output_type": "execute_result"
    }
   ],
   "source": [
    "X.shape"
   ]
  },
  {
   "cell_type": "code",
   "execution_count": 70,
   "metadata": {
    "ExecuteTime": {
     "end_time": "2020-12-08T16:30:50.379185Z",
     "start_time": "2020-12-08T16:30:50.372200Z"
    }
   },
   "outputs": [
    {
     "data": {
      "text/plain": [
       "(20,)"
      ]
     },
     "execution_count": 70,
     "metadata": {},
     "output_type": "execute_result"
    }
   ],
   "source": [
    "y.shape"
   ]
  },
  {
   "cell_type": "markdown",
   "metadata": {},
   "source": [
    "## Model"
   ]
  },
  {
   "cell_type": "markdown",
   "metadata": {},
   "source": [
    "### Imports"
   ]
  },
  {
   "cell_type": "code",
   "execution_count": 63,
   "metadata": {
    "ExecuteTime": {
     "end_time": "2020-12-08T16:27:11.780438Z",
     "start_time": "2020-12-08T16:27:11.776507Z"
    }
   },
   "outputs": [],
   "source": [
    "# Train, test, split\n",
    "from sklearn.model_selection import train_test_split\n",
    "\n",
    "# Model\n",
    "from tensorflow.keras import models\n",
    "from tensorflow.keras import layers\n",
    "from tensorflow.keras.callbacks import EarlyStopping"
   ]
  },
  {
   "cell_type": "markdown",
   "metadata": {},
   "source": [
    "### Train, test, split"
   ]
  },
  {
   "cell_type": "code",
   "execution_count": 64,
   "metadata": {
    "ExecuteTime": {
     "end_time": "2020-12-08T16:27:14.077374Z",
     "start_time": "2020-12-08T16:27:14.059407Z"
    }
   },
   "outputs": [],
   "source": [
    "X_train, X_test, y_train, y_test = train_test_split(X, y, test_size = 0.2) # need to be applied before gaussian filter"
   ]
  },
  {
   "cell_type": "code",
   "execution_count": 33,
   "metadata": {
    "ExecuteTime": {
     "end_time": "2020-12-08T16:18:45.703243Z",
     "start_time": "2020-12-08T16:18:45.698375Z"
    }
   },
   "outputs": [],
   "source": [
    "# del X,y"
   ]
  },
  {
   "cell_type": "markdown",
   "metadata": {},
   "source": [
    "### Model"
   ]
  },
  {
   "cell_type": "code",
   "execution_count": 72,
   "metadata": {
    "ExecuteTime": {
     "end_time": "2020-12-08T16:34:09.910323Z",
     "start_time": "2020-12-08T16:34:09.900802Z"
    }
   },
   "outputs": [],
   "source": [
    "\n",
    "#CNN: Convolutionnal neural network used to tackle image processing problems => our located & timestamped crimes.\n",
    "#CNN: specific neural network using: convolution, pooling, relu activation and fully connected layer.\n",
    "#Our convolutional layer has a number of filters that perform convolutionnal operation.\n",
    "#Every image is considered as a matrix pixel values.\n",
    "#Considering the following image (give example) whose pixel values are only 0 and 1.\n",
    "#We start from our image pixels, we pass a filter on it (give our filter shape + details) and we get a convolved feature/image (we call it image3D_conv/matrix from the same size as the filter shape.)\n",
    "#Sliding the filter matrix over the matrix and computing the dot product to detect pattern.\n",
    "#Relu layer: Once the feature maps are extracted, the next step is to move them to a ReLU layer.\n",
    "    #The relu layer is the activation function that performs element wise operation, set all negative pixels to 0.introduce non linearity to the network and gives us as an output a rectified feature map.\n",
    "    #Real image is scanned on multiple convolution layers for locating features.\n",
    "    #We get a rectified feature map/img3d_conv\n",
    "\n",
    "#Pooling layer: The rectified feature map/ our img3d_conv goes through a pooling layer. Pooling is a down-sampling operation that reduces the dimensionality of our feature map/our img3d convoluted.\n",
    "#Pooling layer: A pooling layer uses different filters to identify different parts of the image like edges, corners etc.\n",
    "\n",
    "def init_model(x_length, y_length, lat_size, lon_size):\n",
    "    #1.using sequential model from Keras\n",
    "    print('initializing model')\n",
    "    model = models.Sequential()\n",
    "    \n",
    "    #2.This layer creates a convolution kernel that is convolved with the layer input to produce a tensor of outputs.\n",
    "    #relu activation function is used to activate this specific layer. \n",
    "    print('adding conv3D 1')\n",
    "    model.add(layers.Conv3D(64, kernel_size = 10, activation = 'relu', padding='same',\n",
    "                            input_shape = (lat_size, lon_size, x_length, 1)))\n",
    "    \n",
    "    #3.Pooling layer, pooling/reducing the number of parameters.(our feature map/our img3d convoluted) in a smaller matrix with only the max (with a certain filter of a squared shape (for example 2*2))\n",
    "    print('Maxpooling')\n",
    "    model.add(layers.MaxPooling3D(2))\n",
    "    \n",
    "    \n",
    "    #4.Flattening: process of converting all the resultant 3D dimensional array from our max pooled feature map/img3Dconv&pooled into a single long continuous linear vector.\n",
    "    # We get back a flattened matrix.     \n",
    "    print('flattening')\n",
    "    model.add(layers.Flatten())\n",
    "    \n",
    "    # 5.hidden layers\n",
    "    print('adding dense layer 1')\n",
    "    model.add(layers.Dense(lat_size, activation = 'relu'))\n",
    "    \n",
    "    #6.hidden layers\n",
    "    print('adding dense layer 2')\n",
    "    model.add(layers.Dense((lat_size * lon_size)/ 2, activation = 'relu'))\n",
    "    \n",
    "    #7.hidden layers\n",
    "    print('adding dense layer 3')\n",
    "    model.add(layers.Dense(lat_size * lon_size, activation = 'relu')) \n",
    "    \n",
    "    #8. hidden layers\n",
    "    print('adding dense layer 4')\n",
    "    model.add(layers.Dense(lat_size * lon_size * y_length/2, activation = 'relu'))\n",
    "    \n",
    "    # Used in case of overfitting (drop 50% des neurones)\n",
    "    #     print('adding dense layer 2')\n",
    "    #     model.add(layers.Dropout(rate=0.5))\n",
    "\n",
    "    \n",
    "    #Fully connecting layer is our final output layer. Autant de neurone que de neurones dans reshape. Chaque neurone porte l'info finale.\n",
    "    print('adding final dense layer')\n",
    "    model.add(layers.Dense(y_length * lat_size * lon_size, activation = 'relu'))\n",
    "    \n",
    "    #reshape du fully conencting layer pour revenir a une same size\n",
    "    print('Reshaping')\n",
    "    model.add(layers.Reshape((lat_size, lon_size, y_length)))\n",
    "    \n",
    "    print('compiling')\n",
    "    model.compile(loss = 'mse',\n",
    "                  optimizer = 'adam',\n",
    "                  metrics = 'mae')\n",
    "    print('Done !')\n",
    "    \n",
    "    return model"
   ]
  },
  {
   "cell_type": "markdown",
   "metadata": {},
   "source": [
    "### Running Model (Instance, Early Stopping, Fit and Evaluate)"
   ]
  },
  {
   "cell_type": "markdown",
   "metadata": {},
   "source": [
    "**Reminders**\n",
    "\n",
    "**batch_size:** no. of data used to compute error between y_pred and y_true each time weights of neural network updated (use 16 or 32)\n",
    "\n",
    "**epoch:** once all data has been used once to update the weights"
   ]
  },
  {
   "cell_type": "code",
   "execution_count": 73,
   "metadata": {
    "ExecuteTime": {
     "end_time": "2020-12-08T16:34:12.689856Z",
     "start_time": "2020-12-08T16:34:12.588980Z"
    }
   },
   "outputs": [
    {
     "name": "stdout",
     "output_type": "stream",
     "text": [
      "initializing model\n",
      "adding conv3D 1\n"
     ]
    },
    {
     "ename": "TypeError",
     "evalue": "Dimension value must be integer or None or have an __index__ method, got value '()' with type '<class 'tuple'>'",
     "output_type": "error",
     "traceback": [
      "\u001b[0;31m---------------------------------------------------------------------------\u001b[0m",
      "\u001b[0;31mTypeError\u001b[0m                                 Traceback (most recent call last)",
      "\u001b[0;32m<ipython-input-73-88ce123b6bdb>\u001b[0m in \u001b[0;36m<module>\u001b[0;34m\u001b[0m\n\u001b[0;32m----> 1\u001b[0;31m \u001b[0mmodel\u001b[0m \u001b[0;34m=\u001b[0m \u001b[0minit_model\u001b[0m\u001b[0;34m(\u001b[0m\u001b[0mX_train\u001b[0m\u001b[0;34m.\u001b[0m\u001b[0mshape\u001b[0m\u001b[0;34m[\u001b[0m\u001b[0;36m1\u001b[0m\u001b[0;34m:\u001b[0m\u001b[0;34m]\u001b[0m\u001b[0;34m,\u001b[0m\u001b[0my_train\u001b[0m\u001b[0;34m.\u001b[0m\u001b[0mshape\u001b[0m\u001b[0;34m[\u001b[0m\u001b[0;36m1\u001b[0m\u001b[0;34m:\u001b[0m\u001b[0;34m]\u001b[0m\u001b[0;34m,\u001b[0m \u001b[0mlat_size\u001b[0m\u001b[0;34m,\u001b[0m \u001b[0mlon_size\u001b[0m\u001b[0;34m)\u001b[0m\u001b[0;34m\u001b[0m\u001b[0;34m\u001b[0m\u001b[0m\n\u001b[0m",
      "\u001b[0;32m<ipython-input-72-d69f551edf3d>\u001b[0m in \u001b[0;36minit_model\u001b[0;34m(x_length, y_length, lat_size, lon_size)\u001b[0m\n\u001b[1;32m     22\u001b[0m     \u001b[0;31m#relu activation function is used to activate this specific layer.\u001b[0m\u001b[0;34m\u001b[0m\u001b[0;34m\u001b[0m\u001b[0;34m\u001b[0m\u001b[0m\n\u001b[1;32m     23\u001b[0m     \u001b[0mprint\u001b[0m\u001b[0;34m(\u001b[0m\u001b[0;34m'adding conv3D 1'\u001b[0m\u001b[0;34m)\u001b[0m\u001b[0;34m\u001b[0m\u001b[0;34m\u001b[0m\u001b[0m\n\u001b[0;32m---> 24\u001b[0;31m     model.add(layers.Conv3D(64, kernel_size = 10, activation = 'relu', padding='same',\n\u001b[0m\u001b[1;32m     25\u001b[0m                             input_shape = (lat_size, lon_size, x_length, 1)))\n\u001b[1;32m     26\u001b[0m \u001b[0;34m\u001b[0m\u001b[0m\n",
      "\u001b[0;32m~/.pyenv/versions/3.8.5/envs/minority_report/lib/python3.8/site-packages/tensorflow/python/training/tracking/base.py\u001b[0m in \u001b[0;36m_method_wrapper\u001b[0;34m(self, *args, **kwargs)\u001b[0m\n\u001b[1;32m    515\u001b[0m     \u001b[0mself\u001b[0m\u001b[0;34m.\u001b[0m\u001b[0m_self_setattr_tracking\u001b[0m \u001b[0;34m=\u001b[0m \u001b[0;32mFalse\u001b[0m  \u001b[0;31m# pylint: disable=protected-access\u001b[0m\u001b[0;34m\u001b[0m\u001b[0;34m\u001b[0m\u001b[0m\n\u001b[1;32m    516\u001b[0m     \u001b[0;32mtry\u001b[0m\u001b[0;34m:\u001b[0m\u001b[0;34m\u001b[0m\u001b[0;34m\u001b[0m\u001b[0m\n\u001b[0;32m--> 517\u001b[0;31m       \u001b[0mresult\u001b[0m \u001b[0;34m=\u001b[0m \u001b[0mmethod\u001b[0m\u001b[0;34m(\u001b[0m\u001b[0mself\u001b[0m\u001b[0;34m,\u001b[0m \u001b[0;34m*\u001b[0m\u001b[0margs\u001b[0m\u001b[0;34m,\u001b[0m \u001b[0;34m**\u001b[0m\u001b[0mkwargs\u001b[0m\u001b[0;34m)\u001b[0m\u001b[0;34m\u001b[0m\u001b[0;34m\u001b[0m\u001b[0m\n\u001b[0m\u001b[1;32m    518\u001b[0m     \u001b[0;32mfinally\u001b[0m\u001b[0;34m:\u001b[0m\u001b[0;34m\u001b[0m\u001b[0;34m\u001b[0m\u001b[0m\n\u001b[1;32m    519\u001b[0m       \u001b[0mself\u001b[0m\u001b[0;34m.\u001b[0m\u001b[0m_self_setattr_tracking\u001b[0m \u001b[0;34m=\u001b[0m \u001b[0mprevious_value\u001b[0m  \u001b[0;31m# pylint: disable=protected-access\u001b[0m\u001b[0;34m\u001b[0m\u001b[0;34m\u001b[0m\u001b[0m\n",
      "\u001b[0;32m~/.pyenv/versions/3.8.5/envs/minority_report/lib/python3.8/site-packages/tensorflow/python/keras/engine/sequential.py\u001b[0m in \u001b[0;36madd\u001b[0;34m(self, layer)\u001b[0m\n\u001b[1;32m    206\u001b[0m         \u001b[0;32mif\u001b[0m \u001b[0mbatch_shape\u001b[0m\u001b[0;34m:\u001b[0m\u001b[0;34m\u001b[0m\u001b[0;34m\u001b[0m\u001b[0m\n\u001b[1;32m    207\u001b[0m           \u001b[0;31m# Instantiate an input layer.\u001b[0m\u001b[0;34m\u001b[0m\u001b[0;34m\u001b[0m\u001b[0;34m\u001b[0m\u001b[0m\n\u001b[0;32m--> 208\u001b[0;31m           x = input_layer.Input(\n\u001b[0m\u001b[1;32m    209\u001b[0m               batch_shape=batch_shape, dtype=dtype, name=layer.name + '_input')\n\u001b[1;32m    210\u001b[0m           \u001b[0;31m# This will build the current layer\u001b[0m\u001b[0;34m\u001b[0m\u001b[0;34m\u001b[0m\u001b[0;34m\u001b[0m\u001b[0m\n",
      "\u001b[0;32m~/.pyenv/versions/3.8.5/envs/minority_report/lib/python3.8/site-packages/tensorflow/python/keras/engine/input_layer.py\u001b[0m in \u001b[0;36mInput\u001b[0;34m(shape, batch_size, name, dtype, sparse, tensor, ragged, **kwargs)\u001b[0m\n\u001b[1;32m    307\u001b[0m     input_layer_config.update(\n\u001b[1;32m    308\u001b[0m         {'batch_size': batch_size, 'input_shape': shape})\n\u001b[0;32m--> 309\u001b[0;31m   \u001b[0minput_layer\u001b[0m \u001b[0;34m=\u001b[0m \u001b[0mInputLayer\u001b[0m\u001b[0;34m(\u001b[0m\u001b[0;34m**\u001b[0m\u001b[0minput_layer_config\u001b[0m\u001b[0;34m)\u001b[0m\u001b[0;34m\u001b[0m\u001b[0;34m\u001b[0m\u001b[0m\n\u001b[0m\u001b[1;32m    310\u001b[0m \u001b[0;34m\u001b[0m\u001b[0m\n\u001b[1;32m    311\u001b[0m   \u001b[0;31m# Return tensor including `_keras_history`.\u001b[0m\u001b[0;34m\u001b[0m\u001b[0;34m\u001b[0m\u001b[0;34m\u001b[0m\u001b[0m\n",
      "\u001b[0;32m~/.pyenv/versions/3.8.5/envs/minority_report/lib/python3.8/site-packages/tensorflow/python/keras/engine/input_layer.py\u001b[0m in \u001b[0;36m__init__\u001b[0;34m(self, input_shape, batch_size, dtype, input_tensor, sparse, name, ragged, **kwargs)\u001b[0m\n\u001b[1;32m    153\u001b[0m       \u001b[0mgraph\u001b[0m \u001b[0;34m=\u001b[0m \u001b[0mbackend\u001b[0m\u001b[0;34m.\u001b[0m\u001b[0mget_graph\u001b[0m\u001b[0;34m(\u001b[0m\u001b[0;34m)\u001b[0m\u001b[0;34m\u001b[0m\u001b[0;34m\u001b[0m\u001b[0m\n\u001b[1;32m    154\u001b[0m       \u001b[0;32mwith\u001b[0m \u001b[0mgraph\u001b[0m\u001b[0;34m.\u001b[0m\u001b[0mas_default\u001b[0m\u001b[0;34m(\u001b[0m\u001b[0;34m)\u001b[0m\u001b[0;34m:\u001b[0m\u001b[0;34m\u001b[0m\u001b[0;34m\u001b[0m\u001b[0m\n\u001b[0;32m--> 155\u001b[0;31m         input_tensor = backend.placeholder(\n\u001b[0m\u001b[1;32m    156\u001b[0m             \u001b[0mshape\u001b[0m\u001b[0;34m=\u001b[0m\u001b[0mbatch_input_shape\u001b[0m\u001b[0;34m,\u001b[0m\u001b[0;34m\u001b[0m\u001b[0;34m\u001b[0m\u001b[0m\n\u001b[1;32m    157\u001b[0m             \u001b[0mdtype\u001b[0m\u001b[0;34m=\u001b[0m\u001b[0mdtype\u001b[0m\u001b[0;34m,\u001b[0m\u001b[0;34m\u001b[0m\u001b[0;34m\u001b[0m\u001b[0m\n",
      "\u001b[0;32m~/.pyenv/versions/3.8.5/envs/minority_report/lib/python3.8/site-packages/tensorflow/python/keras/backend.py\u001b[0m in \u001b[0;36mplaceholder\u001b[0;34m(shape, ndim, dtype, sparse, name, ragged)\u001b[0m\n\u001b[1;32m   1353\u001b[0m       \u001b[0mx\u001b[0m \u001b[0;34m=\u001b[0m \u001b[0mkeras_tensor\u001b[0m\u001b[0;34m.\u001b[0m\u001b[0mRaggedKerasTensor\u001b[0m\u001b[0;34m(\u001b[0m\u001b[0mspec\u001b[0m\u001b[0;34m,\u001b[0m \u001b[0mname\u001b[0m\u001b[0;34m=\u001b[0m\u001b[0mname\u001b[0m\u001b[0;34m)\u001b[0m\u001b[0;34m\u001b[0m\u001b[0;34m\u001b[0m\u001b[0m\n\u001b[1;32m   1354\u001b[0m     \u001b[0;32melse\u001b[0m\u001b[0;34m:\u001b[0m\u001b[0;34m\u001b[0m\u001b[0;34m\u001b[0m\u001b[0m\n\u001b[0;32m-> 1355\u001b[0;31m       spec = tensor_spec.TensorSpec(\n\u001b[0m\u001b[1;32m   1356\u001b[0m           shape=shape, dtype=dtype, name=name)\n\u001b[1;32m   1357\u001b[0m       \u001b[0mx\u001b[0m \u001b[0;34m=\u001b[0m \u001b[0mkeras_tensor\u001b[0m\u001b[0;34m.\u001b[0m\u001b[0mKerasTensor\u001b[0m\u001b[0;34m(\u001b[0m\u001b[0mspec\u001b[0m\u001b[0;34m,\u001b[0m \u001b[0mname\u001b[0m\u001b[0;34m=\u001b[0m\u001b[0mname\u001b[0m\u001b[0;34m)\u001b[0m\u001b[0;34m\u001b[0m\u001b[0;34m\u001b[0m\u001b[0m\n",
      "\u001b[0;32m~/.pyenv/versions/3.8.5/envs/minority_report/lib/python3.8/site-packages/tensorflow/python/framework/tensor_spec.py\u001b[0m in \u001b[0;36m__init__\u001b[0;34m(self, shape, dtype, name)\u001b[0m\n\u001b[1;32m     49\u001b[0m         \u001b[0;32mnot\u001b[0m \u001b[0mconvertible\u001b[0m \u001b[0mto\u001b[0m \u001b[0ma\u001b[0m\u001b[0;31m \u001b[0m\u001b[0;31m`\u001b[0m\u001b[0mtf\u001b[0m\u001b[0;34m.\u001b[0m\u001b[0mDType\u001b[0m\u001b[0;31m`\u001b[0m\u001b[0;34m.\u001b[0m\u001b[0;34m\u001b[0m\u001b[0;34m\u001b[0m\u001b[0m\n\u001b[1;32m     50\u001b[0m     \"\"\"\n\u001b[0;32m---> 51\u001b[0;31m     \u001b[0mself\u001b[0m\u001b[0;34m.\u001b[0m\u001b[0m_shape\u001b[0m \u001b[0;34m=\u001b[0m \u001b[0mtensor_shape\u001b[0m\u001b[0;34m.\u001b[0m\u001b[0mTensorShape\u001b[0m\u001b[0;34m(\u001b[0m\u001b[0mshape\u001b[0m\u001b[0;34m)\u001b[0m\u001b[0;34m\u001b[0m\u001b[0;34m\u001b[0m\u001b[0m\n\u001b[0m\u001b[1;32m     52\u001b[0m     \u001b[0;32mtry\u001b[0m\u001b[0;34m:\u001b[0m\u001b[0;34m\u001b[0m\u001b[0;34m\u001b[0m\u001b[0m\n\u001b[1;32m     53\u001b[0m       \u001b[0mself\u001b[0m\u001b[0;34m.\u001b[0m\u001b[0m_shape_tuple\u001b[0m \u001b[0;34m=\u001b[0m \u001b[0mtuple\u001b[0m\u001b[0;34m(\u001b[0m\u001b[0mself\u001b[0m\u001b[0;34m.\u001b[0m\u001b[0mshape\u001b[0m\u001b[0;34m.\u001b[0m\u001b[0mas_list\u001b[0m\u001b[0;34m(\u001b[0m\u001b[0;34m)\u001b[0m\u001b[0;34m)\u001b[0m\u001b[0;34m\u001b[0m\u001b[0;34m\u001b[0m\u001b[0m\n",
      "\u001b[0;32m~/.pyenv/versions/3.8.5/envs/minority_report/lib/python3.8/site-packages/tensorflow/python/framework/tensor_shape.py\u001b[0m in \u001b[0;36m__init__\u001b[0;34m(self, dims)\u001b[0m\n\u001b[1;32m    756\u001b[0m     \"\"\"\n\u001b[1;32m    757\u001b[0m     \u001b[0;32mif\u001b[0m \u001b[0misinstance\u001b[0m\u001b[0;34m(\u001b[0m\u001b[0mdims\u001b[0m\u001b[0;34m,\u001b[0m \u001b[0;34m(\u001b[0m\u001b[0mtuple\u001b[0m\u001b[0;34m,\u001b[0m \u001b[0mlist\u001b[0m\u001b[0;34m)\u001b[0m\u001b[0;34m)\u001b[0m\u001b[0;34m:\u001b[0m  \u001b[0;31m# Most common case.\u001b[0m\u001b[0;34m\u001b[0m\u001b[0;34m\u001b[0m\u001b[0m\n\u001b[0;32m--> 758\u001b[0;31m       \u001b[0mself\u001b[0m\u001b[0;34m.\u001b[0m\u001b[0m_dims\u001b[0m \u001b[0;34m=\u001b[0m \u001b[0;34m[\u001b[0m\u001b[0mDimension\u001b[0m\u001b[0;34m(\u001b[0m\u001b[0md\u001b[0m\u001b[0;34m)\u001b[0m \u001b[0;32mfor\u001b[0m \u001b[0md\u001b[0m \u001b[0;32min\u001b[0m \u001b[0mdims\u001b[0m\u001b[0;34m]\u001b[0m\u001b[0;34m\u001b[0m\u001b[0;34m\u001b[0m\u001b[0m\n\u001b[0m\u001b[1;32m    759\u001b[0m     \u001b[0;32melif\u001b[0m \u001b[0mdims\u001b[0m \u001b[0;32mis\u001b[0m \u001b[0;32mNone\u001b[0m\u001b[0;34m:\u001b[0m\u001b[0;34m\u001b[0m\u001b[0;34m\u001b[0m\u001b[0m\n\u001b[1;32m    760\u001b[0m       \u001b[0mself\u001b[0m\u001b[0;34m.\u001b[0m\u001b[0m_dims\u001b[0m \u001b[0;34m=\u001b[0m \u001b[0;32mNone\u001b[0m\u001b[0;34m\u001b[0m\u001b[0;34m\u001b[0m\u001b[0m\n",
      "\u001b[0;32m~/.pyenv/versions/3.8.5/envs/minority_report/lib/python3.8/site-packages/tensorflow/python/framework/tensor_shape.py\u001b[0m in \u001b[0;36m<listcomp>\u001b[0;34m(.0)\u001b[0m\n\u001b[1;32m    756\u001b[0m     \"\"\"\n\u001b[1;32m    757\u001b[0m     \u001b[0;32mif\u001b[0m \u001b[0misinstance\u001b[0m\u001b[0;34m(\u001b[0m\u001b[0mdims\u001b[0m\u001b[0;34m,\u001b[0m \u001b[0;34m(\u001b[0m\u001b[0mtuple\u001b[0m\u001b[0;34m,\u001b[0m \u001b[0mlist\u001b[0m\u001b[0;34m)\u001b[0m\u001b[0;34m)\u001b[0m\u001b[0;34m:\u001b[0m  \u001b[0;31m# Most common case.\u001b[0m\u001b[0;34m\u001b[0m\u001b[0;34m\u001b[0m\u001b[0m\n\u001b[0;32m--> 758\u001b[0;31m       \u001b[0mself\u001b[0m\u001b[0;34m.\u001b[0m\u001b[0m_dims\u001b[0m \u001b[0;34m=\u001b[0m \u001b[0;34m[\u001b[0m\u001b[0mDimension\u001b[0m\u001b[0;34m(\u001b[0m\u001b[0md\u001b[0m\u001b[0;34m)\u001b[0m \u001b[0;32mfor\u001b[0m \u001b[0md\u001b[0m \u001b[0;32min\u001b[0m \u001b[0mdims\u001b[0m\u001b[0;34m]\u001b[0m\u001b[0;34m\u001b[0m\u001b[0;34m\u001b[0m\u001b[0m\n\u001b[0m\u001b[1;32m    759\u001b[0m     \u001b[0;32melif\u001b[0m \u001b[0mdims\u001b[0m \u001b[0;32mis\u001b[0m \u001b[0;32mNone\u001b[0m\u001b[0;34m:\u001b[0m\u001b[0;34m\u001b[0m\u001b[0;34m\u001b[0m\u001b[0m\n\u001b[1;32m    760\u001b[0m       \u001b[0mself\u001b[0m\u001b[0;34m.\u001b[0m\u001b[0m_dims\u001b[0m \u001b[0;34m=\u001b[0m \u001b[0;32mNone\u001b[0m\u001b[0;34m\u001b[0m\u001b[0;34m\u001b[0m\u001b[0m\n",
      "\u001b[0;32m~/.pyenv/versions/3.8.5/envs/minority_report/lib/python3.8/site-packages/tensorflow/python/framework/tensor_shape.py\u001b[0m in \u001b[0;36m__init__\u001b[0;34m(self, value)\u001b[0m\n\u001b[1;32m    201\u001b[0m         \u001b[0mself\u001b[0m\u001b[0;34m.\u001b[0m\u001b[0m_value\u001b[0m \u001b[0;34m=\u001b[0m \u001b[0mint\u001b[0m\u001b[0;34m(\u001b[0m\u001b[0mvalue\u001b[0m\u001b[0;34m.\u001b[0m\u001b[0m__index__\u001b[0m\u001b[0;34m(\u001b[0m\u001b[0;34m)\u001b[0m\u001b[0;34m)\u001b[0m\u001b[0;34m\u001b[0m\u001b[0;34m\u001b[0m\u001b[0m\n\u001b[1;32m    202\u001b[0m       \u001b[0;32mexcept\u001b[0m \u001b[0mAttributeError\u001b[0m\u001b[0;34m:\u001b[0m\u001b[0;34m\u001b[0m\u001b[0;34m\u001b[0m\u001b[0m\n\u001b[0;32m--> 203\u001b[0;31m         six.raise_from(\n\u001b[0m\u001b[1;32m    204\u001b[0m             TypeError(\"Dimension value must be integer or None or have \"\n\u001b[1;32m    205\u001b[0m                       \u001b[0;34m\"an __index__ method, got value '{0!r}' with type '{1!r}'\"\u001b[0m\u001b[0;34m\u001b[0m\u001b[0;34m\u001b[0m\u001b[0m\n",
      "\u001b[0;32m~/.pyenv/versions/3.8.5/envs/minority_report/lib/python3.8/site-packages/six.py\u001b[0m in \u001b[0;36mraise_from\u001b[0;34m(value, from_value)\u001b[0m\n",
      "\u001b[0;31mTypeError\u001b[0m: Dimension value must be integer or None or have an __index__ method, got value '()' with type '<class 'tuple'>'"
     ]
    }
   ],
   "source": [
    "model = init_model(X_train.shape[1:],y_train.shape[1:], lat_size, lon_size)"
   ]
  },
  {
   "cell_type": "code",
   "execution_count": null,
   "metadata": {
    "ExecuteTime": {
     "end_time": "2020-12-08T16:18:47.027656Z",
     "start_time": "2020-12-08T16:17:10.150Z"
    }
   },
   "outputs": [],
   "source": [
    "model.summary()"
   ]
  },
  {
   "cell_type": "code",
   "execution_count": null,
   "metadata": {
    "ExecuteTime": {
     "end_time": "2020-12-08T16:18:47.060554Z",
     "start_time": "2020-12-08T16:17:10.153Z"
    }
   },
   "outputs": [],
   "source": [
    "es = EarlyStopping(patience = 5, restore_best_weights=True)\n",
    "\n",
    "history = model.fit(X_train, y_train,\n",
    "                      batch_size = 32, \n",
    "                      epochs = 2,\n",
    "                      validation_split = 0.3,\n",
    "                      callbacks = es)"
   ]
  },
  {
   "cell_type": "code",
   "execution_count": null,
   "metadata": {
    "ExecuteTime": {
     "end_time": "2020-12-08T16:18:47.065652Z",
     "start_time": "2020-12-08T16:17:10.156Z"
    }
   },
   "outputs": [],
   "source": [
    "history.history.keys()"
   ]
  },
  {
   "cell_type": "code",
   "execution_count": null,
   "metadata": {
    "ExecuteTime": {
     "end_time": "2020-12-08T16:18:47.089666Z",
     "start_time": "2020-12-08T16:17:10.159Z"
    }
   },
   "outputs": [],
   "source": [
    "plt.plot(history.history['val_loss'])"
   ]
  },
  {
   "cell_type": "code",
   "execution_count": null,
   "metadata": {
    "ExecuteTime": {
     "end_time": "2020-12-08T16:18:47.104331Z",
     "start_time": "2020-12-08T16:17:10.162Z"
    }
   },
   "outputs": [],
   "source": [
    "plt.plot(history.history['val_mae'])"
   ]
  },
  {
   "cell_type": "code",
   "execution_count": null,
   "metadata": {
    "ExecuteTime": {
     "end_time": "2020-12-08T16:18:47.133263Z",
     "start_time": "2020-12-08T16:17:10.164Z"
    }
   },
   "outputs": [],
   "source": [
    "print(model.evaluate(X_test, y_test))"
   ]
  },
  {
   "cell_type": "code",
   "execution_count": null,
   "metadata": {
    "ExecuteTime": {
     "end_time": "2020-12-08T16:18:47.136853Z",
     "start_time": "2020-12-08T16:17:10.166Z"
    }
   },
   "outputs": [],
   "source": [
    "y_pred = model.predict(X_test)"
   ]
  },
  {
   "cell_type": "code",
   "execution_count": null,
   "metadata": {
    "ExecuteTime": {
     "end_time": "2020-12-08T16:18:47.141073Z",
     "start_time": "2020-12-08T16:17:10.169Z"
    }
   },
   "outputs": [],
   "source": [
    "y_pred = flatten"
   ]
  },
  {
   "cell_type": "code",
   "execution_count": null,
   "metadata": {
    "ExecuteTime": {
     "end_time": "2020-12-08T16:18:47.150520Z",
     "start_time": "2020-12-08T16:17:10.173Z"
    }
   },
   "outputs": [],
   "source": [
    "y_pred.reshape(y_length, lat_size, lon_size)"
   ]
  },
  {
   "cell_type": "markdown",
   "metadata": {},
   "source": [
    "## From coord to map"
   ]
  },
  {
   "cell_type": "code",
   "execution_count": null,
   "metadata": {
    "ExecuteTime": {
     "end_time": "2020-12-08T16:18:47.162805Z",
     "start_time": "2020-12-08T16:17:10.176Z"
    }
   },
   "outputs": [],
   "source": [
    "def from_matrix_to_coord(matrix, lat_meters, lon_meters):\n",
    "        \"\"\"\n",
    "        gives back the coordinates from a 3D matrix for a given bucket height and width\n",
    "        \"\"\"\n",
    "        results = []\n",
    "        for observation in matrix:\n",
    "            # Where do you start\n",
    "            grid_offset = np.array([0, -40.91553277600008,  -74.25559136315213,])\n",
    "\n",
    "            #from meters to lat/lon step\n",
    "            lat_spacing, lon_spacing = from_meters_to_coords(lat_meters, lon_meters)\n",
    "\n",
    "            # What's the space you consider (euclidian here)\n",
    "            grid_spacing = np.array([1, lat_spacing, lon_spacing])\n",
    "\n",
    "            indexes = np.argwhere(observation)\n",
    "            #print(indexes.shape)\n",
    "            # index : coords de mes crimes dans mon np array\n",
    "            result = grid_offset + indexes * grid_spacing\n",
    "            results.append(result)\n",
    "        return np.array(results)"
   ]
  },
  {
   "cell_type": "code",
   "execution_count": null,
   "metadata": {
    "ExecuteTime": {
     "end_time": "2020-12-08T16:18:47.166240Z",
     "start_time": "2020-12-08T16:17:10.180Z"
    }
   },
   "outputs": [],
   "source": [
    "y_pred_notsure = np.where((y_train>5*10**(-4)) & (y_train<5*10**(-3)), y_train, 0)\n",
    "y_pred_middle = np.where((y_train>5*10**(-3)) & (y_train<1*10**(-2)), y_train, 0)\n",
    "y_pred_sure = np.where(y_train>1*10**(-2), y_train, 0)\n",
    "\n",
    "#y_pred_notsure = np.where((y_pred>5*10**(-3)) & (y_pred<1*10**(-2)), y_pred, 0)\n",
    "#y_pred_middle = np.where((y_pred>1*10**(-2)) & (y_pred<1.8*10**(-2)), y_pred, 0)\n",
    "#y_pred_sure = np.where(y_pred>1.8*10**(-2), y_pred, 0)"
   ]
  },
  {
   "cell_type": "code",
   "execution_count": null,
   "metadata": {
    "ExecuteTime": {
     "end_time": "2020-12-08T16:18:47.168393Z",
     "start_time": "2020-12-08T16:17:10.184Z"
    }
   },
   "outputs": [],
   "source": [
    "coords_not_sure = from_matrix_to_coord(y_pred_notsure, 200, 200)\n",
    "coords_middle = from_matrix_to_coord(y_pred_middle, 200, 200)\n",
    "coords_sure = from_matrix_to_coord(y_pred_sure, 200, 200)"
   ]
  },
  {
   "cell_type": "code",
   "execution_count": null,
   "metadata": {
    "ExecuteTime": {
     "end_time": "2020-12-08T16:18:47.185740Z",
     "start_time": "2020-12-08T16:17:10.186Z"
    }
   },
   "outputs": [],
   "source": [
    "coords_back_not_sure_df = pd.DataFrame(coords_not_sure[0], columns=['image', 'lat', 'lon'])\n",
    "coords_back_not_sure_df['right_lat'] = -coords_back_not_sure_df['lat']\n",
    "\n",
    "coords_middle_df = pd.DataFrame(coords_middle[0], columns=['image', 'lat', 'lon'])\n",
    "coords_middle_df['right_lat'] = -coords_middle_df['lat']\n",
    "\n",
    "coords_back_sure_df = pd.DataFrame(coords_sure[0], columns=['image', 'lat', 'lon'])\n",
    "coords_back_sure_df['right_lat'] = -coords_back_sure_df['lat']"
   ]
  },
  {
   "cell_type": "code",
   "execution_count": null,
   "metadata": {
    "ExecuteTime": {
     "end_time": "2020-12-08T16:18:47.194790Z",
     "start_time": "2020-12-08T16:17:10.188Z"
    }
   },
   "outputs": [],
   "source": [
    "last_image_not_sure = coords_back_not_sure_df[coords_back_not_sure_df['image']==2.0]\n",
    "last_image_middle = coords_middle_df[coords_middle_df['image']==2.0]\n",
    "last_image_sure = coords_back_sure_df[coords_back_sure_df['image']==2.0]"
   ]
  },
  {
   "cell_type": "code",
   "execution_count": null,
   "metadata": {
    "ExecuteTime": {
     "end_time": "2020-12-08T16:18:47.199729Z",
     "start_time": "2020-12-08T16:17:10.191Z"
    }
   },
   "outputs": [],
   "source": [
    "import seaborn as sns"
   ]
  },
  {
   "cell_type": "code",
   "execution_count": null,
   "metadata": {
    "ExecuteTime": {
     "end_time": "2020-12-08T16:18:47.203775Z",
     "start_time": "2020-12-08T16:17:10.195Z"
    }
   },
   "outputs": [],
   "source": [
    "fig, ax = plt.subplots(figsize=(10,10))\n",
    "\n",
    "ax.set_xlim(left=-74.25559136315213, right=-73.70000906387347)\n",
    "ax.set_ylim(bottom = 40.49611539518921, top=40.91553277600008)\n",
    "sns.scatterplot(x='lon', y='right_lat', data=last_image_not_sure, s=2, ax=ax)\n",
    "sns.scatterplot(x='lon', y='right_lat', data=last_image_middle, s=2, ax=ax)\n",
    "sns.scatterplot(x='lon', y='right_lat', data=last_image_sure, s=2, ax=ax)\n",
    "plt.legend()"
   ]
  },
  {
   "cell_type": "code",
   "execution_count": null,
   "metadata": {
    "ExecuteTime": {
     "end_time": "2020-12-08T16:18:47.211595Z",
     "start_time": "2020-12-08T16:17:10.197Z"
    }
   },
   "outputs": [],
   "source": [
    "#modèle clairement pourri car il indique des crimes sur staten island\n",
    "#voir baseline modèle (on est en dessous)"
   ]
  },
  {
   "cell_type": "code",
   "execution_count": null,
   "metadata": {},
   "outputs": [],
   "source": []
  }
 ],
 "metadata": {
  "kernelspec": {
   "display_name": "Python 3",
   "language": "python",
   "name": "python3"
  },
  "language_info": {
   "codemirror_mode": {
    "name": "ipython",
    "version": 3
   },
   "file_extension": ".py",
   "mimetype": "text/x-python",
   "name": "python",
   "nbconvert_exporter": "python",
   "pygments_lexer": "ipython3",
   "version": "3.8.5"
  },
  "toc": {
   "base_numbering": 1,
   "nav_menu": {},
   "number_sections": true,
   "sideBar": true,
   "skip_h1_title": false,
   "title_cell": "Table of Contents",
   "title_sidebar": "Contents",
   "toc_cell": false,
   "toc_position": {},
   "toc_section_display": true,
   "toc_window_display": false
  },
  "varInspector": {
   "cols": {
    "lenName": 16,
    "lenType": 16,
    "lenVar": 40
   },
   "kernels_config": {
    "python": {
     "delete_cmd_postfix": "",
     "delete_cmd_prefix": "del ",
     "library": "var_list.py",
     "varRefreshCmd": "print(var_dic_list())"
    },
    "r": {
     "delete_cmd_postfix": ") ",
     "delete_cmd_prefix": "rm(",
     "library": "var_list.r",
     "varRefreshCmd": "cat(var_dic_list()) "
    }
   },
   "position": {
    "height": "334.85px",
    "left": "880px",
    "right": "20px",
    "top": "16px",
    "width": "350px"
   },
   "types_to_exclude": [
    "module",
    "function",
    "builtin_function_or_method",
    "instance",
    "_Feature"
   ],
   "window_display": false
  }
 },
 "nbformat": 4,
 "nbformat_minor": 4
}
