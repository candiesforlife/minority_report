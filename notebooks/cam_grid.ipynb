{
 "cells": [
  {
   "cell_type": "code",
   "execution_count": 1,
   "metadata": {
    "ExecuteTime": {
     "end_time": "2020-12-04T18:27:58.352048Z",
     "start_time": "2020-12-04T18:27:56.142735Z"
    }
   },
   "outputs": [],
   "source": [
    "from minority_report.clean_data import CleanData\n",
    "from minority_report.scaling import Scaling\n",
    "\n",
    "import pandas as pd\n",
    "import numpy as np\n",
    "from datetime import datetime\n",
    "\n",
    "import matplotlib.pyplot as plt\n",
    "from scipy.ndimage import gaussian_filter\n",
    "\n",
    "#from scipy.interpolate import griddata"
   ]
  },
  {
   "cell_type": "code",
   "execution_count": 2,
   "metadata": {
    "ExecuteTime": {
     "end_time": "2020-12-04T18:28:08.294442Z",
     "start_time": "2020-12-04T18:27:58.631753Z"
    }
   },
   "outputs": [
    {
     "data": {
      "text/html": [
       "<div>\n",
       "<style scoped>\n",
       "    .dataframe tbody tr th:only-of-type {\n",
       "        vertical-align: middle;\n",
       "    }\n",
       "\n",
       "    .dataframe tbody tr th {\n",
       "        vertical-align: top;\n",
       "    }\n",
       "\n",
       "    .dataframe thead th {\n",
       "        text-align: right;\n",
       "    }\n",
       "</style>\n",
       "<table border=\"1\" class=\"dataframe\">\n",
       "  <thead>\n",
       "    <tr style=\"text-align: right;\">\n",
       "      <th></th>\n",
       "      <th>precinct_number</th>\n",
       "      <th>offense_type</th>\n",
       "      <th>crime_completed</th>\n",
       "      <th>offense_level</th>\n",
       "      <th>premise_desc</th>\n",
       "      <th>premise</th>\n",
       "      <th>jurisdiction</th>\n",
       "      <th>park_name</th>\n",
       "      <th>suspect_age</th>\n",
       "      <th>suspect_race</th>\n",
       "      <th>suspect_sex</th>\n",
       "      <th>latitude</th>\n",
       "      <th>longitude</th>\n",
       "      <th>metro</th>\n",
       "      <th>victim_age</th>\n",
       "      <th>victim_race</th>\n",
       "      <th>victim_sex</th>\n",
       "      <th>period</th>\n",
       "      <th>borough</th>\n",
       "      <th>patrol_borough</th>\n",
       "    </tr>\n",
       "  </thead>\n",
       "  <tbody>\n",
       "    <tr>\n",
       "      <th>0</th>\n",
       "      <td>73</td>\n",
       "      <td>OFFENSES AGAINST PUBLIC ADMINI</td>\n",
       "      <td>COMPLETED</td>\n",
       "      <td>MISDEMEANOR</td>\n",
       "      <td>INSIDE</td>\n",
       "      <td>RESIDENCE - PUBLIC HOUSING</td>\n",
       "      <td>N.Y. HOUSING POLICE</td>\n",
       "      <td>NOT PARK</td>\n",
       "      <td>25-44</td>\n",
       "      <td>BLACK</td>\n",
       "      <td>M</td>\n",
       "      <td>40.664239</td>\n",
       "      <td>-73.908425</td>\n",
       "      <td>NOT SUBWAY</td>\n",
       "      <td>&lt;18</td>\n",
       "      <td>BLACK</td>\n",
       "      <td>M</td>\n",
       "      <td>2015-02-11 15:00:00</td>\n",
       "      <td>BROOKLYN</td>\n",
       "      <td>PATROL BORO BKLYN NORTH</td>\n",
       "    </tr>\n",
       "    <tr>\n",
       "      <th>1</th>\n",
       "      <td>69</td>\n",
       "      <td>ASSAULT 3 &amp; RELATED OFFENSES</td>\n",
       "      <td>COMPLETED</td>\n",
       "      <td>MISDEMEANOR</td>\n",
       "      <td>INSIDE</td>\n",
       "      <td>RESIDENCE-HOUSE</td>\n",
       "      <td>N.Y. POLICE DEPT</td>\n",
       "      <td>NOT PARK</td>\n",
       "      <td>UNKNOWN</td>\n",
       "      <td>UNKNOWN</td>\n",
       "      <td>UNKNOWN</td>\n",
       "      <td>40.644590</td>\n",
       "      <td>-73.892672</td>\n",
       "      <td>NOT SUBWAY</td>\n",
       "      <td>45-64</td>\n",
       "      <td>BLACK</td>\n",
       "      <td>F</td>\n",
       "      <td>2012-03-17 10:00:00</td>\n",
       "      <td>BROOKLYN</td>\n",
       "      <td>PATROL BORO BKLYN SOUTH</td>\n",
       "    </tr>\n",
       "    <tr>\n",
       "      <th>2</th>\n",
       "      <td>71</td>\n",
       "      <td>HARRASSMENT 2</td>\n",
       "      <td>COMPLETED</td>\n",
       "      <td>VIOLATION</td>\n",
       "      <td>INSIDE</td>\n",
       "      <td>PUBLIC SCHOOL</td>\n",
       "      <td>N.Y. POLICE DEPT</td>\n",
       "      <td>NOT PARK</td>\n",
       "      <td>&lt;18</td>\n",
       "      <td>BLACK</td>\n",
       "      <td>M</td>\n",
       "      <td>40.658758</td>\n",
       "      <td>-73.942435</td>\n",
       "      <td>NOT SUBWAY</td>\n",
       "      <td>18-24</td>\n",
       "      <td>BLACK</td>\n",
       "      <td>M</td>\n",
       "      <td>2016-10-27 13:00:00</td>\n",
       "      <td>BROOKLYN</td>\n",
       "      <td>PATROL BORO BKLYN SOUTH</td>\n",
       "    </tr>\n",
       "    <tr>\n",
       "      <th>3</th>\n",
       "      <td>112</td>\n",
       "      <td>RAPE</td>\n",
       "      <td>COMPLETED</td>\n",
       "      <td>FELONY</td>\n",
       "      <td>INSIDE</td>\n",
       "      <td>RESIDENCE - APT. HOUSE</td>\n",
       "      <td>N.Y. POLICE DEPT</td>\n",
       "      <td>NOT PARK</td>\n",
       "      <td>25-44</td>\n",
       "      <td>WHITE HISPANIC</td>\n",
       "      <td>M</td>\n",
       "      <td>40.722364</td>\n",
       "      <td>-73.851474</td>\n",
       "      <td>NOT SUBWAY</td>\n",
       "      <td>25-44</td>\n",
       "      <td>WHITE</td>\n",
       "      <td>F</td>\n",
       "      <td>2014-11-27 19:00:00</td>\n",
       "      <td>QUEENS</td>\n",
       "      <td>PATROL BORO QUEENS NORTH</td>\n",
       "    </tr>\n",
       "    <tr>\n",
       "      <th>4</th>\n",
       "      <td>24</td>\n",
       "      <td>GRAND LARCENY</td>\n",
       "      <td>COMPLETED</td>\n",
       "      <td>FELONY</td>\n",
       "      <td>INSIDE</td>\n",
       "      <td>DOCTOR/DENTIST OFFICE</td>\n",
       "      <td>N.Y. POLICE DEPT</td>\n",
       "      <td>NOT PARK</td>\n",
       "      <td>UNKNOWN</td>\n",
       "      <td>UNKNOWN</td>\n",
       "      <td>UNKNOWN</td>\n",
       "      <td>40.793465</td>\n",
       "      <td>-73.968950</td>\n",
       "      <td>NOT SUBWAY</td>\n",
       "      <td>45-64</td>\n",
       "      <td>WHITE</td>\n",
       "      <td>F</td>\n",
       "      <td>2013-12-11 13:00:00</td>\n",
       "      <td>MANHATTAN</td>\n",
       "      <td>PATROL BORO MAN NORTH</td>\n",
       "    </tr>\n",
       "    <tr>\n",
       "      <th>...</th>\n",
       "      <td>...</td>\n",
       "      <td>...</td>\n",
       "      <td>...</td>\n",
       "      <td>...</td>\n",
       "      <td>...</td>\n",
       "      <td>...</td>\n",
       "      <td>...</td>\n",
       "      <td>...</td>\n",
       "      <td>...</td>\n",
       "      <td>...</td>\n",
       "      <td>...</td>\n",
       "      <td>...</td>\n",
       "      <td>...</td>\n",
       "      <td>...</td>\n",
       "      <td>...</td>\n",
       "      <td>...</td>\n",
       "      <td>...</td>\n",
       "      <td>...</td>\n",
       "      <td>...</td>\n",
       "      <td>...</td>\n",
       "    </tr>\n",
       "    <tr>\n",
       "      <th>6983202</th>\n",
       "      <td>109</td>\n",
       "      <td>ASSAULT 3 &amp; RELATED OFFENSES</td>\n",
       "      <td>COMPLETED</td>\n",
       "      <td>MISDEMEANOR</td>\n",
       "      <td>INSIDE</td>\n",
       "      <td>RESIDENCE - APT. HOUSE</td>\n",
       "      <td>N.Y. POLICE DEPT</td>\n",
       "      <td>NOT PARK</td>\n",
       "      <td>25-44</td>\n",
       "      <td>WHITE HISPANIC</td>\n",
       "      <td>M</td>\n",
       "      <td>40.785050</td>\n",
       "      <td>-73.856852</td>\n",
       "      <td>NOT SUBWAY</td>\n",
       "      <td>25-44</td>\n",
       "      <td>ASIAN / PACIFIC ISLANDER</td>\n",
       "      <td>F</td>\n",
       "      <td>2018-12-02 04:00:00</td>\n",
       "      <td>QUEENS</td>\n",
       "      <td>PATROL BORO QUEENS NORTH</td>\n",
       "    </tr>\n",
       "    <tr>\n",
       "      <th>6983203</th>\n",
       "      <td>25</td>\n",
       "      <td>OFF. AGNST PUB ORD SENSBLTY &amp;</td>\n",
       "      <td>COMPLETED</td>\n",
       "      <td>MISDEMEANOR</td>\n",
       "      <td>INSIDE</td>\n",
       "      <td>RESIDENCE - APT. HOUSE</td>\n",
       "      <td>N.Y. POLICE DEPT</td>\n",
       "      <td>NOT PARK</td>\n",
       "      <td>25-44</td>\n",
       "      <td>BLACK</td>\n",
       "      <td>F</td>\n",
       "      <td>40.801717</td>\n",
       "      <td>-73.937283</td>\n",
       "      <td>NOT SUBWAY</td>\n",
       "      <td>25-44</td>\n",
       "      <td>BLACK</td>\n",
       "      <td>M</td>\n",
       "      <td>2018-01-20 00:00:00</td>\n",
       "      <td>MANHATTAN</td>\n",
       "      <td>PATROL BORO MAN NORTH</td>\n",
       "    </tr>\n",
       "    <tr>\n",
       "      <th>6983204</th>\n",
       "      <td>41</td>\n",
       "      <td>CRIMINAL MISCHIEF &amp; RELATED OF</td>\n",
       "      <td>COMPLETED</td>\n",
       "      <td>FELONY</td>\n",
       "      <td>FRONT OF</td>\n",
       "      <td>STREET</td>\n",
       "      <td>N.Y. POLICE DEPT</td>\n",
       "      <td>NOT PARK</td>\n",
       "      <td>UNKNOWN</td>\n",
       "      <td>UNKNOWN</td>\n",
       "      <td>UNKNOWN</td>\n",
       "      <td>40.814612</td>\n",
       "      <td>-73.903637</td>\n",
       "      <td>NOT SUBWAY</td>\n",
       "      <td>25-44</td>\n",
       "      <td>BLACK HISPANIC</td>\n",
       "      <td>F</td>\n",
       "      <td>2018-08-03 22:00:00</td>\n",
       "      <td>BRONX</td>\n",
       "      <td>PATROL BORO BRONX</td>\n",
       "    </tr>\n",
       "    <tr>\n",
       "      <th>6983205</th>\n",
       "      <td>107</td>\n",
       "      <td>FRAUDS</td>\n",
       "      <td>COMPLETED</td>\n",
       "      <td>MISDEMEANOR</td>\n",
       "      <td>INSIDE</td>\n",
       "      <td>RESIDENCE - APT. HOUSE</td>\n",
       "      <td>N.Y. POLICE DEPT</td>\n",
       "      <td>NOT PARK</td>\n",
       "      <td>UNKNOWN</td>\n",
       "      <td>UNKNOWN</td>\n",
       "      <td>U</td>\n",
       "      <td>40.724699</td>\n",
       "      <td>-73.808549</td>\n",
       "      <td>NOT SUBWAY</td>\n",
       "      <td>18-24</td>\n",
       "      <td>ASIAN / PACIFIC ISLANDER</td>\n",
       "      <td>M</td>\n",
       "      <td>2018-12-10 11:00:00</td>\n",
       "      <td>QUEENS</td>\n",
       "      <td>PATROL BORO QUEENS SOUTH</td>\n",
       "    </tr>\n",
       "    <tr>\n",
       "      <th>6983206</th>\n",
       "      <td>67</td>\n",
       "      <td>GRAND LARCENY OF MOTOR VEHICLE</td>\n",
       "      <td>COMPLETED</td>\n",
       "      <td>FELONY</td>\n",
       "      <td>INSIDE</td>\n",
       "      <td>STORE UNCLASSIFIED</td>\n",
       "      <td>N.Y. POLICE DEPT</td>\n",
       "      <td>NOT PARK</td>\n",
       "      <td>UNKNOWN</td>\n",
       "      <td>UNKNOWN</td>\n",
       "      <td>UNKNOWN</td>\n",
       "      <td>40.650987</td>\n",
       "      <td>-73.935263</td>\n",
       "      <td>NOT SUBWAY</td>\n",
       "      <td>UNKNOWN</td>\n",
       "      <td>UNKNOWN</td>\n",
       "      <td>D</td>\n",
       "      <td>2018-11-15 10:00:00</td>\n",
       "      <td>BROOKLYN</td>\n",
       "      <td>PATROL BORO BKLYN SOUTH</td>\n",
       "    </tr>\n",
       "  </tbody>\n",
       "</table>\n",
       "<p>6416007 rows × 20 columns</p>\n",
       "</div>"
      ],
      "text/plain": [
       "         precinct_number                    offense_type crime_completed  \\\n",
       "0                     73  OFFENSES AGAINST PUBLIC ADMINI       COMPLETED   \n",
       "1                     69    ASSAULT 3 & RELATED OFFENSES       COMPLETED   \n",
       "2                     71                   HARRASSMENT 2       COMPLETED   \n",
       "3                    112                            RAPE       COMPLETED   \n",
       "4                     24                   GRAND LARCENY       COMPLETED   \n",
       "...                  ...                             ...             ...   \n",
       "6983202              109    ASSAULT 3 & RELATED OFFENSES       COMPLETED   \n",
       "6983203               25   OFF. AGNST PUB ORD SENSBLTY &       COMPLETED   \n",
       "6983204               41  CRIMINAL MISCHIEF & RELATED OF       COMPLETED   \n",
       "6983205              107                          FRAUDS       COMPLETED   \n",
       "6983206               67  GRAND LARCENY OF MOTOR VEHICLE       COMPLETED   \n",
       "\n",
       "        offense_level premise_desc                     premise  \\\n",
       "0         MISDEMEANOR       INSIDE  RESIDENCE - PUBLIC HOUSING   \n",
       "1         MISDEMEANOR       INSIDE             RESIDENCE-HOUSE   \n",
       "2           VIOLATION       INSIDE               PUBLIC SCHOOL   \n",
       "3              FELONY       INSIDE      RESIDENCE - APT. HOUSE   \n",
       "4              FELONY       INSIDE       DOCTOR/DENTIST OFFICE   \n",
       "...               ...          ...                         ...   \n",
       "6983202   MISDEMEANOR       INSIDE      RESIDENCE - APT. HOUSE   \n",
       "6983203   MISDEMEANOR       INSIDE      RESIDENCE - APT. HOUSE   \n",
       "6983204        FELONY     FRONT OF                      STREET   \n",
       "6983205   MISDEMEANOR       INSIDE      RESIDENCE - APT. HOUSE   \n",
       "6983206        FELONY       INSIDE          STORE UNCLASSIFIED   \n",
       "\n",
       "                jurisdiction park_name suspect_age    suspect_race  \\\n",
       "0        N.Y. HOUSING POLICE  NOT PARK       25-44           BLACK   \n",
       "1           N.Y. POLICE DEPT  NOT PARK     UNKNOWN         UNKNOWN   \n",
       "2           N.Y. POLICE DEPT  NOT PARK         <18           BLACK   \n",
       "3           N.Y. POLICE DEPT  NOT PARK       25-44  WHITE HISPANIC   \n",
       "4           N.Y. POLICE DEPT  NOT PARK     UNKNOWN         UNKNOWN   \n",
       "...                      ...       ...         ...             ...   \n",
       "6983202     N.Y. POLICE DEPT  NOT PARK       25-44  WHITE HISPANIC   \n",
       "6983203     N.Y. POLICE DEPT  NOT PARK       25-44           BLACK   \n",
       "6983204     N.Y. POLICE DEPT  NOT PARK     UNKNOWN         UNKNOWN   \n",
       "6983205     N.Y. POLICE DEPT  NOT PARK     UNKNOWN         UNKNOWN   \n",
       "6983206     N.Y. POLICE DEPT  NOT PARK     UNKNOWN         UNKNOWN   \n",
       "\n",
       "        suspect_sex   latitude  longitude        metro victim_age  \\\n",
       "0                 M  40.664239 -73.908425  NOT SUBWAY         <18   \n",
       "1           UNKNOWN  40.644590 -73.892672  NOT SUBWAY       45-64   \n",
       "2                 M  40.658758 -73.942435  NOT SUBWAY       18-24   \n",
       "3                 M  40.722364 -73.851474  NOT SUBWAY       25-44   \n",
       "4           UNKNOWN  40.793465 -73.968950  NOT SUBWAY       45-64   \n",
       "...             ...        ...        ...          ...        ...   \n",
       "6983202           M  40.785050 -73.856852  NOT SUBWAY       25-44   \n",
       "6983203           F  40.801717 -73.937283  NOT SUBWAY       25-44   \n",
       "6983204     UNKNOWN  40.814612 -73.903637  NOT SUBWAY       25-44   \n",
       "6983205           U  40.724699 -73.808549  NOT SUBWAY       18-24   \n",
       "6983206     UNKNOWN  40.650987 -73.935263  NOT SUBWAY     UNKNOWN   \n",
       "\n",
       "                      victim_race victim_sex               period    borough  \\\n",
       "0                           BLACK          M  2015-02-11 15:00:00   BROOKLYN   \n",
       "1                           BLACK          F  2012-03-17 10:00:00   BROOKLYN   \n",
       "2                           BLACK          M  2016-10-27 13:00:00   BROOKLYN   \n",
       "3                           WHITE          F  2014-11-27 19:00:00     QUEENS   \n",
       "4                           WHITE          F  2013-12-11 13:00:00  MANHATTAN   \n",
       "...                           ...        ...                  ...        ...   \n",
       "6983202  ASIAN / PACIFIC ISLANDER          F  2018-12-02 04:00:00     QUEENS   \n",
       "6983203                     BLACK          M  2018-01-20 00:00:00  MANHATTAN   \n",
       "6983204            BLACK HISPANIC          F  2018-08-03 22:00:00      BRONX   \n",
       "6983205  ASIAN / PACIFIC ISLANDER          M  2018-12-10 11:00:00     QUEENS   \n",
       "6983206                   UNKNOWN          D  2018-11-15 10:00:00   BROOKLYN   \n",
       "\n",
       "                   patrol_borough  \n",
       "0         PATROL BORO BKLYN NORTH  \n",
       "1         PATROL BORO BKLYN SOUTH  \n",
       "2         PATROL BORO BKLYN SOUTH  \n",
       "3        PATROL BORO QUEENS NORTH  \n",
       "4           PATROL BORO MAN NORTH  \n",
       "...                           ...  \n",
       "6983202  PATROL BORO QUEENS NORTH  \n",
       "6983203     PATROL BORO MAN NORTH  \n",
       "6983204         PATROL BORO BRONX  \n",
       "6983205  PATROL BORO QUEENS SOUTH  \n",
       "6983206   PATROL BORO BKLYN SOUTH  \n",
       "\n",
       "[6416007 rows x 20 columns]"
      ]
     },
     "execution_count": 2,
     "metadata": {},
     "output_type": "execute_result"
    }
   ],
   "source": [
    "df = Scaling()\n",
    "df.load_data()"
   ]
  },
  {
   "cell_type": "code",
   "execution_count": null,
   "metadata": {
    "ExecuteTime": {
     "end_time": "2020-12-04T16:08:34.626754Z",
     "start_time": "2020-12-04T16:08:30.015351Z"
    }
   },
   "outputs": [],
   "source": [
    "#df.data['coord'] = [(lon, lat) for lon, lat in zip(df.data['longitude'], df.data['latitude'])]"
   ]
  },
  {
   "cell_type": "code",
   "execution_count": 3,
   "metadata": {
    "ExecuteTime": {
     "end_time": "2020-12-04T18:28:09.806863Z",
     "start_time": "2020-12-04T18:28:08.577506Z"
    }
   },
   "outputs": [],
   "source": [
    "inf = df.data['period'] > datetime(2016, 10, 1, 0, 0, 0)\n",
    "sup = df.data['period'] < datetime(2016, 11, 1, 0, 0, 0)\n",
    "sample = df.data[ inf & sup ]"
   ]
  },
  {
   "cell_type": "code",
   "execution_count": null,
   "metadata": {
    "ExecuteTime": {
     "end_time": "2020-12-04T16:10:45.863767Z",
     "start_time": "2020-12-04T16:10:45.818537Z"
    }
   },
   "outputs": [],
   "source": [
    "#np.sort(sample['period'].unique())"
   ]
  },
  {
   "cell_type": "code",
   "execution_count": null,
   "metadata": {
    "ExecuteTime": {
     "end_time": "2020-12-04T18:05:25.033118Z",
     "start_time": "2020-12-04T18:05:24.950897Z"
    }
   },
   "outputs": [],
   "source": [
    "ind = {time:index for index,time in enumerate(np.sort(sample['period'].unique()))}\n",
    "\n",
    "sample['time_index'] = sample['period'].map(ind)"
   ]
  },
  {
   "cell_type": "code",
   "execution_count": null,
   "metadata": {
    "ExecuteTime": {
     "end_time": "2020-12-04T16:21:05.065563Z",
     "start_time": "2020-12-04T16:21:05.036116Z"
    }
   },
   "outputs": [],
   "source": [
    "len(sample['time_index'].unique())"
   ]
  },
  {
   "cell_type": "code",
   "execution_count": null,
   "metadata": {
    "ExecuteTime": {
     "end_time": "2020-12-04T18:05:43.949073Z",
     "start_time": "2020-12-04T18:05:43.933514Z"
    }
   },
   "outputs": [],
   "source": [
    "lon = np.array(sample['longitude'])\n",
    "lat = np.array(sample['latitude'])\n",
    "#coord = np.array(sample['coord'])\n",
    "time_index = np.array(sample['time_index'])"
   ]
  },
  {
   "cell_type": "markdown",
   "metadata": {
    "heading_collapsed": true
   },
   "source": [
    "# matlab griddata"
   ]
  },
  {
   "cell_type": "code",
   "execution_count": null,
   "metadata": {
    "ExecuteTime": {
     "end_time": "2020-12-04T15:28:42.701588Z",
     "start_time": "2020-12-04T15:28:42.687014Z"
    },
    "hidden": true
   },
   "outputs": [],
   "source": [
    "X, Y = np.meshgrid([1,2,3], [2,5,6,8])\n",
    "XI,YI = np.meshgrid([1,2,3],[4,5,6,7])"
   ]
  },
  {
   "cell_type": "code",
   "execution_count": null,
   "metadata": {
    "ExecuteTime": {
     "end_time": "2020-12-04T15:29:02.730019Z",
     "start_time": "2020-12-04T15:29:02.710025Z"
    },
    "hidden": true
   },
   "outputs": [],
   "source": [
    "X"
   ]
  },
  {
   "cell_type": "code",
   "execution_count": null,
   "metadata": {
    "ExecuteTime": {
     "end_time": "2020-12-04T15:29:07.024779Z",
     "start_time": "2020-12-04T15:29:06.999764Z"
    },
    "hidden": true
   },
   "outputs": [],
   "source": [
    "Y"
   ]
  },
  {
   "cell_type": "code",
   "execution_count": null,
   "metadata": {
    "ExecuteTime": {
     "end_time": "2020-12-04T15:29:18.067155Z",
     "start_time": "2020-12-04T15:29:18.050684Z"
    },
    "hidden": true
   },
   "outputs": [],
   "source": [
    "XI"
   ]
  },
  {
   "cell_type": "code",
   "execution_count": null,
   "metadata": {
    "ExecuteTime": {
     "end_time": "2020-12-04T15:29:23.490290Z",
     "start_time": "2020-12-04T15:29:23.476772Z"
    },
    "hidden": true
   },
   "outputs": [],
   "source": [
    "YI"
   ]
  },
  {
   "cell_type": "code",
   "execution_count": null,
   "metadata": {
    "ExecuteTime": {
     "end_time": "2020-12-04T15:29:59.116819Z",
     "start_time": "2020-12-04T15:29:59.093942Z"
    },
    "hidden": true
   },
   "outputs": [],
   "source": [
    "test = griddata((X.ravel(),Y.ravel()), (X**2+Y**2).ravel(), (XI, YI))\n",
    "test"
   ]
  },
  {
   "cell_type": "code",
   "execution_count": null,
   "metadata": {
    "ExecuteTime": {
     "end_time": "2020-12-04T15:31:07.944726Z",
     "start_time": "2020-12-04T15:31:07.915064Z"
    },
    "hidden": true
   },
   "outputs": [],
   "source": [
    "(X**2+Y**2).ravel()"
   ]
  },
  {
   "cell_type": "code",
   "execution_count": null,
   "metadata": {
    "hidden": true
   },
   "outputs": [],
   "source": []
  },
  {
   "cell_type": "code",
   "execution_count": null,
   "metadata": {
    "ExecuteTime": {
     "end_time": "2020-12-04T15:50:00.931422Z",
     "start_time": "2020-12-04T15:50:00.923274Z"
    },
    "hidden": true
   },
   "outputs": [],
   "source": [
    "nx, ny = (3, 2)"
   ]
  },
  {
   "cell_type": "code",
   "execution_count": null,
   "metadata": {
    "ExecuteTime": {
     "end_time": "2020-12-04T15:50:09.625186Z",
     "start_time": "2020-12-04T15:50:09.606851Z"
    },
    "hidden": true
   },
   "outputs": [],
   "source": [
    "ny"
   ]
  },
  {
   "cell_type": "code",
   "execution_count": null,
   "metadata": {
    "ExecuteTime": {
     "end_time": "2020-12-04T15:51:09.768556Z",
     "start_time": "2020-12-04T15:51:09.761141Z"
    },
    "hidden": true
   },
   "outputs": [],
   "source": [
    "x = np.linspace(0, 1, nx)\n",
    "\n",
    "y = np.linspace(0, 1, ny)"
   ]
  },
  {
   "cell_type": "code",
   "execution_count": null,
   "metadata": {
    "ExecuteTime": {
     "end_time": "2020-12-04T15:51:13.035261Z",
     "start_time": "2020-12-04T15:51:13.007142Z"
    },
    "hidden": true
   },
   "outputs": [],
   "source": [
    "x"
   ]
  },
  {
   "cell_type": "code",
   "execution_count": null,
   "metadata": {
    "ExecuteTime": {
     "end_time": "2020-12-04T15:51:19.383362Z",
     "start_time": "2020-12-04T15:51:19.366095Z"
    },
    "hidden": true
   },
   "outputs": [],
   "source": [
    "y"
   ]
  },
  {
   "cell_type": "code",
   "execution_count": null,
   "metadata": {
    "hidden": true
   },
   "outputs": [],
   "source": [
    "xv, yv = np.meshgrid(x, y)\n",
    "\n",
    "xv\n",
    "array([[0. , 0.5, 1. ],\n",
    "       [0. , 0.5, 1. ]])\n",
    "\n",
    "yv\n",
    "array([[0.,  0.,  0.],\n",
    "       [1.,  1.,  1.]])\n",
    "\n",
    "xv, yv = np.meshgrid(x, y, sparse=True)  # make sparse output arrays\n",
    "\n",
    "xv\n",
    "array([[0. ,  0.5,  1. ]])\n",
    "\n",
    "yv\n",
    "array([[0.],\n",
    "       [1.]])"
   ]
  },
  {
   "cell_type": "code",
   "execution_count": null,
   "metadata": {
    "hidden": true
   },
   "outputs": [],
   "source": []
  },
  {
   "cell_type": "code",
   "execution_count": null,
   "metadata": {
    "hidden": true
   },
   "outputs": [],
   "source": []
  },
  {
   "cell_type": "code",
   "execution_count": null,
   "metadata": {
    "hidden": true
   },
   "outputs": [],
   "source": []
  },
  {
   "cell_type": "code",
   "execution_count": null,
   "metadata": {
    "hidden": true
   },
   "outputs": [],
   "source": []
  },
  {
   "cell_type": "code",
   "execution_count": null,
   "metadata": {
    "hidden": true
   },
   "outputs": [],
   "source": []
  },
  {
   "cell_type": "code",
   "execution_count": null,
   "metadata": {
    "hidden": true
   },
   "outputs": [],
   "source": []
  },
  {
   "cell_type": "markdown",
   "metadata": {},
   "source": [
    "# Test griddata"
   ]
  },
  {
   "cell_type": "code",
   "execution_count": null,
   "metadata": {
    "ExecuteTime": {
     "end_time": "2020-12-04T16:32:21.385799Z",
     "start_time": "2020-12-04T16:32:21.370306Z"
    }
   },
   "outputs": [],
   "source": [
    "lon_values = np.linspace(-74.25559136315213,-73.70000906387347, 250)\n",
    "lat_values = np.linspace(40.49611539518921, 40.91553277600008, 250)\n",
    "time_values = np.linspace(0, sample.shape[0], sample.shape[0])"
   ]
  },
  {
   "cell_type": "code",
   "execution_count": null,
   "metadata": {
    "ExecuteTime": {
     "end_time": "2020-12-04T16:33:55.161801Z",
     "start_time": "2020-12-04T16:32:23.692447Z"
    }
   },
   "outputs": [],
   "source": [
    "# griddata ( à quelle position je le mets (lon, lat), dans quels arrays je le mets(np.zeros))\n",
    "xq,yq, zq = np.meshgrid(lon_values,lat_values, time_values)\n"
   ]
  },
  {
   "cell_type": "code",
   "execution_count": null,
   "metadata": {
    "ExecuteTime": {
     "end_time": "2020-12-04T16:34:04.629973Z",
     "start_time": "2020-12-04T16:34:04.608137Z"
    }
   },
   "outputs": [],
   "source": [
    "values = np.ones((len(lon)))\n",
    "values"
   ]
  },
  {
   "cell_type": "code",
   "execution_count": null,
   "metadata": {
    "ExecuteTime": {
     "start_time": "2020-12-04T16:34:08.029Z"
    }
   },
   "outputs": [],
   "source": [
    "result = griddata((lon, lat,time_index), values, (xq, yq, zq))"
   ]
  },
  {
   "cell_type": "markdown",
   "metadata": {},
   "source": [
    "# Manually"
   ]
  },
  {
   "cell_type": "code",
   "execution_count": null,
   "metadata": {
    "ExecuteTime": {
     "end_time": "2020-12-04T18:05:35.786587Z",
     "start_time": "2020-12-04T18:05:35.774556Z"
    }
   },
   "outputs": [],
   "source": [
    "grid_offset = np.array([0, -74.25559136315213, 40.49611539518921]) # Where do you start\n",
    "grid_spacing = np.array([1, 0.001, 0.001]) # What's the space you consider (euclidian here)"
   ]
  },
  {
   "cell_type": "code",
   "execution_count": null,
   "metadata": {
    "ExecuteTime": {
     "end_time": "2020-12-04T18:05:38.092450Z",
     "start_time": "2020-12-04T18:05:37.494007Z"
    }
   },
   "outputs": [],
   "source": [
    "# point in continuous coordinate space\n",
    "(x1,y1,z1) = (lon[0], lat[0], time_index[0])\n",
    "(x2,y2,z2) = (lon[1], lat[1], time_index[1])\n",
    "(x3,y3,z3) = (lon[2], lat[2], time_index[2])\n",
    "values = np.array([[x1,y1,z1], [x2,y2,z2], [x3,y3,z3]])\n",
    "print(values)"
   ]
  },
  {
   "cell_type": "code",
   "execution_count": null,
   "metadata": {
    "ExecuteTime": {
     "end_time": "2020-12-04T17:23:37.267505Z",
     "start_time": "2020-12-04T17:23:37.256450Z"
    }
   },
   "outputs": [],
   "source": [
    "# Convert point to index\n",
    "indexes = np.round((values - grid_offset)/grid_spacing).astype('int')\n",
    "indexes"
   ]
  },
  {
   "cell_type": "code",
   "execution_count": null,
   "metadata": {
    "ExecuteTime": {
     "end_time": "2020-12-04T17:23:41.513279Z",
     "start_time": "2020-12-04T17:23:40.969910Z"
    }
   },
   "outputs": [],
   "source": [
    "a = np.zeros((5000,5000, 1000))"
   ]
  },
  {
   "cell_type": "code",
   "execution_count": null,
   "metadata": {
    "ExecuteTime": {
     "end_time": "2020-12-04T17:23:42.908447Z",
     "start_time": "2020-12-04T17:23:42.885659Z"
    }
   },
   "outputs": [],
   "source": [
    "X = indexes[:,0]\n",
    "Y = indexes[:,1]\n",
    "Z = indexes[:,2]\n",
    "X,Y,Z"
   ]
  },
  {
   "cell_type": "code",
   "execution_count": null,
   "metadata": {
    "ExecuteTime": {
     "end_time": "2020-12-04T17:23:44.909302Z",
     "start_time": "2020-12-04T17:23:44.900758Z"
    }
   },
   "outputs": [],
   "source": [
    "a[X,Y,Z]=1"
   ]
  },
  {
   "cell_type": "code",
   "execution_count": null,
   "metadata": {
    "ExecuteTime": {
     "end_time": "2020-12-04T17:48:29.726472Z",
     "start_time": "2020-12-04T17:48:29.650647Z"
    }
   },
   "outputs": [],
   "source": [
    "# point in continuous coordinate space\n",
    "coords = np.array([(t_ind, lon, lat) for t_ind, lon, lat \\\n",
    "                   in zip(sample['time_index'],sample['longitude'],sample['latitude'])])"
   ]
  },
  {
   "cell_type": "code",
   "execution_count": null,
   "metadata": {
    "ExecuteTime": {
     "end_time": "2020-12-04T17:50:33.445765Z",
     "start_time": "2020-12-04T17:50:33.432928Z"
    }
   },
   "outputs": [],
   "source": [
    "coords"
   ]
  },
  {
   "cell_type": "code",
   "execution_count": null,
   "metadata": {
    "ExecuteTime": {
     "end_time": "2020-12-04T17:50:35.088533Z",
     "start_time": "2020-12-04T17:50:35.071246Z"
    }
   },
   "outputs": [],
   "source": [
    "indexes = np.round((coords - grid_offset)/grid_spacing).astype('int')\n",
    "indexes"
   ]
  },
  {
   "cell_type": "code",
   "execution_count": null,
   "metadata": {
    "ExecuteTime": {
     "end_time": "2020-12-04T17:50:38.719615Z",
     "start_time": "2020-12-04T17:50:38.708474Z"
    }
   },
   "outputs": [],
   "source": [
    "indexes[:,0].max(), indexes[:,1].max(), indexes[:,2].max()"
   ]
  },
  {
   "cell_type": "code",
   "execution_count": null,
   "metadata": {
    "ExecuteTime": {
     "end_time": "2020-12-04T17:50:57.329098Z",
     "start_time": "2020-12-04T17:50:57.317625Z"
    }
   },
   "outputs": [],
   "source": [
    "a = np.zeros((indexes[:,0].max()+1, indexes[:,1].max()+1, indexes[:,2].max()+1))"
   ]
  },
  {
   "cell_type": "code",
   "execution_count": null,
   "metadata": {
    "ExecuteTime": {
     "end_time": "2020-12-04T17:51:06.986383Z",
     "start_time": "2020-12-04T17:51:06.974203Z"
    }
   },
   "outputs": [],
   "source": [
    "a.shape"
   ]
  },
  {
   "cell_type": "code",
   "execution_count": null,
   "metadata": {
    "ExecuteTime": {
     "end_time": "2020-12-04T17:41:31.669341Z",
     "start_time": "2020-12-04T17:41:31.654579Z"
    }
   },
   "outputs": [],
   "source": [
    "# Convert back index to grid coordiantes\n",
    "print(grid_offset + indexes * grid_spacing)"
   ]
  },
  {
   "cell_type": "code",
   "execution_count": 27,
   "metadata": {
    "ExecuteTime": {
     "end_time": "2020-12-04T18:59:13.945348Z",
     "start_time": "2020-12-04T18:59:13.926927Z"
    }
   },
   "outputs": [],
   "source": [
    "def from_coord_to_matrix(df):\n",
    "    \n",
    "    #add 'time_index' column to df\n",
    "    ind = {time:index for index,time in enumerate(np.sort(df['period'].unique()))}\n",
    "    df['time_index'] = df['period'].map(ind)\n",
    "    \n",
    "    #initiate matrix\n",
    "    grid_offset = np.array([0, -74.25559136315213, 40.49611539518921]) # Where do you start\n",
    "    grid_spacing = np.array([1, 0.005, 0.005]) # What's the space you consider (euclidian here)\n",
    "    \n",
    "    #get points coordinates\n",
    "    coords = np.array([(t_ind, lon, lat) for t_ind, lon, lat \\\n",
    "                   in zip(df['time_index'],df['longitude'],df['latitude'])])\n",
    "    \n",
    "    # Convert point to index\n",
    "    indexes = np.round((coords - grid_offset)/grid_spacing).astype('int')\n",
    "    \n",
    "    #virgin matrix\n",
    "    a = np.zeros((indexes[:,0].max()+1, indexes[:,1].max()+1, indexes[:,2].max()+1))\n",
    "    Z = indexes[:,0]\n",
    "    X = indexes[:,1]\n",
    "    Y = indexes[:,2]\n",
    "    \n",
    "    a[Z, X, Y]=1\n",
    "    return a"
   ]
  },
  {
   "cell_type": "code",
   "execution_count": 5,
   "metadata": {
    "ExecuteTime": {
     "end_time": "2020-12-04T18:28:22.034027Z",
     "start_time": "2020-12-04T18:28:22.024676Z"
    }
   },
   "outputs": [],
   "source": [
    "def from_matrix_to_coord(indexes):\n",
    "    grid_offset = np.array([0, -74.25559136315213, 40.49611539518921]) # Where do you start\n",
    "    grid_spacing = np.array([1, 0.001, 0.001]) # What's the space you consider (euclidian here)\n",
    "    result = grid_offset + indexes * grid_spacing\n",
    "    return result"
   ]
  },
  {
   "cell_type": "code",
   "execution_count": 28,
   "metadata": {
    "ExecuteTime": {
     "end_time": "2020-12-04T18:59:16.189283Z",
     "start_time": "2020-12-04T18:59:16.036917Z"
    }
   },
   "outputs": [
    {
     "name": "stderr",
     "output_type": "stream",
     "text": [
      "<ipython-input-27-2ed901716581>:5: SettingWithCopyWarning: \n",
      "A value is trying to be set on a copy of a slice from a DataFrame.\n",
      "Try using .loc[row_indexer,col_indexer] = value instead\n",
      "\n",
      "See the caveats in the documentation: https://pandas.pydata.org/pandas-docs/stable/user_guide/indexing.html#returning-a-view-versus-a-copy\n",
      "  df['time_index'] = df['period'].map(ind)\n"
     ]
    }
   ],
   "source": [
    "img = from_coord_to_matrix(sample)"
   ]
  },
  {
   "cell_type": "code",
   "execution_count": null,
   "metadata": {
    "ExecuteTime": {
     "end_time": "2020-12-04T18:23:29.452566Z",
     "start_time": "2020-12-04T18:23:29.437221Z"
    }
   },
   "outputs": [],
   "source": [
    "img[0]"
   ]
  },
  {
   "cell_type": "code",
   "execution_count": 29,
   "metadata": {
    "ExecuteTime": {
     "end_time": "2020-12-04T18:59:20.404111Z",
     "start_time": "2020-12-04T18:59:20.391285Z"
    }
   },
   "outputs": [
    {
     "data": {
      "text/plain": [
       "(743, 112, 84)"
      ]
     },
     "execution_count": 29,
     "metadata": {},
     "output_type": "execute_result"
    }
   ],
   "source": [
    "img.shape"
   ]
  },
  {
   "cell_type": "code",
   "execution_count": 21,
   "metadata": {
    "ExecuteTime": {
     "end_time": "2020-12-04T18:35:25.789561Z",
     "start_time": "2020-12-04T18:35:25.357333Z"
    }
   },
   "outputs": [
    {
     "data": {
      "text/plain": [
       "<matplotlib.image.AxesImage at 0x116870760>"
      ]
     },
     "execution_count": 21,
     "metadata": {},
     "output_type": "execute_result"
    },
    {
     "data": {
      "image/png": "[encoded data removed]",
      "text/plain": [
       "<Figure size 720x720 with 1 Axes>"
      ]
     },
     "metadata": {
      "needs_background": "light"
     },
     "output_type": "display_data"
    }
   ],
   "source": [
    "plt.figure(figsize=(10,10))\n",
    "plt.imshow(img[3], cmap='gray')"
   ]
  },
  {
   "cell_type": "code",
   "execution_count": null,
   "metadata": {
    "ExecuteTime": {
     "end_time": "2020-12-04T17:51:37.109495Z",
     "start_time": "2020-12-04T17:51:37.101083Z"
    }
   },
   "outputs": [],
   "source": [
    "img[0].shape"
   ]
  },
  {
   "cell_type": "code",
   "execution_count": null,
   "metadata": {
    "ExecuteTime": {
     "end_time": "2020-12-04T17:53:41.120174Z",
     "start_time": "2020-12-04T17:53:41.107306Z"
    }
   },
   "outputs": [],
   "source": [
    "img.shape"
   ]
  },
  {
   "cell_type": "code",
   "execution_count": 22,
   "metadata": {
    "ExecuteTime": {
     "end_time": "2020-12-04T18:35:55.877014Z",
     "start_time": "2020-12-04T18:35:35.159916Z"
    }
   },
   "outputs": [],
   "source": [
    "img3D_conv = gaussian_filter(img, sigma=(3,2.5,2.5))\n",
    "\n",
    "plt.figure(figsize=(10,10))\n",
    "plt.imshow(img3D_conv[3], cmap='gray')"
   ]
  },
  {
   "cell_type": "code",
   "execution_count": null,
   "metadata": {
    "ExecuteTime": {
     "end_time": "2020-12-04T17:59:41.324542Z",
     "start_time": "2020-12-04T17:59:35.670612Z"
    }
   },
   "outputs": [],
   "source": [
    "ind = {time:index for index,time in enumerate(np.sort(df.data['period'].unique()))}\n",
    "df.data['time_index'] = df.data['period'].map(ind)"
   ]
  },
  {
   "cell_type": "code",
   "execution_count": null,
   "metadata": {
    "ExecuteTime": {
     "end_time": "2020-12-04T18:00:36.300094Z",
     "start_time": "2020-12-04T17:59:56.450684Z"
    }
   },
   "outputs": [],
   "source": [
    "data_img = from_coord_to_matrix(df.data)"
   ]
  },
  {
   "cell_type": "code",
   "execution_count": null,
   "metadata": {
    "ExecuteTime": {
     "start_time": "2020-12-04T18:00:49.567Z"
    }
   },
   "outputs": [],
   "source": [
    "all_img = gaussian_filter(data_img, sigma=(3,2,2))"
   ]
  }
 ],
 "metadata": {
  "kernelspec": {
   "display_name": "Python 3",
   "language": "python",
   "name": "python3"
  },
  "language_info": {
   "codemirror_mode": {
    "name": "ipython",
    "version": 3
   },
   "file_extension": ".py",
   "mimetype": "text/x-python",
   "name": "python",
   "nbconvert_exporter": "python",
   "pygments_lexer": "ipython3",
   "version": "3.8.5"
  },
  "toc": {
   "base_numbering": 1,
   "nav_menu": {},
   "number_sections": true,
   "sideBar": true,
   "skip_h1_title": false,
   "title_cell": "Table of Contents",
   "title_sidebar": "Contents",
   "toc_cell": false,
   "toc_position": {},
   "toc_section_display": true,
   "toc_window_display": false
  },
  "varInspector": {
   "cols": {
    "lenName": 16,
    "lenType": 16,
    "lenVar": 40
   },
   "kernels_config": {
    "python": {
     "delete_cmd_postfix": "",
     "delete_cmd_prefix": "del ",
     "library": "var_list.py",
     "varRefreshCmd": "print(var_dic_list())"
    },
    "r": {
     "delete_cmd_postfix": ") ",
     "delete_cmd_prefix": "rm(",
     "library": "var_list.r",
     "varRefreshCmd": "cat(var_dic_list()) "
    }
   },
   "types_to_exclude": [
    "module",
    "function",
    "builtin_function_or_method",
    "instance",
    "_Feature"
   ],
   "window_display": false
  }
 },
 "nbformat": 4,
 "nbformat_minor": 4
}
