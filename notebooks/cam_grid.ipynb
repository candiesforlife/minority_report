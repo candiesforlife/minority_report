{
 "cells": [
  {
   "cell_type": "code",
   "execution_count": null,
   "metadata": {
    "ExecuteTime": {
     "end_time": "2020-12-08T11:41:38.958957Z",
     "start_time": "2020-12-08T11:41:35.615674Z"
    }
   },
   "outputs": [],
   "source": [
    "from minority_report.clean_data import CleanData\n",
    "from minority_report.scaling import Scaling\n",
    "\n",
    "import pandas as pd\n",
    "import numpy as np\n",
    "from datetime import datetime\n",
    "\n",
    "import matplotlib.pyplot as plt\n",
    "from scipy.ndimage import gaussian_filter\n",
    "\n",
    "#from scipy.interpolate import griddata"
   ]
  },
  {
   "cell_type": "code",
   "execution_count": null,
   "metadata": {
    "ExecuteTime": {
     "end_time": "2020-12-05T10:16:26.944791Z",
     "start_time": "2020-12-05T10:16:18.192859Z"
    }
   },
   "outputs": [],
   "source": [
    "df = Scaling()\n",
    "df.load_data().head()"
   ]
  },
  {
   "cell_type": "code",
   "execution_count": null,
   "metadata": {
    "ExecuteTime": {
     "end_time": "2020-12-04T16:08:34.626754Z",
     "start_time": "2020-12-04T16:08:30.015351Z"
    }
   },
   "outputs": [],
   "source": [
    "#df.data['coord'] = [(lon, lat) for lon, lat in zip(df.data['longitude'], df.data['latitude'])]"
   ]
  },
  {
   "cell_type": "code",
   "execution_count": null,
   "metadata": {
    "ExecuteTime": {
     "end_time": "2020-12-05T09:39:48.458503Z",
     "start_time": "2020-12-05T09:39:47.288925Z"
    }
   },
   "outputs": [],
   "source": [
    "inf = df.data['period'] > datetime(2016, 10, 1, 0, 0, 0)\n",
    "sup = df.data['period'] < datetime(2016, 11, 1, 0, 0, 0)\n",
    "sample = df.data[ inf & sup ]"
   ]
  },
  {
   "cell_type": "markdown",
   "metadata": {
    "heading_collapsed": true
   },
   "source": [
    "# matlab griddata"
   ]
  },
  {
   "cell_type": "code",
   "execution_count": null,
   "metadata": {
    "ExecuteTime": {
     "end_time": "2020-12-04T16:10:45.863767Z",
     "start_time": "2020-12-04T16:10:45.818537Z"
    },
    "hidden": true
   },
   "outputs": [],
   "source": [
    "#np.sort(sample['period'].unique())"
   ]
  },
  {
   "cell_type": "code",
   "execution_count": null,
   "metadata": {
    "ExecuteTime": {
     "end_time": "2020-12-05T09:09:22.849643Z",
     "start_time": "2020-12-05T09:09:22.808207Z"
    },
    "hidden": true
   },
   "outputs": [],
   "source": [
    "ind = {time:index for index,time in enumerate(np.sort(sample['period'].unique()))}\n",
    "\n",
    "sample['time_index'] = sample['period'].map(ind)"
   ]
  },
  {
   "cell_type": "code",
   "execution_count": null,
   "metadata": {
    "ExecuteTime": {
     "end_time": "2020-12-04T16:21:05.065563Z",
     "start_time": "2020-12-04T16:21:05.036116Z"
    },
    "hidden": true
   },
   "outputs": [],
   "source": [
    "len(sample['time_index'].unique())"
   ]
  },
  {
   "cell_type": "code",
   "execution_count": null,
   "metadata": {
    "ExecuteTime": {
     "end_time": "2020-12-04T18:05:43.949073Z",
     "start_time": "2020-12-04T18:05:43.933514Z"
    },
    "hidden": true
   },
   "outputs": [],
   "source": [
    "lon = np.array(sample['longitude'])\n",
    "lat = np.array(sample['latitude'])\n",
    "#coord = np.array(sample['coord'])\n",
    "time_index = np.array(sample['time_index'])"
   ]
  },
  {
   "cell_type": "code",
   "execution_count": null,
   "metadata": {
    "ExecuteTime": {
     "end_time": "2020-12-04T15:28:42.701588Z",
     "start_time": "2020-12-04T15:28:42.687014Z"
    },
    "hidden": true
   },
   "outputs": [],
   "source": [
    "X, Y = np.meshgrid([1,2,3], [2,5,6,8])\n",
    "XI,YI = np.meshgrid([1,2,3],[4,5,6,7])"
   ]
  },
  {
   "cell_type": "code",
   "execution_count": null,
   "metadata": {
    "ExecuteTime": {
     "end_time": "2020-12-04T15:29:02.730019Z",
     "start_time": "2020-12-04T15:29:02.710025Z"
    },
    "hidden": true
   },
   "outputs": [],
   "source": [
    "X"
   ]
  },
  {
   "cell_type": "code",
   "execution_count": null,
   "metadata": {
    "ExecuteTime": {
     "end_time": "2020-12-04T15:29:07.024779Z",
     "start_time": "2020-12-04T15:29:06.999764Z"
    },
    "hidden": true
   },
   "outputs": [],
   "source": [
    "Y"
   ]
  },
  {
   "cell_type": "code",
   "execution_count": null,
   "metadata": {
    "ExecuteTime": {
     "end_time": "2020-12-04T15:29:18.067155Z",
     "start_time": "2020-12-04T15:29:18.050684Z"
    },
    "hidden": true
   },
   "outputs": [],
   "source": [
    "XI"
   ]
  },
  {
   "cell_type": "code",
   "execution_count": null,
   "metadata": {
    "ExecuteTime": {
     "end_time": "2020-12-04T15:29:23.490290Z",
     "start_time": "2020-12-04T15:29:23.476772Z"
    },
    "hidden": true
   },
   "outputs": [],
   "source": [
    "YI"
   ]
  },
  {
   "cell_type": "code",
   "execution_count": null,
   "metadata": {
    "ExecuteTime": {
     "end_time": "2020-12-04T15:29:59.116819Z",
     "start_time": "2020-12-04T15:29:59.093942Z"
    },
    "hidden": true
   },
   "outputs": [],
   "source": [
    "test = griddata((X.ravel(),Y.ravel()), (X**2+Y**2).ravel(), (XI, YI))\n",
    "test"
   ]
  },
  {
   "cell_type": "code",
   "execution_count": null,
   "metadata": {
    "ExecuteTime": {
     "end_time": "2020-12-04T15:31:07.944726Z",
     "start_time": "2020-12-04T15:31:07.915064Z"
    },
    "hidden": true
   },
   "outputs": [],
   "source": [
    "(X**2+Y**2).ravel()"
   ]
  },
  {
   "cell_type": "code",
   "execution_count": null,
   "metadata": {
    "hidden": true
   },
   "outputs": [],
   "source": []
  },
  {
   "cell_type": "code",
   "execution_count": null,
   "metadata": {
    "ExecuteTime": {
     "end_time": "2020-12-04T15:50:00.931422Z",
     "start_time": "2020-12-04T15:50:00.923274Z"
    },
    "hidden": true
   },
   "outputs": [],
   "source": [
    "nx, ny = (3, 2)"
   ]
  },
  {
   "cell_type": "code",
   "execution_count": null,
   "metadata": {
    "ExecuteTime": {
     "end_time": "2020-12-04T15:50:09.625186Z",
     "start_time": "2020-12-04T15:50:09.606851Z"
    },
    "hidden": true
   },
   "outputs": [],
   "source": [
    "ny"
   ]
  },
  {
   "cell_type": "code",
   "execution_count": null,
   "metadata": {
    "ExecuteTime": {
     "end_time": "2020-12-04T15:51:09.768556Z",
     "start_time": "2020-12-04T15:51:09.761141Z"
    },
    "hidden": true
   },
   "outputs": [],
   "source": [
    "x = np.linspace(0, 1, nx)\n",
    "\n",
    "y = np.linspace(0, 1, ny)"
   ]
  },
  {
   "cell_type": "code",
   "execution_count": null,
   "metadata": {
    "ExecuteTime": {
     "end_time": "2020-12-04T15:51:13.035261Z",
     "start_time": "2020-12-04T15:51:13.007142Z"
    },
    "hidden": true
   },
   "outputs": [],
   "source": [
    "x"
   ]
  },
  {
   "cell_type": "code",
   "execution_count": null,
   "metadata": {
    "ExecuteTime": {
     "end_time": "2020-12-04T15:51:19.383362Z",
     "start_time": "2020-12-04T15:51:19.366095Z"
    },
    "hidden": true
   },
   "outputs": [],
   "source": [
    "y"
   ]
  },
  {
   "cell_type": "code",
   "execution_count": null,
   "metadata": {
    "hidden": true
   },
   "outputs": [],
   "source": [
    "xv, yv = np.meshgrid(x, y)\n",
    "\n",
    "xv\n",
    "array([[0. , 0.5, 1. ],\n",
    "       [0. , 0.5, 1. ]])\n",
    "\n",
    "yv\n",
    "array([[0.,  0.,  0.],\n",
    "       [1.,  1.,  1.]])\n",
    "\n",
    "xv, yv = np.meshgrid(x, y, sparse=True)  # make sparse output arrays\n",
    "\n",
    "xv\n",
    "array([[0. ,  0.5,  1. ]])\n",
    "\n",
    "yv\n",
    "array([[0.],\n",
    "       [1.]])"
   ]
  },
  {
   "cell_type": "code",
   "execution_count": null,
   "metadata": {
    "hidden": true
   },
   "outputs": [],
   "source": []
  },
  {
   "cell_type": "code",
   "execution_count": null,
   "metadata": {
    "hidden": true
   },
   "outputs": [],
   "source": []
  },
  {
   "cell_type": "code",
   "execution_count": null,
   "metadata": {
    "hidden": true
   },
   "outputs": [],
   "source": []
  },
  {
   "cell_type": "code",
   "execution_count": null,
   "metadata": {
    "hidden": true
   },
   "outputs": [],
   "source": []
  },
  {
   "cell_type": "code",
   "execution_count": null,
   "metadata": {
    "hidden": true
   },
   "outputs": [],
   "source": []
  },
  {
   "cell_type": "code",
   "execution_count": null,
   "metadata": {
    "hidden": true
   },
   "outputs": [],
   "source": []
  },
  {
   "cell_type": "markdown",
   "metadata": {
    "heading_collapsed": true
   },
   "source": [
    "# Test griddata"
   ]
  },
  {
   "cell_type": "code",
   "execution_count": null,
   "metadata": {
    "ExecuteTime": {
     "end_time": "2020-12-04T16:32:21.385799Z",
     "start_time": "2020-12-04T16:32:21.370306Z"
    },
    "hidden": true
   },
   "outputs": [],
   "source": [
    "lon_values = np.linspace(-74.25559136315213,-73.70000906387347, 250)\n",
    "lat_values = np.linspace(40.49611539518921, 40.91553277600008, 250)\n",
    "time_values = np.linspace(0, sample.shape[0], sample.shape[0])"
   ]
  },
  {
   "cell_type": "code",
   "execution_count": null,
   "metadata": {
    "ExecuteTime": {
     "end_time": "2020-12-04T16:33:55.161801Z",
     "start_time": "2020-12-04T16:32:23.692447Z"
    },
    "hidden": true
   },
   "outputs": [],
   "source": [
    "# griddata ( à quelle position je le mets (lon, lat), dans quels arrays je le mets(np.zeros))\n",
    "xq,yq, zq = np.meshgrid(lon_values,lat_values, time_values)\n"
   ]
  },
  {
   "cell_type": "code",
   "execution_count": null,
   "metadata": {
    "ExecuteTime": {
     "end_time": "2020-12-04T16:34:04.629973Z",
     "start_time": "2020-12-04T16:34:04.608137Z"
    },
    "hidden": true
   },
   "outputs": [],
   "source": [
    "values = np.ones((len(lon)))\n",
    "values"
   ]
  },
  {
   "cell_type": "code",
   "execution_count": null,
   "metadata": {
    "ExecuteTime": {
     "start_time": "2020-12-04T16:34:08.029Z"
    },
    "hidden": true
   },
   "outputs": [],
   "source": [
    "result = griddata((lon, lat,time_index), values, (xq, yq, zq))"
   ]
  },
  {
   "cell_type": "markdown",
   "metadata": {},
   "source": [
    "# Manually"
   ]
  },
  {
   "cell_type": "markdown",
   "metadata": {},
   "source": [
    "## Bruno example"
   ]
  },
  {
   "cell_type": "code",
   "execution_count": null,
   "metadata": {
    "ExecuteTime": {
     "end_time": "2020-12-08T08:59:21.867662Z",
     "start_time": "2020-12-08T08:59:21.855576Z"
    }
   },
   "outputs": [],
   "source": [
    "grid_offset_example = np.array([0, 0, 0]) # Where do you start\n",
    "grid_spacing_example = np.array([1, 1,1]) # What's the space you consider (euclidian here)"
   ]
  },
  {
   "cell_type": "code",
   "execution_count": null,
   "metadata": {
    "ExecuteTime": {
     "end_time": "2020-12-08T09:00:06.195729Z",
     "start_time": "2020-12-08T09:00:06.157681Z"
    }
   },
   "outputs": [],
   "source": [
    "# point in continuous coordinate space\n",
    "(x1,y1, z1) = (6.778, 9.201, 2.5)\n",
    "(x2,y2, z2) = (1.8, 3.1, 4.8)\n",
    "(x3,y3, z3) = (3.2, 9.01, 3.2)\n",
    "coord = np.array([[x1,y1,z1], [x2,y2,z2], [x3,y3,z3]])\n",
    "values = np.array([1, 2, 3])\n",
    "print(coord)"
   ]
  },
  {
   "cell_type": "code",
   "execution_count": null,
   "metadata": {
    "ExecuteTime": {
     "end_time": "2020-12-08T09:00:15.786762Z",
     "start_time": "2020-12-08T09:00:15.773738Z"
    }
   },
   "outputs": [],
   "source": [
    "# Convert point to index\n",
    "indexes = np.round((coord - grid_offset_example)/grid_spacing_example).astype('int')\n",
    "indexes"
   ]
  },
  {
   "cell_type": "code",
   "execution_count": null,
   "metadata": {
    "ExecuteTime": {
     "end_time": "2020-12-08T09:00:18.173608Z",
     "start_time": "2020-12-08T09:00:18.164474Z"
    }
   },
   "outputs": [],
   "source": [
    "a = np.zeros((indexes[:,0].max()+1,indexes[:,1].max()+1, indexes[:,2].max()+1))"
   ]
  },
  {
   "cell_type": "code",
   "execution_count": null,
   "metadata": {
    "ExecuteTime": {
     "end_time": "2020-12-08T09:00:20.017785Z",
     "start_time": "2020-12-08T09:00:19.987840Z"
    }
   },
   "outputs": [],
   "source": [
    "X = indexes[:,0]\n",
    "Y = indexes[:,1]\n",
    "Z = indexes[:,2]\n",
    "X,Y,Z"
   ]
  },
  {
   "cell_type": "code",
   "execution_count": null,
   "metadata": {
    "ExecuteTime": {
     "end_time": "2020-12-08T09:00:24.540227Z",
     "start_time": "2020-12-08T09:00:24.510708Z"
    },
    "scrolled": true
   },
   "outputs": [],
   "source": [
    "a[X,Y,Z]=values\n",
    "a"
   ]
  },
  {
   "cell_type": "code",
   "execution_count": 5,
   "metadata": {
    "ExecuteTime": {
     "end_time": "2020-12-08T13:03:05.083866Z",
     "start_time": "2020-12-08T13:03:05.066065Z"
    }
   },
   "outputs": [
    {
     "data": {
      "text/plain": [
       "array([[[0., 0., 0., 0., 0.],\n",
       "        [0., 0., 0., 0., 0.],\n",
       "        [0., 0., 0., 0., 0.],\n",
       "        [0., 0., 0., 0., 0.],\n",
       "        [0., 0., 0., 0., 0.]],\n",
       "\n",
       "       [[0., 0., 0., 0., 0.],\n",
       "        [0., 0., 0., 0., 0.],\n",
       "        [0., 0., 4., 1., 0.],\n",
       "        [0., 0., 0., 0., 0.],\n",
       "        [0., 0., 0., 0., 0.]],\n",
       "\n",
       "       [[0., 0., 0., 0., 0.],\n",
       "        [0., 0., 0., 0., 0.],\n",
       "        [0., 0., 0., 0., 0.],\n",
       "        [0., 5., 0., 0., 0.],\n",
       "        [0., 0., 0., 0., 0.]],\n",
       "\n",
       "       [[0., 0., 0., 0., 0.],\n",
       "        [0., 0., 0., 0., 0.],\n",
       "        [0., 0., 0., 0., 0.],\n",
       "        [0., 0., 0., 0., 0.],\n",
       "        [0., 0., 0., 0., 0.]],\n",
       "\n",
       "       [[0., 0., 0., 0., 0.],\n",
       "        [0., 0., 0., 3., 0.],\n",
       "        [0., 0., 0., 0., 0.],\n",
       "        [0., 0., 0., 0., 0.],\n",
       "        [0., 0., 0., 0., 0.]]])"
      ]
     },
     "execution_count": 5,
     "metadata": {},
     "output_type": "execute_result"
    }
   ],
   "source": [
    "b = np.zeros((5, 5, 5))\n",
    "b[1, 2, 3] = 1\n",
    "b[1, 2, 2] = 4\n",
    "b[4, 1, 3] = 3\n",
    "b[2, 3, 1] = 5\n",
    "b"
   ]
  },
  {
   "cell_type": "code",
   "execution_count": 31,
   "metadata": {
    "ExecuteTime": {
     "end_time": "2020-12-08T13:36:42.819836Z",
     "start_time": "2020-12-08T13:36:42.803333Z"
    }
   },
   "outputs": [],
   "source": [
    "grid_offset_2 = np.array([0,0,0]) # Where do you start\n",
    "    \n",
    "#new steps from precise grid\n",
    "grid_spacing_2 = np.array([ 3, 3, 3]) "
   ]
  },
  {
   "cell_type": "code",
   "execution_count": 32,
   "metadata": {
    "ExecuteTime": {
     "end_time": "2020-12-08T13:36:46.435300Z",
     "start_time": "2020-12-08T13:36:46.411266Z"
    }
   },
   "outputs": [
    {
     "data": {
      "text/plain": [
       "array([[1, 2, 2],\n",
       "       [1, 2, 3],\n",
       "       [2, 3, 1],\n",
       "       [4, 1, 3]])"
      ]
     },
     "execution_count": 32,
     "metadata": {},
     "output_type": "execute_result"
    }
   ],
   "source": [
    "#get points coordinates\n",
    "coords = np.argwhere(b)\n",
    "coords"
   ]
  },
  {
   "cell_type": "code",
   "execution_count": 33,
   "metadata": {
    "ExecuteTime": {
     "end_time": "2020-12-08T13:36:48.333164Z",
     "start_time": "2020-12-08T13:36:48.295447Z"
    }
   },
   "outputs": [
    {
     "data": {
      "text/plain": [
       "array([4., 1., 5., 3.])"
      ]
     },
     "execution_count": 33,
     "metadata": {},
     "output_type": "execute_result"
    }
   ],
   "source": [
    "flat = b.flatten()\n",
    "values = flat[flat !=0]\n",
    "values"
   ]
  },
  {
   "cell_type": "code",
   "execution_count": 34,
   "metadata": {
    "ExecuteTime": {
     "end_time": "2020-12-08T13:36:50.261319Z",
     "start_time": "2020-12-08T13:36:50.251914Z"
    }
   },
   "outputs": [],
   "source": [
    "# Convert point to index\n",
    "indexes = np.round((coords - grid_offset_2)/grid_spacing_2).astype('int')\n",
    "X = indexes[:,0] \n",
    "Y = indexes[:,1] \n",
    "Z = indexes[:,2]"
   ]
  },
  {
   "cell_type": "code",
   "execution_count": 35,
   "metadata": {
    "ExecuteTime": {
     "end_time": "2020-12-08T13:36:51.900899Z",
     "start_time": "2020-12-08T13:36:51.889854Z"
    }
   },
   "outputs": [
    {
     "data": {
      "text/plain": [
       "array([0, 0, 1, 1])"
      ]
     },
     "execution_count": 35,
     "metadata": {},
     "output_type": "execute_result"
    }
   ],
   "source": [
    "X"
   ]
  },
  {
   "cell_type": "code",
   "execution_count": 36,
   "metadata": {
    "ExecuteTime": {
     "end_time": "2020-12-08T13:36:53.467216Z",
     "start_time": "2020-12-08T13:36:53.426533Z"
    }
   },
   "outputs": [
    {
     "data": {
      "text/plain": [
       "array([1, 1, 1, 0])"
      ]
     },
     "execution_count": 36,
     "metadata": {},
     "output_type": "execute_result"
    }
   ],
   "source": [
    "Y"
   ]
  },
  {
   "cell_type": "code",
   "execution_count": 37,
   "metadata": {
    "ExecuteTime": {
     "end_time": "2020-12-08T13:36:55.205778Z",
     "start_time": "2020-12-08T13:36:55.193268Z"
    }
   },
   "outputs": [
    {
     "data": {
      "text/plain": [
       "array([1, 1, 0, 1])"
      ]
     },
     "execution_count": 37,
     "metadata": {},
     "output_type": "execute_result"
    }
   ],
   "source": [
    "Z"
   ]
  },
  {
   "cell_type": "code",
   "execution_count": 38,
   "metadata": {
    "ExecuteTime": {
     "end_time": "2020-12-08T13:37:03.030123Z",
     "start_time": "2020-12-08T13:37:03.004274Z"
    }
   },
   "outputs": [],
   "source": [
    "#virgin matrix\n",
    "a = np.zeros((X.max()+1, Y.max()+1 ,Z.max()+1))   "
   ]
  },
  {
   "cell_type": "code",
   "execution_count": 39,
   "metadata": {
    "ExecuteTime": {
     "end_time": "2020-12-08T13:37:05.914445Z",
     "start_time": "2020-12-08T13:37:05.899058Z"
    }
   },
   "outputs": [
    {
     "name": "stdout",
     "output_type": "stream",
     "text": [
      "[[[0. 0.]\n",
      "  [0. 4.]]\n",
      "\n",
      " [[0. 0.]\n",
      "  [0. 0.]]]\n",
      "[[[0. 0.]\n",
      "  [0. 5.]]\n",
      "\n",
      " [[0. 0.]\n",
      "  [0. 0.]]]\n",
      "[[[0. 0.]\n",
      "  [0. 5.]]\n",
      "\n",
      " [[0. 0.]\n",
      "  [5. 0.]]]\n",
      "[[[0. 0.]\n",
      "  [0. 5.]]\n",
      "\n",
      " [[0. 3.]\n",
      "  [5. 0.]]]\n"
     ]
    }
   ],
   "source": [
    "for i in range(len(X)):\n",
    "    if a[X[i], Y[i], Z[i]] == 0:\n",
    "        a[X[i], Y[i], Z[i]] = values[i]\n",
    "    else:\n",
    "        a[X[i], Y[i], Z[i]] += values[i]\n",
    "    print(a)"
   ]
  },
  {
   "cell_type": "code",
   "execution_count": 26,
   "metadata": {
    "ExecuteTime": {
     "end_time": "2020-12-08T13:31:26.559095Z",
     "start_time": "2020-12-08T13:31:26.538033Z"
    }
   },
   "outputs": [
    {
     "data": {
      "text/plain": [
       "array([[[0., 0., 0., 0.],\n",
       "        [0., 0., 0., 0.],\n",
       "        [0., 0., 0., 0.]],\n",
       "\n",
       "       [[0., 0., 0., 0.],\n",
       "        [0., 0., 0., 0.],\n",
       "        [0., 0., 0., 0.]],\n",
       "\n",
       "       [[0., 0., 0., 0.],\n",
       "        [0., 0., 0., 0.],\n",
       "        [0., 0., 0., 0.]]])"
      ]
     },
     "execution_count": 26,
     "metadata": {},
     "output_type": "execute_result"
    }
   ],
   "source": [
    "a"
   ]
  },
  {
   "cell_type": "markdown",
   "metadata": {},
   "source": [
    "## for coordinates"
   ]
  },
  {
   "cell_type": "code",
   "execution_count": null,
   "metadata": {},
   "outputs": [],
   "source": [
    "#40.91553277600008\n",
    "#40.49611539518921\n",
    "#74.25559136315213,-73.70000906387347\n",
    "\n",
    "grid_offset = np.array([0, -40.91553277600008,  -74.25559136315213,]) # Where do you start\n",
    "grid_spacing = np.array([1, 0.005, 0.005]) # What's the space you consider (euclidian here)"
   ]
  },
  {
   "cell_type": "code",
   "execution_count": null,
   "metadata": {
    "ExecuteTime": {
     "end_time": "2020-12-05T09:35:36.771066Z",
     "start_time": "2020-12-05T09:35:36.684936Z"
    }
   },
   "outputs": [],
   "source": [
    "# point in continuous coordinate space\n",
    "coords = np.array([(t_ind, -lat, lon) for t_ind, lat, lon \\\n",
    "                   in zip(sample['time_index'],sample['latitude'],sample['longitude'])])"
   ]
  },
  {
   "cell_type": "code",
   "execution_count": null,
   "metadata": {
    "ExecuteTime": {
     "end_time": "2020-12-05T09:35:39.088682Z",
     "start_time": "2020-12-05T09:35:39.073481Z"
    }
   },
   "outputs": [],
   "source": [
    "coords"
   ]
  },
  {
   "cell_type": "code",
   "execution_count": null,
   "metadata": {
    "ExecuteTime": {
     "end_time": "2020-12-05T09:35:41.309490Z",
     "start_time": "2020-12-05T09:35:41.292848Z"
    },
    "scrolled": true
   },
   "outputs": [],
   "source": [
    "indexes = np.round((coords - grid_offset)/grid_spacing).astype('int')\n",
    "indexes"
   ]
  },
  {
   "cell_type": "code",
   "execution_count": null,
   "metadata": {
    "ExecuteTime": {
     "end_time": "2020-12-05T09:36:47.955145Z",
     "start_time": "2020-12-05T09:36:47.948206Z"
    }
   },
   "outputs": [],
   "source": [
    "Z = indexes[:,0]\n",
    "Y = indexes[:,1]\n",
    "X = indexes[:,2]"
   ]
  },
  {
   "cell_type": "code",
   "execution_count": null,
   "metadata": {},
   "outputs": [],
   "source": [
    "a = np.zeros((indexes[:,0].max()+1, indexes[:,1].max()+1, indexes[:,2].max()+1))"
   ]
  },
  {
   "cell_type": "code",
   "execution_count": null,
   "metadata": {
    "ExecuteTime": {
     "end_time": "2020-12-05T09:36:50.358041Z",
     "start_time": "2020-12-05T09:36:50.319128Z"
    }
   },
   "outputs": [],
   "source": [
    "a[Z, Y, X]=1"
   ]
  },
  {
   "cell_type": "code",
   "execution_count": null,
   "metadata": {
    "ExecuteTime": {
     "end_time": "2020-12-05T09:38:26.496560Z",
     "start_time": "2020-12-05T09:38:26.120896Z"
    }
   },
   "outputs": [],
   "source": [
    "plt.figure(figsize=(10,10))\n",
    "plt.imshow(a[1], cmap='gray')"
   ]
  },
  {
   "cell_type": "code",
   "execution_count": null,
   "metadata": {
    "ExecuteTime": {
     "end_time": "2020-12-04T17:51:06.986383Z",
     "start_time": "2020-12-04T17:51:06.974203Z"
    }
   },
   "outputs": [],
   "source": [
    "a"
   ]
  },
  {
   "cell_type": "code",
   "execution_count": null,
   "metadata": {
    "ExecuteTime": {
     "end_time": "2020-12-04T17:41:31.669341Z",
     "start_time": "2020-12-04T17:41:31.654579Z"
    }
   },
   "outputs": [],
   "source": [
    "# Convert back index to grid coordiantes\n",
    "print(grid_offset + indexes * grid_spacing)"
   ]
  },
  {
   "cell_type": "markdown",
   "metadata": {},
   "source": [
    "## function"
   ]
  },
  {
   "cell_type": "code",
   "execution_count": null,
   "metadata": {
    "ExecuteTime": {
     "end_time": "2020-12-05T10:34:58.902176Z",
     "start_time": "2020-12-05T10:34:58.892364Z"
    }
   },
   "outputs": [],
   "source": [
    "def from_meters_to_coords(lat_meters, lon_meters):\n",
    "    #Position, decimal degrees\n",
    "    lat = 40\n",
    "    lon = -73\n",
    "\n",
    "    #Earth’s radius, sphere\n",
    "    R=6378137\n",
    "\n",
    "    #offsets in meters\n",
    "    dn = lat_meters\n",
    "    de = lon_meters\n",
    "\n",
    "    #Coordinate offsets in radians\n",
    "    dLat = dn/R\n",
    "    dLon = de/(R*np.cos(np.pi*lat/180))\n",
    "\n",
    "    #OffsetPosition, decimal degrees\n",
    "    latO = dLat * 180/np.pi\n",
    "    lonO = dLon * 180/np.pi \n",
    "    return latO, lonO"
   ]
  },
  {
   "cell_type": "code",
   "execution_count": null,
   "metadata": {
    "ExecuteTime": {
     "end_time": "2020-12-05T10:34:38.322302Z",
     "start_time": "2020-12-05T10:34:38.306086Z"
    }
   },
   "outputs": [],
   "source": [
    "def from_coord_to_matrix(df, lat_meters, lon_meters, return_spacing=False):\n",
    "    \"\"\"\n",
    "    outputs the 3D matrix of all coordinates for a given bucket height and width\n",
    "    \"\"\"\n",
    "    df=df.copy()\n",
    "    #add 'time_index' column to df\n",
    "    ind = {time:index for index,time in enumerate(np.sort(df['period'].unique()))}\n",
    "    df['time_index'] = df['period'].map(ind)\n",
    "    \n",
    "    #initiate matrix\n",
    "    grid_offset = np.array([0, -40.91553277600008,  -74.25559136315213,]) # Where do you start\n",
    "    lat_spacing, lon_spacing = from_meters_to_coords(lat_meters, lon_meters )\n",
    "    grid_spacing = np.array([1, lat_spacing , lon_spacing]) # What's the space you consider (euclidian here)\n",
    "     \n",
    "    \n",
    "    #get points coordinates\n",
    "    coords = np.array([(t_ind, -lat, lon) for t_ind, lat, lon \\\n",
    "                   in zip(df['time_index'],df['latitude'],df['longitude'])])\n",
    "    \n",
    "    \n",
    "    # Convert point to index\n",
    "    indexes = np.round((coords - grid_offset)/grid_spacing).astype('int')\n",
    "    Z = indexes[:,0]\n",
    "    Y = indexes[:,1]\n",
    "    X = indexes[:,2]\n",
    "    \n",
    "    #virgin matrix\n",
    "    a = np.zeros((Z.max()+1, Y.max()+1, X.max()+1))\n",
    "   \n",
    "    \n",
    "    a[Z, Y, X]=1\n",
    "    \n",
    "    if return_spacing:\n",
    "        return a, lat_spacing, lon_spacing\n",
    "    \n",
    "    return a"
   ]
  },
  {
   "cell_type": "code",
   "execution_count": null,
   "metadata": {
    "ExecuteTime": {
     "end_time": "2020-12-05T10:12:47.571533Z",
     "start_time": "2020-12-05T10:12:47.564079Z"
    }
   },
   "outputs": [],
   "source": [
    "def from_matrix_to_coord(indexes, lat_spacing, lon_spacing):\n",
    "    grid_offset = np.array([0, -40.91553277600008,  -74.25559136315213,]) # Where do you start\n",
    "    grid_spacing = np.array([1, lat_spacing, lon_spacing]) # What's the space you consider (euclidian here)\n",
    "    result = grid_offset + indexes * grid_spacing\n",
    "    return result"
   ]
  },
  {
   "cell_type": "markdown",
   "metadata": {},
   "source": [
    "## Tests"
   ]
  },
  {
   "cell_type": "code",
   "execution_count": null,
   "metadata": {
    "ExecuteTime": {
     "end_time": "2020-12-05T10:35:24.525639Z",
     "start_time": "2020-12-05T10:35:24.276263Z"
    }
   },
   "outputs": [],
   "source": [
    "from_coord_to_matrix(sample, 100, 100, return_spacing=True)"
   ]
  },
  {
   "cell_type": "code",
   "execution_count": null,
   "metadata": {
    "ExecuteTime": {
     "end_time": "2020-12-05T10:14:18.688845Z",
     "start_time": "2020-12-05T10:14:18.245492Z"
    }
   },
   "outputs": [],
   "source": [
    "plt.figure(figsize=(10,10))\n",
    "plt.imshow(img[3], cmap='gray')"
   ]
  },
  {
   "cell_type": "code",
   "execution_count": null,
   "metadata": {
    "ExecuteTime": {
     "end_time": "2020-12-05T10:14:23.407002Z",
     "start_time": "2020-12-05T10:14:23.391265Z"
    }
   },
   "outputs": [],
   "source": [
    "img[0].shape"
   ]
  },
  {
   "cell_type": "code",
   "execution_count": null,
   "metadata": {
    "ExecuteTime": {
     "end_time": "2020-12-05T09:41:36.781825Z",
     "start_time": "2020-12-05T09:41:36.764320Z"
    }
   },
   "outputs": [],
   "source": [
    "img.shape"
   ]
  },
  {
   "cell_type": "code",
   "execution_count": null,
   "metadata": {
    "ExecuteTime": {
     "end_time": "2020-12-05T10:14:43.506088Z",
     "start_time": "2020-12-05T10:14:29.360271Z"
    }
   },
   "outputs": [],
   "source": [
    "img3D_conv = gaussian_filter(img, sigma=(2,2,2))\n",
    "\n",
    "plt.figure(figsize=(10,10))\n",
    "plt.imshow(img3D_conv[3], cmap='gray')"
   ]
  },
  {
   "cell_type": "markdown",
   "metadata": {},
   "source": [
    "# To do"
   ]
  },
  {
   "cell_type": "code",
   "execution_count": null,
   "metadata": {},
   "outputs": [],
   "source": [
    "# fonctions en mode variables (matrix ET get_X_y)\n",
    "\n",
    "#ce qu'on veut en entrée, ce qu'on veut en sortie"
   ]
  },
  {
   "cell_type": "code",
   "execution_count": null,
   "metadata": {},
   "outputs": [],
   "source": []
  }
 ],
 "metadata": {
  "kernelspec": {
   "display_name": "Python 3",
   "language": "python",
   "name": "python3"
  },
  "language_info": {
   "codemirror_mode": {
    "name": "ipython",
    "version": 3
   },
   "file_extension": ".py",
   "mimetype": "text/x-python",
   "name": "python",
   "nbconvert_exporter": "python",
   "pygments_lexer": "ipython3",
   "version": "3.8.5"
  },
  "toc": {
   "base_numbering": 1,
   "nav_menu": {},
   "number_sections": true,
   "sideBar": true,
   "skip_h1_title": false,
   "title_cell": "Table of Contents",
   "title_sidebar": "Contents",
   "toc_cell": false,
   "toc_position": {},
   "toc_section_display": true,
   "toc_window_display": false
  },
  "varInspector": {
   "cols": {
    "lenName": 16,
    "lenType": 16,
    "lenVar": 40
   },
   "kernels_config": {
    "python": {
     "delete_cmd_postfix": "",
     "delete_cmd_prefix": "del ",
     "library": "var_list.py",
     "varRefreshCmd": "print(var_dic_list())"
    },
    "r": {
     "delete_cmd_postfix": ") ",
     "delete_cmd_prefix": "rm(",
     "library": "var_list.r",
     "varRefreshCmd": "cat(var_dic_list()) "
    }
   },
   "types_to_exclude": [
    "module",
    "function",
    "builtin_function_or_method",
    "instance",
    "_Feature"
   ],
   "window_display": false
  }
 },
 "nbformat": 4,
 "nbformat_minor": 4
}
