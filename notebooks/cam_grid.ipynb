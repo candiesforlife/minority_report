{
 "cells": [
  {
   "cell_type": "code",
   "execution_count": 1,
   "metadata": {
    "ExecuteTime": {
     "end_time": "2020-12-05T09:39:38.505103Z",
     "start_time": "2020-12-05T09:39:37.024061Z"
    }
   },
   "outputs": [],
   "source": [
    "from minority_report.clean_data import CleanData\n",
    "from minority_report.scaling import Scaling\n",
    "\n",
    "import pandas as pd\n",
    "import numpy as np\n",
    "from datetime import datetime\n",
    "\n",
    "import matplotlib.pyplot as plt\n",
    "from scipy.ndimage import gaussian_filter\n",
    "\n",
    "#from scipy.interpolate import griddata"
   ]
  },
  {
   "cell_type": "code",
   "execution_count": 58,
   "metadata": {
    "ExecuteTime": {
     "end_time": "2020-12-05T10:16:26.944791Z",
     "start_time": "2020-12-05T10:16:18.192859Z"
    }
   },
   "outputs": [
    {
     "data": {
      "text/html": [
       "<div>\n",
       "<style scoped>\n",
       "    .dataframe tbody tr th:only-of-type {\n",
       "        vertical-align: middle;\n",
       "    }\n",
       "\n",
       "    .dataframe tbody tr th {\n",
       "        vertical-align: top;\n",
       "    }\n",
       "\n",
       "    .dataframe thead th {\n",
       "        text-align: right;\n",
       "    }\n",
       "</style>\n",
       "<table border=\"1\" class=\"dataframe\">\n",
       "  <thead>\n",
       "    <tr style=\"text-align: right;\">\n",
       "      <th></th>\n",
       "      <th>precinct_number</th>\n",
       "      <th>offense_type</th>\n",
       "      <th>crime_completed</th>\n",
       "      <th>offense_level</th>\n",
       "      <th>premise_desc</th>\n",
       "      <th>premise</th>\n",
       "      <th>jurisdiction</th>\n",
       "      <th>park_name</th>\n",
       "      <th>suspect_age</th>\n",
       "      <th>suspect_race</th>\n",
       "      <th>suspect_sex</th>\n",
       "      <th>latitude</th>\n",
       "      <th>longitude</th>\n",
       "      <th>metro</th>\n",
       "      <th>victim_age</th>\n",
       "      <th>victim_race</th>\n",
       "      <th>victim_sex</th>\n",
       "      <th>period</th>\n",
       "      <th>borough</th>\n",
       "      <th>patrol_borough</th>\n",
       "    </tr>\n",
       "  </thead>\n",
       "  <tbody>\n",
       "    <tr>\n",
       "      <th>0</th>\n",
       "      <td>73</td>\n",
       "      <td>OFFENSES AGAINST PUBLIC ADMINI</td>\n",
       "      <td>COMPLETED</td>\n",
       "      <td>MISDEMEANOR</td>\n",
       "      <td>INSIDE</td>\n",
       "      <td>RESIDENCE - PUBLIC HOUSING</td>\n",
       "      <td>N.Y. HOUSING POLICE</td>\n",
       "      <td>NOT PARK</td>\n",
       "      <td>25-44</td>\n",
       "      <td>BLACK</td>\n",
       "      <td>M</td>\n",
       "      <td>40.664239</td>\n",
       "      <td>-73.908425</td>\n",
       "      <td>NOT SUBWAY</td>\n",
       "      <td>&lt;18</td>\n",
       "      <td>BLACK</td>\n",
       "      <td>M</td>\n",
       "      <td>2015-02-11 15:00:00</td>\n",
       "      <td>BROOKLYN</td>\n",
       "      <td>PATROL BORO BKLYN NORTH</td>\n",
       "    </tr>\n",
       "    <tr>\n",
       "      <th>1</th>\n",
       "      <td>69</td>\n",
       "      <td>ASSAULT 3 &amp; RELATED OFFENSES</td>\n",
       "      <td>COMPLETED</td>\n",
       "      <td>MISDEMEANOR</td>\n",
       "      <td>INSIDE</td>\n",
       "      <td>RESIDENCE-HOUSE</td>\n",
       "      <td>N.Y. POLICE DEPT</td>\n",
       "      <td>NOT PARK</td>\n",
       "      <td>UNKNOWN</td>\n",
       "      <td>UNKNOWN</td>\n",
       "      <td>UNKNOWN</td>\n",
       "      <td>40.644590</td>\n",
       "      <td>-73.892672</td>\n",
       "      <td>NOT SUBWAY</td>\n",
       "      <td>45-64</td>\n",
       "      <td>BLACK</td>\n",
       "      <td>F</td>\n",
       "      <td>2012-03-17 10:00:00</td>\n",
       "      <td>BROOKLYN</td>\n",
       "      <td>PATROL BORO BKLYN SOUTH</td>\n",
       "    </tr>\n",
       "    <tr>\n",
       "      <th>2</th>\n",
       "      <td>71</td>\n",
       "      <td>HARRASSMENT 2</td>\n",
       "      <td>COMPLETED</td>\n",
       "      <td>VIOLATION</td>\n",
       "      <td>INSIDE</td>\n",
       "      <td>PUBLIC SCHOOL</td>\n",
       "      <td>N.Y. POLICE DEPT</td>\n",
       "      <td>NOT PARK</td>\n",
       "      <td>&lt;18</td>\n",
       "      <td>BLACK</td>\n",
       "      <td>M</td>\n",
       "      <td>40.658758</td>\n",
       "      <td>-73.942435</td>\n",
       "      <td>NOT SUBWAY</td>\n",
       "      <td>18-24</td>\n",
       "      <td>BLACK</td>\n",
       "      <td>M</td>\n",
       "      <td>2016-10-27 13:00:00</td>\n",
       "      <td>BROOKLYN</td>\n",
       "      <td>PATROL BORO BKLYN SOUTH</td>\n",
       "    </tr>\n",
       "    <tr>\n",
       "      <th>3</th>\n",
       "      <td>112</td>\n",
       "      <td>RAPE</td>\n",
       "      <td>COMPLETED</td>\n",
       "      <td>FELONY</td>\n",
       "      <td>INSIDE</td>\n",
       "      <td>RESIDENCE - APT. HOUSE</td>\n",
       "      <td>N.Y. POLICE DEPT</td>\n",
       "      <td>NOT PARK</td>\n",
       "      <td>25-44</td>\n",
       "      <td>WHITE HISPANIC</td>\n",
       "      <td>M</td>\n",
       "      <td>40.722364</td>\n",
       "      <td>-73.851474</td>\n",
       "      <td>NOT SUBWAY</td>\n",
       "      <td>25-44</td>\n",
       "      <td>WHITE</td>\n",
       "      <td>F</td>\n",
       "      <td>2014-11-27 19:00:00</td>\n",
       "      <td>QUEENS</td>\n",
       "      <td>PATROL BORO QUEENS NORTH</td>\n",
       "    </tr>\n",
       "    <tr>\n",
       "      <th>4</th>\n",
       "      <td>24</td>\n",
       "      <td>GRAND LARCENY</td>\n",
       "      <td>COMPLETED</td>\n",
       "      <td>FELONY</td>\n",
       "      <td>INSIDE</td>\n",
       "      <td>DOCTOR/DENTIST OFFICE</td>\n",
       "      <td>N.Y. POLICE DEPT</td>\n",
       "      <td>NOT PARK</td>\n",
       "      <td>UNKNOWN</td>\n",
       "      <td>UNKNOWN</td>\n",
       "      <td>UNKNOWN</td>\n",
       "      <td>40.793465</td>\n",
       "      <td>-73.968950</td>\n",
       "      <td>NOT SUBWAY</td>\n",
       "      <td>45-64</td>\n",
       "      <td>WHITE</td>\n",
       "      <td>F</td>\n",
       "      <td>2013-12-11 13:00:00</td>\n",
       "      <td>MANHATTAN</td>\n",
       "      <td>PATROL BORO MAN NORTH</td>\n",
       "    </tr>\n",
       "  </tbody>\n",
       "</table>\n",
       "</div>"
      ],
      "text/plain": [
       "   precinct_number                    offense_type crime_completed  \\\n",
       "0               73  OFFENSES AGAINST PUBLIC ADMINI       COMPLETED   \n",
       "1               69    ASSAULT 3 & RELATED OFFENSES       COMPLETED   \n",
       "2               71                   HARRASSMENT 2       COMPLETED   \n",
       "3              112                            RAPE       COMPLETED   \n",
       "4               24                   GRAND LARCENY       COMPLETED   \n",
       "\n",
       "  offense_level premise_desc                     premise         jurisdiction  \\\n",
       "0   MISDEMEANOR       INSIDE  RESIDENCE - PUBLIC HOUSING  N.Y. HOUSING POLICE   \n",
       "1   MISDEMEANOR       INSIDE             RESIDENCE-HOUSE     N.Y. POLICE DEPT   \n",
       "2     VIOLATION       INSIDE               PUBLIC SCHOOL     N.Y. POLICE DEPT   \n",
       "3        FELONY       INSIDE      RESIDENCE - APT. HOUSE     N.Y. POLICE DEPT   \n",
       "4        FELONY       INSIDE       DOCTOR/DENTIST OFFICE     N.Y. POLICE DEPT   \n",
       "\n",
       "  park_name suspect_age    suspect_race suspect_sex   latitude  longitude  \\\n",
       "0  NOT PARK       25-44           BLACK           M  40.664239 -73.908425   \n",
       "1  NOT PARK     UNKNOWN         UNKNOWN     UNKNOWN  40.644590 -73.892672   \n",
       "2  NOT PARK         <18           BLACK           M  40.658758 -73.942435   \n",
       "3  NOT PARK       25-44  WHITE HISPANIC           M  40.722364 -73.851474   \n",
       "4  NOT PARK     UNKNOWN         UNKNOWN     UNKNOWN  40.793465 -73.968950   \n",
       "\n",
       "         metro victim_age victim_race victim_sex               period  \\\n",
       "0  NOT SUBWAY         <18       BLACK          M  2015-02-11 15:00:00   \n",
       "1  NOT SUBWAY       45-64       BLACK          F  2012-03-17 10:00:00   \n",
       "2  NOT SUBWAY       18-24       BLACK          M  2016-10-27 13:00:00   \n",
       "3  NOT SUBWAY       25-44       WHITE          F  2014-11-27 19:00:00   \n",
       "4  NOT SUBWAY       45-64       WHITE          F  2013-12-11 13:00:00   \n",
       "\n",
       "     borough            patrol_borough  \n",
       "0   BROOKLYN   PATROL BORO BKLYN NORTH  \n",
       "1   BROOKLYN   PATROL BORO BKLYN SOUTH  \n",
       "2   BROOKLYN   PATROL BORO BKLYN SOUTH  \n",
       "3     QUEENS  PATROL BORO QUEENS NORTH  \n",
       "4  MANHATTAN     PATROL BORO MAN NORTH  "
      ]
     },
     "execution_count": 58,
     "metadata": {},
     "output_type": "execute_result"
    }
   ],
   "source": [
    "df = Scaling()\n",
    "df.load_data().head()"
   ]
  },
  {
   "cell_type": "code",
   "execution_count": null,
   "metadata": {
    "ExecuteTime": {
     "end_time": "2020-12-04T16:08:34.626754Z",
     "start_time": "2020-12-04T16:08:30.015351Z"
    }
   },
   "outputs": [],
   "source": [
    "#df.data['coord'] = [(lon, lat) for lon, lat in zip(df.data['longitude'], df.data['latitude'])]"
   ]
  },
  {
   "cell_type": "code",
   "execution_count": 3,
   "metadata": {
    "ExecuteTime": {
     "end_time": "2020-12-05T09:39:48.458503Z",
     "start_time": "2020-12-05T09:39:47.288925Z"
    }
   },
   "outputs": [],
   "source": [
    "inf = df.data['period'] > datetime(2016, 10, 1, 0, 0, 0)\n",
    "sup = df.data['period'] < datetime(2016, 11, 1, 0, 0, 0)\n",
    "sample = df.data[ inf & sup ]"
   ]
  },
  {
   "cell_type": "markdown",
   "metadata": {
    "heading_collapsed": true
   },
   "source": [
    "# matlab griddata"
   ]
  },
  {
   "cell_type": "code",
   "execution_count": null,
   "metadata": {
    "ExecuteTime": {
     "end_time": "2020-12-04T16:10:45.863767Z",
     "start_time": "2020-12-04T16:10:45.818537Z"
    },
    "hidden": true
   },
   "outputs": [],
   "source": [
    "#np.sort(sample['period'].unique())"
   ]
  },
  {
   "cell_type": "code",
   "execution_count": null,
   "metadata": {
    "ExecuteTime": {
     "end_time": "2020-12-05T09:09:22.849643Z",
     "start_time": "2020-12-05T09:09:22.808207Z"
    },
    "hidden": true
   },
   "outputs": [],
   "source": [
    "ind = {time:index for index,time in enumerate(np.sort(sample['period'].unique()))}\n",
    "\n",
    "sample['time_index'] = sample['period'].map(ind)"
   ]
  },
  {
   "cell_type": "code",
   "execution_count": null,
   "metadata": {
    "ExecuteTime": {
     "end_time": "2020-12-04T16:21:05.065563Z",
     "start_time": "2020-12-04T16:21:05.036116Z"
    },
    "hidden": true
   },
   "outputs": [],
   "source": [
    "len(sample['time_index'].unique())"
   ]
  },
  {
   "cell_type": "code",
   "execution_count": null,
   "metadata": {
    "ExecuteTime": {
     "end_time": "2020-12-04T18:05:43.949073Z",
     "start_time": "2020-12-04T18:05:43.933514Z"
    },
    "hidden": true
   },
   "outputs": [],
   "source": [
    "lon = np.array(sample['longitude'])\n",
    "lat = np.array(sample['latitude'])\n",
    "#coord = np.array(sample['coord'])\n",
    "time_index = np.array(sample['time_index'])"
   ]
  },
  {
   "cell_type": "code",
   "execution_count": null,
   "metadata": {
    "ExecuteTime": {
     "end_time": "2020-12-04T15:28:42.701588Z",
     "start_time": "2020-12-04T15:28:42.687014Z"
    },
    "hidden": true
   },
   "outputs": [],
   "source": [
    "X, Y = np.meshgrid([1,2,3], [2,5,6,8])\n",
    "XI,YI = np.meshgrid([1,2,3],[4,5,6,7])"
   ]
  },
  {
   "cell_type": "code",
   "execution_count": null,
   "metadata": {
    "ExecuteTime": {
     "end_time": "2020-12-04T15:29:02.730019Z",
     "start_time": "2020-12-04T15:29:02.710025Z"
    },
    "hidden": true
   },
   "outputs": [],
   "source": [
    "X"
   ]
  },
  {
   "cell_type": "code",
   "execution_count": null,
   "metadata": {
    "ExecuteTime": {
     "end_time": "2020-12-04T15:29:07.024779Z",
     "start_time": "2020-12-04T15:29:06.999764Z"
    },
    "hidden": true
   },
   "outputs": [],
   "source": [
    "Y"
   ]
  },
  {
   "cell_type": "code",
   "execution_count": null,
   "metadata": {
    "ExecuteTime": {
     "end_time": "2020-12-04T15:29:18.067155Z",
     "start_time": "2020-12-04T15:29:18.050684Z"
    },
    "hidden": true
   },
   "outputs": [],
   "source": [
    "XI"
   ]
  },
  {
   "cell_type": "code",
   "execution_count": null,
   "metadata": {
    "ExecuteTime": {
     "end_time": "2020-12-04T15:29:23.490290Z",
     "start_time": "2020-12-04T15:29:23.476772Z"
    },
    "hidden": true
   },
   "outputs": [],
   "source": [
    "YI"
   ]
  },
  {
   "cell_type": "code",
   "execution_count": null,
   "metadata": {
    "ExecuteTime": {
     "end_time": "2020-12-04T15:29:59.116819Z",
     "start_time": "2020-12-04T15:29:59.093942Z"
    },
    "hidden": true
   },
   "outputs": [],
   "source": [
    "test = griddata((X.ravel(),Y.ravel()), (X**2+Y**2).ravel(), (XI, YI))\n",
    "test"
   ]
  },
  {
   "cell_type": "code",
   "execution_count": null,
   "metadata": {
    "ExecuteTime": {
     "end_time": "2020-12-04T15:31:07.944726Z",
     "start_time": "2020-12-04T15:31:07.915064Z"
    },
    "hidden": true
   },
   "outputs": [],
   "source": [
    "(X**2+Y**2).ravel()"
   ]
  },
  {
   "cell_type": "code",
   "execution_count": null,
   "metadata": {
    "hidden": true
   },
   "outputs": [],
   "source": []
  },
  {
   "cell_type": "code",
   "execution_count": null,
   "metadata": {
    "ExecuteTime": {
     "end_time": "2020-12-04T15:50:00.931422Z",
     "start_time": "2020-12-04T15:50:00.923274Z"
    },
    "hidden": true
   },
   "outputs": [],
   "source": [
    "nx, ny = (3, 2)"
   ]
  },
  {
   "cell_type": "code",
   "execution_count": null,
   "metadata": {
    "ExecuteTime": {
     "end_time": "2020-12-04T15:50:09.625186Z",
     "start_time": "2020-12-04T15:50:09.606851Z"
    },
    "hidden": true
   },
   "outputs": [],
   "source": [
    "ny"
   ]
  },
  {
   "cell_type": "code",
   "execution_count": null,
   "metadata": {
    "ExecuteTime": {
     "end_time": "2020-12-04T15:51:09.768556Z",
     "start_time": "2020-12-04T15:51:09.761141Z"
    },
    "hidden": true
   },
   "outputs": [],
   "source": [
    "x = np.linspace(0, 1, nx)\n",
    "\n",
    "y = np.linspace(0, 1, ny)"
   ]
  },
  {
   "cell_type": "code",
   "execution_count": null,
   "metadata": {
    "ExecuteTime": {
     "end_time": "2020-12-04T15:51:13.035261Z",
     "start_time": "2020-12-04T15:51:13.007142Z"
    },
    "hidden": true
   },
   "outputs": [],
   "source": [
    "x"
   ]
  },
  {
   "cell_type": "code",
   "execution_count": null,
   "metadata": {
    "ExecuteTime": {
     "end_time": "2020-12-04T15:51:19.383362Z",
     "start_time": "2020-12-04T15:51:19.366095Z"
    },
    "hidden": true
   },
   "outputs": [],
   "source": [
    "y"
   ]
  },
  {
   "cell_type": "code",
   "execution_count": null,
   "metadata": {
    "hidden": true
   },
   "outputs": [],
   "source": [
    "xv, yv = np.meshgrid(x, y)\n",
    "\n",
    "xv\n",
    "array([[0. , 0.5, 1. ],\n",
    "       [0. , 0.5, 1. ]])\n",
    "\n",
    "yv\n",
    "array([[0.,  0.,  0.],\n",
    "       [1.,  1.,  1.]])\n",
    "\n",
    "xv, yv = np.meshgrid(x, y, sparse=True)  # make sparse output arrays\n",
    "\n",
    "xv\n",
    "array([[0. ,  0.5,  1. ]])\n",
    "\n",
    "yv\n",
    "array([[0.],\n",
    "       [1.]])"
   ]
  },
  {
   "cell_type": "code",
   "execution_count": null,
   "metadata": {
    "hidden": true
   },
   "outputs": [],
   "source": []
  },
  {
   "cell_type": "code",
   "execution_count": null,
   "metadata": {
    "hidden": true
   },
   "outputs": [],
   "source": []
  },
  {
   "cell_type": "code",
   "execution_count": null,
   "metadata": {
    "hidden": true
   },
   "outputs": [],
   "source": []
  },
  {
   "cell_type": "code",
   "execution_count": null,
   "metadata": {
    "hidden": true
   },
   "outputs": [],
   "source": []
  },
  {
   "cell_type": "code",
   "execution_count": null,
   "metadata": {
    "hidden": true
   },
   "outputs": [],
   "source": []
  },
  {
   "cell_type": "code",
   "execution_count": null,
   "metadata": {
    "hidden": true
   },
   "outputs": [],
   "source": []
  },
  {
   "cell_type": "markdown",
   "metadata": {
    "heading_collapsed": true
   },
   "source": [
    "# Test griddata"
   ]
  },
  {
   "cell_type": "code",
   "execution_count": null,
   "metadata": {
    "ExecuteTime": {
     "end_time": "2020-12-04T16:32:21.385799Z",
     "start_time": "2020-12-04T16:32:21.370306Z"
    },
    "hidden": true
   },
   "outputs": [],
   "source": [
    "lon_values = np.linspace(-74.25559136315213,-73.70000906387347, 250)\n",
    "lat_values = np.linspace(40.49611539518921, 40.91553277600008, 250)\n",
    "time_values = np.linspace(0, sample.shape[0], sample.shape[0])"
   ]
  },
  {
   "cell_type": "code",
   "execution_count": null,
   "metadata": {
    "ExecuteTime": {
     "end_time": "2020-12-04T16:33:55.161801Z",
     "start_time": "2020-12-04T16:32:23.692447Z"
    },
    "hidden": true
   },
   "outputs": [],
   "source": [
    "# griddata ( à quelle position je le mets (lon, lat), dans quels arrays je le mets(np.zeros))\n",
    "xq,yq, zq = np.meshgrid(lon_values,lat_values, time_values)\n"
   ]
  },
  {
   "cell_type": "code",
   "execution_count": null,
   "metadata": {
    "ExecuteTime": {
     "end_time": "2020-12-04T16:34:04.629973Z",
     "start_time": "2020-12-04T16:34:04.608137Z"
    },
    "hidden": true
   },
   "outputs": [],
   "source": [
    "values = np.ones((len(lon)))\n",
    "values"
   ]
  },
  {
   "cell_type": "code",
   "execution_count": null,
   "metadata": {
    "ExecuteTime": {
     "start_time": "2020-12-04T16:34:08.029Z"
    },
    "hidden": true
   },
   "outputs": [],
   "source": [
    "result = griddata((lon, lat,time_index), values, (xq, yq, zq))"
   ]
  },
  {
   "cell_type": "markdown",
   "metadata": {},
   "source": [
    "# Manually"
   ]
  },
  {
   "cell_type": "markdown",
   "metadata": {
    "heading_collapsed": true
   },
   "source": [
    "## Bruno example"
   ]
  },
  {
   "cell_type": "code",
   "execution_count": null,
   "metadata": {
    "ExecuteTime": {
     "end_time": "2020-12-05T09:28:47.770249Z",
     "start_time": "2020-12-05T09:28:47.764939Z"
    },
    "hidden": true
   },
   "outputs": [],
   "source": [
    "grid_offset_example = np.array([0, 0, 0]) # Where do you start\n",
    "grid_spacing_example = np.array([1, 1,1]) # What's the space you consider (euclidian here)"
   ]
  },
  {
   "cell_type": "code",
   "execution_count": null,
   "metadata": {
    "ExecuteTime": {
     "end_time": "2020-12-05T09:27:23.951340Z",
     "start_time": "2020-12-05T09:27:23.940614Z"
    },
    "hidden": true
   },
   "outputs": [],
   "source": [
    "# point in continuous coordinate space\n",
    "(x1,y1, z1) = (6.778, 9.201, 2.5)\n",
    "(x2,y2, z2) = (1.8, 3.1, 4.8)\n",
    "(x3,y3, z3) = (3.2, 9.01, 3.2)\n",
    "values = np.array([[x1,y1,z1], [x2,y2,z2], [x3,y3,z3]])\n",
    "print(values)"
   ]
  },
  {
   "cell_type": "code",
   "execution_count": null,
   "metadata": {
    "ExecuteTime": {
     "end_time": "2020-12-05T09:28:51.695079Z",
     "start_time": "2020-12-05T09:28:51.652253Z"
    },
    "hidden": true
   },
   "outputs": [],
   "source": [
    "# Convert point to index\n",
    "indexes = np.round((values - grid_offset_example)/grid_spacing_example).astype('int')\n",
    "indexes"
   ]
  },
  {
   "cell_type": "code",
   "execution_count": null,
   "metadata": {
    "ExecuteTime": {
     "end_time": "2020-12-05T09:29:01.589169Z",
     "start_time": "2020-12-05T09:29:01.582373Z"
    },
    "hidden": true
   },
   "outputs": [],
   "source": [
    "a = np.zeros((indexes[:,0].max()+1,indexes[:,1].max()+1, indexes[:,2].max()+1))"
   ]
  },
  {
   "cell_type": "code",
   "execution_count": null,
   "metadata": {
    "ExecuteTime": {
     "end_time": "2020-12-05T09:29:04.906540Z",
     "start_time": "2020-12-05T09:29:04.887787Z"
    },
    "hidden": true
   },
   "outputs": [],
   "source": [
    "X = indexes[:,0]\n",
    "Y = indexes[:,1]\n",
    "Z = indexes[:,2]\n",
    "X,Y,Z"
   ]
  },
  {
   "cell_type": "code",
   "execution_count": null,
   "metadata": {
    "ExecuteTime": {
     "end_time": "2020-12-05T09:29:07.071677Z",
     "start_time": "2020-12-05T09:29:07.047118Z"
    },
    "hidden": true
   },
   "outputs": [],
   "source": [
    "a[X,Y,Z]=1\n",
    "a"
   ]
  },
  {
   "cell_type": "markdown",
   "metadata": {
    "heading_collapsed": true
   },
   "source": [
    "## for coordinates"
   ]
  },
  {
   "cell_type": "code",
   "execution_count": null,
   "metadata": {
    "hidden": true
   },
   "outputs": [],
   "source": [
    "#40.91553277600008\n",
    "#40.49611539518921\n",
    "#74.25559136315213,-73.70000906387347\n",
    "\n",
    "grid_offset = np.array([0, -40.91553277600008,  -74.25559136315213,]) # Where do you start\n",
    "grid_spacing = np.array([1, 0.005, 0.005]) # What's the space you consider (euclidian here)"
   ]
  },
  {
   "cell_type": "code",
   "execution_count": null,
   "metadata": {
    "ExecuteTime": {
     "end_time": "2020-12-05T09:35:36.771066Z",
     "start_time": "2020-12-05T09:35:36.684936Z"
    },
    "hidden": true
   },
   "outputs": [],
   "source": [
    "# point in continuous coordinate space\n",
    "coords = np.array([(t_ind, -lat, lon) for t_ind, lat, lon \\\n",
    "                   in zip(sample['time_index'],sample['latitude'],sample['longitude'])])"
   ]
  },
  {
   "cell_type": "code",
   "execution_count": null,
   "metadata": {
    "ExecuteTime": {
     "end_time": "2020-12-05T09:35:39.088682Z",
     "start_time": "2020-12-05T09:35:39.073481Z"
    },
    "hidden": true
   },
   "outputs": [],
   "source": [
    "coords"
   ]
  },
  {
   "cell_type": "code",
   "execution_count": null,
   "metadata": {
    "ExecuteTime": {
     "end_time": "2020-12-05T09:35:41.309490Z",
     "start_time": "2020-12-05T09:35:41.292848Z"
    },
    "hidden": true,
    "scrolled": true
   },
   "outputs": [],
   "source": [
    "indexes = np.round((coords - grid_offset)/grid_spacing).astype('int')\n",
    "indexes"
   ]
  },
  {
   "cell_type": "code",
   "execution_count": null,
   "metadata": {
    "ExecuteTime": {
     "end_time": "2020-12-05T09:36:47.955145Z",
     "start_time": "2020-12-05T09:36:47.948206Z"
    },
    "hidden": true
   },
   "outputs": [],
   "source": [
    "Z = indexes[:,0]\n",
    "Y = indexes[:,1]\n",
    "X = indexes[:,2]"
   ]
  },
  {
   "cell_type": "code",
   "execution_count": null,
   "metadata": {
    "hidden": true
   },
   "outputs": [],
   "source": [
    "a = np.zeros((indexes[:,0].max()+1, indexes[:,1].max()+1, indexes[:,2].max()+1))"
   ]
  },
  {
   "cell_type": "code",
   "execution_count": null,
   "metadata": {
    "ExecuteTime": {
     "end_time": "2020-12-05T09:36:50.358041Z",
     "start_time": "2020-12-05T09:36:50.319128Z"
    },
    "hidden": true
   },
   "outputs": [],
   "source": [
    "a[Z, Y, X]=1"
   ]
  },
  {
   "cell_type": "code",
   "execution_count": null,
   "metadata": {
    "ExecuteTime": {
     "end_time": "2020-12-05T09:38:26.496560Z",
     "start_time": "2020-12-05T09:38:26.120896Z"
    },
    "hidden": true
   },
   "outputs": [],
   "source": [
    "plt.figure(figsize=(10,10))\n",
    "plt.imshow(a[1], cmap='gray')"
   ]
  },
  {
   "cell_type": "code",
   "execution_count": null,
   "metadata": {
    "ExecuteTime": {
     "end_time": "2020-12-04T17:51:06.986383Z",
     "start_time": "2020-12-04T17:51:06.974203Z"
    },
    "hidden": true
   },
   "outputs": [],
   "source": [
    "a"
   ]
  },
  {
   "cell_type": "code",
   "execution_count": null,
   "metadata": {
    "ExecuteTime": {
     "end_time": "2020-12-04T17:41:31.669341Z",
     "start_time": "2020-12-04T17:41:31.654579Z"
    },
    "hidden": true
   },
   "outputs": [],
   "source": [
    "# Convert back index to grid coordiantes\n",
    "print(grid_offset + indexes * grid_spacing)"
   ]
  },
  {
   "cell_type": "markdown",
   "metadata": {},
   "source": [
    "## function"
   ]
  },
  {
   "cell_type": "code",
   "execution_count": 61,
   "metadata": {
    "ExecuteTime": {
     "end_time": "2020-12-05T10:34:58.902176Z",
     "start_time": "2020-12-05T10:34:58.892364Z"
    }
   },
   "outputs": [],
   "source": [
    "def from_meters_to_coords(lat_meters, lon_meters):\n",
    "    #Position, decimal degrees\n",
    "    lat = 40\n",
    "    lon = -73\n",
    "\n",
    "    #Earth’s radius, sphere\n",
    "    R=6378137\n",
    "\n",
    "    #offsets in meters\n",
    "    dn = lat_meters\n",
    "    de = lon_meters\n",
    "\n",
    "    #Coordinate offsets in radians\n",
    "    dLat = dn/R\n",
    "    dLon = de/(R*np.cos(np.pi*lat/180))\n",
    "\n",
    "    #OffsetPosition, decimal degrees\n",
    "    latO = dLat * 180/np.pi\n",
    "    lonO = dLon * 180/np.pi \n",
    "    return latO, lonO"
   ]
  },
  {
   "cell_type": "code",
   "execution_count": 59,
   "metadata": {
    "ExecuteTime": {
     "end_time": "2020-12-05T10:34:38.322302Z",
     "start_time": "2020-12-05T10:34:38.306086Z"
    }
   },
   "outputs": [],
   "source": [
    "def from_coord_to_matrix(df, lat_meters, lon_meters, return_spacing=False):\n",
    "    \"\"\"\n",
    "    outputs the 3D matrix of all coordinates for a given bucket height and width\n",
    "    \"\"\"\n",
    "    df=df.copy()\n",
    "    #add 'time_index' column to df\n",
    "    ind = {time:index for index,time in enumerate(np.sort(df['period'].unique()))}\n",
    "    df['time_index'] = df['period'].map(ind)\n",
    "    \n",
    "    #initiate matrix\n",
    "    grid_offset = np.array([0, -40.91553277600008,  -74.25559136315213,]) # Where do you start\n",
    "    lat_spacing, lon_spacing = from_meters_to_coords(lat_meters, lon_meters )\n",
    "    grid_spacing = np.array([1, lat_spacing , lon_spacing]) # What's the space you consider (euclidian here)\n",
    "     \n",
    "    \n",
    "    #get points coordinates\n",
    "    coords = np.array([(t_ind, -lat, lon) for t_ind, lat, lon \\\n",
    "                   in zip(df['time_index'],df['latitude'],df['longitude'])])\n",
    "    \n",
    "    \n",
    "    # Convert point to index\n",
    "    indexes = np.round((coords - grid_offset)/grid_spacing).astype('int')\n",
    "    Z = indexes[:,0]\n",
    "    Y = indexes[:,1]\n",
    "    X = indexes[:,2]\n",
    "    \n",
    "    #virgin matrix\n",
    "    a = np.zeros((Z.max()+1, Y.max()+1, X.max()+1))\n",
    "   \n",
    "    \n",
    "    a[Z, Y, X]=1\n",
    "    \n",
    "    if return_spacing:\n",
    "        return a, lat_spacing, lon_spacing\n",
    "    \n",
    "    return a"
   ]
  },
  {
   "cell_type": "code",
   "execution_count": 42,
   "metadata": {
    "ExecuteTime": {
     "end_time": "2020-12-05T10:12:47.571533Z",
     "start_time": "2020-12-05T10:12:47.564079Z"
    }
   },
   "outputs": [],
   "source": [
    "def from_matrix_to_coord(indexes, lat_spacing, lon_spacing):\n",
    "    grid_offset = np.array([0, -40.91553277600008,  -74.25559136315213,]) # Where do you start\n",
    "    grid_spacing = np.array([1, lat_spacing, lon_spacing]) # What's the space you consider (euclidian here)\n",
    "    result = grid_offset + indexes * grid_spacing\n",
    "    return result"
   ]
  },
  {
   "cell_type": "markdown",
   "metadata": {},
   "source": [
    "## Tests"
   ]
  },
  {
   "cell_type": "code",
   "execution_count": 64,
   "metadata": {
    "ExecuteTime": {
     "end_time": "2020-12-05T10:35:24.525639Z",
     "start_time": "2020-12-05T10:35:24.276263Z"
    }
   },
   "outputs": [
    {
     "data": {
      "text/plain": [
       "(array([[[0., 0., 0., ..., 0., 0., 0.],\n",
       "         [0., 0., 0., ..., 0., 0., 0.],\n",
       "         [0., 0., 0., ..., 0., 0., 0.],\n",
       "         ...,\n",
       "         [0., 0., 0., ..., 0., 0., 0.],\n",
       "         [0., 0., 0., ..., 0., 0., 0.],\n",
       "         [0., 0., 0., ..., 0., 0., 0.]],\n",
       " \n",
       "        [[0., 0., 0., ..., 0., 0., 0.],\n",
       "         [0., 0., 0., ..., 0., 0., 0.],\n",
       "         [0., 0., 0., ..., 0., 0., 0.],\n",
       "         ...,\n",
       "         [0., 0., 0., ..., 0., 0., 0.],\n",
       "         [0., 0., 0., ..., 0., 0., 0.],\n",
       "         [0., 0., 0., ..., 0., 0., 0.]],\n",
       " \n",
       "        [[0., 0., 0., ..., 0., 0., 0.],\n",
       "         [0., 0., 0., ..., 0., 0., 0.],\n",
       "         [0., 0., 0., ..., 0., 0., 0.],\n",
       "         ...,\n",
       "         [0., 0., 0., ..., 0., 0., 0.],\n",
       "         [0., 0., 0., ..., 0., 0., 0.],\n",
       "         [0., 0., 0., ..., 0., 0., 0.]],\n",
       " \n",
       "        ...,\n",
       " \n",
       "        [[0., 0., 0., ..., 0., 0., 0.],\n",
       "         [0., 0., 0., ..., 0., 0., 0.],\n",
       "         [0., 0., 0., ..., 0., 0., 0.],\n",
       "         ...,\n",
       "         [0., 0., 0., ..., 0., 0., 0.],\n",
       "         [0., 0., 0., ..., 0., 0., 0.],\n",
       "         [0., 0., 0., ..., 0., 0., 0.]],\n",
       " \n",
       "        [[0., 0., 0., ..., 0., 0., 0.],\n",
       "         [0., 0., 0., ..., 0., 0., 0.],\n",
       "         [0., 0., 0., ..., 0., 0., 0.],\n",
       "         ...,\n",
       "         [0., 0., 0., ..., 0., 0., 0.],\n",
       "         [0., 0., 0., ..., 0., 0., 0.],\n",
       "         [0., 0., 0., ..., 0., 0., 0.]],\n",
       " \n",
       "        [[0., 0., 0., ..., 0., 0., 0.],\n",
       "         [0., 0., 0., ..., 0., 0., 0.],\n",
       "         [0., 0., 0., ..., 0., 0., 0.],\n",
       "         ...,\n",
       "         [0., 0., 0., ..., 0., 0., 0.],\n",
       "         [0., 0., 0., ..., 0., 0., 0.],\n",
       "         [0., 0., 0., ..., 0., 0., 0.]]]),\n",
       " 0.0008983152841195215,\n",
       " 0.00117266732000822)"
      ]
     },
     "execution_count": 64,
     "metadata": {},
     "output_type": "execute_result"
    }
   ],
   "source": [
    "from_coord_to_matrix(sample, 100, 100, return_spacing=True)"
   ]
  },
  {
   "cell_type": "code",
   "execution_count": 55,
   "metadata": {
    "ExecuteTime": {
     "end_time": "2020-12-05T10:14:18.688845Z",
     "start_time": "2020-12-05T10:14:18.245492Z"
    }
   },
   "outputs": [
    {
     "data": {
      "text/plain": [
       "<matplotlib.image.AxesImage at 0x11bb116d0>"
      ]
     },
     "execution_count": 55,
     "metadata": {},
     "output_type": "execute_result"
    },
    {
     "data": {
      "image/png": "[encoded data removed]",
      "text/plain": [
       "<Figure size 720x720 with 1 Axes>"
      ]
     },
     "metadata": {
      "needs_background": "light"
     },
     "output_type": "display_data"
    }
   ],
   "source": [
    "plt.figure(figsize=(10,10))\n",
    "plt.imshow(img[3], cmap='gray')"
   ]
  },
  {
   "cell_type": "code",
   "execution_count": 56,
   "metadata": {
    "ExecuteTime": {
     "end_time": "2020-12-05T10:14:23.407002Z",
     "start_time": "2020-12-05T10:14:23.391265Z"
    }
   },
   "outputs": [
    {
     "data": {
      "text/plain": [
       "(460, 473)"
      ]
     },
     "execution_count": 56,
     "metadata": {},
     "output_type": "execute_result"
    }
   ],
   "source": [
    "img[0].shape"
   ]
  },
  {
   "cell_type": "code",
   "execution_count": 10,
   "metadata": {
    "ExecuteTime": {
     "end_time": "2020-12-05T09:41:36.781825Z",
     "start_time": "2020-12-05T09:41:36.764320Z"
    }
   },
   "outputs": [
    {
     "data": {
      "text/plain": [
       "(743, 84, 112)"
      ]
     },
     "execution_count": 10,
     "metadata": {},
     "output_type": "execute_result"
    }
   ],
   "source": [
    "img.shape"
   ]
  },
  {
   "cell_type": "code",
   "execution_count": 57,
   "metadata": {
    "ExecuteTime": {
     "end_time": "2020-12-05T10:14:43.506088Z",
     "start_time": "2020-12-05T10:14:29.360271Z"
    }
   },
   "outputs": [
    {
     "data": {
      "text/plain": [
       "<matplotlib.image.AxesImage at 0x11bb22130>"
      ]
     },
     "execution_count": 57,
     "metadata": {},
     "output_type": "execute_result"
    },
    {
     "data": {
      "image/png": "[encoded data removed]",
      "text/plain": [
       "<Figure size 720x720 with 1 Axes>"
      ]
     },
     "metadata": {
      "needs_background": "light"
     },
     "output_type": "display_data"
    }
   ],
   "source": [
    "img3D_conv = gaussian_filter(img, sigma=(2,2,2))\n",
    "\n",
    "plt.figure(figsize=(10,10))\n",
    "plt.imshow(img3D_conv[3], cmap='gray')"
   ]
  },
  {
   "cell_type": "markdown",
   "metadata": {},
   "source": [
    "# To do"
   ]
  },
  {
   "cell_type": "code",
   "execution_count": null,
   "metadata": {},
   "outputs": [],
   "source": [
    "# fonctions en mode variables (matrix ET get_X_y)\n",
    "\n",
    "#ce qu'on veut en entrée, ce qu'on veut en sortie"
   ]
  },
  {
   "cell_type": "code",
   "execution_count": null,
   "metadata": {},
   "outputs": [],
   "source": []
  }
 ],
 "metadata": {
  "kernelspec": {
   "display_name": "Python 3",
   "language": "python",
   "name": "python3"
  },
  "language_info": {
   "codemirror_mode": {
    "name": "ipython",
    "version": 3
   },
   "file_extension": ".py",
   "mimetype": "text/x-python",
   "name": "python",
   "nbconvert_exporter": "python",
   "pygments_lexer": "ipython3",
   "version": "3.8.5"
  },
  "toc": {
   "base_numbering": 1,
   "nav_menu": {},
   "number_sections": true,
   "sideBar": true,
   "skip_h1_title": false,
   "title_cell": "Table of Contents",
   "title_sidebar": "Contents",
   "toc_cell": false,
   "toc_position": {},
   "toc_section_display": true,
   "toc_window_display": false
  },
  "varInspector": {
   "cols": {
    "lenName": 16,
    "lenType": 16,
    "lenVar": 40
   },
   "kernels_config": {
    "python": {
     "delete_cmd_postfix": "",
     "delete_cmd_prefix": "del ",
     "library": "var_list.py",
     "varRefreshCmd": "print(var_dic_list())"
    },
    "r": {
     "delete_cmd_postfix": ") ",
     "delete_cmd_prefix": "rm(",
     "library": "var_list.r",
     "varRefreshCmd": "cat(var_dic_list()) "
    }
   },
   "types_to_exclude": [
    "module",
    "function",
    "builtin_function_or_method",
    "instance",
    "_Feature"
   ],
   "window_display": false
  }
 },
 "nbformat": 4,
 "nbformat_minor": 4
}
