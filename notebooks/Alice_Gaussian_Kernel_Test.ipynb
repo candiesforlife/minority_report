{
 "cells": [
  {
   "cell_type": "markdown",
   "metadata": {},
   "source": [
    "## NYPD Data"
   ]
  },
  {
   "cell_type": "markdown",
   "metadata": {},
   "source": [
    "### Imports"
   ]
  },
  {
   "cell_type": "code",
   "execution_count": 1,
   "metadata": {
    "ExecuteTime": {
     "end_time": "2020-12-07T16:58:05.511934Z",
     "start_time": "2020-12-07T16:58:04.235184Z"
    }
   },
   "outputs": [],
   "source": [
    "# data import\n",
    "import pickle\n",
    "\n",
    "# data manipulation\n",
    "import numpy as np\n",
    "import pandas as pd\n",
    "from datetime import datetime\n",
    "\n",
    "# plotting\n",
    "import matplotlib.pyplot as plt\n",
    "\n",
    "#gaussian filter\n",
    "from scipy.ndimage import gaussian_filter"
   ]
  },
  {
   "cell_type": "markdown",
   "metadata": {
    "heading_collapsed": true
   },
   "source": [
    "### Data Import"
   ]
  },
  {
   "cell_type": "code",
   "execution_count": 2,
   "metadata": {
    "ExecuteTime": {
     "end_time": "2020-12-07T16:58:16.138876Z",
     "start_time": "2020-12-07T16:58:07.312182Z"
    },
    "hidden": true
   },
   "outputs": [],
   "source": [
    "pickle_path = ('../raw_data/clean.pickle')\n",
    "with open(pickle_path, 'rb') as f:\n",
    "    df = pickle.load(f)"
   ]
  },
  {
   "cell_type": "markdown",
   "metadata": {
    "heading_collapsed": true
   },
   "source": [
    "### Sample Selection"
   ]
  },
  {
   "cell_type": "code",
   "execution_count": 3,
   "metadata": {
    "ExecuteTime": {
     "end_time": "2020-12-07T16:58:46.413737Z",
     "start_time": "2020-12-07T16:58:45.661574Z"
    },
    "hidden": true
   },
   "outputs": [],
   "source": [
    "inf = df['period'] > datetime(2016, 10, 1, 0, 0, 0)\n",
    "sup = df['period'] < datetime(2016, 11, 1, 0, 0, 0)\n",
    "sample = df[ inf & sup ]"
   ]
  },
  {
   "cell_type": "code",
   "execution_count": 4,
   "metadata": {
    "ExecuteTime": {
     "end_time": "2020-12-07T16:58:47.335479Z",
     "start_time": "2020-12-07T16:58:47.311718Z"
    },
    "hidden": true
   },
   "outputs": [],
   "source": [
    "sample = sample[sample['precinct_number']==75]"
   ]
  },
  {
   "cell_type": "code",
   "execution_count": 5,
   "metadata": {
    "ExecuteTime": {
     "end_time": "2020-12-07T16:58:49.020255Z",
     "start_time": "2020-12-07T16:58:48.976551Z"
    },
    "hidden": true
   },
   "outputs": [
    {
     "data": {
      "text/plain": [
       "(-73.990914183, -73.857278418, 40.642278393000005, 40.692681179000004)"
      ]
     },
     "execution_count": 5,
     "metadata": {},
     "output_type": "execute_result"
    }
   ],
   "source": [
    "sample['longitude'].min(), sample['longitude'].max(), sample['latitude'].min(), sample['latitude'].max() "
   ]
  },
  {
   "cell_type": "code",
   "execution_count": 6,
   "metadata": {
    "ExecuteTime": {
     "end_time": "2020-12-07T16:58:50.548553Z",
     "start_time": "2020-12-07T16:58:49.923744Z"
    },
    "hidden": true
   },
   "outputs": [],
   "source": [
    "del df"
   ]
  },
  {
   "cell_type": "code",
   "execution_count": 7,
   "metadata": {
    "ExecuteTime": {
     "end_time": "2020-12-07T16:58:50.569570Z",
     "start_time": "2020-12-07T16:58:50.561966Z"
    },
    "hidden": true
   },
   "outputs": [
    {
     "data": {
      "text/plain": [
       "(1252, 20)"
      ]
     },
     "execution_count": 7,
     "metadata": {},
     "output_type": "execute_result"
    }
   ],
   "source": [
    "sample.shape"
   ]
  },
  {
   "cell_type": "markdown",
   "metadata": {
    "heading_collapsed": true
   },
   "source": [
    "### DataGenerator"
   ]
  },
  {
   "cell_type": "code",
   "execution_count": 8,
   "metadata": {
    "ExecuteTime": {
     "end_time": "2020-12-07T16:59:07.784325Z",
     "start_time": "2020-12-07T16:59:07.769363Z"
    },
    "hidden": true
   },
   "outputs": [
    {
     "ename": "SyntaxError",
     "evalue": "invalid character in identifier (<ipython-input-8-644b1b58413f>, line 2)",
     "output_type": "error",
     "traceback": [
      "\u001b[0;36m  File \u001b[0;32m\"<ipython-input-8-644b1b58413f>\"\u001b[0;36m, line \u001b[0;32m2\u001b[0m\n\u001b[0;31m    ​\u001b[0m\n\u001b[0m    ^\u001b[0m\n\u001b[0;31mSyntaxError\u001b[0m\u001b[0;31m:\u001b[0m invalid character in identifier\n"
     ]
    }
   ],
   "source": [
    "import tensorflow as tf\n",
    "\n",
    "class CustomDataGenerator(tf.keras.utils.Sequence):\n",
    "    def __init__(self, df, batch_size=32, shuffle=True, lat_meters=100, lon_meters=100, *args, **kwargs):\n",
    "        self.df = df\n",
    "        self.batch_size = batch_size\n",
    "        self.indices = np.arange(len(self.df))\n",
    "        self.shuffle = shuffle\n",
    "        self.lat_meters = lat_meters\n",
    "        self.lon_meters = lon_meters\n",
    "        self.on_epoch_end()\n",
    "\n",
    "    def __len__(self):\n",
    "        \"\"\"\n",
    "        Return the number of batches so the generator knows how many batches\n",
    "        it should generate for each epoch\n",
    "        \"\"\"\n",
    "        return len(df) // self.batch_size\n",
    "​\n",
    "  def __getitem__(self, i):\n",
    "    \"\"\"\n",
    "    Return the i-th batch\n",
    "    \"\"\"\n",
    "    batch_indices = self.indices[i * self.batch_size:(i + 1) * self.batch_size]\n",
    "    batch = self.df.iloc[batch_indices] \n",
    "    return self.__get_data(batch)\n",
    "​\n",
    "  def __get_data(self, batch):\n",
    "    X = from_coord_to_matrix(batch, lat_meters=self.lat_meters, lon_meters=self.lon_meters)\n",
    "    y = from_coord_to_matrix(batch, lat_meters=self.lat_meters, lon_meters=self.lon_meters) # à changer\n",
    "    return X, y\n",
    "​\n",
    "  def on_epoch_end(self):\n",
    "    self.indices = np.arange(len(self.df))\n",
    "    if self.shuffle == True:\n",
    "        np.random.shuffle(self.indices)"
   ]
  },
  {
   "cell_type": "code",
   "execution_count": 9,
   "metadata": {
    "ExecuteTime": {
     "end_time": "2020-12-07T16:59:09.317646Z",
     "start_time": "2020-12-07T16:59:09.310534Z"
    },
    "hidden": true
   },
   "outputs": [
    {
     "ename": "SyntaxError",
     "evalue": "invalid character in identifier (<ipython-input-9-a3a196b3685a>, line 2)",
     "output_type": "error",
     "traceback": [
      "\u001b[0;36m  File \u001b[0;32m\"<ipython-input-9-a3a196b3685a>\"\u001b[0;36m, line \u001b[0;32m2\u001b[0m\n\u001b[0;31m    ​\u001b[0m\n\u001b[0m    ^\u001b[0m\n\u001b[0;31mSyntaxError\u001b[0m\u001b[0;31m:\u001b[0m invalid character in identifier\n"
     ]
    }
   ],
   "source": [
    "BATCH_SIZE = 2\n",
    "​\n",
    "datagen = CustomDataGenerator(df, batch_size=BATCH_SIZE)\n",
    "p, q = datagen.__getitem__(3)\n",
    "print(p.shape)\n",
    "print(q.shape)"
   ]
  },
  {
   "cell_type": "markdown",
   "metadata": {},
   "source": [
    "### Lat - Long to Array"
   ]
  },
  {
   "cell_type": "code",
   "execution_count": 10,
   "metadata": {
    "ExecuteTime": {
     "end_time": "2020-12-07T16:59:53.275189Z",
     "start_time": "2020-12-07T16:59:53.270411Z"
    }
   },
   "outputs": [],
   "source": [
    "def from_meters_to_coords(lat_meters, lon_meters):\n",
    "    \"\"\"\n",
    "    gives the latitude and longitude step to use for the grid buckets\n",
    "    lat_meters, lon_meters = lat/lon step\n",
    "    \"\"\"\n",
    "    #Position, decimal degrees\n",
    "    lat = 40\n",
    "    lon = -73\n",
    "\n",
    "    #Earth’s radius, sphere\n",
    "    R=6378137\n",
    "\n",
    "    #offsets in meters\n",
    "    dn = lat_meters\n",
    "    de = lon_meters\n",
    "\n",
    "    #Coordinate offsets in radians\n",
    "    dLat = dn/R\n",
    "    dLon = de/(R*np.cos(np.pi*lat/180))\n",
    "\n",
    "    #OffsetPosition, decimal degrees\n",
    "    latO = dLat * 180/np.pi\n",
    "    lonO = dLon * 180/np.pi \n",
    "\n",
    "    return latO, lonO"
   ]
  },
  {
   "cell_type": "code",
   "execution_count": 12,
   "metadata": {
    "ExecuteTime": {
     "end_time": "2020-12-07T17:00:02.317392Z",
     "start_time": "2020-12-07T17:00:02.299546Z"
    }
   },
   "outputs": [],
   "source": [
    "def from_coord_to_matrix(df, lat_meters, lon_meters):\n",
    "    \"\"\"\n",
    "    outputs the 3D matrix of all coordinates for a given bucket height and width in meters\n",
    "    \"\"\"\n",
    "    df=df.copy()\n",
    "    #add 'time_index' column to df\n",
    "    ind = {time:index for index,time in enumerate(np.sort(df['period'].unique()))}\n",
    "    df['time_index'] = df['period'].map(ind)\n",
    "    \n",
    "    #initiate matrix\n",
    "    #40.49611539518921, 40.91553277600008, -74.25559136315213,-73.70000906387347) : NYC boundaries\n",
    "    #([40.56952999448672, 40.73912795313436],[-74.04189660705046, -73.83355923946421]) : brooklyn boundaries\n",
    "    #[40.6218192717505, 40.6951504231971],[-73.90404639808888, -73.83559344190869]) :precinct 75 boundaries\n",
    "    \n",
    "    grid_offset = np.array([ -40.692681179000004,  -73.990914183,0]) # Where do you start\n",
    "    #from meters to lat/lon step\n",
    "    lat_spacing, lon_spacing = from_meters_to_coords(lat_meters, lon_meters )\n",
    "    grid_spacing = np.array([lat_spacing , lon_spacing,1]) # What's the space you consider (euclidian here)\n",
    "     \n",
    "    \n",
    "    #get points coordinates\n",
    "    coords = np.array([( -lat, lon,t_ind) for lat, lon,t_ind \\\n",
    "                   in zip(df['latitude'],df['longitude'],df['time_index'])])\n",
    "    \n",
    "    \n",
    "    # Convert point to index\n",
    "    indexes = np.round((coords - grid_offset)/grid_spacing).astype('int')\n",
    "    X = indexes[:,0]\n",
    "    Y = indexes[:,1]\n",
    "    Z = indexes[:,2]\n",
    "    \n",
    "    #virgin matrix\n",
    "    a = np.zeros((X.max()+1, Y.max()+1, Z.max()+1))\n",
    "   \n",
    "    \n",
    "    a[X, Y, Z]=1\n",
    "    \n",
    "    return a, a.shape[1], a.shape[2]"
   ]
  },
  {
   "cell_type": "code",
   "execution_count": 13,
   "metadata": {
    "ExecuteTime": {
     "end_time": "2020-12-07T17:00:08.605870Z",
     "start_time": "2020-12-07T17:00:08.573225Z"
    }
   },
   "outputs": [],
   "source": [
    "img, lat_size, lon_size = from_coord_to_matrix(sample, 10, 25)"
   ]
  },
  {
   "cell_type": "code",
   "execution_count": 14,
   "metadata": {
    "ExecuteTime": {
     "end_time": "2020-12-07T17:00:10.609565Z",
     "start_time": "2020-12-07T17:00:10.593263Z"
    }
   },
   "outputs": [
    {
     "data": {
      "text/plain": [
       "(562, 457, 578)"
      ]
     },
     "execution_count": 14,
     "metadata": {},
     "output_type": "execute_result"
    }
   ],
   "source": [
    "img.shape"
   ]
  },
  {
   "cell_type": "code",
   "execution_count": 15,
   "metadata": {
    "ExecuteTime": {
     "end_time": "2020-12-07T17:00:13.401543Z",
     "start_time": "2020-12-07T17:00:12.528507Z"
    }
   },
   "outputs": [
    {
     "data": {
      "image/png": "[encoded data removed]",
      "text/plain": [
       "<Figure size 720x720 with 1 Axes>"
      ]
     },
     "metadata": {
      "needs_background": "light"
     },
     "output_type": "display_data"
    }
   ],
   "source": [
    "plt.figure(figsize=(10, 10))\n",
    "\n",
    "plt.imshow(img[:,:,10], cmap='gray');"
   ]
  },
  {
   "cell_type": "markdown",
   "metadata": {},
   "source": [
    "### Stacking"
   ]
  },
  {
   "cell_type": "code",
   "execution_count": null,
   "metadata": {},
   "outputs": [],
   "source": [
    "def func(input_array, X_step, X_timeframe, y_step, y_timeframe):\n",
    "\n",
    "total_observations = len(input_array) / X_timeframe + y_timeframe \n",
    "# if X_time + y_time = 10, and array is 1k, then total num is 100\n",
    "X_percentage_of_obs = X_timeframe / (X_timeframe + y_timeframe)\n",
    "\n",
    "len(X_timeframe) = (X_timeframe + y_timeframe) * X_timeframe\n",
    "# total_timeframe_observed.append(input array / X_timeframe + y_timeframe) # one observation\n",
    "\n",
    "for timeframe in total_timeframes_observed[ : X_timeframe]:\n",
    "    n = number_of_images / X_step\n",
    "    \n",
    "for timeframe in total_timeframes_observed[X_timeframe : X_timeframe + y_timeframe]:\n",
    "    y_timeframe / y_step\n"
   ]
  },
  {
   "cell_type": "code",
   "execution_count": null,
   "metadata": {},
   "outputs": [],
   "source": [
    "def func(input array, 24, 7, 3, 3):\n",
    "    \n",
    "total_observations = 1_000 / 10 # 100 total observations\n",
    "\n",
    "for timeframe in total_timeframes_observed[ : X_timeframe]:\n",
    "    n = number_of_images / X_step\n",
    "    \n",
    "for timeframe in total_timeframes_observed[X_timeframe : X_timeframe + y_timeframe]:\n",
    "    y_timeframe / y_step"
   ]
  },
  {
   "cell_type": "markdown",
   "metadata": {},
   "source": [
    "### Plotting Array (with and w/o Gaussian filter)"
   ]
  },
  {
   "cell_type": "markdown",
   "metadata": {},
   "source": [
    "**Gaussian Filter**\n",
    "\n",
    "- **sigma** = represents st. dv. for each axis of img (lat, long, time)"
   ]
  },
  {
   "cell_type": "code",
   "execution_count": 16,
   "metadata": {
    "ExecuteTime": {
     "end_time": "2020-12-07T17:00:29.807195Z",
     "start_time": "2020-12-07T17:00:23.176310Z"
    }
   },
   "outputs": [],
   "source": [
    "img3D_conv = gaussian_filter(img, sigma=(2, 2, 2))"
   ]
  },
  {
   "cell_type": "code",
   "execution_count": 17,
   "metadata": {
    "ExecuteTime": {
     "end_time": "2020-12-07T17:00:30.110084Z",
     "start_time": "2020-12-07T17:00:29.809850Z"
    }
   },
   "outputs": [
    {
     "data": {
      "image/png": "[encoded data removed]",
      "text/plain": [
       "<Figure size 720x720 with 1 Axes>"
      ]
     },
     "metadata": {
      "needs_background": "light"
     },
     "output_type": "display_data"
    }
   ],
   "source": [
    "plt.figure(figsize=(10, 10))\n",
    "\n",
    "plt.imshow(img3D_conv[:,:,4], cmap='gray');"
   ]
  },
  {
   "cell_type": "markdown",
   "metadata": {},
   "source": [
    "### Splitting into X and y"
   ]
  },
  {
   "cell_type": "code",
   "execution_count": null,
   "metadata": {},
   "outputs": [],
   "source": [
    "def get_X(matrix, nb_hours):\n",
    "    \n",
    "    pass"
   ]
  },
  {
   "cell_type": "code",
   "execution_count": null,
   "metadata": {},
   "outputs": [],
   "source": [
    "def get_y():\n",
    "    pass"
   ]
  },
  {
   "cell_type": "code",
   "execution_count": 27,
   "metadata": {
    "ExecuteTime": {
     "end_time": "2020-12-07T16:28:49.325339Z",
     "start_time": "2020-12-07T16:28:49.308598Z"
    }
   },
   "outputs": [],
   "source": [
    "def get_observation_target(img3D_conv, x_length, y_length):\n",
    "    '''\n",
    "    output an observation of x_length consecutive images and the y_length next images as the target\n",
    "    '''\n",
    "    position = np.random.randint(0, img3D_conv.shape[0] - (x_length + y_length))\n",
    "    #regroup_by\n",
    "    observation = img3D_conv[:,:,position:position + x_length]\n",
    "    target = img3D_conv[:,:,position + x_length:position + (x_length + y_length)]\n",
    "\n",
    "    return observation, target"
   ]
  },
  {
   "cell_type": "markdown",
   "metadata": {},
   "source": [
    "### Subsampling to get multiple X and y"
   ]
  },
  {
   "cell_type": "code",
   "execution_count": 28,
   "metadata": {
    "ExecuteTime": {
     "end_time": "2020-12-07T16:28:51.242337Z",
     "start_time": "2020-12-07T16:28:51.232783Z"
    }
   },
   "outputs": [],
   "source": [
    "def get_X_y(img3D_conv, number_of_observations, x_length, y_length):\n",
    "    '''\n",
    "    outputs n observations and their associated targets\n",
    "    '''\n",
    "    X = []\n",
    "    y = []\n",
    "    \n",
    "    for n in range(number_of_observations):\n",
    "        X_subsample, y_subsample = get_observation_target(img3D_conv, x_length, y_length)\n",
    "        X.append(X_subsample)\n",
    "        y.append(y_subsample)\n",
    "        \n",
    "    X = np.array(X)\n",
    "    y = np.array(y)\n",
    "    \n",
    "    return X, y"
   ]
  },
  {
   "cell_type": "code",
   "execution_count": null,
   "metadata": {
    "ExecuteTime": {
     "end_time": "2020-12-07T15:01:30.726282Z",
     "start_time": "2020-12-07T15:01:11.155778Z"
    }
   },
   "outputs": [],
   "source": [
    "x_length = 24\n",
    "y_length= 3\n",
    "\n",
    "X, y = get_X_y(img3D_conv, 500, x_length, y_length)"
   ]
  },
  {
   "cell_type": "code",
   "execution_count": null,
   "metadata": {
    "ExecuteTime": {
     "end_time": "2020-12-07T15:01:31.815710Z",
     "start_time": "2020-12-07T15:01:31.584205Z"
    }
   },
   "outputs": [],
   "source": [
    "del img, img3D_conv, inf, sup, sample"
   ]
  },
  {
   "cell_type": "code",
   "execution_count": null,
   "metadata": {
    "ExecuteTime": {
     "end_time": "2020-12-07T14:28:46.476542Z",
     "start_time": "2020-12-07T14:28:46.463585Z"
    }
   },
   "outputs": [],
   "source": [
    "X.shape"
   ]
  },
  {
   "cell_type": "markdown",
   "metadata": {},
   "source": [
    "## Model"
   ]
  },
  {
   "cell_type": "markdown",
   "metadata": {},
   "source": [
    "### Imports"
   ]
  },
  {
   "cell_type": "code",
   "execution_count": null,
   "metadata": {
    "ExecuteTime": {
     "end_time": "2020-12-07T15:01:38.917867Z",
     "start_time": "2020-12-07T15:01:32.366146Z"
    }
   },
   "outputs": [],
   "source": [
    "# Train, test, split\n",
    "from sklearn.model_selection import train_test_split\n",
    "\n",
    "# Model\n",
    "from tensorflow.keras import models\n",
    "from tensorflow.keras import layers\n",
    "from tensorflow.keras.callbacks import EarlyStopping"
   ]
  },
  {
   "cell_type": "markdown",
   "metadata": {},
   "source": [
    "### Train, test, split"
   ]
  },
  {
   "cell_type": "code",
   "execution_count": null,
   "metadata": {
    "ExecuteTime": {
     "end_time": "2020-12-07T15:02:24.666332Z",
     "start_time": "2020-12-07T15:01:39.708512Z"
    }
   },
   "outputs": [],
   "source": [
    "X_train, X_test, y_train, y_test = train_test_split(X, y, test_size = 0.2)"
   ]
  },
  {
   "cell_type": "code",
   "execution_count": null,
   "metadata": {
    "ExecuteTime": {
     "end_time": "2020-12-07T15:02:27.541316Z",
     "start_time": "2020-12-07T15:02:26.212169Z"
    }
   },
   "outputs": [],
   "source": [
    "del X,y"
   ]
  },
  {
   "cell_type": "markdown",
   "metadata": {},
   "source": [
    "### Model"
   ]
  },
  {
   "cell_type": "code",
   "execution_count": null,
   "metadata": {
    "ExecuteTime": {
     "end_time": "2020-12-07T15:07:58.400259Z",
     "start_time": "2020-12-07T15:07:58.379137Z"
    }
   },
   "outputs": [],
   "source": [
    "def init_model(x_length, y_length, lat_size, lon_size):\n",
    "    print('initializing model')\n",
    "    model = models.Sequential()\n",
    "    \n",
    "    print('adding conv3D 1')\n",
    "    model.add(layers.Conv3D(64, kernel_size = 10, activation = 'relu', padding='same',\n",
    "                            input_shape = (lat_size, lon_size, x_length, 1)))\n",
    "    model.add(layers.MaxPooling3D(2))\n",
    "\n",
    "    #print('adding conv3D 2')\n",
    "    #model.add(layers.Conv3D(128, kernel_size = 5, activation = 'relu', padding='same'))\n",
    "    #model.add(layers.MaxPooling3D(2))\n",
    "\n",
    "    #print('adding conv3D 3')\n",
    "    #model.add(layers.Conv3D(64, kernel_size = 3, activation = 'relu', padding='same'))\n",
    "    #model.add(layers.MaxPooling3D(2,))     \n",
    "\n",
    "    print('flattening')\n",
    "    model.add(layers.Flatten())\n",
    "    \n",
    "    print('adding dense layer 1')\n",
    "    model.add(layers.Dense(5_000, activation = 'relu'))\n",
    "    \n",
    "    print('adding dense layer 2')\n",
    "    model.add(layers.Dense(50_000, activation = 'relu'))\n",
    "    \n",
    "    print('adding dense layer 3')\n",
    "    model.add(layers.Dense(lat_size * lon_size, activation = 'relu'))\n",
    "    \n",
    "    print('adding dense layer 4')\n",
    "    model.add(layers.Dense(lat_size * lon_size * y_length/2, activation = 'relu'))\n",
    "    \n",
    "    #print('adding dense layer 2')\n",
    "    #model.add(layers.Dropout(rate=0.5))\n",
    "\n",
    "    print('adding final dense layer')\n",
    "    model.add(layers.Dense(y_length * lat_size * lon_size, activation = 'relu'))\n",
    "    \n",
    "    print('Reshaping')\n",
    "    model.add(layers.Reshape((lat_size, lon_size, y_length)))\n",
    "    \n",
    "    print('compiling')\n",
    "    model.compile(loss = 'mse',\n",
    "                  optimizer = 'adam',\n",
    "                  metrics = 'mae')\n",
    "    print('Done !')\n",
    "    \n",
    "    return model"
   ]
  },
  {
   "cell_type": "markdown",
   "metadata": {},
   "source": [
    "### Running Model (Instance, Early Stopping, Fit and Evaluate)"
   ]
  },
  {
   "cell_type": "markdown",
   "metadata": {},
   "source": [
    "**Reminders**\n",
    "\n",
    "**batch_size:** no. of data used to compute error between y_pred and y_true each time weights of neural network updated (use 16 or 32)\n",
    "\n",
    "**epoch:** once all data has been used once to update the weights"
   ]
  },
  {
   "cell_type": "code",
   "execution_count": null,
   "metadata": {
    "ExecuteTime": {
     "start_time": "2020-12-07T15:08:05.193Z"
    }
   },
   "outputs": [],
   "source": [
    "model = init_model(x_length,y_length, lat_size, lon_size)"
   ]
  },
  {
   "cell_type": "code",
   "execution_count": null,
   "metadata": {
    "ExecuteTime": {
     "start_time": "2020-12-07T13:21:08.932Z"
    }
   },
   "outputs": [],
   "source": [
    "model.summary()"
   ]
  },
  {
   "cell_type": "code",
   "execution_count": null,
   "metadata": {
    "ExecuteTime": {
     "end_time": "2020-12-06T15:56:04.270210Z",
     "start_time": "2020-12-06T15:44:44.413837Z"
    }
   },
   "outputs": [],
   "source": [
    "es = EarlyStopping(patience = 5, restore_best_weights=True)\n",
    "\n",
    "history = model.fit(X_train, y_train,\n",
    "                      batch_size = 32, \n",
    "                      epochs = 2,\n",
    "                      validation_split = 0.3,\n",
    "                      callbacks = es)"
   ]
  },
  {
   "cell_type": "code",
   "execution_count": null,
   "metadata": {
    "ExecuteTime": {
     "end_time": "2020-12-05T13:40:35.821732Z",
     "start_time": "2020-12-05T13:40:35.811246Z"
    }
   },
   "outputs": [],
   "source": [
    "history.history.keys()"
   ]
  },
  {
   "cell_type": "code",
   "execution_count": null,
   "metadata": {
    "ExecuteTime": {
     "end_time": "2020-12-05T13:40:51.798022Z",
     "start_time": "2020-12-05T13:40:51.415337Z"
    }
   },
   "outputs": [],
   "source": [
    "plt.plot(history.history['val_loss'])"
   ]
  },
  {
   "cell_type": "code",
   "execution_count": null,
   "metadata": {
    "ExecuteTime": {
     "end_time": "2020-12-05T13:41:15.265005Z",
     "start_time": "2020-12-05T13:41:14.987087Z"
    }
   },
   "outputs": [],
   "source": [
    "plt.plot(history.history['val_mae'])"
   ]
  },
  {
   "cell_type": "code",
   "execution_count": null,
   "metadata": {
    "ExecuteTime": {
     "end_time": "2020-12-05T13:44:29.053250Z",
     "start_time": "2020-12-05T13:44:21.094787Z"
    }
   },
   "outputs": [],
   "source": [
    "print(model.evaluate(X_test, y_test))"
   ]
  },
  {
   "cell_type": "code",
   "execution_count": null,
   "metadata": {},
   "outputs": [],
   "source": [
    "y_pred = model.predict(X_test)"
   ]
  },
  {
   "cell_type": "code",
   "execution_count": null,
   "metadata": {},
   "outputs": [],
   "source": [
    "y_pred = flatten"
   ]
  },
  {
   "cell_type": "code",
   "execution_count": null,
   "metadata": {},
   "outputs": [],
   "source": [
    "y_pred.reshape(y_length, lat_size, lon_size)"
   ]
  },
  {
   "cell_type": "markdown",
   "metadata": {},
   "source": [
    "## From coord to map"
   ]
  },
  {
   "cell_type": "code",
   "execution_count": null,
   "metadata": {
    "ExecuteTime": {
     "end_time": "2020-12-06T23:24:07.312141Z",
     "start_time": "2020-12-06T23:24:07.300383Z"
    }
   },
   "outputs": [],
   "source": [
    "def from_matrix_to_coord(matrix, lat_meters, lon_meters):\n",
    "        \"\"\"\n",
    "        gives back the coordinates from a 3D matrix for a given bucket height and width\n",
    "        \"\"\"\n",
    "        results = []\n",
    "        for observation in matrix:\n",
    "            # Where do you start\n",
    "            grid_offset = np.array([0, -40.91553277600008,  -74.25559136315213,])\n",
    "\n",
    "            #from meters to lat/lon step\n",
    "            lat_spacing, lon_spacing = from_meters_to_coords(lat_meters, lon_meters)\n",
    "\n",
    "            # What's the space you consider (euclidian here)\n",
    "            grid_spacing = np.array([1, lat_spacing, lon_spacing])\n",
    "\n",
    "            indexes = np.argwhere(observation)\n",
    "            #print(indexes.shape)\n",
    "            # index : coords de mes crimes dans mon np array\n",
    "            result = grid_offset + indexes * grid_spacing\n",
    "            results.append(result)\n",
    "        return np.array(results)"
   ]
  },
  {
   "cell_type": "code",
   "execution_count": null,
   "metadata": {
    "ExecuteTime": {
     "end_time": "2020-12-06T23:24:22.507000Z",
     "start_time": "2020-12-06T23:24:21.493658Z"
    }
   },
   "outputs": [],
   "source": [
    "y_pred_notsure = np.where((y_train>5*10**(-4)) & (y_train<5*10**(-3)), y_train, 0)\n",
    "y_pred_middle = np.where((y_train>5*10**(-3)) & (y_train<1*10**(-2)), y_train, 0)\n",
    "y_pred_sure = np.where(y_train>1*10**(-2), y_train, 0)\n",
    "\n",
    "#y_pred_notsure = np.where((y_pred>5*10**(-3)) & (y_pred<1*10**(-2)), y_pred, 0)\n",
    "#y_pred_middle = np.where((y_pred>1*10**(-2)) & (y_pred<1.8*10**(-2)), y_pred, 0)\n",
    "#y_pred_sure = np.where(y_pred>1.8*10**(-2), y_pred, 0)"
   ]
  },
  {
   "cell_type": "code",
   "execution_count": null,
   "metadata": {
    "ExecuteTime": {
     "end_time": "2020-12-06T23:24:42.491969Z",
     "start_time": "2020-12-06T23:24:40.454065Z"
    }
   },
   "outputs": [],
   "source": [
    "coords_not_sure = from_matrix_to_coord(y_pred_notsure, 200, 200)\n",
    "coords_middle = from_matrix_to_coord(y_pred_middle, 200, 200)\n",
    "coords_sure = from_matrix_to_coord(y_pred_sure, 200, 200)"
   ]
  },
  {
   "cell_type": "code",
   "execution_count": null,
   "metadata": {
    "ExecuteTime": {
     "end_time": "2020-12-06T23:24:44.227319Z",
     "start_time": "2020-12-06T23:24:44.213928Z"
    }
   },
   "outputs": [],
   "source": [
    "coords_back_not_sure_df = pd.DataFrame(coords_not_sure[0], columns=['image', 'lat', 'lon'])\n",
    "coords_back_not_sure_df['right_lat'] = -coords_back_not_sure_df['lat']\n",
    "\n",
    "coords_middle_df = pd.DataFrame(coords_middle[0], columns=['image', 'lat', 'lon'])\n",
    "coords_middle_df['right_lat'] = -coords_middle_df['lat']\n",
    "\n",
    "coords_back_sure_df = pd.DataFrame(coords_sure[0], columns=['image', 'lat', 'lon'])\n",
    "coords_back_sure_df['right_lat'] = -coords_back_sure_df['lat']"
   ]
  },
  {
   "cell_type": "code",
   "execution_count": null,
   "metadata": {
    "ExecuteTime": {
     "end_time": "2020-12-06T23:24:46.073749Z",
     "start_time": "2020-12-06T23:24:46.056400Z"
    }
   },
   "outputs": [],
   "source": [
    "last_image_not_sure = coords_back_not_sure_df[coords_back_not_sure_df['image']==2.0]\n",
    "last_image_middle = coords_middle_df[coords_middle_df['image']==2.0]\n",
    "last_image_sure = coords_back_sure_df[coords_back_sure_df['image']==2.0]"
   ]
  },
  {
   "cell_type": "code",
   "execution_count": null,
   "metadata": {
    "ExecuteTime": {
     "end_time": "2020-12-06T23:24:57.300782Z",
     "start_time": "2020-12-06T23:24:57.004143Z"
    }
   },
   "outputs": [],
   "source": [
    "import seaborn as sns"
   ]
  },
  {
   "cell_type": "code",
   "execution_count": null,
   "metadata": {
    "ExecuteTime": {
     "end_time": "2020-12-06T23:24:59.672439Z",
     "start_time": "2020-12-06T23:24:59.138383Z"
    }
   },
   "outputs": [],
   "source": [
    "fig, ax = plt.subplots(figsize=(10,10))\n",
    "\n",
    "ax.set_xlim(left=-74.25559136315213, right=-73.70000906387347)\n",
    "ax.set_ylim(bottom = 40.49611539518921, top=40.91553277600008)\n",
    "sns.scatterplot(x='lon', y='right_lat', data=last_image_not_sure, s=2, ax=ax)\n",
    "sns.scatterplot(x='lon', y='right_lat', data=last_image_middle, s=2, ax=ax)\n",
    "sns.scatterplot(x='lon', y='right_lat', data=last_image_sure, s=2, ax=ax)\n",
    "plt.legend()"
   ]
  },
  {
   "cell_type": "code",
   "execution_count": null,
   "metadata": {},
   "outputs": [],
   "source": [
    "#modèle clairement pourri car il indique des crimes sur staten island\n",
    "#voir baseline modèle (on est en dessous)"
   ]
  },
  {
   "cell_type": "code",
   "execution_count": null,
   "metadata": {},
   "outputs": [],
   "source": []
  }
 ],
 "metadata": {
  "kernelspec": {
   "display_name": "Python 3",
   "language": "python",
   "name": "python3"
  },
  "language_info": {
   "codemirror_mode": {
    "name": "ipython",
    "version": 3
   },
   "file_extension": ".py",
   "mimetype": "text/x-python",
   "name": "python",
   "nbconvert_exporter": "python",
   "pygments_lexer": "ipython3",
   "version": "3.8.6"
  },
  "toc": {
   "base_numbering": 1,
   "nav_menu": {},
   "number_sections": true,
   "sideBar": true,
   "skip_h1_title": false,
   "title_cell": "Table of Contents",
   "title_sidebar": "Contents",
   "toc_cell": false,
   "toc_position": {},
   "toc_section_display": true,
   "toc_window_display": false
  },
  "varInspector": {
   "cols": {
    "lenName": 16,
    "lenType": 16,
    "lenVar": 40
   },
   "kernels_config": {
    "python": {
     "delete_cmd_postfix": "",
     "delete_cmd_prefix": "del ",
     "library": "var_list.py",
     "varRefreshCmd": "print(var_dic_list())"
    },
    "r": {
     "delete_cmd_postfix": ") ",
     "delete_cmd_prefix": "rm(",
     "library": "var_list.r",
     "varRefreshCmd": "cat(var_dic_list()) "
    }
   },
   "position": {
    "height": "334.85px",
    "left": "880px",
    "right": "20px",
    "top": "16px",
    "width": "350px"
   },
   "types_to_exclude": [
    "module",
    "function",
    "builtin_function_or_method",
    "instance",
    "_Feature"
   ],
   "window_display": false
  }
 },
 "nbformat": 4,
 "nbformat_minor": 4
}
