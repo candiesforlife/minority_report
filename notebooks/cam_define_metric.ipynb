{
 "cells": [
  {
   "cell_type": "code",
   "execution_count": 1,
   "metadata": {
    "ExecuteTime": {
     "end_time": "2020-12-04T14:45:35.511136Z",
     "start_time": "2020-12-04T14:45:33.667023Z"
    }
   },
   "outputs": [],
   "source": [
    "from minority_report.clean_data import CleanData\n",
    "from minority_report.scaling import Scaling\n",
    "\n",
    "import pandas as pd\n",
    "import numpy as np\n",
    "from datetime import datetime\n",
    "\n",
    "import matplotlib.pyplot as plt\n",
    "from skimage import io, color\n",
    "from scipy.interpolate import griddata"
   ]
  },
  {
   "cell_type": "code",
   "execution_count": 2,
   "metadata": {
    "ExecuteTime": {
     "end_time": "2020-12-04T14:45:47.072613Z",
     "start_time": "2020-12-04T14:45:37.740770Z"
    }
   },
   "outputs": [
    {
     "data": {
      "text/html": [
       "<div>\n",
       "<style scoped>\n",
       "    .dataframe tbody tr th:only-of-type {\n",
       "        vertical-align: middle;\n",
       "    }\n",
       "\n",
       "    .dataframe tbody tr th {\n",
       "        vertical-align: top;\n",
       "    }\n",
       "\n",
       "    .dataframe thead th {\n",
       "        text-align: right;\n",
       "    }\n",
       "</style>\n",
       "<table border=\"1\" class=\"dataframe\">\n",
       "  <thead>\n",
       "    <tr style=\"text-align: right;\">\n",
       "      <th></th>\n",
       "      <th>precinct_number</th>\n",
       "      <th>offense_type</th>\n",
       "      <th>crime_completed</th>\n",
       "      <th>offense_level</th>\n",
       "      <th>premise_desc</th>\n",
       "      <th>premise</th>\n",
       "      <th>jurisdiction</th>\n",
       "      <th>park_name</th>\n",
       "      <th>suspect_age</th>\n",
       "      <th>suspect_race</th>\n",
       "      <th>suspect_sex</th>\n",
       "      <th>latitude</th>\n",
       "      <th>longitude</th>\n",
       "      <th>metro</th>\n",
       "      <th>victim_age</th>\n",
       "      <th>victim_race</th>\n",
       "      <th>victim_sex</th>\n",
       "      <th>period</th>\n",
       "      <th>borough</th>\n",
       "      <th>patrol_borough</th>\n",
       "    </tr>\n",
       "  </thead>\n",
       "  <tbody>\n",
       "    <tr>\n",
       "      <th>0</th>\n",
       "      <td>73</td>\n",
       "      <td>OFFENSES AGAINST PUBLIC ADMINI</td>\n",
       "      <td>COMPLETED</td>\n",
       "      <td>MISDEMEANOR</td>\n",
       "      <td>INSIDE</td>\n",
       "      <td>RESIDENCE - PUBLIC HOUSING</td>\n",
       "      <td>N.Y. HOUSING POLICE</td>\n",
       "      <td>NOT PARK</td>\n",
       "      <td>25-44</td>\n",
       "      <td>BLACK</td>\n",
       "      <td>M</td>\n",
       "      <td>3.25342e+08</td>\n",
       "      <td>3.25342e+08</td>\n",
       "      <td>NOT SUBWAY</td>\n",
       "      <td>&lt;18</td>\n",
       "      <td>BLACK</td>\n",
       "      <td>M</td>\n",
       "      <td>2015-02-11 15:00:00</td>\n",
       "      <td>BROOKLYN</td>\n",
       "      <td>PATROL BORO BKLYN NORTH</td>\n",
       "    </tr>\n",
       "    <tr>\n",
       "      <th>1</th>\n",
       "      <td>69</td>\n",
       "      <td>ASSAULT 3 &amp; RELATED OFFENSES</td>\n",
       "      <td>COMPLETED</td>\n",
       "      <td>MISDEMEANOR</td>\n",
       "      <td>INSIDE</td>\n",
       "      <td>RESIDENCE-HOUSE</td>\n",
       "      <td>N.Y. POLICE DEPT</td>\n",
       "      <td>NOT PARK</td>\n",
       "      <td>UNKNOWN</td>\n",
       "      <td>UNKNOWN</td>\n",
       "      <td>UNKNOWN</td>\n",
       "      <td>3.93817e+08</td>\n",
       "      <td>3.93817e+08</td>\n",
       "      <td>NOT SUBWAY</td>\n",
       "      <td>45-64</td>\n",
       "      <td>BLACK</td>\n",
       "      <td>F</td>\n",
       "      <td>2012-03-17 10:00:00</td>\n",
       "      <td>BROOKLYN</td>\n",
       "      <td>PATROL BORO BKLYN SOUTH</td>\n",
       "    </tr>\n",
       "    <tr>\n",
       "      <th>2</th>\n",
       "      <td>71</td>\n",
       "      <td>HARRASSMENT 2</td>\n",
       "      <td>COMPLETED</td>\n",
       "      <td>VIOLATION</td>\n",
       "      <td>INSIDE</td>\n",
       "      <td>PUBLIC SCHOOL</td>\n",
       "      <td>N.Y. POLICE DEPT</td>\n",
       "      <td>NOT PARK</td>\n",
       "      <td>&lt;18</td>\n",
       "      <td>BLACK</td>\n",
       "      <td>M</td>\n",
       "      <td>8.02896e+08</td>\n",
       "      <td>8.02896e+08</td>\n",
       "      <td>NOT SUBWAY</td>\n",
       "      <td>18-24</td>\n",
       "      <td>BLACK</td>\n",
       "      <td>M</td>\n",
       "      <td>2016-10-27 13:00:00</td>\n",
       "      <td>BROOKLYN</td>\n",
       "      <td>PATROL BORO BKLYN SOUTH</td>\n",
       "    </tr>\n",
       "    <tr>\n",
       "      <th>3</th>\n",
       "      <td>112</td>\n",
       "      <td>RAPE</td>\n",
       "      <td>COMPLETED</td>\n",
       "      <td>FELONY</td>\n",
       "      <td>INSIDE</td>\n",
       "      <td>RESIDENCE - APT. HOUSE</td>\n",
       "      <td>N.Y. POLICE DEPT</td>\n",
       "      <td>NOT PARK</td>\n",
       "      <td>25-44</td>\n",
       "      <td>WHITE HISPANIC</td>\n",
       "      <td>M</td>\n",
       "      <td>6.33812e+08</td>\n",
       "      <td>6.33812e+08</td>\n",
       "      <td>NOT SUBWAY</td>\n",
       "      <td>25-44</td>\n",
       "      <td>WHITE</td>\n",
       "      <td>F</td>\n",
       "      <td>2014-11-27 19:00:00</td>\n",
       "      <td>QUEENS</td>\n",
       "      <td>PATROL BORO QUEENS NORTH</td>\n",
       "    </tr>\n",
       "    <tr>\n",
       "      <th>4</th>\n",
       "      <td>24</td>\n",
       "      <td>GRAND LARCENY</td>\n",
       "      <td>COMPLETED</td>\n",
       "      <td>FELONY</td>\n",
       "      <td>INSIDE</td>\n",
       "      <td>DOCTOR/DENTIST OFFICE</td>\n",
       "      <td>N.Y. POLICE DEPT</td>\n",
       "      <td>NOT PARK</td>\n",
       "      <td>UNKNOWN</td>\n",
       "      <td>UNKNOWN</td>\n",
       "      <td>UNKNOWN</td>\n",
       "      <td>3.0035e+08</td>\n",
       "      <td>3.0035e+08</td>\n",
       "      <td>NOT SUBWAY</td>\n",
       "      <td>45-64</td>\n",
       "      <td>WHITE</td>\n",
       "      <td>F</td>\n",
       "      <td>2013-12-11 13:00:00</td>\n",
       "      <td>MANHATTAN</td>\n",
       "      <td>PATROL BORO MAN NORTH</td>\n",
       "    </tr>\n",
       "    <tr>\n",
       "      <th>...</th>\n",
       "      <td>...</td>\n",
       "      <td>...</td>\n",
       "      <td>...</td>\n",
       "      <td>...</td>\n",
       "      <td>...</td>\n",
       "      <td>...</td>\n",
       "      <td>...</td>\n",
       "      <td>...</td>\n",
       "      <td>...</td>\n",
       "      <td>...</td>\n",
       "      <td>...</td>\n",
       "      <td>...</td>\n",
       "      <td>...</td>\n",
       "      <td>...</td>\n",
       "      <td>...</td>\n",
       "      <td>...</td>\n",
       "      <td>...</td>\n",
       "      <td>...</td>\n",
       "      <td>...</td>\n",
       "      <td>...</td>\n",
       "    </tr>\n",
       "    <tr>\n",
       "      <th>6983202</th>\n",
       "      <td>109</td>\n",
       "      <td>ASSAULT 3 &amp; RELATED OFFENSES</td>\n",
       "      <td>COMPLETED</td>\n",
       "      <td>MISDEMEANOR</td>\n",
       "      <td>INSIDE</td>\n",
       "      <td>RESIDENCE - APT. HOUSE</td>\n",
       "      <td>N.Y. POLICE DEPT</td>\n",
       "      <td>NOT PARK</td>\n",
       "      <td>25-44</td>\n",
       "      <td>WHITE HISPANIC</td>\n",
       "      <td>M</td>\n",
       "      <td>2.25471e+08</td>\n",
       "      <td>2.25471e+08</td>\n",
       "      <td>NOT SUBWAY</td>\n",
       "      <td>25-44</td>\n",
       "      <td>ASIAN / PACIFIC ISLANDER</td>\n",
       "      <td>F</td>\n",
       "      <td>2018-12-02 04:00:00</td>\n",
       "      <td>QUEENS</td>\n",
       "      <td>PATROL BORO QUEENS NORTH</td>\n",
       "    </tr>\n",
       "    <tr>\n",
       "      <th>6983203</th>\n",
       "      <td>25</td>\n",
       "      <td>OFF. AGNST PUB ORD SENSBLTY &amp;</td>\n",
       "      <td>COMPLETED</td>\n",
       "      <td>MISDEMEANOR</td>\n",
       "      <td>INSIDE</td>\n",
       "      <td>RESIDENCE - APT. HOUSE</td>\n",
       "      <td>N.Y. POLICE DEPT</td>\n",
       "      <td>NOT PARK</td>\n",
       "      <td>25-44</td>\n",
       "      <td>BLACK</td>\n",
       "      <td>F</td>\n",
       "      <td>3.68442e+08</td>\n",
       "      <td>3.68442e+08</td>\n",
       "      <td>NOT SUBWAY</td>\n",
       "      <td>25-44</td>\n",
       "      <td>BLACK</td>\n",
       "      <td>M</td>\n",
       "      <td>2018-01-20 00:00:00</td>\n",
       "      <td>MANHATTAN</td>\n",
       "      <td>PATROL BORO MAN NORTH</td>\n",
       "    </tr>\n",
       "    <tr>\n",
       "      <th>6983204</th>\n",
       "      <td>41</td>\n",
       "      <td>CRIMINAL MISCHIEF &amp; RELATED OF</td>\n",
       "      <td>COMPLETED</td>\n",
       "      <td>FELONY</td>\n",
       "      <td>FRONT OF</td>\n",
       "      <td>STREET</td>\n",
       "      <td>N.Y. POLICE DEPT</td>\n",
       "      <td>NOT PARK</td>\n",
       "      <td>UNKNOWN</td>\n",
       "      <td>UNKNOWN</td>\n",
       "      <td>UNKNOWN</td>\n",
       "      <td>1.46134e+08</td>\n",
       "      <td>1.46134e+08</td>\n",
       "      <td>NOT SUBWAY</td>\n",
       "      <td>25-44</td>\n",
       "      <td>BLACK HISPANIC</td>\n",
       "      <td>F</td>\n",
       "      <td>2018-08-03 22:00:00</td>\n",
       "      <td>BRONX</td>\n",
       "      <td>PATROL BORO BRONX</td>\n",
       "    </tr>\n",
       "    <tr>\n",
       "      <th>6983205</th>\n",
       "      <td>107</td>\n",
       "      <td>FRAUDS</td>\n",
       "      <td>COMPLETED</td>\n",
       "      <td>MISDEMEANOR</td>\n",
       "      <td>INSIDE</td>\n",
       "      <td>RESIDENCE - APT. HOUSE</td>\n",
       "      <td>N.Y. POLICE DEPT</td>\n",
       "      <td>NOT PARK</td>\n",
       "      <td>UNKNOWN</td>\n",
       "      <td>UNKNOWN</td>\n",
       "      <td>U</td>\n",
       "      <td>7.63119e+08</td>\n",
       "      <td>7.63119e+08</td>\n",
       "      <td>NOT SUBWAY</td>\n",
       "      <td>18-24</td>\n",
       "      <td>ASIAN / PACIFIC ISLANDER</td>\n",
       "      <td>M</td>\n",
       "      <td>2018-12-10 11:00:00</td>\n",
       "      <td>QUEENS</td>\n",
       "      <td>PATROL BORO QUEENS SOUTH</td>\n",
       "    </tr>\n",
       "    <tr>\n",
       "      <th>6983206</th>\n",
       "      <td>67</td>\n",
       "      <td>GRAND LARCENY OF MOTOR VEHICLE</td>\n",
       "      <td>COMPLETED</td>\n",
       "      <td>FELONY</td>\n",
       "      <td>INSIDE</td>\n",
       "      <td>STORE UNCLASSIFIED</td>\n",
       "      <td>N.Y. POLICE DEPT</td>\n",
       "      <td>NOT PARK</td>\n",
       "      <td>UNKNOWN</td>\n",
       "      <td>UNKNOWN</td>\n",
       "      <td>UNKNOWN</td>\n",
       "      <td>1.76656e+08</td>\n",
       "      <td>1.76656e+08</td>\n",
       "      <td>NOT SUBWAY</td>\n",
       "      <td>UNKNOWN</td>\n",
       "      <td>UNKNOWN</td>\n",
       "      <td>D</td>\n",
       "      <td>2018-11-15 10:00:00</td>\n",
       "      <td>BROOKLYN</td>\n",
       "      <td>PATROL BORO BKLYN SOUTH</td>\n",
       "    </tr>\n",
       "  </tbody>\n",
       "</table>\n",
       "<p>6416137 rows × 20 columns</p>\n",
       "</div>"
      ],
      "text/plain": [
       "         precinct_number                    offense_type crime_completed  \\\n",
       "0                     73  OFFENSES AGAINST PUBLIC ADMINI       COMPLETED   \n",
       "1                     69    ASSAULT 3 & RELATED OFFENSES       COMPLETED   \n",
       "2                     71                   HARRASSMENT 2       COMPLETED   \n",
       "3                    112                            RAPE       COMPLETED   \n",
       "4                     24                   GRAND LARCENY       COMPLETED   \n",
       "...                  ...                             ...             ...   \n",
       "6983202              109    ASSAULT 3 & RELATED OFFENSES       COMPLETED   \n",
       "6983203               25   OFF. AGNST PUB ORD SENSBLTY &       COMPLETED   \n",
       "6983204               41  CRIMINAL MISCHIEF & RELATED OF       COMPLETED   \n",
       "6983205              107                          FRAUDS       COMPLETED   \n",
       "6983206               67  GRAND LARCENY OF MOTOR VEHICLE       COMPLETED   \n",
       "\n",
       "        offense_level premise_desc                     premise  \\\n",
       "0         MISDEMEANOR       INSIDE  RESIDENCE - PUBLIC HOUSING   \n",
       "1         MISDEMEANOR       INSIDE             RESIDENCE-HOUSE   \n",
       "2           VIOLATION       INSIDE               PUBLIC SCHOOL   \n",
       "3              FELONY       INSIDE      RESIDENCE - APT. HOUSE   \n",
       "4              FELONY       INSIDE       DOCTOR/DENTIST OFFICE   \n",
       "...               ...          ...                         ...   \n",
       "6983202   MISDEMEANOR       INSIDE      RESIDENCE - APT. HOUSE   \n",
       "6983203   MISDEMEANOR       INSIDE      RESIDENCE - APT. HOUSE   \n",
       "6983204        FELONY     FRONT OF                      STREET   \n",
       "6983205   MISDEMEANOR       INSIDE      RESIDENCE - APT. HOUSE   \n",
       "6983206        FELONY       INSIDE          STORE UNCLASSIFIED   \n",
       "\n",
       "                jurisdiction park_name suspect_age    suspect_race  \\\n",
       "0        N.Y. HOUSING POLICE  NOT PARK       25-44           BLACK   \n",
       "1           N.Y. POLICE DEPT  NOT PARK     UNKNOWN         UNKNOWN   \n",
       "2           N.Y. POLICE DEPT  NOT PARK         <18           BLACK   \n",
       "3           N.Y. POLICE DEPT  NOT PARK       25-44  WHITE HISPANIC   \n",
       "4           N.Y. POLICE DEPT  NOT PARK     UNKNOWN         UNKNOWN   \n",
       "...                      ...       ...         ...             ...   \n",
       "6983202     N.Y. POLICE DEPT  NOT PARK       25-44  WHITE HISPANIC   \n",
       "6983203     N.Y. POLICE DEPT  NOT PARK       25-44           BLACK   \n",
       "6983204     N.Y. POLICE DEPT  NOT PARK     UNKNOWN         UNKNOWN   \n",
       "6983205     N.Y. POLICE DEPT  NOT PARK     UNKNOWN         UNKNOWN   \n",
       "6983206     N.Y. POLICE DEPT  NOT PARK     UNKNOWN         UNKNOWN   \n",
       "\n",
       "        suspect_sex     latitude    longitude        metro victim_age  \\\n",
       "0                 M  3.25342e+08  3.25342e+08  NOT SUBWAY         <18   \n",
       "1           UNKNOWN  3.93817e+08  3.93817e+08  NOT SUBWAY       45-64   \n",
       "2                 M  8.02896e+08  8.02896e+08  NOT SUBWAY       18-24   \n",
       "3                 M  6.33812e+08  6.33812e+08  NOT SUBWAY       25-44   \n",
       "4           UNKNOWN   3.0035e+08   3.0035e+08  NOT SUBWAY       45-64   \n",
       "...             ...          ...          ...          ...        ...   \n",
       "6983202           M  2.25471e+08  2.25471e+08  NOT SUBWAY       25-44   \n",
       "6983203           F  3.68442e+08  3.68442e+08  NOT SUBWAY       25-44   \n",
       "6983204     UNKNOWN  1.46134e+08  1.46134e+08  NOT SUBWAY       25-44   \n",
       "6983205           U  7.63119e+08  7.63119e+08  NOT SUBWAY       18-24   \n",
       "6983206     UNKNOWN  1.76656e+08  1.76656e+08  NOT SUBWAY     UNKNOWN   \n",
       "\n",
       "                      victim_race victim_sex               period    borough  \\\n",
       "0                           BLACK          M  2015-02-11 15:00:00   BROOKLYN   \n",
       "1                           BLACK          F  2012-03-17 10:00:00   BROOKLYN   \n",
       "2                           BLACK          M  2016-10-27 13:00:00   BROOKLYN   \n",
       "3                           WHITE          F  2014-11-27 19:00:00     QUEENS   \n",
       "4                           WHITE          F  2013-12-11 13:00:00  MANHATTAN   \n",
       "...                           ...        ...                  ...        ...   \n",
       "6983202  ASIAN / PACIFIC ISLANDER          F  2018-12-02 04:00:00     QUEENS   \n",
       "6983203                     BLACK          M  2018-01-20 00:00:00  MANHATTAN   \n",
       "6983204            BLACK HISPANIC          F  2018-08-03 22:00:00      BRONX   \n",
       "6983205  ASIAN / PACIFIC ISLANDER          M  2018-12-10 11:00:00     QUEENS   \n",
       "6983206                   UNKNOWN          D  2018-11-15 10:00:00   BROOKLYN   \n",
       "\n",
       "                   patrol_borough  \n",
       "0         PATROL BORO BKLYN NORTH  \n",
       "1         PATROL BORO BKLYN SOUTH  \n",
       "2         PATROL BORO BKLYN SOUTH  \n",
       "3        PATROL BORO QUEENS NORTH  \n",
       "4           PATROL BORO MAN NORTH  \n",
       "...                           ...  \n",
       "6983202  PATROL BORO QUEENS NORTH  \n",
       "6983203     PATROL BORO MAN NORTH  \n",
       "6983204         PATROL BORO BRONX  \n",
       "6983205  PATROL BORO QUEENS SOUTH  \n",
       "6983206   PATROL BORO BKLYN SOUTH  \n",
       "\n",
       "[6416137 rows x 20 columns]"
      ]
     },
     "execution_count": 2,
     "metadata": {},
     "output_type": "execute_result"
    }
   ],
   "source": [
    "df = Scaling()\n",
    "df.load_data()"
   ]
  },
  {
   "cell_type": "code",
   "execution_count": 3,
   "metadata": {
    "ExecuteTime": {
     "end_time": "2020-12-04T14:45:54.782724Z",
     "start_time": "2020-12-04T14:45:53.580556Z"
    }
   },
   "outputs": [],
   "source": [
    "lat_interv = df.data['latitude'].between(40.49611539518921, 40.91553277600008)\n",
    "lon_interv = df.data['longitude'].between(-74.25559136315213,-73.70000906387347)"
   ]
  },
  {
   "cell_type": "code",
   "execution_count": null,
   "metadata": {
    "ExecuteTime": {
     "end_time": "2020-12-04T14:26:41.068336Z",
     "start_time": "2020-12-04T14:26:41.049521Z"
    }
   },
   "outputs": [],
   "source": [
    "df = df.data[['period', 'latitude', 'longitude']]"
   ]
  },
  {
   "cell_type": "code",
   "execution_count": null,
   "metadata": {},
   "outputs": [],
   "source": [
    "print(df['longitude'].min(), df['longitude'].min())"
   ]
  },
  {
   "cell_type": "code",
   "execution_count": null,
   "metadata": {
    "ExecuteTime": {
     "end_time": "2020-12-04T13:38:15.745528Z",
     "start_time": "2020-12-04T13:38:14.692441Z"
    }
   },
   "outputs": [],
   "source": [
    "inf = df['period'] > datetime(2016, 2, 1, 0, 0, 0)\n",
    "sup = df['period'] < datetime(2016, 3, 1, 0, 0, 0)\n",
    "sample = df[ inf & sup ]"
   ]
  },
  {
   "cell_type": "code",
   "execution_count": null,
   "metadata": {
    "ExecuteTime": {
     "end_time": "2020-12-04T13:38:31.893192Z",
     "start_time": "2020-12-04T13:38:31.867261Z"
    }
   },
   "outputs": [],
   "source": [
    "sample.head()"
   ]
  },
  {
   "cell_type": "markdown",
   "metadata": {},
   "source": [
    "# Test on meshgrid and griddata"
   ]
  },
  {
   "cell_type": "code",
   "execution_count": null,
   "metadata": {
    "ExecuteTime": {
     "end_time": "2020-12-04T13:29:35.167724Z",
     "start_time": "2020-12-04T13:29:35.148907Z"
    }
   },
   "outputs": [],
   "source": [
    "X, Y = np.meshgrid([1,2,3], [2,5,6,8])\n",
    "XI,YI = np.meshgrid([1,2,3],[4,5,6,7])"
   ]
  },
  {
   "cell_type": "code",
   "execution_count": null,
   "metadata": {
    "ExecuteTime": {
     "end_time": "2020-12-04T13:29:37.170014Z",
     "start_time": "2020-12-04T13:29:37.156299Z"
    }
   },
   "outputs": [],
   "source": [
    "X"
   ]
  },
  {
   "cell_type": "code",
   "execution_count": null,
   "metadata": {
    "ExecuteTime": {
     "end_time": "2020-12-04T13:29:47.437164Z",
     "start_time": "2020-12-04T13:29:47.419148Z"
    }
   },
   "outputs": [],
   "source": [
    "Y"
   ]
  },
  {
   "cell_type": "code",
   "execution_count": null,
   "metadata": {
    "ExecuteTime": {
     "end_time": "2020-12-04T13:30:53.045087Z",
     "start_time": "2020-12-04T13:30:53.029267Z"
    }
   },
   "outputs": [],
   "source": [
    "XI"
   ]
  },
  {
   "cell_type": "code",
   "execution_count": null,
   "metadata": {
    "ExecuteTime": {
     "end_time": "2020-12-04T13:30:56.608716Z",
     "start_time": "2020-12-04T13:30:56.584590Z"
    }
   },
   "outputs": [],
   "source": [
    "YI"
   ]
  },
  {
   "cell_type": "code",
   "execution_count": null,
   "metadata": {
    "ExecuteTime": {
     "end_time": "2020-12-04T13:32:11.727544Z",
     "start_time": "2020-12-04T13:32:11.707528Z"
    }
   },
   "outputs": [],
   "source": [
    "grid = griddata((X.ravel(),Y.ravel()), (X**2+Y**2).ravel(), (XI, YI))"
   ]
  },
  {
   "cell_type": "code",
   "execution_count": null,
   "metadata": {
    "ExecuteTime": {
     "end_time": "2020-12-04T13:32:15.569541Z",
     "start_time": "2020-12-04T13:32:15.547535Z"
    }
   },
   "outputs": [],
   "source": [
    "grid"
   ]
  },
  {
   "cell_type": "code",
   "execution_count": null,
   "metadata": {
    "ExecuteTime": {
     "end_time": "2020-12-04T13:33:49.533274Z",
     "start_time": "2020-12-04T13:33:49.516470Z"
    }
   },
   "outputs": [],
   "source": [
    "(X.ravel(),Y.ravel())"
   ]
  },
  {
   "cell_type": "code",
   "execution_count": null,
   "metadata": {
    "ExecuteTime": {
     "end_time": "2020-12-04T13:52:33.511598Z",
     "start_time": "2020-12-04T13:52:33.479190Z"
    }
   },
   "outputs": [],
   "source": [
    "(X**2+Y**2).ravel()"
   ]
  },
  {
   "cell_type": "code",
   "execution_count": null,
   "metadata": {},
   "outputs": [],
   "source": []
  },
  {
   "cell_type": "markdown",
   "metadata": {},
   "source": [
    "# Try out griddata"
   ]
  },
  {
   "cell_type": "code",
   "execution_count": null,
   "metadata": {
    "ExecuteTime": {
     "end_time": "2020-12-04T14:23:55.443890Z",
     "start_time": "2020-12-04T14:23:55.431603Z"
    }
   },
   "outputs": [],
   "source": [
    "lat = np.array(sample['latitude'])\n",
    "lon = np.array(sample['longitude'])\n",
    "period = np.array(sample['period'])\n"
   ]
  },
  {
   "cell_type": "code",
   "execution_count": null,
   "metadata": {
    "ExecuteTime": {
     "end_time": "2020-12-04T14:24:03.364040Z",
     "start_time": "2020-12-04T14:23:59.811Z"
    }
   },
   "outputs": [],
   "source": [
    "#griddata( à quelle position je le mets, qu'est-ce que je mets, dans quoi je le mets ?)\n",
    "image_grid = griddata((lat,lon), values, np.zeros(1000, 1000))"
   ]
  },
  {
   "cell_type": "markdown",
   "metadata": {},
   "source": [
    "# To function"
   ]
  },
  {
   "cell_type": "code",
   "execution_count": null,
   "metadata": {},
   "outputs": [],
   "source": [
    "def get_one_grid():\n",
    "    result = griddata((lat,lon, period), values, np.zeros(1000, 1000))\n",
    "    yield result"
   ]
  },
  {
   "cell_type": "code",
   "execution_count": null,
   "metadata": {},
   "outputs": [],
   "source": [
    "def get_all_grid():\n",
    "    results = list(get_one_grid())"
   ]
  }
 ],
 "metadata": {
  "kernelspec": {
   "display_name": "Python 3",
   "language": "python",
   "name": "python3"
  },
  "language_info": {
   "codemirror_mode": {
    "name": "ipython",
    "version": 3
   },
   "file_extension": ".py",
   "mimetype": "text/x-python",
   "name": "python",
   "nbconvert_exporter": "python",
   "pygments_lexer": "ipython3",
   "version": "3.8.5"
  },
  "toc": {
   "base_numbering": 1,
   "nav_menu": {},
   "number_sections": true,
   "sideBar": true,
   "skip_h1_title": false,
   "title_cell": "Table of Contents",
   "title_sidebar": "Contents",
   "toc_cell": false,
   "toc_position": {},
   "toc_section_display": true,
   "toc_window_display": false
  },
  "varInspector": {
   "cols": {
    "lenName": 16,
    "lenType": 16,
    "lenVar": 40
   },
   "kernels_config": {
    "python": {
     "delete_cmd_postfix": "",
     "delete_cmd_prefix": "del ",
     "library": "var_list.py",
     "varRefreshCmd": "print(var_dic_list())"
    },
    "r": {
     "delete_cmd_postfix": ") ",
     "delete_cmd_prefix": "rm(",
     "library": "var_list.r",
     "varRefreshCmd": "cat(var_dic_list()) "
    }
   },
   "types_to_exclude": [
    "module",
    "function",
    "builtin_function_or_method",
    "instance",
    "_Feature"
   ],
   "window_display": false
  }
 },
 "nbformat": 4,
 "nbformat_minor": 4
}
