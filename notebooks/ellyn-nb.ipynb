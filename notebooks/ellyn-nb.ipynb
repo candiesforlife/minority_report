{
 "cells": [
  {
   "cell_type": "code",
   "execution_count": 1,
   "metadata": {
    "ExecuteTime": {
     "end_time": "2020-12-01T15:53:08.552615Z",
     "start_time": "2020-12-01T15:52:34.985767Z"
    }
   },
   "outputs": [
    {
     "name": "stderr",
     "output_type": "stream",
     "text": [
      "/Users/ellynbouscasse/.pyenv/versions/3.8.5/envs/minority_report/lib/python3.8/site-packages/IPython/core/interactiveshell.py:3146: DtypeWarning: Columns (11) have mixed types.Specify dtype option on import or set low_memory=False.\n",
      "  has_raised = await self.run_ast_nodes(code_ast.body, cell_name,\n"
     ]
    },
    {
     "data": {
      "text/html": [
       "<div>\n",
       "<style scoped>\n",
       "    .dataframe tbody tr th:only-of-type {\n",
       "        vertical-align: middle;\n",
       "    }\n",
       "\n",
       "    .dataframe tbody tr th {\n",
       "        vertical-align: top;\n",
       "    }\n",
       "\n",
       "    .dataframe thead th {\n",
       "        text-align: right;\n",
       "    }\n",
       "</style>\n",
       "<table border=\"1\" class=\"dataframe\">\n",
       "  <thead>\n",
       "    <tr style=\"text-align: right;\">\n",
       "      <th></th>\n",
       "      <th>complaint_id</th>\n",
       "      <th>date</th>\n",
       "      <th>time</th>\n",
       "      <th>precinct_number</th>\n",
       "      <th>offense_type</th>\n",
       "      <th>crime_completed</th>\n",
       "      <th>offense_level</th>\n",
       "      <th>borough</th>\n",
       "      <th>premise_desc</th>\n",
       "      <th>premise</th>\n",
       "      <th>...</th>\n",
       "      <th>park_name</th>\n",
       "      <th>suspect_age</th>\n",
       "      <th>suspect_race</th>\n",
       "      <th>suspect_sex</th>\n",
       "      <th>coordinates</th>\n",
       "      <th>patrol_borough</th>\n",
       "      <th>metro</th>\n",
       "      <th>victim_age</th>\n",
       "      <th>victim_race</th>\n",
       "      <th>victim_sex</th>\n",
       "    </tr>\n",
       "  </thead>\n",
       "  <tbody>\n",
       "    <tr>\n",
       "      <th>0</th>\n",
       "      <td>325341655</td>\n",
       "      <td>02/11/2015</td>\n",
       "      <td>15:00:00</td>\n",
       "      <td>73.0</td>\n",
       "      <td>OFFENSES AGAINST PUBLIC ADMINI</td>\n",
       "      <td>COMPLETED</td>\n",
       "      <td>MISDEMEANOR</td>\n",
       "      <td>BROOKLYN</td>\n",
       "      <td>INSIDE</td>\n",
       "      <td>RESIDENCE - PUBLIC HOUSING</td>\n",
       "      <td>...</td>\n",
       "      <td>NaN</td>\n",
       "      <td>25-44</td>\n",
       "      <td>BLACK</td>\n",
       "      <td>M</td>\n",
       "      <td>(40.664239422, -73.908425011)</td>\n",
       "      <td>PATROL BORO BKLYN NORTH</td>\n",
       "      <td>NaN</td>\n",
       "      <td>&lt;18</td>\n",
       "      <td>BLACK</td>\n",
       "      <td>M</td>\n",
       "    </tr>\n",
       "    <tr>\n",
       "      <th>1</th>\n",
       "      <td>393816841</td>\n",
       "      <td>03/17/2012</td>\n",
       "      <td>10:30:00</td>\n",
       "      <td>69.0</td>\n",
       "      <td>ASSAULT 3 &amp; RELATED OFFENSES</td>\n",
       "      <td>COMPLETED</td>\n",
       "      <td>MISDEMEANOR</td>\n",
       "      <td>BROOKLYN</td>\n",
       "      <td>INSIDE</td>\n",
       "      <td>RESIDENCE-HOUSE</td>\n",
       "      <td>...</td>\n",
       "      <td>NaN</td>\n",
       "      <td>NaN</td>\n",
       "      <td>NaN</td>\n",
       "      <td>NaN</td>\n",
       "      <td>(40.644589618, -73.892672426)</td>\n",
       "      <td>PATROL BORO BKLYN SOUTH</td>\n",
       "      <td>NaN</td>\n",
       "      <td>45-64</td>\n",
       "      <td>BLACK</td>\n",
       "      <td>F</td>\n",
       "    </tr>\n",
       "    <tr>\n",
       "      <th>2</th>\n",
       "      <td>802896158</td>\n",
       "      <td>10/27/2016</td>\n",
       "      <td>13:48:00</td>\n",
       "      <td>71.0</td>\n",
       "      <td>HARRASSMENT 2</td>\n",
       "      <td>COMPLETED</td>\n",
       "      <td>VIOLATION</td>\n",
       "      <td>BROOKLYN</td>\n",
       "      <td>INSIDE</td>\n",
       "      <td>PUBLIC SCHOOL</td>\n",
       "      <td>...</td>\n",
       "      <td>NaN</td>\n",
       "      <td>&lt;18</td>\n",
       "      <td>BLACK</td>\n",
       "      <td>M</td>\n",
       "      <td>(40.658758183, -73.942434788)</td>\n",
       "      <td>PATROL BORO BKLYN SOUTH</td>\n",
       "      <td>NaN</td>\n",
       "      <td>18-24</td>\n",
       "      <td>BLACK</td>\n",
       "      <td>M</td>\n",
       "    </tr>\n",
       "    <tr>\n",
       "      <th>3</th>\n",
       "      <td>633812343</td>\n",
       "      <td>11/27/2014</td>\n",
       "      <td>19:00:00</td>\n",
       "      <td>112.0</td>\n",
       "      <td>RAPE</td>\n",
       "      <td>COMPLETED</td>\n",
       "      <td>FELONY</td>\n",
       "      <td>QUEENS</td>\n",
       "      <td>INSIDE</td>\n",
       "      <td>RESIDENCE - APT. HOUSE</td>\n",
       "      <td>...</td>\n",
       "      <td>NaN</td>\n",
       "      <td>25-44</td>\n",
       "      <td>WHITE HISPANIC</td>\n",
       "      <td>M</td>\n",
       "      <td>(40.722363687, -73.851473894)</td>\n",
       "      <td>PATROL BORO QUEENS NORTH</td>\n",
       "      <td>NaN</td>\n",
       "      <td>25-44</td>\n",
       "      <td>WHITE</td>\n",
       "      <td>F</td>\n",
       "    </tr>\n",
       "    <tr>\n",
       "      <th>4</th>\n",
       "      <td>300349533</td>\n",
       "      <td>12/11/2013</td>\n",
       "      <td>13:30:00</td>\n",
       "      <td>24.0</td>\n",
       "      <td>GRAND LARCENY</td>\n",
       "      <td>COMPLETED</td>\n",
       "      <td>FELONY</td>\n",
       "      <td>MANHATTAN</td>\n",
       "      <td>INSIDE</td>\n",
       "      <td>DOCTOR/DENTIST OFFICE</td>\n",
       "      <td>...</td>\n",
       "      <td>NaN</td>\n",
       "      <td>NaN</td>\n",
       "      <td>NaN</td>\n",
       "      <td>NaN</td>\n",
       "      <td>(40.793464597, -73.968949638)</td>\n",
       "      <td>PATROL BORO MAN NORTH</td>\n",
       "      <td>NaN</td>\n",
       "      <td>45-64</td>\n",
       "      <td>WHITE</td>\n",
       "      <td>F</td>\n",
       "    </tr>\n",
       "    <tr>\n",
       "      <th>5</th>\n",
       "      <td>944253539</td>\n",
       "      <td>08/28/2013</td>\n",
       "      <td>11:00:00</td>\n",
       "      <td>63.0</td>\n",
       "      <td>PETIT LARCENY</td>\n",
       "      <td>COMPLETED</td>\n",
       "      <td>MISDEMEANOR</td>\n",
       "      <td>BROOKLYN</td>\n",
       "      <td>INSIDE</td>\n",
       "      <td>DEPARTMENT STORE</td>\n",
       "      <td>...</td>\n",
       "      <td>NaN</td>\n",
       "      <td>NaN</td>\n",
       "      <td>NaN</td>\n",
       "      <td>NaN</td>\n",
       "      <td>(40.625319998, -73.917873518)</td>\n",
       "      <td>PATROL BORO BKLYN SOUTH</td>\n",
       "      <td>NaN</td>\n",
       "      <td>NaN</td>\n",
       "      <td>UNKNOWN</td>\n",
       "      <td>D</td>\n",
       "    </tr>\n",
       "    <tr>\n",
       "      <th>6</th>\n",
       "      <td>608679532</td>\n",
       "      <td>12/04/2013</td>\n",
       "      <td>18:30:00</td>\n",
       "      <td>101.0</td>\n",
       "      <td>OFF. AGNST PUB ORD SENSBLTY &amp;</td>\n",
       "      <td>COMPLETED</td>\n",
       "      <td>MISDEMEANOR</td>\n",
       "      <td>QUEENS</td>\n",
       "      <td>INSIDE</td>\n",
       "      <td>RESIDENCE - APT. HOUSE</td>\n",
       "      <td>...</td>\n",
       "      <td>NaN</td>\n",
       "      <td>NaN</td>\n",
       "      <td>WHITE HISPANIC</td>\n",
       "      <td>F</td>\n",
       "      <td>(40.600171728, -73.756663063)</td>\n",
       "      <td>PATROL BORO QUEENS SOUTH</td>\n",
       "      <td>NaN</td>\n",
       "      <td>45-64</td>\n",
       "      <td>BLACK</td>\n",
       "      <td>F</td>\n",
       "    </tr>\n",
       "    <tr>\n",
       "      <th>7</th>\n",
       "      <td>882178622</td>\n",
       "      <td>09/14/2013</td>\n",
       "      <td>08:40:00</td>\n",
       "      <td>49.0</td>\n",
       "      <td>HARRASSMENT 2</td>\n",
       "      <td>COMPLETED</td>\n",
       "      <td>VIOLATION</td>\n",
       "      <td>BRONX</td>\n",
       "      <td>FRONT OF</td>\n",
       "      <td>STREET</td>\n",
       "      <td>...</td>\n",
       "      <td>NaN</td>\n",
       "      <td>45-64</td>\n",
       "      <td>BLACK</td>\n",
       "      <td>M</td>\n",
       "      <td>(40.851041106, -73.861441322)</td>\n",
       "      <td>PATROL BORO BRONX</td>\n",
       "      <td>NaN</td>\n",
       "      <td>25-44</td>\n",
       "      <td>WHITE HISPANIC</td>\n",
       "      <td>F</td>\n",
       "    </tr>\n",
       "    <tr>\n",
       "      <th>8</th>\n",
       "      <td>240183498</td>\n",
       "      <td>01/31/2013</td>\n",
       "      <td>23:47:00</td>\n",
       "      <td>40.0</td>\n",
       "      <td>CRIMINAL TRESPASS</td>\n",
       "      <td>COMPLETED</td>\n",
       "      <td>MISDEMEANOR</td>\n",
       "      <td>BRONX</td>\n",
       "      <td>INSIDE</td>\n",
       "      <td>RESIDENCE - PUBLIC HOUSING</td>\n",
       "      <td>...</td>\n",
       "      <td>NaN</td>\n",
       "      <td>NaN</td>\n",
       "      <td>NaN</td>\n",
       "      <td>NaN</td>\n",
       "      <td>(40.805504347, -73.916477252)</td>\n",
       "      <td>PATROL BORO BRONX</td>\n",
       "      <td>NaN</td>\n",
       "      <td>NaN</td>\n",
       "      <td>UNKNOWN</td>\n",
       "      <td>E</td>\n",
       "    </tr>\n",
       "    <tr>\n",
       "      <th>9</th>\n",
       "      <td>895680254</td>\n",
       "      <td>09/17/2016</td>\n",
       "      <td>00:05:00</td>\n",
       "      <td>60.0</td>\n",
       "      <td>CRIMINAL MISCHIEF &amp; RELATED OF</td>\n",
       "      <td>COMPLETED</td>\n",
       "      <td>MISDEMEANOR</td>\n",
       "      <td>BROOKLYN</td>\n",
       "      <td>FRONT OF</td>\n",
       "      <td>RESIDENCE - APT. HOUSE</td>\n",
       "      <td>...</td>\n",
       "      <td>NaN</td>\n",
       "      <td>UNKNOWN</td>\n",
       "      <td>BLACK</td>\n",
       "      <td>M</td>\n",
       "      <td>(40.572500982, -73.999097946)</td>\n",
       "      <td>PATROL BORO BKLYN SOUTH</td>\n",
       "      <td>NaN</td>\n",
       "      <td>25-44</td>\n",
       "      <td>BLACK</td>\n",
       "      <td>F</td>\n",
       "    </tr>\n",
       "  </tbody>\n",
       "</table>\n",
       "<p>10 rows × 21 columns</p>\n",
       "</div>"
      ],
      "text/plain": [
       "   complaint_id        date      time  precinct_number  \\\n",
       "0     325341655  02/11/2015  15:00:00             73.0   \n",
       "1     393816841  03/17/2012  10:30:00             69.0   \n",
       "2     802896158  10/27/2016  13:48:00             71.0   \n",
       "3     633812343  11/27/2014  19:00:00            112.0   \n",
       "4     300349533  12/11/2013  13:30:00             24.0   \n",
       "5     944253539  08/28/2013  11:00:00             63.0   \n",
       "6     608679532  12/04/2013  18:30:00            101.0   \n",
       "7     882178622  09/14/2013  08:40:00             49.0   \n",
       "8     240183498  01/31/2013  23:47:00             40.0   \n",
       "9     895680254  09/17/2016  00:05:00             60.0   \n",
       "\n",
       "                     offense_type crime_completed offense_level    borough  \\\n",
       "0  OFFENSES AGAINST PUBLIC ADMINI       COMPLETED   MISDEMEANOR   BROOKLYN   \n",
       "1    ASSAULT 3 & RELATED OFFENSES       COMPLETED   MISDEMEANOR   BROOKLYN   \n",
       "2                   HARRASSMENT 2       COMPLETED     VIOLATION   BROOKLYN   \n",
       "3                            RAPE       COMPLETED        FELONY     QUEENS   \n",
       "4                   GRAND LARCENY       COMPLETED        FELONY  MANHATTAN   \n",
       "5                   PETIT LARCENY       COMPLETED   MISDEMEANOR   BROOKLYN   \n",
       "6   OFF. AGNST PUB ORD SENSBLTY &       COMPLETED   MISDEMEANOR     QUEENS   \n",
       "7                   HARRASSMENT 2       COMPLETED     VIOLATION      BRONX   \n",
       "8               CRIMINAL TRESPASS       COMPLETED   MISDEMEANOR      BRONX   \n",
       "9  CRIMINAL MISCHIEF & RELATED OF       COMPLETED   MISDEMEANOR   BROOKLYN   \n",
       "\n",
       "  premise_desc                     premise  ... park_name suspect_age  \\\n",
       "0       INSIDE  RESIDENCE - PUBLIC HOUSING  ...       NaN       25-44   \n",
       "1       INSIDE             RESIDENCE-HOUSE  ...       NaN         NaN   \n",
       "2       INSIDE               PUBLIC SCHOOL  ...       NaN         <18   \n",
       "3       INSIDE      RESIDENCE - APT. HOUSE  ...       NaN       25-44   \n",
       "4       INSIDE       DOCTOR/DENTIST OFFICE  ...       NaN         NaN   \n",
       "5       INSIDE            DEPARTMENT STORE  ...       NaN         NaN   \n",
       "6       INSIDE      RESIDENCE - APT. HOUSE  ...       NaN         NaN   \n",
       "7     FRONT OF                      STREET  ...       NaN       45-64   \n",
       "8       INSIDE  RESIDENCE - PUBLIC HOUSING  ...       NaN         NaN   \n",
       "9     FRONT OF      RESIDENCE - APT. HOUSE  ...       NaN     UNKNOWN   \n",
       "\n",
       "     suspect_race suspect_sex                    coordinates  \\\n",
       "0           BLACK           M  (40.664239422, -73.908425011)   \n",
       "1             NaN         NaN  (40.644589618, -73.892672426)   \n",
       "2           BLACK           M  (40.658758183, -73.942434788)   \n",
       "3  WHITE HISPANIC           M  (40.722363687, -73.851473894)   \n",
       "4             NaN         NaN  (40.793464597, -73.968949638)   \n",
       "5             NaN         NaN  (40.625319998, -73.917873518)   \n",
       "6  WHITE HISPANIC           F  (40.600171728, -73.756663063)   \n",
       "7           BLACK           M  (40.851041106, -73.861441322)   \n",
       "8             NaN         NaN  (40.805504347, -73.916477252)   \n",
       "9           BLACK           M  (40.572500982, -73.999097946)   \n",
       "\n",
       "             patrol_borough metro victim_age     victim_race victim_sex  \n",
       "0   PATROL BORO BKLYN NORTH   NaN        <18           BLACK          M  \n",
       "1   PATROL BORO BKLYN SOUTH   NaN      45-64           BLACK          F  \n",
       "2   PATROL BORO BKLYN SOUTH   NaN      18-24           BLACK          M  \n",
       "3  PATROL BORO QUEENS NORTH   NaN      25-44           WHITE          F  \n",
       "4     PATROL BORO MAN NORTH   NaN      45-64           WHITE          F  \n",
       "5   PATROL BORO BKLYN SOUTH   NaN        NaN         UNKNOWN          D  \n",
       "6  PATROL BORO QUEENS SOUTH   NaN      45-64           BLACK          F  \n",
       "7         PATROL BORO BRONX   NaN      25-44  WHITE HISPANIC          F  \n",
       "8         PATROL BORO BRONX   NaN        NaN         UNKNOWN          E  \n",
       "9   PATROL BORO BKLYN SOUTH   NaN      25-44           BLACK          F  \n",
       "\n",
       "[10 rows x 21 columns]"
      ]
     },
     "execution_count": 1,
     "metadata": {},
     "output_type": "execute_result"
    }
   ],
   "source": [
    "import pandas as pd\n",
    "df = pd.read_csv('../raw_data/data.csv')\n",
    "df.head(10)"
   ]
  },
  {
   "cell_type": "code",
   "execution_count": 2,
   "metadata": {
    "ExecuteTime": {
     "end_time": "2020-12-01T15:53:08.577453Z",
     "start_time": "2020-12-01T15:53:08.557425Z"
    }
   },
   "outputs": [
    {
     "name": "stdout",
     "output_type": "stream",
     "text": [
      "<class 'pandas.core.frame.DataFrame'>\n",
      "RangeIndex: 6983207 entries, 0 to 6983206\n",
      "Data columns (total 21 columns):\n",
      " #   Column           Dtype  \n",
      "---  ------           -----  \n",
      " 0   complaint_id     int64  \n",
      " 1   date             object \n",
      " 2   time             object \n",
      " 3   precinct_number  float64\n",
      " 4   offense_type     object \n",
      " 5   crime_completed  object \n",
      " 6   offense_level    object \n",
      " 7   borough          object \n",
      " 8   premise_desc     object \n",
      " 9   premise          object \n",
      " 10  jurisdiction     object \n",
      " 11  park_name        object \n",
      " 12  suspect_age      object \n",
      " 13  suspect_race     object \n",
      " 14  suspect_sex      object \n",
      " 15  coordinates      object \n",
      " 16  patrol_borough   object \n",
      " 17  metro            object \n",
      " 18  victim_age       object \n",
      " 19  victim_race      object \n",
      " 20  victim_sex       object \n",
      "dtypes: float64(1), int64(1), object(19)\n",
      "memory usage: 1.1+ GB\n"
     ]
    }
   ],
   "source": [
    "df.info()"
   ]
  },
  {
   "cell_type": "code",
   "execution_count": 3,
   "metadata": {
    "ExecuteTime": {
     "end_time": "2020-12-01T15:53:08.587743Z",
     "start_time": "2020-12-01T15:53:08.584681Z"
    }
   },
   "outputs": [],
   "source": [
    "# df['date']"
   ]
  },
  {
   "cell_type": "code",
   "execution_count": 4,
   "metadata": {
    "ExecuteTime": {
     "end_time": "2020-12-01T15:53:08.596056Z",
     "start_time": "2020-12-01T15:53:08.592281Z"
    }
   },
   "outputs": [],
   "source": [
    "#rg_expression for month/day/year\n",
    "# rg_expression = r'(1[0-2]|0?[1-9])\\/(3[01]|[12][0-9]|0?[1-9])\\/20([1-2][0-9]|[0-2][7-9])'"
   ]
  },
  {
   "cell_type": "code",
   "execution_count": 5,
   "metadata": {
    "ExecuteTime": {
     "end_time": "2020-12-01T15:53:08.615540Z",
     "start_time": "2020-12-01T15:53:08.603510Z"
    }
   },
   "outputs": [],
   "source": [
    "# df['date'].str.match(rg_expression)\n",
    "# mask = df['date'].str.match(rg_expression)"
   ]
  },
  {
   "cell_type": "code",
   "execution_count": 13,
   "metadata": {
    "ExecuteTime": {
     "end_time": "2020-12-01T15:54:51.156237Z",
     "start_time": "2020-12-01T15:54:51.136142Z"
    }
   },
   "outputs": [],
   "source": [
    "# def removing_date_before_2007(df):\n",
    "# #     df['date'] = df['date'].dropna()\n",
    "#     df = df[df['date'] == df['date']] \n",
    "#     rg_expression = r'(1[0-2]|0?[1-9])\\/(3[01]|[12][0-9]|0?[1-9])\\/20([1-2][0-9]|[0-2][7-9])'\n",
    "#     boolean_values = df['date'].str.match(rg_expression)\n",
    "#     return boolean_values\n"
   ]
  },
  {
   "cell_type": "code",
   "execution_count": 15,
   "metadata": {
    "ExecuteTime": {
     "end_time": "2020-12-01T17:00:12.769298Z",
     "start_time": "2020-12-01T17:00:12.740038Z"
    }
   },
   "outputs": [],
   "source": [
    "# removing_date_before_2007(df)"
   ]
  },
  {
   "cell_type": "code",
   "execution_count": 12,
   "metadata": {
    "ExecuteTime": {
     "end_time": "2020-12-01T15:54:24.003146Z",
     "start_time": "2020-12-01T15:54:23.992917Z"
    }
   },
   "outputs": [
    {
     "data": {
      "text/plain": [
       "0          3.25342e+08\n",
       "1          3.93817e+08\n",
       "2          8.02896e+08\n",
       "3          6.33812e+08\n",
       "4           3.0035e+08\n",
       "              ...     \n",
       "6983202    2.25471e+08\n",
       "6983203    3.68442e+08\n",
       "6983204    1.46134e+08\n",
       "6983205    7.63119e+08\n",
       "6983206    1.76656e+08\n",
       "Name: date, Length: 6983207, dtype: object"
      ]
     },
     "execution_count": 12,
     "metadata": {},
     "output_type": "execute_result"
    }
   ],
   "source": [
    "# df['date']"
   ]
  },
  {
   "cell_type": "code",
   "execution_count": null,
   "metadata": {},
   "outputs": [],
   "source": [
    "def drop_miss(df):\n",
    "        '''\n",
    "        Drop precinct and time missing values\n",
    "        '''\n",
    "        #drop precinct missing values\n",
    "        not_unknown = df['precinct_number'] != -99.0\n",
    "        not_nan = df['precinct_number'] == df['precinct_number']\n",
    "        df = df[not_unknown & not_nan]\n",
    "        #drop time and date missing values\n",
    "        df = df[df['time'] == df['time']]\n",
    "        df = df[df['date'] == df['date']]\n",
    "        return df"
   ]
  },
  {
   "cell_type": "code",
   "execution_count": 9,
   "metadata": {
    "ExecuteTime": {
     "end_time": "2020-12-01T15:53:45.711440Z",
     "start_time": "2020-12-01T15:53:45.676054Z"
    }
   },
   "outputs": [],
   "source": [
    "# def to_date(self, column_name):\n",
    "#     '''\n",
    "#     Converts given column to datetime dtype, returns pd.series\n",
    "#     '''\n",
    "#     df = self.data.copy()\n",
    "#     df[column_name] = pd.to_datetime(df[column_name], format = '%m/%d/%Y')\n",
    "#     return df[column_name]\n"
   ]
  },
  {
   "cell_type": "code",
   "execution_count": 10,
   "metadata": {
    "ExecuteTime": {
     "end_time": "2020-12-01T15:53:45.835177Z",
     "start_time": "2020-12-01T15:53:45.797343Z"
    }
   },
   "outputs": [],
   "source": [
    "def to_date(column_name, df):\n",
    "    '''converts given column to datetime dtype'''\n",
    "    clean_df = df.copy()\n",
    "    clean_df[column_name] = pd.to_datetime(clean_df[column_name], format = '%m/%d/%Y')\n",
    "    return clean_df"
   ]
  },
  {
   "cell_type": "code",
   "execution_count": 16,
   "metadata": {
    "ExecuteTime": {
     "end_time": "2020-12-01T17:02:58.585443Z",
     "start_time": "2020-12-01T17:02:57.390991Z"
    }
   },
   "outputs": [
    {
     "ename": "ValueError",
     "evalue": "time data '325341655.0' does not match format '%m/%d/%Y' (match)",
     "output_type": "error",
     "traceback": [
      "\u001b[0;31m---------------------------------------------------------------------------\u001b[0m",
      "\u001b[0;31mTypeError\u001b[0m                                 Traceback (most recent call last)",
      "\u001b[0;32m~/.pyenv/versions/3.8.5/envs/minority_report/lib/python3.8/site-packages/pandas/core/tools/datetimes.py\u001b[0m in \u001b[0;36m_convert_listlike_datetimes\u001b[0;34m(arg, format, name, tz, unit, errors, infer_datetime_format, dayfirst, yearfirst, exact)\u001b[0m\n\u001b[1;32m    449\u001b[0m             \u001b[0;32mtry\u001b[0m\u001b[0;34m:\u001b[0m\u001b[0;34m\u001b[0m\u001b[0;34m\u001b[0m\u001b[0m\n\u001b[0;32m--> 450\u001b[0;31m                 \u001b[0mvalues\u001b[0m\u001b[0;34m,\u001b[0m \u001b[0mtz\u001b[0m \u001b[0;34m=\u001b[0m \u001b[0mconversion\u001b[0m\u001b[0;34m.\u001b[0m\u001b[0mdatetime_to_datetime64\u001b[0m\u001b[0;34m(\u001b[0m\u001b[0marg\u001b[0m\u001b[0;34m)\u001b[0m\u001b[0;34m\u001b[0m\u001b[0;34m\u001b[0m\u001b[0m\n\u001b[0m\u001b[1;32m    451\u001b[0m                 \u001b[0mdta\u001b[0m \u001b[0;34m=\u001b[0m \u001b[0mDatetimeArray\u001b[0m\u001b[0;34m(\u001b[0m\u001b[0mvalues\u001b[0m\u001b[0;34m,\u001b[0m \u001b[0mdtype\u001b[0m\u001b[0;34m=\u001b[0m\u001b[0mtz_to_dtype\u001b[0m\u001b[0;34m(\u001b[0m\u001b[0mtz\u001b[0m\u001b[0;34m)\u001b[0m\u001b[0;34m)\u001b[0m\u001b[0;34m\u001b[0m\u001b[0;34m\u001b[0m\u001b[0m\n",
      "\u001b[0;32mpandas/_libs/tslibs/conversion.pyx\u001b[0m in \u001b[0;36mpandas._libs.tslibs.conversion.datetime_to_datetime64\u001b[0;34m()\u001b[0m\n",
      "\u001b[0;31mTypeError\u001b[0m: Unrecognized value type: <class 'float'>",
      "\nDuring handling of the above exception, another exception occurred:\n",
      "\u001b[0;31mValueError\u001b[0m                                Traceback (most recent call last)",
      "\u001b[0;32m<ipython-input-16-336442960031>\u001b[0m in \u001b[0;36m<module>\u001b[0;34m\u001b[0m\n\u001b[0;32m----> 1\u001b[0;31m \u001b[0mdf\u001b[0m\u001b[0;34m[\u001b[0m\u001b[0;34m'date'\u001b[0m\u001b[0;34m]\u001b[0m \u001b[0;34m=\u001b[0m \u001b[0mto_date\u001b[0m\u001b[0;34m(\u001b[0m\u001b[0;34m'date'\u001b[0m\u001b[0;34m,\u001b[0m \u001b[0mdf\u001b[0m\u001b[0;34m)\u001b[0m\u001b[0;34m\u001b[0m\u001b[0;34m\u001b[0m\u001b[0m\n\u001b[0m",
      "\u001b[0;32m<ipython-input-10-53a5d5af4441>\u001b[0m in \u001b[0;36mto_date\u001b[0;34m(column_name, df)\u001b[0m\n\u001b[1;32m      2\u001b[0m     \u001b[0;34m'''converts given column to datetime dtype'''\u001b[0m\u001b[0;34m\u001b[0m\u001b[0;34m\u001b[0m\u001b[0m\n\u001b[1;32m      3\u001b[0m     \u001b[0mclean_df\u001b[0m \u001b[0;34m=\u001b[0m \u001b[0mdf\u001b[0m\u001b[0;34m.\u001b[0m\u001b[0mcopy\u001b[0m\u001b[0;34m(\u001b[0m\u001b[0;34m)\u001b[0m\u001b[0;34m\u001b[0m\u001b[0;34m\u001b[0m\u001b[0m\n\u001b[0;32m----> 4\u001b[0;31m     \u001b[0mclean_df\u001b[0m\u001b[0;34m[\u001b[0m\u001b[0mcolumn_name\u001b[0m\u001b[0;34m]\u001b[0m \u001b[0;34m=\u001b[0m \u001b[0mpd\u001b[0m\u001b[0;34m.\u001b[0m\u001b[0mto_datetime\u001b[0m\u001b[0;34m(\u001b[0m\u001b[0mclean_df\u001b[0m\u001b[0;34m[\u001b[0m\u001b[0mcolumn_name\u001b[0m\u001b[0;34m]\u001b[0m\u001b[0;34m,\u001b[0m \u001b[0mformat\u001b[0m \u001b[0;34m=\u001b[0m \u001b[0;34m'%m/%d/%Y'\u001b[0m\u001b[0;34m)\u001b[0m\u001b[0;34m\u001b[0m\u001b[0;34m\u001b[0m\u001b[0m\n\u001b[0m\u001b[1;32m      5\u001b[0m     \u001b[0;32mreturn\u001b[0m \u001b[0mclean_df\u001b[0m\u001b[0;34m\u001b[0m\u001b[0;34m\u001b[0m\u001b[0m\n",
      "\u001b[0;32m~/.pyenv/versions/3.8.5/envs/minority_report/lib/python3.8/site-packages/pandas/core/tools/datetimes.py\u001b[0m in \u001b[0;36mto_datetime\u001b[0;34m(arg, errors, dayfirst, yearfirst, utc, format, exact, unit, infer_datetime_format, origin, cache)\u001b[0m\n\u001b[1;32m    801\u001b[0m             \u001b[0mresult\u001b[0m \u001b[0;34m=\u001b[0m \u001b[0marg\u001b[0m\u001b[0;34m.\u001b[0m\u001b[0mmap\u001b[0m\u001b[0;34m(\u001b[0m\u001b[0mcache_array\u001b[0m\u001b[0;34m)\u001b[0m\u001b[0;34m\u001b[0m\u001b[0;34m\u001b[0m\u001b[0m\n\u001b[1;32m    802\u001b[0m         \u001b[0;32melse\u001b[0m\u001b[0;34m:\u001b[0m\u001b[0;34m\u001b[0m\u001b[0;34m\u001b[0m\u001b[0m\n\u001b[0;32m--> 803\u001b[0;31m             \u001b[0mvalues\u001b[0m \u001b[0;34m=\u001b[0m \u001b[0mconvert_listlike\u001b[0m\u001b[0;34m(\u001b[0m\u001b[0marg\u001b[0m\u001b[0;34m.\u001b[0m\u001b[0m_values\u001b[0m\u001b[0;34m,\u001b[0m \u001b[0mformat\u001b[0m\u001b[0;34m)\u001b[0m\u001b[0;34m\u001b[0m\u001b[0;34m\u001b[0m\u001b[0m\n\u001b[0m\u001b[1;32m    804\u001b[0m             \u001b[0mresult\u001b[0m \u001b[0;34m=\u001b[0m \u001b[0marg\u001b[0m\u001b[0;34m.\u001b[0m\u001b[0m_constructor\u001b[0m\u001b[0;34m(\u001b[0m\u001b[0mvalues\u001b[0m\u001b[0;34m,\u001b[0m \u001b[0mindex\u001b[0m\u001b[0;34m=\u001b[0m\u001b[0marg\u001b[0m\u001b[0;34m.\u001b[0m\u001b[0mindex\u001b[0m\u001b[0;34m,\u001b[0m \u001b[0mname\u001b[0m\u001b[0;34m=\u001b[0m\u001b[0marg\u001b[0m\u001b[0;34m.\u001b[0m\u001b[0mname\u001b[0m\u001b[0;34m)\u001b[0m\u001b[0;34m\u001b[0m\u001b[0;34m\u001b[0m\u001b[0m\n\u001b[1;32m    805\u001b[0m     \u001b[0;32melif\u001b[0m \u001b[0misinstance\u001b[0m\u001b[0;34m(\u001b[0m\u001b[0marg\u001b[0m\u001b[0;34m,\u001b[0m \u001b[0;34m(\u001b[0m\u001b[0mABCDataFrame\u001b[0m\u001b[0;34m,\u001b[0m \u001b[0mabc\u001b[0m\u001b[0;34m.\u001b[0m\u001b[0mMutableMapping\u001b[0m\u001b[0;34m)\u001b[0m\u001b[0;34m)\u001b[0m\u001b[0;34m:\u001b[0m\u001b[0;34m\u001b[0m\u001b[0;34m\u001b[0m\u001b[0m\n",
      "\u001b[0;32m~/.pyenv/versions/3.8.5/envs/minority_report/lib/python3.8/site-packages/pandas/core/tools/datetimes.py\u001b[0m in \u001b[0;36m_convert_listlike_datetimes\u001b[0;34m(arg, format, name, tz, unit, errors, infer_datetime_format, dayfirst, yearfirst, exact)\u001b[0m\n\u001b[1;32m    452\u001b[0m                 \u001b[0;32mreturn\u001b[0m \u001b[0mDatetimeIndex\u001b[0m\u001b[0;34m.\u001b[0m\u001b[0m_simple_new\u001b[0m\u001b[0;34m(\u001b[0m\u001b[0mdta\u001b[0m\u001b[0;34m,\u001b[0m \u001b[0mname\u001b[0m\u001b[0;34m=\u001b[0m\u001b[0mname\u001b[0m\u001b[0;34m)\u001b[0m\u001b[0;34m\u001b[0m\u001b[0;34m\u001b[0m\u001b[0m\n\u001b[1;32m    453\u001b[0m             \u001b[0;32mexcept\u001b[0m \u001b[0;34m(\u001b[0m\u001b[0mValueError\u001b[0m\u001b[0;34m,\u001b[0m \u001b[0mTypeError\u001b[0m\u001b[0;34m)\u001b[0m\u001b[0;34m:\u001b[0m\u001b[0;34m\u001b[0m\u001b[0;34m\u001b[0m\u001b[0m\n\u001b[0;32m--> 454\u001b[0;31m                 \u001b[0;32mraise\u001b[0m \u001b[0me\u001b[0m\u001b[0;34m\u001b[0m\u001b[0;34m\u001b[0m\u001b[0m\n\u001b[0m\u001b[1;32m    455\u001b[0m \u001b[0;34m\u001b[0m\u001b[0m\n\u001b[1;32m    456\u001b[0m     \u001b[0;32mif\u001b[0m \u001b[0mresult\u001b[0m \u001b[0;32mis\u001b[0m \u001b[0;32mNone\u001b[0m\u001b[0;34m:\u001b[0m\u001b[0;34m\u001b[0m\u001b[0;34m\u001b[0m\u001b[0m\n",
      "\u001b[0;32m~/.pyenv/versions/3.8.5/envs/minority_report/lib/python3.8/site-packages/pandas/core/tools/datetimes.py\u001b[0m in \u001b[0;36m_convert_listlike_datetimes\u001b[0;34m(arg, format, name, tz, unit, errors, infer_datetime_format, dayfirst, yearfirst, exact)\u001b[0m\n\u001b[1;32m    415\u001b[0m             \u001b[0;32mif\u001b[0m \u001b[0mresult\u001b[0m \u001b[0;32mis\u001b[0m \u001b[0;32mNone\u001b[0m\u001b[0;34m:\u001b[0m\u001b[0;34m\u001b[0m\u001b[0;34m\u001b[0m\u001b[0m\n\u001b[1;32m    416\u001b[0m                 \u001b[0;32mtry\u001b[0m\u001b[0;34m:\u001b[0m\u001b[0;34m\u001b[0m\u001b[0;34m\u001b[0m\u001b[0m\n\u001b[0;32m--> 417\u001b[0;31m                     result, timezones = array_strptime(\n\u001b[0m\u001b[1;32m    418\u001b[0m                         \u001b[0marg\u001b[0m\u001b[0;34m,\u001b[0m \u001b[0mformat\u001b[0m\u001b[0;34m,\u001b[0m \u001b[0mexact\u001b[0m\u001b[0;34m=\u001b[0m\u001b[0mexact\u001b[0m\u001b[0;34m,\u001b[0m \u001b[0merrors\u001b[0m\u001b[0;34m=\u001b[0m\u001b[0merrors\u001b[0m\u001b[0;34m\u001b[0m\u001b[0;34m\u001b[0m\u001b[0m\n\u001b[1;32m    419\u001b[0m                     )\n",
      "\u001b[0;32mpandas/_libs/tslibs/strptime.pyx\u001b[0m in \u001b[0;36mpandas._libs.tslibs.strptime.array_strptime\u001b[0;34m()\u001b[0m\n",
      "\u001b[0;31mValueError\u001b[0m: time data '325341655.0' does not match format '%m/%d/%Y' (match)"
     ]
    }
   ],
   "source": [
    "df['date'] = to_date('date', df)"
   ]
  },
  {
   "cell_type": "code",
   "execution_count": null,
   "metadata": {
    "ExecuteTime": {
     "end_time": "2020-12-01T15:53:52.159354Z",
     "start_time": "2020-12-01T15:52:34.971Z"
    }
   },
   "outputs": [],
   "source": [
    "# # TO DO Ellyn & Camille:\n",
    "\n",
    "# -remove the nans, replace the nan \n",
    "# -remove the weird values\n",
    "\n",
    "# -precinct_number column:\n",
    "#     -si on a precinct mais pas coordinate, we need a default value.(median du group by precinct)\n",
    "#     -group by precinct and calculate a median.\n",
    "#     -si pas de precint, get it back from the data on the gouv/google maps.\n",
    "\n",
    "# -date column: remove the nans rows entirely & convert the values to a string date format(REGEX) and reject the rows before 2007. (month-day-year)\n",
    "# -time column: remove the nans rows entirely.\n",
    "# -offense_type column: check the dates of the offense_type, and remove the nans rows entirely if not in the last 10 years analysed.(before 2007 is not relevant)\n",
    "# -crime_completed column: replace by the most_frequent value.\n",
    "# -offense_level column: nothing.\n",
    "# -borough column: find them back with the precinct/or lat/long (function to build)\n",
    "# -premise_desc column: keep them & extract them for data viz.\n",
    "# -premise column: keep them & extract them for data viz.(outliers needed to be kept for a df_visualization but not for the df for training)\n",
    "# -jurisdiction column: nothing.\n",
    "# -park_name column: keep them & extract them for data viz.(outliers needed to be kept for a df_visualization but not for the df for training)\n",
    "# -suspect_age column: keep them & extract them for data viz.(outliers needed to be kept for a df_visualization but not for the df for training)\n",
    "# -suspect_race column: keep them & extract them for data viz.(outliers needed to be kept for a df_visualization but not for the df for training)\n",
    "# -suspect_sex column: keep them & extract them for data viz.(outliers needed to be kept for a df_visualization but not for the df for training)\n",
    "# -coordinates column: find them back with the precinct. choose avg coordinates of a precint(function to build)\n",
    "# -patrol_borough column: look at the year of most frequent missing value. (delete the rows entirely if no relevant)\n",
    "# -metro column: keep them & extract them for data viz.(outliers needed to be kept for a df_visualization but not for the df for training)\n",
    "\n",
    "\n",
    "# -victim_age column: replace by 'unknown' les chelous and the nans value\n",
    "# -victim_race column: replace by 'unknown' les chelous and the nans value\n",
    "# -victim_sex column: replace by 'unknown' les chelous and the nans value\n",
    "\n",
    "\n",
    "\n"
   ]
  },
  {
   "cell_type": "code",
   "execution_count": null,
   "metadata": {},
   "outputs": [],
   "source": [
    "#Data Viz demain"
   ]
  }
 ],
 "metadata": {
  "kernelspec": {
   "display_name": "Python 3",
   "language": "python",
   "name": "python3"
  },
  "language_info": {
   "codemirror_mode": {
    "name": "ipython",
    "version": 3
   },
   "file_extension": ".py",
   "mimetype": "text/x-python",
   "name": "python",
   "nbconvert_exporter": "python",
   "pygments_lexer": "ipython3",
   "version": "3.8.5"
  },
  "toc": {
   "base_numbering": 1,
   "nav_menu": {},
   "number_sections": true,
   "sideBar": true,
   "skip_h1_title": false,
   "title_cell": "Table of Contents",
   "title_sidebar": "Contents",
   "toc_cell": false,
   "toc_position": {},
   "toc_section_display": true,
   "toc_window_display": false
  },
  "varInspector": {
   "cols": {
    "lenName": 16,
    "lenType": 16,
    "lenVar": 40
   },
   "kernels_config": {
    "python": {
     "delete_cmd_postfix": "",
     "delete_cmd_prefix": "del ",
     "library": "var_list.py",
     "varRefreshCmd": "print(var_dic_list())"
    },
    "r": {
     "delete_cmd_postfix": ") ",
     "delete_cmd_prefix": "rm(",
     "library": "var_list.r",
     "varRefreshCmd": "cat(var_dic_list()) "
    }
   },
   "types_to_exclude": [
    "module",
    "function",
    "builtin_function_or_method",
    "instance",
    "_Feature"
   ],
   "window_display": false
  }
 },
 "nbformat": 4,
 "nbformat_minor": 4
}
