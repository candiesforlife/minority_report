{
 "cells": [
  {
   "cell_type": "code",
   "execution_count": 6,
   "metadata": {
    "ExecuteTime": {
     "end_time": "2020-12-02T13:47:43.980133Z",
     "start_time": "2020-12-02T13:47:43.911628Z"
    }
   },
   "outputs": [],
   "source": [
    "%load_ext autoreload\n",
    "%autoreload 2"
   ]
  },
  {
   "cell_type": "code",
   "execution_count": 5,
   "metadata": {
    "ExecuteTime": {
     "end_time": "2020-12-02T13:47:42.968855Z",
     "start_time": "2020-12-02T13:47:42.554455Z"
    }
   },
   "outputs": [],
   "source": [
    "from minority_report.clean_data import CleanData"
   ]
  },
  {
   "cell_type": "code",
   "execution_count": 3,
   "metadata": {
    "ExecuteTime": {
     "end_time": "2020-12-02T13:23:33.022481Z",
     "start_time": "2020-12-02T13:23:02.552989Z"
    },
    "scrolled": true
   },
   "outputs": [
    {
     "ename": "KeyboardInterrupt",
     "evalue": "",
     "output_type": "error",
     "traceback": [
      "\u001b[0;31m---------------------------------------------------------------------------\u001b[0m",
      "\u001b[0;31mKeyboardInterrupt\u001b[0m                         Traceback (most recent call last)",
      "\u001b[0;32m<ipython-input-3-13c1f0c7eaa2>\u001b[0m in \u001b[0;36m<module>\u001b[0;34m\u001b[0m\n\u001b[0;32m----> 1\u001b[0;31m \u001b[0mdf\u001b[0m \u001b[0;34m=\u001b[0m \u001b[0mCleanData\u001b[0m\u001b[0;34m(\u001b[0m\u001b[0;34m)\u001b[0m\u001b[0;34m\u001b[0m\u001b[0;34m\u001b[0m\u001b[0m\n\u001b[0m",
      "\u001b[0;32m~/code/candiesforlife/minority_report/minority_report/clean_data.py\u001b[0m in \u001b[0;36m__init__\u001b[0;34m(self)\u001b[0m\n\u001b[1;32m     11\u001b[0m     \u001b[0;32mdef\u001b[0m \u001b[0m__init__\u001b[0m\u001b[0;34m(\u001b[0m\u001b[0mself\u001b[0m\u001b[0;34m)\u001b[0m\u001b[0;34m:\u001b[0m\u001b[0;34m\u001b[0m\u001b[0;34m\u001b[0m\u001b[0m\n\u001b[1;32m     12\u001b[0m       \u001b[0;31m# loads core dataframe\u001b[0m\u001b[0;34m\u001b[0m\u001b[0;34m\u001b[0m\u001b[0;34m\u001b[0m\u001b[0m\n\u001b[0;32m---> 13\u001b[0;31m       \u001b[0mself\u001b[0m\u001b[0;34m.\u001b[0m\u001b[0mdata\u001b[0m \u001b[0;34m=\u001b[0m \u001b[0mNYPD\u001b[0m\u001b[0;34m(\u001b[0m\u001b[0;34m)\u001b[0m\u001b[0;34m.\u001b[0m\u001b[0mget_data\u001b[0m\u001b[0;34m(\u001b[0m\u001b[0;34m)\u001b[0m\u001b[0;34m[\u001b[0m\u001b[0;34m:\u001b[0m\u001b[0;36m100_000\u001b[0m\u001b[0;34m]\u001b[0m\u001b[0;34m\u001b[0m\u001b[0;34m\u001b[0m\u001b[0m\n\u001b[0m\u001b[1;32m     14\u001b[0m \u001b[0;34m\u001b[0m\u001b[0m\n\u001b[1;32m     15\u001b[0m     \u001b[0;31m#  1.\u001b[0m\u001b[0;34m\u001b[0m\u001b[0;34m\u001b[0m\u001b[0;34m\u001b[0m\u001b[0m\n",
      "\u001b[0;32m~/code/candiesforlife/minority_report/minority_report/data.py\u001b[0m in \u001b[0;36mget_data\u001b[0;34m(self)\u001b[0m\n\u001b[1;32m     14\u001b[0m         \u001b[0mroot_dir\u001b[0m \u001b[0;34m=\u001b[0m \u001b[0mos\u001b[0m\u001b[0;34m.\u001b[0m\u001b[0mpath\u001b[0m\u001b[0;34m.\u001b[0m\u001b[0mdirname\u001b[0m\u001b[0;34m(\u001b[0m\u001b[0mos\u001b[0m\u001b[0;34m.\u001b[0m\u001b[0mpath\u001b[0m\u001b[0;34m.\u001b[0m\u001b[0mdirname\u001b[0m\u001b[0;34m(\u001b[0m\u001b[0m__file__\u001b[0m\u001b[0;34m)\u001b[0m\u001b[0;34m)\u001b[0m\u001b[0;34m\u001b[0m\u001b[0;34m\u001b[0m\u001b[0m\n\u001b[1;32m     15\u001b[0m         \u001b[0mcsv_path\u001b[0m \u001b[0;34m=\u001b[0m \u001b[0mos\u001b[0m\u001b[0;34m.\u001b[0m\u001b[0mpath\u001b[0m\u001b[0;34m.\u001b[0m\u001b[0mjoin\u001b[0m\u001b[0;34m(\u001b[0m\u001b[0mroot_dir\u001b[0m\u001b[0;34m,\u001b[0m \u001b[0;34m'raw_data'\u001b[0m\u001b[0;34m,\u001b[0m \u001b[0;34m'data.csv'\u001b[0m\u001b[0;34m)\u001b[0m\u001b[0;34m\u001b[0m\u001b[0;34m\u001b[0m\u001b[0m\n\u001b[0;32m---> 16\u001b[0;31m         \u001b[0mdf\u001b[0m \u001b[0;34m=\u001b[0m \u001b[0mpd\u001b[0m\u001b[0;34m.\u001b[0m\u001b[0mread_csv\u001b[0m\u001b[0;34m(\u001b[0m\u001b[0mcsv_path\u001b[0m\u001b[0;34m,\u001b[0m \u001b[0mlow_memory\u001b[0m \u001b[0;34m=\u001b[0m \u001b[0;32mFalse\u001b[0m\u001b[0;34m)\u001b[0m\u001b[0;34m\u001b[0m\u001b[0;34m\u001b[0m\u001b[0m\n\u001b[0m\u001b[1;32m     17\u001b[0m \u001b[0;34m\u001b[0m\u001b[0m\n\u001b[1;32m     18\u001b[0m         \u001b[0;32mreturn\u001b[0m \u001b[0mdf\u001b[0m\u001b[0;34m\u001b[0m\u001b[0;34m\u001b[0m\u001b[0m\n",
      "\u001b[0;32m~/.pyenv/versions/3.8.5/envs/minority_report/lib/python3.8/site-packages/pandas/io/parsers.py\u001b[0m in \u001b[0;36mread_csv\u001b[0;34m(filepath_or_buffer, sep, delimiter, header, names, index_col, usecols, squeeze, prefix, mangle_dupe_cols, dtype, engine, converters, true_values, false_values, skipinitialspace, skiprows, skipfooter, nrows, na_values, keep_default_na, na_filter, verbose, skip_blank_lines, parse_dates, infer_datetime_format, keep_date_col, date_parser, dayfirst, cache_dates, iterator, chunksize, compression, thousands, decimal, lineterminator, quotechar, quoting, doublequote, escapechar, comment, encoding, dialect, error_bad_lines, warn_bad_lines, delim_whitespace, low_memory, memory_map, float_precision)\u001b[0m\n\u001b[1;32m    686\u001b[0m     )\n\u001b[1;32m    687\u001b[0m \u001b[0;34m\u001b[0m\u001b[0m\n\u001b[0;32m--> 688\u001b[0;31m     \u001b[0;32mreturn\u001b[0m \u001b[0m_read\u001b[0m\u001b[0;34m(\u001b[0m\u001b[0mfilepath_or_buffer\u001b[0m\u001b[0;34m,\u001b[0m \u001b[0mkwds\u001b[0m\u001b[0;34m)\u001b[0m\u001b[0;34m\u001b[0m\u001b[0;34m\u001b[0m\u001b[0m\n\u001b[0m\u001b[1;32m    689\u001b[0m \u001b[0;34m\u001b[0m\u001b[0m\n\u001b[1;32m    690\u001b[0m \u001b[0;34m\u001b[0m\u001b[0m\n",
      "\u001b[0;32m~/.pyenv/versions/3.8.5/envs/minority_report/lib/python3.8/site-packages/pandas/io/parsers.py\u001b[0m in \u001b[0;36m_read\u001b[0;34m(filepath_or_buffer, kwds)\u001b[0m\n\u001b[1;32m    458\u001b[0m \u001b[0;34m\u001b[0m\u001b[0m\n\u001b[1;32m    459\u001b[0m     \u001b[0;32mtry\u001b[0m\u001b[0;34m:\u001b[0m\u001b[0;34m\u001b[0m\u001b[0;34m\u001b[0m\u001b[0m\n\u001b[0;32m--> 460\u001b[0;31m         \u001b[0mdata\u001b[0m \u001b[0;34m=\u001b[0m \u001b[0mparser\u001b[0m\u001b[0;34m.\u001b[0m\u001b[0mread\u001b[0m\u001b[0;34m(\u001b[0m\u001b[0mnrows\u001b[0m\u001b[0;34m)\u001b[0m\u001b[0;34m\u001b[0m\u001b[0;34m\u001b[0m\u001b[0m\n\u001b[0m\u001b[1;32m    461\u001b[0m     \u001b[0;32mfinally\u001b[0m\u001b[0;34m:\u001b[0m\u001b[0;34m\u001b[0m\u001b[0;34m\u001b[0m\u001b[0m\n\u001b[1;32m    462\u001b[0m         \u001b[0mparser\u001b[0m\u001b[0;34m.\u001b[0m\u001b[0mclose\u001b[0m\u001b[0;34m(\u001b[0m\u001b[0;34m)\u001b[0m\u001b[0;34m\u001b[0m\u001b[0;34m\u001b[0m\u001b[0m\n",
      "\u001b[0;32m~/.pyenv/versions/3.8.5/envs/minority_report/lib/python3.8/site-packages/pandas/io/parsers.py\u001b[0m in \u001b[0;36mread\u001b[0;34m(self, nrows)\u001b[0m\n\u001b[1;32m   1196\u001b[0m     \u001b[0;32mdef\u001b[0m \u001b[0mread\u001b[0m\u001b[0;34m(\u001b[0m\u001b[0mself\u001b[0m\u001b[0;34m,\u001b[0m \u001b[0mnrows\u001b[0m\u001b[0;34m=\u001b[0m\u001b[0;32mNone\u001b[0m\u001b[0;34m)\u001b[0m\u001b[0;34m:\u001b[0m\u001b[0;34m\u001b[0m\u001b[0;34m\u001b[0m\u001b[0m\n\u001b[1;32m   1197\u001b[0m         \u001b[0mnrows\u001b[0m \u001b[0;34m=\u001b[0m \u001b[0m_validate_integer\u001b[0m\u001b[0;34m(\u001b[0m\u001b[0;34m\"nrows\"\u001b[0m\u001b[0;34m,\u001b[0m \u001b[0mnrows\u001b[0m\u001b[0;34m)\u001b[0m\u001b[0;34m\u001b[0m\u001b[0;34m\u001b[0m\u001b[0m\n\u001b[0;32m-> 1198\u001b[0;31m         \u001b[0mret\u001b[0m \u001b[0;34m=\u001b[0m \u001b[0mself\u001b[0m\u001b[0;34m.\u001b[0m\u001b[0m_engine\u001b[0m\u001b[0;34m.\u001b[0m\u001b[0mread\u001b[0m\u001b[0;34m(\u001b[0m\u001b[0mnrows\u001b[0m\u001b[0;34m)\u001b[0m\u001b[0;34m\u001b[0m\u001b[0;34m\u001b[0m\u001b[0m\n\u001b[0m\u001b[1;32m   1199\u001b[0m \u001b[0;34m\u001b[0m\u001b[0m\n\u001b[1;32m   1200\u001b[0m         \u001b[0;31m# May alter columns / col_dict\u001b[0m\u001b[0;34m\u001b[0m\u001b[0;34m\u001b[0m\u001b[0;34m\u001b[0m\u001b[0m\n",
      "\u001b[0;32m~/.pyenv/versions/3.8.5/envs/minority_report/lib/python3.8/site-packages/pandas/io/parsers.py\u001b[0m in \u001b[0;36mread\u001b[0;34m(self, nrows)\u001b[0m\n\u001b[1;32m   2155\u001b[0m     \u001b[0;32mdef\u001b[0m \u001b[0mread\u001b[0m\u001b[0;34m(\u001b[0m\u001b[0mself\u001b[0m\u001b[0;34m,\u001b[0m \u001b[0mnrows\u001b[0m\u001b[0;34m=\u001b[0m\u001b[0;32mNone\u001b[0m\u001b[0;34m)\u001b[0m\u001b[0;34m:\u001b[0m\u001b[0;34m\u001b[0m\u001b[0;34m\u001b[0m\u001b[0m\n\u001b[1;32m   2156\u001b[0m         \u001b[0;32mtry\u001b[0m\u001b[0;34m:\u001b[0m\u001b[0;34m\u001b[0m\u001b[0;34m\u001b[0m\u001b[0m\n\u001b[0;32m-> 2157\u001b[0;31m             \u001b[0mdata\u001b[0m \u001b[0;34m=\u001b[0m \u001b[0mself\u001b[0m\u001b[0;34m.\u001b[0m\u001b[0m_reader\u001b[0m\u001b[0;34m.\u001b[0m\u001b[0mread\u001b[0m\u001b[0;34m(\u001b[0m\u001b[0mnrows\u001b[0m\u001b[0;34m)\u001b[0m\u001b[0;34m\u001b[0m\u001b[0;34m\u001b[0m\u001b[0m\n\u001b[0m\u001b[1;32m   2158\u001b[0m         \u001b[0;32mexcept\u001b[0m \u001b[0mStopIteration\u001b[0m\u001b[0;34m:\u001b[0m\u001b[0;34m\u001b[0m\u001b[0;34m\u001b[0m\u001b[0m\n\u001b[1;32m   2159\u001b[0m             \u001b[0;32mif\u001b[0m \u001b[0mself\u001b[0m\u001b[0;34m.\u001b[0m\u001b[0m_first_chunk\u001b[0m\u001b[0;34m:\u001b[0m\u001b[0;34m\u001b[0m\u001b[0;34m\u001b[0m\u001b[0m\n",
      "\u001b[0;32mpandas/_libs/parsers.pyx\u001b[0m in \u001b[0;36mpandas._libs.parsers.TextReader.read\u001b[0;34m()\u001b[0m\n",
      "\u001b[0;32mpandas/_libs/parsers.pyx\u001b[0m in \u001b[0;36mpandas._libs.parsers.TextReader._read_rows\u001b[0;34m()\u001b[0m\n",
      "\u001b[0;32mpandas/_libs/parsers.pyx\u001b[0m in \u001b[0;36mpandas._libs.parsers.TextReader._convert_column_data\u001b[0;34m()\u001b[0m\n",
      "\u001b[0;32m~/.pyenv/versions/3.8.5/envs/minority_report/lib/python3.8/site-packages/pandas/core/dtypes/common.py\u001b[0m in \u001b[0;36mis_extension_array_dtype\u001b[0;34m(arr_or_dtype)\u001b[0m\n\u001b[1;32m   1458\u001b[0m \u001b[0;34m\u001b[0m\u001b[0m\n\u001b[1;32m   1459\u001b[0m \u001b[0;34m\u001b[0m\u001b[0m\n\u001b[0;32m-> 1460\u001b[0;31m \u001b[0;32mdef\u001b[0m \u001b[0mis_extension_array_dtype\u001b[0m\u001b[0;34m(\u001b[0m\u001b[0marr_or_dtype\u001b[0m\u001b[0;34m)\u001b[0m \u001b[0;34m->\u001b[0m \u001b[0mbool\u001b[0m\u001b[0;34m:\u001b[0m\u001b[0;34m\u001b[0m\u001b[0;34m\u001b[0m\u001b[0m\n\u001b[0m\u001b[1;32m   1461\u001b[0m     \"\"\"\n\u001b[1;32m   1462\u001b[0m     \u001b[0mCheck\u001b[0m \u001b[0;32mif\u001b[0m \u001b[0man\u001b[0m \u001b[0mobject\u001b[0m \u001b[0;32mis\u001b[0m \u001b[0ma\u001b[0m \u001b[0mpandas\u001b[0m \u001b[0mextension\u001b[0m \u001b[0marray\u001b[0m \u001b[0mtype\u001b[0m\u001b[0;34m.\u001b[0m\u001b[0;34m\u001b[0m\u001b[0;34m\u001b[0m\u001b[0m\n",
      "\u001b[0;31mKeyboardInterrupt\u001b[0m: "
     ]
    }
   ],
   "source": [
    "df = CleanData()"
   ]
  },
  {
   "cell_type": "code",
   "execution_count": null,
   "metadata": {
    "ExecuteTime": {
     "end_time": "2020-12-02T13:23:33.111327Z",
     "start_time": "2020-12-02T13:23:01.541Z"
    }
   },
   "outputs": [],
   "source": [
    "df.data.shape"
   ]
  },
  {
   "cell_type": "code",
   "execution_count": null,
   "metadata": {
    "ExecuteTime": {
     "end_time": "2020-12-02T13:23:33.248295Z",
     "start_time": "2020-12-02T13:23:01.545Z"
    }
   },
   "outputs": [],
   "source": [
    "df.drop_nan()"
   ]
  },
  {
   "cell_type": "code",
   "execution_count": null,
   "metadata": {
    "ExecuteTime": {
     "end_time": "2020-12-02T13:23:33.266068Z",
     "start_time": "2020-12-02T13:23:01.548Z"
    }
   },
   "outputs": [],
   "source": [
    "df.data.isna().sum()"
   ]
  },
  {
   "cell_type": "code",
   "execution_count": null,
   "metadata": {
    "ExecuteTime": {
     "end_time": "2020-12-02T13:23:33.402274Z",
     "start_time": "2020-12-02T13:23:01.551Z"
    }
   },
   "outputs": [],
   "source": [
    "df.to_timestamp()"
   ]
  },
  {
   "cell_type": "code",
   "execution_count": null,
   "metadata": {
    "ExecuteTime": {
     "end_time": "2020-12-02T13:23:33.409746Z",
     "start_time": "2020-12-02T13:23:01.555Z"
    }
   },
   "outputs": [],
   "source": [
    "type(df.data['time'][0])"
   ]
  },
  {
   "cell_type": "code",
   "execution_count": null,
   "metadata": {
    "ExecuteTime": {
     "end_time": "2020-12-02T13:23:33.412690Z",
     "start_time": "2020-12-02T13:23:01.558Z"
    }
   },
   "outputs": [],
   "source": [
    "df.to_date_format()"
   ]
  },
  {
   "cell_type": "code",
   "execution_count": null,
   "metadata": {
    "ExecuteTime": {
     "end_time": "2020-12-02T13:23:33.417174Z",
     "start_time": "2020-12-02T13:23:01.560Z"
    }
   },
   "outputs": [],
   "source": [
    "type(df.data['date'][0])"
   ]
  },
  {
   "cell_type": "code",
   "execution_count": null,
   "metadata": {
    "ExecuteTime": {
     "end_time": "2020-12-02T13:23:33.422207Z",
     "start_time": "2020-12-02T13:23:01.564Z"
    }
   },
   "outputs": [],
   "source": [
    "df.data['date'][0].date()"
   ]
  },
  {
   "cell_type": "code",
   "execution_count": null,
   "metadata": {
    "ExecuteTime": {
     "end_time": "2020-12-02T13:23:33.428996Z",
     "start_time": "2020-12-02T13:23:01.565Z"
    }
   },
   "outputs": [],
   "source": [
    "df.data['date'] = df.data['date'].dt.date"
   ]
  },
  {
   "cell_type": "code",
   "execution_count": null,
   "metadata": {
    "ExecuteTime": {
     "end_time": "2020-12-02T13:23:33.435175Z",
     "start_time": "2020-12-02T13:23:01.573Z"
    }
   },
   "outputs": [],
   "source": [
    "type(df.data['date'][3])"
   ]
  },
  {
   "cell_type": "code",
   "execution_count": null,
   "metadata": {
    "ExecuteTime": {
     "end_time": "2020-12-02T13:23:33.439016Z",
     "start_time": "2020-12-02T13:23:01.575Z"
    }
   },
   "outputs": [],
   "source": [
    "df.miss_suspect()"
   ]
  },
  {
   "cell_type": "code",
   "execution_count": null,
   "metadata": {
    "ExecuteTime": {
     "end_time": "2020-12-02T13:23:33.452485Z",
     "start_time": "2020-12-02T13:23:01.577Z"
    }
   },
   "outputs": [],
   "source": [
    "df.miss_victim()"
   ]
  },
  {
   "cell_type": "code",
   "execution_count": null,
   "metadata": {
    "ExecuteTime": {
     "end_time": "2020-12-02T13:23:33.457020Z",
     "start_time": "2020-12-02T13:23:01.583Z"
    }
   },
   "outputs": [],
   "source": [
    "df.miss_premise()"
   ]
  },
  {
   "cell_type": "code",
   "execution_count": null,
   "metadata": {
    "ExecuteTime": {
     "end_time": "2020-12-02T13:23:33.459642Z",
     "start_time": "2020-12-02T13:23:01.585Z"
    }
   },
   "outputs": [],
   "source": [
    "df.miss_park_metro()\n",
    "\n",
    "df.miss_lon_lat()\n",
    "\n",
    "df.miss_borough()\n",
    "\n",
    "df.miss_patrol_borough()"
   ]
  },
  {
   "cell_type": "code",
   "execution_count": null,
   "metadata": {
    "ExecuteTime": {
     "end_time": "2020-12-02T13:23:33.465375Z",
     "start_time": "2020-12-02T13:23:01.588Z"
    }
   },
   "outputs": [],
   "source": [
    "df.data.isna().sum()"
   ]
  },
  {
   "cell_type": "code",
   "execution_count": null,
   "metadata": {
    "ExecuteTime": {
     "end_time": "2020-12-02T13:23:33.469611Z",
     "start_time": "2020-12-02T13:23:01.590Z"
    }
   },
   "outputs": [],
   "source": [
    "df.round_int_precinct()\n",
    "\n",
    "df.crime_completed_to_boolean()"
   ]
  },
  {
   "cell_type": "code",
   "execution_count": null,
   "metadata": {
    "ExecuteTime": {
     "end_time": "2020-12-02T13:23:33.475621Z",
     "start_time": "2020-12-02T13:23:01.591Z"
    }
   },
   "outputs": [],
   "source": [
    "type(df.data['precinct_number'][0])"
   ]
  },
  {
   "cell_type": "markdown",
   "metadata": {},
   "source": [
    "#### Category scaling"
   ]
  },
  {
   "cell_type": "code",
   "execution_count": null,
   "metadata": {
    "ExecuteTime": {
     "end_time": "2020-12-02T13:23:33.479107Z",
     "start_time": "2020-12-02T13:23:01.594Z"
    }
   },
   "outputs": [],
   "source": [
    "# columns to be scaled:\n",
    "\n",
    "\n",
    "len(df.data.columns)\n"
   ]
  },
  {
   "cell_type": "code",
   "execution_count": null,
   "metadata": {
    "ExecuteTime": {
     "end_time": "2020-12-02T13:23:33.482534Z",
     "start_time": "2020-12-02T13:23:01.598Z"
    }
   },
   "outputs": [],
   "source": [
    "# Categorical scaling:\n",
    "#     OneHotEncoder:\n",
    "#     1.offense_type\n",
    "#     2.offense_level\n",
    "#     3.borough\n",
    "#     4.premise_desc\n",
    "#     5.premise\n",
    "#     6.suspect_age\n",
    "#     7.suspect_race\n",
    "#     8.suspect_sex\n",
    "#     9.patrol_borough\n",
    "#     10.metro\n",
    "#     11.victim_age\n",
    "#     12.victim_race\n",
    "#     13.victim_sex\n",
    "#     14.precinct_number\n",
    "    \n",
    "#     LabelEncoder:\n",
    "#     15.crime_completed\n",
    "\n",
    "    \n",
    "#     columns remaining the same:\n",
    "#     16.date\n",
    "#     17.time\n",
    "#     18.complaint_id"
   ]
  },
  {
   "cell_type": "code",
   "execution_count": null,
   "metadata": {
    "ExecuteTime": {
     "end_time": "2020-12-02T13:23:33.487729Z",
     "start_time": "2020-12-02T13:23:01.600Z"
    }
   },
   "outputs": [],
   "source": [
    "df.data.head()"
   ]
  },
  {
   "cell_type": "markdown",
   "metadata": {},
   "source": [
    "### label encoding"
   ]
  },
  {
   "cell_type": "code",
   "execution_count": null,
   "metadata": {
    "ExecuteTime": {
     "end_time": "2020-12-02T13:23:33.496623Z",
     "start_time": "2020-12-02T13:23:01.604Z"
    }
   },
   "outputs": [],
   "source": [
    "from sklearn.preprocessing import LabelEncoder\n",
    "\n",
    "le = LabelEncoder()\n",
    "\n",
    "df.data['crime_completed'] = le.fit_transform(df.data['crime_completed'])\n",
    "\n",
    "df.data.head()"
   ]
  },
  {
   "cell_type": "code",
   "execution_count": null,
   "metadata": {
    "ExecuteTime": {
     "end_time": "2020-12-02T13:23:33.501385Z",
     "start_time": "2020-12-02T13:23:01.606Z"
    }
   },
   "outputs": [],
   "source": [
    "def label_encoding(self):\n",
    "    le = LabelEncoder()\n",
    "\n",
    "    self.df.data['crime_completed'] = le.fit_transform(self.df.data['crime_completed'])\n",
    "\n",
    "    return self.df.data"
   ]
  },
  {
   "cell_type": "markdown",
   "metadata": {},
   "source": [
    "### One hot encoder"
   ]
  },
  {
   "cell_type": "code",
   "execution_count": 7,
   "metadata": {
    "ExecuteTime": {
     "end_time": "2020-12-02T13:48:50.936362Z",
     "start_time": "2020-12-02T13:47:50.027846Z"
    }
   },
   "outputs": [
    {
     "name": "stdout",
     "output_type": "stream",
     "text": [
      "Creating clean dataframe\n",
      "dropping NaNs\n",
      "Changing time column\n",
      "Changing date column\n",
      "Changing suspect column\n",
      "Changing victim column\n",
      "Changing premise column\n",
      "Changing park & metro column\n",
      "Changing coordinates columns\n",
      "Changing borough column\n",
      "Changing patrol column\n",
      "Changing precinct column\n",
      "Changing completion column\n"
     ]
    },
    {
     "data": {
      "text/html": [
       "<div>\n",
       "<style scoped>\n",
       "    .dataframe tbody tr th:only-of-type {\n",
       "        vertical-align: middle;\n",
       "    }\n",
       "\n",
       "    .dataframe tbody tr th {\n",
       "        vertical-align: top;\n",
       "    }\n",
       "\n",
       "    .dataframe thead th {\n",
       "        text-align: right;\n",
       "    }\n",
       "</style>\n",
       "<table border=\"1\" class=\"dataframe\">\n",
       "  <thead>\n",
       "    <tr style=\"text-align: right;\">\n",
       "      <th></th>\n",
       "      <th>complaint_id</th>\n",
       "      <th>date</th>\n",
       "      <th>time</th>\n",
       "      <th>precinct_number</th>\n",
       "      <th>offense_type</th>\n",
       "      <th>crime_completed</th>\n",
       "      <th>offense_level</th>\n",
       "      <th>premise_desc</th>\n",
       "      <th>premise</th>\n",
       "      <th>jurisdiction</th>\n",
       "      <th>...</th>\n",
       "      <th>suspect_race</th>\n",
       "      <th>suspect_sex</th>\n",
       "      <th>latitude</th>\n",
       "      <th>longitude</th>\n",
       "      <th>metro</th>\n",
       "      <th>victim_age</th>\n",
       "      <th>victim_race</th>\n",
       "      <th>victim_sex</th>\n",
       "      <th>borough</th>\n",
       "      <th>patrol_borough</th>\n",
       "    </tr>\n",
       "  </thead>\n",
       "  <tbody>\n",
       "    <tr>\n",
       "      <th>0</th>\n",
       "      <td>325341655</td>\n",
       "      <td>2015-02-11</td>\n",
       "      <td>15:00:00</td>\n",
       "      <td>73</td>\n",
       "      <td>OFFENSES AGAINST PUBLIC ADMINI</td>\n",
       "      <td>True</td>\n",
       "      <td>MISDEMEANOR</td>\n",
       "      <td>INSIDE</td>\n",
       "      <td>RESIDENCE - PUBLIC HOUSING</td>\n",
       "      <td>N.Y. HOUSING POLICE</td>\n",
       "      <td>...</td>\n",
       "      <td>BLACK</td>\n",
       "      <td>M</td>\n",
       "      <td>40.664239</td>\n",
       "      <td>-73.908425</td>\n",
       "      <td>NOT SUBWAY</td>\n",
       "      <td>&lt;18</td>\n",
       "      <td>BLACK</td>\n",
       "      <td>M</td>\n",
       "      <td>BROOKLYN</td>\n",
       "      <td>PATROL BORO BKLYN NORTH</td>\n",
       "    </tr>\n",
       "    <tr>\n",
       "      <th>1</th>\n",
       "      <td>393816841</td>\n",
       "      <td>2012-03-17</td>\n",
       "      <td>10:30:00</td>\n",
       "      <td>69</td>\n",
       "      <td>ASSAULT 3 &amp; RELATED OFFENSES</td>\n",
       "      <td>True</td>\n",
       "      <td>MISDEMEANOR</td>\n",
       "      <td>INSIDE</td>\n",
       "      <td>RESIDENCE-HOUSE</td>\n",
       "      <td>N.Y. POLICE DEPT</td>\n",
       "      <td>...</td>\n",
       "      <td>UNKNOWN</td>\n",
       "      <td>UNKNOWN</td>\n",
       "      <td>40.644590</td>\n",
       "      <td>-73.892672</td>\n",
       "      <td>NOT SUBWAY</td>\n",
       "      <td>45-64</td>\n",
       "      <td>BLACK</td>\n",
       "      <td>F</td>\n",
       "      <td>BROOKLYN</td>\n",
       "      <td>PATROL BORO BKLYN SOUTH</td>\n",
       "    </tr>\n",
       "    <tr>\n",
       "      <th>2</th>\n",
       "      <td>802896158</td>\n",
       "      <td>2016-10-27</td>\n",
       "      <td>13:48:00</td>\n",
       "      <td>71</td>\n",
       "      <td>HARRASSMENT 2</td>\n",
       "      <td>True</td>\n",
       "      <td>VIOLATION</td>\n",
       "      <td>INSIDE</td>\n",
       "      <td>PUBLIC SCHOOL</td>\n",
       "      <td>N.Y. POLICE DEPT</td>\n",
       "      <td>...</td>\n",
       "      <td>BLACK</td>\n",
       "      <td>M</td>\n",
       "      <td>40.658758</td>\n",
       "      <td>-73.942435</td>\n",
       "      <td>NOT SUBWAY</td>\n",
       "      <td>18-24</td>\n",
       "      <td>BLACK</td>\n",
       "      <td>M</td>\n",
       "      <td>BROOKLYN</td>\n",
       "      <td>PATROL BORO BKLYN SOUTH</td>\n",
       "    </tr>\n",
       "    <tr>\n",
       "      <th>3</th>\n",
       "      <td>633812343</td>\n",
       "      <td>2014-11-27</td>\n",
       "      <td>19:00:00</td>\n",
       "      <td>112</td>\n",
       "      <td>RAPE</td>\n",
       "      <td>True</td>\n",
       "      <td>FELONY</td>\n",
       "      <td>INSIDE</td>\n",
       "      <td>RESIDENCE - APT. HOUSE</td>\n",
       "      <td>N.Y. POLICE DEPT</td>\n",
       "      <td>...</td>\n",
       "      <td>WHITE HISPANIC</td>\n",
       "      <td>M</td>\n",
       "      <td>40.722364</td>\n",
       "      <td>-73.851474</td>\n",
       "      <td>NOT SUBWAY</td>\n",
       "      <td>25-44</td>\n",
       "      <td>WHITE</td>\n",
       "      <td>F</td>\n",
       "      <td>QUEENS</td>\n",
       "      <td>PATROL BORO QUEENS NORTH</td>\n",
       "    </tr>\n",
       "    <tr>\n",
       "      <th>4</th>\n",
       "      <td>300349533</td>\n",
       "      <td>2013-12-11</td>\n",
       "      <td>13:30:00</td>\n",
       "      <td>24</td>\n",
       "      <td>GRAND LARCENY</td>\n",
       "      <td>True</td>\n",
       "      <td>FELONY</td>\n",
       "      <td>INSIDE</td>\n",
       "      <td>DOCTOR/DENTIST OFFICE</td>\n",
       "      <td>N.Y. POLICE DEPT</td>\n",
       "      <td>...</td>\n",
       "      <td>UNKNOWN</td>\n",
       "      <td>UNKNOWN</td>\n",
       "      <td>40.793465</td>\n",
       "      <td>-73.968950</td>\n",
       "      <td>NOT SUBWAY</td>\n",
       "      <td>45-64</td>\n",
       "      <td>WHITE</td>\n",
       "      <td>F</td>\n",
       "      <td>MANHATTAN</td>\n",
       "      <td>PATROL BORO MAN NORTH</td>\n",
       "    </tr>\n",
       "    <tr>\n",
       "      <th>...</th>\n",
       "      <td>...</td>\n",
       "      <td>...</td>\n",
       "      <td>...</td>\n",
       "      <td>...</td>\n",
       "      <td>...</td>\n",
       "      <td>...</td>\n",
       "      <td>...</td>\n",
       "      <td>...</td>\n",
       "      <td>...</td>\n",
       "      <td>...</td>\n",
       "      <td>...</td>\n",
       "      <td>...</td>\n",
       "      <td>...</td>\n",
       "      <td>...</td>\n",
       "      <td>...</td>\n",
       "      <td>...</td>\n",
       "      <td>...</td>\n",
       "      <td>...</td>\n",
       "      <td>...</td>\n",
       "      <td>...</td>\n",
       "      <td>...</td>\n",
       "    </tr>\n",
       "    <tr>\n",
       "      <th>99995</th>\n",
       "      <td>499648605</td>\n",
       "      <td>2007-09-13</td>\n",
       "      <td>09:50:00</td>\n",
       "      <td>61</td>\n",
       "      <td>CRIMINAL MISCHIEF &amp; RELATED OF</td>\n",
       "      <td>True</td>\n",
       "      <td>MISDEMEANOR</td>\n",
       "      <td>FRONT OF</td>\n",
       "      <td>RESIDENCE-HOUSE</td>\n",
       "      <td>N.Y. POLICE DEPT</td>\n",
       "      <td>...</td>\n",
       "      <td>UNKNOWN</td>\n",
       "      <td>UNKNOWN</td>\n",
       "      <td>40.587058</td>\n",
       "      <td>-73.936448</td>\n",
       "      <td>NOT SUBWAY</td>\n",
       "      <td>UNKNOWN</td>\n",
       "      <td>UNKNOWN</td>\n",
       "      <td>E</td>\n",
       "      <td>BROOKLYN</td>\n",
       "      <td>PATROL BORO BKLYN SOUTH</td>\n",
       "    </tr>\n",
       "    <tr>\n",
       "      <th>99996</th>\n",
       "      <td>261360313</td>\n",
       "      <td>2011-12-14</td>\n",
       "      <td>21:30:00</td>\n",
       "      <td>52</td>\n",
       "      <td>ASSAULT 3 &amp; RELATED OFFENSES</td>\n",
       "      <td>True</td>\n",
       "      <td>MISDEMEANOR</td>\n",
       "      <td>FRONT OF</td>\n",
       "      <td>STREET</td>\n",
       "      <td>N.Y. POLICE DEPT</td>\n",
       "      <td>...</td>\n",
       "      <td>UNKNOWN</td>\n",
       "      <td>UNKNOWN</td>\n",
       "      <td>40.861843</td>\n",
       "      <td>-73.902951</td>\n",
       "      <td>NOT SUBWAY</td>\n",
       "      <td>UNKNOWN</td>\n",
       "      <td>UNKNOWN</td>\n",
       "      <td>M</td>\n",
       "      <td>BRONX</td>\n",
       "      <td>PATROL BORO BRONX</td>\n",
       "    </tr>\n",
       "    <tr>\n",
       "      <th>99997</th>\n",
       "      <td>205495976</td>\n",
       "      <td>2011-11-27</td>\n",
       "      <td>02:00:00</td>\n",
       "      <td>114</td>\n",
       "      <td>CRIMINAL MISCHIEF &amp; RELATED OF</td>\n",
       "      <td>True</td>\n",
       "      <td>FELONY</td>\n",
       "      <td>UNKNOWN</td>\n",
       "      <td>STREET</td>\n",
       "      <td>N.Y. POLICE DEPT</td>\n",
       "      <td>...</td>\n",
       "      <td>UNKNOWN</td>\n",
       "      <td>UNKNOWN</td>\n",
       "      <td>40.780131</td>\n",
       "      <td>-73.911526</td>\n",
       "      <td>NOT SUBWAY</td>\n",
       "      <td>&lt;18</td>\n",
       "      <td>WHITE HISPANIC</td>\n",
       "      <td>F</td>\n",
       "      <td>QUEENS</td>\n",
       "      <td>PATROL BORO QUEENS NORTH</td>\n",
       "    </tr>\n",
       "    <tr>\n",
       "      <th>99998</th>\n",
       "      <td>712555932</td>\n",
       "      <td>2007-12-05</td>\n",
       "      <td>15:25:00</td>\n",
       "      <td>52</td>\n",
       "      <td>PETIT LARCENY</td>\n",
       "      <td>True</td>\n",
       "      <td>MISDEMEANOR</td>\n",
       "      <td>FRONT OF</td>\n",
       "      <td>STREET</td>\n",
       "      <td>N.Y. POLICE DEPT</td>\n",
       "      <td>...</td>\n",
       "      <td>BLACK</td>\n",
       "      <td>M</td>\n",
       "      <td>40.877927</td>\n",
       "      <td>-73.882373</td>\n",
       "      <td>NOT SUBWAY</td>\n",
       "      <td>UNKNOWN</td>\n",
       "      <td>WHITE</td>\n",
       "      <td>F</td>\n",
       "      <td>BRONX</td>\n",
       "      <td>PATROL BORO BRONX</td>\n",
       "    </tr>\n",
       "    <tr>\n",
       "      <th>99999</th>\n",
       "      <td>559111918</td>\n",
       "      <td>2011-03-28</td>\n",
       "      <td>23:30:00</td>\n",
       "      <td>66</td>\n",
       "      <td>CRIMINAL MISCHIEF &amp; RELATED OF</td>\n",
       "      <td>True</td>\n",
       "      <td>FELONY</td>\n",
       "      <td>INSIDE</td>\n",
       "      <td>RESIDENCE-HOUSE</td>\n",
       "      <td>N.Y. POLICE DEPT</td>\n",
       "      <td>...</td>\n",
       "      <td>UNKNOWN</td>\n",
       "      <td>UNKNOWN</td>\n",
       "      <td>40.625756</td>\n",
       "      <td>-73.967327</td>\n",
       "      <td>NOT SUBWAY</td>\n",
       "      <td>65+</td>\n",
       "      <td>WHITE</td>\n",
       "      <td>M</td>\n",
       "      <td>BROOKLYN</td>\n",
       "      <td>PATROL BORO BKLYN SOUTH</td>\n",
       "    </tr>\n",
       "  </tbody>\n",
       "</table>\n",
       "<p>86622 rows × 22 columns</p>\n",
       "</div>"
      ],
      "text/plain": [
       "       complaint_id        date      time  precinct_number  \\\n",
       "0         325341655  2015-02-11  15:00:00               73   \n",
       "1         393816841  2012-03-17  10:30:00               69   \n",
       "2         802896158  2016-10-27  13:48:00               71   \n",
       "3         633812343  2014-11-27  19:00:00              112   \n",
       "4         300349533  2013-12-11  13:30:00               24   \n",
       "...             ...         ...       ...              ...   \n",
       "99995     499648605  2007-09-13  09:50:00               61   \n",
       "99996     261360313  2011-12-14  21:30:00               52   \n",
       "99997     205495976  2011-11-27  02:00:00              114   \n",
       "99998     712555932  2007-12-05  15:25:00               52   \n",
       "99999     559111918  2011-03-28  23:30:00               66   \n",
       "\n",
       "                         offense_type crime_completed offense_level  \\\n",
       "0      OFFENSES AGAINST PUBLIC ADMINI            True   MISDEMEANOR   \n",
       "1        ASSAULT 3 & RELATED OFFENSES            True   MISDEMEANOR   \n",
       "2                       HARRASSMENT 2            True     VIOLATION   \n",
       "3                                RAPE            True        FELONY   \n",
       "4                       GRAND LARCENY            True        FELONY   \n",
       "...                               ...             ...           ...   \n",
       "99995  CRIMINAL MISCHIEF & RELATED OF            True   MISDEMEANOR   \n",
       "99996    ASSAULT 3 & RELATED OFFENSES            True   MISDEMEANOR   \n",
       "99997  CRIMINAL MISCHIEF & RELATED OF            True        FELONY   \n",
       "99998                   PETIT LARCENY            True   MISDEMEANOR   \n",
       "99999  CRIMINAL MISCHIEF & RELATED OF            True        FELONY   \n",
       "\n",
       "      premise_desc                     premise         jurisdiction  ...  \\\n",
       "0           INSIDE  RESIDENCE - PUBLIC HOUSING  N.Y. HOUSING POLICE  ...   \n",
       "1           INSIDE             RESIDENCE-HOUSE     N.Y. POLICE DEPT  ...   \n",
       "2           INSIDE               PUBLIC SCHOOL     N.Y. POLICE DEPT  ...   \n",
       "3           INSIDE      RESIDENCE - APT. HOUSE     N.Y. POLICE DEPT  ...   \n",
       "4           INSIDE       DOCTOR/DENTIST OFFICE     N.Y. POLICE DEPT  ...   \n",
       "...            ...                         ...                  ...  ...   \n",
       "99995     FRONT OF             RESIDENCE-HOUSE     N.Y. POLICE DEPT  ...   \n",
       "99996     FRONT OF                      STREET     N.Y. POLICE DEPT  ...   \n",
       "99997      UNKNOWN                      STREET     N.Y. POLICE DEPT  ...   \n",
       "99998     FRONT OF                      STREET     N.Y. POLICE DEPT  ...   \n",
       "99999       INSIDE             RESIDENCE-HOUSE     N.Y. POLICE DEPT  ...   \n",
       "\n",
       "         suspect_race suspect_sex   latitude  longitude        metro  \\\n",
       "0               BLACK           M  40.664239 -73.908425  NOT SUBWAY    \n",
       "1             UNKNOWN     UNKNOWN  40.644590 -73.892672  NOT SUBWAY    \n",
       "2               BLACK           M  40.658758 -73.942435  NOT SUBWAY    \n",
       "3      WHITE HISPANIC           M  40.722364 -73.851474  NOT SUBWAY    \n",
       "4             UNKNOWN     UNKNOWN  40.793465 -73.968950  NOT SUBWAY    \n",
       "...               ...         ...        ...        ...          ...   \n",
       "99995         UNKNOWN     UNKNOWN  40.587058 -73.936448  NOT SUBWAY    \n",
       "99996         UNKNOWN     UNKNOWN  40.861843 -73.902951  NOT SUBWAY    \n",
       "99997         UNKNOWN     UNKNOWN  40.780131 -73.911526  NOT SUBWAY    \n",
       "99998           BLACK           M  40.877927 -73.882373  NOT SUBWAY    \n",
       "99999         UNKNOWN     UNKNOWN  40.625756 -73.967327  NOT SUBWAY    \n",
       "\n",
       "       victim_age     victim_race victim_sex    borough  \\\n",
       "0             <18           BLACK          M   BROOKLYN   \n",
       "1           45-64           BLACK          F   BROOKLYN   \n",
       "2           18-24           BLACK          M   BROOKLYN   \n",
       "3           25-44           WHITE          F     QUEENS   \n",
       "4           45-64           WHITE          F  MANHATTAN   \n",
       "...           ...             ...        ...        ...   \n",
       "99995     UNKNOWN         UNKNOWN          E   BROOKLYN   \n",
       "99996     UNKNOWN         UNKNOWN          M      BRONX   \n",
       "99997         <18  WHITE HISPANIC          F     QUEENS   \n",
       "99998     UNKNOWN           WHITE          F      BRONX   \n",
       "99999         65+           WHITE          M   BROOKLYN   \n",
       "\n",
       "                 patrol_borough  \n",
       "0       PATROL BORO BKLYN NORTH  \n",
       "1       PATROL BORO BKLYN SOUTH  \n",
       "2       PATROL BORO BKLYN SOUTH  \n",
       "3      PATROL BORO QUEENS NORTH  \n",
       "4         PATROL BORO MAN NORTH  \n",
       "...                         ...  \n",
       "99995   PATROL BORO BKLYN SOUTH  \n",
       "99996         PATROL BORO BRONX  \n",
       "99997  PATROL BORO QUEENS NORTH  \n",
       "99998         PATROL BORO BRONX  \n",
       "99999   PATROL BORO BKLYN SOUTH  \n",
       "\n",
       "[86622 rows x 22 columns]"
      ]
     },
     "execution_count": 7,
     "metadata": {},
     "output_type": "execute_result"
    }
   ],
   "source": [
    "clean_data = CleanData()\n",
    "print('Creating clean dataframe')\n",
    "clean_data.total_clean()\n",
    "\n"
   ]
  },
  {
   "cell_type": "code",
   "execution_count": 8,
   "metadata": {
    "ExecuteTime": {
     "end_time": "2020-12-02T13:49:56.354738Z",
     "start_time": "2020-12-02T13:49:56.057082Z"
    }
   },
   "outputs": [
    {
     "data": {
      "text/plain": [
       "complaint_id       0\n",
       "date               0\n",
       "time               0\n",
       "precinct_number    0\n",
       "offense_type       0\n",
       "crime_completed    0\n",
       "offense_level      0\n",
       "premise_desc       0\n",
       "premise            0\n",
       "jurisdiction       0\n",
       "park_name          0\n",
       "suspect_age        0\n",
       "suspect_race       0\n",
       "suspect_sex        0\n",
       "latitude           0\n",
       "longitude          0\n",
       "metro              0\n",
       "victim_age         0\n",
       "victim_race        0\n",
       "victim_sex         0\n",
       "borough            0\n",
       "patrol_borough     0\n",
       "dtype: int64"
      ]
     },
     "execution_count": 8,
     "metadata": {},
     "output_type": "execute_result"
    }
   ],
   "source": [
    "clean_data.data.isna().sum()"
   ]
  },
  {
   "cell_type": "code",
   "execution_count": 9,
   "metadata": {
    "ExecuteTime": {
     "end_time": "2020-12-02T13:50:00.528316Z",
     "start_time": "2020-12-02T13:50:00.367844Z"
    }
   },
   "outputs": [
    {
     "data": {
      "text/plain": [
       "OneHotEncoder(sparse=False)"
      ]
     },
     "execution_count": 9,
     "metadata": {},
     "output_type": "execute_result"
    }
   ],
   "source": [
    "from sklearn.preprocessing import OneHotEncoder\n",
    "\n",
    "features_list = ['offense_type','offense_level','borough','premise_desc','premise','suspect_age','suspect_race','suspect_sex','patrol_borough', 'metro','victim_age','victim_race','victim_sex','precinct_number']\n",
    "\n",
    "ohe = OneHotEncoder(sparse = False)\n",
    "ohe.fit(clean_data.data[features_list])"
   ]
  },
  {
   "cell_type": "code",
   "execution_count": 10,
   "metadata": {
    "ExecuteTime": {
     "end_time": "2020-12-02T13:50:03.207655Z",
     "start_time": "2020-12-02T13:50:03.111144Z"
    }
   },
   "outputs": [
    {
     "data": {
      "text/plain": [
       "[array(['ADMINISTRATIVE CODE', 'AGRICULTURE & MRKTS LAW-UNCLASSIFIED',\n",
       "        'ALCOHOLIC BEVERAGE CONTROL LAW', 'ANTICIPATORY OFFENSES', 'ARSON',\n",
       "        'ASSAULT 3 & RELATED OFFENSES', \"BURGLAR'S TOOLS\", 'BURGLARY',\n",
       "        'CHILD ABANDONMENT/NON SUPPORT', 'CRIMINAL MISCHIEF & RELATED OF',\n",
       "        'CRIMINAL TRESPASS', 'DANGEROUS DRUGS', 'DANGEROUS WEAPONS',\n",
       "        'DISORDERLY CONDUCT', 'ENDAN WELFARE INCOMP', 'ESCAPE 3',\n",
       "        'FELONY ASSAULT', 'FORGERY', 'FRAUDS', 'FRAUDULENT ACCOSTING',\n",
       "        'GAMBLING', 'GRAND LARCENY', 'GRAND LARCENY OF MOTOR VEHICLE',\n",
       "        'HARRASSMENT 2', 'HOMICIDE-NEGLIGENT,UNCLASSIFIE',\n",
       "        'INTOXICATED & IMPAIRED DRIVING', 'JOSTLING',\n",
       "        'KIDNAPPING & RELATED OFFENSES', 'LOITERING',\n",
       "        'LOITERING/DEVIATE SEX', 'LOITERING/GAMBLING (CARDS, DIC',\n",
       "        'MISCELLANEOUS PENAL LAW', 'MURDER & NON-NEGL. MANSLAUGHTER',\n",
       "        'NEW YORK CITY HEALTH CODE', 'NYS LAWS-UNCLASSIFIED FELONY',\n",
       "        'OFF. AGNST PUB ORD SENSBLTY &', 'OFFENSES AGAINST PUBLIC ADMINI',\n",
       "        'OFFENSES AGAINST PUBLIC SAFETY', 'OFFENSES AGAINST THE PERSON',\n",
       "        'OFFENSES INVOLVING FRAUD', 'OFFENSES RELATED TO CHILDREN',\n",
       "        'OTHER OFFENSES RELATED TO THEF', 'OTHER STATE LAWS',\n",
       "        'OTHER STATE LAWS (NON PENAL LA', 'PETIT LARCENY',\n",
       "        'PETIT LARCENY OF MOTOR VEHICLE', 'POSSESSION OF STOLEN PROPERTY',\n",
       "        'PROSTITUTION & RELATED OFFENSES', 'RAPE', 'ROBBERY', 'SEX CRIMES',\n",
       "        'THEFT OF SERVICES', 'THEFT-FRAUD',\n",
       "        'UNAUTHORIZED USE OF A VEHICLE', 'VEHICLE AND TRAFFIC LAWS'],\n",
       "       dtype=object),\n",
       " array(['FELONY', 'MISDEMEANOR', 'VIOLATION'], dtype=object),\n",
       " array(['BRONX', 'BROOKLYN', 'MANHATTAN', 'QUEENS', 'STATEN ISLAND'],\n",
       "       dtype=object),\n",
       " array(['FRONT OF', 'INSIDE', 'OPPOSITE OF', 'OUTSIDE', 'REAR OF',\n",
       "        'UNKNOWN'], dtype=object),\n",
       " array(['ABANDONED BUILDING', 'AIRPORT TERMINAL', 'ATM', 'BANK',\n",
       "        'BAR/NIGHT CLUB', 'BEAUTY & NAIL SALON', 'BOOK/CARD', 'BRIDGE',\n",
       "        'BUS (NYC TRANSIT)', 'BUS (OTHER)', 'BUS STOP', 'BUS TERMINAL',\n",
       "        'CANDY STORE', 'CEMETERY', 'CHAIN STORE', 'CHECK CASHING BUSINESS',\n",
       "        'CHURCH', 'CLOTHING/BOUTIQUE', 'COMMERCIAL BUILDING',\n",
       "        'CONSTRUCTION SITE', 'DEPARTMENT STORE', 'DOCTOR/DENTIST OFFICE',\n",
       "        'DRUG STORE', 'DRY CLEANER/LAUNDRY', 'FACTORY/WAREHOUSE',\n",
       "        'FAST FOOD', 'FERRY/FERRY TERMINAL', 'FOOD SUPERMARKET',\n",
       "        'GAS STATION', 'GROCERY/BODEGA', 'GYM/FITNESS FACILITY',\n",
       "        'HIGHWAY/PARKWAY', 'HOSPITAL', 'HOTEL/MOTEL', 'JEWELRY',\n",
       "        'LIQUOR STORE', 'LOAN COMPANY', 'MAILBOX OUTSIDE', 'MARINA/PIER',\n",
       "        'MOSQUE', 'OPEN AREAS (OPEN LOTS)', 'OTHER',\n",
       "        'OTHER HOUSE OF WORSHIP', 'PARK/PLAYGROUND',\n",
       "        'PARKING LOT/GARAGE (PRIVATE)', 'PARKING LOT/GARAGE (PUBLIC)',\n",
       "        'PHOTO/COPY', 'PRIVATE/PAROCHIAL SCHOOL', 'PUBLIC BUILDING',\n",
       "        'PUBLIC SCHOOL', 'RESIDENCE - APT. HOUSE',\n",
       "        'RESIDENCE - PUBLIC HOUSING', 'RESIDENCE-HOUSE',\n",
       "        'RESTAURANT/DINER', 'SHOE', 'SMALL MERCHANT', 'SOCIAL CLUB/POLICY',\n",
       "        'STORAGE FACILITY', 'STORE UNCLASSIFIED', 'STREET', 'SYNAGOGUE',\n",
       "        'TAXI (LIVERY LICENSED)', 'TAXI (YELLOW LICENSED)',\n",
       "        'TAXI/LIVERY (UNLICENSED)', 'TELECOMM. STORE', 'TRAMWAY',\n",
       "        'TRANSIT - NYC SUBWAY', 'TRANSIT FACILITY (OTHER)', 'TUNNEL',\n",
       "        'UNKNOWN', 'VARIETY STORE', 'VIDEO STORE'], dtype=object),\n",
       " array(['18-24', '25-44', '45-64', '65+', '<18', 'UNKNOWN'], dtype=object),\n",
       " array(['AMERICAN INDIAN/ALASKAN NATIVE', 'ASIAN / PACIFIC ISLANDER',\n",
       "        'BLACK', 'BLACK HISPANIC', 'UNKNOWN', 'WHITE', 'WHITE HISPANIC'],\n",
       "       dtype=object),\n",
       " array(['F', 'M', 'U', 'UNKNOWN'], dtype=object),\n",
       " array(['PATROL BORO BKLYN NORTH', 'PATROL BORO BKLYN SOUTH',\n",
       "        'PATROL BORO BRONX', 'PATROL BORO MAN NORTH',\n",
       "        'PATROL BORO MAN SOUTH', 'PATROL BORO QUEENS NORTH',\n",
       "        'PATROL BORO QUEENS SOUTH', 'PATROL BORO STATEN ISLAND'],\n",
       "       dtype=object),\n",
       " array(['1 AVENUE', '103 ST.-CORONA PLAZA', '103 STREET',\n",
       "        '110 ST.-CATHEDRAL PKWY.', '110 ST.-CENTRAL PARK NORTH',\n",
       "        '110 STREET', '111 STREET', '116 ST.-COLUMBIA UNIVERSITY',\n",
       "        '116 STREET', '121 STREET', '125 STREET', '135 STREET',\n",
       "        '137 ST.-CITY COLLEGE', '138 ST.-GRAND CONCOURSE',\n",
       "        '14 ST.-UNION SQUARE', '14 STREET', '145 STREET', '148 ST.-HARLEM',\n",
       "        '149 ST.-GRAND CONCOURSE', '15 ST.-PROSPECT PARK', '155 STREET',\n",
       "        '157 STREET', '161 ST.-YANKEE STADIUM', '163 ST.-AMSTERDAM AVE.',\n",
       "        '167 STREET', '168 ST.-WASHINGTON HTS.', '169 STREET',\n",
       "        '170 STREET', '174-175 STREETS', '175 STREET', '176 STREET',\n",
       "        '18 AVENUE', '18 STREET', '181 STREET', '182-183 STREETS',\n",
       "        '183 STREET', '190 STREET', '191 STREET', '2 AVENUE', '20 AVENUE',\n",
       "        '200 ST.-DYCKMAN ST.', '205 ST.-NORWOOD', '207 ST.-INWOOD',\n",
       "        '207 STREET', '21 ST.-QUEENSBRIDGE', '21 STREET', '219 STREET',\n",
       "        '225 ST.-MARBLE HILL', '23 STREET', '231 STREET',\n",
       "        '238 ST.-NEREID AVE.', '238 STREET', '241 ST.-WAKEFIELD',\n",
       "        '242 ST.-VAN CORTLANDT PARK', '25 AVENUE', '28 STREET', '3 AVENUE',\n",
       "        '3 AVENUE-138 STREET', '3 AVENUE-149 STREET', '33 STREET',\n",
       "        '34 ST.-HERALD SQ.', '34 ST.-PENN STATION', '34 STREET',\n",
       "        '36 STREET', '39 AVENUE', '4 AVENUE-9 STREET',\n",
       "        '42 ST.-GRAND CENTRAL', '42 ST.-PORT AUTHORITY BUS TERM',\n",
       "        '42 ST.-TIMES SQUARE', '42 STREET', '45 STREET', '46 STREET',\n",
       "        '47-50 STS./ROCKEFELLER CTR.', '49 STREET', '5 AVENUE',\n",
       "        '50 STREET', '51 STREET', '52 STREET', '53 STREET', '55 STREET',\n",
       "        '57 STREET', '59 ST.-COLUMBUS CIRCLE', '59 STREET', '6 AVENUE',\n",
       "        '61 ST.-WOODSIDE', '66 ST.-LINCOLN CENTER', '67 AVENUE',\n",
       "        '68 ST.-HUNTER COLLEGE', '69 STREET', '7 AVENUE',\n",
       "        '71 AVE.-FOREST HILLS', '72 STREET', '74 ST.-BROADWAY',\n",
       "        '75 AVENUE', '75 ST.-ELDERTS LANE', '77 STREET', '79 STREET',\n",
       "        '7TH AVENUE', '8 AVENUE', '8 ST.-NYU', '80 STREET',\n",
       "        '81 ST.-MUSEUM OF NATURAL HISTO', '82 ST.-JACKSON HEIGHTS',\n",
       "        '85 ST.-FOREST PKWY.', '86 STREET', '86TH STREET', '9 AVENUE',\n",
       "        '90 ST.-ELMHURST AVE.', '95 STREET-BAY RIDGE', '96 STREET',\n",
       "        '9TH STREET', 'ALABAMA AVENUE', 'ALLERTON AVENUE', 'ASTOR PLACE',\n",
       "        'ASTORIA BLVD.', 'ATLANTIC AVENUE', 'AVENUE \"I\"', 'AVENUE \"J\"',\n",
       "        'AVENUE \"M\"', 'AVENUE \"P\"', 'AVENUE \"U\"', 'AVENUE \"X\"',\n",
       "        'BAY 50 STREET', 'BAY PARKWAY', 'BAY RIDGE AVENUE',\n",
       "        'BEACH 25 STREET', 'BEACH 36 STREET', 'BEACH 60 STREET',\n",
       "        'BEACH 67 STREET', 'BEACH 90 STREET', 'BEDFORD AVENUE',\n",
       "        'BEDFORD PK. BLVD.', 'BEDFORD PK. BLVD.-LEHMAN COLLE',\n",
       "        'BEDFORD-NOSTRAND AVENUES', 'BERGEN STREET', 'BEVERLEY ROAD',\n",
       "        'BEVERLY ROAD', 'BLEECKER STREET', 'BOROUGH HALL',\n",
       "        'BOTANIC GARDEN', 'BOWERY', 'BOWLING GREEN', 'BRIGHTON BEACH',\n",
       "        'BROAD CHANNEL', 'BROAD STREET', 'BROADWAY',\n",
       "        'BROADWAY-EAST NEW YORK', 'BROADWAY-EASTERN PKWY',\n",
       "        'BROADWAY/LAFAYETTE', 'BROADWAY/NASSAU', 'BRONX PARK EAST',\n",
       "        'BROOK AVENUE', 'BROOKLYN BRIDGE-CITY HALL', 'BUHRE AVENUE',\n",
       "        'BURNSIDE AVENUE', 'BUSHWICK AVE.-ABERDEEN ST.', 'CANAL STREET',\n",
       "        'CARROLL STREET', 'CASTLE HILL AVENUE',\n",
       "        'CHAMBERS ST.-WORLD TRADE CENTE', 'CHAMBERS STREET',\n",
       "        'CHAUNCEY STREET', 'CHRISTOPHER ST.-SHERIDAN SQ.', 'CHURCH AVENUE',\n",
       "        'CITY HALL', 'CLARK STREET', 'CLASSON AVENUE', 'CLEVELAND STREET',\n",
       "        'CLINTON-WASHINGTON AVENUES', 'CORTELYOU ROAD', 'COURT SQUARE',\n",
       "        'COURT STREET', 'CRESCENT STREET', 'CYPRESS AVENUE',\n",
       "        'CYPRESS HILLS', 'DEKALB AVENUE', 'DELANCEY STREET',\n",
       "        'DISTRICT 12 OFFICE', 'DISTRICT 30 OFFICE', 'DISTRICT 34 OFFICE',\n",
       "        'DISTRICT 4 OFFICE', 'DITMARS BLVD.-ASTORIA',\n",
       "        'DYRE AVE.-EASTCHESTER', \"EAST 143 ST.-ST. MARY'S STREET\",\n",
       "        'EAST 149 STREET', 'EAST 174 STREET', 'EAST 177 ST.-PARKCHESTER',\n",
       "        'EAST 180 STREET', 'EAST BROADWAY',\n",
       "        'EAST TREMONT AV.-WESTCHESTER S', 'EAST TREMONT AVE.-WEST FARMS S',\n",
       "        'EASTERN PKWY-BROOKLYN MUSEUM', 'ELDER AVENUE', 'ELMHURST AVE.',\n",
       "        'ESSEX STREET', 'EUCLID AVENUE', 'FAR ROCKAWAY-MOTT AVE.',\n",
       "        'FLATBUSH AVE.-BROOKLYN COLLEGE', 'FLUSHING AVENUE',\n",
       "        'FORDHAM ROAD', 'FOREST AVENUE', 'FORT HAMILTON PKWY',\n",
       "        'FRANKLIN AVENUE', 'FREEMAN STREET', 'FULTON STREET',\n",
       "        'GATES AVENUE', 'GRAHAM AVENUE', 'GRAND ARMY PLAZA',\n",
       "        'GRAND AVE.-NEWTON', 'GRAND STREET', 'GRANT AVENUE',\n",
       "        'GREENPOINT AVENUE', 'GUN HILL ROAD', 'HALSEY STREET',\n",
       "        'HEWES STREET', 'HIGH STREET', 'HOUSTON STREET',\n",
       "        'HOWARD BEACH-JFK AIRPORT', 'HOYT STREET', 'HOYT-SCHERMERHORN',\n",
       "        'HUNTS POINT AVENUE', 'INTERVALE AVENUE', 'JACKSON AVENUE',\n",
       "        'JAMAICA-VAN WYCK', 'JAY STREET-BOROUGH HALL', 'JEFFERSON STREET',\n",
       "        'JUNCTION BLVD.', 'JUNIUS STREET', 'KINGS HIGHWAY',\n",
       "        'KINGSBRIDGE ROAD', 'KINGSTON AVENUE', 'KINGSTON-THROOP AVENUES',\n",
       "        'KNICKERBOCKER AVENUE', 'KOSCIUSKO STREET', 'LAFAYETTE AVENUE',\n",
       "        'LEXINGTON AVE.', 'LEXINGTON AVENUE', 'LIBERTY AVENUE',\n",
       "        'LIVONIA AVENUE', 'LORIMER STREET', 'MAIN ST.-FLUSHING',\n",
       "        'MARCY AVENUE', 'METROPOLITAN AVENUE', 'MONTROSE AVENUE',\n",
       "        'MOSHOLU PKWY.', 'MT. EDEN AVENUE', 'MYRTLE AVENUE',\n",
       "        'MYRTLE-WILLOUGHBY AVENUES', 'MYRTLE/WYCKOFF AVENUES',\n",
       "        'NASSAU AVENUE', 'NECK ROAD', 'NEVINS STREET', 'NEW LOTS AVENUE',\n",
       "        'NEW UTRECHT AVENUE', 'NEWKIRK AVENUE', 'NORTHERN BLVD.',\n",
       "        'NORWOOD AVENUE', 'NOSTRAND AVENUE', 'NOT SUBWAY ', 'OCEAN PKWY',\n",
       "        'PACIFIC STREET', 'PARKSIDE AVENUE', 'PARSONS BLVD.',\n",
       "        'PARSONS/ARCHER-JAMAICA CENTER', 'PELHAM BAY PARK', 'PELHAM PKWY.',\n",
       "        'PENNSYLVANIA AVENUE', 'PRESIDENT STREET', 'PRINCE STREET',\n",
       "        'PROSPECT AVENUE', 'PROSPECT PARK', 'QUEENS PLAZA',\n",
       "        'QUEENSBORO PLAZA', 'RALPH AVENUE', 'RECTOR STREET',\n",
       "        'ROCKAWAY AVENUE', 'ROCKAWAY BLVD.', 'ROCKAWAY PARK-BEACH 116 ST.',\n",
       "        'ROCKAWAY PKWY-CANARSIE', 'ROOSEVELT AVE.-JACKSON HEIGHTS',\n",
       "        'SARATOGA AVENUE', 'SENECA AVENUE', 'SHEEPSHEAD BAY',\n",
       "        'SHEPHERD AVENUE', 'SIMPSON STREET', 'SMITH-9 STREETS',\n",
       "        'SOUTH FERRY', 'SPRING STREET', 'ST. LAWRENCE AVENUE',\n",
       "        'STEINWAY ST.', 'STERLING STREET', 'STILLWELL AVENUE-CONEY ISLAND',\n",
       "        'SUTPHIN BLVD.', 'SUTPHIN BLVD.-ARCHER AVE.', 'SUTTER AVENUE',\n",
       "        'SUTTER AVENUE-RUTLAND ROAD', 'TREMONT AVENUE', 'UNION SQUARE',\n",
       "        'UNION STREET', 'UNION TURNPIKE-KEW GARDENS',\n",
       "        'UTICA AVE.-CROWN HEIGHTS', 'UTICA AVENUE', 'VAN SICLEN AVENUE',\n",
       "        'VAN WYCK BLVD.-BRIARWOOD', 'VERNON BLVD.-JACKSON AVE.',\n",
       "        'W. 4 STREET', 'WALL STREET', 'WEST 8 STREET-NY AQUARIUM',\n",
       "        'WHITEHALL ST.-SOUTH FERRY', 'WHITLOCK AVENUE',\n",
       "        'WILLETS POINT-SHEA STADIUM', 'WILSON AVENUE', 'WOODHAVEN BLVD.',\n",
       "        'WOODLAWN', 'WYCKOFF AVENUE', 'YORK STREET', 'ZEREGA AVENUE'],\n",
       "       dtype=object),\n",
       " array(['18-24', '25-44', '45-64', '65+', '<18', 'UNKNOWN'], dtype=object),\n",
       " array(['AMERICAN INDIAN/ALASKAN NATIVE', 'ASIAN / PACIFIC ISLANDER',\n",
       "        'BLACK', 'BLACK HISPANIC', 'UNKNOWN', 'WHITE', 'WHITE HISPANIC'],\n",
       "       dtype=object),\n",
       " array(['D', 'E', 'F', 'M', 'UNKNOWN'], dtype=object),\n",
       " array([  1,   5,   6,   7,   9,  10,  13,  14,  17,  18,  19,  20,  22,\n",
       "         23,  24,  25,  26,  28,  30,  32,  33,  34,  40,  41,  42,  43,\n",
       "         44,  45,  46,  47,  48,  49,  50,  52,  60,  61,  62,  63,  66,\n",
       "         67,  68,  69,  70,  71,  72,  73,  75,  76,  77,  78,  79,  81,\n",
       "         83,  84,  88,  90,  94, 100, 101, 102, 103, 104, 105, 106, 107,\n",
       "        108, 109, 110, 111, 112, 113, 114, 115, 120, 121, 122, 123])]"
      ]
     },
     "execution_count": 10,
     "metadata": {},
     "output_type": "execute_result"
    }
   ],
   "source": [
    "ohe.categories_\n"
   ]
  },
  {
   "cell_type": "code",
   "execution_count": 11,
   "metadata": {
    "ExecuteTime": {
     "end_time": "2020-12-02T13:50:11.713982Z",
     "start_time": "2020-12-02T13:50:11.660942Z"
    },
    "scrolled": true
   },
   "outputs": [],
   "source": [
    "list_of_list_of_columns = [list(element) for element in ohe.categories_]\n"
   ]
  },
  {
   "cell_type": "code",
   "execution_count": 24,
   "metadata": {
    "ExecuteTime": {
     "end_time": "2020-12-02T13:56:33.663930Z",
     "start_time": "2020-12-02T13:56:33.611642Z"
    }
   },
   "outputs": [],
   "source": [
    "# columns = [item for sublist in list_of_list_of_columns for item in sublist]\n",
    "# columns"
   ]
  },
  {
   "cell_type": "code",
   "execution_count": 17,
   "metadata": {
    "ExecuteTime": {
     "end_time": "2020-12-02T13:53:32.232899Z",
     "start_time": "2020-12-02T13:53:32.149685Z"
    }
   },
   "outputs": [
    {
     "data": {
      "text/plain": [
       "['ADMINISTRATIVE CODE',\n",
       " 'AGRICULTURE & MRKTS LAW-UNCLASSIFIED',\n",
       " 'ALCOHOLIC BEVERAGE CONTROL LAW',\n",
       " 'ANTICIPATORY OFFENSES',\n",
       " 'ARSON',\n",
       " 'ASSAULT 3 & RELATED OFFENSES',\n",
       " \"BURGLAR'S TOOLS\",\n",
       " 'BURGLARY',\n",
       " 'CHILD ABANDONMENT/NON SUPPORT',\n",
       " 'CRIMINAL MISCHIEF & RELATED OF',\n",
       " 'CRIMINAL TRESPASS',\n",
       " 'DANGEROUS DRUGS',\n",
       " 'DANGEROUS WEAPONS',\n",
       " 'DISORDERLY CONDUCT',\n",
       " 'ENDAN WELFARE INCOMP',\n",
       " 'ESCAPE 3',\n",
       " 'FELONY ASSAULT',\n",
       " 'FORGERY',\n",
       " 'FRAUDS',\n",
       " 'FRAUDULENT ACCOSTING',\n",
       " 'GAMBLING',\n",
       " 'GRAND LARCENY',\n",
       " 'GRAND LARCENY OF MOTOR VEHICLE',\n",
       " 'HARRASSMENT 2',\n",
       " 'HOMICIDE-NEGLIGENT,UNCLASSIFIE',\n",
       " 'INTOXICATED & IMPAIRED DRIVING',\n",
       " 'JOSTLING',\n",
       " 'KIDNAPPING & RELATED OFFENSES',\n",
       " 'LOITERING',\n",
       " 'LOITERING/DEVIATE SEX',\n",
       " 'LOITERING/GAMBLING (CARDS, DIC',\n",
       " 'MISCELLANEOUS PENAL LAW',\n",
       " 'MURDER & NON-NEGL. MANSLAUGHTER',\n",
       " 'NEW YORK CITY HEALTH CODE',\n",
       " 'NYS LAWS-UNCLASSIFIED FELONY',\n",
       " 'OFF. AGNST PUB ORD SENSBLTY &',\n",
       " 'OFFENSES AGAINST PUBLIC ADMINI',\n",
       " 'OFFENSES AGAINST PUBLIC SAFETY',\n",
       " 'OFFENSES AGAINST THE PERSON',\n",
       " 'OFFENSES INVOLVING FRAUD',\n",
       " 'OFFENSES RELATED TO CHILDREN',\n",
       " 'OTHER OFFENSES RELATED TO THEF',\n",
       " 'OTHER STATE LAWS',\n",
       " 'OTHER STATE LAWS (NON PENAL LA',\n",
       " 'PETIT LARCENY',\n",
       " 'PETIT LARCENY OF MOTOR VEHICLE',\n",
       " 'POSSESSION OF STOLEN PROPERTY',\n",
       " 'PROSTITUTION & RELATED OFFENSES',\n",
       " 'RAPE',\n",
       " 'ROBBERY',\n",
       " 'SEX CRIMES',\n",
       " 'THEFT OF SERVICES',\n",
       " 'THEFT-FRAUD',\n",
       " 'UNAUTHORIZED USE OF A VEHICLE',\n",
       " 'VEHICLE AND TRAFFIC LAWS',\n",
       " 'FELONY',\n",
       " 'MISDEMEANOR',\n",
       " 'VIOLATION',\n",
       " 'BRONX',\n",
       " 'BROOKLYN',\n",
       " 'MANHATTAN',\n",
       " 'QUEENS',\n",
       " 'STATEN ISLAND',\n",
       " 'FRONT OF',\n",
       " 'INSIDE',\n",
       " 'OPPOSITE OF',\n",
       " 'OUTSIDE',\n",
       " 'REAR OF',\n",
       " 'UNKNOWN',\n",
       " 'ABANDONED BUILDING',\n",
       " 'AIRPORT TERMINAL',\n",
       " 'ATM',\n",
       " 'BANK',\n",
       " 'BAR/NIGHT CLUB',\n",
       " 'BEAUTY & NAIL SALON',\n",
       " 'BOOK/CARD',\n",
       " 'BRIDGE',\n",
       " 'BUS (NYC TRANSIT)',\n",
       " 'BUS (OTHER)',\n",
       " 'BUS STOP',\n",
       " 'BUS TERMINAL',\n",
       " 'CANDY STORE',\n",
       " 'CEMETERY',\n",
       " 'CHAIN STORE',\n",
       " 'CHECK CASHING BUSINESS',\n",
       " 'CHURCH',\n",
       " 'CLOTHING/BOUTIQUE',\n",
       " 'COMMERCIAL BUILDING',\n",
       " 'CONSTRUCTION SITE',\n",
       " 'DEPARTMENT STORE',\n",
       " 'DOCTOR/DENTIST OFFICE',\n",
       " 'DRUG STORE',\n",
       " 'DRY CLEANER/LAUNDRY',\n",
       " 'FACTORY/WAREHOUSE',\n",
       " 'FAST FOOD',\n",
       " 'FERRY/FERRY TERMINAL',\n",
       " 'FOOD SUPERMARKET',\n",
       " 'GAS STATION',\n",
       " 'GROCERY/BODEGA',\n",
       " 'GYM/FITNESS FACILITY',\n",
       " 'HIGHWAY/PARKWAY',\n",
       " 'HOSPITAL',\n",
       " 'HOTEL/MOTEL',\n",
       " 'JEWELRY',\n",
       " 'LIQUOR STORE',\n",
       " 'LOAN COMPANY',\n",
       " 'MAILBOX OUTSIDE',\n",
       " 'MARINA/PIER',\n",
       " 'MOSQUE',\n",
       " 'OPEN AREAS (OPEN LOTS)',\n",
       " 'OTHER',\n",
       " 'OTHER HOUSE OF WORSHIP',\n",
       " 'PARK/PLAYGROUND',\n",
       " 'PARKING LOT/GARAGE (PRIVATE)',\n",
       " 'PARKING LOT/GARAGE (PUBLIC)',\n",
       " 'PHOTO/COPY',\n",
       " 'PRIVATE/PAROCHIAL SCHOOL',\n",
       " 'PUBLIC BUILDING',\n",
       " 'PUBLIC SCHOOL',\n",
       " 'RESIDENCE - APT. HOUSE',\n",
       " 'RESIDENCE - PUBLIC HOUSING',\n",
       " 'RESIDENCE-HOUSE',\n",
       " 'RESTAURANT/DINER',\n",
       " 'SHOE',\n",
       " 'SMALL MERCHANT',\n",
       " 'SOCIAL CLUB/POLICY',\n",
       " 'STORAGE FACILITY',\n",
       " 'STORE UNCLASSIFIED',\n",
       " 'STREET',\n",
       " 'SYNAGOGUE',\n",
       " 'TAXI (LIVERY LICENSED)',\n",
       " 'TAXI (YELLOW LICENSED)',\n",
       " 'TAXI/LIVERY (UNLICENSED)',\n",
       " 'TELECOMM. STORE',\n",
       " 'TRAMWAY',\n",
       " 'TRANSIT - NYC SUBWAY',\n",
       " 'TRANSIT FACILITY (OTHER)',\n",
       " 'TUNNEL',\n",
       " 'UNKNOWN',\n",
       " 'VARIETY STORE',\n",
       " 'VIDEO STORE',\n",
       " '18-24',\n",
       " '25-44',\n",
       " '45-64',\n",
       " '65+',\n",
       " '<18',\n",
       " 'UNKNOWN',\n",
       " 'AMERICAN INDIAN/ALASKAN NATIVE',\n",
       " 'ASIAN / PACIFIC ISLANDER',\n",
       " 'BLACK',\n",
       " 'BLACK HISPANIC',\n",
       " 'UNKNOWN',\n",
       " 'WHITE',\n",
       " 'WHITE HISPANIC',\n",
       " 'F',\n",
       " 'M',\n",
       " 'U',\n",
       " 'UNKNOWN',\n",
       " 'PATROL BORO BKLYN NORTH',\n",
       " 'PATROL BORO BKLYN SOUTH',\n",
       " 'PATROL BORO BRONX',\n",
       " 'PATROL BORO MAN NORTH',\n",
       " 'PATROL BORO MAN SOUTH',\n",
       " 'PATROL BORO QUEENS NORTH',\n",
       " 'PATROL BORO QUEENS SOUTH',\n",
       " 'PATROL BORO STATEN ISLAND',\n",
       " '1 AVENUE',\n",
       " '103 ST.-CORONA PLAZA',\n",
       " '103 STREET',\n",
       " '110 ST.-CATHEDRAL PKWY.',\n",
       " '110 ST.-CENTRAL PARK NORTH',\n",
       " '110 STREET',\n",
       " '111 STREET',\n",
       " '116 ST.-COLUMBIA UNIVERSITY',\n",
       " '116 STREET',\n",
       " '121 STREET',\n",
       " '125 STREET',\n",
       " '135 STREET',\n",
       " '137 ST.-CITY COLLEGE',\n",
       " '138 ST.-GRAND CONCOURSE',\n",
       " '14 ST.-UNION SQUARE',\n",
       " '14 STREET',\n",
       " '145 STREET',\n",
       " '148 ST.-HARLEM',\n",
       " '149 ST.-GRAND CONCOURSE',\n",
       " '15 ST.-PROSPECT PARK',\n",
       " '155 STREET',\n",
       " '157 STREET',\n",
       " '161 ST.-YANKEE STADIUM',\n",
       " '163 ST.-AMSTERDAM AVE.',\n",
       " '167 STREET',\n",
       " '168 ST.-WASHINGTON HTS.',\n",
       " '169 STREET',\n",
       " '170 STREET',\n",
       " '174-175 STREETS',\n",
       " '175 STREET',\n",
       " '176 STREET',\n",
       " '18 AVENUE',\n",
       " '18 STREET',\n",
       " '181 STREET',\n",
       " '182-183 STREETS',\n",
       " '183 STREET',\n",
       " '190 STREET',\n",
       " '191 STREET',\n",
       " '2 AVENUE',\n",
       " '20 AVENUE',\n",
       " '200 ST.-DYCKMAN ST.',\n",
       " '205 ST.-NORWOOD',\n",
       " '207 ST.-INWOOD',\n",
       " '207 STREET',\n",
       " '21 ST.-QUEENSBRIDGE',\n",
       " '21 STREET',\n",
       " '219 STREET',\n",
       " '225 ST.-MARBLE HILL',\n",
       " '23 STREET',\n",
       " '231 STREET',\n",
       " '238 ST.-NEREID AVE.',\n",
       " '238 STREET',\n",
       " '241 ST.-WAKEFIELD',\n",
       " '242 ST.-VAN CORTLANDT PARK',\n",
       " '25 AVENUE',\n",
       " '28 STREET',\n",
       " '3 AVENUE',\n",
       " '3 AVENUE-138 STREET',\n",
       " '3 AVENUE-149 STREET',\n",
       " '33 STREET',\n",
       " '34 ST.-HERALD SQ.',\n",
       " '34 ST.-PENN STATION',\n",
       " '34 STREET',\n",
       " '36 STREET',\n",
       " '39 AVENUE',\n",
       " '4 AVENUE-9 STREET',\n",
       " '42 ST.-GRAND CENTRAL',\n",
       " '42 ST.-PORT AUTHORITY BUS TERM',\n",
       " '42 ST.-TIMES SQUARE',\n",
       " '42 STREET',\n",
       " '45 STREET',\n",
       " '46 STREET',\n",
       " '47-50 STS./ROCKEFELLER CTR.',\n",
       " '49 STREET',\n",
       " '5 AVENUE',\n",
       " '50 STREET',\n",
       " '51 STREET',\n",
       " '52 STREET',\n",
       " '53 STREET',\n",
       " '55 STREET',\n",
       " '57 STREET',\n",
       " '59 ST.-COLUMBUS CIRCLE',\n",
       " '59 STREET',\n",
       " '6 AVENUE',\n",
       " '61 ST.-WOODSIDE',\n",
       " '66 ST.-LINCOLN CENTER',\n",
       " '67 AVENUE',\n",
       " '68 ST.-HUNTER COLLEGE',\n",
       " '69 STREET',\n",
       " '7 AVENUE',\n",
       " '71 AVE.-FOREST HILLS',\n",
       " '72 STREET',\n",
       " '74 ST.-BROADWAY',\n",
       " '75 AVENUE',\n",
       " '75 ST.-ELDERTS LANE',\n",
       " '77 STREET',\n",
       " '79 STREET',\n",
       " '7TH AVENUE',\n",
       " '8 AVENUE',\n",
       " '8 ST.-NYU',\n",
       " '80 STREET',\n",
       " '81 ST.-MUSEUM OF NATURAL HISTO',\n",
       " '82 ST.-JACKSON HEIGHTS',\n",
       " '85 ST.-FOREST PKWY.',\n",
       " '86 STREET',\n",
       " '86TH STREET',\n",
       " '9 AVENUE',\n",
       " '90 ST.-ELMHURST AVE.',\n",
       " '95 STREET-BAY RIDGE',\n",
       " '96 STREET',\n",
       " '9TH STREET',\n",
       " 'ALABAMA AVENUE',\n",
       " 'ALLERTON AVENUE',\n",
       " 'ASTOR PLACE',\n",
       " 'ASTORIA BLVD.',\n",
       " 'ATLANTIC AVENUE',\n",
       " 'AVENUE \"I\"',\n",
       " 'AVENUE \"J\"',\n",
       " 'AVENUE \"M\"',\n",
       " 'AVENUE \"P\"',\n",
       " 'AVENUE \"U\"',\n",
       " 'AVENUE \"X\"',\n",
       " 'BAY 50 STREET',\n",
       " 'BAY PARKWAY',\n",
       " 'BAY RIDGE AVENUE',\n",
       " 'BEACH 25 STREET',\n",
       " 'BEACH 36 STREET',\n",
       " 'BEACH 60 STREET',\n",
       " 'BEACH 67 STREET',\n",
       " 'BEACH 90 STREET',\n",
       " 'BEDFORD AVENUE',\n",
       " 'BEDFORD PK. BLVD.',\n",
       " 'BEDFORD PK. BLVD.-LEHMAN COLLE',\n",
       " 'BEDFORD-NOSTRAND AVENUES',\n",
       " 'BERGEN STREET',\n",
       " 'BEVERLEY ROAD',\n",
       " 'BEVERLY ROAD',\n",
       " 'BLEECKER STREET',\n",
       " 'BOROUGH HALL',\n",
       " 'BOTANIC GARDEN',\n",
       " 'BOWERY',\n",
       " 'BOWLING GREEN',\n",
       " 'BRIGHTON BEACH',\n",
       " 'BROAD CHANNEL',\n",
       " 'BROAD STREET',\n",
       " 'BROADWAY',\n",
       " 'BROADWAY-EAST NEW YORK',\n",
       " 'BROADWAY-EASTERN PKWY',\n",
       " 'BROADWAY/LAFAYETTE',\n",
       " 'BROADWAY/NASSAU',\n",
       " 'BRONX PARK EAST',\n",
       " 'BROOK AVENUE',\n",
       " 'BROOKLYN BRIDGE-CITY HALL',\n",
       " 'BUHRE AVENUE',\n",
       " 'BURNSIDE AVENUE',\n",
       " 'BUSHWICK AVE.-ABERDEEN ST.',\n",
       " 'CANAL STREET',\n",
       " 'CARROLL STREET',\n",
       " 'CASTLE HILL AVENUE',\n",
       " 'CHAMBERS ST.-WORLD TRADE CENTE',\n",
       " 'CHAMBERS STREET',\n",
       " 'CHAUNCEY STREET',\n",
       " 'CHRISTOPHER ST.-SHERIDAN SQ.',\n",
       " 'CHURCH AVENUE',\n",
       " 'CITY HALL',\n",
       " 'CLARK STREET',\n",
       " 'CLASSON AVENUE',\n",
       " 'CLEVELAND STREET',\n",
       " 'CLINTON-WASHINGTON AVENUES',\n",
       " 'CORTELYOU ROAD',\n",
       " 'COURT SQUARE',\n",
       " 'COURT STREET',\n",
       " 'CRESCENT STREET',\n",
       " 'CYPRESS AVENUE',\n",
       " 'CYPRESS HILLS',\n",
       " 'DEKALB AVENUE',\n",
       " 'DELANCEY STREET',\n",
       " 'DISTRICT 12 OFFICE',\n",
       " 'DISTRICT 30 OFFICE',\n",
       " 'DISTRICT 34 OFFICE',\n",
       " 'DISTRICT 4 OFFICE',\n",
       " 'DITMARS BLVD.-ASTORIA',\n",
       " 'DYRE AVE.-EASTCHESTER',\n",
       " \"EAST 143 ST.-ST. MARY'S STREET\",\n",
       " 'EAST 149 STREET',\n",
       " 'EAST 174 STREET',\n",
       " 'EAST 177 ST.-PARKCHESTER',\n",
       " 'EAST 180 STREET',\n",
       " 'EAST BROADWAY',\n",
       " 'EAST TREMONT AV.-WESTCHESTER S',\n",
       " 'EAST TREMONT AVE.-WEST FARMS S',\n",
       " 'EASTERN PKWY-BROOKLYN MUSEUM',\n",
       " 'ELDER AVENUE',\n",
       " 'ELMHURST AVE.',\n",
       " 'ESSEX STREET',\n",
       " 'EUCLID AVENUE',\n",
       " 'FAR ROCKAWAY-MOTT AVE.',\n",
       " 'FLATBUSH AVE.-BROOKLYN COLLEGE',\n",
       " 'FLUSHING AVENUE',\n",
       " 'FORDHAM ROAD',\n",
       " 'FOREST AVENUE',\n",
       " 'FORT HAMILTON PKWY',\n",
       " 'FRANKLIN AVENUE',\n",
       " 'FREEMAN STREET',\n",
       " 'FULTON STREET',\n",
       " 'GATES AVENUE',\n",
       " 'GRAHAM AVENUE',\n",
       " 'GRAND ARMY PLAZA',\n",
       " 'GRAND AVE.-NEWTON',\n",
       " 'GRAND STREET',\n",
       " 'GRANT AVENUE',\n",
       " 'GREENPOINT AVENUE',\n",
       " 'GUN HILL ROAD',\n",
       " 'HALSEY STREET',\n",
       " 'HEWES STREET',\n",
       " 'HIGH STREET',\n",
       " 'HOUSTON STREET',\n",
       " 'HOWARD BEACH-JFK AIRPORT',\n",
       " 'HOYT STREET',\n",
       " 'HOYT-SCHERMERHORN',\n",
       " 'HUNTS POINT AVENUE',\n",
       " 'INTERVALE AVENUE',\n",
       " 'JACKSON AVENUE',\n",
       " 'JAMAICA-VAN WYCK',\n",
       " 'JAY STREET-BOROUGH HALL',\n",
       " 'JEFFERSON STREET',\n",
       " 'JUNCTION BLVD.',\n",
       " 'JUNIUS STREET',\n",
       " 'KINGS HIGHWAY',\n",
       " 'KINGSBRIDGE ROAD',\n",
       " 'KINGSTON AVENUE',\n",
       " 'KINGSTON-THROOP AVENUES',\n",
       " 'KNICKERBOCKER AVENUE',\n",
       " 'KOSCIUSKO STREET',\n",
       " 'LAFAYETTE AVENUE',\n",
       " 'LEXINGTON AVE.',\n",
       " 'LEXINGTON AVENUE',\n",
       " 'LIBERTY AVENUE',\n",
       " 'LIVONIA AVENUE',\n",
       " 'LORIMER STREET',\n",
       " 'MAIN ST.-FLUSHING',\n",
       " 'MARCY AVENUE',\n",
       " 'METROPOLITAN AVENUE',\n",
       " 'MONTROSE AVENUE',\n",
       " 'MOSHOLU PKWY.',\n",
       " 'MT. EDEN AVENUE',\n",
       " 'MYRTLE AVENUE',\n",
       " 'MYRTLE-WILLOUGHBY AVENUES',\n",
       " 'MYRTLE/WYCKOFF AVENUES',\n",
       " 'NASSAU AVENUE',\n",
       " 'NECK ROAD',\n",
       " 'NEVINS STREET',\n",
       " 'NEW LOTS AVENUE',\n",
       " 'NEW UTRECHT AVENUE',\n",
       " 'NEWKIRK AVENUE',\n",
       " 'NORTHERN BLVD.',\n",
       " 'NORWOOD AVENUE',\n",
       " 'NOSTRAND AVENUE',\n",
       " 'NOT SUBWAY ',\n",
       " 'OCEAN PKWY',\n",
       " 'PACIFIC STREET',\n",
       " 'PARKSIDE AVENUE',\n",
       " 'PARSONS BLVD.',\n",
       " 'PARSONS/ARCHER-JAMAICA CENTER',\n",
       " 'PELHAM BAY PARK',\n",
       " 'PELHAM PKWY.',\n",
       " 'PENNSYLVANIA AVENUE',\n",
       " 'PRESIDENT STREET',\n",
       " 'PRINCE STREET',\n",
       " 'PROSPECT AVENUE',\n",
       " 'PROSPECT PARK',\n",
       " 'QUEENS PLAZA',\n",
       " 'QUEENSBORO PLAZA',\n",
       " 'RALPH AVENUE',\n",
       " 'RECTOR STREET',\n",
       " 'ROCKAWAY AVENUE',\n",
       " 'ROCKAWAY BLVD.',\n",
       " 'ROCKAWAY PARK-BEACH 116 ST.',\n",
       " 'ROCKAWAY PKWY-CANARSIE',\n",
       " 'ROOSEVELT AVE.-JACKSON HEIGHTS',\n",
       " 'SARATOGA AVENUE',\n",
       " 'SENECA AVENUE',\n",
       " 'SHEEPSHEAD BAY',\n",
       " 'SHEPHERD AVENUE',\n",
       " 'SIMPSON STREET',\n",
       " 'SMITH-9 STREETS',\n",
       " 'SOUTH FERRY',\n",
       " 'SPRING STREET',\n",
       " 'ST. LAWRENCE AVENUE',\n",
       " 'STEINWAY ST.',\n",
       " 'STERLING STREET',\n",
       " 'STILLWELL AVENUE-CONEY ISLAND',\n",
       " 'SUTPHIN BLVD.',\n",
       " 'SUTPHIN BLVD.-ARCHER AVE.',\n",
       " 'SUTTER AVENUE',\n",
       " 'SUTTER AVENUE-RUTLAND ROAD',\n",
       " 'TREMONT AVENUE',\n",
       " 'UNION SQUARE',\n",
       " 'UNION STREET',\n",
       " 'UNION TURNPIKE-KEW GARDENS',\n",
       " 'UTICA AVE.-CROWN HEIGHTS',\n",
       " 'UTICA AVENUE',\n",
       " 'VAN SICLEN AVENUE',\n",
       " 'VAN WYCK BLVD.-BRIARWOOD',\n",
       " 'VERNON BLVD.-JACKSON AVE.',\n",
       " 'W. 4 STREET',\n",
       " 'WALL STREET',\n",
       " 'WEST 8 STREET-NY AQUARIUM',\n",
       " 'WHITEHALL ST.-SOUTH FERRY',\n",
       " 'WHITLOCK AVENUE',\n",
       " 'WILLETS POINT-SHEA STADIUM',\n",
       " 'WILSON AVENUE',\n",
       " 'WOODHAVEN BLVD.',\n",
       " 'WOODLAWN',\n",
       " 'WYCKOFF AVENUE',\n",
       " 'YORK STREET',\n",
       " 'ZEREGA AVENUE',\n",
       " '18-24',\n",
       " '25-44',\n",
       " '45-64',\n",
       " '65+',\n",
       " '<18',\n",
       " 'UNKNOWN',\n",
       " 'AMERICAN INDIAN/ALASKAN NATIVE',\n",
       " 'ASIAN / PACIFIC ISLANDER',\n",
       " 'BLACK',\n",
       " 'BLACK HISPANIC',\n",
       " 'UNKNOWN',\n",
       " 'WHITE',\n",
       " 'WHITE HISPANIC',\n",
       " 'D',\n",
       " 'E',\n",
       " 'F',\n",
       " 'M',\n",
       " 'UNKNOWN',\n",
       " 1,\n",
       " 5,\n",
       " 6,\n",
       " 7,\n",
       " 9,\n",
       " 10,\n",
       " 13,\n",
       " 14,\n",
       " 17,\n",
       " 18,\n",
       " 19,\n",
       " 20,\n",
       " 22,\n",
       " 23,\n",
       " 24,\n",
       " 25,\n",
       " 26,\n",
       " 28,\n",
       " 30,\n",
       " 32,\n",
       " 33,\n",
       " 34,\n",
       " 40,\n",
       " 41,\n",
       " 42,\n",
       " 43,\n",
       " 44,\n",
       " 45,\n",
       " 46,\n",
       " 47,\n",
       " 48,\n",
       " 49,\n",
       " 50,\n",
       " 52,\n",
       " 60,\n",
       " 61,\n",
       " 62,\n",
       " 63,\n",
       " 66,\n",
       " 67,\n",
       " 68,\n",
       " 69,\n",
       " 70,\n",
       " 71,\n",
       " 72,\n",
       " 73,\n",
       " 75,\n",
       " 76,\n",
       " 77,\n",
       " 78,\n",
       " 79,\n",
       " 81,\n",
       " 83,\n",
       " 84,\n",
       " 88,\n",
       " 90,\n",
       " 94,\n",
       " 100,\n",
       " 101,\n",
       " 102,\n",
       " 103,\n",
       " 104,\n",
       " 105,\n",
       " 106,\n",
       " 107,\n",
       " 108,\n",
       " 109,\n",
       " 110,\n",
       " 111,\n",
       " 112,\n",
       " 113,\n",
       " 114,\n",
       " 115,\n",
       " 120,\n",
       " 121,\n",
       " 122,\n",
       " 123]"
      ]
     },
     "execution_count": 17,
     "metadata": {},
     "output_type": "execute_result"
    }
   ],
   "source": [
    "import itertools\n",
    "columns = list(itertools.chain(*list_of_list_of_columns))\n",
    "columns"
   ]
  },
  {
   "cell_type": "code",
   "execution_count": 23,
   "metadata": {
    "ExecuteTime": {
     "end_time": "2020-12-02T13:56:02.098661Z",
     "start_time": "2020-12-02T13:56:02.029434Z"
    }
   },
   "outputs": [
    {
     "data": {
      "text/plain": [
       "True"
      ]
     },
     "execution_count": 23,
     "metadata": {},
     "output_type": "execute_result"
    }
   ],
   "source": [
    "# columns==merged"
   ]
  },
  {
   "cell_type": "code",
   "execution_count": 28,
   "metadata": {
    "ExecuteTime": {
     "end_time": "2020-12-02T13:57:55.468637Z",
     "start_time": "2020-12-02T13:57:54.838709Z"
    }
   },
   "outputs": [],
   "source": [
    "et_oh = ohe.transform(clean_data.data[features_list])"
   ]
  },
  {
   "cell_type": "code",
   "execution_count": 29,
   "metadata": {
    "ExecuteTime": {
     "end_time": "2020-12-02T13:58:49.216997Z",
     "start_time": "2020-12-02T13:57:58.111817Z"
    }
   },
   "outputs": [],
   "source": [
    "clean_data.data[columns] = et_oh"
   ]
  },
  {
   "cell_type": "code",
   "execution_count": 30,
   "metadata": {
    "ExecuteTime": {
     "end_time": "2020-12-02T13:59:55.900974Z",
     "start_time": "2020-12-02T13:59:55.834542Z"
    }
   },
   "outputs": [
    {
     "data": {
      "text/plain": [
       "(86622, 580)"
      ]
     },
     "execution_count": 30,
     "metadata": {},
     "output_type": "execute_result"
    }
   ],
   "source": [
    "clean_data.data.shape"
   ]
  },
  {
   "cell_type": "code",
   "execution_count": null,
   "metadata": {
    "ExecuteTime": {
     "end_time": "2020-12-02T13:23:33.555270Z",
     "start_time": "2020-12-02T13:23:01.628Z"
    }
   },
   "outputs": [],
   "source": [
    "import itertools\n",
    "def one_hot_encoder(self,features_list):\n",
    "    ohe = OneHotEncoder(sparse = False)\n",
    "    ohe.fit(clean_data.data[features_list])\n",
    "    list_of_list_of_columns = [list(element) for element in ohe.categories_]\n",
    "    columns = list(itertools.chain(*list_of_list_of_columns))\n",
    "    et_oh = ohe.transform(clean_data.data[features_list])\n",
    "    clean_data.data[columns] = et_oh\n",
    "    self.data = clean_data.data\n",
    "    return self.data"
   ]
  }
 ],
 "metadata": {
  "kernelspec": {
   "display_name": "Python 3",
   "language": "python",
   "name": "python3"
  },
  "language_info": {
   "codemirror_mode": {
    "name": "ipython",
    "version": 3
   },
   "file_extension": ".py",
   "mimetype": "text/x-python",
   "name": "python",
   "nbconvert_exporter": "python",
   "pygments_lexer": "ipython3",
   "version": "3.8.5"
  },
  "toc": {
   "base_numbering": 1,
   "nav_menu": {},
   "number_sections": true,
   "sideBar": true,
   "skip_h1_title": false,
   "title_cell": "Table of Contents",
   "title_sidebar": "Contents",
   "toc_cell": false,
   "toc_position": {},
   "toc_section_display": true,
   "toc_window_display": false
  },
  "varInspector": {
   "cols": {
    "lenName": 16,
    "lenType": 16,
    "lenVar": 40
   },
   "kernels_config": {
    "python": {
     "delete_cmd_postfix": "",
     "delete_cmd_prefix": "del ",
     "library": "var_list.py",
     "varRefreshCmd": "print(var_dic_list())"
    },
    "r": {
     "delete_cmd_postfix": ") ",
     "delete_cmd_prefix": "rm(",
     "library": "var_list.r",
     "varRefreshCmd": "cat(var_dic_list()) "
    }
   },
   "types_to_exclude": [
    "module",
    "function",
    "builtin_function_or_method",
    "instance",
    "_Feature"
   ],
   "window_display": false
  }
 },
 "nbformat": 4,
 "nbformat_minor": 4
}
