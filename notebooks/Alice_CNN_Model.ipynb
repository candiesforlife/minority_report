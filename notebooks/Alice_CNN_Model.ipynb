{
 "cells": [
  {
   "cell_type": "markdown",
   "metadata": {},
   "source": [
    "# Convoluted Neural Network: 1st Model Trial"
   ]
  },
  {
   "cell_type": "markdown",
   "metadata": {},
   "source": [
    "## Imports"
   ]
  },
  {
   "cell_type": "code",
   "execution_count": 1,
   "metadata": {
    "ExecuteTime": {
     "end_time": "2020-12-04T18:41:22.227958Z",
     "start_time": "2020-12-04T18:41:21.353686Z"
    }
   },
   "outputs": [],
   "source": [
    "import numpy as np\n",
    "import pandas as pd"
   ]
  },
  {
   "cell_type": "markdown",
   "metadata": {
    "heading_collapsed": true
   },
   "source": [
    "## To be reconsidered at later date (RNN)"
   ]
  },
  {
   "cell_type": "markdown",
   "metadata": {
    "heading_collapsed": true,
    "hidden": true
   },
   "source": [
    "### Recurrent Neural Network Prep (to be reconsidered)"
   ]
  },
  {
   "cell_type": "markdown",
   "metadata": {
    "heading_collapsed": true,
    "hidden": true
   },
   "source": [
    "#### Sort dataframe by period !"
   ]
  },
  {
   "cell_type": "markdown",
   "metadata": {
    "hidden": true
   },
   "source": [
    "First df needs to be sorted by period!"
   ]
  },
  {
   "cell_type": "code",
   "execution_count": 2,
   "metadata": {
    "ExecuteTime": {
     "end_time": "2020-12-04T18:41:22.260034Z",
     "start_time": "2020-12-04T18:41:22.247399Z"
    },
    "hidden": true
   },
   "outputs": [],
   "source": [
    "# sorted_df = df.sort_values(by = ['period'])"
   ]
  },
  {
   "cell_type": "markdown",
   "metadata": {
    "hidden": true
   },
   "source": [
    "#### Train & Test Dataframe"
   ]
  },
  {
   "cell_type": "code",
   "execution_count": 3,
   "metadata": {
    "ExecuteTime": {
     "end_time": "2020-12-04T18:41:22.284065Z",
     "start_time": "2020-12-04T18:41:22.277653Z"
    },
    "hidden": true
   },
   "outputs": [],
   "source": [
    "# len_ = int(0.8 * sorted_df.shape[0])"
   ]
  },
  {
   "cell_type": "code",
   "execution_count": 4,
   "metadata": {
    "ExecuteTime": {
     "end_time": "2020-12-04T18:41:22.314863Z",
     "start_time": "2020-12-04T18:41:22.291426Z"
    },
    "hidden": true
   },
   "outputs": [],
   "source": [
    "# df_train = sorted_df[:len_]\n",
    "# df_test = sorted_df[len_:]"
   ]
  },
  {
   "cell_type": "markdown",
   "metadata": {
    "hidden": true
   },
   "source": [
    "#### Turning df_train and df_test into Gaussian 3D arrays"
   ]
  },
  {
   "cell_type": "code",
   "execution_count": 5,
   "metadata": {
    "ExecuteTime": {
     "end_time": "2020-12-04T18:41:22.348062Z",
     "start_time": "2020-12-04T18:41:22.330989Z"
    },
    "hidden": true
   },
   "outputs": [],
   "source": [
    "# img3D_conv = gaussian_filter(img_list, sigma=(2,2,2))"
   ]
  },
  {
   "cell_type": "markdown",
   "metadata": {
    "hidden": true
   },
   "source": [
    "#### Splitting into sub-samples"
   ]
  },
  {
   "cell_type": "markdown",
   "metadata": {
    "hidden": true
   },
   "source": [
    "**Decide how many observations (sample number) you need for a chosen observation 'length' (no. of images / hours)**"
   ]
  },
  {
   "cell_type": "markdown",
   "metadata": {
    "hidden": true
   },
   "source": [
    "Sample the df as many times as the no. of observations indicated and split each into X and y.\n",
    "\n",
    "\n",
    "get_X_y should call the split_subsample function, which in turn calls the subsample_sequence function.\n",
    "\n",
    "i.e. first sample, then split, then store in X and y arrays\n",
    "\n",
    "\n",
    "X_train and y_train should be extracted from the train dataframe (vice versa for X_test and y_test)!"
   ]
  },
  {
   "cell_type": "markdown",
   "metadata": {},
   "source": [
    "## Dummie Model"
   ]
  },
  {
   "cell_type": "markdown",
   "metadata": {},
   "source": [
    "### X and y"
   ]
  },
  {
   "cell_type": "code",
   "execution_count": 6,
   "metadata": {
    "ExecuteTime": {
     "end_time": "2020-12-04T18:41:22.364119Z",
     "start_time": "2020-12-04T18:41:22.358332Z"
    }
   },
   "outputs": [],
   "source": [
    "#X_ = np.random.randint(2, size = (50, 24, 1_000, 1_000)).astype(np.int32)"
   ]
  },
  {
   "cell_type": "code",
   "execution_count": 7,
   "metadata": {
    "ExecuteTime": {
     "end_time": "2020-12-04T18:41:22.398817Z",
     "start_time": "2020-12-04T18:41:22.383763Z"
    }
   },
   "outputs": [],
   "source": [
    "#y = np.array([np.random.randint(2, size = (3, 1_000, 1_000), dtype = int).flatten() for k in range(50)])"
   ]
  },
  {
   "cell_type": "code",
   "execution_count": 8,
   "metadata": {
    "ExecuteTime": {
     "end_time": "2020-12-04T18:41:22.434127Z",
     "start_time": "2020-12-04T18:41:22.413640Z"
    }
   },
   "outputs": [],
   "source": [
    "X = np.empty((24, 12, 100, 100))\n",
    "\n",
    "y = np.array([np.empty((3, 100, 100), dtype = int).flatten() for k in range(24)])"
   ]
  },
  {
   "cell_type": "code",
   "execution_count": 9,
   "metadata": {
    "ExecuteTime": {
     "end_time": "2020-12-04T18:41:22.474998Z",
     "start_time": "2020-12-04T18:41:22.459896Z"
    },
    "scrolled": true
   },
   "outputs": [
    {
     "name": "stdout",
     "output_type": "stream",
     "text": [
      "(24, 12, 100, 100)\n",
      "(24, 30000)\n"
     ]
    }
   ],
   "source": [
    "print(X.shape)\n",
    "print(y.shape)"
   ]
  },
  {
   "cell_type": "markdown",
   "metadata": {},
   "source": [
    "### Train, test, split"
   ]
  },
  {
   "cell_type": "code",
   "execution_count": 10,
   "metadata": {
    "ExecuteTime": {
     "end_time": "2020-12-04T18:41:23.532152Z",
     "start_time": "2020-12-04T18:41:22.480188Z"
    }
   },
   "outputs": [],
   "source": [
    "from sklearn.model_selection import train_test_split\n",
    "\n",
    "X_train, X_test, y_train, y_test = train_test_split(X, y, test_size = 0.2)"
   ]
  },
  {
   "cell_type": "code",
   "execution_count": 11,
   "metadata": {
    "ExecuteTime": {
     "end_time": "2020-12-04T18:41:23.573155Z",
     "start_time": "2020-12-04T18:41:23.534262Z"
    }
   },
   "outputs": [
    {
     "data": {
      "text/plain": [
       "(19, 12, 100, 100)"
      ]
     },
     "execution_count": 11,
     "metadata": {},
     "output_type": "execute_result"
    }
   ],
   "source": [
    "X_train.shape"
   ]
  },
  {
   "cell_type": "code",
   "execution_count": 12,
   "metadata": {
    "ExecuteTime": {
     "end_time": "2020-12-04T18:41:23.630209Z",
     "start_time": "2020-12-04T18:41:23.582600Z"
    }
   },
   "outputs": [
    {
     "data": {
      "text/plain": [
       "(5, 12, 100, 100)"
      ]
     },
     "execution_count": 12,
     "metadata": {},
     "output_type": "execute_result"
    }
   ],
   "source": [
    "X_test.shape"
   ]
  },
  {
   "cell_type": "markdown",
   "metadata": {},
   "source": [
    "## CNN"
   ]
  },
  {
   "cell_type": "code",
   "execution_count": 25,
   "metadata": {
    "ExecuteTime": {
     "end_time": "2020-12-04T18:42:58.947869Z",
     "start_time": "2020-12-04T18:42:58.915814Z"
    }
   },
   "outputs": [],
   "source": [
    "import tensorflow as tf\n",
    "from tensorflow.keras import models\n",
    "from tensorflow.keras import layers\n",
    "from tensorflow.keras.callbacks import EarlyStopping"
   ]
  },
  {
   "cell_type": "code",
   "execution_count": 27,
   "metadata": {
    "ExecuteTime": {
     "end_time": "2020-12-04T18:42:59.490498Z",
     "start_time": "2020-12-04T18:42:59.482219Z"
    }
   },
   "outputs": [],
   "source": [
    "model = models.Sequential()"
   ]
  },
  {
   "cell_type": "code",
   "execution_count": 28,
   "metadata": {
    "ExecuteTime": {
     "end_time": "2020-12-04T18:42:59.775912Z",
     "start_time": "2020-12-04T18:42:59.754208Z"
    }
   },
   "outputs": [],
   "source": [
    "model.add(layers.GaussianNoise(stddev = 2.5, input_shape = (12, 100, 100)))"
   ]
  },
  {
   "cell_type": "code",
   "execution_count": 29,
   "metadata": {
    "ExecuteTime": {
     "end_time": "2020-12-04T18:43:00.060193Z",
     "start_time": "2020-12-04T18:43:00.043685Z"
    }
   },
   "outputs": [],
   "source": [
    "model.add(layers.Conv2D(32, kernel_size = 3, activation = 'relu'))"
   ]
  },
  {
   "cell_type": "code",
   "execution_count": 30,
   "metadata": {
    "ExecuteTime": {
     "end_time": "2020-12-04T18:43:00.373306Z",
     "start_time": "2020-12-04T18:43:00.351236Z"
    }
   },
   "outputs": [],
   "source": [
    "model.add(layers.Conv2D(16, kernel_size = 3, activation = 'relu'))"
   ]
  },
  {
   "cell_type": "code",
   "execution_count": 31,
   "metadata": {
    "ExecuteTime": {
     "end_time": "2020-12-04T18:43:00.655239Z",
     "start_time": "2020-12-04T18:43:00.645294Z"
    }
   },
   "outputs": [],
   "source": [
    "model.add(layers.Flatten())"
   ]
  },
  {
   "cell_type": "code",
   "execution_count": 32,
   "metadata": {
    "ExecuteTime": {
     "end_time": "2020-12-04T18:43:03.668270Z",
     "start_time": "2020-12-04T18:43:00.931472Z"
    }
   },
   "outputs": [],
   "source": [
    "model.add(layers.Dense(3 * 100 * 100))"
   ]
  },
  {
   "cell_type": "code",
   "execution_count": 33,
   "metadata": {
    "ExecuteTime": {
     "end_time": "2020-12-04T18:43:03.694494Z",
     "start_time": "2020-12-04T18:43:03.671452Z"
    }
   },
   "outputs": [],
   "source": [
    "model.compile(loss = 'mse',\n",
    "                  optimizer = 'adam',\n",
    "                  metrics = 'mse')"
   ]
  },
  {
   "cell_type": "code",
   "execution_count": 34,
   "metadata": {
    "ExecuteTime": {
     "end_time": "2020-12-04T18:43:13.689329Z",
     "start_time": "2020-12-04T18:43:03.698859Z"
    }
   },
   "outputs": [
    {
     "name": "stdout",
     "output_type": "stream",
     "text": [
      "1/1 [==============================] - 0s 1ms/step - loss: inf - mse: inf\n"
     ]
    },
    {
     "data": {
      "text/plain": [
       "<tensorflow.python.keras.callbacks.History at 0x13cb52340>"
      ]
     },
     "execution_count": 34,
     "metadata": {},
     "output_type": "execute_result"
    }
   ],
   "source": [
    "model.fit(X_train, y_train)"
   ]
  },
  {
   "cell_type": "code",
   "execution_count": 35,
   "metadata": {
    "ExecuteTime": {
     "end_time": "2020-12-04T18:43:14.187589Z",
     "start_time": "2020-12-04T18:43:13.692380Z"
    },
    "scrolled": true
   },
   "outputs": [
    {
     "name": "stdout",
     "output_type": "stream",
     "text": [
      "1/1 [==============================] - 0s 1ms/step - loss: inf - mse: inf\n",
      "[inf, inf]\n"
     ]
    }
   ],
   "source": [
    "print(model.evaluate(X_test, y_test))"
   ]
  },
  {
   "cell_type": "markdown",
   "metadata": {},
   "source": [
    "## Checking with Real Data"
   ]
  },
  {
   "cell_type": "code",
   "execution_count": 36,
   "metadata": {
    "ExecuteTime": {
     "end_time": "2020-12-04T18:45:00.108336Z",
     "start_time": "2020-12-04T18:44:43.531270Z"
    }
   },
   "outputs": [],
   "source": [
    "import pickle\n",
    "\n",
    "pickle_path = ('../raw_data/clean.pickle')\n",
    "with open(pickle_path, 'rb') as f:\n",
    "    df = pickle.load(f)"
   ]
  },
  {
   "cell_type": "code",
   "execution_count": 38,
   "metadata": {
    "ExecuteTime": {
     "end_time": "2020-12-04T18:45:38.616245Z",
     "start_time": "2020-12-04T18:45:38.590941Z"
    }
   },
   "outputs": [],
   "source": [
    "from datetime import datetime"
   ]
  },
  {
   "cell_type": "code",
   "execution_count": 39,
   "metadata": {
    "ExecuteTime": {
     "end_time": "2020-12-04T18:45:40.109634Z",
     "start_time": "2020-12-04T18:45:39.378721Z"
    }
   },
   "outputs": [],
   "source": [
    "inf = df['period'] > datetime(2016, 10, 1, 0, 0, 0)\n",
    "sup = df['period'] < datetime(2016, 11, 1, 0, 0, 0)\n",
    "sample = df[ inf & sup ]"
   ]
  },
  {
   "cell_type": "code",
   "execution_count": 40,
   "metadata": {
    "ExecuteTime": {
     "end_time": "2020-12-04T18:46:06.589779Z",
     "start_time": "2020-12-04T18:46:06.543060Z"
    }
   },
   "outputs": [],
   "source": [
    "def from_coord_to_matrix(df):\n",
    "    #add 'time_index' column to df\n",
    "    ind = {time:index for index,time in enumerate(np.sort(df['period'].unique()))}\n",
    "    df['time_index'] = df['period'].map(ind)\n",
    "    #initiate matrix\n",
    "    grid_offset = np.array([0, -74.25559136315213, 40.49611539518921]) # Where do you start\n",
    "    grid_spacing = np.array([1, 0.001, 0.001]) # What's the space you consider (euclidian here)\n",
    "    #get points coordinates\n",
    "    coords = np.array([(t_ind, lon, lat) for t_ind, lon, lat \\\n",
    "                   in zip(df['time_index'],df['longitude'],df['latitude'])])\n",
    "    # Convert point to index\n",
    "    indexes = np.round((coords - grid_offset)/grid_spacing).astype('int')\n",
    "    #virgin matrix\n",
    "    a = np.zeros((indexes[:,0].max()+1, indexes[:,1].max()+1, indexes[:,2].max()+1))\n",
    "    Z = indexes[:,0]\n",
    "    X = indexes[:,1]\n",
    "    Y = indexes[:,2]\n",
    "    a[Z, X, Y]=1\n",
    "    return a"
   ]
  },
  {
   "cell_type": "code",
   "execution_count": 41,
   "metadata": {
    "ExecuteTime": {
     "end_time": "2020-12-04T18:46:22.942509Z",
     "start_time": "2020-12-04T18:46:22.722185Z"
    }
   },
   "outputs": [
    {
     "name": "stderr",
     "output_type": "stream",
     "text": [
      "<ipython-input-40-9fcd040ef7c0>:4: SettingWithCopyWarning: \n",
      "A value is trying to be set on a copy of a slice from a DataFrame.\n",
      "Try using .loc[row_indexer,col_indexer] = value instead\n",
      "\n",
      "See the caveats in the documentation: https://pandas.pydata.org/pandas-docs/stable/user_guide/indexing.html#returning-a-view-versus-a-copy\n",
      "  df['time_index'] = df['period'].map(ind)\n"
     ]
    }
   ],
   "source": [
    "img = from_coord_to_matrix(sample)"
   ]
  },
  {
   "cell_type": "code",
   "execution_count": 43,
   "metadata": {
    "ExecuteTime": {
     "end_time": "2020-12-04T18:46:49.792621Z",
     "start_time": "2020-12-04T18:46:48.750565Z"
    },
    "collapsed": true
   },
   "outputs": [
    {
     "data": {
      "text/plain": [
       "<matplotlib.image.AxesImage at 0x13cceb940>"
      ]
     },
     "execution_count": 43,
     "metadata": {},
     "output_type": "execute_result"
    },
    {
     "data": {
      "image/png": "[encoded data removed]",
      "text/plain": [
       "<Figure size 720x720 with 1 Axes>"
      ]
     },
     "metadata": {
      "needs_background": "light"
     },
     "output_type": "display_data"
    }
   ],
   "source": [
    "import matplotlib.pyplot as plt\n",
    "\n",
    "plt.figure(figsize=(10,10))\n",
    "plt.imshow(img[3], cmap='gray')"
   ]
  },
  {
   "cell_type": "code",
   "execution_count": 45,
   "metadata": {
    "ExecuteTime": {
     "end_time": "2020-12-04T18:47:40.748662Z",
     "start_time": "2020-12-04T18:47:30.392278Z"
    },
    "collapsed": true
   },
   "outputs": [
    {
     "data": {
      "text/plain": [
       "<matplotlib.image.AxesImage at 0x13cd018b0>"
      ]
     },
     "execution_count": 45,
     "metadata": {},
     "output_type": "execute_result"
    },
    {
     "data": {
      "image/png": "[encoded data removed]",
      "text/plain": [
       "<Figure size 720x720 with 1 Axes>"
      ]
     },
     "metadata": {
      "needs_background": "light"
     },
     "output_type": "display_data"
    }
   ],
   "source": [
    "from scipy.ndimage import gaussian_filter\n",
    "\n",
    "img3D_conv = gaussian_filter(img, sigma=(3,2.5,2.5))\n",
    "\n",
    "plt.figure(figsize=(10,10))\n",
    "\n",
    "plt.imshow(img3D_conv[3], cmap='gray')"
   ]
  },
  {
   "cell_type": "code",
   "execution_count": 46,
   "metadata": {
    "ExecuteTime": {
     "end_time": "2020-12-04T18:51:50.558088Z",
     "start_time": "2020-12-04T18:51:50.550470Z"
    }
   },
   "outputs": [],
   "source": [
    "def get_observation_target(self, img3D_conv):\n",
    "    \n",
    "    position = np.random.randint(0, img3D_conv.shape[0] - 12)\n",
    "    \n",
    "    observation = img3D_conv[position:position + 8]\n",
    "    \n",
    "    target = img3D_conv[position + 8:position + 12]\n",
    "    \n",
    "    return observation, target"
   ]
  },
  {
   "cell_type": "code",
   "execution_count": null,
   "metadata": {},
   "outputs": [],
   "source": [
    "def get_X_y(self,img3D_conv, number_of_observations):\n",
    "    \n",
    "    X = []\n",
    "    y = []\n",
    "    \n",
    "    for n in range(number_of_observations):\n",
    "        X_subsample, y_subsample = get_observation_target(img3D_conv)\n",
    "        X.append(X_subsample)\n",
    "        y.append(y_subsample)\n",
    "    X = np.array(X)\n",
    "    y = np.array(y)\n",
    "    return X, y"
   ]
  },
  {
   "cell_type": "code",
   "execution_count": null,
   "metadata": {
    "ExecuteTime": {
     "end_time": "2020-12-04T18:41:28.970061Z",
     "start_time": "2020-12-04T18:41:21.376Z"
    }
   },
   "outputs": [],
   "source": [
    "model_2 = models.Sequential()\n",
    "\n",
    "model.add(layers.GaussianNoise(stddev = 2.5, input_shape = (12, 100, 100)))\n",
    "\n",
    "model.add(layers.Conv2D(32, kernel_size = 3, activation = 'relu'))\n",
    "\n",
    "model.add(layers.Conv2D(16, kernel_size = 3, activation = 'relu'))\n",
    "\n",
    "model.add(layers.Flatten())\n",
    "\n",
    "model.add(layers.Dense(3 * 100 * 100))\n",
    "\n",
    "model.compile(loss = 'mse',\n",
    "                  optimizer = 'adam',\n",
    "                  metrics = 'mse')\n",
    "\n",
    "model.fit(X_train, y_train)"
   ]
  },
  {
   "cell_type": "code",
   "execution_count": null,
   "metadata": {},
   "outputs": [],
   "source": [
    "print(model.evaluate(X_test, y_test))"
   ]
  }
 ],
 "metadata": {
  "kernelspec": {
   "display_name": "Python 3",
   "language": "python",
   "name": "python3"
  },
  "language_info": {
   "codemirror_mode": {
    "name": "ipython",
    "version": 3
   },
   "file_extension": ".py",
   "mimetype": "text/x-python",
   "name": "python",
   "nbconvert_exporter": "python",
   "pygments_lexer": "ipython3",
   "version": "3.8.6"
  },
  "toc": {
   "base_numbering": 1,
   "nav_menu": {},
   "number_sections": true,
   "sideBar": true,
   "skip_h1_title": false,
   "title_cell": "Table of Contents",
   "title_sidebar": "Contents",
   "toc_cell": false,
   "toc_position": {},
   "toc_section_display": true,
   "toc_window_display": false
  }
 },
 "nbformat": 4,
 "nbformat_minor": 4
}
