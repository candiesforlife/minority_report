{
 "cells": [
  {
   "cell_type": "markdown",
   "metadata": {},
   "source": [
    "# Convoluted Neural Network: 1st Model Trial"
   ]
  },
  {
   "cell_type": "markdown",
   "metadata": {},
   "source": [
    "## Imports"
   ]
  },
  {
   "cell_type": "code",
   "execution_count": 18,
   "metadata": {
    "ExecuteTime": {
     "end_time": "2020-12-04T14:24:33.416024Z",
     "start_time": "2020-12-04T14:24:33.412416Z"
    }
   },
   "outputs": [],
   "source": [
    "import pickle\n",
    "import numpy as np\n",
    "import pandas as pd\n",
    "from sklearn.model_selection import train_test_split"
   ]
  },
  {
   "cell_type": "markdown",
   "metadata": {
    "heading_collapsed": true
   },
   "source": [
    "## Dataframe"
   ]
  },
  {
   "cell_type": "code",
   "execution_count": 15,
   "metadata": {
    "ExecuteTime": {
     "end_time": "2020-12-04T14:22:34.326926Z",
     "start_time": "2020-12-04T14:22:26.436761Z"
    },
    "hidden": true
   },
   "outputs": [],
   "source": [
    "import pickle\n",
    "pickle_path = ('../raw_data/clean.pickle')\n",
    "with open(pickle_path, 'rb') as f:\n",
    "    df = pickle.load(f)"
   ]
  },
  {
   "cell_type": "code",
   "execution_count": 16,
   "metadata": {
    "ExecuteTime": {
     "end_time": "2020-12-04T14:22:40.326702Z",
     "start_time": "2020-12-04T14:22:40.273916Z"
    },
    "hidden": true
   },
   "outputs": [
    {
     "data": {
      "text/html": [
       "<div>\n",
       "<style scoped>\n",
       "    .dataframe tbody tr th:only-of-type {\n",
       "        vertical-align: middle;\n",
       "    }\n",
       "\n",
       "    .dataframe tbody tr th {\n",
       "        vertical-align: top;\n",
       "    }\n",
       "\n",
       "    .dataframe thead th {\n",
       "        text-align: right;\n",
       "    }\n",
       "</style>\n",
       "<table border=\"1\" class=\"dataframe\">\n",
       "  <thead>\n",
       "    <tr style=\"text-align: right;\">\n",
       "      <th></th>\n",
       "      <th>precinct_number</th>\n",
       "      <th>offense_type</th>\n",
       "      <th>crime_completed</th>\n",
       "      <th>offense_level</th>\n",
       "      <th>premise_desc</th>\n",
       "      <th>premise</th>\n",
       "      <th>jurisdiction</th>\n",
       "      <th>park_name</th>\n",
       "      <th>suspect_age</th>\n",
       "      <th>suspect_race</th>\n",
       "      <th>suspect_sex</th>\n",
       "      <th>latitude</th>\n",
       "      <th>longitude</th>\n",
       "      <th>metro</th>\n",
       "      <th>victim_age</th>\n",
       "      <th>victim_race</th>\n",
       "      <th>victim_sex</th>\n",
       "      <th>period</th>\n",
       "      <th>borough</th>\n",
       "      <th>patrol_borough</th>\n",
       "    </tr>\n",
       "  </thead>\n",
       "  <tbody>\n",
       "    <tr>\n",
       "      <th>0</th>\n",
       "      <td>73</td>\n",
       "      <td>OFFENSES AGAINST PUBLIC ADMINI</td>\n",
       "      <td>COMPLETED</td>\n",
       "      <td>MISDEMEANOR</td>\n",
       "      <td>INSIDE</td>\n",
       "      <td>RESIDENCE - PUBLIC HOUSING</td>\n",
       "      <td>N.Y. HOUSING POLICE</td>\n",
       "      <td>NOT PARK</td>\n",
       "      <td>25-44</td>\n",
       "      <td>BLACK</td>\n",
       "      <td>M</td>\n",
       "      <td>True</td>\n",
       "      <td>True</td>\n",
       "      <td>NOT SUBWAY</td>\n",
       "      <td>&lt;18</td>\n",
       "      <td>BLACK</td>\n",
       "      <td>M</td>\n",
       "      <td>2015-02-11 15:00:00</td>\n",
       "      <td>BROOKLYN</td>\n",
       "      <td>PATROL BORO BKLYN NORTH</td>\n",
       "    </tr>\n",
       "    <tr>\n",
       "      <th>1</th>\n",
       "      <td>69</td>\n",
       "      <td>ASSAULT 3 &amp; RELATED OFFENSES</td>\n",
       "      <td>COMPLETED</td>\n",
       "      <td>MISDEMEANOR</td>\n",
       "      <td>INSIDE</td>\n",
       "      <td>RESIDENCE-HOUSE</td>\n",
       "      <td>N.Y. POLICE DEPT</td>\n",
       "      <td>NOT PARK</td>\n",
       "      <td>UNKNOWN</td>\n",
       "      <td>UNKNOWN</td>\n",
       "      <td>UNKNOWN</td>\n",
       "      <td>True</td>\n",
       "      <td>True</td>\n",
       "      <td>NOT SUBWAY</td>\n",
       "      <td>45-64</td>\n",
       "      <td>BLACK</td>\n",
       "      <td>F</td>\n",
       "      <td>2012-03-17 10:00:00</td>\n",
       "      <td>BROOKLYN</td>\n",
       "      <td>PATROL BORO BKLYN SOUTH</td>\n",
       "    </tr>\n",
       "    <tr>\n",
       "      <th>2</th>\n",
       "      <td>71</td>\n",
       "      <td>HARRASSMENT 2</td>\n",
       "      <td>COMPLETED</td>\n",
       "      <td>VIOLATION</td>\n",
       "      <td>INSIDE</td>\n",
       "      <td>PUBLIC SCHOOL</td>\n",
       "      <td>N.Y. POLICE DEPT</td>\n",
       "      <td>NOT PARK</td>\n",
       "      <td>&lt;18</td>\n",
       "      <td>BLACK</td>\n",
       "      <td>M</td>\n",
       "      <td>True</td>\n",
       "      <td>True</td>\n",
       "      <td>NOT SUBWAY</td>\n",
       "      <td>18-24</td>\n",
       "      <td>BLACK</td>\n",
       "      <td>M</td>\n",
       "      <td>2016-10-27 13:00:00</td>\n",
       "      <td>BROOKLYN</td>\n",
       "      <td>PATROL BORO BKLYN SOUTH</td>\n",
       "    </tr>\n",
       "  </tbody>\n",
       "</table>\n",
       "</div>"
      ],
      "text/plain": [
       "   precinct_number                    offense_type crime_completed  \\\n",
       "0               73  OFFENSES AGAINST PUBLIC ADMINI       COMPLETED   \n",
       "1               69    ASSAULT 3 & RELATED OFFENSES       COMPLETED   \n",
       "2               71                   HARRASSMENT 2       COMPLETED   \n",
       "\n",
       "  offense_level premise_desc                     premise         jurisdiction  \\\n",
       "0   MISDEMEANOR       INSIDE  RESIDENCE - PUBLIC HOUSING  N.Y. HOUSING POLICE   \n",
       "1   MISDEMEANOR       INSIDE             RESIDENCE-HOUSE     N.Y. POLICE DEPT   \n",
       "2     VIOLATION       INSIDE               PUBLIC SCHOOL     N.Y. POLICE DEPT   \n",
       "\n",
       "  park_name suspect_age suspect_race suspect_sex  latitude  longitude  \\\n",
       "0  NOT PARK       25-44        BLACK           M      True       True   \n",
       "1  NOT PARK     UNKNOWN      UNKNOWN     UNKNOWN      True       True   \n",
       "2  NOT PARK         <18        BLACK           M      True       True   \n",
       "\n",
       "         metro victim_age victim_race victim_sex               period  \\\n",
       "0  NOT SUBWAY         <18       BLACK          M  2015-02-11 15:00:00   \n",
       "1  NOT SUBWAY       45-64       BLACK          F  2012-03-17 10:00:00   \n",
       "2  NOT SUBWAY       18-24       BLACK          M  2016-10-27 13:00:00   \n",
       "\n",
       "    borough           patrol_borough  \n",
       "0  BROOKLYN  PATROL BORO BKLYN NORTH  \n",
       "1  BROOKLYN  PATROL BORO BKLYN SOUTH  \n",
       "2  BROOKLYN  PATROL BORO BKLYN SOUTH  "
      ]
     },
     "execution_count": 16,
     "metadata": {},
     "output_type": "execute_result"
    }
   ],
   "source": [
    "df.head(3)"
   ]
  },
  {
   "cell_type": "markdown",
   "metadata": {},
   "source": [
    "## Input Prep"
   ]
  },
  {
   "cell_type": "markdown",
   "metadata": {},
   "source": [
    "### Train and Test df"
   ]
  },
  {
   "cell_type": "markdown",
   "metadata": {},
   "source": [
    "#### Sort dataframe by period !"
   ]
  },
  {
   "cell_type": "markdown",
   "metadata": {},
   "source": [
    "First df needs to be sorted by period!"
   ]
  },
  {
   "cell_type": "code",
   "execution_count": 23,
   "metadata": {
    "ExecuteTime": {
     "end_time": "2020-12-04T14:30:38.692095Z",
     "start_time": "2020-12-04T14:30:14.693018Z"
    }
   },
   "outputs": [],
   "source": [
    "sorted_df = df.sort_values(by = ['period'])"
   ]
  },
  {
   "cell_type": "code",
   "execution_count": 24,
   "metadata": {
    "ExecuteTime": {
     "end_time": "2020-12-04T14:30:44.251408Z",
     "start_time": "2020-12-04T14:30:44.215336Z"
    },
    "collapsed": true
   },
   "outputs": [
    {
     "data": {
      "text/html": [
       "<div>\n",
       "<style scoped>\n",
       "    .dataframe tbody tr th:only-of-type {\n",
       "        vertical-align: middle;\n",
       "    }\n",
       "\n",
       "    .dataframe tbody tr th {\n",
       "        vertical-align: top;\n",
       "    }\n",
       "\n",
       "    .dataframe thead th {\n",
       "        text-align: right;\n",
       "    }\n",
       "</style>\n",
       "<table border=\"1\" class=\"dataframe\">\n",
       "  <thead>\n",
       "    <tr style=\"text-align: right;\">\n",
       "      <th></th>\n",
       "      <th>precinct_number</th>\n",
       "      <th>offense_type</th>\n",
       "      <th>crime_completed</th>\n",
       "      <th>offense_level</th>\n",
       "      <th>premise_desc</th>\n",
       "      <th>premise</th>\n",
       "      <th>jurisdiction</th>\n",
       "      <th>park_name</th>\n",
       "      <th>suspect_age</th>\n",
       "      <th>suspect_race</th>\n",
       "      <th>suspect_sex</th>\n",
       "      <th>latitude</th>\n",
       "      <th>longitude</th>\n",
       "      <th>metro</th>\n",
       "      <th>victim_age</th>\n",
       "      <th>victim_race</th>\n",
       "      <th>victim_sex</th>\n",
       "      <th>period</th>\n",
       "      <th>borough</th>\n",
       "      <th>patrol_borough</th>\n",
       "    </tr>\n",
       "  </thead>\n",
       "  <tbody>\n",
       "    <tr>\n",
       "      <th>303902</th>\n",
       "      <td>46</td>\n",
       "      <td>THEFT-FRAUD</td>\n",
       "      <td>COMPLETED</td>\n",
       "      <td>FELONY</td>\n",
       "      <td>INSIDE</td>\n",
       "      <td>RESIDENCE - APT. HOUSE</td>\n",
       "      <td>N.Y. POLICE DEPT</td>\n",
       "      <td>NOT PARK</td>\n",
       "      <td>UNKNOWN</td>\n",
       "      <td>UNKNOWN</td>\n",
       "      <td>UNKNOWN</td>\n",
       "      <td>True</td>\n",
       "      <td>True</td>\n",
       "      <td>NOT SUBWAY</td>\n",
       "      <td>25-44</td>\n",
       "      <td>BLACK</td>\n",
       "      <td>M</td>\n",
       "      <td>2007-01-01 00:00:00</td>\n",
       "      <td>BRONX</td>\n",
       "      <td>PATROL BORO BRONX</td>\n",
       "    </tr>\n",
       "    <tr>\n",
       "      <th>5119621</th>\n",
       "      <td>33</td>\n",
       "      <td>FRAUDS</td>\n",
       "      <td>COMPLETED</td>\n",
       "      <td>MISDEMEANOR</td>\n",
       "      <td>INSIDE</td>\n",
       "      <td>RESIDENCE - APT. HOUSE</td>\n",
       "      <td>N.Y. POLICE DEPT</td>\n",
       "      <td>NOT PARK</td>\n",
       "      <td>UNKNOWN</td>\n",
       "      <td>UNKNOWN</td>\n",
       "      <td>UNKNOWN</td>\n",
       "      <td>True</td>\n",
       "      <td>True</td>\n",
       "      <td>NOT SUBWAY</td>\n",
       "      <td>45-64</td>\n",
       "      <td>WHITE HISPANIC</td>\n",
       "      <td>F</td>\n",
       "      <td>2007-01-01 00:00:00</td>\n",
       "      <td>MANHATTAN</td>\n",
       "      <td>PATROL BORO MAN NORTH</td>\n",
       "    </tr>\n",
       "    <tr>\n",
       "      <th>5410933</th>\n",
       "      <td>73</td>\n",
       "      <td>SEX CRIMES</td>\n",
       "      <td>COMPLETED</td>\n",
       "      <td>FELONY</td>\n",
       "      <td>INSIDE</td>\n",
       "      <td>RESIDENCE - APT. HOUSE</td>\n",
       "      <td>N.Y. POLICE DEPT</td>\n",
       "      <td>NOT PARK</td>\n",
       "      <td>UNKNOWN</td>\n",
       "      <td>UNKNOWN</td>\n",
       "      <td>M</td>\n",
       "      <td>True</td>\n",
       "      <td>True</td>\n",
       "      <td>NOT SUBWAY</td>\n",
       "      <td>&lt;18</td>\n",
       "      <td>BLACK</td>\n",
       "      <td>M</td>\n",
       "      <td>2007-01-01 00:00:00</td>\n",
       "      <td>BROOKLYN</td>\n",
       "      <td>PATROL BORO BKLYN NORTH</td>\n",
       "    </tr>\n",
       "  </tbody>\n",
       "</table>\n",
       "</div>"
      ],
      "text/plain": [
       "         precinct_number offense_type crime_completed offense_level  \\\n",
       "303902                46  THEFT-FRAUD       COMPLETED        FELONY   \n",
       "5119621               33       FRAUDS       COMPLETED   MISDEMEANOR   \n",
       "5410933               73   SEX CRIMES       COMPLETED        FELONY   \n",
       "\n",
       "        premise_desc                 premise      jurisdiction park_name  \\\n",
       "303902        INSIDE  RESIDENCE - APT. HOUSE  N.Y. POLICE DEPT  NOT PARK   \n",
       "5119621       INSIDE  RESIDENCE - APT. HOUSE  N.Y. POLICE DEPT  NOT PARK   \n",
       "5410933       INSIDE  RESIDENCE - APT. HOUSE  N.Y. POLICE DEPT  NOT PARK   \n",
       "\n",
       "        suspect_age suspect_race suspect_sex  latitude  longitude  \\\n",
       "303902      UNKNOWN      UNKNOWN     UNKNOWN      True       True   \n",
       "5119621     UNKNOWN      UNKNOWN     UNKNOWN      True       True   \n",
       "5410933     UNKNOWN      UNKNOWN           M      True       True   \n",
       "\n",
       "               metro victim_age     victim_race victim_sex  \\\n",
       "303902   NOT SUBWAY       25-44           BLACK          M   \n",
       "5119621  NOT SUBWAY       45-64  WHITE HISPANIC          F   \n",
       "5410933  NOT SUBWAY         <18           BLACK          M   \n",
       "\n",
       "                      period    borough           patrol_borough  \n",
       "303902   2007-01-01 00:00:00      BRONX        PATROL BORO BRONX  \n",
       "5119621  2007-01-01 00:00:00  MANHATTAN    PATROL BORO MAN NORTH  \n",
       "5410933  2007-01-01 00:00:00   BROOKLYN  PATROL BORO BKLYN NORTH  "
      ]
     },
     "execution_count": 24,
     "metadata": {},
     "output_type": "execute_result"
    }
   ],
   "source": [
    "sorted_df.head(3)"
   ]
  },
  {
   "cell_type": "markdown",
   "metadata": {},
   "source": [
    "#### Train & Test Dataframe"
   ]
  },
  {
   "cell_type": "code",
   "execution_count": 25,
   "metadata": {
    "ExecuteTime": {
     "end_time": "2020-12-04T14:39:48.695497Z",
     "start_time": "2020-12-04T14:39:48.645879Z"
    }
   },
   "outputs": [
    {
     "data": {
      "text/plain": [
       "5132909"
      ]
     },
     "execution_count": 25,
     "metadata": {},
     "output_type": "execute_result"
    }
   ],
   "source": [
    "len_ = int(0.8 * sorted_df.shape[0])\n",
    "\n",
    "len_"
   ]
  },
  {
   "cell_type": "code",
   "execution_count": 26,
   "metadata": {
    "ExecuteTime": {
     "end_time": "2020-12-04T14:40:00.374887Z",
     "start_time": "2020-12-04T14:40:00.341844Z"
    }
   },
   "outputs": [],
   "source": [
    "df_train = sorted_df[:len_]\n",
    "df_test = sorted_df[len_:]"
   ]
  },
  {
   "cell_type": "markdown",
   "metadata": {},
   "source": [
    "#### Subsample for multiple independent datasequences to train on:"
   ]
  },
  {
   "cell_type": "code",
   "execution_count": null,
   "metadata": {},
   "outputs": [],
   "source": [
    "def subsample_sequence(df, length):\n",
    "    \n",
    "    last_possible = df.shape[0] - length\n",
    "    \n",
    "    random_start = np.random.randint(0, last_possible)\n",
    "    df_sample = df[random_start: random_start+length]\n",
    "    \n",
    "    return df_sample\n",
    "\n",
    "df_subsample = subsample_sequence(df, 10)"
   ]
  },
  {
   "cell_type": "code",
   "execution_count": null,
   "metadata": {},
   "outputs": [],
   "source": [
    "def split_subsample_sequence(df, length):\n",
    "              \n",
    "    df_subsample = subsample_sequence(df, length)\n",
    "    y_sample = df_subsample.iloc[df_subsample.shape[0]-1]['pm2.5']\n",
    "    \n",
    "    X_sample = df_subsample[0:df_subsample.shape[0]-1]\n",
    "    X_sample = X_sample.fillna(fillna(X_sample, df_mean))\n",
    "    X_sample = X_sample.values\n",
    "    \n",
    "    return np.array(X_sample), np.array(y_sample)"
   ]
  },
  {
   "cell_type": "code",
   "execution_count": null,
   "metadata": {},
   "outputs": [],
   "source": [
    "def get_X_y(df, number_of_sequences, length):\n",
    "    X, y = [], []\n",
    "\n",
    "    for i in range(number_of_sequences):\n",
    "        xi, yi = split_subsample_sequence(df, length)\n",
    "        X.append(xi)\n",
    "        y.append(yi)\n",
    "        \n",
    "    X = np.array(X)\n",
    "    y = np.array(y)\n",
    "        \n",
    "    return X, y"
   ]
  },
  {
   "cell_type": "code",
   "execution_count": null,
   "metadata": {},
   "outputs": [],
   "source": [
    "X_train, y_train = get_X_y(df_train, 1000, 51)\n",
    "X_test, y_test = get_X_y(df_test, 200, 51)"
   ]
  },
  {
   "cell_type": "markdown",
   "metadata": {
    "heading_collapsed": true
   },
   "source": [
    "### X and y"
   ]
  },
  {
   "cell_type": "code",
   "execution_count": 2,
   "metadata": {
    "ExecuteTime": {
     "end_time": "2020-12-04T12:49:55.706195Z",
     "start_time": "2020-12-04T12:49:45.347001Z"
    },
    "hidden": true
   },
   "outputs": [],
   "source": [
    "X = np.random.randint(2, size = (50, 24, 1_000, 1_000))"
   ]
  },
  {
   "cell_type": "code",
   "execution_count": 3,
   "metadata": {
    "ExecuteTime": {
     "end_time": "2020-12-04T12:49:57.647554Z",
     "start_time": "2020-12-04T12:49:55.717046Z"
    },
    "hidden": true
   },
   "outputs": [],
   "source": [
    "y = np.random.randint(2, size = (50, 3, 1_000, 1_000))"
   ]
  },
  {
   "cell_type": "code",
   "execution_count": 12,
   "metadata": {
    "ExecuteTime": {
     "end_time": "2020-12-04T13:07:47.392727Z",
     "start_time": "2020-12-04T13:07:47.387124Z"
    },
    "hidden": true,
    "scrolled": true
   },
   "outputs": [
    {
     "name": "stdout",
     "output_type": "stream",
     "text": [
      "(50, 24, 1000, 1000)\n",
      "(50, 3, 1000, 1000)\n"
     ]
    }
   ],
   "source": [
    "print(X.shape)\n",
    "print(y.shape)"
   ]
  },
  {
   "cell_type": "markdown",
   "metadata": {
    "heading_collapsed": true
   },
   "source": [
    "### Train, test, split"
   ]
  },
  {
   "cell_type": "code",
   "execution_count": null,
   "metadata": {
    "hidden": true
   },
   "outputs": [],
   "source": [
    "X_train, X_test, y_train, y_test = train_test_split(X, y, test_size = 0.2)"
   ]
  },
  {
   "cell_type": "markdown",
   "metadata": {},
   "source": [
    "## CNN"
   ]
  },
  {
   "cell_type": "code",
   "execution_count": 4,
   "metadata": {
    "ExecuteTime": {
     "end_time": "2020-12-04T12:49:57.675944Z",
     "start_time": "2020-12-04T12:49:57.657826Z"
    }
   },
   "outputs": [],
   "source": [
    "# add gaussian filter # mse"
   ]
  },
  {
   "cell_type": "code",
   "execution_count": null,
   "metadata": {},
   "outputs": [],
   "source": [
    "from tensorflow.keras import layers\n",
    "from tensorflow.keras import models\n",
    "from tensorflow.keras.callbacks import EarlyStopping"
   ]
  },
  {
   "cell_type": "code",
   "execution_count": null,
   "metadata": {},
   "outputs": [],
   "source": []
  }
 ],
 "metadata": {
  "kernelspec": {
   "display_name": "Python 3",
   "language": "python",
   "name": "python3"
  },
  "language_info": {
   "codemirror_mode": {
    "name": "ipython",
    "version": 3
   },
   "file_extension": ".py",
   "mimetype": "text/x-python",
   "name": "python",
   "nbconvert_exporter": "python",
   "pygments_lexer": "ipython3",
   "version": "3.8.6"
  },
  "toc": {
   "base_numbering": 1,
   "nav_menu": {},
   "number_sections": true,
   "sideBar": true,
   "skip_h1_title": false,
   "title_cell": "Table of Contents",
   "title_sidebar": "Contents",
   "toc_cell": false,
   "toc_position": {},
   "toc_section_display": true,
   "toc_window_display": false
  }
 },
 "nbformat": 4,
 "nbformat_minor": 4
}
