{
 "cells": [
  {
   "cell_type": "markdown",
   "metadata": {},
   "source": [
    "# Convoluted Neural Network: 1st Model Trial"
   ]
  },
  {
   "cell_type": "markdown",
   "metadata": {},
   "source": [
    "## Imports & Dataframe Load"
   ]
  },
  {
   "cell_type": "code",
   "execution_count": 3,
   "metadata": {
    "ExecuteTime": {
     "end_time": "2020-12-04T10:04:36.859756Z",
     "start_time": "2020-12-04T10:04:35.903848Z"
    }
   },
   "outputs": [],
   "source": [
    "import pickle\n",
    "import pandas as pd\n",
    "import numpy as np\n",
    "from datetime import datetime\n",
    "\n",
    "import matplotlib.pyplot as plt\n",
    "from skimage import io, color\n",
    "from scipy.ndimage import gaussian_filter"
   ]
  },
  {
   "cell_type": "code",
   "execution_count": 4,
   "metadata": {
    "ExecuteTime": {
     "end_time": "2020-12-04T10:04:46.247060Z",
     "start_time": "2020-12-04T10:04:38.603570Z"
    }
   },
   "outputs": [],
   "source": [
    "pickle_path = ('../raw_data/clean.pickle')\n",
    "with open(pickle_path, 'rb') as f:\n",
    "    df = pickle.load(f)"
   ]
  },
  {
   "cell_type": "code",
   "execution_count": 5,
   "metadata": {
    "ExecuteTime": {
     "end_time": "2020-12-04T10:04:51.036372Z",
     "start_time": "2020-12-04T10:04:50.888757Z"
    }
   },
   "outputs": [
    {
     "data": {
      "text/html": [
       "<div>\n",
       "<style scoped>\n",
       "    .dataframe tbody tr th:only-of-type {\n",
       "        vertical-align: middle;\n",
       "    }\n",
       "\n",
       "    .dataframe tbody tr th {\n",
       "        vertical-align: top;\n",
       "    }\n",
       "\n",
       "    .dataframe thead th {\n",
       "        text-align: right;\n",
       "    }\n",
       "</style>\n",
       "<table border=\"1\" class=\"dataframe\">\n",
       "  <thead>\n",
       "    <tr style=\"text-align: right;\">\n",
       "      <th></th>\n",
       "      <th>precinct_number</th>\n",
       "      <th>offense_type</th>\n",
       "      <th>crime_completed</th>\n",
       "      <th>offense_level</th>\n",
       "      <th>premise_desc</th>\n",
       "      <th>premise</th>\n",
       "      <th>jurisdiction</th>\n",
       "      <th>park_name</th>\n",
       "      <th>suspect_age</th>\n",
       "      <th>suspect_race</th>\n",
       "      <th>suspect_sex</th>\n",
       "      <th>latitude</th>\n",
       "      <th>longitude</th>\n",
       "      <th>metro</th>\n",
       "      <th>victim_age</th>\n",
       "      <th>victim_race</th>\n",
       "      <th>victim_sex</th>\n",
       "      <th>period</th>\n",
       "      <th>borough</th>\n",
       "      <th>patrol_borough</th>\n",
       "    </tr>\n",
       "  </thead>\n",
       "  <tbody>\n",
       "    <tr>\n",
       "      <th>0</th>\n",
       "      <td>73</td>\n",
       "      <td>OFFENSES AGAINST PUBLIC ADMINI</td>\n",
       "      <td>COMPLETED</td>\n",
       "      <td>MISDEMEANOR</td>\n",
       "      <td>INSIDE</td>\n",
       "      <td>RESIDENCE - PUBLIC HOUSING</td>\n",
       "      <td>N.Y. HOUSING POLICE</td>\n",
       "      <td>NOT PARK</td>\n",
       "      <td>25-44</td>\n",
       "      <td>BLACK</td>\n",
       "      <td>M</td>\n",
       "      <td>40.664239</td>\n",
       "      <td>-73.908425</td>\n",
       "      <td>NOT SUBWAY</td>\n",
       "      <td>&lt;18</td>\n",
       "      <td>BLACK</td>\n",
       "      <td>M</td>\n",
       "      <td>2015-02-11 15:00:00</td>\n",
       "      <td>BROOKLYN</td>\n",
       "      <td>PATROL BORO BKLYN NORTH</td>\n",
       "    </tr>\n",
       "    <tr>\n",
       "      <th>1</th>\n",
       "      <td>69</td>\n",
       "      <td>ASSAULT 3 &amp; RELATED OFFENSES</td>\n",
       "      <td>COMPLETED</td>\n",
       "      <td>MISDEMEANOR</td>\n",
       "      <td>INSIDE</td>\n",
       "      <td>RESIDENCE-HOUSE</td>\n",
       "      <td>N.Y. POLICE DEPT</td>\n",
       "      <td>NOT PARK</td>\n",
       "      <td>UNKNOWN</td>\n",
       "      <td>UNKNOWN</td>\n",
       "      <td>UNKNOWN</td>\n",
       "      <td>40.644590</td>\n",
       "      <td>-73.892672</td>\n",
       "      <td>NOT SUBWAY</td>\n",
       "      <td>45-64</td>\n",
       "      <td>BLACK</td>\n",
       "      <td>F</td>\n",
       "      <td>2012-03-17 10:00:00</td>\n",
       "      <td>BROOKLYN</td>\n",
       "      <td>PATROL BORO BKLYN SOUTH</td>\n",
       "    </tr>\n",
       "    <tr>\n",
       "      <th>2</th>\n",
       "      <td>71</td>\n",
       "      <td>HARRASSMENT 2</td>\n",
       "      <td>COMPLETED</td>\n",
       "      <td>VIOLATION</td>\n",
       "      <td>INSIDE</td>\n",
       "      <td>PUBLIC SCHOOL</td>\n",
       "      <td>N.Y. POLICE DEPT</td>\n",
       "      <td>NOT PARK</td>\n",
       "      <td>&lt;18</td>\n",
       "      <td>BLACK</td>\n",
       "      <td>M</td>\n",
       "      <td>40.658758</td>\n",
       "      <td>-73.942435</td>\n",
       "      <td>NOT SUBWAY</td>\n",
       "      <td>18-24</td>\n",
       "      <td>BLACK</td>\n",
       "      <td>M</td>\n",
       "      <td>2016-10-27 13:00:00</td>\n",
       "      <td>BROOKLYN</td>\n",
       "      <td>PATROL BORO BKLYN SOUTH</td>\n",
       "    </tr>\n",
       "  </tbody>\n",
       "</table>\n",
       "</div>"
      ],
      "text/plain": [
       "   precinct_number                    offense_type crime_completed  \\\n",
       "0               73  OFFENSES AGAINST PUBLIC ADMINI       COMPLETED   \n",
       "1               69    ASSAULT 3 & RELATED OFFENSES       COMPLETED   \n",
       "2               71                   HARRASSMENT 2       COMPLETED   \n",
       "\n",
       "  offense_level premise_desc                     premise         jurisdiction  \\\n",
       "0   MISDEMEANOR       INSIDE  RESIDENCE - PUBLIC HOUSING  N.Y. HOUSING POLICE   \n",
       "1   MISDEMEANOR       INSIDE             RESIDENCE-HOUSE     N.Y. POLICE DEPT   \n",
       "2     VIOLATION       INSIDE               PUBLIC SCHOOL     N.Y. POLICE DEPT   \n",
       "\n",
       "  park_name suspect_age suspect_race suspect_sex   latitude  longitude  \\\n",
       "0  NOT PARK       25-44        BLACK           M  40.664239 -73.908425   \n",
       "1  NOT PARK     UNKNOWN      UNKNOWN     UNKNOWN  40.644590 -73.892672   \n",
       "2  NOT PARK         <18        BLACK           M  40.658758 -73.942435   \n",
       "\n",
       "         metro victim_age victim_race victim_sex               period  \\\n",
       "0  NOT SUBWAY         <18       BLACK          M  2015-02-11 15:00:00   \n",
       "1  NOT SUBWAY       45-64       BLACK          F  2012-03-17 10:00:00   \n",
       "2  NOT SUBWAY       18-24       BLACK          M  2016-10-27 13:00:00   \n",
       "\n",
       "    borough           patrol_borough  \n",
       "0  BROOKLYN  PATROL BORO BKLYN NORTH  \n",
       "1  BROOKLYN  PATROL BORO BKLYN SOUTH  \n",
       "2  BROOKLYN  PATROL BORO BKLYN SOUTH  "
      ]
     },
     "execution_count": 5,
     "metadata": {},
     "output_type": "execute_result"
    }
   ],
   "source": [
    "df.head(3)"
   ]
  },
  {
   "cell_type": "markdown",
   "metadata": {},
   "source": [
    "## Input"
   ]
  },
  {
   "cell_type": "code",
   "execution_count": null,
   "metadata": {},
   "outputs": [],
   "source": []
  }
 ],
 "metadata": {
  "kernelspec": {
   "display_name": "Python 3",
   "language": "python",
   "name": "python3"
  },
  "language_info": {
   "codemirror_mode": {
    "name": "ipython",
    "version": 3
   },
   "file_extension": ".py",
   "mimetype": "text/x-python",
   "name": "python",
   "nbconvert_exporter": "python",
   "pygments_lexer": "ipython3",
   "version": "3.8.6"
  },
  "toc": {
   "base_numbering": 1,
   "nav_menu": {},
   "number_sections": true,
   "sideBar": true,
   "skip_h1_title": false,
   "title_cell": "Table of Contents",
   "title_sidebar": "Contents",
   "toc_cell": false,
   "toc_position": {},
   "toc_section_display": true,
   "toc_window_display": false
  }
 },
 "nbformat": 4,
 "nbformat_minor": 4
}
