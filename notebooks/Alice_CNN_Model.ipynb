{
 "cells": [
  {
   "cell_type": "markdown",
   "metadata": {},
   "source": [
    "# Convoluted Neural Network: 1st Model Trial"
   ]
  },
  {
   "cell_type": "markdown",
   "metadata": {},
   "source": [
    "## Imports"
   ]
  },
  {
   "cell_type": "code",
   "execution_count": 1,
   "metadata": {
    "ExecuteTime": {
     "end_time": "2020-12-04T17:28:22.225993Z",
     "start_time": "2020-12-04T17:28:19.460733Z"
    }
   },
   "outputs": [],
   "source": [
    "import numpy as np\n",
    "import pandas as pd"
   ]
  },
  {
   "cell_type": "markdown",
   "metadata": {
    "heading_collapsed": true
   },
   "source": [
    "## To be reconsidered at later date (RNN)"
   ]
  },
  {
   "cell_type": "markdown",
   "metadata": {
    "heading_collapsed": true,
    "hidden": true
   },
   "source": [
    "### Recurrent Neural Network Prep (to be reconsidered)"
   ]
  },
  {
   "cell_type": "markdown",
   "metadata": {
    "heading_collapsed": true,
    "hidden": true
   },
   "source": [
    "#### Sort dataframe by period !"
   ]
  },
  {
   "cell_type": "markdown",
   "metadata": {
    "hidden": true
   },
   "source": [
    "First df needs to be sorted by period!"
   ]
  },
  {
   "cell_type": "code",
   "execution_count": 2,
   "metadata": {
    "ExecuteTime": {
     "end_time": "2020-12-04T17:28:22.235558Z",
     "start_time": "2020-12-04T17:28:22.229027Z"
    },
    "hidden": true
   },
   "outputs": [],
   "source": [
    "# sorted_df = df.sort_values(by = ['period'])"
   ]
  },
  {
   "cell_type": "markdown",
   "metadata": {
    "hidden": true
   },
   "source": [
    "#### Train & Test Dataframe"
   ]
  },
  {
   "cell_type": "code",
   "execution_count": 3,
   "metadata": {
    "ExecuteTime": {
     "end_time": "2020-12-04T17:28:22.252577Z",
     "start_time": "2020-12-04T17:28:22.242292Z"
    },
    "hidden": true
   },
   "outputs": [],
   "source": [
    "# len_ = int(0.8 * sorted_df.shape[0])"
   ]
  },
  {
   "cell_type": "code",
   "execution_count": 4,
   "metadata": {
    "ExecuteTime": {
     "end_time": "2020-12-04T17:28:22.264987Z",
     "start_time": "2020-12-04T17:28:22.257551Z"
    },
    "hidden": true
   },
   "outputs": [],
   "source": [
    "# df_train = sorted_df[:len_]\n",
    "# df_test = sorted_df[len_:]"
   ]
  },
  {
   "cell_type": "markdown",
   "metadata": {
    "hidden": true
   },
   "source": [
    "#### Turning df_train and df_test into Gaussian 3D arrays"
   ]
  },
  {
   "cell_type": "code",
   "execution_count": 5,
   "metadata": {
    "ExecuteTime": {
     "end_time": "2020-12-04T17:28:22.273532Z",
     "start_time": "2020-12-04T17:28:22.269308Z"
    },
    "hidden": true
   },
   "outputs": [],
   "source": [
    "# img3D_conv = gaussian_filter(img_list, sigma=(2,2,2))"
   ]
  },
  {
   "cell_type": "markdown",
   "metadata": {
    "hidden": true
   },
   "source": [
    "#### Splitting into sub-samples"
   ]
  },
  {
   "cell_type": "markdown",
   "metadata": {
    "hidden": true
   },
   "source": [
    "**Decide how many observations (sample number) you need for a chosen observation 'length' (no. of images / hours)**"
   ]
  },
  {
   "cell_type": "markdown",
   "metadata": {
    "hidden": true
   },
   "source": [
    "Sample the df as many times as the no. of observations indicated and split each into X and y.\n",
    "\n",
    "\n",
    "get_X_y should call the split_subsample function, which in turn calls the subsample_sequence function.\n",
    "\n",
    "i.e. first sample, then split, then store in X and y arrays\n",
    "\n",
    "\n",
    "X_train and y_train should be extracted from the train dataframe (vice versa for X_test and y_test)!"
   ]
  },
  {
   "cell_type": "markdown",
   "metadata": {},
   "source": [
    "## Dummie Model"
   ]
  },
  {
   "cell_type": "markdown",
   "metadata": {},
   "source": [
    "### X and y"
   ]
  },
  {
   "cell_type": "code",
   "execution_count": null,
   "metadata": {
    "ExecuteTime": {
     "start_time": "2020-12-04T18:07:32.199Z"
    }
   },
   "outputs": [],
   "source": [
    "X_ = np.random.randint(2, size = (50, 24, 1_000, 1_000)).astype(np.int32)"
   ]
  },
  {
   "cell_type": "code",
   "execution_count": 90,
   "metadata": {
    "ExecuteTime": {
     "end_time": "2020-12-04T18:02:30.998801Z",
     "start_time": "2020-12-04T18:02:27.917618Z"
    }
   },
   "outputs": [],
   "source": [
    "#y = np.array([np.random.randint(2, size = (3, 1_000, 1_000), dtype = int).flatten() for k in range(50)])"
   ]
  },
  {
   "cell_type": "code",
   "execution_count": 106,
   "metadata": {
    "ExecuteTime": {
     "end_time": "2020-12-04T18:06:39.554654Z",
     "start_time": "2020-12-04T18:06:05.759886Z"
    }
   },
   "outputs": [],
   "source": [
    "X = np.empty((50, 24, 1_000, 1_000))\n",
    "\n",
    "y = np.array([np.empty((24, 1_000, 1_000), dtype = int).flatten() for k in range(50)])"
   ]
  },
  {
   "cell_type": "code",
   "execution_count": 107,
   "metadata": {
    "ExecuteTime": {
     "end_time": "2020-12-04T18:06:39.580395Z",
     "start_time": "2020-12-04T18:06:39.562775Z"
    },
    "scrolled": true
   },
   "outputs": [
    {
     "name": "stdout",
     "output_type": "stream",
     "text": [
      "(50, 24, 1000, 1000)\n",
      "(50, 24000000)\n"
     ]
    }
   ],
   "source": [
    "print(X.shape)\n",
    "print(y.shape)"
   ]
  },
  {
   "cell_type": "markdown",
   "metadata": {},
   "source": [
    "### Train, test, split"
   ]
  },
  {
   "cell_type": "code",
   "execution_count": 108,
   "metadata": {
    "ExecuteTime": {
     "end_time": "2020-12-04T18:07:12.609128Z",
     "start_time": "2020-12-04T18:06:39.588444Z"
    }
   },
   "outputs": [],
   "source": [
    "from sklearn.model_selection import train_test_split\n",
    "\n",
    "X_train, X_test, y_train, y_test = train_test_split(X, y, test_size = 0.2)"
   ]
  },
  {
   "cell_type": "code",
   "execution_count": 109,
   "metadata": {
    "ExecuteTime": {
     "end_time": "2020-12-04T18:07:12.634689Z",
     "start_time": "2020-12-04T18:07:12.615418Z"
    }
   },
   "outputs": [
    {
     "data": {
      "text/plain": [
       "(40, 24, 1000, 1000)"
      ]
     },
     "execution_count": 109,
     "metadata": {},
     "output_type": "execute_result"
    }
   ],
   "source": [
    "X_train.shape"
   ]
  },
  {
   "cell_type": "code",
   "execution_count": 110,
   "metadata": {
    "ExecuteTime": {
     "end_time": "2020-12-04T18:07:12.652019Z",
     "start_time": "2020-12-04T18:07:12.637407Z"
    }
   },
   "outputs": [
    {
     "data": {
      "text/plain": [
       "(10, 24, 1000, 1000)"
      ]
     },
     "execution_count": 110,
     "metadata": {},
     "output_type": "execute_result"
    }
   ],
   "source": [
    "X_test.shape"
   ]
  },
  {
   "cell_type": "markdown",
   "metadata": {},
   "source": [
    "## CNN"
   ]
  },
  {
   "cell_type": "code",
   "execution_count": 111,
   "metadata": {
    "ExecuteTime": {
     "end_time": "2020-12-04T18:07:12.684331Z",
     "start_time": "2020-12-04T18:07:12.655916Z"
    }
   },
   "outputs": [],
   "source": [
    "import tensorflow as tf\n",
    "from tensorflow.keras import models\n",
    "from tensorflow.keras import layers\n",
    "from tensorflow.keras.callbacks import EarlyStopping"
   ]
  },
  {
   "cell_type": "code",
   "execution_count": 112,
   "metadata": {
    "ExecuteTime": {
     "end_time": "2020-12-04T18:07:12.715601Z",
     "start_time": "2020-12-04T18:07:12.700842Z"
    }
   },
   "outputs": [],
   "source": [
    "from tensorflow.keras import backend as K\n",
    "\n",
    "def root_mean_squared_error(y_true, y_pred):\n",
    "    return K.sqrt(mean_squared_error(y_true, y_pred))"
   ]
  },
  {
   "cell_type": "code",
   "execution_count": 113,
   "metadata": {
    "ExecuteTime": {
     "end_time": "2020-12-04T18:07:12.763241Z",
     "start_time": "2020-12-04T18:07:12.733018Z"
    }
   },
   "outputs": [],
   "source": [
    "model = models.Sequential()"
   ]
  },
  {
   "cell_type": "code",
   "execution_count": 114,
   "metadata": {
    "ExecuteTime": {
     "end_time": "2020-12-04T18:07:12.783551Z",
     "start_time": "2020-12-04T18:07:12.766935Z"
    }
   },
   "outputs": [
    {
     "data": {
      "text/plain": [
       "<tensorflow.python.keras.layers.noise.GaussianNoise at 0x13f9c2460>"
      ]
     },
     "execution_count": 114,
     "metadata": {},
     "output_type": "execute_result"
    }
   ],
   "source": [
    "tf.keras.layers.GaussianNoise(stddev = root_mean_squared_error, input_shape = (24, 1_000, 1_000))"
   ]
  },
  {
   "cell_type": "code",
   "execution_count": 115,
   "metadata": {
    "ExecuteTime": {
     "end_time": "2020-12-04T18:07:12.806267Z",
     "start_time": "2020-12-04T18:07:12.787055Z"
    }
   },
   "outputs": [],
   "source": [
    "model.add(layers.Conv2D(32, kernel_size = 3, activation = 'relu'))"
   ]
  },
  {
   "cell_type": "code",
   "execution_count": 116,
   "metadata": {
    "ExecuteTime": {
     "end_time": "2020-12-04T18:07:12.822524Z",
     "start_time": "2020-12-04T18:07:12.817150Z"
    }
   },
   "outputs": [],
   "source": [
    "model.add(layers.Flatten())"
   ]
  },
  {
   "cell_type": "code",
   "execution_count": 117,
   "metadata": {
    "ExecuteTime": {
     "end_time": "2020-12-04T18:07:12.842575Z",
     "start_time": "2020-12-04T18:07:12.831213Z"
    }
   },
   "outputs": [],
   "source": [
    "model.add(layers.Dense(3 * 1_000 * 1_000))"
   ]
  },
  {
   "cell_type": "code",
   "execution_count": 118,
   "metadata": {
    "ExecuteTime": {
     "end_time": "2020-12-04T18:07:12.887045Z",
     "start_time": "2020-12-04T18:07:12.849063Z"
    }
   },
   "outputs": [],
   "source": [
    "model.compile(loss = 'mse',\n",
    "                  optimizer = 'adam',\n",
    "                  metrics = ['accuracy'])"
   ]
  },
  {
   "cell_type": "code",
   "execution_count": null,
   "metadata": {
    "ExecuteTime": {
     "start_time": "2020-12-04T18:06:14.332Z"
    }
   },
   "outputs": [],
   "source": [
    "model.fit(X_train, y_train)"
   ]
  },
  {
   "cell_type": "code",
   "execution_count": null,
   "metadata": {},
   "outputs": [],
   "source": [
    "y_pred = model.predict(X_test)"
   ]
  },
  {
   "cell_type": "code",
   "execution_count": 15,
   "metadata": {
    "ExecuteTime": {
     "end_time": "2020-12-04T17:29:12.174577Z",
     "start_time": "2020-12-04T17:29:12.161784Z"
    }
   },
   "outputs": [
    {
     "ename": "SyntaxError",
     "evalue": "invalid syntax (<ipython-input-15-7f9f0048a7e2>, line 20)",
     "output_type": "error",
     "traceback": [
      "\u001b[0;36m  File \u001b[0;32m\"<ipython-input-15-7f9f0048a7e2>\"\u001b[0;36m, line \u001b[0;32m20\u001b[0m\n\u001b[0;31m    return model\u001b[0m\n\u001b[0m    ^\u001b[0m\n\u001b[0;31mSyntaxError\u001b[0m\u001b[0;31m:\u001b[0m invalid syntax\n"
     ]
    }
   ],
   "source": [
    "def first_model():\n",
    "    \n",
    "    model = models.Sequential() # initialize model\n",
    "\n",
    "    # input shape 10 as 10 observations\n",
    "    \n",
    "    tf.keras.layers.GaussianNoise(stddev, **kwargs)\n",
    "    \n",
    "    model.add(layers.Conv2D(32, kernel_size = 3, activation = 'relu', input_shape = (24, 1_000, 1_000))) \n",
    "\n",
    "    model.add(layers.Conv2D(16, kernel_size = 3))\n",
    "\n",
    "    model.add(layers.Conv2D(32, kernel_size = 6))\n",
    "\n",
    "    model.add(layers.Flatten())\n",
    "\n",
    "    model.add(layers.Dense(1_000, 1_000, 50)\n",
    "\n",
    "    #model.compile(loss='mse',\n",
    "                  #optimizer = 'adam',\n",
    "                  #metrics=['accuracy'])\n",
    "\n",
    "    return model\n",
    "    \n",
    "model = first_model()\n",
    "\n",
    "# prevent overfitting with early stopping\n",
    "# es = EarlyStopping(monitor='val_accuracy', mode='max', patience=5, verbose=1, restore_best_weights=True)"
   ]
  },
  {
   "cell_type": "code",
   "execution_count": null,
   "metadata": {
    "ExecuteTime": {
     "end_time": "2020-12-04T17:29:12.179594Z",
     "start_time": "2020-12-04T17:28:19.487Z"
    }
   },
   "outputs": [],
   "source": [
    "from tensorflow.keras import optimizers\n",
    "from tensorflow.keras.losses import mean_squared_error\n",
    "from tensorflow.keras import backend as K\n",
    "\n",
    "def root_mean_squared_error(y_true, y_pred):\n",
    "    return K.sqrt(mean_squared_error(y_true, y_pred))\n",
    "\n",
    "model = Sequential()\n",
    "model.add(Conv2D(64, kernel_size=3, activation=\"relu\", input_shape=(28,28,5)))\n",
    "model.add(Flatten())\n",
    "model.add(Dense(28*28*3))\n",
    "\n",
    "model.compile(optimizer = \"rmsprop\", loss = root_mean_squared_error, metrics =[\"accuracy\"])\n",
    "\n",
    "X_other = np.empty((1, 28, 28, 5)) # 1 3d array with zeros\n",
    "y_other = np.array([np.empty((28, 28, 3), dtype=int).flatten()])\n",
    "\n",
    "model.fit(X_other, y_other)"
   ]
  }
 ],
 "metadata": {
  "kernelspec": {
   "display_name": "Python 3",
   "language": "python",
   "name": "python3"
  },
  "language_info": {
   "codemirror_mode": {
    "name": "ipython",
    "version": 3
   },
   "file_extension": ".py",
   "mimetype": "text/x-python",
   "name": "python",
   "nbconvert_exporter": "python",
   "pygments_lexer": "ipython3",
   "version": "3.8.6"
  },
  "toc": {
   "base_numbering": 1,
   "nav_menu": {},
   "number_sections": true,
   "sideBar": true,
   "skip_h1_title": false,
   "title_cell": "Table of Contents",
   "title_sidebar": "Contents",
   "toc_cell": false,
   "toc_position": {},
   "toc_section_display": true,
   "toc_window_display": false
  }
 },
 "nbformat": 4,
 "nbformat_minor": 4
}
