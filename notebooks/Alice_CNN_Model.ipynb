{
 "cells": [
  {
   "cell_type": "markdown",
   "metadata": {},
   "source": [
    "# Convoluted Neural Network: 1st Model Trial"
   ]
  },
  {
   "cell_type": "markdown",
   "metadata": {},
   "source": [
    "## Imports"
   ]
  },
  {
   "cell_type": "code",
   "execution_count": 1,
   "metadata": {
    "ExecuteTime": {
     "end_time": "2020-12-04T19:02:42.108687Z",
     "start_time": "2020-12-04T19:02:40.828477Z"
    }
   },
   "outputs": [],
   "source": [
    "import numpy as np\n",
    "import pandas as pd"
   ]
  },
  {
   "cell_type": "markdown",
   "metadata": {
    "heading_collapsed": true
   },
   "source": [
    "## To be reconsidered at later date (RNN)"
   ]
  },
  {
   "cell_type": "markdown",
   "metadata": {
    "heading_collapsed": true,
    "hidden": true
   },
   "source": [
    "### Recurrent Neural Network Prep (to be reconsidered)"
   ]
  },
  {
   "cell_type": "markdown",
   "metadata": {
    "heading_collapsed": true,
    "hidden": true
   },
   "source": [
    "#### Sort dataframe by period !"
   ]
  },
  {
   "cell_type": "markdown",
   "metadata": {
    "hidden": true
   },
   "source": [
    "First df needs to be sorted by period!"
   ]
  },
  {
   "cell_type": "code",
   "execution_count": 2,
   "metadata": {
    "ExecuteTime": {
     "end_time": "2020-12-04T19:02:42.139439Z",
     "start_time": "2020-12-04T19:02:42.127229Z"
    },
    "hidden": true
   },
   "outputs": [],
   "source": [
    "# sorted_df = df.sort_values(by = ['period'])"
   ]
  },
  {
   "cell_type": "markdown",
   "metadata": {
    "hidden": true
   },
   "source": [
    "#### Train & Test Dataframe"
   ]
  },
  {
   "cell_type": "code",
   "execution_count": 3,
   "metadata": {
    "ExecuteTime": {
     "end_time": "2020-12-04T19:02:42.175555Z",
     "start_time": "2020-12-04T19:02:42.159536Z"
    },
    "hidden": true
   },
   "outputs": [],
   "source": [
    "# len_ = int(0.8 * sorted_df.shape[0])"
   ]
  },
  {
   "cell_type": "code",
   "execution_count": 4,
   "metadata": {
    "ExecuteTime": {
     "end_time": "2020-12-04T19:02:42.209989Z",
     "start_time": "2020-12-04T19:02:42.181954Z"
    },
    "hidden": true
   },
   "outputs": [],
   "source": [
    "# df_train = sorted_df[:len_]\n",
    "# df_test = sorted_df[len_:]"
   ]
  },
  {
   "cell_type": "markdown",
   "metadata": {
    "hidden": true
   },
   "source": [
    "#### Turning df_train and df_test into Gaussian 3D arrays"
   ]
  },
  {
   "cell_type": "code",
   "execution_count": 5,
   "metadata": {
    "ExecuteTime": {
     "end_time": "2020-12-04T19:02:42.242960Z",
     "start_time": "2020-12-04T19:02:42.221911Z"
    },
    "hidden": true
   },
   "outputs": [],
   "source": [
    "# img3D_conv = gaussian_filter(img_list, sigma=(2,2,2))"
   ]
  },
  {
   "cell_type": "markdown",
   "metadata": {
    "hidden": true
   },
   "source": [
    "#### Splitting into sub-samples"
   ]
  },
  {
   "cell_type": "markdown",
   "metadata": {
    "hidden": true
   },
   "source": [
    "**Decide how many observations (sample number) you need for a chosen observation 'length' (no. of images / hours)**"
   ]
  },
  {
   "cell_type": "markdown",
   "metadata": {
    "hidden": true
   },
   "source": [
    "Sample the df as many times as the no. of observations indicated and split each into X and y.\n",
    "\n",
    "\n",
    "get_X_y should call the split_subsample function, which in turn calls the subsample_sequence function.\n",
    "\n",
    "i.e. first sample, then split, then store in X and y arrays\n",
    "\n",
    "\n",
    "X_train and y_train should be extracted from the train dataframe (vice versa for X_test and y_test)!"
   ]
  },
  {
   "cell_type": "markdown",
   "metadata": {},
   "source": [
    "## Dummie Model"
   ]
  },
  {
   "cell_type": "markdown",
   "metadata": {},
   "source": [
    "### X and y"
   ]
  },
  {
   "cell_type": "code",
   "execution_count": 6,
   "metadata": {
    "ExecuteTime": {
     "end_time": "2020-12-04T19:02:42.285326Z",
     "start_time": "2020-12-04T19:02:42.275931Z"
    }
   },
   "outputs": [],
   "source": [
    "#X_ = np.random.randint(2, size = (50, 24, 1_000, 1_000)).astype(np.int32)"
   ]
  },
  {
   "cell_type": "code",
   "execution_count": 7,
   "metadata": {
    "ExecuteTime": {
     "end_time": "2020-12-04T19:02:42.339572Z",
     "start_time": "2020-12-04T19:02:42.305542Z"
    }
   },
   "outputs": [],
   "source": [
    "#y = np.array([np.random.randint(2, size = (3, 1_000, 1_000), dtype = int).flatten() for k in range(50)])"
   ]
  },
  {
   "cell_type": "code",
   "execution_count": 8,
   "metadata": {
    "ExecuteTime": {
     "end_time": "2020-12-04T19:02:42.424549Z",
     "start_time": "2020-12-04T19:02:42.360848Z"
    }
   },
   "outputs": [],
   "source": [
    "X = np.empty((24, 12, 100, 100))\n",
    "\n",
    "y = np.array([np.empty((3, 100, 100), dtype = int).flatten() for k in range(24)])"
   ]
  },
  {
   "cell_type": "code",
   "execution_count": 9,
   "metadata": {
    "ExecuteTime": {
     "end_time": "2020-12-04T19:02:42.447876Z",
     "start_time": "2020-12-04T19:02:42.430371Z"
    },
    "scrolled": true
   },
   "outputs": [
    {
     "name": "stdout",
     "output_type": "stream",
     "text": [
      "(24, 12, 100, 100)\n",
      "(24, 30000)\n"
     ]
    }
   ],
   "source": [
    "print(X.shape)\n",
    "print(y.shape)"
   ]
  },
  {
   "cell_type": "markdown",
   "metadata": {},
   "source": [
    "### Train, test, split"
   ]
  },
  {
   "cell_type": "code",
   "execution_count": 10,
   "metadata": {
    "ExecuteTime": {
     "end_time": "2020-12-04T19:02:44.814356Z",
     "start_time": "2020-12-04T19:02:42.477202Z"
    }
   },
   "outputs": [],
   "source": [
    "from sklearn.model_selection import train_test_split\n",
    "\n",
    "X_train, X_test, y_train, y_test = train_test_split(X, y, test_size = 0.2)"
   ]
  },
  {
   "cell_type": "code",
   "execution_count": 11,
   "metadata": {
    "ExecuteTime": {
     "end_time": "2020-12-04T19:02:44.863566Z",
     "start_time": "2020-12-04T19:02:44.820952Z"
    }
   },
   "outputs": [
    {
     "data": {
      "text/plain": [
       "(19, 12, 100, 100)"
      ]
     },
     "execution_count": 11,
     "metadata": {},
     "output_type": "execute_result"
    }
   ],
   "source": [
    "X_train.shape"
   ]
  },
  {
   "cell_type": "code",
   "execution_count": 12,
   "metadata": {
    "ExecuteTime": {
     "end_time": "2020-12-04T19:02:44.959076Z",
     "start_time": "2020-12-04T19:02:44.901466Z"
    }
   },
   "outputs": [
    {
     "data": {
      "text/plain": [
       "(5, 12, 100, 100)"
      ]
     },
     "execution_count": 12,
     "metadata": {},
     "output_type": "execute_result"
    }
   ],
   "source": [
    "X_test.shape"
   ]
  },
  {
   "cell_type": "markdown",
   "metadata": {},
   "source": [
    "## CNN"
   ]
  },
  {
   "cell_type": "code",
   "execution_count": 13,
   "metadata": {
    "ExecuteTime": {
     "end_time": "2020-12-04T19:02:51.654582Z",
     "start_time": "2020-12-04T19:02:44.977569Z"
    }
   },
   "outputs": [],
   "source": [
    "import tensorflow as tf\n",
    "from tensorflow.keras import models\n",
    "from tensorflow.keras import layers\n",
    "from tensorflow.keras.callbacks import EarlyStopping"
   ]
  },
  {
   "cell_type": "code",
   "execution_count": 14,
   "metadata": {
    "ExecuteTime": {
     "end_time": "2020-12-04T19:02:51.707137Z",
     "start_time": "2020-12-04T19:02:51.659560Z"
    }
   },
   "outputs": [],
   "source": [
    "model = models.Sequential()"
   ]
  },
  {
   "cell_type": "code",
   "execution_count": 15,
   "metadata": {
    "ExecuteTime": {
     "end_time": "2020-12-04T19:02:51.757458Z",
     "start_time": "2020-12-04T19:02:51.713862Z"
    }
   },
   "outputs": [],
   "source": [
    "model.add(layers.GaussianNoise(stddev = 2.5, input_shape = (12, 100, 100)))"
   ]
  },
  {
   "cell_type": "code",
   "execution_count": 16,
   "metadata": {
    "ExecuteTime": {
     "end_time": "2020-12-04T19:02:51.796970Z",
     "start_time": "2020-12-04T19:02:51.776070Z"
    }
   },
   "outputs": [],
   "source": [
    "model.add(layers.Conv2D(32, kernel_size = 3, activation = 'relu'))"
   ]
  },
  {
   "cell_type": "code",
   "execution_count": 17,
   "metadata": {
    "ExecuteTime": {
     "end_time": "2020-12-04T19:02:51.821621Z",
     "start_time": "2020-12-04T19:02:51.803237Z"
    }
   },
   "outputs": [],
   "source": [
    "model.add(layers.Conv2D(16, kernel_size = 3, activation = 'relu'))"
   ]
  },
  {
   "cell_type": "code",
   "execution_count": 18,
   "metadata": {
    "ExecuteTime": {
     "end_time": "2020-12-04T19:02:51.850123Z",
     "start_time": "2020-12-04T19:02:51.824052Z"
    }
   },
   "outputs": [],
   "source": [
    "model.add(layers.Flatten())"
   ]
  },
  {
   "cell_type": "code",
   "execution_count": 19,
   "metadata": {
    "ExecuteTime": {
     "end_time": "2020-12-04T19:02:54.676223Z",
     "start_time": "2020-12-04T19:02:51.855997Z"
    }
   },
   "outputs": [],
   "source": [
    "model.add(layers.Dense(3 * 100 * 100))"
   ]
  },
  {
   "cell_type": "code",
   "execution_count": 20,
   "metadata": {
    "ExecuteTime": {
     "end_time": "2020-12-04T19:02:54.758587Z",
     "start_time": "2020-12-04T19:02:54.697348Z"
    }
   },
   "outputs": [],
   "source": [
    "model.compile(loss = 'mse',\n",
    "                  optimizer = 'adam',\n",
    "                  metrics = 'mse')"
   ]
  },
  {
   "cell_type": "code",
   "execution_count": 21,
   "metadata": {
    "ExecuteTime": {
     "end_time": "2020-12-04T19:03:00.195946Z",
     "start_time": "2020-12-04T19:02:54.769865Z"
    }
   },
   "outputs": [
    {
     "name": "stdout",
     "output_type": "stream",
     "text": [
      "1/1 [==============================] - 0s 1ms/step - loss: inf - mse: inf\n"
     ]
    },
    {
     "data": {
      "text/plain": [
       "<tensorflow.python.keras.callbacks.History at 0x141bc9340>"
      ]
     },
     "execution_count": 21,
     "metadata": {},
     "output_type": "execute_result"
    }
   ],
   "source": [
    "model.fit(X_train, y_train)"
   ]
  },
  {
   "cell_type": "code",
   "execution_count": 22,
   "metadata": {
    "ExecuteTime": {
     "end_time": "2020-12-04T19:03:00.625972Z",
     "start_time": "2020-12-04T19:03:00.205283Z"
    },
    "scrolled": true
   },
   "outputs": [
    {
     "name": "stdout",
     "output_type": "stream",
     "text": [
      "1/1 [==============================] - 0s 2ms/step - loss: inf - mse: inf\n",
      "[inf, inf]\n"
     ]
    }
   ],
   "source": [
    "print(model.evaluate(X_test, y_test))"
   ]
  },
  {
   "cell_type": "markdown",
   "metadata": {},
   "source": [
    "## Checking with Real Data"
   ]
  },
  {
   "cell_type": "code",
   "execution_count": 23,
   "metadata": {
    "ExecuteTime": {
     "end_time": "2020-12-04T19:03:09.371854Z",
     "start_time": "2020-12-04T19:03:00.639500Z"
    }
   },
   "outputs": [],
   "source": [
    "import pickle\n",
    "\n",
    "pickle_path = ('../raw_data/clean.pickle')\n",
    "with open(pickle_path, 'rb') as f:\n",
    "    df = pickle.load(f)"
   ]
  },
  {
   "cell_type": "code",
   "execution_count": 24,
   "metadata": {
    "ExecuteTime": {
     "end_time": "2020-12-04T19:03:09.378596Z",
     "start_time": "2020-12-04T19:03:09.374246Z"
    }
   },
   "outputs": [],
   "source": [
    "from datetime import datetime"
   ]
  },
  {
   "cell_type": "code",
   "execution_count": 25,
   "metadata": {
    "ExecuteTime": {
     "end_time": "2020-12-04T19:03:10.086446Z",
     "start_time": "2020-12-04T19:03:09.390211Z"
    }
   },
   "outputs": [],
   "source": [
    "inf = df['period'] > datetime(2016, 10, 1, 0, 0, 0)\n",
    "sup = df['period'] < datetime(2016, 11, 1, 0, 0, 0)\n",
    "sample = df[ inf & sup ]"
   ]
  },
  {
   "cell_type": "code",
   "execution_count": 26,
   "metadata": {
    "ExecuteTime": {
     "end_time": "2020-12-04T19:03:10.101457Z",
     "start_time": "2020-12-04T19:03:10.089694Z"
    }
   },
   "outputs": [],
   "source": [
    "def from_coord_to_matrix(df):\n",
    "    #add 'time_index' column to df\n",
    "    ind = {time:index for index,time in enumerate(np.sort(df['period'].unique()))}\n",
    "    df['time_index'] = df['period'].map(ind)\n",
    "    #initiate matrix\n",
    "    grid_offset = np.array([0, -74.25559136315213, 40.49611539518921]) # Where do you start\n",
    "    grid_spacing = np.array([1, 0.005, 0.005]) # What's the space you consider (euclidian here)\n",
    "    #get points coordinates\n",
    "    coords = np.array([(t_ind, lon, lat) for t_ind, lon, lat \\\n",
    "                   in zip(df['time_index'],df['longitude'],df['latitude'])])\n",
    "    # Convert point to index\n",
    "    indexes = np.round((coords - grid_offset)/grid_spacing).astype('int')\n",
    "    #virgin matrix\n",
    "    a = np.zeros((indexes[:,0].max()+1, indexes[:,1].max()+1, indexes[:,2].max()+1))\n",
    "    Z = indexes[:,0]\n",
    "    X = indexes[:,1]\n",
    "    Y = indexes[:,2]\n",
    "    a[Z, X, Y]=1\n",
    "    return a"
   ]
  },
  {
   "cell_type": "code",
   "execution_count": 27,
   "metadata": {
    "ExecuteTime": {
     "end_time": "2020-12-04T19:03:10.226682Z",
     "start_time": "2020-12-04T19:03:10.108953Z"
    }
   },
   "outputs": [
    {
     "name": "stderr",
     "output_type": "stream",
     "text": [
      "<ipython-input-26-b7369d75031f>:4: SettingWithCopyWarning: \n",
      "A value is trying to be set on a copy of a slice from a DataFrame.\n",
      "Try using .loc[row_indexer,col_indexer] = value instead\n",
      "\n",
      "See the caveats in the documentation: https://pandas.pydata.org/pandas-docs/stable/user_guide/indexing.html#returning-a-view-versus-a-copy\n",
      "  df['time_index'] = df['period'].map(ind)\n"
     ]
    }
   ],
   "source": [
    "img = from_coord_to_matrix(sample)"
   ]
  },
  {
   "cell_type": "code",
   "execution_count": 28,
   "metadata": {
    "ExecuteTime": {
     "end_time": "2020-12-04T19:03:10.926209Z",
     "start_time": "2020-12-04T19:03:10.229678Z"
    }
   },
   "outputs": [
    {
     "data": {
      "text/plain": [
       "<matplotlib.image.AxesImage at 0x1423bf940>"
      ]
     },
     "execution_count": 28,
     "metadata": {},
     "output_type": "execute_result"
    },
    {
     "data": {
      "image/png": "[encoded data removed]",
      "text/plain": [
       "<Figure size 720x720 with 1 Axes>"
      ]
     },
     "metadata": {
      "needs_background": "light"
     },
     "output_type": "display_data"
    }
   ],
   "source": [
    "import matplotlib.pyplot as plt\n",
    "\n",
    "plt.figure(figsize=(10,10))\n",
    "plt.imshow(img[3], cmap='gray')"
   ]
  },
  {
   "cell_type": "code",
   "execution_count": 42,
   "metadata": {
    "ExecuteTime": {
     "end_time": "2020-12-04T19:06:55.955487Z",
     "start_time": "2020-12-04T19:06:55.418175Z"
    }
   },
   "outputs": [
    {
     "data": {
      "text/plain": [
       "<matplotlib.image.AxesImage at 0x1423ee880>"
      ]
     },
     "execution_count": 42,
     "metadata": {},
     "output_type": "execute_result"
    },
    {
     "data": {
      "image/png": "[encoded data removed]",
      "text/plain": [
       "<Figure size 720x720 with 1 Axes>"
      ]
     },
     "metadata": {
      "needs_background": "light"
     },
     "output_type": "display_data"
    }
   ],
   "source": [
    "from scipy.ndimage import gaussian_filter\n",
    "\n",
    "img3D_conv = gaussian_filter(img, sigma=(2, 2, 2))\n",
    "\n",
    "plt.figure(figsize=(10,10))\n",
    "\n",
    "plt.imshow(img3D_conv[3], cmap='gray')"
   ]
  },
  {
   "cell_type": "code",
   "execution_count": 43,
   "metadata": {
    "ExecuteTime": {
     "end_time": "2020-12-04T19:06:59.670078Z",
     "start_time": "2020-12-04T19:06:59.661558Z"
    }
   },
   "outputs": [],
   "source": [
    "def get_observation_target(img3D_conv):\n",
    "    \n",
    "    position = np.random.randint(0, img3D_conv.shape[0] - 12)\n",
    "    \n",
    "    observation = img3D_conv[position:position + 8]\n",
    "    \n",
    "    target = img3D_conv[position + 8:position + 12].flatten()\n",
    "    \n",
    "    return observation, target"
   ]
  },
  {
   "cell_type": "code",
   "execution_count": 44,
   "metadata": {
    "ExecuteTime": {
     "end_time": "2020-12-04T19:07:00.175012Z",
     "start_time": "2020-12-04T19:07:00.169397Z"
    }
   },
   "outputs": [],
   "source": [
    "def get_X_y(img3D_conv, number_of_observations):\n",
    "    \n",
    "    X = []\n",
    "    y = []\n",
    "    \n",
    "    for n in range(number_of_observations):\n",
    "        X_subsample, y_subsample = get_observation_target(img3D_conv)\n",
    "        X.append(X_subsample)\n",
    "        y.append(y_subsample)\n",
    "        \n",
    "    X = np.array(X)\n",
    "    y = np.array(y)\n",
    "    \n",
    "    return X, y"
   ]
  },
  {
   "cell_type": "code",
   "execution_count": 45,
   "metadata": {
    "ExecuteTime": {
     "end_time": "2020-12-04T19:07:00.913810Z",
     "start_time": "2020-12-04T19:07:00.892668Z"
    }
   },
   "outputs": [],
   "source": [
    "X, y = get_X_y(img3D_conv, 10)"
   ]
  },
  {
   "cell_type": "code",
   "execution_count": 46,
   "metadata": {
    "ExecuteTime": {
     "end_time": "2020-12-04T19:07:01.553526Z",
     "start_time": "2020-12-04T19:07:01.547905Z"
    }
   },
   "outputs": [],
   "source": [
    "X_train, X_test, y_train, y_test = train_test_split(X, y, test_size = 0.2)"
   ]
  },
  {
   "cell_type": "code",
   "execution_count": 47,
   "metadata": {
    "ExecuteTime": {
     "end_time": "2020-12-04T19:07:01.989334Z",
     "start_time": "2020-12-04T19:07:01.984069Z"
    }
   },
   "outputs": [
    {
     "data": {
      "text/plain": [
       "(8, 8, 112, 84)"
      ]
     },
     "execution_count": 47,
     "metadata": {},
     "output_type": "execute_result"
    }
   ],
   "source": [
    "X_train.shape"
   ]
  },
  {
   "cell_type": "code",
   "execution_count": 48,
   "metadata": {
    "ExecuteTime": {
     "end_time": "2020-12-04T19:07:02.683627Z",
     "start_time": "2020-12-04T19:07:02.677414Z"
    }
   },
   "outputs": [
    {
     "data": {
      "text/plain": [
       "(8, 37632)"
      ]
     },
     "execution_count": 48,
     "metadata": {},
     "output_type": "execute_result"
    }
   ],
   "source": [
    "y_train.shape"
   ]
  },
  {
   "cell_type": "code",
   "execution_count": 51,
   "metadata": {
    "ExecuteTime": {
     "end_time": "2020-12-04T19:10:33.982537Z",
     "start_time": "2020-12-04T19:10:20.252248Z"
    }
   },
   "outputs": [
    {
     "name": "stdout",
     "output_type": "stream",
     "text": [
      "1/1 [==============================] - 0s 5ms/step - loss: 0.6285 - mae: 0.6321\n"
     ]
    },
    {
     "data": {
      "text/plain": [
       "<tensorflow.python.keras.callbacks.History at 0x142438df0>"
      ]
     },
     "execution_count": 51,
     "metadata": {},
     "output_type": "execute_result"
    }
   ],
   "source": [
    "model_2 = models.Sequential()\n",
    "\n",
    "model_2.add(layers.GaussianNoise(stddev = 2.5, input_shape = (8, 112, 84)))\n",
    "\n",
    "model_2.add(layers.Conv2D(32, kernel_size = 3, activation = 'relu'))\n",
    "\n",
    "model_2.add(layers.Conv2D(16, kernel_size = 3, activation = 'relu'))\n",
    "\n",
    "model_2.add(layers.Flatten())\n",
    "\n",
    "model_2.add(layers.Dense(4 * 112 * 84))\n",
    "\n",
    "model_2.compile(loss = 'mse',\n",
    "                  optimizer = 'adam',\n",
    "                  metrics = 'mae')\n",
    "\n",
    "model_2.fit(X_train, y_train)"
   ]
  },
  {
   "cell_type": "code",
   "execution_count": 52,
   "metadata": {
    "ExecuteTime": {
     "end_time": "2020-12-04T19:10:34.563925Z",
     "start_time": "2020-12-04T19:10:33.990753Z"
    }
   },
   "outputs": [
    {
     "name": "stdout",
     "output_type": "stream",
     "text": [
      "1/1 [==============================] - 0s 1ms/step - loss: 4.4099e-04 - mae: 0.0140\n",
      "[0.00044099113438278437, 0.013981646858155727]\n"
     ]
    }
   ],
   "source": [
    "print(model_2.evaluate(X_test, y_test))"
   ]
  }
 ],
 "metadata": {
  "kernelspec": {
   "display_name": "Python 3",
   "language": "python",
   "name": "python3"
  },
  "language_info": {
   "codemirror_mode": {
    "name": "ipython",
    "version": 3
   },
   "file_extension": ".py",
   "mimetype": "text/x-python",
   "name": "python",
   "nbconvert_exporter": "python",
   "pygments_lexer": "ipython3",
   "version": "3.8.6"
  },
  "toc": {
   "base_numbering": 1,
   "nav_menu": {},
   "number_sections": true,
   "sideBar": true,
   "skip_h1_title": false,
   "title_cell": "Table of Contents",
   "title_sidebar": "Contents",
   "toc_cell": false,
   "toc_position": {},
   "toc_section_display": true,
   "toc_window_display": false
  }
 },
 "nbformat": 4,
 "nbformat_minor": 4
}
