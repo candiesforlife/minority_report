{
 "cells": [
  {
   "cell_type": "markdown",
   "metadata": {},
   "source": [
    "# Get dataset of images"
   ]
  },
  {
   "cell_type": "markdown",
   "metadata": {},
   "source": [
    "Take a dataset of images to simulate the dataset of tensors we are going to have"
   ]
  },
  {
   "cell_type": "code",
   "execution_count": 3,
   "metadata": {
    "ExecuteTime": {
     "end_time": "2020-12-03T11:33:44.966894Z",
     "start_time": "2020-12-03T11:33:44.950559Z"
    }
   },
   "outputs": [],
   "source": [
    "from tensorflow.keras.datasets import cifar10\n",
    "import numpy as np\n",
    "import random"
   ]
  },
  {
   "cell_type": "code",
   "execution_count": 1,
   "metadata": {
    "ExecuteTime": {
     "end_time": "2020-12-03T11:32:22.499478Z",
     "start_time": "2020-12-03T11:32:16.604507Z"
    }
   },
   "outputs": [],
   "source": [
    "(X_train, labels_train), (X_test, labels_test) = cifar10.load_data()\n",
    "\n",
    "labels = ['airplane', 'automobile', 'bird', 'cat', 'deer', 'dog', 'frog', 'horse', 'ship', 'truck']"
   ]
  },
  {
   "cell_type": "code",
   "execution_count": 2,
   "metadata": {
    "ExecuteTime": {
     "end_time": "2020-12-03T11:32:24.742786Z",
     "start_time": "2020-12-03T11:32:24.703741Z"
    }
   },
   "outputs": [
    {
     "data": {
      "text/plain": [
       "(50000, 32, 32, 3)"
      ]
     },
     "execution_count": 2,
     "metadata": {},
     "output_type": "execute_result"
    }
   ],
   "source": [
    "X_train.shape"
   ]
  },
  {
   "cell_type": "code",
   "execution_count": 4,
   "metadata": {
    "ExecuteTime": {
     "end_time": "2020-12-03T11:34:06.165747Z",
     "start_time": "2020-12-03T11:34:06.140609Z"
    }
   },
   "outputs": [
    {
     "data": {
      "text/plain": [
       "numpy.ndarray"
      ]
     },
     "execution_count": 4,
     "metadata": {},
     "output_type": "execute_result"
    }
   ],
   "source": [
    "type(X_train)"
   ]
  },
  {
   "cell_type": "code",
   "execution_count": 7,
   "metadata": {
    "ExecuteTime": {
     "end_time": "2020-12-03T11:39:36.280545Z",
     "start_time": "2020-12-03T11:39:36.263391Z"
    }
   },
   "outputs": [],
   "source": [
    "def get_observation_target (X_train):\n",
    "    position = np.random.randint(0,X_train.shape[0]-24)\n",
    "    observation = X_train[position:position+24]\n",
    "    target = X_train[position+24:position+27]\n",
    "    return observation, target"
   ]
  },
  {
   "cell_type": "code",
   "execution_count": 8,
   "metadata": {
    "ExecuteTime": {
     "end_time": "2020-12-03T11:39:40.647489Z",
     "start_time": "2020-12-03T11:39:40.626238Z"
    }
   },
   "outputs": [],
   "source": [
    "obs, target = get_observation(X_train)"
   ]
  },
  {
   "cell_type": "code",
   "execution_count": 10,
   "metadata": {
    "ExecuteTime": {
     "end_time": "2020-12-03T11:39:46.364915Z",
     "start_time": "2020-12-03T11:39:46.346425Z"
    }
   },
   "outputs": [
    {
     "data": {
      "text/plain": [
       "(24, 32, 32, 3)"
      ]
     },
     "execution_count": 10,
     "metadata": {},
     "output_type": "execute_result"
    }
   ],
   "source": [
    "obs.shape"
   ]
  },
  {
   "cell_type": "code",
   "execution_count": 11,
   "metadata": {
    "ExecuteTime": {
     "end_time": "2020-12-03T11:40:06.683604Z",
     "start_time": "2020-12-03T11:40:06.665891Z"
    }
   },
   "outputs": [
    {
     "data": {
      "text/plain": [
       "(3, 32, 32, 3)"
      ]
     },
     "execution_count": 11,
     "metadata": {},
     "output_type": "execute_result"
    }
   ],
   "source": [
    "target.shape"
   ]
  },
  {
   "cell_type": "code",
   "execution_count": 14,
   "metadata": {
    "ExecuteTime": {
     "end_time": "2020-12-03T11:45:36.791303Z",
     "start_time": "2020-12-03T11:45:36.758210Z"
    }
   },
   "outputs": [],
   "source": [
    "def get_X_y(X_train, number_of_observations):\n",
    "    X = []\n",
    "    y = []\n",
    "    for n in range(number_of_observations):\n",
    "        X_subsample, y_subsample = get_observation_target(X_train)\n",
    "        X.append(X_subsample)\n",
    "        y.append(y_subsample)\n",
    "    X = np.array(X)\n",
    "    y = np.array(y)\n",
    "    return X, y"
   ]
  },
  {
   "cell_type": "code",
   "execution_count": 15,
   "metadata": {
    "ExecuteTime": {
     "end_time": "2020-12-03T11:45:38.428767Z",
     "start_time": "2020-12-03T11:45:38.416427Z"
    }
   },
   "outputs": [],
   "source": [
    "X, y = get_X_y(X_train, 5)"
   ]
  },
  {
   "cell_type": "code",
   "execution_count": 16,
   "metadata": {
    "ExecuteTime": {
     "end_time": "2020-12-03T11:45:41.437545Z",
     "start_time": "2020-12-03T11:45:41.416963Z"
    }
   },
   "outputs": [
    {
     "data": {
      "text/plain": [
       "(5, 24, 32, 32, 3)"
      ]
     },
     "execution_count": 16,
     "metadata": {},
     "output_type": "execute_result"
    }
   ],
   "source": [
    "X.shape"
   ]
  },
  {
   "cell_type": "code",
   "execution_count": null,
   "metadata": {},
   "outputs": [],
   "source": []
  }
 ],
 "metadata": {
  "kernelspec": {
   "display_name": "Python 3",
   "language": "python",
   "name": "python3"
  },
  "language_info": {
   "codemirror_mode": {
    "name": "ipython",
    "version": 3
   },
   "file_extension": ".py",
   "mimetype": "text/x-python",
   "name": "python",
   "nbconvert_exporter": "python",
   "pygments_lexer": "ipython3",
   "version": "3.8.5"
  },
  "toc": {
   "base_numbering": 1,
   "nav_menu": {},
   "number_sections": true,
   "sideBar": true,
   "skip_h1_title": false,
   "title_cell": "Table of Contents",
   "title_sidebar": "Contents",
   "toc_cell": false,
   "toc_position": {},
   "toc_section_display": true,
   "toc_window_display": false
  },
  "varInspector": {
   "cols": {
    "lenName": 16,
    "lenType": 16,
    "lenVar": 40
   },
   "kernels_config": {
    "python": {
     "delete_cmd_postfix": "",
     "delete_cmd_prefix": "del ",
     "library": "var_list.py",
     "varRefreshCmd": "print(var_dic_list())"
    },
    "r": {
     "delete_cmd_postfix": ") ",
     "delete_cmd_prefix": "rm(",
     "library": "var_list.r",
     "varRefreshCmd": "cat(var_dic_list()) "
    }
   },
   "types_to_exclude": [
    "module",
    "function",
    "builtin_function_or_method",
    "instance",
    "_Feature"
   ],
   "window_display": false
  }
 },
 "nbformat": 4,
 "nbformat_minor": 4
}
