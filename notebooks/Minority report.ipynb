{
 "cells": [
  {
   "cell_type": "code",
   "execution_count": 1,
   "metadata": {
    "ExecuteTime": {
     "end_time": "2020-12-01T14:19:01.154954Z",
     "start_time": "2020-12-01T14:18:09.840597Z"
    }
   },
   "outputs": [
    {
     "name": "stderr",
     "output_type": "stream",
     "text": [
      "/Users/camillebenhaim/.pyenv/versions/3.8.5/envs/minority_report/lib/python3.8/site-packages/IPython/core/interactiveshell.py:3146: DtypeWarning: Columns (18,20) have mixed types.Specify dtype option on import or set low_memory=False.\n",
      "  has_raised = await self.run_ast_nodes(code_ast.body, cell_name,\n"
     ]
    },
    {
     "data": {
      "text/html": [
       "<div>\n",
       "<style scoped>\n",
       "    .dataframe tbody tr th:only-of-type {\n",
       "        vertical-align: middle;\n",
       "    }\n",
       "\n",
       "    .dataframe tbody tr th {\n",
       "        vertical-align: top;\n",
       "    }\n",
       "\n",
       "    .dataframe thead th {\n",
       "        text-align: right;\n",
       "    }\n",
       "</style>\n",
       "<table border=\"1\" class=\"dataframe\">\n",
       "  <thead>\n",
       "    <tr style=\"text-align: right;\">\n",
       "      <th></th>\n",
       "      <th>CMPLNT_NUM</th>\n",
       "      <th>CMPLNT_FR_DT</th>\n",
       "      <th>CMPLNT_FR_TM</th>\n",
       "      <th>CMPLNT_TO_DT</th>\n",
       "      <th>CMPLNT_TO_TM</th>\n",
       "      <th>ADDR_PCT_CD</th>\n",
       "      <th>RPT_DT</th>\n",
       "      <th>KY_CD</th>\n",
       "      <th>OFNS_DESC</th>\n",
       "      <th>PD_CD</th>\n",
       "      <th>...</th>\n",
       "      <th>SUSP_SEX</th>\n",
       "      <th>TRANSIT_DISTRICT</th>\n",
       "      <th>Latitude</th>\n",
       "      <th>Longitude</th>\n",
       "      <th>Lat_Lon</th>\n",
       "      <th>PATROL_BORO</th>\n",
       "      <th>STATION_NAME</th>\n",
       "      <th>VIC_AGE_GROUP</th>\n",
       "      <th>VIC_RACE</th>\n",
       "      <th>VIC_SEX</th>\n",
       "    </tr>\n",
       "  </thead>\n",
       "  <tbody>\n",
       "    <tr>\n",
       "      <th>0</th>\n",
       "      <td>325341655</td>\n",
       "      <td>02/11/2015</td>\n",
       "      <td>15:00:00</td>\n",
       "      <td>NaN</td>\n",
       "      <td>NaN</td>\n",
       "      <td>73.0</td>\n",
       "      <td>02/11/2015</td>\n",
       "      <td>359</td>\n",
       "      <td>OFFENSES AGAINST PUBLIC ADMINI</td>\n",
       "      <td>749.0</td>\n",
       "      <td>...</td>\n",
       "      <td>M</td>\n",
       "      <td>NaN</td>\n",
       "      <td>40.664239</td>\n",
       "      <td>-73.908425</td>\n",
       "      <td>(40.664239422, -73.908425011)</td>\n",
       "      <td>PATROL BORO BKLYN NORTH</td>\n",
       "      <td>NaN</td>\n",
       "      <td>&lt;18</td>\n",
       "      <td>BLACK</td>\n",
       "      <td>M</td>\n",
       "    </tr>\n",
       "    <tr>\n",
       "      <th>1</th>\n",
       "      <td>393816841</td>\n",
       "      <td>03/17/2012</td>\n",
       "      <td>10:30:00</td>\n",
       "      <td>03/17/2012</td>\n",
       "      <td>11:00:00</td>\n",
       "      <td>69.0</td>\n",
       "      <td>03/17/2012</td>\n",
       "      <td>344</td>\n",
       "      <td>ASSAULT 3 &amp; RELATED OFFENSES</td>\n",
       "      <td>114.0</td>\n",
       "      <td>...</td>\n",
       "      <td>NaN</td>\n",
       "      <td>NaN</td>\n",
       "      <td>40.644590</td>\n",
       "      <td>-73.892672</td>\n",
       "      <td>(40.644589618, -73.892672426)</td>\n",
       "      <td>PATROL BORO BKLYN SOUTH</td>\n",
       "      <td>NaN</td>\n",
       "      <td>45-64</td>\n",
       "      <td>BLACK</td>\n",
       "      <td>F</td>\n",
       "    </tr>\n",
       "    <tr>\n",
       "      <th>2</th>\n",
       "      <td>802896158</td>\n",
       "      <td>10/27/2016</td>\n",
       "      <td>13:48:00</td>\n",
       "      <td>11/03/2016</td>\n",
       "      <td>13:49:00</td>\n",
       "      <td>71.0</td>\n",
       "      <td>11/03/2016</td>\n",
       "      <td>578</td>\n",
       "      <td>HARRASSMENT 2</td>\n",
       "      <td>638.0</td>\n",
       "      <td>...</td>\n",
       "      <td>M</td>\n",
       "      <td>NaN</td>\n",
       "      <td>40.658758</td>\n",
       "      <td>-73.942435</td>\n",
       "      <td>(40.658758183, -73.942434788)</td>\n",
       "      <td>PATROL BORO BKLYN SOUTH</td>\n",
       "      <td>NaN</td>\n",
       "      <td>18-24</td>\n",
       "      <td>BLACK</td>\n",
       "      <td>M</td>\n",
       "    </tr>\n",
       "    <tr>\n",
       "      <th>3</th>\n",
       "      <td>633812343</td>\n",
       "      <td>11/27/2014</td>\n",
       "      <td>19:00:00</td>\n",
       "      <td>11/27/2014</td>\n",
       "      <td>22:30:00</td>\n",
       "      <td>112.0</td>\n",
       "      <td>11/28/2014</td>\n",
       "      <td>104</td>\n",
       "      <td>RAPE</td>\n",
       "      <td>157.0</td>\n",
       "      <td>...</td>\n",
       "      <td>M</td>\n",
       "      <td>NaN</td>\n",
       "      <td>40.722364</td>\n",
       "      <td>-73.851474</td>\n",
       "      <td>(40.722363687, -73.851473894)</td>\n",
       "      <td>PATROL BORO QUEENS NORTH</td>\n",
       "      <td>NaN</td>\n",
       "      <td>25-44</td>\n",
       "      <td>WHITE</td>\n",
       "      <td>F</td>\n",
       "    </tr>\n",
       "    <tr>\n",
       "      <th>4</th>\n",
       "      <td>300349533</td>\n",
       "      <td>12/11/2013</td>\n",
       "      <td>13:30:00</td>\n",
       "      <td>12/11/2013</td>\n",
       "      <td>14:15:00</td>\n",
       "      <td>24.0</td>\n",
       "      <td>12/12/2013</td>\n",
       "      <td>109</td>\n",
       "      <td>GRAND LARCENY</td>\n",
       "      <td>438.0</td>\n",
       "      <td>...</td>\n",
       "      <td>NaN</td>\n",
       "      <td>NaN</td>\n",
       "      <td>40.793465</td>\n",
       "      <td>-73.968950</td>\n",
       "      <td>(40.793464597, -73.968949638)</td>\n",
       "      <td>PATROL BORO MAN NORTH</td>\n",
       "      <td>NaN</td>\n",
       "      <td>45-64</td>\n",
       "      <td>WHITE</td>\n",
       "      <td>F</td>\n",
       "    </tr>\n",
       "    <tr>\n",
       "      <th>5</th>\n",
       "      <td>944253539</td>\n",
       "      <td>08/28/2013</td>\n",
       "      <td>11:00:00</td>\n",
       "      <td>08/28/2013</td>\n",
       "      <td>11:30:00</td>\n",
       "      <td>63.0</td>\n",
       "      <td>08/28/2013</td>\n",
       "      <td>341</td>\n",
       "      <td>PETIT LARCENY</td>\n",
       "      <td>333.0</td>\n",
       "      <td>...</td>\n",
       "      <td>NaN</td>\n",
       "      <td>NaN</td>\n",
       "      <td>40.625320</td>\n",
       "      <td>-73.917874</td>\n",
       "      <td>(40.625319998, -73.917873518)</td>\n",
       "      <td>PATROL BORO BKLYN SOUTH</td>\n",
       "      <td>NaN</td>\n",
       "      <td>NaN</td>\n",
       "      <td>UNKNOWN</td>\n",
       "      <td>D</td>\n",
       "    </tr>\n",
       "    <tr>\n",
       "      <th>6</th>\n",
       "      <td>608679532</td>\n",
       "      <td>12/04/2013</td>\n",
       "      <td>18:30:00</td>\n",
       "      <td>12/04/2013</td>\n",
       "      <td>18:40:00</td>\n",
       "      <td>101.0</td>\n",
       "      <td>12/05/2013</td>\n",
       "      <td>361</td>\n",
       "      <td>OFF. AGNST PUB ORD SENSBLTY &amp;</td>\n",
       "      <td>639.0</td>\n",
       "      <td>...</td>\n",
       "      <td>F</td>\n",
       "      <td>NaN</td>\n",
       "      <td>40.600172</td>\n",
       "      <td>-73.756663</td>\n",
       "      <td>(40.600171728, -73.756663063)</td>\n",
       "      <td>PATROL BORO QUEENS SOUTH</td>\n",
       "      <td>NaN</td>\n",
       "      <td>45-64</td>\n",
       "      <td>BLACK</td>\n",
       "      <td>F</td>\n",
       "    </tr>\n",
       "    <tr>\n",
       "      <th>7</th>\n",
       "      <td>882178622</td>\n",
       "      <td>09/14/2013</td>\n",
       "      <td>08:40:00</td>\n",
       "      <td>09/14/2013</td>\n",
       "      <td>08:40:00</td>\n",
       "      <td>49.0</td>\n",
       "      <td>09/14/2013</td>\n",
       "      <td>578</td>\n",
       "      <td>HARRASSMENT 2</td>\n",
       "      <td>638.0</td>\n",
       "      <td>...</td>\n",
       "      <td>M</td>\n",
       "      <td>NaN</td>\n",
       "      <td>40.851041</td>\n",
       "      <td>-73.861441</td>\n",
       "      <td>(40.851041106, -73.861441322)</td>\n",
       "      <td>PATROL BORO BRONX</td>\n",
       "      <td>NaN</td>\n",
       "      <td>25-44</td>\n",
       "      <td>WHITE HISPANIC</td>\n",
       "      <td>F</td>\n",
       "    </tr>\n",
       "    <tr>\n",
       "      <th>8</th>\n",
       "      <td>240183498</td>\n",
       "      <td>01/31/2013</td>\n",
       "      <td>23:47:00</td>\n",
       "      <td>NaN</td>\n",
       "      <td>NaN</td>\n",
       "      <td>40.0</td>\n",
       "      <td>01/31/2013</td>\n",
       "      <td>352</td>\n",
       "      <td>CRIMINAL TRESPASS</td>\n",
       "      <td>205.0</td>\n",
       "      <td>...</td>\n",
       "      <td>NaN</td>\n",
       "      <td>NaN</td>\n",
       "      <td>40.805504</td>\n",
       "      <td>-73.916477</td>\n",
       "      <td>(40.805504347, -73.916477252)</td>\n",
       "      <td>PATROL BORO BRONX</td>\n",
       "      <td>NaN</td>\n",
       "      <td>NaN</td>\n",
       "      <td>UNKNOWN</td>\n",
       "      <td>E</td>\n",
       "    </tr>\n",
       "    <tr>\n",
       "      <th>9</th>\n",
       "      <td>895680254</td>\n",
       "      <td>09/17/2016</td>\n",
       "      <td>00:05:00</td>\n",
       "      <td>09/17/2016</td>\n",
       "      <td>00:15:00</td>\n",
       "      <td>60.0</td>\n",
       "      <td>09/17/2016</td>\n",
       "      <td>351</td>\n",
       "      <td>CRIMINAL MISCHIEF &amp; RELATED OF</td>\n",
       "      <td>259.0</td>\n",
       "      <td>...</td>\n",
       "      <td>M</td>\n",
       "      <td>NaN</td>\n",
       "      <td>40.572501</td>\n",
       "      <td>-73.999098</td>\n",
       "      <td>(40.572500982, -73.999097946)</td>\n",
       "      <td>PATROL BORO BKLYN SOUTH</td>\n",
       "      <td>NaN</td>\n",
       "      <td>25-44</td>\n",
       "      <td>BLACK</td>\n",
       "      <td>F</td>\n",
       "    </tr>\n",
       "  </tbody>\n",
       "</table>\n",
       "<p>10 rows × 35 columns</p>\n",
       "</div>"
      ],
      "text/plain": [
       "   CMPLNT_NUM CMPLNT_FR_DT CMPLNT_FR_TM CMPLNT_TO_DT CMPLNT_TO_TM  \\\n",
       "0   325341655   02/11/2015     15:00:00          NaN          NaN   \n",
       "1   393816841   03/17/2012     10:30:00   03/17/2012     11:00:00   \n",
       "2   802896158   10/27/2016     13:48:00   11/03/2016     13:49:00   \n",
       "3   633812343   11/27/2014     19:00:00   11/27/2014     22:30:00   \n",
       "4   300349533   12/11/2013     13:30:00   12/11/2013     14:15:00   \n",
       "5   944253539   08/28/2013     11:00:00   08/28/2013     11:30:00   \n",
       "6   608679532   12/04/2013     18:30:00   12/04/2013     18:40:00   \n",
       "7   882178622   09/14/2013     08:40:00   09/14/2013     08:40:00   \n",
       "8   240183498   01/31/2013     23:47:00          NaN          NaN   \n",
       "9   895680254   09/17/2016     00:05:00   09/17/2016     00:15:00   \n",
       "\n",
       "   ADDR_PCT_CD      RPT_DT  KY_CD                       OFNS_DESC  PD_CD  ...  \\\n",
       "0         73.0  02/11/2015    359  OFFENSES AGAINST PUBLIC ADMINI  749.0  ...   \n",
       "1         69.0  03/17/2012    344    ASSAULT 3 & RELATED OFFENSES  114.0  ...   \n",
       "2         71.0  11/03/2016    578                   HARRASSMENT 2  638.0  ...   \n",
       "3        112.0  11/28/2014    104                            RAPE  157.0  ...   \n",
       "4         24.0  12/12/2013    109                   GRAND LARCENY  438.0  ...   \n",
       "5         63.0  08/28/2013    341                   PETIT LARCENY  333.0  ...   \n",
       "6        101.0  12/05/2013    361   OFF. AGNST PUB ORD SENSBLTY &  639.0  ...   \n",
       "7         49.0  09/14/2013    578                   HARRASSMENT 2  638.0  ...   \n",
       "8         40.0  01/31/2013    352               CRIMINAL TRESPASS  205.0  ...   \n",
       "9         60.0  09/17/2016    351  CRIMINAL MISCHIEF & RELATED OF  259.0  ...   \n",
       "\n",
       "  SUSP_SEX TRANSIT_DISTRICT   Latitude  Longitude  \\\n",
       "0        M              NaN  40.664239 -73.908425   \n",
       "1      NaN              NaN  40.644590 -73.892672   \n",
       "2        M              NaN  40.658758 -73.942435   \n",
       "3        M              NaN  40.722364 -73.851474   \n",
       "4      NaN              NaN  40.793465 -73.968950   \n",
       "5      NaN              NaN  40.625320 -73.917874   \n",
       "6        F              NaN  40.600172 -73.756663   \n",
       "7        M              NaN  40.851041 -73.861441   \n",
       "8      NaN              NaN  40.805504 -73.916477   \n",
       "9        M              NaN  40.572501 -73.999098   \n",
       "\n",
       "                         Lat_Lon               PATROL_BORO STATION_NAME  \\\n",
       "0  (40.664239422, -73.908425011)   PATROL BORO BKLYN NORTH          NaN   \n",
       "1  (40.644589618, -73.892672426)   PATROL BORO BKLYN SOUTH          NaN   \n",
       "2  (40.658758183, -73.942434788)   PATROL BORO BKLYN SOUTH          NaN   \n",
       "3  (40.722363687, -73.851473894)  PATROL BORO QUEENS NORTH          NaN   \n",
       "4  (40.793464597, -73.968949638)     PATROL BORO MAN NORTH          NaN   \n",
       "5  (40.625319998, -73.917873518)   PATROL BORO BKLYN SOUTH          NaN   \n",
       "6  (40.600171728, -73.756663063)  PATROL BORO QUEENS SOUTH          NaN   \n",
       "7  (40.851041106, -73.861441322)         PATROL BORO BRONX          NaN   \n",
       "8  (40.805504347, -73.916477252)         PATROL BORO BRONX          NaN   \n",
       "9  (40.572500982, -73.999097946)   PATROL BORO BKLYN SOUTH          NaN   \n",
       "\n",
       "   VIC_AGE_GROUP        VIC_RACE VIC_SEX  \n",
       "0            <18           BLACK       M  \n",
       "1          45-64           BLACK       F  \n",
       "2          18-24           BLACK       M  \n",
       "3          25-44           WHITE       F  \n",
       "4          45-64           WHITE       F  \n",
       "5            NaN         UNKNOWN       D  \n",
       "6          45-64           BLACK       F  \n",
       "7          25-44  WHITE HISPANIC       F  \n",
       "8            NaN         UNKNOWN       E  \n",
       "9          25-44           BLACK       F  \n",
       "\n",
       "[10 rows x 35 columns]"
      ]
     },
     "execution_count": 1,
     "metadata": {},
     "output_type": "execute_result"
    }
   ],
   "source": [
    "import pandas as pd\n",
    "df = pd.read_csv('../raw_data/NYPD_Complaint_Data_Historic.csv')\n",
    "df.head(10)"
   ]
  },
  {
   "cell_type": "code",
   "execution_count": null,
   "metadata": {
    "ExecuteTime": {
     "end_time": "2020-12-01T14:12:16.366797Z",
     "start_time": "2020-12-01T14:12:16.332313Z"
    }
   },
   "outputs": [],
   "source": [
    "#df.info()"
   ]
  },
  {
   "cell_type": "code",
   "execution_count": null,
   "metadata": {
    "ExecuteTime": {
     "end_time": "2020-12-01T14:12:24.762901Z",
     "start_time": "2020-12-01T14:12:16.385289Z"
    }
   },
   "outputs": [],
   "source": [
    "#df.isna().sum()"
   ]
  },
  {
   "cell_type": "code",
   "execution_count": null,
   "metadata": {
    "ExecuteTime": {
     "end_time": "2020-12-01T14:12:26.048464Z",
     "start_time": "2020-12-01T14:12:24.769846Z"
    }
   },
   "outputs": [],
   "source": [
    "#df['CMPLNT_FR_DT'].value_counts()"
   ]
  },
  {
   "cell_type": "code",
   "execution_count": null,
   "metadata": {
    "ExecuteTime": {
     "end_time": "2020-12-01T14:12:49.073594Z",
     "start_time": "2020-12-01T14:12:26.054766Z"
    }
   },
   "outputs": [],
   "source": [
    "#df['CMPLNT_FR_DT'].sort_values()[:-655]"
   ]
  },
  {
   "cell_type": "code",
   "execution_count": null,
   "metadata": {
    "ExecuteTime": {
     "end_time": "2020-12-01T14:12:49.664861Z",
     "start_time": "2020-12-01T14:12:49.081990Z"
    }
   },
   "outputs": [],
   "source": [
    "#df['BORO_NM'].unique()"
   ]
  },
  {
   "cell_type": "code",
   "execution_count": null,
   "metadata": {
    "ExecuteTime": {
     "end_time": "2020-12-01T14:12:50.581253Z",
     "start_time": "2020-12-01T14:12:49.677109Z"
    }
   },
   "outputs": [],
   "source": [
    "#df['CRM_ATPT_CPTD_CD'].value_counts()"
   ]
  },
  {
   "cell_type": "code",
   "execution_count": null,
   "metadata": {
    "ExecuteTime": {
     "end_time": "2020-12-01T14:12:51.549404Z",
     "start_time": "2020-12-01T14:12:50.592701Z"
    }
   },
   "outputs": [],
   "source": [
    "#df['LAW_CAT_CD'].value_counts()"
   ]
  },
  {
   "cell_type": "code",
   "execution_count": null,
   "metadata": {
    "ExecuteTime": {
     "end_time": "2020-12-01T14:12:52.317733Z",
     "start_time": "2020-12-01T14:12:51.563637Z"
    }
   },
   "outputs": [],
   "source": [
    "#df['VIC_SEX'].value_counts()"
   ]
  },
  {
   "cell_type": "code",
   "execution_count": null,
   "metadata": {
    "ExecuteTime": {
     "end_time": "2020-12-01T14:12:54.460849Z",
     "start_time": "2020-12-01T14:12:52.332950Z"
    }
   },
   "outputs": [],
   "source": [
    "#df[df['LAW_CAT_CD']=='VIOLATION']"
   ]
  },
  {
   "cell_type": "code",
   "execution_count": null,
   "metadata": {
    "ExecuteTime": {
     "end_time": "2020-12-01T14:12:55.100095Z",
     "start_time": "2020-12-01T14:12:54.465353Z"
    }
   },
   "outputs": [],
   "source": [
    "#df['PREM_TYP_DESC'].unique()"
   ]
  },
  {
   "cell_type": "code",
   "execution_count": null,
   "metadata": {
    "ExecuteTime": {
     "end_time": "2020-12-01T14:12:55.195463Z",
     "start_time": "2020-12-01T14:12:55.117017Z"
    }
   },
   "outputs": [],
   "source": [
    "#len(df['KY_CD'].unique())"
   ]
  },
  {
   "cell_type": "code",
   "execution_count": null,
   "metadata": {
    "ExecuteTime": {
     "end_time": "2020-12-01T14:12:55.296283Z",
     "start_time": "2020-12-01T14:12:55.210724Z"
    }
   },
   "outputs": [],
   "source": [
    "#df['KY_CD'].value_counts()"
   ]
  },
  {
   "cell_type": "code",
   "execution_count": null,
   "metadata": {
    "ExecuteTime": {
     "end_time": "2020-12-01T14:12:56.400242Z",
     "start_time": "2020-12-01T14:12:55.307795Z"
    }
   },
   "outputs": [],
   "source": [
    "#df['PD_DESC'].value_counts()"
   ]
  },
  {
   "cell_type": "code",
   "execution_count": null,
   "metadata": {
    "ExecuteTime": {
     "end_time": "2020-12-01T14:12:57.473465Z",
     "start_time": "2020-12-01T14:12:56.408829Z"
    }
   },
   "outputs": [],
   "source": [
    "#df['OFNS_DESC'].value_counts()"
   ]
  },
  {
   "cell_type": "code",
   "execution_count": null,
   "metadata": {
    "ExecuteTime": {
     "end_time": "2020-12-01T14:12:58.461533Z",
     "start_time": "2020-12-01T14:12:57.482908Z"
    }
   },
   "outputs": [],
   "source": [
    "#df['JURIS_DESC'].value_counts()"
   ]
  },
  {
   "cell_type": "code",
   "execution_count": null,
   "metadata": {
    "ExecuteTime": {
     "end_time": "2020-12-01T14:12:59.096202Z",
     "start_time": "2020-12-01T14:12:58.469486Z"
    }
   },
   "outputs": [],
   "source": [
    "#df['OFNS_DESC'].unique()"
   ]
  },
  {
   "cell_type": "code",
   "execution_count": null,
   "metadata": {
    "ExecuteTime": {
     "end_time": "2020-12-01T14:13:00.189279Z",
     "start_time": "2020-12-01T14:12:59.108871Z"
    }
   },
   "outputs": [],
   "source": [
    "#df[df['JURIS_DESC']=='N.Y. HOUSING POLICE']['OFNS_DESC']"
   ]
  },
  {
   "cell_type": "code",
   "execution_count": null,
   "metadata": {
    "ExecuteTime": {
     "end_time": "2020-12-01T14:13:00.732642Z",
     "start_time": "2020-12-01T14:13:00.196625Z"
    }
   },
   "outputs": [],
   "source": [
    "@#df['LOC_OF_OCCUR_DESC'].unique()"
   ]
  },
  {
   "cell_type": "code",
   "execution_count": null,
   "metadata": {
    "ExecuteTime": {
     "end_time": "2020-12-01T14:13:01.253894Z",
     "start_time": "2020-12-01T14:13:00.743756Z"
    }
   },
   "outputs": [],
   "source": [
    "#df['STATION_NAME'].value_counts()"
   ]
  },
  {
   "cell_type": "code",
   "execution_count": null,
   "metadata": {
    "ExecuteTime": {
     "end_time": "2020-12-01T14:13:01.450090Z",
     "start_time": "2020-12-01T14:13:01.266213Z"
    }
   },
   "outputs": [],
   "source": [
    "#df['X_COORD_CD'].value_counts()"
   ]
  },
  {
   "cell_type": "code",
   "execution_count": null,
   "metadata": {
    "ExecuteTime": {
     "end_time": "2020-12-01T14:13:01.641128Z",
     "start_time": "2020-12-01T14:13:01.455939Z"
    }
   },
   "outputs": [],
   "source": [
    "#df[['X_COORD_CD', 'Y_COORD_CD', 'Latitude', 'Longitude']]"
   ]
  },
  {
   "cell_type": "code",
   "execution_count": 2,
   "metadata": {
    "ExecuteTime": {
     "end_time": "2020-12-01T14:19:18.541718Z",
     "start_time": "2020-12-01T14:19:17.164068Z"
    }
   },
   "outputs": [
    {
     "data": {
      "text/html": [
       "<div>\n",
       "<style scoped>\n",
       "    .dataframe tbody tr th:only-of-type {\n",
       "        vertical-align: middle;\n",
       "    }\n",
       "\n",
       "    .dataframe tbody tr th {\n",
       "        vertical-align: top;\n",
       "    }\n",
       "\n",
       "    .dataframe thead th {\n",
       "        text-align: right;\n",
       "    }\n",
       "</style>\n",
       "<table border=\"1\" class=\"dataframe\">\n",
       "  <thead>\n",
       "    <tr style=\"text-align: right;\">\n",
       "      <th></th>\n",
       "      <th>CMPLNT_NUM</th>\n",
       "      <th>CMPLNT_FR_DT</th>\n",
       "      <th>CMPLNT_FR_TM</th>\n",
       "      <th>ADDR_PCT_CD</th>\n",
       "      <th>OFNS_DESC</th>\n",
       "      <th>CRM_ATPT_CPTD_CD</th>\n",
       "      <th>LAW_CAT_CD</th>\n",
       "      <th>BORO_NM</th>\n",
       "      <th>LOC_OF_OCCUR_DESC</th>\n",
       "      <th>PREM_TYP_DESC</th>\n",
       "      <th>...</th>\n",
       "      <th>SUSP_AGE_GROUP</th>\n",
       "      <th>SUSP_RACE</th>\n",
       "      <th>SUSP_SEX</th>\n",
       "      <th>Latitude</th>\n",
       "      <th>Longitude</th>\n",
       "      <th>PATROL_BORO</th>\n",
       "      <th>STATION_NAME</th>\n",
       "      <th>VIC_AGE_GROUP</th>\n",
       "      <th>VIC_RACE</th>\n",
       "      <th>VIC_SEX</th>\n",
       "    </tr>\n",
       "  </thead>\n",
       "  <tbody>\n",
       "    <tr>\n",
       "      <th>0</th>\n",
       "      <td>325341655</td>\n",
       "      <td>02/11/2015</td>\n",
       "      <td>15:00:00</td>\n",
       "      <td>73.0</td>\n",
       "      <td>OFFENSES AGAINST PUBLIC ADMINI</td>\n",
       "      <td>COMPLETED</td>\n",
       "      <td>MISDEMEANOR</td>\n",
       "      <td>BROOKLYN</td>\n",
       "      <td>INSIDE</td>\n",
       "      <td>RESIDENCE - PUBLIC HOUSING</td>\n",
       "      <td>...</td>\n",
       "      <td>25-44</td>\n",
       "      <td>BLACK</td>\n",
       "      <td>M</td>\n",
       "      <td>40.664239</td>\n",
       "      <td>-73.908425</td>\n",
       "      <td>PATROL BORO BKLYN NORTH</td>\n",
       "      <td>NaN</td>\n",
       "      <td>&lt;18</td>\n",
       "      <td>BLACK</td>\n",
       "      <td>M</td>\n",
       "    </tr>\n",
       "    <tr>\n",
       "      <th>1</th>\n",
       "      <td>393816841</td>\n",
       "      <td>03/17/2012</td>\n",
       "      <td>10:30:00</td>\n",
       "      <td>69.0</td>\n",
       "      <td>ASSAULT 3 &amp; RELATED OFFENSES</td>\n",
       "      <td>COMPLETED</td>\n",
       "      <td>MISDEMEANOR</td>\n",
       "      <td>BROOKLYN</td>\n",
       "      <td>INSIDE</td>\n",
       "      <td>RESIDENCE-HOUSE</td>\n",
       "      <td>...</td>\n",
       "      <td>NaN</td>\n",
       "      <td>NaN</td>\n",
       "      <td>NaN</td>\n",
       "      <td>40.644590</td>\n",
       "      <td>-73.892672</td>\n",
       "      <td>PATROL BORO BKLYN SOUTH</td>\n",
       "      <td>NaN</td>\n",
       "      <td>45-64</td>\n",
       "      <td>BLACK</td>\n",
       "      <td>F</td>\n",
       "    </tr>\n",
       "    <tr>\n",
       "      <th>2</th>\n",
       "      <td>802896158</td>\n",
       "      <td>10/27/2016</td>\n",
       "      <td>13:48:00</td>\n",
       "      <td>71.0</td>\n",
       "      <td>HARRASSMENT 2</td>\n",
       "      <td>COMPLETED</td>\n",
       "      <td>VIOLATION</td>\n",
       "      <td>BROOKLYN</td>\n",
       "      <td>INSIDE</td>\n",
       "      <td>PUBLIC SCHOOL</td>\n",
       "      <td>...</td>\n",
       "      <td>&lt;18</td>\n",
       "      <td>BLACK</td>\n",
       "      <td>M</td>\n",
       "      <td>40.658758</td>\n",
       "      <td>-73.942435</td>\n",
       "      <td>PATROL BORO BKLYN SOUTH</td>\n",
       "      <td>NaN</td>\n",
       "      <td>18-24</td>\n",
       "      <td>BLACK</td>\n",
       "      <td>M</td>\n",
       "    </tr>\n",
       "    <tr>\n",
       "      <th>3</th>\n",
       "      <td>633812343</td>\n",
       "      <td>11/27/2014</td>\n",
       "      <td>19:00:00</td>\n",
       "      <td>112.0</td>\n",
       "      <td>RAPE</td>\n",
       "      <td>COMPLETED</td>\n",
       "      <td>FELONY</td>\n",
       "      <td>QUEENS</td>\n",
       "      <td>INSIDE</td>\n",
       "      <td>RESIDENCE - APT. HOUSE</td>\n",
       "      <td>...</td>\n",
       "      <td>25-44</td>\n",
       "      <td>WHITE HISPANIC</td>\n",
       "      <td>M</td>\n",
       "      <td>40.722364</td>\n",
       "      <td>-73.851474</td>\n",
       "      <td>PATROL BORO QUEENS NORTH</td>\n",
       "      <td>NaN</td>\n",
       "      <td>25-44</td>\n",
       "      <td>WHITE</td>\n",
       "      <td>F</td>\n",
       "    </tr>\n",
       "    <tr>\n",
       "      <th>4</th>\n",
       "      <td>300349533</td>\n",
       "      <td>12/11/2013</td>\n",
       "      <td>13:30:00</td>\n",
       "      <td>24.0</td>\n",
       "      <td>GRAND LARCENY</td>\n",
       "      <td>COMPLETED</td>\n",
       "      <td>FELONY</td>\n",
       "      <td>MANHATTAN</td>\n",
       "      <td>INSIDE</td>\n",
       "      <td>DOCTOR/DENTIST OFFICE</td>\n",
       "      <td>...</td>\n",
       "      <td>NaN</td>\n",
       "      <td>NaN</td>\n",
       "      <td>NaN</td>\n",
       "      <td>40.793465</td>\n",
       "      <td>-73.968950</td>\n",
       "      <td>PATROL BORO MAN NORTH</td>\n",
       "      <td>NaN</td>\n",
       "      <td>45-64</td>\n",
       "      <td>WHITE</td>\n",
       "      <td>F</td>\n",
       "    </tr>\n",
       "  </tbody>\n",
       "</table>\n",
       "<p>5 rows × 22 columns</p>\n",
       "</div>"
      ],
      "text/plain": [
       "   CMPLNT_NUM CMPLNT_FR_DT CMPLNT_FR_TM  ADDR_PCT_CD  \\\n",
       "0   325341655   02/11/2015     15:00:00         73.0   \n",
       "1   393816841   03/17/2012     10:30:00         69.0   \n",
       "2   802896158   10/27/2016     13:48:00         71.0   \n",
       "3   633812343   11/27/2014     19:00:00        112.0   \n",
       "4   300349533   12/11/2013     13:30:00         24.0   \n",
       "\n",
       "                        OFNS_DESC CRM_ATPT_CPTD_CD   LAW_CAT_CD    BORO_NM  \\\n",
       "0  OFFENSES AGAINST PUBLIC ADMINI        COMPLETED  MISDEMEANOR   BROOKLYN   \n",
       "1    ASSAULT 3 & RELATED OFFENSES        COMPLETED  MISDEMEANOR   BROOKLYN   \n",
       "2                   HARRASSMENT 2        COMPLETED    VIOLATION   BROOKLYN   \n",
       "3                            RAPE        COMPLETED       FELONY     QUEENS   \n",
       "4                   GRAND LARCENY        COMPLETED       FELONY  MANHATTAN   \n",
       "\n",
       "  LOC_OF_OCCUR_DESC               PREM_TYP_DESC  ... SUSP_AGE_GROUP  \\\n",
       "0            INSIDE  RESIDENCE - PUBLIC HOUSING  ...          25-44   \n",
       "1            INSIDE             RESIDENCE-HOUSE  ...            NaN   \n",
       "2            INSIDE               PUBLIC SCHOOL  ...            <18   \n",
       "3            INSIDE      RESIDENCE - APT. HOUSE  ...          25-44   \n",
       "4            INSIDE       DOCTOR/DENTIST OFFICE  ...            NaN   \n",
       "\n",
       "        SUSP_RACE SUSP_SEX   Latitude  Longitude               PATROL_BORO  \\\n",
       "0           BLACK        M  40.664239 -73.908425   PATROL BORO BKLYN NORTH   \n",
       "1             NaN      NaN  40.644590 -73.892672   PATROL BORO BKLYN SOUTH   \n",
       "2           BLACK        M  40.658758 -73.942435   PATROL BORO BKLYN SOUTH   \n",
       "3  WHITE HISPANIC        M  40.722364 -73.851474  PATROL BORO QUEENS NORTH   \n",
       "4             NaN      NaN  40.793465 -73.968950     PATROL BORO MAN NORTH   \n",
       "\n",
       "   STATION_NAME VIC_AGE_GROUP VIC_RACE VIC_SEX  \n",
       "0           NaN           <18    BLACK       M  \n",
       "1           NaN         45-64    BLACK       F  \n",
       "2           NaN         18-24    BLACK       M  \n",
       "3           NaN         25-44    WHITE       F  \n",
       "4           NaN         45-64    WHITE       F  \n",
       "\n",
       "[5 rows x 22 columns]"
      ]
     },
     "execution_count": 2,
     "metadata": {},
     "output_type": "execute_result"
    }
   ],
   "source": [
    "data = df.drop(columns=['CMPLNT_TO_DT',\\\n",
    "                      'CMPLNT_TO_TM', \\\n",
    "                      'HADEVELOPT',\\\n",
    "                      'HOUSING_PSA',\\\n",
    "                     'JURISDICTION_CODE',\\\n",
    "                      'KY_CD',\\\n",
    "                      'PD_CD',\\\n",
    "                      'PD_DESC',\\\n",
    "                      'RPT_DT',\\\n",
    "                      'TRANSIT_DISTRICT',\\\n",
    "                      'X_COORD_CD',\\\n",
    "                      'Y_COORD_CD',\\\n",
    "                        'Lat_Lon'\n",
    "                     ])\n",
    "del df\n",
    "data.head()"
   ]
  },
  {
   "cell_type": "code",
   "execution_count": 3,
   "metadata": {
    "ExecuteTime": {
     "end_time": "2020-12-01T14:19:34.980229Z",
     "start_time": "2020-12-01T14:19:34.973892Z"
    }
   },
   "outputs": [
    {
     "data": {
      "text/plain": [
       "Index(['CMPLNT_NUM', 'CMPLNT_FR_DT', 'CMPLNT_FR_TM', 'ADDR_PCT_CD',\n",
       "       'OFNS_DESC', 'CRM_ATPT_CPTD_CD', 'LAW_CAT_CD', 'BORO_NM',\n",
       "       'LOC_OF_OCCUR_DESC', 'PREM_TYP_DESC', 'JURIS_DESC', 'PARKS_NM',\n",
       "       'SUSP_AGE_GROUP', 'SUSP_RACE', 'SUSP_SEX', 'Latitude', 'Longitude',\n",
       "       'PATROL_BORO', 'STATION_NAME', 'VIC_AGE_GROUP', 'VIC_RACE', 'VIC_SEX'],\n",
       "      dtype='object')"
      ]
     },
     "execution_count": 3,
     "metadata": {},
     "output_type": "execute_result"
    }
   ],
   "source": [
    "data.columns"
   ]
  },
  {
   "cell_type": "code",
   "execution_count": 4,
   "metadata": {
    "ExecuteTime": {
     "end_time": "2020-12-01T14:19:51.396371Z",
     "start_time": "2020-12-01T14:19:51.389786Z"
    }
   },
   "outputs": [],
   "source": [
    "# Rename columns for coherence\n",
    "columns_dic={\"CMPLNT_NUM\":'complaint_id',\\\n",
    "        'CMPLNT_FR_DT':'date',\\\n",
    "        'CMPLNT_FR_TM':'time',\\\n",
    "\n",
    "         'LAW_CAT_CD':'offense_level',\\\n",
    "         'OFNS_DESC':'offense_type',\\\n",
    "         'CRM_ATPT_CPTD_CD':'crime_completed',\\\n",
    "\n",
    "         'LOC_OF_OCCUR_DESC':'premise_desc',\\\n",
    "         'PREM_TYP_DESC':'premise',\\\n",
    "         'Latitude':'latitude',\\\n",
    "         'Longitude':'longitude',\\\n",
    "          'BORO_NM':'borough',\\\n",
    "          'PATROL_BORO':'patrol_borough',\\\n",
    "         'ADDR_PCT_CD':'precinct_number',\\\n",
    "         'JURIS_DESC':'jurisdiction',\\\n",
    "\n",
    "         'SUSP_AGE_GROUP':'suspect_age',\\\n",
    "         'SUSP_RACE':'suspect_race',\\\n",
    "         'SUSP_SEX':'suspect_sex',\\\n",
    "         'VIC_AGE_GROUP':'victim_age',\\\n",
    "         'VIC_RACE':'victim_race',\\\n",
    "         'VIC_SEX':'victim_sex',\\\n",
    "         'PARKS_NM':'park_name',\\\n",
    "         'STATION_NAME':'metro',\\\n",
    "                    }"
   ]
  },
  {
   "cell_type": "code",
   "execution_count": 5,
   "metadata": {
    "ExecuteTime": {
     "end_time": "2020-12-01T14:20:12.486262Z",
     "start_time": "2020-12-01T14:20:12.476560Z"
    }
   },
   "outputs": [],
   "source": [
    "data.rename(columns=columns_dic, inplace=True)"
   ]
  },
  {
   "cell_type": "code",
   "execution_count": 6,
   "metadata": {
    "ExecuteTime": {
     "end_time": "2020-12-01T14:20:28.345324Z",
     "start_time": "2020-12-01T14:20:28.334364Z"
    }
   },
   "outputs": [
    {
     "data": {
      "text/plain": [
       "Index(['complaint_id', 'date', 'time', 'precinct_number', 'offense_type',\n",
       "       'crime_completed', 'offense_level', 'borough', 'premise_desc',\n",
       "       'premise', 'jurisdiction', 'park_name', 'suspect_age', 'suspect_race',\n",
       "       'suspect_sex', 'latitude', 'longitude', 'patrol_borough', 'metro',\n",
       "       'victim_age', 'victim_race', 'victim_sex'],\n",
       "      dtype='object')"
      ]
     },
     "execution_count": 6,
     "metadata": {},
     "output_type": "execute_result"
    }
   ],
   "source": [
    "data.columns"
   ]
  },
  {
   "cell_type": "code",
   "execution_count": 7,
   "metadata": {
    "ExecuteTime": {
     "end_time": "2020-12-01T14:20:44.148840Z",
     "start_time": "2020-12-01T14:20:44.138725Z"
    }
   },
   "outputs": [
    {
     "data": {
      "text/plain": [
       "['complaint_id',\n",
       " 'date',\n",
       " 'time',\n",
       " 'offense_level',\n",
       " 'offense_type',\n",
       " 'crime_completed',\n",
       " 'premise_desc',\n",
       " 'premise',\n",
       " 'latitude',\n",
       " 'longitude',\n",
       " 'borough',\n",
       " 'patrol_borough',\n",
       " 'precinct_number',\n",
       " 'jurisdiction',\n",
       " 'suspect_age',\n",
       " 'suspect_race',\n",
       " 'suspect_sex',\n",
       " 'victim_age',\n",
       " 'victim_race',\n",
       " 'victim_sex',\n",
       " 'park_name',\n",
       " 'metro']"
      ]
     },
     "execution_count": 7,
     "metadata": {},
     "output_type": "execute_result"
    }
   ],
   "source": [
    "list_column = list(columns_dic.values())\n",
    "list_column"
   ]
  },
  {
   "cell_type": "code",
   "execution_count": 8,
   "metadata": {
    "ExecuteTime": {
     "end_time": "2020-12-01T14:21:07.134708Z",
     "start_time": "2020-12-01T14:21:00.105201Z"
    }
   },
   "outputs": [
    {
     "data": {
      "text/html": [
       "<div>\n",
       "<style scoped>\n",
       "    .dataframe tbody tr th:only-of-type {\n",
       "        vertical-align: middle;\n",
       "    }\n",
       "\n",
       "    .dataframe tbody tr th {\n",
       "        vertical-align: top;\n",
       "    }\n",
       "\n",
       "    .dataframe thead th {\n",
       "        text-align: right;\n",
       "    }\n",
       "</style>\n",
       "<table border=\"1\" class=\"dataframe\">\n",
       "  <thead>\n",
       "    <tr style=\"text-align: right;\">\n",
       "      <th></th>\n",
       "      <th>complaint_id</th>\n",
       "      <th>date</th>\n",
       "      <th>time</th>\n",
       "      <th>offense_level</th>\n",
       "      <th>offense_type</th>\n",
       "      <th>crime_completed</th>\n",
       "      <th>premise_desc</th>\n",
       "      <th>premise</th>\n",
       "      <th>latitude</th>\n",
       "      <th>longitude</th>\n",
       "      <th>...</th>\n",
       "      <th>precinct_number</th>\n",
       "      <th>jurisdiction</th>\n",
       "      <th>suspect_age</th>\n",
       "      <th>suspect_race</th>\n",
       "      <th>suspect_sex</th>\n",
       "      <th>victim_age</th>\n",
       "      <th>victim_race</th>\n",
       "      <th>victim_sex</th>\n",
       "      <th>park_name</th>\n",
       "      <th>metro</th>\n",
       "    </tr>\n",
       "  </thead>\n",
       "  <tbody>\n",
       "    <tr>\n",
       "      <th>0</th>\n",
       "      <td>325341655</td>\n",
       "      <td>02/11/2015</td>\n",
       "      <td>15:00:00</td>\n",
       "      <td>MISDEMEANOR</td>\n",
       "      <td>OFFENSES AGAINST PUBLIC ADMINI</td>\n",
       "      <td>COMPLETED</td>\n",
       "      <td>INSIDE</td>\n",
       "      <td>RESIDENCE - PUBLIC HOUSING</td>\n",
       "      <td>40.664239</td>\n",
       "      <td>-73.908425</td>\n",
       "      <td>...</td>\n",
       "      <td>73.0</td>\n",
       "      <td>N.Y. HOUSING POLICE</td>\n",
       "      <td>25-44</td>\n",
       "      <td>BLACK</td>\n",
       "      <td>M</td>\n",
       "      <td>&lt;18</td>\n",
       "      <td>BLACK</td>\n",
       "      <td>M</td>\n",
       "      <td>NaN</td>\n",
       "      <td>NaN</td>\n",
       "    </tr>\n",
       "    <tr>\n",
       "      <th>1</th>\n",
       "      <td>393816841</td>\n",
       "      <td>03/17/2012</td>\n",
       "      <td>10:30:00</td>\n",
       "      <td>MISDEMEANOR</td>\n",
       "      <td>ASSAULT 3 &amp; RELATED OFFENSES</td>\n",
       "      <td>COMPLETED</td>\n",
       "      <td>INSIDE</td>\n",
       "      <td>RESIDENCE-HOUSE</td>\n",
       "      <td>40.644590</td>\n",
       "      <td>-73.892672</td>\n",
       "      <td>...</td>\n",
       "      <td>69.0</td>\n",
       "      <td>N.Y. POLICE DEPT</td>\n",
       "      <td>NaN</td>\n",
       "      <td>NaN</td>\n",
       "      <td>NaN</td>\n",
       "      <td>45-64</td>\n",
       "      <td>BLACK</td>\n",
       "      <td>F</td>\n",
       "      <td>NaN</td>\n",
       "      <td>NaN</td>\n",
       "    </tr>\n",
       "    <tr>\n",
       "      <th>2</th>\n",
       "      <td>802896158</td>\n",
       "      <td>10/27/2016</td>\n",
       "      <td>13:48:00</td>\n",
       "      <td>VIOLATION</td>\n",
       "      <td>HARRASSMENT 2</td>\n",
       "      <td>COMPLETED</td>\n",
       "      <td>INSIDE</td>\n",
       "      <td>PUBLIC SCHOOL</td>\n",
       "      <td>40.658758</td>\n",
       "      <td>-73.942435</td>\n",
       "      <td>...</td>\n",
       "      <td>71.0</td>\n",
       "      <td>N.Y. POLICE DEPT</td>\n",
       "      <td>&lt;18</td>\n",
       "      <td>BLACK</td>\n",
       "      <td>M</td>\n",
       "      <td>18-24</td>\n",
       "      <td>BLACK</td>\n",
       "      <td>M</td>\n",
       "      <td>NaN</td>\n",
       "      <td>NaN</td>\n",
       "    </tr>\n",
       "    <tr>\n",
       "      <th>3</th>\n",
       "      <td>633812343</td>\n",
       "      <td>11/27/2014</td>\n",
       "      <td>19:00:00</td>\n",
       "      <td>FELONY</td>\n",
       "      <td>RAPE</td>\n",
       "      <td>COMPLETED</td>\n",
       "      <td>INSIDE</td>\n",
       "      <td>RESIDENCE - APT. HOUSE</td>\n",
       "      <td>40.722364</td>\n",
       "      <td>-73.851474</td>\n",
       "      <td>...</td>\n",
       "      <td>112.0</td>\n",
       "      <td>N.Y. POLICE DEPT</td>\n",
       "      <td>25-44</td>\n",
       "      <td>WHITE HISPANIC</td>\n",
       "      <td>M</td>\n",
       "      <td>25-44</td>\n",
       "      <td>WHITE</td>\n",
       "      <td>F</td>\n",
       "      <td>NaN</td>\n",
       "      <td>NaN</td>\n",
       "    </tr>\n",
       "    <tr>\n",
       "      <th>4</th>\n",
       "      <td>300349533</td>\n",
       "      <td>12/11/2013</td>\n",
       "      <td>13:30:00</td>\n",
       "      <td>FELONY</td>\n",
       "      <td>GRAND LARCENY</td>\n",
       "      <td>COMPLETED</td>\n",
       "      <td>INSIDE</td>\n",
       "      <td>DOCTOR/DENTIST OFFICE</td>\n",
       "      <td>40.793465</td>\n",
       "      <td>-73.968950</td>\n",
       "      <td>...</td>\n",
       "      <td>24.0</td>\n",
       "      <td>N.Y. POLICE DEPT</td>\n",
       "      <td>NaN</td>\n",
       "      <td>NaN</td>\n",
       "      <td>NaN</td>\n",
       "      <td>45-64</td>\n",
       "      <td>WHITE</td>\n",
       "      <td>F</td>\n",
       "      <td>NaN</td>\n",
       "      <td>NaN</td>\n",
       "    </tr>\n",
       "    <tr>\n",
       "      <th>...</th>\n",
       "      <td>...</td>\n",
       "      <td>...</td>\n",
       "      <td>...</td>\n",
       "      <td>...</td>\n",
       "      <td>...</td>\n",
       "      <td>...</td>\n",
       "      <td>...</td>\n",
       "      <td>...</td>\n",
       "      <td>...</td>\n",
       "      <td>...</td>\n",
       "      <td>...</td>\n",
       "      <td>...</td>\n",
       "      <td>...</td>\n",
       "      <td>...</td>\n",
       "      <td>...</td>\n",
       "      <td>...</td>\n",
       "      <td>...</td>\n",
       "      <td>...</td>\n",
       "      <td>...</td>\n",
       "      <td>...</td>\n",
       "      <td>...</td>\n",
       "    </tr>\n",
       "    <tr>\n",
       "      <th>6983202</th>\n",
       "      <td>225471008</td>\n",
       "      <td>12/02/2018</td>\n",
       "      <td>04:15:00</td>\n",
       "      <td>MISDEMEANOR</td>\n",
       "      <td>ASSAULT 3 &amp; RELATED OFFENSES</td>\n",
       "      <td>COMPLETED</td>\n",
       "      <td>INSIDE</td>\n",
       "      <td>RESIDENCE - APT. HOUSE</td>\n",
       "      <td>40.785050</td>\n",
       "      <td>-73.856852</td>\n",
       "      <td>...</td>\n",
       "      <td>109.0</td>\n",
       "      <td>N.Y. POLICE DEPT</td>\n",
       "      <td>25-44</td>\n",
       "      <td>WHITE HISPANIC</td>\n",
       "      <td>M</td>\n",
       "      <td>25-44</td>\n",
       "      <td>ASIAN / PACIFIC ISLANDER</td>\n",
       "      <td>F</td>\n",
       "      <td>NaN</td>\n",
       "      <td>NaN</td>\n",
       "    </tr>\n",
       "    <tr>\n",
       "      <th>6983203</th>\n",
       "      <td>368441925</td>\n",
       "      <td>01/20/2018</td>\n",
       "      <td>00:08:00</td>\n",
       "      <td>MISDEMEANOR</td>\n",
       "      <td>OFF. AGNST PUB ORD SENSBLTY &amp;</td>\n",
       "      <td>COMPLETED</td>\n",
       "      <td>INSIDE</td>\n",
       "      <td>RESIDENCE - APT. HOUSE</td>\n",
       "      <td>NaN</td>\n",
       "      <td>NaN</td>\n",
       "      <td>...</td>\n",
       "      <td>25.0</td>\n",
       "      <td>N.Y. POLICE DEPT</td>\n",
       "      <td>25-44</td>\n",
       "      <td>BLACK</td>\n",
       "      <td>F</td>\n",
       "      <td>25-44</td>\n",
       "      <td>BLACK</td>\n",
       "      <td>M</td>\n",
       "      <td>NaN</td>\n",
       "      <td>NaN</td>\n",
       "    </tr>\n",
       "    <tr>\n",
       "      <th>6983204</th>\n",
       "      <td>146134182</td>\n",
       "      <td>08/03/2018</td>\n",
       "      <td>22:30:00</td>\n",
       "      <td>FELONY</td>\n",
       "      <td>CRIMINAL MISCHIEF &amp; RELATED OF</td>\n",
       "      <td>COMPLETED</td>\n",
       "      <td>FRONT OF</td>\n",
       "      <td>STREET</td>\n",
       "      <td>40.814612</td>\n",
       "      <td>-73.903637</td>\n",
       "      <td>...</td>\n",
       "      <td>41.0</td>\n",
       "      <td>N.Y. POLICE DEPT</td>\n",
       "      <td>NaN</td>\n",
       "      <td>NaN</td>\n",
       "      <td>NaN</td>\n",
       "      <td>25-44</td>\n",
       "      <td>BLACK HISPANIC</td>\n",
       "      <td>F</td>\n",
       "      <td>NaN</td>\n",
       "      <td>NaN</td>\n",
       "    </tr>\n",
       "    <tr>\n",
       "      <th>6983205</th>\n",
       "      <td>763119484</td>\n",
       "      <td>12/10/2018</td>\n",
       "      <td>11:00:00</td>\n",
       "      <td>MISDEMEANOR</td>\n",
       "      <td>FRAUDS</td>\n",
       "      <td>COMPLETED</td>\n",
       "      <td>INSIDE</td>\n",
       "      <td>RESIDENCE - APT. HOUSE</td>\n",
       "      <td>NaN</td>\n",
       "      <td>NaN</td>\n",
       "      <td>...</td>\n",
       "      <td>107.0</td>\n",
       "      <td>N.Y. POLICE DEPT</td>\n",
       "      <td>UNKNOWN</td>\n",
       "      <td>UNKNOWN</td>\n",
       "      <td>U</td>\n",
       "      <td>18-24</td>\n",
       "      <td>ASIAN / PACIFIC ISLANDER</td>\n",
       "      <td>M</td>\n",
       "      <td>NaN</td>\n",
       "      <td>NaN</td>\n",
       "    </tr>\n",
       "    <tr>\n",
       "      <th>6983206</th>\n",
       "      <td>176655779</td>\n",
       "      <td>11/15/2018</td>\n",
       "      <td>10:00:00</td>\n",
       "      <td>FELONY</td>\n",
       "      <td>GRAND LARCENY OF MOTOR VEHICLE</td>\n",
       "      <td>COMPLETED</td>\n",
       "      <td>INSIDE</td>\n",
       "      <td>STORE UNCLASSIFIED</td>\n",
       "      <td>NaN</td>\n",
       "      <td>NaN</td>\n",
       "      <td>...</td>\n",
       "      <td>67.0</td>\n",
       "      <td>N.Y. POLICE DEPT</td>\n",
       "      <td>NaN</td>\n",
       "      <td>NaN</td>\n",
       "      <td>NaN</td>\n",
       "      <td>UNKNOWN</td>\n",
       "      <td>UNKNOWN</td>\n",
       "      <td>D</td>\n",
       "      <td>NaN</td>\n",
       "      <td>NaN</td>\n",
       "    </tr>\n",
       "  </tbody>\n",
       "</table>\n",
       "<p>6983207 rows × 22 columns</p>\n",
       "</div>"
      ],
      "text/plain": [
       "         complaint_id        date      time offense_level  \\\n",
       "0           325341655  02/11/2015  15:00:00   MISDEMEANOR   \n",
       "1           393816841  03/17/2012  10:30:00   MISDEMEANOR   \n",
       "2           802896158  10/27/2016  13:48:00     VIOLATION   \n",
       "3           633812343  11/27/2014  19:00:00        FELONY   \n",
       "4           300349533  12/11/2013  13:30:00        FELONY   \n",
       "...               ...         ...       ...           ...   \n",
       "6983202     225471008  12/02/2018  04:15:00   MISDEMEANOR   \n",
       "6983203     368441925  01/20/2018  00:08:00   MISDEMEANOR   \n",
       "6983204     146134182  08/03/2018  22:30:00        FELONY   \n",
       "6983205     763119484  12/10/2018  11:00:00   MISDEMEANOR   \n",
       "6983206     176655779  11/15/2018  10:00:00        FELONY   \n",
       "\n",
       "                           offense_type crime_completed premise_desc  \\\n",
       "0        OFFENSES AGAINST PUBLIC ADMINI       COMPLETED       INSIDE   \n",
       "1          ASSAULT 3 & RELATED OFFENSES       COMPLETED       INSIDE   \n",
       "2                         HARRASSMENT 2       COMPLETED       INSIDE   \n",
       "3                                  RAPE       COMPLETED       INSIDE   \n",
       "4                         GRAND LARCENY       COMPLETED       INSIDE   \n",
       "...                                 ...             ...          ...   \n",
       "6983202    ASSAULT 3 & RELATED OFFENSES       COMPLETED       INSIDE   \n",
       "6983203   OFF. AGNST PUB ORD SENSBLTY &       COMPLETED       INSIDE   \n",
       "6983204  CRIMINAL MISCHIEF & RELATED OF       COMPLETED     FRONT OF   \n",
       "6983205                          FRAUDS       COMPLETED       INSIDE   \n",
       "6983206  GRAND LARCENY OF MOTOR VEHICLE       COMPLETED       INSIDE   \n",
       "\n",
       "                            premise   latitude  longitude  ...  \\\n",
       "0        RESIDENCE - PUBLIC HOUSING  40.664239 -73.908425  ...   \n",
       "1                   RESIDENCE-HOUSE  40.644590 -73.892672  ...   \n",
       "2                     PUBLIC SCHOOL  40.658758 -73.942435  ...   \n",
       "3            RESIDENCE - APT. HOUSE  40.722364 -73.851474  ...   \n",
       "4             DOCTOR/DENTIST OFFICE  40.793465 -73.968950  ...   \n",
       "...                             ...        ...        ...  ...   \n",
       "6983202      RESIDENCE - APT. HOUSE  40.785050 -73.856852  ...   \n",
       "6983203      RESIDENCE - APT. HOUSE        NaN        NaN  ...   \n",
       "6983204                      STREET  40.814612 -73.903637  ...   \n",
       "6983205      RESIDENCE - APT. HOUSE        NaN        NaN  ...   \n",
       "6983206          STORE UNCLASSIFIED        NaN        NaN  ...   \n",
       "\n",
       "        precinct_number         jurisdiction  suspect_age    suspect_race  \\\n",
       "0                  73.0  N.Y. HOUSING POLICE        25-44           BLACK   \n",
       "1                  69.0     N.Y. POLICE DEPT          NaN             NaN   \n",
       "2                  71.0     N.Y. POLICE DEPT          <18           BLACK   \n",
       "3                 112.0     N.Y. POLICE DEPT        25-44  WHITE HISPANIC   \n",
       "4                  24.0     N.Y. POLICE DEPT          NaN             NaN   \n",
       "...                 ...                  ...          ...             ...   \n",
       "6983202           109.0     N.Y. POLICE DEPT        25-44  WHITE HISPANIC   \n",
       "6983203            25.0     N.Y. POLICE DEPT        25-44           BLACK   \n",
       "6983204            41.0     N.Y. POLICE DEPT          NaN             NaN   \n",
       "6983205           107.0     N.Y. POLICE DEPT      UNKNOWN         UNKNOWN   \n",
       "6983206            67.0     N.Y. POLICE DEPT          NaN             NaN   \n",
       "\n",
       "        suspect_sex victim_age               victim_race victim_sex park_name  \\\n",
       "0                 M        <18                     BLACK          M       NaN   \n",
       "1               NaN      45-64                     BLACK          F       NaN   \n",
       "2                 M      18-24                     BLACK          M       NaN   \n",
       "3                 M      25-44                     WHITE          F       NaN   \n",
       "4               NaN      45-64                     WHITE          F       NaN   \n",
       "...             ...        ...                       ...        ...       ...   \n",
       "6983202           M      25-44  ASIAN / PACIFIC ISLANDER          F       NaN   \n",
       "6983203           F      25-44                     BLACK          M       NaN   \n",
       "6983204         NaN      25-44            BLACK HISPANIC          F       NaN   \n",
       "6983205           U      18-24  ASIAN / PACIFIC ISLANDER          M       NaN   \n",
       "6983206         NaN    UNKNOWN                   UNKNOWN          D       NaN   \n",
       "\n",
       "        metro  \n",
       "0         NaN  \n",
       "1         NaN  \n",
       "2         NaN  \n",
       "3         NaN  \n",
       "4         NaN  \n",
       "...       ...  \n",
       "6983202   NaN  \n",
       "6983203   NaN  \n",
       "6983204   NaN  \n",
       "6983205   NaN  \n",
       "6983206   NaN  \n",
       "\n",
       "[6983207 rows x 22 columns]"
      ]
     },
     "execution_count": 8,
     "metadata": {},
     "output_type": "execute_result"
    }
   ],
   "source": [
    "# order columns for more comprehension\n",
    "data.reindex(columns = list_column, copy=False)"
   ]
  },
  {
   "cell_type": "code",
   "execution_count": 9,
   "metadata": {
    "ExecuteTime": {
     "end_time": "2020-12-01T14:21:24.381346Z",
     "start_time": "2020-12-01T14:21:24.333272Z"
    }
   },
   "outputs": [
    {
     "data": {
      "text/html": [
       "<div>\n",
       "<style scoped>\n",
       "    .dataframe tbody tr th:only-of-type {\n",
       "        vertical-align: middle;\n",
       "    }\n",
       "\n",
       "    .dataframe tbody tr th {\n",
       "        vertical-align: top;\n",
       "    }\n",
       "\n",
       "    .dataframe thead th {\n",
       "        text-align: right;\n",
       "    }\n",
       "</style>\n",
       "<table border=\"1\" class=\"dataframe\">\n",
       "  <thead>\n",
       "    <tr style=\"text-align: right;\">\n",
       "      <th></th>\n",
       "      <th>complaint_id</th>\n",
       "      <th>date</th>\n",
       "      <th>time</th>\n",
       "      <th>precinct_number</th>\n",
       "      <th>offense_type</th>\n",
       "      <th>crime_completed</th>\n",
       "      <th>offense_level</th>\n",
       "      <th>borough</th>\n",
       "      <th>premise_desc</th>\n",
       "      <th>premise</th>\n",
       "      <th>...</th>\n",
       "      <th>suspect_age</th>\n",
       "      <th>suspect_race</th>\n",
       "      <th>suspect_sex</th>\n",
       "      <th>latitude</th>\n",
       "      <th>longitude</th>\n",
       "      <th>patrol_borough</th>\n",
       "      <th>metro</th>\n",
       "      <th>victim_age</th>\n",
       "      <th>victim_race</th>\n",
       "      <th>victim_sex</th>\n",
       "    </tr>\n",
       "  </thead>\n",
       "  <tbody>\n",
       "    <tr>\n",
       "      <th>0</th>\n",
       "      <td>325341655</td>\n",
       "      <td>02/11/2015</td>\n",
       "      <td>15:00:00</td>\n",
       "      <td>73.0</td>\n",
       "      <td>OFFENSES AGAINST PUBLIC ADMINI</td>\n",
       "      <td>COMPLETED</td>\n",
       "      <td>MISDEMEANOR</td>\n",
       "      <td>BROOKLYN</td>\n",
       "      <td>INSIDE</td>\n",
       "      <td>RESIDENCE - PUBLIC HOUSING</td>\n",
       "      <td>...</td>\n",
       "      <td>25-44</td>\n",
       "      <td>BLACK</td>\n",
       "      <td>M</td>\n",
       "      <td>40.664239</td>\n",
       "      <td>-73.908425</td>\n",
       "      <td>PATROL BORO BKLYN NORTH</td>\n",
       "      <td>NaN</td>\n",
       "      <td>&lt;18</td>\n",
       "      <td>BLACK</td>\n",
       "      <td>M</td>\n",
       "    </tr>\n",
       "    <tr>\n",
       "      <th>1</th>\n",
       "      <td>393816841</td>\n",
       "      <td>03/17/2012</td>\n",
       "      <td>10:30:00</td>\n",
       "      <td>69.0</td>\n",
       "      <td>ASSAULT 3 &amp; RELATED OFFENSES</td>\n",
       "      <td>COMPLETED</td>\n",
       "      <td>MISDEMEANOR</td>\n",
       "      <td>BROOKLYN</td>\n",
       "      <td>INSIDE</td>\n",
       "      <td>RESIDENCE-HOUSE</td>\n",
       "      <td>...</td>\n",
       "      <td>NaN</td>\n",
       "      <td>NaN</td>\n",
       "      <td>NaN</td>\n",
       "      <td>40.644590</td>\n",
       "      <td>-73.892672</td>\n",
       "      <td>PATROL BORO BKLYN SOUTH</td>\n",
       "      <td>NaN</td>\n",
       "      <td>45-64</td>\n",
       "      <td>BLACK</td>\n",
       "      <td>F</td>\n",
       "    </tr>\n",
       "    <tr>\n",
       "      <th>2</th>\n",
       "      <td>802896158</td>\n",
       "      <td>10/27/2016</td>\n",
       "      <td>13:48:00</td>\n",
       "      <td>71.0</td>\n",
       "      <td>HARRASSMENT 2</td>\n",
       "      <td>COMPLETED</td>\n",
       "      <td>VIOLATION</td>\n",
       "      <td>BROOKLYN</td>\n",
       "      <td>INSIDE</td>\n",
       "      <td>PUBLIC SCHOOL</td>\n",
       "      <td>...</td>\n",
       "      <td>&lt;18</td>\n",
       "      <td>BLACK</td>\n",
       "      <td>M</td>\n",
       "      <td>40.658758</td>\n",
       "      <td>-73.942435</td>\n",
       "      <td>PATROL BORO BKLYN SOUTH</td>\n",
       "      <td>NaN</td>\n",
       "      <td>18-24</td>\n",
       "      <td>BLACK</td>\n",
       "      <td>M</td>\n",
       "    </tr>\n",
       "    <tr>\n",
       "      <th>3</th>\n",
       "      <td>633812343</td>\n",
       "      <td>11/27/2014</td>\n",
       "      <td>19:00:00</td>\n",
       "      <td>112.0</td>\n",
       "      <td>RAPE</td>\n",
       "      <td>COMPLETED</td>\n",
       "      <td>FELONY</td>\n",
       "      <td>QUEENS</td>\n",
       "      <td>INSIDE</td>\n",
       "      <td>RESIDENCE - APT. HOUSE</td>\n",
       "      <td>...</td>\n",
       "      <td>25-44</td>\n",
       "      <td>WHITE HISPANIC</td>\n",
       "      <td>M</td>\n",
       "      <td>40.722364</td>\n",
       "      <td>-73.851474</td>\n",
       "      <td>PATROL BORO QUEENS NORTH</td>\n",
       "      <td>NaN</td>\n",
       "      <td>25-44</td>\n",
       "      <td>WHITE</td>\n",
       "      <td>F</td>\n",
       "    </tr>\n",
       "    <tr>\n",
       "      <th>4</th>\n",
       "      <td>300349533</td>\n",
       "      <td>12/11/2013</td>\n",
       "      <td>13:30:00</td>\n",
       "      <td>24.0</td>\n",
       "      <td>GRAND LARCENY</td>\n",
       "      <td>COMPLETED</td>\n",
       "      <td>FELONY</td>\n",
       "      <td>MANHATTAN</td>\n",
       "      <td>INSIDE</td>\n",
       "      <td>DOCTOR/DENTIST OFFICE</td>\n",
       "      <td>...</td>\n",
       "      <td>NaN</td>\n",
       "      <td>NaN</td>\n",
       "      <td>NaN</td>\n",
       "      <td>40.793465</td>\n",
       "      <td>-73.968950</td>\n",
       "      <td>PATROL BORO MAN NORTH</td>\n",
       "      <td>NaN</td>\n",
       "      <td>45-64</td>\n",
       "      <td>WHITE</td>\n",
       "      <td>F</td>\n",
       "    </tr>\n",
       "  </tbody>\n",
       "</table>\n",
       "<p>5 rows × 22 columns</p>\n",
       "</div>"
      ],
      "text/plain": [
       "   complaint_id        date      time  precinct_number  \\\n",
       "0     325341655  02/11/2015  15:00:00             73.0   \n",
       "1     393816841  03/17/2012  10:30:00             69.0   \n",
       "2     802896158  10/27/2016  13:48:00             71.0   \n",
       "3     633812343  11/27/2014  19:00:00            112.0   \n",
       "4     300349533  12/11/2013  13:30:00             24.0   \n",
       "\n",
       "                     offense_type crime_completed offense_level    borough  \\\n",
       "0  OFFENSES AGAINST PUBLIC ADMINI       COMPLETED   MISDEMEANOR   BROOKLYN   \n",
       "1    ASSAULT 3 & RELATED OFFENSES       COMPLETED   MISDEMEANOR   BROOKLYN   \n",
       "2                   HARRASSMENT 2       COMPLETED     VIOLATION   BROOKLYN   \n",
       "3                            RAPE       COMPLETED        FELONY     QUEENS   \n",
       "4                   GRAND LARCENY       COMPLETED        FELONY  MANHATTAN   \n",
       "\n",
       "  premise_desc                     premise  ... suspect_age    suspect_race  \\\n",
       "0       INSIDE  RESIDENCE - PUBLIC HOUSING  ...       25-44           BLACK   \n",
       "1       INSIDE             RESIDENCE-HOUSE  ...         NaN             NaN   \n",
       "2       INSIDE               PUBLIC SCHOOL  ...         <18           BLACK   \n",
       "3       INSIDE      RESIDENCE - APT. HOUSE  ...       25-44  WHITE HISPANIC   \n",
       "4       INSIDE       DOCTOR/DENTIST OFFICE  ...         NaN             NaN   \n",
       "\n",
       "  suspect_sex   latitude  longitude            patrol_borough  metro  \\\n",
       "0           M  40.664239 -73.908425   PATROL BORO BKLYN NORTH    NaN   \n",
       "1         NaN  40.644590 -73.892672   PATROL BORO BKLYN SOUTH    NaN   \n",
       "2           M  40.658758 -73.942435   PATROL BORO BKLYN SOUTH    NaN   \n",
       "3           M  40.722364 -73.851474  PATROL BORO QUEENS NORTH    NaN   \n",
       "4         NaN  40.793465 -73.968950     PATROL BORO MAN NORTH    NaN   \n",
       "\n",
       "  victim_age victim_race victim_sex  \n",
       "0        <18       BLACK          M  \n",
       "1      45-64       BLACK          F  \n",
       "2      18-24       BLACK          M  \n",
       "3      25-44       WHITE          F  \n",
       "4      45-64       WHITE          F  \n",
       "\n",
       "[5 rows x 22 columns]"
      ]
     },
     "execution_count": 9,
     "metadata": {},
     "output_type": "execute_result"
    }
   ],
   "source": [
    "data.head()"
   ]
  },
  {
   "cell_type": "code",
   "execution_count": 10,
   "metadata": {
    "ExecuteTime": {
     "end_time": "2020-12-01T14:21:40.797799Z",
     "start_time": "2020-12-01T14:21:40.784143Z"
    }
   },
   "outputs": [
    {
     "data": {
      "text/plain": [
       "(6983207, 22)"
      ]
     },
     "execution_count": 10,
     "metadata": {},
     "output_type": "execute_result"
    }
   ],
   "source": [
    "data.shape"
   ]
  },
  {
   "cell_type": "code",
   "execution_count": 11,
   "metadata": {
    "ExecuteTime": {
     "end_time": "2020-12-01T14:23:44.199205Z",
     "start_time": "2020-12-01T14:21:58.696686Z"
    }
   },
   "outputs": [],
   "source": [
    "# full sur slack\n",
    "data.to_csv('data.csv', index=False)"
   ]
  },
  {
   "cell_type": "code",
   "execution_count": 12,
   "metadata": {
    "ExecuteTime": {
     "end_time": "2020-12-01T14:24:29.991147Z",
     "start_time": "2020-12-01T14:24:00.499359Z"
    }
   },
   "outputs": [
    {
     "name": "stderr",
     "output_type": "stream",
     "text": [
      "/Users/camillebenhaim/.pyenv/versions/3.8.5/envs/minority_report/lib/python3.8/site-packages/IPython/core/interactiveshell.py:3146: DtypeWarning: Columns (11) have mixed types.Specify dtype option on import or set low_memory=False.\n",
      "  has_raised = await self.run_ast_nodes(code_ast.body, cell_name,\n"
     ]
    },
    {
     "data": {
      "text/plain": [
       "Index(['complaint_id', 'date', 'time', 'precinct_number', 'offense_type',\n",
       "       'crime_completed', 'offense_level', 'borough', 'premise_desc',\n",
       "       'premise', 'jurisdiction', 'park_name', 'suspect_age', 'suspect_race',\n",
       "       'suspect_sex', 'latitude', 'longitude', 'patrol_borough', 'metro',\n",
       "       'victim_age', 'victim_race', 'victim_sex'],\n",
       "      dtype='object')"
      ]
     },
     "execution_count": 12,
     "metadata": {},
     "output_type": "execute_result"
    }
   ],
   "source": [
    "# sample [six derniers mois] pour github\n",
    "df = pd.read_csv('../raw_data/data.csv')\n",
    "df.columns"
   ]
  },
  {
   "cell_type": "code",
   "execution_count": null,
   "metadata": {},
   "outputs": [],
   "source": [
    "data['date']"
   ]
  },
  {
   "cell_type": "code",
   "execution_count": null,
   "metadata": {},
   "outputs": [],
   "source": []
  },
  {
   "cell_type": "code",
   "execution_count": null,
   "metadata": {},
   "outputs": [],
   "source": []
  }
 ],
 "metadata": {
  "kernelspec": {
   "display_name": "Python 3",
   "language": "python",
   "name": "python3"
  },
  "language_info": {
   "codemirror_mode": {
    "name": "ipython",
    "version": 3
   },
   "file_extension": ".py",
   "mimetype": "text/x-python",
   "name": "python",
   "nbconvert_exporter": "python",
   "pygments_lexer": "ipython3",
   "version": "3.8.6"
  },
  "toc": {
   "base_numbering": 1,
   "nav_menu": {},
   "number_sections": true,
   "sideBar": true,
   "skip_h1_title": false,
   "title_cell": "Table of Contents",
   "title_sidebar": "Contents",
   "toc_cell": false,
   "toc_position": {},
   "toc_section_display": true,
   "toc_window_display": false
  },
  "varInspector": {
   "cols": {
    "lenName": 16,
    "lenType": 16,
    "lenVar": 40
   },
   "kernels_config": {
    "python": {
     "delete_cmd_postfix": "",
     "delete_cmd_prefix": "del ",
     "library": "var_list.py",
     "varRefreshCmd": "print(var_dic_list())"
    },
    "r": {
     "delete_cmd_postfix": ") ",
     "delete_cmd_prefix": "rm(",
     "library": "var_list.r",
     "varRefreshCmd": "cat(var_dic_list()) "
    }
   },
   "position": {
    "height": "367.85px",
    "left": "942px",
    "right": "20px",
    "top": "120px",
    "width": "318px"
   },
   "types_to_exclude": [
    "module",
    "function",
    "builtin_function_or_method",
    "instance",
    "_Feature"
   ],
   "window_display": false
  }
 },
 "nbformat": 4,
 "nbformat_minor": 4
}
