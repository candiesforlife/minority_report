{
 "cells": [
  {
   "cell_type": "code",
   "execution_count": 3,
   "metadata": {
    "ExecuteTime": {
     "end_time": "2020-12-09T11:33:44.412890Z",
     "start_time": "2020-12-09T11:33:38.861591Z"
    }
   },
   "outputs": [],
   "source": [
    "# data import\n",
    "import pickle\n",
    "\n",
    "# Model\n",
    "from tensorflow.keras import models\n",
    "from tensorflow.keras import layers\n",
    "from tensorflow.keras.callbacks import EarlyStopping"
   ]
  },
  {
   "cell_type": "code",
   "execution_count": 4,
   "metadata": {
    "ExecuteTime": {
     "end_time": "2020-12-09T11:33:45.930535Z",
     "start_time": "2020-12-09T11:33:44.479240Z"
    }
   },
   "outputs": [],
   "source": [
    "img3D_path = ('../raw_data/img3D-conv.pickle')\n",
    "\n",
    "\n",
    "with open(img3D_path, 'rb') as f:\n",
    "    img3D = pickle.load(f)"
   ]
  },
  {
   "cell_type": "code",
   "execution_count": 4,
   "metadata": {
    "ExecuteTime": {
     "end_time": "2020-12-09T11:12:14.499463Z",
     "start_time": "2020-12-09T11:12:14.474614Z"
    }
   },
   "outputs": [
    {
     "data": {
      "text/plain": [
       "((16, 176, 161, 17), (4, 176, 161, 17), (16, 176, 161, 7), (4, 176, 161, 7))"
      ]
     },
     "execution_count": 4,
     "metadata": {},
     "output_type": "execute_result"
    }
   ],
   "source": [
    "X_train.shape,X_test.shape, y_train.shape, y_test.shape "
   ]
  },
  {
   "cell_type": "code",
   "execution_count": 5,
   "metadata": {
    "ExecuteTime": {
     "end_time": "2020-12-09T11:12:14.822842Z",
     "start_time": "2020-12-09T11:12:14.814431Z"
    }
   },
   "outputs": [],
   "source": [
    "X_train_reshaped = X_train.reshape(-1, 176, 161, 17)\n",
    "X_test_reshaped = X_test.reshape(-1, 176, 161, 17)\n",
    "y_train_reshaped = y_train.reshape(-1, 176, 161, 7)\n",
    "y_test_reshaped = y_test.reshape(-1, 176, 161, 7)"
   ]
  },
  {
   "cell_type": "code",
   "execution_count": 6,
   "metadata": {
    "ExecuteTime": {
     "end_time": "2020-12-09T11:12:15.772895Z",
     "start_time": "2020-12-09T11:12:15.744979Z"
    }
   },
   "outputs": [],
   "source": [
    "def init_model():\n",
    "    print('initializing model')\n",
    "    model = models.Sequential()\n",
    "    \n",
    "    print('adding Conv3D layer ')\n",
    "    model.add(layers.Conv3D(64, kernel_size = (4,4,4), activation = 'relu', padding='same',\n",
    "                              input_shape = (76, 161, 17,1)))\n",
    "    model.add(layers.MaxPooling3D(2))\n",
    "    \n",
    "    print('Flattening')\n",
    "    model.add(layers.Flatten())\n",
    "    \n",
    "    print('adding Dense layer')\n",
    "    model.add(layers.Dense(176*161*7, activation = 'relu'))\n",
    "    \n",
    "    print('Reshaping')\n",
    "    model.add(layers.Reshape((176, 161, 7)))\n",
    "    model.compile(loss ='mse',\n",
    "             optimizer='adam',\n",
    "             metrics='mae')\n",
    "    return model"
   ]
  },
  {
   "cell_type": "code",
   "execution_count": null,
   "metadata": {
    "ExecuteTime": {
     "start_time": "2020-12-09T11:12:42.343Z"
    }
   },
   "outputs": [
    {
     "name": "stdout",
     "output_type": "stream",
     "text": [
      "initializing model\n",
      "adding Conv3D layer \n",
      "Flattening\n",
      "adding Dense layer\n"
     ]
    }
   ],
   "source": [
    "model = init_model()\n",
    "model.summary()"
   ]
  },
  {
   "cell_type": "code",
   "execution_count": null,
   "metadata": {},
   "outputs": [],
   "source": []
  },
  {
   "cell_type": "code",
   "execution_count": null,
   "metadata": {},
   "outputs": [],
   "source": []
  }
 ],
 "metadata": {
  "kernelspec": {
   "display_name": "Python 3",
   "language": "python",
   "name": "python3"
  },
  "language_info": {
   "codemirror_mode": {
    "name": "ipython",
    "version": 3
   },
   "file_extension": ".py",
   "mimetype": "text/x-python",
   "name": "python",
   "nbconvert_exporter": "python",
   "pygments_lexer": "ipython3",
   "version": "3.8.5"
  },
  "toc": {
   "base_numbering": 1,
   "nav_menu": {},
   "number_sections": true,
   "sideBar": true,
   "skip_h1_title": false,
   "title_cell": "Table of Contents",
   "title_sidebar": "Contents",
   "toc_cell": false,
   "toc_position": {},
   "toc_section_display": true,
   "toc_window_display": false
  },
  "varInspector": {
   "cols": {
    "lenName": 16,
    "lenType": 16,
    "lenVar": 40
   },
   "kernels_config": {
    "python": {
     "delete_cmd_postfix": "",
     "delete_cmd_prefix": "del ",
     "library": "var_list.py",
     "varRefreshCmd": "print(var_dic_list())"
    },
    "r": {
     "delete_cmd_postfix": ") ",
     "delete_cmd_prefix": "rm(",
     "library": "var_list.r",
     "varRefreshCmd": "cat(var_dic_list()) "
    }
   },
   "types_to_exclude": [
    "module",
    "function",
    "builtin_function_or_method",
    "instance",
    "_Feature"
   ],
   "window_display": false
  }
 },
 "nbformat": 4,
 "nbformat_minor": 4
}
