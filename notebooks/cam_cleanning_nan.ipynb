{
 "cells": [
  {
   "cell_type": "code",
   "execution_count": 1,
   "metadata": {
    "ExecuteTime": {
     "end_time": "2020-12-01T20:01:42.721187Z",
     "start_time": "2020-12-01T20:01:42.366236Z"
    }
   },
   "outputs": [],
   "source": [
    "import pandas as pd\n",
    "#from minority_report.clean_data import CleanData"
   ]
  },
  {
   "cell_type": "code",
   "execution_count": 2,
   "metadata": {
    "ExecuteTime": {
     "end_time": "2020-12-01T20:02:10.055417Z",
     "start_time": "2020-12-01T20:01:43.141586Z"
    }
   },
   "outputs": [
    {
     "name": "stderr",
     "output_type": "stream",
     "text": [
      "/Users/camillebenhaim/.pyenv/versions/3.8.5/envs/minority_report/lib/python3.8/site-packages/IPython/core/interactiveshell.py:3146: DtypeWarning: Columns (11) have mixed types.Specify dtype option on import or set low_memory=False.\n",
      "  has_raised = await self.run_ast_nodes(code_ast.body, cell_name,\n"
     ]
    }
   ],
   "source": [
    "df = pd.read_csv('../raw_data/data.csv')"
   ]
  },
  {
   "cell_type": "code",
   "execution_count": 3,
   "metadata": {
    "ExecuteTime": {
     "end_time": "2020-12-01T20:03:10.003071Z",
     "start_time": "2020-12-01T20:03:09.994129Z"
    }
   },
   "outputs": [],
   "source": [
    "df = df[:1_000_000]"
   ]
  },
  {
   "cell_type": "code",
   "execution_count": null,
   "metadata": {
    "ExecuteTime": {
     "end_time": "2020-12-01T14:47:10.387824Z",
     "start_time": "2020-12-01T14:47:10.343424Z"
    }
   },
   "outputs": [],
   "source": [
    "#df.head()"
   ]
  },
  {
   "cell_type": "code",
   "execution_count": null,
   "metadata": {
    "ExecuteTime": {
     "end_time": "2020-12-01T14:48:05.097058Z",
     "start_time": "2020-12-01T14:48:00.583747Z"
    }
   },
   "outputs": [],
   "source": [
    "# mask booleans\n",
    "#not_unknown = df['precinct_number'] != -99.0\n",
    "#not_nan = df['precinct_number'] == df['precinct_number']\n",
    "#df = df[not_unknown & not_nan]\n",
    "#df = df[df['time'] == df['time']]"
   ]
  },
  {
   "cell_type": "code",
   "execution_count": null,
   "metadata": {
    "ExecuteTime": {
     "end_time": "2020-12-01T14:48:15.361106Z",
     "start_time": "2020-12-01T14:48:15.348761Z"
    }
   },
   "outputs": [],
   "source": [
    "#df.shape"
   ]
  },
  {
   "cell_type": "code",
   "execution_count": null,
   "metadata": {
    "ExecuteTime": {
     "end_time": "2020-12-01T14:46:08.380103Z",
     "start_time": "2020-12-01T14:46:02.307170Z"
    }
   },
   "outputs": [],
   "source": [
    "#df.isnull().sum()"
   ]
  },
  {
   "cell_type": "markdown",
   "metadata": {
    "heading_collapsed": true
   },
   "source": [
    "## Get only weird precints"
   ]
  },
  {
   "cell_type": "code",
   "execution_count": null,
   "metadata": {
    "ExecuteTime": {
     "end_time": "2020-12-01T19:53:49.435812Z",
     "start_time": "2020-12-01T19:53:49.420414Z"
    },
    "hidden": true
   },
   "outputs": [],
   "source": [
    "precinct_numbers = np.sort(df['precinct_number'].unique())"
   ]
  },
  {
   "cell_type": "code",
   "execution_count": null,
   "metadata": {
    "ExecuteTime": {
     "end_time": "2020-12-01T13:22:25.706256Z",
     "start_time": "2020-12-01T13:22:25.607219Z"
    },
    "hidden": true
   },
   "outputs": [],
   "source": [
    "len(df['precinct_number'].unique())"
   ]
  },
  {
   "cell_type": "code",
   "execution_count": null,
   "metadata": {
    "ExecuteTime": {
     "end_time": "2020-12-01T11:52:23.915998Z",
     "start_time": "2020-12-01T11:52:20.734062Z"
    },
    "hidden": true
   },
   "outputs": [],
   "source": [
    "# nb rows with weird precinct\n",
    "for element in df['precinct_number']:\n",
    "    if element == -99. or element != element:\n",
    "        liste.append(element)\n",
    "len(liste)"
   ]
  },
  {
   "cell_type": "code",
   "execution_count": null,
   "metadata": {
    "hidden": true
   },
   "outputs": [],
   "source": []
  },
  {
   "cell_type": "code",
   "execution_count": null,
   "metadata": {
    "ExecuteTime": {
     "end_time": "2020-12-01T13:01:39.142415Z",
     "start_time": "2020-12-01T13:01:39.103556Z"
    },
    "hidden": true
   },
   "outputs": [],
   "source": [
    "# rows to drop : no precinct, no coordinates\n",
    "data = df[unknown | nane]\n",
    "#test\n",
    "data.shape[0] == 2916"
   ]
  },
  {
   "cell_type": "code",
   "execution_count": null,
   "metadata": {
    "ExecuteTime": {
     "end_time": "2020-12-01T13:01:39.142415Z",
     "start_time": "2020-12-01T13:01:39.103556Z"
    },
    "hidden": true
   },
   "outputs": [],
   "source": [
    "to_drop = data[data['coordinates'] != data['coordinates']]\n",
    "to_drop.shape"
   ]
  },
  {
   "cell_type": "markdown",
   "metadata": {
    "heading_collapsed": true
   },
   "source": [
    "## Keep only exploitable rows"
   ]
  },
  {
   "cell_type": "code",
   "execution_count": null,
   "metadata": {
    "ExecuteTime": {
     "end_time": "2020-12-01T13:10:25.116845Z",
     "start_time": "2020-12-01T13:10:25.099930Z"
    },
    "hidden": true
   },
   "outputs": [],
   "source": [
    "#rows to keep : no precinct but coordinates\n",
    "to_keep = data[data['coordinates'] == data['coordinates']]\n",
    "to_keep.shape"
   ]
  },
  {
   "cell_type": "code",
   "execution_count": null,
   "metadata": {
    "ExecuteTime": {
     "end_time": "2020-12-01T13:11:15.988525Z",
     "start_time": "2020-12-01T13:11:15.977633Z"
    },
    "hidden": true
   },
   "outputs": [],
   "source": [
    "to_keep['coordinates'].unique()"
   ]
  },
  {
   "cell_type": "code",
   "execution_count": null,
   "metadata": {
    "ExecuteTime": {
     "end_time": "2020-12-01T13:30:17.171060Z",
     "start_time": "2020-12-01T13:30:17.160797Z"
    },
    "hidden": true
   },
   "outputs": [],
   "source": [
    "to_keep['date'].unique()"
   ]
  },
  {
   "cell_type": "markdown",
   "metadata": {
    "heading_collapsed": true
   },
   "source": [
    "## Open the precinct map data"
   ]
  },
  {
   "cell_type": "code",
   "execution_count": null,
   "metadata": {
    "ExecuteTime": {
     "end_time": "2020-12-01T13:18:42.477625Z",
     "start_time": "2020-12-01T13:18:38.853655Z"
    },
    "hidden": true
   },
   "outputs": [],
   "source": [
    "# open precinct distribution file\n",
    "import json\n",
    "with open('../raw_data/precincts.geojson') as f:\n",
    "    geo = json.load(f)\n",
    "geo"
   ]
  },
  {
   "cell_type": "code",
   "execution_count": null,
   "metadata": {
    "ExecuteTime": {
     "end_time": "2020-12-01T13:22:46.245571Z",
     "start_time": "2020-12-01T13:22:46.231408Z"
    },
    "hidden": true
   },
   "outputs": [],
   "source": [
    "#test\n",
    "len(geo['features']) == 77"
   ]
  },
  {
   "cell_type": "code",
   "execution_count": null,
   "metadata": {
    "ExecuteTime": {
     "end_time": "2020-12-01T13:24:29.252145Z",
     "start_time": "2020-12-01T13:24:29.160204Z"
    },
    "hidden": true
   },
   "outputs": [],
   "source": [
    "p1 = geo['features'][0]\n",
    "p1['geometry']['coordinates']"
   ]
  },
  {
   "cell_type": "code",
   "execution_count": null,
   "metadata": {
    "ExecuteTime": {
     "end_time": "2020-12-01T13:26:40.569190Z",
     "start_time": "2020-12-01T13:26:40.551757Z"
    },
    "hidden": true
   },
   "outputs": [],
   "source": [
    "p1_array = np.array(p1['geometry']['coordinates'], dtype=object)\n",
    "p1_array.shape"
   ]
  },
  {
   "cell_type": "code",
   "execution_count": null,
   "metadata": {
    "ExecuteTime": {
     "end_time": "2020-12-01T13:27:39.129756Z",
     "start_time": "2020-12-01T13:27:39.101711Z"
    },
    "hidden": true
   },
   "outputs": [],
   "source": [
    "p1_array[0][0]"
   ]
  },
  {
   "cell_type": "code",
   "execution_count": null,
   "metadata": {
    "hidden": true
   },
   "outputs": [],
   "source": [
    "for precinct in geo['features']:\n",
    "    "
   ]
  },
  {
   "cell_type": "markdown",
   "metadata": {
    "ExecuteTime": {
     "end_time": "2020-12-01T13:45:26.021183Z",
     "start_time": "2020-12-01T13:45:26.016601Z"
    }
   },
   "source": [
    "## Create default_values per precinct"
   ]
  },
  {
   "cell_type": "markdown",
   "metadata": {
    "heading_collapsed": true
   },
   "source": [
    "### Essais"
   ]
  },
  {
   "cell_type": "code",
   "execution_count": null,
   "metadata": {
    "ExecuteTime": {
     "end_time": "2020-12-01T14:30:09.641040Z",
     "start_time": "2020-12-01T14:30:09.597464Z"
    },
    "hidden": true
   },
   "outputs": [],
   "source": [
    "df.head()"
   ]
  },
  {
   "cell_type": "code",
   "execution_count": null,
   "metadata": {
    "ExecuteTime": {
     "end_time": "2020-12-01T14:37:59.305173Z",
     "start_time": "2020-12-01T14:37:59.150657Z"
    },
    "hidden": true
   },
   "outputs": [],
   "source": [
    "geo = df[df['precinct_number'] == 1][['precinct_number','latitude', 'longitude']]\n",
    "geo.head()"
   ]
  },
  {
   "cell_type": "code",
   "execution_count": null,
   "metadata": {
    "ExecuteTime": {
     "end_time": "2020-12-01T14:33:00.247797Z",
     "start_time": "2020-12-01T14:33:00.189974Z"
    },
    "hidden": true
   },
   "outputs": [],
   "source": [
    "geo.describe()"
   ]
  },
  {
   "cell_type": "code",
   "execution_count": null,
   "metadata": {
    "ExecuteTime": {
     "end_time": "2020-12-01T14:33:45.642848Z",
     "start_time": "2020-12-01T14:33:45.625856Z"
    },
    "hidden": true
   },
   "outputs": [],
   "source": [
    "med_lat_1 = geo['latitude'].median()\n",
    "med_lon_1 = geo['longitude'].median()"
   ]
  },
  {
   "cell_type": "code",
   "execution_count": null,
   "metadata": {
    "ExecuteTime": {
     "end_time": "2020-12-01T14:34:33.281452Z",
     "start_time": "2020-12-01T14:34:33.184938Z"
    },
    "hidden": true
   },
   "outputs": [],
   "source": [
    "np.sort(df['precinct_number'].unique())"
   ]
  },
  {
   "cell_type": "code",
   "execution_count": null,
   "metadata": {
    "ExecuteTime": {
     "end_time": "2020-12-01T16:29:34.371505Z",
     "start_time": "2020-12-01T16:29:34.363034Z"
    },
    "hidden": true
   },
   "outputs": [],
   "source": []
  },
  {
   "cell_type": "code",
   "execution_count": null,
   "metadata": {
    "ExecuteTime": {
     "end_time": "2020-12-01T14:50:18.205206Z",
     "start_time": "2020-12-01T14:50:18.193741Z"
    },
    "hidden": true
   },
   "outputs": [],
   "source": [
    "#test\n",
    "#df.shape == (6980243, 22)\n",
    "#type(df) == pd.DataFrame"
   ]
  },
  {
   "cell_type": "code",
   "execution_count": null,
   "metadata": {
    "ExecuteTime": {
     "end_time": "2020-12-01T16:29:42.530570Z",
     "start_time": "2020-12-01T16:29:42.521878Z"
    },
    "hidden": true
   },
   "outputs": [],
   "source": []
  },
  {
   "cell_type": "code",
   "execution_count": null,
   "metadata": {
    "ExecuteTime": {
     "end_time": "2020-12-01T15:58:42.884740Z",
     "start_time": "2020-12-01T15:58:28.683201Z"
    },
    "hidden": true
   },
   "outputs": [],
   "source": [
    "data_base = drop_miss(df)"
   ]
  },
  {
   "cell_type": "code",
   "execution_count": null,
   "metadata": {
    "ExecuteTime": {
     "end_time": "2020-12-01T16:01:16.791814Z",
     "start_time": "2020-12-01T16:01:12.659703Z"
    },
    "hidden": true
   },
   "outputs": [],
   "source": [
    "data = miss_lon_lat(data_base[:100000])"
   ]
  },
  {
   "cell_type": "code",
   "execution_count": null,
   "metadata": {
    "ExecuteTime": {
     "end_time": "2020-12-01T16:01:45.034891Z",
     "start_time": "2020-12-01T16:01:44.918856Z"
    },
    "hidden": true
   },
   "outputs": [],
   "source": [
    "data.isnull().sum()"
   ]
  },
  {
   "cell_type": "code",
   "execution_count": null,
   "metadata": {
    "ExecuteTime": {
     "end_time": "2020-12-01T15:43:40.652505Z",
     "start_time": "2020-12-01T15:43:40.484239Z"
    },
    "hidden": true
   },
   "outputs": [],
   "source": [
    "geo = df[df['precinct_number'] == 1][['latitude', 'longitude']]\n",
    "geo"
   ]
  },
  {
   "cell_type": "code",
   "execution_count": null,
   "metadata": {
    "ExecuteTime": {
     "end_time": "2020-12-01T15:44:06.710182Z",
     "start_time": "2020-12-01T15:44:06.693586Z"
    },
    "hidden": true
   },
   "outputs": [],
   "source": [
    "values = {'latitude': geo['latitude'].median(), 'longitude':geo['longitude'].median()}\n",
    "values"
   ]
  },
  {
   "cell_type": "code",
   "execution_count": null,
   "metadata": {
    "ExecuteTime": {
     "end_time": "2020-12-01T15:48:01.926712Z",
     "start_time": "2020-12-01T15:48:01.567028Z"
    },
    "hidden": true
   },
   "outputs": [],
   "source": [
    "df[df['precinct_number']==1].fillna(value=values) "
   ]
  },
  {
   "cell_type": "code",
   "execution_count": null,
   "metadata": {
    "ExecuteTime": {
     "end_time": "2020-12-01T15:48:39.273281Z",
     "start_time": "2020-12-01T15:48:39.138887Z"
    },
    "hidden": true
   },
   "outputs": [],
   "source": [
    "_.isnull().sum()"
   ]
  },
  {
   "cell_type": "markdown",
   "metadata": {},
   "source": [
    "### Functions"
   ]
  },
  {
   "cell_type": "code",
   "execution_count": 4,
   "metadata": {
    "ExecuteTime": {
     "end_time": "2020-12-01T20:03:17.311402Z",
     "start_time": "2020-12-01T20:03:17.303108Z"
    }
   },
   "outputs": [],
   "source": [
    "def drop_miss (df):\n",
    "    '''drop precinct and time missing values'''\n",
    "    \n",
    "    #drop precinct missing values\n",
    "    not_unknown = df['precinct_number'] != -99.0\n",
    "    not_nan = df['precinct_number'] == df['precinct_number']\n",
    "    df = df[not_unknown & not_nan]\n",
    "    \n",
    "    #drop offense_type, time and date missing values\n",
    "    df = df[df['time'] == df['time']]\n",
    "    df = df[df['date'] == df['date']]\n",
    "    df = df[df['offense_type'] == df['offense_type']]\n",
    "    df = df[df['crime_completed'] == df['crime_completed']]\n",
    "    \n",
    "    return df"
   ]
  },
  {
   "cell_type": "code",
   "execution_count": 5,
   "metadata": {
    "ExecuteTime": {
     "end_time": "2020-12-01T20:03:24.614466Z",
     "start_time": "2020-12-01T20:03:24.606417Z"
    }
   },
   "outputs": [],
   "source": [
    "def miss_lon_lat (df):\n",
    "    '''replace latitude and longitude missing values with median values by precinct'''\n",
    "    \n",
    "    data = df.copy()\n",
    "    for precinct in np.sort(data['precinct_number'].unique()):\n",
    "        #print(f'Modifying precinct{precinct}')\n",
    "        geo = data[data['precinct_number'] == precinct][['latitude', 'longitude']]\n",
    "        # get median crime location for each precinct\n",
    "        values = {'latitude': geo['latitude'].median(), 'longitude':geo['longitude'].median()}\n",
    "        # fillna lon and lat column for each crime depending on its precinct\n",
    "        data[data['precinct_number']==precinct] = data[data['precinct_number']==precinct].fillna(value=values) \n",
    "    return data\n",
    "    "
   ]
  },
  {
   "cell_type": "code",
   "execution_count": 6,
   "metadata": {
    "ExecuteTime": {
     "end_time": "2020-12-01T20:03:32.025031Z",
     "start_time": "2020-12-01T20:03:32.019389Z"
    }
   },
   "outputs": [],
   "source": [
    "def removing_date_before_2007(df):\n",
    "        '''\n",
    "        Remove any dates before 2007 & values not corresponding to our US date format month/day/year, returns pd.series\n",
    "        '''\n",
    "        rg_expression = r'(1[0-2]|0?[1-9])\\/(3[01]|[12][0-9]|0?[1-9])\\/20([1-2][0-9]|[0-2][7-9])'\n",
    "        boolean_values = df['date'].str.match(rg_expression)\n",
    "        return df[boolean_values]"
   ]
  },
  {
   "cell_type": "markdown",
   "metadata": {},
   "source": [
    "## Handle victim missing values"
   ]
  },
  {
   "cell_type": "markdown",
   "metadata": {
    "heading_collapsed": true
   },
   "source": [
    "### Essais"
   ]
  },
  {
   "cell_type": "code",
   "execution_count": null,
   "metadata": {
    "ExecuteTime": {
     "end_time": "2020-12-01T17:06:10.723037Z",
     "start_time": "2020-12-01T17:06:10.717413Z"
    },
    "hidden": true
   },
   "outputs": [],
   "source": []
  },
  {
   "cell_type": "code",
   "execution_count": null,
   "metadata": {
    "ExecuteTime": {
     "end_time": "2020-12-01T17:06:59.251832Z",
     "start_time": "2020-12-01T17:06:58.139108Z"
    },
    "hidden": true
   },
   "outputs": [],
   "source": [
    "df= drop_miss(df)"
   ]
  },
  {
   "cell_type": "code",
   "execution_count": null,
   "metadata": {
    "ExecuteTime": {
     "end_time": "2020-12-01T17:07:04.015317Z",
     "start_time": "2020-12-01T17:07:02.379058Z"
    },
    "hidden": true
   },
   "outputs": [],
   "source": [
    "df = removing_date_before_2007(df)"
   ]
  },
  {
   "cell_type": "code",
   "execution_count": null,
   "metadata": {
    "ExecuteTime": {
     "end_time": "2020-12-01T17:07:36.244429Z",
     "start_time": "2020-12-01T17:07:07.323984Z"
    },
    "hidden": true
   },
   "outputs": [],
   "source": [
    "df = miss_lon_lat(df)"
   ]
  },
  {
   "cell_type": "code",
   "execution_count": null,
   "metadata": {
    "ExecuteTime": {
     "end_time": "2020-12-01T17:08:07.015438Z",
     "start_time": "2020-12-01T17:08:06.280042Z"
    },
    "hidden": true
   },
   "outputs": [],
   "source": [
    "df.isnull().sum()"
   ]
  },
  {
   "cell_type": "code",
   "execution_count": null,
   "metadata": {
    "ExecuteTime": {
     "end_time": "2020-12-01T16:55:42.355726Z",
     "start_time": "2020-12-01T16:55:42.287054Z"
    },
    "hidden": true
   },
   "outputs": [],
   "source": [
    "data['victim_sex'].unique()"
   ]
  },
  {
   "cell_type": "code",
   "execution_count": null,
   "metadata": {
    "ExecuteTime": {
     "end_time": "2020-12-01T16:52:46.253397Z",
     "start_time": "2020-12-01T16:52:45.805783Z"
    },
    "hidden": true
   },
   "outputs": [],
   "source": [
    "\n",
    "\n",
    "data['victim_age_done'] = [element if element in liste else 'UNKNOWN' for element in data['victim_age']]"
   ]
  },
  {
   "cell_type": "code",
   "execution_count": null,
   "metadata": {
    "ExecuteTime": {
     "end_time": "2020-12-01T16:53:08.018102Z",
     "start_time": "2020-12-01T16:53:07.927343Z"
    },
    "hidden": true
   },
   "outputs": [],
   "source": [
    "data['victim_age_done'].unique()"
   ]
  },
  {
   "cell_type": "markdown",
   "metadata": {},
   "source": [
    "### Function"
   ]
  },
  {
   "cell_type": "code",
   "execution_count": 7,
   "metadata": {
    "ExecuteTime": {
     "end_time": "2020-12-01T20:03:39.283463Z",
     "start_time": "2020-12-01T20:03:39.271488Z"
    }
   },
   "outputs": [],
   "source": [
    "def miss_victim (df):\n",
    "    data = df.copy()\n",
    "    age_liste = ['<18', '45-64', '18-24', '25-44']\n",
    "    race_liste = ['BLACK', 'WHITE', 'UNKNOWN', 'WHITE HISPANIC', 'BLACK HISPANIC',\n",
    "       'ASIAN / PACIFIC ISLANDER', 'AMERICAN INDIAN/ALASKAN NATIVE']\n",
    "    sex_liste = ['M', 'F', 'D', 'E']\n",
    "    data['victim_age'] = [element if element in age_liste else 'UNKNOWN' for element in data['victim_age']]\n",
    "    data['victim_race'] = [element if element in race_liste else 'UNKNOWN' for element in data['victim_race']]\n",
    "    data['victim_sex'] = [element if element in sex_liste else 'UNKNOWN' for element in data['victim_sex']]\n",
    "    return data"
   ]
  },
  {
   "cell_type": "code",
   "execution_count": 8,
   "metadata": {
    "ExecuteTime": {
     "end_time": "2020-12-01T20:03:46.487213Z",
     "start_time": "2020-12-01T20:03:46.477614Z"
    }
   },
   "outputs": [],
   "source": [
    "def round_int(series):\n",
    "        \"\"\"this functions rounds pd.series of int, up\"\"\"\n",
    "        result = [round(x) for x in series]\n",
    "        return result\n",
    "def complete_to_boolean(series):\n",
    "        \"\"\"turns complete/incomplete into boolean value\"\"\"\n",
    "        result = series.replace({'COMPLETED': True, 'INCOMPLETE': False})\n",
    "        return result"
   ]
  },
  {
   "cell_type": "markdown",
   "metadata": {},
   "source": [
    "## Replace missing borough "
   ]
  },
  {
   "cell_type": "markdown",
   "metadata": {},
   "source": [
    "### Essais"
   ]
  },
  {
   "cell_type": "code",
   "execution_count": 9,
   "metadata": {
    "ExecuteTime": {
     "end_time": "2020-12-01T20:03:55.603249Z",
     "start_time": "2020-12-01T20:03:53.757401Z"
    }
   },
   "outputs": [],
   "source": [
    "df = drop_miss(df)"
   ]
  },
  {
   "cell_type": "code",
   "execution_count": 10,
   "metadata": {
    "ExecuteTime": {
     "end_time": "2020-12-01T20:04:04.071878Z",
     "start_time": "2020-12-01T20:04:02.891608Z"
    }
   },
   "outputs": [],
   "source": [
    "df = removing_date_before_2007(df)"
   ]
  },
  {
   "cell_type": "code",
   "execution_count": 11,
   "metadata": {
    "ExecuteTime": {
     "end_time": "2020-12-01T20:04:32.510739Z",
     "start_time": "2020-12-01T20:04:10.335736Z"
    }
   },
   "outputs": [],
   "source": [
    "df = miss_lon_lat(df)"
   ]
  },
  {
   "cell_type": "code",
   "execution_count": 12,
   "metadata": {
    "ExecuteTime": {
     "end_time": "2020-12-01T20:04:39.585397Z",
     "start_time": "2020-12-01T20:04:38.689334Z"
    }
   },
   "outputs": [],
   "source": [
    "df = miss_victim(df)"
   ]
  },
  {
   "cell_type": "code",
   "execution_count": 13,
   "metadata": {
    "ExecuteTime": {
     "end_time": "2020-12-01T20:04:46.484943Z",
     "start_time": "2020-12-01T20:04:45.744077Z"
    }
   },
   "outputs": [],
   "source": [
    "df['precinct_number'] = round_int(df['precinct_number'])\n",
    "df['crime_completed'] = complete_to_boolean(df['crime_completed'])"
   ]
  },
  {
   "cell_type": "code",
   "execution_count": null,
   "metadata": {
    "ExecuteTime": {
     "end_time": "2020-12-01T19:45:27.884673Z",
     "start_time": "2020-12-01T19:45:27.233732Z"
    }
   },
   "outputs": [],
   "source": [
    "df.isnull().sum()"
   ]
  },
  {
   "cell_type": "code",
   "execution_count": null,
   "metadata": {
    "ExecuteTime": {
     "end_time": "2020-12-01T18:16:01.811811Z",
     "start_time": "2020-12-01T18:16:01.778361Z"
    }
   },
   "outputs": [],
   "source": [
    "df['precinct_number'].value_counts()"
   ]
  },
  {
   "cell_type": "markdown",
   "metadata": {},
   "source": [
    "### Function"
   ]
  },
  {
   "cell_type": "code",
   "execution_count": 14,
   "metadata": {
    "ExecuteTime": {
     "end_time": "2020-12-01T20:04:52.748548Z",
     "start_time": "2020-12-01T20:04:52.741091Z"
    }
   },
   "outputs": [],
   "source": [
    "def miss_borough (df):\n",
    "    '''replace borough correct values depending on the precinct'''\n",
    "    \n",
    "    data = df.copy()\n",
    "    data['new_borough'] = [\n",
    "        'MANHATTAN' if precinct <=34\n",
    "        else 'BRONX' if precinct <=54\n",
    "        else 'BROOKLYN' if precinct <= 94\n",
    "        else 'QUEENS' if precinct <= 115\n",
    "        else 'STATEN ISLAND'\n",
    "        for precinct in data['precinct_number']\n",
    "    ]\n",
    "    \n",
    "   \n",
    "    data.drop(columns='borough', inplace=True)\n",
    "    data.rename(columns={'new_borough':'borough'},inplace=True)\n",
    "    return data"
   ]
  },
  {
   "cell_type": "markdown",
   "metadata": {},
   "source": [
    "### Tests"
   ]
  },
  {
   "cell_type": "code",
   "execution_count": 15,
   "metadata": {
    "ExecuteTime": {
     "end_time": "2020-12-01T20:04:59.818885Z",
     "start_time": "2020-12-01T20:04:59.028222Z"
    }
   },
   "outputs": [],
   "source": [
    "df = miss_borough(df)"
   ]
  },
  {
   "cell_type": "code",
   "execution_count": null,
   "metadata": {
    "ExecuteTime": {
     "end_time": "2020-12-01T18:53:39.134884Z",
     "start_time": "2020-12-01T18:53:39.121625Z"
    }
   },
   "outputs": [],
   "source": [
    "df.columns"
   ]
  },
  {
   "cell_type": "code",
   "execution_count": null,
   "metadata": {
    "ExecuteTime": {
     "end_time": "2020-12-01T18:52:52.739300Z",
     "start_time": "2020-12-01T18:52:52.660776Z"
    }
   },
   "outputs": [],
   "source": [
    "df['borough'].unique()"
   ]
  },
  {
   "cell_type": "code",
   "execution_count": null,
   "metadata": {
    "ExecuteTime": {
     "end_time": "2020-12-01T18:40:18.091282Z",
     "start_time": "2020-12-01T18:40:16.650228Z"
    }
   },
   "outputs": [],
   "source": [
    "for element in np.sort(data['precinct_number'].unique()):\n",
    "    print(element, data[data['precinct_number']==element]['new_borough'].value_counts())"
   ]
  },
  {
   "cell_type": "code",
   "execution_count": null,
   "metadata": {
    "ExecuteTime": {
     "end_time": "2020-12-01T19:22:13.181116Z",
     "start_time": "2020-12-01T19:22:12.556324Z"
    }
   },
   "outputs": [],
   "source": [
    "df.isnull().sum()"
   ]
  },
  {
   "cell_type": "markdown",
   "metadata": {},
   "source": [
    "## handle missing patrol_borough value"
   ]
  },
  {
   "cell_type": "code",
   "execution_count": null,
   "metadata": {
    "ExecuteTime": {
     "end_time": "2020-12-01T19:25:21.473011Z",
     "start_time": "2020-12-01T19:25:21.390349Z"
    }
   },
   "outputs": [],
   "source": [
    "df['patrol_borough'].unique()"
   ]
  },
  {
   "cell_type": "code",
   "execution_count": null,
   "metadata": {
    "ExecuteTime": {
     "end_time": "2020-12-01T19:25:33.869792Z",
     "start_time": "2020-12-01T19:25:33.741933Z"
    }
   },
   "outputs": [],
   "source": [
    "df['patrol_borough'].value_counts()"
   ]
  },
  {
   "cell_type": "code",
   "execution_count": null,
   "metadata": {
    "ExecuteTime": {
     "end_time": "2020-12-01T19:26:06.667229Z",
     "start_time": "2020-12-01T19:26:06.638568Z"
    }
   },
   "outputs": [],
   "source": [
    "df[['patrol_borough', 'borough']].head()"
   ]
  },
  {
   "cell_type": "code",
   "execution_count": null,
   "metadata": {
    "ExecuteTime": {
     "end_time": "2020-12-01T19:35:46.261488Z",
     "start_time": "2020-12-01T19:35:46.158204Z"
    }
   },
   "outputs": [],
   "source": [
    "to_decide = df[df['patrol_borough'] !=df['patrol_borough']][['date', 'borough', 'offense_type', 'longitude', 'latitude']]\n",
    "to_decide"
   ]
  },
  {
   "cell_type": "code",
   "execution_count": null,
   "metadata": {
    "ExecuteTime": {
     "end_time": "2020-12-01T19:33:57.576146Z",
     "start_time": "2020-12-01T19:33:57.557623Z"
    }
   },
   "outputs": [],
   "source": [
    "to_decide['offense_type'].value_counts()"
   ]
  },
  {
   "cell_type": "code",
   "execution_count": null,
   "metadata": {
    "ExecuteTime": {
     "end_time": "2020-12-01T19:32:27.593300Z",
     "start_time": "2020-12-01T19:32:27.442361Z"
    }
   },
   "outputs": [],
   "source": [
    "test = pd.DataFrame(df['offense_type'].value_counts()).reset_index()\n",
    "test.rename(columns={'index':'offense', 'offense_type':'nb'}, inplace=True)"
   ]
  },
  {
   "cell_type": "code",
   "execution_count": null,
   "metadata": {
    "ExecuteTime": {
     "end_time": "2020-12-01T19:33:00.927631Z",
     "start_time": "2020-12-01T19:33:00.911492Z"
    }
   },
   "outputs": [],
   "source": [
    "test[test['offense'] == 'MURDER & NON-NEGL. MANSLAUGHTER']"
   ]
  },
  {
   "cell_type": "code",
   "execution_count": 16,
   "metadata": {
    "ExecuteTime": {
     "end_time": "2020-12-01T20:05:06.004787Z",
     "start_time": "2020-12-01T20:05:05.992758Z"
    }
   },
   "outputs": [],
   "source": [
    "def miss_patrol_borough (df):\n",
    "    '''replace borough correct values depending on the precinct'''\n",
    "    \n",
    "    data = df.copy()\n",
    "    bronx = [40, 41, 42, 43, 44, 45, 46, 47, 48, 49, 50, 52]\n",
    "    bklyn_south = [60, 61, 62, 63, 66, 67, 68, 69, 70, 71, 72, 76, 78]\n",
    "    bklyn_north = [73, 75, 77, 79, 81, 83, 84, 88, 90, 94]\n",
    "    man_south = [1, 5, 6, 7, 9, 10, 13, 14, 17, 18]\n",
    "    man_north = [19, 20, 22, 23, 24, 25, 26, 28, 30, 32, 33, 34]\n",
    "    queens_south = [100, 101, 102, 103, 105, 106, 107, 113]\n",
    "    queens_north = [104, 108, 109, 110, 111, 112, 114, 115]\n",
    "    staten = [120, 121, 122, 123]\n",
    "    data['new_patrol'] = [\n",
    "        'PATROL BORO BRONX' if precinct in bronx\n",
    "        else 'PATROL BORO BKLYN SOUTH' if precinct in bklyn_south\n",
    "        else 'PATROL BORO BKLYN NORTH' if precinct in bklyn_north\n",
    "        else 'PATROL BORO MAN SOUTH' if precinct in man_south\n",
    "        else 'PATROL BORO MAN NORTH' if precinct in man_north\n",
    "        else 'PATROL BORO QUEENS SOUTH' if precinct in queens_south\n",
    "        else 'PATROL BORO QUEENS NORTH' if precinct in queens_north\n",
    "        else 'PATROL BORO STATEN ISLAND'       \n",
    "        for precinct in data['precinct_number']\n",
    "    ]\n",
    "    \n",
    "    data.drop(columns='patrol_borough', inplace=True)\n",
    "    data.rename(columns={'new_patrol':'patrol_borough'},inplace=True)\n",
    "    return data"
   ]
  },
  {
   "cell_type": "code",
   "execution_count": null,
   "metadata": {
    "ExecuteTime": {
     "end_time": "2020-12-01T19:52:07.469080Z",
     "start_time": "2020-12-01T19:52:07.458436Z"
    }
   },
   "outputs": [],
   "source": [
    "bronx = [40, 41, 42, 43, 44, 45, 46, 47, 48, 49, 50, 52]\n",
    "bklyn_south = [60, 61, 62, 63, 66, 67, 68, 69, 70, 71, 72, 76, 78]\n",
    "bklyn_north = [73, 75, 77, 79, 81, 83, 84, 88, 90, 94]\n",
    "man_south = [1, 5, 6, 7, 9, 10, 13, 14, 17, 18]\n",
    "man_north = [19, 20, 22, 23, 24, 25, 26, 28, 30, 32, 33, 34]\n",
    "queens_south = [100, 101, 102, 103, 105, 106, 107, 113]\n",
    "queens_north = [104, 108, 109, 110, 111, 112, 114, 115]\n",
    "staten = [120, 121, 122, 123]\n",
    "all_patrol = [bronx,bklyn_south ,bklyn_north, man_south,man_north,queens_south, queens_north,staten]"
   ]
  },
  {
   "cell_type": "code",
   "execution_count": null,
   "metadata": {
    "ExecuteTime": {
     "end_time": "2020-12-01T19:53:56.869525Z",
     "start_time": "2020-12-01T19:53:56.861462Z"
    }
   },
   "outputs": [],
   "source": [
    "verified = []\n",
    "for element in all_patrol:\n",
    "    for precinct in element:\n",
    "        if precinct not in precinct_numbers:\n",
    "            print (precinct, 'alert')\n",
    "        else:\n",
    "            verified.append(precinct)"
   ]
  },
  {
   "cell_type": "code",
   "execution_count": null,
   "metadata": {
    "ExecuteTime": {
     "end_time": "2020-12-01T19:54:29.729966Z",
     "start_time": "2020-12-01T19:54:29.720143Z"
    }
   },
   "outputs": [],
   "source": [
    "np.sort(np.array(verified)) == precinct_numbers"
   ]
  },
  {
   "cell_type": "code",
   "execution_count": 17,
   "metadata": {
    "ExecuteTime": {
     "end_time": "2020-12-01T20:05:13.489280Z",
     "start_time": "2020-12-01T20:05:12.238555Z"
    }
   },
   "outputs": [],
   "source": [
    "df = miss_patrol_borough(df)"
   ]
  },
  {
   "cell_type": "code",
   "execution_count": null,
   "metadata": {
    "ExecuteTime": {
     "end_time": "2020-12-01T20:00:17.099087Z",
     "start_time": "2020-12-01T20:00:17.043354Z"
    }
   },
   "outputs": [],
   "source": [
    "df['patrol_borough'].isnull().sum()"
   ]
  },
  {
   "cell_type": "code",
   "execution_count": null,
   "metadata": {
    "ExecuteTime": {
     "end_time": "2020-12-01T20:00:28.942925Z",
     "start_time": "2020-12-01T20:00:28.864116Z"
    }
   },
   "outputs": [],
   "source": [
    "df['patrol_borough'].unique()"
   ]
  },
  {
   "cell_type": "code",
   "execution_count": 18,
   "metadata": {
    "ExecuteTime": {
     "end_time": "2020-12-01T20:05:20.406116Z",
     "start_time": "2020-12-01T20:05:19.732288Z"
    }
   },
   "outputs": [
    {
     "data": {
      "text/plain": [
       "complaint_id            0\n",
       "date                    0\n",
       "time                    0\n",
       "precinct_number         0\n",
       "offense_type            0\n",
       "crime_completed         0\n",
       "offense_level           0\n",
       "premise_desc       188862\n",
       "premise              4258\n",
       "jurisdiction            0\n",
       "park_name          821902\n",
       "suspect_age        707427\n",
       "suspect_race       489659\n",
       "suspect_sex        522415\n",
       "latitude                0\n",
       "longitude               0\n",
       "metro              805092\n",
       "victim_age              0\n",
       "victim_race             0\n",
       "victim_sex              0\n",
       "borough                 0\n",
       "patrol_borough          0\n",
       "dtype: int64"
      ]
     },
     "execution_count": 18,
     "metadata": {},
     "output_type": "execute_result"
    }
   ],
   "source": [
    "df.isnull().sum()"
   ]
  },
  {
   "cell_type": "code",
   "execution_count": null,
   "metadata": {},
   "outputs": [],
   "source": []
  },
  {
   "cell_type": "code",
   "execution_count": null,
   "metadata": {},
   "outputs": [],
   "source": []
  },
  {
   "cell_type": "code",
   "execution_count": null,
   "metadata": {},
   "outputs": [],
   "source": []
  }
 ],
 "metadata": {
  "kernelspec": {
   "display_name": "Python 3",
   "language": "python",
   "name": "python3"
  },
  "language_info": {
   "codemirror_mode": {
    "name": "ipython",
    "version": 3
   },
   "file_extension": ".py",
   "mimetype": "text/x-python",
   "name": "python",
   "nbconvert_exporter": "python",
   "pygments_lexer": "ipython3",
   "version": "3.8.5"
  },
  "toc": {
   "base_numbering": 1,
   "nav_menu": {},
   "number_sections": true,
   "sideBar": true,
   "skip_h1_title": false,
   "title_cell": "Table of Contents",
   "title_sidebar": "Contents",
   "toc_cell": false,
   "toc_position": {},
   "toc_section_display": true,
   "toc_window_display": false
  },
  "varInspector": {
   "cols": {
    "lenName": 16,
    "lenType": 16,
    "lenVar": 40
   },
   "kernels_config": {
    "python": {
     "delete_cmd_postfix": "",
     "delete_cmd_prefix": "del ",
     "library": "var_list.py",
     "varRefreshCmd": "print(var_dic_list())"
    },
    "r": {
     "delete_cmd_postfix": ") ",
     "delete_cmd_prefix": "rm(",
     "library": "var_list.r",
     "varRefreshCmd": "cat(var_dic_list()) "
    }
   },
   "position": {
    "height": "418.85px",
    "left": "996px",
    "right": "20px",
    "top": "120px",
    "width": "264px"
   },
   "types_to_exclude": [
    "module",
    "function",
    "builtin_function_or_method",
    "instance",
    "_Feature"
   ],
   "window_display": false
  }
 },
 "nbformat": 4,
 "nbformat_minor": 4
}
