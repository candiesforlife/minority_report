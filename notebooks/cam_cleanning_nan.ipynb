{
 "cells": [
  {
   "cell_type": "code",
   "execution_count": 1,
   "metadata": {
    "ExecuteTime": {
     "end_time": "2020-12-01T17:05:02.655376Z",
     "start_time": "2020-12-01T17:05:02.266293Z"
    }
   },
   "outputs": [],
   "source": [
    "import pandas as pd"
   ]
  },
  {
   "cell_type": "code",
   "execution_count": 2,
   "metadata": {
    "ExecuteTime": {
     "end_time": "2020-12-01T17:05:33.976972Z",
     "start_time": "2020-12-01T17:05:03.366567Z"
    }
   },
   "outputs": [
    {
     "name": "stderr",
     "output_type": "stream",
     "text": [
      "/Users/camillebenhaim/.pyenv/versions/3.8.5/envs/minority_report/lib/python3.8/site-packages/IPython/core/interactiveshell.py:3146: DtypeWarning: Columns (11) have mixed types.Specify dtype option on import or set low_memory=False.\n",
      "  has_raised = await self.run_ast_nodes(code_ast.body, cell_name,\n"
     ]
    }
   ],
   "source": [
    "df = pd.read_csv('../raw_data/data.csv')"
   ]
  },
  {
   "cell_type": "code",
   "execution_count": null,
   "metadata": {},
   "outputs": [],
   "source": [
    "df = df[:1_000_000]"
   ]
  },
  {
   "cell_type": "code",
   "execution_count": null,
   "metadata": {
    "ExecuteTime": {
     "end_time": "2020-12-01T14:47:10.387824Z",
     "start_time": "2020-12-01T14:47:10.343424Z"
    }
   },
   "outputs": [],
   "source": [
    "#df.head()"
   ]
  },
  {
   "cell_type": "code",
   "execution_count": null,
   "metadata": {
    "ExecuteTime": {
     "end_time": "2020-12-01T14:48:05.097058Z",
     "start_time": "2020-12-01T14:48:00.583747Z"
    }
   },
   "outputs": [],
   "source": [
    "# mask booleans\n",
    "#not_unknown = df['precinct_number'] != -99.0\n",
    "#not_nan = df['precinct_number'] == df['precinct_number']\n",
    "#df = df[not_unknown & not_nan]\n",
    "#df = df[df['time'] == df['time']]"
   ]
  },
  {
   "cell_type": "code",
   "execution_count": null,
   "metadata": {
    "ExecuteTime": {
     "end_time": "2020-12-01T14:48:15.361106Z",
     "start_time": "2020-12-01T14:48:15.348761Z"
    }
   },
   "outputs": [],
   "source": [
    "#df.shape"
   ]
  },
  {
   "cell_type": "code",
   "execution_count": null,
   "metadata": {
    "ExecuteTime": {
     "end_time": "2020-12-01T14:46:08.380103Z",
     "start_time": "2020-12-01T14:46:02.307170Z"
    }
   },
   "outputs": [],
   "source": [
    "#df.isnull().sum()"
   ]
  },
  {
   "cell_type": "markdown",
   "metadata": {
    "heading_collapsed": true
   },
   "source": [
    "## Get only weird precints"
   ]
  },
  {
   "cell_type": "code",
   "execution_count": null,
   "metadata": {
    "ExecuteTime": {
     "end_time": "2020-12-01T11:43:20.960217Z",
     "start_time": "2020-12-01T11:43:20.835204Z"
    },
    "hidden": true
   },
   "outputs": [],
   "source": [
    "np.sort(df['precinct_number'].unique())"
   ]
  },
  {
   "cell_type": "code",
   "execution_count": null,
   "metadata": {
    "ExecuteTime": {
     "end_time": "2020-12-01T13:22:25.706256Z",
     "start_time": "2020-12-01T13:22:25.607219Z"
    },
    "hidden": true
   },
   "outputs": [],
   "source": [
    "len(df['precinct_number'].unique())"
   ]
  },
  {
   "cell_type": "code",
   "execution_count": null,
   "metadata": {
    "ExecuteTime": {
     "end_time": "2020-12-01T11:52:23.915998Z",
     "start_time": "2020-12-01T11:52:20.734062Z"
    },
    "hidden": true
   },
   "outputs": [],
   "source": [
    "# nb rows with weird precinct\n",
    "for element in df['precinct_number']:\n",
    "    if element == -99. or element != element:\n",
    "        liste.append(element)\n",
    "len(liste)"
   ]
  },
  {
   "cell_type": "code",
   "execution_count": null,
   "metadata": {
    "hidden": true
   },
   "outputs": [],
   "source": []
  },
  {
   "cell_type": "code",
   "execution_count": null,
   "metadata": {
    "ExecuteTime": {
     "end_time": "2020-12-01T13:01:39.142415Z",
     "start_time": "2020-12-01T13:01:39.103556Z"
    },
    "hidden": true
   },
   "outputs": [],
   "source": [
    "# rows to drop : no precinct, no coordinates\n",
    "data = df[unknown | nane]\n",
    "#test\n",
    "data.shape[0] == 2916"
   ]
  },
  {
   "cell_type": "code",
   "execution_count": null,
   "metadata": {
    "ExecuteTime": {
     "end_time": "2020-12-01T13:01:39.142415Z",
     "start_time": "2020-12-01T13:01:39.103556Z"
    },
    "hidden": true
   },
   "outputs": [],
   "source": [
    "to_drop = data[data['coordinates'] != data['coordinates']]\n",
    "to_drop.shape"
   ]
  },
  {
   "cell_type": "markdown",
   "metadata": {
    "heading_collapsed": true
   },
   "source": [
    "## Keep only exploitable rows"
   ]
  },
  {
   "cell_type": "code",
   "execution_count": null,
   "metadata": {
    "ExecuteTime": {
     "end_time": "2020-12-01T13:10:25.116845Z",
     "start_time": "2020-12-01T13:10:25.099930Z"
    },
    "hidden": true
   },
   "outputs": [],
   "source": [
    "#rows to keep : no precinct but coordinates\n",
    "to_keep = data[data['coordinates'] == data['coordinates']]\n",
    "to_keep.shape"
   ]
  },
  {
   "cell_type": "code",
   "execution_count": null,
   "metadata": {
    "ExecuteTime": {
     "end_time": "2020-12-01T13:11:15.988525Z",
     "start_time": "2020-12-01T13:11:15.977633Z"
    },
    "hidden": true
   },
   "outputs": [],
   "source": [
    "to_keep['coordinates'].unique()"
   ]
  },
  {
   "cell_type": "code",
   "execution_count": null,
   "metadata": {
    "ExecuteTime": {
     "end_time": "2020-12-01T13:30:17.171060Z",
     "start_time": "2020-12-01T13:30:17.160797Z"
    },
    "hidden": true
   },
   "outputs": [],
   "source": [
    "to_keep['date'].unique()"
   ]
  },
  {
   "cell_type": "markdown",
   "metadata": {
    "heading_collapsed": true
   },
   "source": [
    "## Open the precinct map data"
   ]
  },
  {
   "cell_type": "code",
   "execution_count": null,
   "metadata": {
    "ExecuteTime": {
     "end_time": "2020-12-01T13:18:42.477625Z",
     "start_time": "2020-12-01T13:18:38.853655Z"
    },
    "hidden": true
   },
   "outputs": [],
   "source": [
    "# open precinct distribution file\n",
    "import json\n",
    "with open('../raw_data/precincts.geojson') as f:\n",
    "    geo = json.load(f)\n",
    "geo"
   ]
  },
  {
   "cell_type": "code",
   "execution_count": null,
   "metadata": {
    "ExecuteTime": {
     "end_time": "2020-12-01T13:22:46.245571Z",
     "start_time": "2020-12-01T13:22:46.231408Z"
    },
    "hidden": true
   },
   "outputs": [],
   "source": [
    "#test\n",
    "len(geo['features']) == 77"
   ]
  },
  {
   "cell_type": "code",
   "execution_count": null,
   "metadata": {
    "ExecuteTime": {
     "end_time": "2020-12-01T13:24:29.252145Z",
     "start_time": "2020-12-01T13:24:29.160204Z"
    },
    "hidden": true
   },
   "outputs": [],
   "source": [
    "p1 = geo['features'][0]\n",
    "p1['geometry']['coordinates']"
   ]
  },
  {
   "cell_type": "code",
   "execution_count": null,
   "metadata": {
    "ExecuteTime": {
     "end_time": "2020-12-01T13:26:40.569190Z",
     "start_time": "2020-12-01T13:26:40.551757Z"
    },
    "hidden": true
   },
   "outputs": [],
   "source": [
    "p1_array = np.array(p1['geometry']['coordinates'], dtype=object)\n",
    "p1_array.shape"
   ]
  },
  {
   "cell_type": "code",
   "execution_count": null,
   "metadata": {
    "ExecuteTime": {
     "end_time": "2020-12-01T13:27:39.129756Z",
     "start_time": "2020-12-01T13:27:39.101711Z"
    },
    "hidden": true
   },
   "outputs": [],
   "source": [
    "p1_array[0][0]"
   ]
  },
  {
   "cell_type": "code",
   "execution_count": null,
   "metadata": {
    "hidden": true
   },
   "outputs": [],
   "source": [
    "for precinct in geo['features']:\n",
    "    "
   ]
  },
  {
   "cell_type": "markdown",
   "metadata": {
    "ExecuteTime": {
     "end_time": "2020-12-01T13:45:26.021183Z",
     "start_time": "2020-12-01T13:45:26.016601Z"
    }
   },
   "source": [
    "## Create default_values per precinct"
   ]
  },
  {
   "cell_type": "markdown",
   "metadata": {
    "heading_collapsed": true
   },
   "source": [
    "### Essais"
   ]
  },
  {
   "cell_type": "code",
   "execution_count": null,
   "metadata": {
    "ExecuteTime": {
     "end_time": "2020-12-01T14:30:09.641040Z",
     "start_time": "2020-12-01T14:30:09.597464Z"
    },
    "hidden": true
   },
   "outputs": [],
   "source": [
    "df.head()"
   ]
  },
  {
   "cell_type": "code",
   "execution_count": null,
   "metadata": {
    "ExecuteTime": {
     "end_time": "2020-12-01T14:37:59.305173Z",
     "start_time": "2020-12-01T14:37:59.150657Z"
    },
    "hidden": true
   },
   "outputs": [],
   "source": [
    "geo = df[df['precinct_number'] == 1][['precinct_number','latitude', 'longitude']]\n",
    "geo.head()"
   ]
  },
  {
   "cell_type": "code",
   "execution_count": null,
   "metadata": {
    "ExecuteTime": {
     "end_time": "2020-12-01T14:33:00.247797Z",
     "start_time": "2020-12-01T14:33:00.189974Z"
    },
    "hidden": true
   },
   "outputs": [],
   "source": [
    "geo.describe()"
   ]
  },
  {
   "cell_type": "code",
   "execution_count": null,
   "metadata": {
    "ExecuteTime": {
     "end_time": "2020-12-01T14:33:45.642848Z",
     "start_time": "2020-12-01T14:33:45.625856Z"
    },
    "hidden": true
   },
   "outputs": [],
   "source": [
    "med_lat_1 = geo['latitude'].median()\n",
    "med_lon_1 = geo['longitude'].median()"
   ]
  },
  {
   "cell_type": "code",
   "execution_count": null,
   "metadata": {
    "ExecuteTime": {
     "end_time": "2020-12-01T14:34:33.281452Z",
     "start_time": "2020-12-01T14:34:33.184938Z"
    },
    "hidden": true
   },
   "outputs": [],
   "source": [
    "np.sort(df['precinct_number'].unique())"
   ]
  },
  {
   "cell_type": "code",
   "execution_count": null,
   "metadata": {
    "ExecuteTime": {
     "end_time": "2020-12-01T16:29:34.371505Z",
     "start_time": "2020-12-01T16:29:34.363034Z"
    },
    "hidden": true
   },
   "outputs": [],
   "source": []
  },
  {
   "cell_type": "code",
   "execution_count": null,
   "metadata": {
    "ExecuteTime": {
     "end_time": "2020-12-01T14:50:18.205206Z",
     "start_time": "2020-12-01T14:50:18.193741Z"
    },
    "hidden": true
   },
   "outputs": [],
   "source": [
    "#test\n",
    "#df.shape == (6980243, 22)\n",
    "#type(df) == pd.DataFrame"
   ]
  },
  {
   "cell_type": "code",
   "execution_count": null,
   "metadata": {
    "ExecuteTime": {
     "end_time": "2020-12-01T16:29:42.530570Z",
     "start_time": "2020-12-01T16:29:42.521878Z"
    },
    "hidden": true
   },
   "outputs": [],
   "source": []
  },
  {
   "cell_type": "code",
   "execution_count": null,
   "metadata": {
    "ExecuteTime": {
     "end_time": "2020-12-01T15:58:42.884740Z",
     "start_time": "2020-12-01T15:58:28.683201Z"
    },
    "hidden": true
   },
   "outputs": [],
   "source": [
    "data_base = drop_miss(df)"
   ]
  },
  {
   "cell_type": "code",
   "execution_count": null,
   "metadata": {
    "ExecuteTime": {
     "end_time": "2020-12-01T16:01:16.791814Z",
     "start_time": "2020-12-01T16:01:12.659703Z"
    },
    "hidden": true
   },
   "outputs": [],
   "source": [
    "data = miss_lon_lat(data_base[:100000])"
   ]
  },
  {
   "cell_type": "code",
   "execution_count": null,
   "metadata": {
    "ExecuteTime": {
     "end_time": "2020-12-01T16:01:45.034891Z",
     "start_time": "2020-12-01T16:01:44.918856Z"
    },
    "hidden": true
   },
   "outputs": [],
   "source": [
    "data.isnull().sum()"
   ]
  },
  {
   "cell_type": "code",
   "execution_count": null,
   "metadata": {
    "ExecuteTime": {
     "end_time": "2020-12-01T15:43:40.652505Z",
     "start_time": "2020-12-01T15:43:40.484239Z"
    },
    "hidden": true
   },
   "outputs": [],
   "source": [
    "geo = df[df['precinct_number'] == 1][['latitude', 'longitude']]\n",
    "geo"
   ]
  },
  {
   "cell_type": "code",
   "execution_count": null,
   "metadata": {
    "ExecuteTime": {
     "end_time": "2020-12-01T15:44:06.710182Z",
     "start_time": "2020-12-01T15:44:06.693586Z"
    },
    "hidden": true
   },
   "outputs": [],
   "source": [
    "values = {'latitude': geo['latitude'].median(), 'longitude':geo['longitude'].median()}\n",
    "values"
   ]
  },
  {
   "cell_type": "code",
   "execution_count": null,
   "metadata": {
    "ExecuteTime": {
     "end_time": "2020-12-01T15:48:01.926712Z",
     "start_time": "2020-12-01T15:48:01.567028Z"
    },
    "hidden": true
   },
   "outputs": [],
   "source": [
    "df[df['precinct_number']==1].fillna(value=values) "
   ]
  },
  {
   "cell_type": "code",
   "execution_count": null,
   "metadata": {
    "ExecuteTime": {
     "end_time": "2020-12-01T15:48:39.273281Z",
     "start_time": "2020-12-01T15:48:39.138887Z"
    },
    "hidden": true
   },
   "outputs": [],
   "source": [
    "_.isnull().sum()"
   ]
  },
  {
   "cell_type": "markdown",
   "metadata": {},
   "source": [
    "### Functions"
   ]
  },
  {
   "cell_type": "code",
   "execution_count": 5,
   "metadata": {
    "ExecuteTime": {
     "end_time": "2020-12-01T17:06:43.727380Z",
     "start_time": "2020-12-01T17:06:43.714646Z"
    }
   },
   "outputs": [],
   "source": [
    "def drop_miss (df):\n",
    "    '''drop precinct and time missing values'''\n",
    "    \n",
    "    #drop precinct missing values\n",
    "    not_unknown = df['precinct_number'] != -99.0\n",
    "    not_nan = df['precinct_number'] == df['precinct_number']\n",
    "    df = df[not_unknown & not_nan]\n",
    "    \n",
    "    #drop time and date missing values\n",
    "    df = df[df['time'] == df['time']]\n",
    "    df = df[df['date'] == df['date']]\n",
    "    \n",
    "    return df"
   ]
  },
  {
   "cell_type": "code",
   "execution_count": 6,
   "metadata": {
    "ExecuteTime": {
     "end_time": "2020-12-01T17:06:49.584486Z",
     "start_time": "2020-12-01T17:06:49.570030Z"
    }
   },
   "outputs": [],
   "source": [
    "def miss_lon_lat (df):\n",
    "    '''replace latitude and longitude missing values with median values by precinct'''\n",
    "    \n",
    "    data = df.copy()\n",
    "    for precinct in np.sort(data['precinct_number'].unique()):\n",
    "        print(f'Modifying precinct{precinct}')\n",
    "        geo = data[data['precinct_number'] == precinct][['latitude', 'longitude']]\n",
    "        # get median crime location for each precinct\n",
    "        values = {'latitude': geo['latitude'].median(), 'longitude':geo['longitude'].median()}\n",
    "        # fillna lon and lat column for each crime depending on its precinct\n",
    "        data[data['precinct_number']==precinct] = data[data['precinct_number']==precinct].fillna(value=values) \n",
    "    return data\n",
    "    "
   ]
  },
  {
   "cell_type": "code",
   "execution_count": 7,
   "metadata": {
    "ExecuteTime": {
     "end_time": "2020-12-01T17:06:53.763616Z",
     "start_time": "2020-12-01T17:06:53.755910Z"
    }
   },
   "outputs": [],
   "source": [
    "def removing_date_before_2007(df):\n",
    "        '''\n",
    "        Remove any dates before 2007 & values not corresponding to our US date format month/day/year, returns pd.series\n",
    "        '''\n",
    "        rg_expression = r'(1[0-2]|0?[1-9])\\/(3[01]|[12][0-9]|0?[1-9])\\/20([1-2][0-9]|[0-2][7-9])'\n",
    "        boolean_values = df['date'].str.match(rg_expression)\n",
    "        return df[boolean_values]"
   ]
  },
  {
   "cell_type": "markdown",
   "metadata": {},
   "source": [
    "## Handle victim missing values"
   ]
  },
  {
   "cell_type": "markdown",
   "metadata": {
    "heading_collapsed": true
   },
   "source": [
    "### Essais"
   ]
  },
  {
   "cell_type": "code",
   "execution_count": 3,
   "metadata": {
    "ExecuteTime": {
     "end_time": "2020-12-01T17:06:10.723037Z",
     "start_time": "2020-12-01T17:06:10.717413Z"
    },
    "hidden": true
   },
   "outputs": [],
   "source": []
  },
  {
   "cell_type": "code",
   "execution_count": 8,
   "metadata": {
    "ExecuteTime": {
     "end_time": "2020-12-01T17:06:59.251832Z",
     "start_time": "2020-12-01T17:06:58.139108Z"
    },
    "hidden": true
   },
   "outputs": [],
   "source": [
    "df= drop_miss(df)"
   ]
  },
  {
   "cell_type": "code",
   "execution_count": 9,
   "metadata": {
    "ExecuteTime": {
     "end_time": "2020-12-01T17:07:04.015317Z",
     "start_time": "2020-12-01T17:07:02.379058Z"
    },
    "hidden": true
   },
   "outputs": [],
   "source": [
    "df = removing_date_before_2007(df)"
   ]
  },
  {
   "cell_type": "code",
   "execution_count": 10,
   "metadata": {
    "ExecuteTime": {
     "end_time": "2020-12-01T17:07:36.244429Z",
     "start_time": "2020-12-01T17:07:07.323984Z"
    },
    "collapsed": true,
    "hidden": true
   },
   "outputs": [
    {
     "name": "stdout",
     "output_type": "stream",
     "text": [
      "Modifying precinct1.0\n",
      "Modifying precinct5.0\n",
      "Modifying precinct6.0\n",
      "Modifying precinct7.0\n",
      "Modifying precinct9.0\n",
      "Modifying precinct10.0\n",
      "Modifying precinct13.0\n",
      "Modifying precinct14.0\n",
      "Modifying precinct17.0\n",
      "Modifying precinct18.0\n",
      "Modifying precinct19.0\n",
      "Modifying precinct20.0\n",
      "Modifying precinct22.0\n",
      "Modifying precinct23.0\n",
      "Modifying precinct24.0\n",
      "Modifying precinct25.0\n",
      "Modifying precinct26.0\n",
      "Modifying precinct28.0\n",
      "Modifying precinct30.0\n",
      "Modifying precinct32.0\n",
      "Modifying precinct33.0\n",
      "Modifying precinct34.0\n",
      "Modifying precinct40.0\n",
      "Modifying precinct41.0\n",
      "Modifying precinct42.0\n",
      "Modifying precinct43.0\n",
      "Modifying precinct44.0\n",
      "Modifying precinct45.0\n",
      "Modifying precinct46.0\n",
      "Modifying precinct47.0\n",
      "Modifying precinct48.0\n",
      "Modifying precinct49.0\n",
      "Modifying precinct50.0\n",
      "Modifying precinct52.0\n",
      "Modifying precinct60.0\n",
      "Modifying precinct61.0\n",
      "Modifying precinct62.0\n",
      "Modifying precinct63.0\n",
      "Modifying precinct66.0\n",
      "Modifying precinct67.0\n",
      "Modifying precinct68.0\n",
      "Modifying precinct69.0\n",
      "Modifying precinct70.0\n",
      "Modifying precinct71.0\n",
      "Modifying precinct72.0\n",
      "Modifying precinct73.0\n",
      "Modifying precinct75.0\n",
      "Modifying precinct76.0\n",
      "Modifying precinct77.0\n",
      "Modifying precinct78.0\n",
      "Modifying precinct79.0\n",
      "Modifying precinct81.0\n",
      "Modifying precinct83.0\n",
      "Modifying precinct84.0\n",
      "Modifying precinct88.0\n",
      "Modifying precinct90.0\n",
      "Modifying precinct94.0\n",
      "Modifying precinct100.0\n",
      "Modifying precinct101.0\n",
      "Modifying precinct102.0\n",
      "Modifying precinct103.0\n",
      "Modifying precinct104.0\n",
      "Modifying precinct105.0\n",
      "Modifying precinct106.0\n",
      "Modifying precinct107.0\n",
      "Modifying precinct108.0\n",
      "Modifying precinct109.0\n",
      "Modifying precinct110.0\n",
      "Modifying precinct111.0\n",
      "Modifying precinct112.0\n",
      "Modifying precinct113.0\n",
      "Modifying precinct114.0\n",
      "Modifying precinct115.0\n",
      "Modifying precinct120.0\n",
      "Modifying precinct121.0\n",
      "Modifying precinct122.0\n",
      "Modifying precinct123.0\n"
     ]
    }
   ],
   "source": [
    "df = miss_lon_lat(df)"
   ]
  },
  {
   "cell_type": "code",
   "execution_count": 11,
   "metadata": {
    "ExecuteTime": {
     "end_time": "2020-12-01T17:08:07.015438Z",
     "start_time": "2020-12-01T17:08:06.280042Z"
    },
    "collapsed": true,
    "hidden": true
   },
   "outputs": [
    {
     "data": {
      "text/plain": [
       "complaint_id            0\n",
       "date                    0\n",
       "time                    0\n",
       "precinct_number         0\n",
       "offense_type         2855\n",
       "crime_completed         2\n",
       "offense_level           0\n",
       "borough              1957\n",
       "premise_desc       189875\n",
       "premise              4288\n",
       "jurisdiction            0\n",
       "park_name          824756\n",
       "suspect_age        710059\n",
       "suspect_race       491717\n",
       "suspect_sex        524527\n",
       "latitude                0\n",
       "longitude               0\n",
       "patrol_borough        351\n",
       "metro              807540\n",
       "victim_age         279693\n",
       "victim_race            98\n",
       "victim_sex             97\n",
       "dtype: int64"
      ]
     },
     "execution_count": 11,
     "metadata": {},
     "output_type": "execute_result"
    }
   ],
   "source": [
    "df.isnull().sum()"
   ]
  },
  {
   "cell_type": "code",
   "execution_count": null,
   "metadata": {
    "ExecuteTime": {
     "end_time": "2020-12-01T16:55:42.355726Z",
     "start_time": "2020-12-01T16:55:42.287054Z"
    },
    "hidden": true
   },
   "outputs": [],
   "source": [
    "data['victim_sex'].unique()"
   ]
  },
  {
   "cell_type": "code",
   "execution_count": null,
   "metadata": {
    "ExecuteTime": {
     "end_time": "2020-12-01T16:52:46.253397Z",
     "start_time": "2020-12-01T16:52:45.805783Z"
    },
    "hidden": true
   },
   "outputs": [],
   "source": [
    "\n",
    "\n",
    "data['victim_age_done'] = [element if element in liste else 'UNKNOWN' for element in data['victim_age']]"
   ]
  },
  {
   "cell_type": "code",
   "execution_count": null,
   "metadata": {
    "ExecuteTime": {
     "end_time": "2020-12-01T16:53:08.018102Z",
     "start_time": "2020-12-01T16:53:07.927343Z"
    },
    "hidden": true
   },
   "outputs": [],
   "source": [
    "data['victim_age_done'].unique()"
   ]
  },
  {
   "cell_type": "markdown",
   "metadata": {},
   "source": [
    "### Function"
   ]
  },
  {
   "cell_type": "code",
   "execution_count": 12,
   "metadata": {
    "ExecuteTime": {
     "end_time": "2020-12-01T17:08:57.821947Z",
     "start_time": "2020-12-01T17:08:57.796104Z"
    }
   },
   "outputs": [],
   "source": [
    "def miss_victim (df):\n",
    "    data = df.copy()\n",
    "    age_liste = ['<18', '45-64', '18-24', '25-44']\n",
    "    race_liste = ['BLACK', 'WHITE', 'UNKNOWN', 'WHITE HISPANIC', 'BLACK HISPANIC',\n",
    "       'ASIAN / PACIFIC ISLANDER', 'AMERICAN INDIAN/ALASKAN NATIVE']\n",
    "    sex_liste = ['M', 'F', 'D', 'E']\n",
    "    data['victim_age'] = [element if element in age_liste else 'UNKNOWN' for element in data['victim_age']]\n",
    "    data['victim_race'] = [element if element in race_liste else 'UNKNOWN' for element in data['victim_race']]\n",
    "    data['victim_sex'] = [element if element in sex_liste else 'UNKNOWN' for element in data['victim_sex']]\n",
    "    return data"
   ]
  },
  {
   "cell_type": "code",
   "execution_count": 13,
   "metadata": {
    "ExecuteTime": {
     "end_time": "2020-12-01T17:09:09.769723Z",
     "start_time": "2020-12-01T17:09:08.562355Z"
    }
   },
   "outputs": [],
   "source": [
    "data = miss_victim(data)"
   ]
  },
  {
   "cell_type": "code",
   "execution_count": 14,
   "metadata": {
    "ExecuteTime": {
     "end_time": "2020-12-01T17:09:13.719850Z",
     "start_time": "2020-12-01T17:09:12.988130Z"
    }
   },
   "outputs": [
    {
     "data": {
      "text/plain": [
       "complaint_id            0\n",
       "date                    0\n",
       "time                    0\n",
       "precinct_number         0\n",
       "offense_type         2855\n",
       "crime_completed         2\n",
       "offense_level           0\n",
       "borough              1957\n",
       "premise_desc       189875\n",
       "premise              4288\n",
       "jurisdiction            0\n",
       "park_name          824756\n",
       "suspect_age        710059\n",
       "suspect_race       491717\n",
       "suspect_sex        524527\n",
       "latitude                0\n",
       "longitude               0\n",
       "patrol_borough        351\n",
       "metro              807540\n",
       "victim_age              0\n",
       "victim_race             0\n",
       "victim_sex              0\n",
       "dtype: int64"
      ]
     },
     "execution_count": 14,
     "metadata": {},
     "output_type": "execute_result"
    }
   ],
   "source": [
    "data.isnull().sum()"
   ]
  },
  {
   "cell_type": "markdown",
   "metadata": {},
   "source": [
    "## Replace missing borough "
   ]
  },
  {
   "cell_type": "markdown",
   "metadata": {},
   "source": [
    "### Essais"
   ]
  },
  {
   "cell_type": "code",
   "execution_count": 18,
   "metadata": {
    "ExecuteTime": {
     "end_time": "2020-12-01T17:15:07.781853Z",
     "start_time": "2020-12-01T17:15:06.940294Z"
    }
   },
   "outputs": [
    {
     "data": {
      "text/html": [
       "<div>\n",
       "<style scoped>\n",
       "    .dataframe tbody tr th:only-of-type {\n",
       "        vertical-align: middle;\n",
       "    }\n",
       "\n",
       "    .dataframe tbody tr th {\n",
       "        vertical-align: top;\n",
       "    }\n",
       "\n",
       "    .dataframe thead th {\n",
       "        text-align: right;\n",
       "    }\n",
       "</style>\n",
       "<table border=\"1\" class=\"dataframe\">\n",
       "  <thead>\n",
       "    <tr style=\"text-align: right;\">\n",
       "      <th></th>\n",
       "      <th>complaint_id</th>\n",
       "      <th>date</th>\n",
       "      <th>time</th>\n",
       "      <th>precinct_number</th>\n",
       "      <th>offense_type</th>\n",
       "      <th>crime_completed</th>\n",
       "      <th>offense_level</th>\n",
       "      <th>borough</th>\n",
       "      <th>premise_desc</th>\n",
       "      <th>premise</th>\n",
       "      <th>...</th>\n",
       "      <th>suspect_age</th>\n",
       "      <th>suspect_race</th>\n",
       "      <th>suspect_sex</th>\n",
       "      <th>latitude</th>\n",
       "      <th>longitude</th>\n",
       "      <th>patrol_borough</th>\n",
       "      <th>metro</th>\n",
       "      <th>victim_age</th>\n",
       "      <th>victim_race</th>\n",
       "      <th>victim_sex</th>\n",
       "    </tr>\n",
       "  </thead>\n",
       "  <tbody>\n",
       "    <tr>\n",
       "      <th>155</th>\n",
       "      <td>444236774</td>\n",
       "      <td>07/13/2018</td>\n",
       "      <td>23:00:00</td>\n",
       "      <td>42.0</td>\n",
       "      <td>MURDER &amp; NON-NEGL. MANSLAUGHTER</td>\n",
       "      <td>COMPLETED</td>\n",
       "      <td>FELONY</td>\n",
       "      <td>NaN</td>\n",
       "      <td>OUTSIDE</td>\n",
       "      <td>NaN</td>\n",
       "      <td>...</td>\n",
       "      <td>NaN</td>\n",
       "      <td>NaN</td>\n",
       "      <td>NaN</td>\n",
       "      <td>NaN</td>\n",
       "      <td>NaN</td>\n",
       "      <td>NaN</td>\n",
       "      <td>NaN</td>\n",
       "      <td>45-64</td>\n",
       "      <td>BLACK</td>\n",
       "      <td>M</td>\n",
       "    </tr>\n",
       "    <tr>\n",
       "      <th>949</th>\n",
       "      <td>871449938</td>\n",
       "      <td>12/15/2018</td>\n",
       "      <td>02:10:00</td>\n",
       "      <td>14.0</td>\n",
       "      <td>MURDER &amp; NON-NEGL. MANSLAUGHTER</td>\n",
       "      <td>COMPLETED</td>\n",
       "      <td>FELONY</td>\n",
       "      <td>NaN</td>\n",
       "      <td>INSIDE</td>\n",
       "      <td>NaN</td>\n",
       "      <td>...</td>\n",
       "      <td>25-44</td>\n",
       "      <td>BLACK</td>\n",
       "      <td>F</td>\n",
       "      <td>NaN</td>\n",
       "      <td>NaN</td>\n",
       "      <td>NaN</td>\n",
       "      <td>NaN</td>\n",
       "      <td>UNKNOWN</td>\n",
       "      <td>BLACK</td>\n",
       "      <td>M</td>\n",
       "    </tr>\n",
       "    <tr>\n",
       "      <th>1718</th>\n",
       "      <td>726206149</td>\n",
       "      <td>03/16/2016</td>\n",
       "      <td>20:53:00</td>\n",
       "      <td>28.0</td>\n",
       "      <td>MURDER &amp; NON-NEGL. MANSLAUGHTER</td>\n",
       "      <td>COMPLETED</td>\n",
       "      <td>FELONY</td>\n",
       "      <td>NaN</td>\n",
       "      <td>OUTSIDE</td>\n",
       "      <td>NaN</td>\n",
       "      <td>...</td>\n",
       "      <td>45-64</td>\n",
       "      <td>WHITE HISPANIC</td>\n",
       "      <td>M</td>\n",
       "      <td>40.802620</td>\n",
       "      <td>-73.951088</td>\n",
       "      <td>NaN</td>\n",
       "      <td>NaN</td>\n",
       "      <td>45-64</td>\n",
       "      <td>BLACK</td>\n",
       "      <td>M</td>\n",
       "    </tr>\n",
       "    <tr>\n",
       "      <th>1821</th>\n",
       "      <td>341785608</td>\n",
       "      <td>09/08/2015</td>\n",
       "      <td>16:15:00</td>\n",
       "      <td>14.0</td>\n",
       "      <td>MURDER &amp; NON-NEGL. MANSLAUGHTER</td>\n",
       "      <td>COMPLETED</td>\n",
       "      <td>FELONY</td>\n",
       "      <td>NaN</td>\n",
       "      <td>INSIDE</td>\n",
       "      <td>NaN</td>\n",
       "      <td>...</td>\n",
       "      <td>25-44</td>\n",
       "      <td>BLACK</td>\n",
       "      <td>M</td>\n",
       "      <td>40.754120</td>\n",
       "      <td>-73.990213</td>\n",
       "      <td>NaN</td>\n",
       "      <td>NaN</td>\n",
       "      <td>25-44</td>\n",
       "      <td>WHITE HISPANIC</td>\n",
       "      <td>F</td>\n",
       "    </tr>\n",
       "    <tr>\n",
       "      <th>2073</th>\n",
       "      <td>609942099</td>\n",
       "      <td>07/18/1991</td>\n",
       "      <td>10:45:00</td>\n",
       "      <td>79.0</td>\n",
       "      <td>MURDER &amp; NON-NEGL. MANSLAUGHTER</td>\n",
       "      <td>COMPLETED</td>\n",
       "      <td>FELONY</td>\n",
       "      <td>NaN</td>\n",
       "      <td>INSIDE</td>\n",
       "      <td>NaN</td>\n",
       "      <td>...</td>\n",
       "      <td>UNKNOWN</td>\n",
       "      <td>UNKNOWN</td>\n",
       "      <td>M</td>\n",
       "      <td>NaN</td>\n",
       "      <td>NaN</td>\n",
       "      <td>NaN</td>\n",
       "      <td>NaN</td>\n",
       "      <td>45-64</td>\n",
       "      <td>BLACK</td>\n",
       "      <td>M</td>\n",
       "    </tr>\n",
       "    <tr>\n",
       "      <th>...</th>\n",
       "      <td>...</td>\n",
       "      <td>...</td>\n",
       "      <td>...</td>\n",
       "      <td>...</td>\n",
       "      <td>...</td>\n",
       "      <td>...</td>\n",
       "      <td>...</td>\n",
       "      <td>...</td>\n",
       "      <td>...</td>\n",
       "      <td>...</td>\n",
       "      <td>...</td>\n",
       "      <td>...</td>\n",
       "      <td>...</td>\n",
       "      <td>...</td>\n",
       "      <td>...</td>\n",
       "      <td>...</td>\n",
       "      <td>...</td>\n",
       "      <td>...</td>\n",
       "      <td>...</td>\n",
       "      <td>...</td>\n",
       "      <td>...</td>\n",
       "    </tr>\n",
       "    <tr>\n",
       "      <th>6973008</th>\n",
       "      <td>292460323</td>\n",
       "      <td>03/14/2018</td>\n",
       "      <td>05:00:00</td>\n",
       "      <td>73.0</td>\n",
       "      <td>MURDER &amp; NON-NEGL. MANSLAUGHTER</td>\n",
       "      <td>COMPLETED</td>\n",
       "      <td>FELONY</td>\n",
       "      <td>NaN</td>\n",
       "      <td>INSIDE</td>\n",
       "      <td>NaN</td>\n",
       "      <td>...</td>\n",
       "      <td>25-44</td>\n",
       "      <td>BLACK</td>\n",
       "      <td>M</td>\n",
       "      <td>40.661502</td>\n",
       "      <td>-73.907661</td>\n",
       "      <td>NaN</td>\n",
       "      <td>NaN</td>\n",
       "      <td>&lt;18</td>\n",
       "      <td>BLACK</td>\n",
       "      <td>F</td>\n",
       "    </tr>\n",
       "    <tr>\n",
       "      <th>6977712</th>\n",
       "      <td>207093147</td>\n",
       "      <td>08/25/2018</td>\n",
       "      <td>00:09:00</td>\n",
       "      <td>23.0</td>\n",
       "      <td>MURDER &amp; NON-NEGL. MANSLAUGHTER</td>\n",
       "      <td>COMPLETED</td>\n",
       "      <td>FELONY</td>\n",
       "      <td>NaN</td>\n",
       "      <td>OUTSIDE</td>\n",
       "      <td>NaN</td>\n",
       "      <td>...</td>\n",
       "      <td>NaN</td>\n",
       "      <td>NaN</td>\n",
       "      <td>NaN</td>\n",
       "      <td>40.791998</td>\n",
       "      <td>-73.949719</td>\n",
       "      <td>NaN</td>\n",
       "      <td>NaN</td>\n",
       "      <td>18-24</td>\n",
       "      <td>WHITE HISPANIC</td>\n",
       "      <td>M</td>\n",
       "    </tr>\n",
       "    <tr>\n",
       "      <th>6979385</th>\n",
       "      <td>708236354</td>\n",
       "      <td>09/15/2018</td>\n",
       "      <td>04:22:00</td>\n",
       "      <td>75.0</td>\n",
       "      <td>MURDER &amp; NON-NEGL. MANSLAUGHTER</td>\n",
       "      <td>COMPLETED</td>\n",
       "      <td>FELONY</td>\n",
       "      <td>NaN</td>\n",
       "      <td>OUTSIDE</td>\n",
       "      <td>NaN</td>\n",
       "      <td>...</td>\n",
       "      <td>18-24</td>\n",
       "      <td>WHITE HISPANIC</td>\n",
       "      <td>M</td>\n",
       "      <td>40.685785</td>\n",
       "      <td>-73.867795</td>\n",
       "      <td>NaN</td>\n",
       "      <td>NaN</td>\n",
       "      <td>25-44</td>\n",
       "      <td>BLACK HISPANIC</td>\n",
       "      <td>M</td>\n",
       "    </tr>\n",
       "    <tr>\n",
       "      <th>6979910</th>\n",
       "      <td>933749521</td>\n",
       "      <td>06/20/2018</td>\n",
       "      <td>23:35:00</td>\n",
       "      <td>48.0</td>\n",
       "      <td>MURDER &amp; NON-NEGL. MANSLAUGHTER</td>\n",
       "      <td>COMPLETED</td>\n",
       "      <td>FELONY</td>\n",
       "      <td>NaN</td>\n",
       "      <td>OUTSIDE</td>\n",
       "      <td>NaN</td>\n",
       "      <td>...</td>\n",
       "      <td>18-24</td>\n",
       "      <td>BLACK HISPANIC</td>\n",
       "      <td>M</td>\n",
       "      <td>40.854801</td>\n",
       "      <td>-73.892152</td>\n",
       "      <td>NaN</td>\n",
       "      <td>NaN</td>\n",
       "      <td>&lt;18</td>\n",
       "      <td>WHITE HISPANIC</td>\n",
       "      <td>M</td>\n",
       "    </tr>\n",
       "    <tr>\n",
       "      <th>6980965</th>\n",
       "      <td>241228267</td>\n",
       "      <td>09/27/2018</td>\n",
       "      <td>21:41:00</td>\n",
       "      <td>115.0</td>\n",
       "      <td>MURDER &amp; NON-NEGL. MANSLAUGHTER</td>\n",
       "      <td>COMPLETED</td>\n",
       "      <td>FELONY</td>\n",
       "      <td>NaN</td>\n",
       "      <td>OUTSIDE</td>\n",
       "      <td>NaN</td>\n",
       "      <td>...</td>\n",
       "      <td>25-44</td>\n",
       "      <td>WHITE HISPANIC</td>\n",
       "      <td>M</td>\n",
       "      <td>40.747495</td>\n",
       "      <td>-73.885321</td>\n",
       "      <td>NaN</td>\n",
       "      <td>NaN</td>\n",
       "      <td>25-44</td>\n",
       "      <td>WHITE HISPANIC</td>\n",
       "      <td>M</td>\n",
       "    </tr>\n",
       "  </tbody>\n",
       "</table>\n",
       "<p>10894 rows × 22 columns</p>\n",
       "</div>"
      ],
      "text/plain": [
       "         complaint_id        date      time  precinct_number  \\\n",
       "155         444236774  07/13/2018  23:00:00             42.0   \n",
       "949         871449938  12/15/2018  02:10:00             14.0   \n",
       "1718        726206149  03/16/2016  20:53:00             28.0   \n",
       "1821        341785608  09/08/2015  16:15:00             14.0   \n",
       "2073        609942099  07/18/1991  10:45:00             79.0   \n",
       "...               ...         ...       ...              ...   \n",
       "6973008     292460323  03/14/2018  05:00:00             73.0   \n",
       "6977712     207093147  08/25/2018  00:09:00             23.0   \n",
       "6979385     708236354  09/15/2018  04:22:00             75.0   \n",
       "6979910     933749521  06/20/2018  23:35:00             48.0   \n",
       "6980965     241228267  09/27/2018  21:41:00            115.0   \n",
       "\n",
       "                            offense_type crime_completed offense_level  \\\n",
       "155      MURDER & NON-NEGL. MANSLAUGHTER       COMPLETED        FELONY   \n",
       "949      MURDER & NON-NEGL. MANSLAUGHTER       COMPLETED        FELONY   \n",
       "1718     MURDER & NON-NEGL. MANSLAUGHTER       COMPLETED        FELONY   \n",
       "1821     MURDER & NON-NEGL. MANSLAUGHTER       COMPLETED        FELONY   \n",
       "2073     MURDER & NON-NEGL. MANSLAUGHTER       COMPLETED        FELONY   \n",
       "...                                  ...             ...           ...   \n",
       "6973008  MURDER & NON-NEGL. MANSLAUGHTER       COMPLETED        FELONY   \n",
       "6977712  MURDER & NON-NEGL. MANSLAUGHTER       COMPLETED        FELONY   \n",
       "6979385  MURDER & NON-NEGL. MANSLAUGHTER       COMPLETED        FELONY   \n",
       "6979910  MURDER & NON-NEGL. MANSLAUGHTER       COMPLETED        FELONY   \n",
       "6980965  MURDER & NON-NEGL. MANSLAUGHTER       COMPLETED        FELONY   \n",
       "\n",
       "        borough premise_desc premise  ... suspect_age    suspect_race  \\\n",
       "155         NaN      OUTSIDE     NaN  ...         NaN             NaN   \n",
       "949         NaN       INSIDE     NaN  ...       25-44           BLACK   \n",
       "1718        NaN      OUTSIDE     NaN  ...       45-64  WHITE HISPANIC   \n",
       "1821        NaN       INSIDE     NaN  ...       25-44           BLACK   \n",
       "2073        NaN       INSIDE     NaN  ...     UNKNOWN         UNKNOWN   \n",
       "...         ...          ...     ...  ...         ...             ...   \n",
       "6973008     NaN       INSIDE     NaN  ...       25-44           BLACK   \n",
       "6977712     NaN      OUTSIDE     NaN  ...         NaN             NaN   \n",
       "6979385     NaN      OUTSIDE     NaN  ...       18-24  WHITE HISPANIC   \n",
       "6979910     NaN      OUTSIDE     NaN  ...       18-24  BLACK HISPANIC   \n",
       "6980965     NaN      OUTSIDE     NaN  ...       25-44  WHITE HISPANIC   \n",
       "\n",
       "        suspect_sex   latitude  longitude  patrol_borough  metro victim_age  \\\n",
       "155             NaN        NaN        NaN             NaN    NaN      45-64   \n",
       "949               F        NaN        NaN             NaN    NaN    UNKNOWN   \n",
       "1718              M  40.802620 -73.951088             NaN    NaN      45-64   \n",
       "1821              M  40.754120 -73.990213             NaN    NaN      25-44   \n",
       "2073              M        NaN        NaN             NaN    NaN      45-64   \n",
       "...             ...        ...        ...             ...    ...        ...   \n",
       "6973008           M  40.661502 -73.907661             NaN    NaN        <18   \n",
       "6977712         NaN  40.791998 -73.949719             NaN    NaN      18-24   \n",
       "6979385           M  40.685785 -73.867795             NaN    NaN      25-44   \n",
       "6979910           M  40.854801 -73.892152             NaN    NaN        <18   \n",
       "6980965           M  40.747495 -73.885321             NaN    NaN      25-44   \n",
       "\n",
       "            victim_race victim_sex  \n",
       "155               BLACK          M  \n",
       "949               BLACK          M  \n",
       "1718              BLACK          M  \n",
       "1821     WHITE HISPANIC          F  \n",
       "2073              BLACK          M  \n",
       "...                 ...        ...  \n",
       "6973008           BLACK          F  \n",
       "6977712  WHITE HISPANIC          M  \n",
       "6979385  BLACK HISPANIC          M  \n",
       "6979910  WHITE HISPANIC          M  \n",
       "6980965  WHITE HISPANIC          M  \n",
       "\n",
       "[10894 rows x 22 columns]"
      ]
     },
     "execution_count": 18,
     "metadata": {},
     "output_type": "execute_result"
    }
   ],
   "source": [
    "df[df['borough'] != df['borough']]"
   ]
  }
 ],
 "metadata": {
  "kernelspec": {
   "display_name": "Python 3",
   "language": "python",
   "name": "python3"
  },
  "language_info": {
   "codemirror_mode": {
    "name": "ipython",
    "version": 3
   },
   "file_extension": ".py",
   "mimetype": "text/x-python",
   "name": "python",
   "nbconvert_exporter": "python",
   "pygments_lexer": "ipython3",
   "version": "3.8.5"
  },
  "toc": {
   "base_numbering": 1,
   "nav_menu": {},
   "number_sections": true,
   "sideBar": true,
   "skip_h1_title": false,
   "title_cell": "Table of Contents",
   "title_sidebar": "Contents",
   "toc_cell": false,
   "toc_position": {},
   "toc_section_display": true,
   "toc_window_display": false
  },
  "varInspector": {
   "cols": {
    "lenName": 16,
    "lenType": 16,
    "lenVar": 40
   },
   "kernels_config": {
    "python": {
     "delete_cmd_postfix": "",
     "delete_cmd_prefix": "del ",
     "library": "var_list.py",
     "varRefreshCmd": "print(var_dic_list())"
    },
    "r": {
     "delete_cmd_postfix": ") ",
     "delete_cmd_prefix": "rm(",
     "library": "var_list.r",
     "varRefreshCmd": "cat(var_dic_list()) "
    }
   },
   "types_to_exclude": [
    "module",
    "function",
    "builtin_function_or_method",
    "instance",
    "_Feature"
   ],
   "window_display": false
  }
 },
 "nbformat": 4,
 "nbformat_minor": 4
}
