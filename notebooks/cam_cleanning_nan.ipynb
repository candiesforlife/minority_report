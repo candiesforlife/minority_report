{
 "cells": [
  {
   "cell_type": "code",
   "execution_count": 1,
   "metadata": {
    "ExecuteTime": {
     "end_time": "2020-12-01T15:33:09.226969Z",
     "start_time": "2020-12-01T15:33:08.764680Z"
    }
   },
   "outputs": [],
   "source": [
    "import pandas as pd"
   ]
  },
  {
   "cell_type": "code",
   "execution_count": 2,
   "metadata": {
    "ExecuteTime": {
     "end_time": "2020-12-01T15:33:39.438718Z",
     "start_time": "2020-12-01T15:33:10.604159Z"
    }
   },
   "outputs": [
    {
     "name": "stderr",
     "output_type": "stream",
     "text": [
      "/Users/camillebenhaim/.pyenv/versions/3.8.5/envs/minority_report/lib/python3.8/site-packages/IPython/core/interactiveshell.py:3146: DtypeWarning: Columns (11) have mixed types.Specify dtype option on import or set low_memory=False.\n",
      "  has_raised = await self.run_ast_nodes(code_ast.body, cell_name,\n"
     ]
    }
   ],
   "source": [
    "df = pd.read_csv('../raw_data/data.csv')"
   ]
  },
  {
   "cell_type": "code",
   "execution_count": null,
   "metadata": {
    "ExecuteTime": {
     "end_time": "2020-12-01T14:47:10.387824Z",
     "start_time": "2020-12-01T14:47:10.343424Z"
    }
   },
   "outputs": [],
   "source": [
    "df.head()"
   ]
  },
  {
   "cell_type": "code",
   "execution_count": null,
   "metadata": {
    "ExecuteTime": {
     "end_time": "2020-12-01T14:48:05.097058Z",
     "start_time": "2020-12-01T14:48:00.583747Z"
    }
   },
   "outputs": [],
   "source": [
    "# mask booleans\n",
    "not_unknown = df['precinct_number'] != -99.0\n",
    "not_nan = df['precinct_number'] == df['precinct_number']\n",
    "df = df[not_unknown & not_nan]\n",
    "df = df[df['time'] == df['time']]"
   ]
  },
  {
   "cell_type": "code",
   "execution_count": null,
   "metadata": {
    "ExecuteTime": {
     "end_time": "2020-12-01T14:48:15.361106Z",
     "start_time": "2020-12-01T14:48:15.348761Z"
    }
   },
   "outputs": [],
   "source": [
    "df.shape"
   ]
  },
  {
   "cell_type": "code",
   "execution_count": null,
   "metadata": {
    "ExecuteTime": {
     "end_time": "2020-12-01T14:46:08.380103Z",
     "start_time": "2020-12-01T14:46:02.307170Z"
    }
   },
   "outputs": [],
   "source": [
    "df.isnull().sum()"
   ]
  },
  {
   "cell_type": "markdown",
   "metadata": {
    "heading_collapsed": true
   },
   "source": [
    "## Get only weird precints"
   ]
  },
  {
   "cell_type": "code",
   "execution_count": null,
   "metadata": {
    "ExecuteTime": {
     "end_time": "2020-12-01T11:43:20.960217Z",
     "start_time": "2020-12-01T11:43:20.835204Z"
    },
    "hidden": true
   },
   "outputs": [],
   "source": [
    "np.sort(df['precinct_number'].unique())"
   ]
  },
  {
   "cell_type": "code",
   "execution_count": null,
   "metadata": {
    "ExecuteTime": {
     "end_time": "2020-12-01T13:22:25.706256Z",
     "start_time": "2020-12-01T13:22:25.607219Z"
    },
    "hidden": true
   },
   "outputs": [],
   "source": [
    "len(df['precinct_number'].unique())"
   ]
  },
  {
   "cell_type": "code",
   "execution_count": null,
   "metadata": {
    "ExecuteTime": {
     "end_time": "2020-12-01T11:52:23.915998Z",
     "start_time": "2020-12-01T11:52:20.734062Z"
    },
    "hidden": true
   },
   "outputs": [],
   "source": [
    "# nb rows with weird precinct\n",
    "for element in df['precinct_number']:\n",
    "    if element == -99. or element != element:\n",
    "        liste.append(element)\n",
    "len(liste)"
   ]
  },
  {
   "cell_type": "code",
   "execution_count": null,
   "metadata": {
    "hidden": true
   },
   "outputs": [],
   "source": []
  },
  {
   "cell_type": "code",
   "execution_count": null,
   "metadata": {
    "ExecuteTime": {
     "end_time": "2020-12-01T13:01:39.142415Z",
     "start_time": "2020-12-01T13:01:39.103556Z"
    },
    "hidden": true
   },
   "outputs": [],
   "source": [
    "# rows to drop : no precinct, no coordinates\n",
    "data = df[unknown | nane]\n",
    "#test\n",
    "data.shape[0] == 2916"
   ]
  },
  {
   "cell_type": "code",
   "execution_count": null,
   "metadata": {
    "ExecuteTime": {
     "end_time": "2020-12-01T13:01:39.142415Z",
     "start_time": "2020-12-01T13:01:39.103556Z"
    },
    "hidden": true
   },
   "outputs": [],
   "source": [
    "to_drop = data[data['coordinates'] != data['coordinates']]\n",
    "to_drop.shape"
   ]
  },
  {
   "cell_type": "markdown",
   "metadata": {
    "heading_collapsed": true
   },
   "source": [
    "## Keep only exploitable rows"
   ]
  },
  {
   "cell_type": "code",
   "execution_count": null,
   "metadata": {
    "ExecuteTime": {
     "end_time": "2020-12-01T13:10:25.116845Z",
     "start_time": "2020-12-01T13:10:25.099930Z"
    },
    "hidden": true
   },
   "outputs": [],
   "source": [
    "#rows to keep : no precinct but coordinates\n",
    "to_keep = data[data['coordinates'] == data['coordinates']]\n",
    "to_keep.shape"
   ]
  },
  {
   "cell_type": "code",
   "execution_count": null,
   "metadata": {
    "ExecuteTime": {
     "end_time": "2020-12-01T13:11:15.988525Z",
     "start_time": "2020-12-01T13:11:15.977633Z"
    },
    "hidden": true
   },
   "outputs": [],
   "source": [
    "to_keep['coordinates'].unique()"
   ]
  },
  {
   "cell_type": "code",
   "execution_count": null,
   "metadata": {
    "ExecuteTime": {
     "end_time": "2020-12-01T13:30:17.171060Z",
     "start_time": "2020-12-01T13:30:17.160797Z"
    },
    "hidden": true
   },
   "outputs": [],
   "source": [
    "to_keep['date'].unique()"
   ]
  },
  {
   "cell_type": "markdown",
   "metadata": {
    "heading_collapsed": true
   },
   "source": [
    "## Open the precinct map data"
   ]
  },
  {
   "cell_type": "code",
   "execution_count": null,
   "metadata": {
    "ExecuteTime": {
     "end_time": "2020-12-01T13:18:42.477625Z",
     "start_time": "2020-12-01T13:18:38.853655Z"
    },
    "hidden": true
   },
   "outputs": [],
   "source": [
    "# open precinct distribution file\n",
    "import json\n",
    "with open('../raw_data/precincts.geojson') as f:\n",
    "    geo = json.load(f)\n",
    "geo"
   ]
  },
  {
   "cell_type": "code",
   "execution_count": null,
   "metadata": {
    "ExecuteTime": {
     "end_time": "2020-12-01T13:22:46.245571Z",
     "start_time": "2020-12-01T13:22:46.231408Z"
    },
    "hidden": true
   },
   "outputs": [],
   "source": [
    "#test\n",
    "len(geo['features']) == 77"
   ]
  },
  {
   "cell_type": "code",
   "execution_count": null,
   "metadata": {
    "ExecuteTime": {
     "end_time": "2020-12-01T13:24:29.252145Z",
     "start_time": "2020-12-01T13:24:29.160204Z"
    },
    "hidden": true
   },
   "outputs": [],
   "source": [
    "p1 = geo['features'][0]\n",
    "p1['geometry']['coordinates']"
   ]
  },
  {
   "cell_type": "code",
   "execution_count": null,
   "metadata": {
    "ExecuteTime": {
     "end_time": "2020-12-01T13:26:40.569190Z",
     "start_time": "2020-12-01T13:26:40.551757Z"
    },
    "hidden": true
   },
   "outputs": [],
   "source": [
    "p1_array = np.array(p1['geometry']['coordinates'], dtype=object)\n",
    "p1_array.shape"
   ]
  },
  {
   "cell_type": "code",
   "execution_count": null,
   "metadata": {
    "ExecuteTime": {
     "end_time": "2020-12-01T13:27:39.129756Z",
     "start_time": "2020-12-01T13:27:39.101711Z"
    },
    "hidden": true
   },
   "outputs": [],
   "source": [
    "p1_array[0][0]"
   ]
  },
  {
   "cell_type": "code",
   "execution_count": null,
   "metadata": {
    "hidden": true
   },
   "outputs": [],
   "source": [
    "for precinct in geo['features']:\n",
    "    "
   ]
  },
  {
   "cell_type": "markdown",
   "metadata": {
    "ExecuteTime": {
     "end_time": "2020-12-01T13:45:26.021183Z",
     "start_time": "2020-12-01T13:45:26.016601Z"
    },
    "heading_collapsed": true
   },
   "source": [
    "## Create default_values per precinct"
   ]
  },
  {
   "cell_type": "code",
   "execution_count": null,
   "metadata": {
    "ExecuteTime": {
     "end_time": "2020-12-01T14:30:09.641040Z",
     "start_time": "2020-12-01T14:30:09.597464Z"
    },
    "hidden": true
   },
   "outputs": [],
   "source": [
    "df.head()"
   ]
  },
  {
   "cell_type": "code",
   "execution_count": null,
   "metadata": {
    "ExecuteTime": {
     "end_time": "2020-12-01T14:37:59.305173Z",
     "start_time": "2020-12-01T14:37:59.150657Z"
    },
    "hidden": true
   },
   "outputs": [],
   "source": [
    "geo = df[df['precinct_number'] == 1][['precinct_number','latitude', 'longitude']]\n",
    "geo.head()"
   ]
  },
  {
   "cell_type": "code",
   "execution_count": null,
   "metadata": {
    "ExecuteTime": {
     "end_time": "2020-12-01T14:33:00.247797Z",
     "start_time": "2020-12-01T14:33:00.189974Z"
    },
    "hidden": true
   },
   "outputs": [],
   "source": [
    "geo.describe()"
   ]
  },
  {
   "cell_type": "code",
   "execution_count": null,
   "metadata": {
    "ExecuteTime": {
     "end_time": "2020-12-01T14:33:45.642848Z",
     "start_time": "2020-12-01T14:33:45.625856Z"
    },
    "hidden": true
   },
   "outputs": [],
   "source": [
    "med_lat_1 = geo['latitude'].median()\n",
    "med_lon_1 = geo['longitude'].median()"
   ]
  },
  {
   "cell_type": "code",
   "execution_count": null,
   "metadata": {
    "ExecuteTime": {
     "end_time": "2020-12-01T14:34:33.281452Z",
     "start_time": "2020-12-01T14:34:33.184938Z"
    },
    "hidden": true
   },
   "outputs": [],
   "source": [
    "np.sort(df['precinct_number'].unique())"
   ]
  },
  {
   "cell_type": "code",
   "execution_count": 3,
   "metadata": {
    "ExecuteTime": {
     "end_time": "2020-12-01T15:35:41.273810Z",
     "start_time": "2020-12-01T15:35:41.263573Z"
    },
    "hidden": true
   },
   "outputs": [],
   "source": [
    "def drop_miss (df):\n",
    "    '''drop precinct and time missing values'''\n",
    "    \n",
    "    #drop precinct missing values\n",
    "    not_unknown = df['precinct_number'] != -99.0\n",
    "    not_nan = df['precinct_number'] == df['precinct_number']\n",
    "    df = df[not_unknown & not_nan]\n",
    "    \n",
    "    #drop time and date missing values\n",
    "    df = df[df['time'] == df['time']]\n",
    "    df = df[df['date'] == df['date']]\n",
    "    \n",
    "    return df"
   ]
  },
  {
   "cell_type": "code",
   "execution_count": null,
   "metadata": {
    "ExecuteTime": {
     "end_time": "2020-12-01T14:50:18.205206Z",
     "start_time": "2020-12-01T14:50:18.193741Z"
    },
    "hidden": true
   },
   "outputs": [],
   "source": [
    "#test\n",
    "#df.shape == (6980243, 22)\n",
    "#type(df) == pd.DataFrame"
   ]
  },
  {
   "cell_type": "code",
   "execution_count": 21,
   "metadata": {
    "ExecuteTime": {
     "end_time": "2020-12-01T15:50:58.526758Z",
     "start_time": "2020-12-01T15:50:58.516724Z"
    },
    "hidden": true
   },
   "outputs": [],
   "source": [
    "def miss_lon_lat (df):\n",
    "    '''replace latitude and longitude missing values with median values by precinct'''\n",
    "    \n",
    "    data = df.copy()\n",
    "    for precinct in data['precinct_number'].unique():\n",
    "        print(f'Modifying precinct{precinct}')\n",
    "        geo = data[data['precinct_number'] == precinct][['latitude', 'longitude']]\n",
    "        values = {'latitude': geo['latitude'].median(), 'longitude':geo['longitude'].median()}\n",
    "        data[data['precinct_number']==precinct] = data[data['precinct_number']==precinct].fillna(value=values) \n",
    "    return data\n",
    "    "
   ]
  },
  {
   "cell_type": "code",
   "execution_count": 25,
   "metadata": {
    "ExecuteTime": {
     "end_time": "2020-12-01T15:58:42.884740Z",
     "start_time": "2020-12-01T15:58:28.683201Z"
    },
    "hidden": true
   },
   "outputs": [],
   "source": [
    "data_base = drop_miss(df)"
   ]
  },
  {
   "cell_type": "code",
   "execution_count": 29,
   "metadata": {
    "ExecuteTime": {
     "end_time": "2020-12-01T16:01:16.791814Z",
     "start_time": "2020-12-01T16:01:12.659703Z"
    },
    "hidden": true
   },
   "outputs": [],
   "source": [
    "data = miss_lon_lat(data_base[:100000])"
   ]
  },
  {
   "cell_type": "code",
   "execution_count": 30,
   "metadata": {
    "ExecuteTime": {
     "end_time": "2020-12-01T16:01:45.034891Z",
     "start_time": "2020-12-01T16:01:44.918856Z"
    },
    "hidden": true
   },
   "outputs": [
    {
     "data": {
      "text/plain": [
       "complaint_id           0\n",
       "date                   0\n",
       "time                   0\n",
       "precinct_number        0\n",
       "offense_type         349\n",
       "crime_completed        0\n",
       "offense_level          0\n",
       "borough              159\n",
       "premise_desc       21802\n",
       "premise              622\n",
       "jurisdiction           0\n",
       "park_name          99847\n",
       "suspect_age        80056\n",
       "suspect_race       55749\n",
       "suspect_sex        58930\n",
       "latitude               0\n",
       "longitude              0\n",
       "patrol_borough        57\n",
       "metro              97852\n",
       "victim_age         30340\n",
       "victim_race            1\n",
       "victim_sex             1\n",
       "dtype: int64"
      ]
     },
     "execution_count": 30,
     "metadata": {},
     "output_type": "execute_result"
    }
   ],
   "source": [
    "data.isnull().sum()"
   ]
  },
  {
   "cell_type": "code",
   "execution_count": 15,
   "metadata": {
    "ExecuteTime": {
     "end_time": "2020-12-01T15:43:40.652505Z",
     "start_time": "2020-12-01T15:43:40.484239Z"
    },
    "hidden": true
   },
   "outputs": [
    {
     "data": {
      "text/html": [
       "<div>\n",
       "<style scoped>\n",
       "    .dataframe tbody tr th:only-of-type {\n",
       "        vertical-align: middle;\n",
       "    }\n",
       "\n",
       "    .dataframe tbody tr th {\n",
       "        vertical-align: top;\n",
       "    }\n",
       "\n",
       "    .dataframe thead th {\n",
       "        text-align: right;\n",
       "    }\n",
       "</style>\n",
       "<table border=\"1\" class=\"dataframe\">\n",
       "  <thead>\n",
       "    <tr style=\"text-align: right;\">\n",
       "      <th></th>\n",
       "      <th>latitude</th>\n",
       "      <th>longitude</th>\n",
       "    </tr>\n",
       "  </thead>\n",
       "  <tbody>\n",
       "    <tr>\n",
       "      <th>93</th>\n",
       "      <td>40.729052</td>\n",
       "      <td>-74.009949</td>\n",
       "    </tr>\n",
       "    <tr>\n",
       "      <th>240</th>\n",
       "      <td>40.719405</td>\n",
       "      <td>-74.001885</td>\n",
       "    </tr>\n",
       "    <tr>\n",
       "      <th>323</th>\n",
       "      <td>40.727779</td>\n",
       "      <td>-74.004302</td>\n",
       "    </tr>\n",
       "    <tr>\n",
       "      <th>329</th>\n",
       "      <td>40.706328</td>\n",
       "      <td>-74.012881</td>\n",
       "    </tr>\n",
       "    <tr>\n",
       "      <th>386</th>\n",
       "      <td>40.704494</td>\n",
       "      <td>-74.011565</td>\n",
       "    </tr>\n",
       "    <tr>\n",
       "      <th>...</th>\n",
       "      <td>...</td>\n",
       "      <td>...</td>\n",
       "    </tr>\n",
       "    <tr>\n",
       "      <th>6982672</th>\n",
       "      <td>40.725201</td>\n",
       "      <td>-73.999724</td>\n",
       "    </tr>\n",
       "    <tr>\n",
       "      <th>6982709</th>\n",
       "      <td>40.721323</td>\n",
       "      <td>-74.000258</td>\n",
       "    </tr>\n",
       "    <tr>\n",
       "      <th>6982968</th>\n",
       "      <td>40.701489</td>\n",
       "      <td>-74.012545</td>\n",
       "    </tr>\n",
       "    <tr>\n",
       "      <th>6983025</th>\n",
       "      <td>40.706756</td>\n",
       "      <td>-74.010090</td>\n",
       "    </tr>\n",
       "    <tr>\n",
       "      <th>6983143</th>\n",
       "      <td>NaN</td>\n",
       "      <td>NaN</td>\n",
       "    </tr>\n",
       "  </tbody>\n",
       "</table>\n",
       "<p>87668 rows × 2 columns</p>\n",
       "</div>"
      ],
      "text/plain": [
       "          latitude  longitude\n",
       "93       40.729052 -74.009949\n",
       "240      40.719405 -74.001885\n",
       "323      40.727779 -74.004302\n",
       "329      40.706328 -74.012881\n",
       "386      40.704494 -74.011565\n",
       "...            ...        ...\n",
       "6982672  40.725201 -73.999724\n",
       "6982709  40.721323 -74.000258\n",
       "6982968  40.701489 -74.012545\n",
       "6983025  40.706756 -74.010090\n",
       "6983143        NaN        NaN\n",
       "\n",
       "[87668 rows x 2 columns]"
      ]
     },
     "execution_count": 15,
     "metadata": {},
     "output_type": "execute_result"
    }
   ],
   "source": [
    "geo = df[df['precinct_number'] == 1][['latitude', 'longitude']]\n",
    "geo"
   ]
  },
  {
   "cell_type": "code",
   "execution_count": 16,
   "metadata": {
    "ExecuteTime": {
     "end_time": "2020-12-01T15:44:06.710182Z",
     "start_time": "2020-12-01T15:44:06.693586Z"
    },
    "hidden": true
   },
   "outputs": [
    {
     "data": {
      "text/plain": [
       "{'latitude': 40.71417288, 'longitude': -74.007446595}"
      ]
     },
     "execution_count": 16,
     "metadata": {},
     "output_type": "execute_result"
    }
   ],
   "source": [
    "values = {'latitude': geo['latitude'].median(), 'longitude':geo['longitude'].median()}\n",
    "values"
   ]
  },
  {
   "cell_type": "code",
   "execution_count": 19,
   "metadata": {
    "ExecuteTime": {
     "end_time": "2020-12-01T15:48:01.926712Z",
     "start_time": "2020-12-01T15:48:01.567028Z"
    },
    "hidden": true
   },
   "outputs": [
    {
     "data": {
      "text/html": [
       "<div>\n",
       "<style scoped>\n",
       "    .dataframe tbody tr th:only-of-type {\n",
       "        vertical-align: middle;\n",
       "    }\n",
       "\n",
       "    .dataframe tbody tr th {\n",
       "        vertical-align: top;\n",
       "    }\n",
       "\n",
       "    .dataframe thead th {\n",
       "        text-align: right;\n",
       "    }\n",
       "</style>\n",
       "<table border=\"1\" class=\"dataframe\">\n",
       "  <thead>\n",
       "    <tr style=\"text-align: right;\">\n",
       "      <th></th>\n",
       "      <th>complaint_id</th>\n",
       "      <th>date</th>\n",
       "      <th>time</th>\n",
       "      <th>precinct_number</th>\n",
       "      <th>offense_type</th>\n",
       "      <th>crime_completed</th>\n",
       "      <th>offense_level</th>\n",
       "      <th>borough</th>\n",
       "      <th>premise_desc</th>\n",
       "      <th>premise</th>\n",
       "      <th>...</th>\n",
       "      <th>suspect_age</th>\n",
       "      <th>suspect_race</th>\n",
       "      <th>suspect_sex</th>\n",
       "      <th>latitude</th>\n",
       "      <th>longitude</th>\n",
       "      <th>patrol_borough</th>\n",
       "      <th>metro</th>\n",
       "      <th>victim_age</th>\n",
       "      <th>victim_race</th>\n",
       "      <th>victim_sex</th>\n",
       "    </tr>\n",
       "  </thead>\n",
       "  <tbody>\n",
       "    <tr>\n",
       "      <th>93</th>\n",
       "      <td>671099534</td>\n",
       "      <td>10/12/2014</td>\n",
       "      <td>00:55:00</td>\n",
       "      <td>1.0</td>\n",
       "      <td>INTOXICATED &amp; IMPAIRED DRIVING</td>\n",
       "      <td>COMPLETED</td>\n",
       "      <td>MISDEMEANOR</td>\n",
       "      <td>MANHATTAN</td>\n",
       "      <td>FRONT OF</td>\n",
       "      <td>STREET</td>\n",
       "      <td>...</td>\n",
       "      <td>25-44</td>\n",
       "      <td>WHITE</td>\n",
       "      <td>F</td>\n",
       "      <td>40.729052</td>\n",
       "      <td>-74.009949</td>\n",
       "      <td>PATROL BORO MAN SOUTH</td>\n",
       "      <td>NaN</td>\n",
       "      <td>NaN</td>\n",
       "      <td>UNKNOWN</td>\n",
       "      <td>E</td>\n",
       "    </tr>\n",
       "    <tr>\n",
       "      <th>240</th>\n",
       "      <td>201172263</td>\n",
       "      <td>10/13/2012</td>\n",
       "      <td>15:20:00</td>\n",
       "      <td>1.0</td>\n",
       "      <td>OFFENSES INVOLVING FRAUD</td>\n",
       "      <td>COMPLETED</td>\n",
       "      <td>MISDEMEANOR</td>\n",
       "      <td>MANHATTAN</td>\n",
       "      <td>NaN</td>\n",
       "      <td>STREET</td>\n",
       "      <td>...</td>\n",
       "      <td>NaN</td>\n",
       "      <td>NaN</td>\n",
       "      <td>NaN</td>\n",
       "      <td>40.719405</td>\n",
       "      <td>-74.001885</td>\n",
       "      <td>PATROL BORO MAN SOUTH</td>\n",
       "      <td>NaN</td>\n",
       "      <td>NaN</td>\n",
       "      <td>UNKNOWN</td>\n",
       "      <td>D</td>\n",
       "    </tr>\n",
       "    <tr>\n",
       "      <th>323</th>\n",
       "      <td>295132698</td>\n",
       "      <td>07/21/2012</td>\n",
       "      <td>11:30:00</td>\n",
       "      <td>1.0</td>\n",
       "      <td>GRAND LARCENY</td>\n",
       "      <td>COMPLETED</td>\n",
       "      <td>FELONY</td>\n",
       "      <td>MANHATTAN</td>\n",
       "      <td>INSIDE</td>\n",
       "      <td>RESIDENCE - APT. HOUSE</td>\n",
       "      <td>...</td>\n",
       "      <td>NaN</td>\n",
       "      <td>NaN</td>\n",
       "      <td>NaN</td>\n",
       "      <td>40.727779</td>\n",
       "      <td>-74.004302</td>\n",
       "      <td>PATROL BORO MAN SOUTH</td>\n",
       "      <td>NaN</td>\n",
       "      <td>45-64</td>\n",
       "      <td>UNKNOWN</td>\n",
       "      <td>M</td>\n",
       "    </tr>\n",
       "    <tr>\n",
       "      <th>329</th>\n",
       "      <td>163045938</td>\n",
       "      <td>06/04/2013</td>\n",
       "      <td>11:00:00</td>\n",
       "      <td>1.0</td>\n",
       "      <td>PETIT LARCENY</td>\n",
       "      <td>COMPLETED</td>\n",
       "      <td>MISDEMEANOR</td>\n",
       "      <td>MANHATTAN</td>\n",
       "      <td>INSIDE</td>\n",
       "      <td>CHAIN STORE</td>\n",
       "      <td>...</td>\n",
       "      <td>NaN</td>\n",
       "      <td>BLACK</td>\n",
       "      <td>U</td>\n",
       "      <td>40.706328</td>\n",
       "      <td>-74.012881</td>\n",
       "      <td>PATROL BORO MAN SOUTH</td>\n",
       "      <td>NaN</td>\n",
       "      <td>NaN</td>\n",
       "      <td>UNKNOWN</td>\n",
       "      <td>D</td>\n",
       "    </tr>\n",
       "    <tr>\n",
       "      <th>386</th>\n",
       "      <td>981231328</td>\n",
       "      <td>10/03/2017</td>\n",
       "      <td>08:30:00</td>\n",
       "      <td>1.0</td>\n",
       "      <td>PETIT LARCENY</td>\n",
       "      <td>COMPLETED</td>\n",
       "      <td>MISDEMEANOR</td>\n",
       "      <td>MANHATTAN</td>\n",
       "      <td>INSIDE</td>\n",
       "      <td>CHAIN STORE</td>\n",
       "      <td>...</td>\n",
       "      <td>UNKNOWN</td>\n",
       "      <td>WHITE</td>\n",
       "      <td>M</td>\n",
       "      <td>40.704494</td>\n",
       "      <td>-74.011565</td>\n",
       "      <td>PATROL BORO MAN SOUTH</td>\n",
       "      <td>NaN</td>\n",
       "      <td>UNKNOWN</td>\n",
       "      <td>UNKNOWN</td>\n",
       "      <td>D</td>\n",
       "    </tr>\n",
       "    <tr>\n",
       "      <th>...</th>\n",
       "      <td>...</td>\n",
       "      <td>...</td>\n",
       "      <td>...</td>\n",
       "      <td>...</td>\n",
       "      <td>...</td>\n",
       "      <td>...</td>\n",
       "      <td>...</td>\n",
       "      <td>...</td>\n",
       "      <td>...</td>\n",
       "      <td>...</td>\n",
       "      <td>...</td>\n",
       "      <td>...</td>\n",
       "      <td>...</td>\n",
       "      <td>...</td>\n",
       "      <td>...</td>\n",
       "      <td>...</td>\n",
       "      <td>...</td>\n",
       "      <td>...</td>\n",
       "      <td>...</td>\n",
       "      <td>...</td>\n",
       "      <td>...</td>\n",
       "    </tr>\n",
       "    <tr>\n",
       "      <th>6982672</th>\n",
       "      <td>520658276</td>\n",
       "      <td>05/01/2018</td>\n",
       "      <td>12:00:00</td>\n",
       "      <td>1.0</td>\n",
       "      <td>GRAND LARCENY</td>\n",
       "      <td>COMPLETED</td>\n",
       "      <td>FELONY</td>\n",
       "      <td>MANHATTAN</td>\n",
       "      <td>INSIDE</td>\n",
       "      <td>JEWELRY</td>\n",
       "      <td>...</td>\n",
       "      <td>18-24</td>\n",
       "      <td>ASIAN / PACIFIC ISLANDER</td>\n",
       "      <td>M</td>\n",
       "      <td>40.725201</td>\n",
       "      <td>-73.999724</td>\n",
       "      <td>PATROL BORO MAN SOUTH</td>\n",
       "      <td>NaN</td>\n",
       "      <td>UNKNOWN</td>\n",
       "      <td>UNKNOWN</td>\n",
       "      <td>D</td>\n",
       "    </tr>\n",
       "    <tr>\n",
       "      <th>6982709</th>\n",
       "      <td>480637225</td>\n",
       "      <td>04/25/2018</td>\n",
       "      <td>00:42:00</td>\n",
       "      <td>1.0</td>\n",
       "      <td>BURGLARY</td>\n",
       "      <td>COMPLETED</td>\n",
       "      <td>FELONY</td>\n",
       "      <td>MANHATTAN</td>\n",
       "      <td>INSIDE</td>\n",
       "      <td>CHAIN STORE</td>\n",
       "      <td>...</td>\n",
       "      <td>UNKNOWN</td>\n",
       "      <td>WHITE</td>\n",
       "      <td>M</td>\n",
       "      <td>40.721323</td>\n",
       "      <td>-74.000258</td>\n",
       "      <td>PATROL BORO MAN SOUTH</td>\n",
       "      <td>NaN</td>\n",
       "      <td>UNKNOWN</td>\n",
       "      <td>UNKNOWN</td>\n",
       "      <td>D</td>\n",
       "    </tr>\n",
       "    <tr>\n",
       "      <th>6982968</th>\n",
       "      <td>500546199</td>\n",
       "      <td>07/17/2018</td>\n",
       "      <td>16:21:00</td>\n",
       "      <td>1.0</td>\n",
       "      <td>FELONY ASSAULT</td>\n",
       "      <td>COMPLETED</td>\n",
       "      <td>FELONY</td>\n",
       "      <td>MANHATTAN</td>\n",
       "      <td>NaN</td>\n",
       "      <td>TRANSIT - NYC SUBWAY</td>\n",
       "      <td>...</td>\n",
       "      <td>45-64</td>\n",
       "      <td>BLACK</td>\n",
       "      <td>M</td>\n",
       "      <td>40.701489</td>\n",
       "      <td>-74.012545</td>\n",
       "      <td>PATROL BORO MAN SOUTH</td>\n",
       "      <td>SOUTH FERRY</td>\n",
       "      <td>25-44</td>\n",
       "      <td>WHITE HISPANIC</td>\n",
       "      <td>M</td>\n",
       "    </tr>\n",
       "    <tr>\n",
       "      <th>6983025</th>\n",
       "      <td>414165979</td>\n",
       "      <td>05/10/2018</td>\n",
       "      <td>14:25:00</td>\n",
       "      <td>1.0</td>\n",
       "      <td>PETIT LARCENY</td>\n",
       "      <td>COMPLETED</td>\n",
       "      <td>MISDEMEANOR</td>\n",
       "      <td>MANHATTAN</td>\n",
       "      <td>INSIDE</td>\n",
       "      <td>COMMERCIAL BUILDING</td>\n",
       "      <td>...</td>\n",
       "      <td>25-44</td>\n",
       "      <td>WHITE HISPANIC</td>\n",
       "      <td>M</td>\n",
       "      <td>40.706756</td>\n",
       "      <td>-74.010090</td>\n",
       "      <td>PATROL BORO MAN SOUTH</td>\n",
       "      <td>NaN</td>\n",
       "      <td>UNKNOWN</td>\n",
       "      <td>UNKNOWN</td>\n",
       "      <td>D</td>\n",
       "    </tr>\n",
       "    <tr>\n",
       "      <th>6983143</th>\n",
       "      <td>139173983</td>\n",
       "      <td>04/07/2018</td>\n",
       "      <td>00:08:00</td>\n",
       "      <td>1.0</td>\n",
       "      <td>GRAND LARCENY</td>\n",
       "      <td>COMPLETED</td>\n",
       "      <td>FELONY</td>\n",
       "      <td>MANHATTAN</td>\n",
       "      <td>FRONT OF</td>\n",
       "      <td>STREET</td>\n",
       "      <td>...</td>\n",
       "      <td>UNKNOWN</td>\n",
       "      <td>UNKNOWN</td>\n",
       "      <td>U</td>\n",
       "      <td>40.714173</td>\n",
       "      <td>-74.007447</td>\n",
       "      <td>PATROL BORO MAN SOUTH</td>\n",
       "      <td>NaN</td>\n",
       "      <td>25-44</td>\n",
       "      <td>WHITE</td>\n",
       "      <td>M</td>\n",
       "    </tr>\n",
       "  </tbody>\n",
       "</table>\n",
       "<p>87668 rows × 22 columns</p>\n",
       "</div>"
      ],
      "text/plain": [
       "         complaint_id        date      time  precinct_number  \\\n",
       "93          671099534  10/12/2014  00:55:00              1.0   \n",
       "240         201172263  10/13/2012  15:20:00              1.0   \n",
       "323         295132698  07/21/2012  11:30:00              1.0   \n",
       "329         163045938  06/04/2013  11:00:00              1.0   \n",
       "386         981231328  10/03/2017  08:30:00              1.0   \n",
       "...               ...         ...       ...              ...   \n",
       "6982672     520658276  05/01/2018  12:00:00              1.0   \n",
       "6982709     480637225  04/25/2018  00:42:00              1.0   \n",
       "6982968     500546199  07/17/2018  16:21:00              1.0   \n",
       "6983025     414165979  05/10/2018  14:25:00              1.0   \n",
       "6983143     139173983  04/07/2018  00:08:00              1.0   \n",
       "\n",
       "                           offense_type crime_completed offense_level  \\\n",
       "93       INTOXICATED & IMPAIRED DRIVING       COMPLETED   MISDEMEANOR   \n",
       "240            OFFENSES INVOLVING FRAUD       COMPLETED   MISDEMEANOR   \n",
       "323                       GRAND LARCENY       COMPLETED        FELONY   \n",
       "329                       PETIT LARCENY       COMPLETED   MISDEMEANOR   \n",
       "386                       PETIT LARCENY       COMPLETED   MISDEMEANOR   \n",
       "...                                 ...             ...           ...   \n",
       "6982672                   GRAND LARCENY       COMPLETED        FELONY   \n",
       "6982709                        BURGLARY       COMPLETED        FELONY   \n",
       "6982968                  FELONY ASSAULT       COMPLETED        FELONY   \n",
       "6983025                   PETIT LARCENY       COMPLETED   MISDEMEANOR   \n",
       "6983143                   GRAND LARCENY       COMPLETED        FELONY   \n",
       "\n",
       "           borough premise_desc                 premise  ... suspect_age  \\\n",
       "93       MANHATTAN     FRONT OF                  STREET  ...       25-44   \n",
       "240      MANHATTAN          NaN                  STREET  ...         NaN   \n",
       "323      MANHATTAN       INSIDE  RESIDENCE - APT. HOUSE  ...         NaN   \n",
       "329      MANHATTAN       INSIDE             CHAIN STORE  ...         NaN   \n",
       "386      MANHATTAN       INSIDE             CHAIN STORE  ...     UNKNOWN   \n",
       "...            ...          ...                     ...  ...         ...   \n",
       "6982672  MANHATTAN       INSIDE                 JEWELRY  ...       18-24   \n",
       "6982709  MANHATTAN       INSIDE             CHAIN STORE  ...     UNKNOWN   \n",
       "6982968  MANHATTAN          NaN    TRANSIT - NYC SUBWAY  ...       45-64   \n",
       "6983025  MANHATTAN       INSIDE     COMMERCIAL BUILDING  ...       25-44   \n",
       "6983143  MANHATTAN     FRONT OF                  STREET  ...     UNKNOWN   \n",
       "\n",
       "                     suspect_race suspect_sex   latitude  longitude  \\\n",
       "93                          WHITE           F  40.729052 -74.009949   \n",
       "240                           NaN         NaN  40.719405 -74.001885   \n",
       "323                           NaN         NaN  40.727779 -74.004302   \n",
       "329                         BLACK           U  40.706328 -74.012881   \n",
       "386                         WHITE           M  40.704494 -74.011565   \n",
       "...                           ...         ...        ...        ...   \n",
       "6982672  ASIAN / PACIFIC ISLANDER           M  40.725201 -73.999724   \n",
       "6982709                     WHITE           M  40.721323 -74.000258   \n",
       "6982968                     BLACK           M  40.701489 -74.012545   \n",
       "6983025            WHITE HISPANIC           M  40.706756 -74.010090   \n",
       "6983143                   UNKNOWN           U  40.714173 -74.007447   \n",
       "\n",
       "                patrol_borough        metro victim_age     victim_race  \\\n",
       "93       PATROL BORO MAN SOUTH          NaN        NaN         UNKNOWN   \n",
       "240      PATROL BORO MAN SOUTH          NaN        NaN         UNKNOWN   \n",
       "323      PATROL BORO MAN SOUTH          NaN      45-64         UNKNOWN   \n",
       "329      PATROL BORO MAN SOUTH          NaN        NaN         UNKNOWN   \n",
       "386      PATROL BORO MAN SOUTH          NaN    UNKNOWN         UNKNOWN   \n",
       "...                        ...          ...        ...             ...   \n",
       "6982672  PATROL BORO MAN SOUTH          NaN    UNKNOWN         UNKNOWN   \n",
       "6982709  PATROL BORO MAN SOUTH          NaN    UNKNOWN         UNKNOWN   \n",
       "6982968  PATROL BORO MAN SOUTH  SOUTH FERRY      25-44  WHITE HISPANIC   \n",
       "6983025  PATROL BORO MAN SOUTH          NaN    UNKNOWN         UNKNOWN   \n",
       "6983143  PATROL BORO MAN SOUTH          NaN      25-44           WHITE   \n",
       "\n",
       "        victim_sex  \n",
       "93               E  \n",
       "240              D  \n",
       "323              M  \n",
       "329              D  \n",
       "386              D  \n",
       "...            ...  \n",
       "6982672          D  \n",
       "6982709          D  \n",
       "6982968          M  \n",
       "6983025          D  \n",
       "6983143          M  \n",
       "\n",
       "[87668 rows x 22 columns]"
      ]
     },
     "execution_count": 19,
     "metadata": {},
     "output_type": "execute_result"
    }
   ],
   "source": [
    "df[df['precinct_number']==1].fillna(value=values) "
   ]
  },
  {
   "cell_type": "code",
   "execution_count": 20,
   "metadata": {
    "ExecuteTime": {
     "end_time": "2020-12-01T15:48:39.273281Z",
     "start_time": "2020-12-01T15:48:39.138887Z"
    },
    "hidden": true
   },
   "outputs": [
    {
     "data": {
      "text/plain": [
       "complaint_id           0\n",
       "date                   6\n",
       "time                   0\n",
       "precinct_number        0\n",
       "offense_type         412\n",
       "crime_completed        0\n",
       "offense_level          0\n",
       "borough               76\n",
       "premise_desc       17328\n",
       "premise             1106\n",
       "jurisdiction           0\n",
       "park_name          87385\n",
       "suspect_age        61653\n",
       "suspect_race       43260\n",
       "suspect_sex        45728\n",
       "latitude               0\n",
       "longitude              0\n",
       "patrol_borough        15\n",
       "metro              82030\n",
       "victim_age         29082\n",
       "victim_race            2\n",
       "victim_sex             2\n",
       "dtype: int64"
      ]
     },
     "execution_count": 20,
     "metadata": {},
     "output_type": "execute_result"
    }
   ],
   "source": [
    "_.isnull().sum()"
   ]
  },
  {
   "cell_type": "markdown",
   "metadata": {},
   "source": [
    "## Handle victim missing values"
   ]
  },
  {
   "cell_type": "code",
   "execution_count": 32,
   "metadata": {
    "ExecuteTime": {
     "end_time": "2020-12-01T16:14:31.724434Z",
     "start_time": "2020-12-01T16:14:31.003165Z"
    }
   },
   "outputs": [
    {
     "ename": "TypeError",
     "evalue": "'<' not supported between instances of 'str' and 'float'",
     "output_type": "error",
     "traceback": [
      "\u001b[0;31m---------------------------------------------------------------------------\u001b[0m",
      "\u001b[0;31mTypeError\u001b[0m                                 Traceback (most recent call last)",
      "\u001b[0;32m<ipython-input-32-fdc721c80b2a>\u001b[0m in \u001b[0;36m<module>\u001b[0;34m\u001b[0m\n\u001b[0;32m----> 1\u001b[0;31m \u001b[0mnp\u001b[0m\u001b[0;34m.\u001b[0m\u001b[0msort\u001b[0m\u001b[0;34m(\u001b[0m\u001b[0mdf\u001b[0m\u001b[0;34m[\u001b[0m\u001b[0;34m'date'\u001b[0m\u001b[0;34m]\u001b[0m\u001b[0;34m.\u001b[0m\u001b[0munique\u001b[0m\u001b[0;34m(\u001b[0m\u001b[0;34m)\u001b[0m\u001b[0;34m)\u001b[0m\u001b[0;34m\u001b[0m\u001b[0;34m\u001b[0m\u001b[0m\n\u001b[0m",
      "\u001b[0;32m<__array_function__ internals>\u001b[0m in \u001b[0;36msort\u001b[0;34m(*args, **kwargs)\u001b[0m\n",
      "\u001b[0;32m~/.pyenv/versions/3.8.5/envs/minority_report/lib/python3.8/site-packages/numpy/core/fromnumeric.py\u001b[0m in \u001b[0;36msort\u001b[0;34m(a, axis, kind, order)\u001b[0m\n\u001b[1;32m    989\u001b[0m     \u001b[0;32melse\u001b[0m\u001b[0;34m:\u001b[0m\u001b[0;34m\u001b[0m\u001b[0;34m\u001b[0m\u001b[0m\n\u001b[1;32m    990\u001b[0m         \u001b[0ma\u001b[0m \u001b[0;34m=\u001b[0m \u001b[0masanyarray\u001b[0m\u001b[0;34m(\u001b[0m\u001b[0ma\u001b[0m\u001b[0;34m)\u001b[0m\u001b[0;34m.\u001b[0m\u001b[0mcopy\u001b[0m\u001b[0;34m(\u001b[0m\u001b[0morder\u001b[0m\u001b[0;34m=\u001b[0m\u001b[0;34m\"K\"\u001b[0m\u001b[0;34m)\u001b[0m\u001b[0;34m\u001b[0m\u001b[0;34m\u001b[0m\u001b[0m\n\u001b[0;32m--> 991\u001b[0;31m     \u001b[0ma\u001b[0m\u001b[0;34m.\u001b[0m\u001b[0msort\u001b[0m\u001b[0;34m(\u001b[0m\u001b[0maxis\u001b[0m\u001b[0;34m=\u001b[0m\u001b[0maxis\u001b[0m\u001b[0;34m,\u001b[0m \u001b[0mkind\u001b[0m\u001b[0;34m=\u001b[0m\u001b[0mkind\u001b[0m\u001b[0;34m,\u001b[0m \u001b[0morder\u001b[0m\u001b[0;34m=\u001b[0m\u001b[0morder\u001b[0m\u001b[0;34m)\u001b[0m\u001b[0;34m\u001b[0m\u001b[0;34m\u001b[0m\u001b[0m\n\u001b[0m\u001b[1;32m    992\u001b[0m     \u001b[0;32mreturn\u001b[0m \u001b[0ma\u001b[0m\u001b[0;34m\u001b[0m\u001b[0;34m\u001b[0m\u001b[0m\n\u001b[1;32m    993\u001b[0m \u001b[0;34m\u001b[0m\u001b[0m\n",
      "\u001b[0;31mTypeError\u001b[0m: '<' not supported between instances of 'str' and 'float'"
     ]
    }
   ],
   "source": [
    "df['date'].unique()"
   ]
  },
  {
   "cell_type": "code",
   "execution_count": null,
   "metadata": {},
   "outputs": [],
   "source": []
  }
 ],
 "metadata": {
  "kernelspec": {
   "display_name": "Python 3",
   "language": "python",
   "name": "python3"
  },
  "language_info": {
   "codemirror_mode": {
    "name": "ipython",
    "version": 3
   },
   "file_extension": ".py",
   "mimetype": "text/x-python",
   "name": "python",
   "nbconvert_exporter": "python",
   "pygments_lexer": "ipython3",
   "version": "3.8.5"
  },
  "toc": {
   "base_numbering": 1,
   "nav_menu": {},
   "number_sections": true,
   "sideBar": true,
   "skip_h1_title": false,
   "title_cell": "Table of Contents",
   "title_sidebar": "Contents",
   "toc_cell": false,
   "toc_position": {},
   "toc_section_display": true,
   "toc_window_display": false
  },
  "varInspector": {
   "cols": {
    "lenName": 16,
    "lenType": 16,
    "lenVar": 40
   },
   "kernels_config": {
    "python": {
     "delete_cmd_postfix": "",
     "delete_cmd_prefix": "del ",
     "library": "var_list.py",
     "varRefreshCmd": "print(var_dic_list())"
    },
    "r": {
     "delete_cmd_postfix": ") ",
     "delete_cmd_prefix": "rm(",
     "library": "var_list.r",
     "varRefreshCmd": "cat(var_dic_list()) "
    }
   },
   "types_to_exclude": [
    "module",
    "function",
    "builtin_function_or_method",
    "instance",
    "_Feature"
   ],
   "window_display": false
  }
 },
 "nbformat": 4,
 "nbformat_minor": 4
}
