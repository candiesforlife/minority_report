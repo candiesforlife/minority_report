{
 "cells": [
  {
   "cell_type": "markdown",
   "metadata": {},
   "source": [
    "## NYPD Data"
   ]
  },
  {
   "cell_type": "markdown",
   "metadata": {},
   "source": [
    "### Imports"
   ]
  },
  {
   "cell_type": "code",
   "execution_count": 1,
   "metadata": {
    "ExecuteTime": {
     "end_time": "2020-12-05T12:36:34.143773Z",
     "start_time": "2020-12-05T12:36:32.901822Z"
    }
   },
   "outputs": [],
   "source": [
    "# data import\n",
    "import pickle\n",
    "\n",
    "# data manipulation\n",
    "import numpy as np\n",
    "import pandas as pd\n",
    "from datetime import datetime\n",
    "\n",
    "# plotting\n",
    "import matplotlib.pyplot as plt\n",
    "\n",
    "#gaussian filter\n",
    "from scipy.ndimage import gaussian_filter"
   ]
  },
  {
   "cell_type": "markdown",
   "metadata": {},
   "source": [
    "### Data Import"
   ]
  },
  {
   "cell_type": "code",
   "execution_count": 2,
   "metadata": {
    "ExecuteTime": {
     "end_time": "2020-12-05T12:36:44.571404Z",
     "start_time": "2020-12-05T12:36:36.092697Z"
    }
   },
   "outputs": [],
   "source": [
    "pickle_path = ('../raw_data/clean.pickle')\n",
    "with open(pickle_path, 'rb') as f:\n",
    "    df = pickle.load(f)\n",
    "del pickle_path, f"
   ]
  },
  {
   "cell_type": "markdown",
   "metadata": {},
   "source": [
    "### Sample Selection"
   ]
  },
  {
   "cell_type": "code",
   "execution_count": 3,
   "metadata": {
    "ExecuteTime": {
     "end_time": "2020-12-05T12:36:46.517682Z",
     "start_time": "2020-12-05T12:36:45.100991Z"
    }
   },
   "outputs": [],
   "source": [
    "inf = df['period'] > datetime(2016, 10, 1, 0, 0, 0)\n",
    "sup = df['period'] < datetime(2016, 11, 1, 0, 0, 0)\n",
    "sample = df[ inf & sup ]\n",
    "del inf, sup, df"
   ]
  },
  {
   "cell_type": "markdown",
   "metadata": {},
   "source": [
    "### Lat - Long to Array"
   ]
  },
  {
   "cell_type": "code",
   "execution_count": 4,
   "metadata": {
    "ExecuteTime": {
     "end_time": "2020-12-05T12:36:49.633145Z",
     "start_time": "2020-12-05T12:36:49.616141Z"
    }
   },
   "outputs": [],
   "source": [
    "def from_meters_to_coords(lat_meters, lon_meters):\n",
    "    \"\"\"\n",
    "    gives the latitude and longitude step to use for the grid buckets\n",
    "    lat_meters, lon_meters = lat/lon step\n",
    "    \"\"\"\n",
    "    #Position, decimal degrees\n",
    "    lat = 40\n",
    "    lon = -73\n",
    "\n",
    "    #Earth’s radius, sphere\n",
    "    R=6378137\n",
    "\n",
    "    #offsets in meters\n",
    "    dn = lat_meters\n",
    "    de = lon_meters\n",
    "\n",
    "    #Coordinate offsets in radians\n",
    "    dLat = dn/R\n",
    "    dLon = de/(R*np.cos(np.pi*lat/180))\n",
    "\n",
    "    #OffsetPosition, decimal degrees\n",
    "    latO = dLat * 180/np.pi\n",
    "    lonO = dLon * 180/np.pi \n",
    "\n",
    "    del lat, lon, R, dn, de, dLat, dLon\n",
    "\n",
    "    return latO, lonO"
   ]
  },
  {
   "cell_type": "code",
   "execution_count": 5,
   "metadata": {
    "ExecuteTime": {
     "end_time": "2020-12-05T12:36:50.258735Z",
     "start_time": "2020-12-05T12:36:50.238033Z"
    }
   },
   "outputs": [],
   "source": [
    "def from_coord_to_matrix(df, lat_meters, lon_meters):\n",
    "    \"\"\"\n",
    "    outputs the 3D matrix of all coordinates for a given bucket height and width in meters\n",
    "    \"\"\"\n",
    "    df=df.copy()\n",
    "    #add 'time_index' column to df\n",
    "    ind = {time:index for index,time in enumerate(np.sort(df['period'].unique()))}\n",
    "    df['time_index'] = df['period'].map(ind)\n",
    "    \n",
    "    #initiate matrix\n",
    "    grid_offset = np.array([0, -40.91553277600008,  -74.25559136315213,]) # Where do you start\n",
    "    #from meters to lat/lon step\n",
    "    lat_spacing, lon_spacing = from_meters_to_coords(lat_meters, lon_meters )\n",
    "    grid_spacing = np.array([1, lat_spacing , lon_spacing]) # What's the space you consider (euclidian here)\n",
    "     \n",
    "    \n",
    "    #get points coordinates\n",
    "    coords = np.array([(t_ind, -lat, lon) for t_ind, lat, lon \\\n",
    "                   in zip(df['time_index'],df['latitude'],df['longitude'])])\n",
    "    \n",
    "    \n",
    "    # Convert point to index\n",
    "    indexes = np.round((coords - grid_offset)/grid_spacing).astype('int')\n",
    "    Z = indexes[:,0]\n",
    "    Y = indexes[:,1]\n",
    "    X = indexes[:,2]\n",
    "    \n",
    "    #virgin matrix\n",
    "    a = np.zeros((Z.max()+1, Y.max()+1, X.max()+1))\n",
    "   \n",
    "    \n",
    "    a[Z, Y, X]=1\n",
    "    \n",
    "    del ind, grid_offset, lat_spacing, lon_spacing, grid_spacing, coords, indexes, Z, Y, X\n",
    "    \n",
    "    return a, a.shape[1], a.shape[2]"
   ]
  },
  {
   "cell_type": "code",
   "execution_count": 6,
   "metadata": {
    "ExecuteTime": {
     "end_time": "2020-12-05T12:36:51.921332Z",
     "start_time": "2020-12-05T12:36:51.661365Z"
    }
   },
   "outputs": [],
   "source": [
    "img, lat_size, lon_size = from_coord_to_matrix(sample, 100, 100)\n",
    "del sample"
   ]
  },
  {
   "cell_type": "markdown",
   "metadata": {},
   "source": [
    "### Plotting Array (with and w/o Gaussian filter)"
   ]
  },
  {
   "cell_type": "code",
   "execution_count": null,
   "metadata": {
    "ExecuteTime": {
     "end_time": "2020-12-05T09:46:53.621847Z",
     "start_time": "2020-12-05T09:46:53.426766Z"
    }
   },
   "outputs": [],
   "source": [
    "#plt.figure(figsize=(5, 5))\n",
    "#plt.imshow(img[3], cmap='gray');"
   ]
  },
  {
   "cell_type": "code",
   "execution_count": 7,
   "metadata": {
    "ExecuteTime": {
     "end_time": "2020-12-05T12:37:09.203117Z",
     "start_time": "2020-12-05T12:36:54.865099Z"
    }
   },
   "outputs": [
    {
     "data": {
      "image/png": "[encoded data removed]",
      "text/plain": [
       "<Figure size 360x360 with 1 Axes>"
      ]
     },
     "metadata": {
      "needs_background": "light"
     },
     "output_type": "display_data"
    }
   ],
   "source": [
    "img3D_conv = gaussian_filter(img, sigma=(2, 2, 2))\n",
    "del img\n",
    "\n",
    "plt.figure(figsize=(5, 5))\n",
    "\n",
    "plt.imshow(img3D_conv[3], cmap='gray');"
   ]
  },
  {
   "cell_type": "markdown",
   "metadata": {},
   "source": [
    "### Splitting into X and y"
   ]
  },
  {
   "cell_type": "code",
   "execution_count": 8,
   "metadata": {
    "ExecuteTime": {
     "end_time": "2020-12-05T12:37:09.593450Z",
     "start_time": "2020-12-05T12:37:09.566722Z"
    }
   },
   "outputs": [],
   "source": [
    "def get_observation_target(img3D_conv, x_length, y_length):\n",
    "    '''\n",
    "    output an observation of x_length consecutive images and the y_length next images as the target\n",
    "    '''\n",
    "    position = np.random.randint(0, img3D_conv.shape[0] - (x_length + y_length))\n",
    "    observation = img3D_conv[position:position + x_length]\n",
    "    target = img3D_conv[position + x_length:position + (x_length + y_length)].flatten()\n",
    "    \n",
    "    del position \n",
    "\n",
    "    return observation, target"
   ]
  },
  {
   "cell_type": "markdown",
   "metadata": {},
   "source": [
    "### Subsampling to get multiple X and y"
   ]
  },
  {
   "cell_type": "code",
   "execution_count": 9,
   "metadata": {
    "ExecuteTime": {
     "end_time": "2020-12-05T12:37:09.970492Z",
     "start_time": "2020-12-05T12:37:09.959435Z"
    }
   },
   "outputs": [],
   "source": [
    "def get_X_y(img3D_conv, number_of_observations, x_length, y_length):\n",
    "    '''\n",
    "    outputs n observations and their associated targets\n",
    "    '''\n",
    "    X = []\n",
    "    y = []\n",
    "    \n",
    "    for n in range(number_of_observations):\n",
    "        X_subsample, y_subsample = get_observation_target(img3D_conv, x_length, y_length)\n",
    "        X.append(X_subsample)\n",
    "        y.append(y_subsample)\n",
    "        \n",
    "    X = np.array(X)\n",
    "    y = np.array(y)\n",
    "\n",
    "    del X_subsample, y_subsample, n\n",
    "    \n",
    "    return X, y"
   ]
  },
  {
   "cell_type": "code",
   "execution_count": 10,
   "metadata": {
    "ExecuteTime": {
     "end_time": "2020-12-05T12:37:14.032609Z",
     "start_time": "2020-12-05T12:37:10.278905Z"
    }
   },
   "outputs": [],
   "source": [
    "x_length = 24\n",
    "y_length= 3\n",
    "\n",
    "X, y = get_X_y(img3D_conv, 100, x_length, y_length)\n",
    "del img3D_conv"
   ]
  },
  {
   "cell_type": "markdown",
   "metadata": {},
   "source": [
    "## Model"
   ]
  },
  {
   "cell_type": "markdown",
   "metadata": {},
   "source": [
    "### Imports"
   ]
  },
  {
   "cell_type": "code",
   "execution_count": 11,
   "metadata": {
    "ExecuteTime": {
     "end_time": "2020-12-05T12:37:26.503014Z",
     "start_time": "2020-12-05T12:37:21.018643Z"
    }
   },
   "outputs": [],
   "source": [
    "# Train, test, split\n",
    "from sklearn.model_selection import train_test_split\n",
    "\n",
    "# Model\n",
    "from tensorflow.keras import models\n",
    "from tensorflow.keras import layers\n",
    "from tensorflow.keras.callbacks import EarlyStopping"
   ]
  },
  {
   "cell_type": "markdown",
   "metadata": {},
   "source": [
    "### Train, test, split"
   ]
  },
  {
   "cell_type": "code",
   "execution_count": 12,
   "metadata": {
    "ExecuteTime": {
     "end_time": "2020-12-05T12:37:30.731334Z",
     "start_time": "2020-12-05T12:37:27.023473Z"
    }
   },
   "outputs": [],
   "source": [
    "X_train, X_test, y_train, y_test = train_test_split(X, y, test_size = 0.2)\n",
    "del X,y"
   ]
  },
  {
   "cell_type": "markdown",
   "metadata": {},
   "source": [
    "### Model"
   ]
  },
  {
   "cell_type": "code",
   "execution_count": 13,
   "metadata": {
    "ExecuteTime": {
     "end_time": "2020-12-05T12:37:31.664641Z",
     "start_time": "2020-12-05T12:37:31.648794Z"
    }
   },
   "outputs": [],
   "source": [
    "def model(x_length, y_length, lat_size, lon_size):\n",
    "    print('initializing model')\n",
    "    model = models.Sequential()\n",
    "    \n",
    "    print('adding gaussian noise')\n",
    "    model.add(layers.GaussianNoise(stddev = 2.5, input_shape = (x_length, lat_size, lon_size)))\n",
    "    \n",
    "    print('adding conv2D 1')\n",
    "    model.add(layers.Conv2D(64, kernel_size = 3, activation = 'relu'))\n",
    "\n",
    "    print('adding conv2D 2')\n",
    "    model.add(layers.Conv2D(32, kernel_size = 3, activation = 'relu'))\n",
    "\n",
    "    print('adding conv2D 3')\n",
    "    model.add(layers.Conv2D(16, kernel_size = 3, activation = 'relu'))\n",
    "\n",
    "    print('flattening')\n",
    "    model.add(layers.Flatten())\n",
    "    \n",
    "    print('adding dense layer 1')\n",
    "    model.add(layers.Dense(50, activation = 'relu'))\n",
    "    \n",
    "    print('adding dense layer 2')\n",
    "    model.add(layers.Dense(500, activation = 'relu'))\n",
    "    \n",
    "    print('adding dense layer 3')\n",
    "    model.add(layers.Dense(y_length * lat_size * lon_size, activation = 'relu'))\n",
    "    \n",
    "    print('compiling')\n",
    "    model.compile(loss = 'mse',\n",
    "                      optimizer = 'adam',\n",
    "                      metrics = 'mae')\n",
    "    print('Done !')\n",
    "    \n",
    "    return model"
   ]
  },
  {
   "cell_type": "markdown",
   "metadata": {},
   "source": [
    "### Running Model (Instance, Early Stopping, Fit and Evaluate)"
   ]
  },
  {
   "cell_type": "markdown",
   "metadata": {},
   "source": [
    "**Reminders**\n",
    "\n",
    "**batch_size:** no. of data used to compute error between y_pred and y_true each time weights of neural network updated (use 16 or 32)\n",
    "\n",
    "**epoch:** once all data has been used once to update the weights"
   ]
  },
  {
   "cell_type": "code",
   "execution_count": 14,
   "metadata": {
    "ExecuteTime": {
     "end_time": "2020-12-05T12:37:40.946395Z",
     "start_time": "2020-12-05T12:37:38.524615Z"
    }
   },
   "outputs": [
    {
     "name": "stdout",
     "output_type": "stream",
     "text": [
      "initializing model\n",
      "adding gaussian noise\n",
      "adding conv2D 1\n",
      "adding conv2D 2\n",
      "adding conv2D 3\n",
      "flattening\n",
      "adding dense layer 1\n",
      "adding dense layer 2\n",
      "adding dense layer 3\n",
      "compiling\n",
      "Done !\n"
     ]
    }
   ],
   "source": [
    "model = model(x_length,y_length, lat_size, lon_size)"
   ]
  },
  {
   "cell_type": "code",
   "execution_count": null,
   "metadata": {
    "ExecuteTime": {
     "end_time": "2020-12-05T12:03:30.846189Z",
     "start_time": "2020-12-05T12:03:30.821809Z"
    }
   },
   "outputs": [],
   "source": [
    "model.summary()"
   ]
  },
  {
   "cell_type": "code",
   "execution_count": 15,
   "metadata": {
    "ExecuteTime": {
     "end_time": "2020-12-05T13:38:35.585873Z",
     "start_time": "2020-12-05T12:37:55.953367Z"
    }
   },
   "outputs": [
    {
     "name": "stdout",
     "output_type": "stream",
     "text": [
      "Epoch 1/100\n",
      "4/4 [==============================] - 36s 9s/step - loss: 1.9124e-04 - mae: 0.0060 - val_loss: 1.2385e-06 - val_mae: 2.4757e-04\n",
      "Epoch 2/100\n",
      "4/4 [==============================] - 37s 9s/step - loss: 1.2507e-06 - mae: 2.4787e-04 - val_loss: 1.2378e-06 - val_mae: 2.4747e-04\n",
      "Epoch 3/100\n",
      "4/4 [==============================] - 34s 9s/step - loss: 1.2498e-06 - mae: 2.4775e-04 - val_loss: 1.2365e-06 - val_mae: 2.4731e-04\n",
      "Epoch 4/100\n",
      "4/4 [==============================] - 33s 8s/step - loss: 1.2484e-06 - mae: 2.4758e-04 - val_loss: 1.2349e-06 - val_mae: 2.4711e-04\n",
      "Epoch 5/100\n",
      "4/4 [==============================] - 33s 8s/step - loss: 1.2466e-06 - mae: 2.4737e-04 - val_loss: 1.2330e-06 - val_mae: 2.4689e-04\n",
      "Epoch 6/100\n",
      "4/4 [==============================] - 33s 8s/step - loss: 1.2446e-06 - mae: 2.4714e-04 - val_loss: 1.2310e-06 - val_mae: 2.4666e-04\n",
      "Epoch 7/100\n",
      "4/4 [==============================] - 35s 9s/step - loss: 1.2424e-06 - mae: 2.4691e-04 - val_loss: 1.2287e-06 - val_mae: 2.4643e-04\n",
      "Epoch 8/100\n",
      "4/4 [==============================] - 33s 8s/step - loss: 1.2401e-06 - mae: 2.4667e-04 - val_loss: 1.2264e-06 - val_mae: 2.4620e-04\n",
      "Epoch 9/100\n",
      "4/4 [==============================] - 33s 8s/step - loss: 1.2377e-06 - mae: 2.4818e-04 - val_loss: 1.2240e-06 - val_mae: 2.4597e-04\n",
      "Epoch 10/100\n",
      "4/4 [==============================] - 33s 8s/step - loss: 1.2351e-06 - mae: 2.4621e-04 - val_loss: 1.2215e-06 - val_mae: 2.4574e-04\n",
      "Epoch 11/100\n",
      "4/4 [==============================] - 33s 8s/step - loss: 1.2325e-06 - mae: 2.4597e-04 - val_loss: 1.2188e-06 - val_mae: 2.4550e-04\n",
      "Epoch 12/100\n",
      "4/4 [==============================] - 35s 9s/step - loss: 1.2297e-06 - mae: 2.4573e-04 - val_loss: 1.2161e-06 - val_mae: 2.4527e-04\n",
      "Epoch 13/100\n",
      "4/4 [==============================] - 35s 9s/step - loss: 1.2270e-06 - mae: 2.4550e-04 - val_loss: 1.2133e-06 - val_mae: 2.4504e-04\n",
      "Epoch 14/100\n",
      "4/4 [==============================] - 34s 8s/step - loss: 1.2241e-06 - mae: 2.4526e-04 - val_loss: 1.2105e-06 - val_mae: 2.4482e-04\n",
      "Epoch 15/100\n",
      "4/4 [==============================] - 35s 9s/step - loss: 1.2211e-06 - mae: 2.4503e-04 - val_loss: 1.2077e-06 - val_mae: 2.4461e-04\n",
      "Epoch 16/100\n",
      "4/4 [==============================] - 33s 8s/step - loss: 1.2182e-06 - mae: 2.4481e-04 - val_loss: 1.2050e-06 - val_mae: 2.4442e-04\n",
      "Epoch 17/100\n",
      "4/4 [==============================] - 33s 8s/step - loss: 1.2154e-06 - mae: 2.4462e-04 - val_loss: 1.2023e-06 - val_mae: 2.4424e-04\n",
      "Epoch 18/100\n",
      "4/4 [==============================] - 34s 8s/step - loss: 1.2127e-06 - mae: 2.4444e-04 - val_loss: 1.1997e-06 - val_mae: 2.4407e-04\n",
      "Epoch 19/100\n",
      "4/4 [==============================] - 33s 8s/step - loss: 1.2099e-06 - mae: 2.4427e-04 - val_loss: 1.1972e-06 - val_mae: 2.4392e-04\n",
      "Epoch 20/100\n",
      "4/4 [==============================] - 33s 8s/step - loss: 1.2074e-06 - mae: 2.4412e-04 - val_loss: 1.1947e-06 - val_mae: 2.4379e-04\n",
      "Epoch 21/100\n",
      "4/4 [==============================] - 33s 8s/step - loss: 1.2048e-06 - mae: 2.4398e-04 - val_loss: 1.1924e-06 - val_mae: 2.4368e-04\n",
      "Epoch 22/100\n",
      "4/4 [==============================] - 33s 8s/step - loss: 1.2024e-06 - mae: 2.4386e-04 - val_loss: 1.1901e-06 - val_mae: 2.4358e-04\n",
      "Epoch 23/100\n",
      "4/4 [==============================] - 33s 8s/step - loss: 1.2001e-06 - mae: 2.4375e-04 - val_loss: 1.1880e-06 - val_mae: 2.4349e-04\n",
      "Epoch 24/100\n",
      "4/4 [==============================] - 33s 8s/step - loss: 1.1979e-06 - mae: 2.4366e-04 - val_loss: 1.1860e-06 - val_mae: 2.4342e-04\n",
      "Epoch 25/100\n",
      "4/4 [==============================] - 33s 8s/step - loss: 1.1958e-06 - mae: 2.4358e-04 - val_loss: 1.1841e-06 - val_mae: 2.4336e-04\n",
      "Epoch 26/100\n",
      "4/4 [==============================] - 34s 8s/step - loss: 1.1938e-06 - mae: 2.4352e-04 - val_loss: 1.1823e-06 - val_mae: 2.4331e-04\n",
      "Epoch 27/100\n",
      "4/4 [==============================] - 33s 8s/step - loss: 1.1920e-06 - mae: 2.4346e-04 - val_loss: 1.1806e-06 - val_mae: 2.4327e-04\n",
      "Epoch 28/100\n",
      "4/4 [==============================] - 33s 8s/step - loss: 1.1903e-06 - mae: 2.4342e-04 - val_loss: 1.1791e-06 - val_mae: 2.4325e-04\n",
      "Epoch 29/100\n",
      "4/4 [==============================] - 34s 9s/step - loss: 1.1887e-06 - mae: 2.4340e-04 - val_loss: 1.1776e-06 - val_mae: 2.4323e-04\n",
      "Epoch 30/100\n",
      "4/4 [==============================] - 33s 8s/step - loss: 1.1871e-06 - mae: 2.4337e-04 - val_loss: 1.1762e-06 - val_mae: 2.4323e-04\n",
      "Epoch 31/100\n",
      "4/4 [==============================] - 33s 8s/step - loss: 1.1857e-06 - mae: 2.4336e-04 - val_loss: 1.1750e-06 - val_mae: 2.4323e-04\n",
      "Epoch 32/100\n",
      "4/4 [==============================] - 34s 9s/step - loss: 1.1844e-06 - mae: 2.4335e-04 - val_loss: 1.1738e-06 - val_mae: 2.4324e-04\n",
      "Epoch 33/100\n",
      "4/4 [==============================] - 35s 9s/step - loss: 1.1832e-06 - mae: 2.4336e-04 - val_loss: 1.1727e-06 - val_mae: 2.4325e-04\n",
      "Epoch 34/100\n",
      "4/4 [==============================] - 35s 9s/step - loss: 1.1820e-06 - mae: 2.4335e-04 - val_loss: 1.1717e-06 - val_mae: 2.4327e-04\n",
      "Epoch 35/100\n",
      "4/4 [==============================] - 35s 9s/step - loss: 1.1811e-06 - mae: 2.4338e-04 - val_loss: 1.1708e-06 - val_mae: 2.4330e-04\n",
      "Epoch 36/100\n",
      "4/4 [==============================] - 37s 9s/step - loss: 1.1800e-06 - mae: 2.4339e-04 - val_loss: 1.1700e-06 - val_mae: 2.4333e-04\n",
      "Epoch 37/100\n",
      "4/4 [==============================] - 34s 8s/step - loss: 1.1792e-06 - mae: 2.4342e-04 - val_loss: 1.1692e-06 - val_mae: 2.4336e-04\n",
      "Epoch 38/100\n",
      "4/4 [==============================] - 34s 8s/step - loss: 1.1784e-06 - mae: 2.4344e-04 - val_loss: 1.1685e-06 - val_mae: 2.4340e-04\n",
      "Epoch 39/100\n",
      "4/4 [==============================] - 33s 8s/step - loss: 1.1776e-06 - mae: 2.4347e-04 - val_loss: 1.1678e-06 - val_mae: 2.4344e-04\n",
      "Epoch 40/100\n",
      "4/4 [==============================] - 34s 8s/step - loss: 1.1769e-06 - mae: 2.4350e-04 - val_loss: 1.1673e-06 - val_mae: 2.4348e-04\n",
      "Epoch 41/100\n",
      "4/4 [==============================] - 33s 8s/step - loss: 1.1763e-06 - mae: 2.4353e-04 - val_loss: 1.1667e-06 - val_mae: 2.4352e-04\n",
      "Epoch 42/100\n",
      "4/4 [==============================] - 34s 9s/step - loss: 1.1757e-06 - mae: 2.4357e-04 - val_loss: 1.1662e-06 - val_mae: 2.4357e-04\n",
      "Epoch 43/100\n",
      "4/4 [==============================] - 34s 9s/step - loss: 1.1752e-06 - mae: 2.4361e-04 - val_loss: 1.1658e-06 - val_mae: 2.4362e-04\n",
      "Epoch 44/100\n",
      "4/4 [==============================] - 33s 8s/step - loss: 1.1747e-06 - mae: 2.4365e-04 - val_loss: 1.1654e-06 - val_mae: 2.4366e-04\n",
      "Epoch 45/100\n",
      "4/4 [==============================] - 33s 8s/step - loss: 1.1742e-06 - mae: 2.4369e-04 - val_loss: 1.1650e-06 - val_mae: 2.4371e-04\n",
      "Epoch 46/100\n",
      "4/4 [==============================] - 32s 8s/step - loss: 1.1738e-06 - mae: 2.4373e-04 - val_loss: 1.1647e-06 - val_mae: 2.4376e-04\n",
      "Epoch 47/100\n",
      "4/4 [==============================] - 32s 8s/step - loss: 1.1735e-06 - mae: 2.4377e-04 - val_loss: 1.1644e-06 - val_mae: 2.4381e-04\n",
      "Epoch 48/100\n",
      "4/4 [==============================] - 33s 8s/step - loss: 1.1731e-06 - mae: 2.4382e-04 - val_loss: 1.1641e-06 - val_mae: 2.4386e-04\n",
      "Epoch 49/100\n",
      "4/4 [==============================] - 32s 8s/step - loss: 1.1728e-06 - mae: 2.4386e-04 - val_loss: 1.1639e-06 - val_mae: 2.4390e-04\n",
      "Epoch 50/100\n",
      "4/4 [==============================] - 32s 8s/step - loss: 1.1726e-06 - mae: 2.4390e-04 - val_loss: 1.1637e-06 - val_mae: 2.4395e-04\n",
      "Epoch 51/100\n",
      "4/4 [==============================] - 32s 8s/step - loss: 1.1723e-06 - mae: 2.4393e-04 - val_loss: 1.1635e-06 - val_mae: 2.4399e-04\n",
      "Epoch 52/100\n",
      "4/4 [==============================] - 33s 8s/step - loss: 1.1721e-06 - mae: 2.4397e-04 - val_loss: 1.1634e-06 - val_mae: 2.4404e-04\n",
      "Epoch 53/100\n",
      "4/4 [==============================] - 33s 8s/step - loss: 1.1719e-06 - mae: 2.4401e-04 - val_loss: 1.1632e-06 - val_mae: 2.4408e-04\n",
      "Epoch 54/100\n",
      "4/4 [==============================] - 32s 8s/step - loss: 1.1718e-06 - mae: 2.4405e-04 - val_loss: 1.1631e-06 - val_mae: 2.4412e-04\n",
      "Epoch 55/100\n",
      "4/4 [==============================] - 33s 8s/step - loss: 1.1716e-06 - mae: 2.4409e-04 - val_loss: 1.1630e-06 - val_mae: 2.4416e-04\n",
      "Epoch 56/100\n",
      "4/4 [==============================] - 32s 8s/step - loss: 1.1714e-06 - mae: 2.4412e-04 - val_loss: 1.1629e-06 - val_mae: 2.4420e-04\n",
      "Epoch 57/100\n"
     ]
    },
    {
     "name": "stdout",
     "output_type": "stream",
     "text": [
      "4/4 [==============================] - 34s 9s/step - loss: 1.1713e-06 - mae: 2.4415e-04 - val_loss: 1.1628e-06 - val_mae: 2.4424e-04\n",
      "Epoch 58/100\n",
      "4/4 [==============================] - 34s 8s/step - loss: 1.1712e-06 - mae: 2.4419e-04 - val_loss: 1.1627e-06 - val_mae: 2.4428e-04\n",
      "Epoch 59/100\n",
      "4/4 [==============================] - 33s 8s/step - loss: 1.1711e-06 - mae: 2.4423e-04 - val_loss: 1.1626e-06 - val_mae: 2.4432e-04\n",
      "Epoch 60/100\n",
      "4/4 [==============================] - 33s 8s/step - loss: 1.1710e-06 - mae: 2.4426e-04 - val_loss: 1.1626e-06 - val_mae: 2.4435e-04\n",
      "Epoch 61/100\n",
      "4/4 [==============================] - 33s 8s/step - loss: 1.1709e-06 - mae: 2.4429e-04 - val_loss: 1.1625e-06 - val_mae: 2.4439e-04\n",
      "Epoch 62/100\n",
      "4/4 [==============================] - 32s 8s/step - loss: 1.1709e-06 - mae: 2.4432e-04 - val_loss: 1.1625e-06 - val_mae: 2.4441e-04\n",
      "Epoch 63/100\n",
      "4/4 [==============================] - 33s 8s/step - loss: 1.1708e-06 - mae: 2.4434e-04 - val_loss: 1.1625e-06 - val_mae: 2.4444e-04\n",
      "Epoch 64/100\n",
      "4/4 [==============================] - 33s 8s/step - loss: 1.1708e-06 - mae: 2.4437e-04 - val_loss: 1.1624e-06 - val_mae: 2.4447e-04\n",
      "Epoch 65/100\n",
      "4/4 [==============================] - 33s 8s/step - loss: 1.1707e-06 - mae: 2.4439e-04 - val_loss: 1.1624e-06 - val_mae: 2.4449e-04\n",
      "Epoch 66/100\n",
      "4/4 [==============================] - 33s 8s/step - loss: 1.1707e-06 - mae: 2.4441e-04 - val_loss: 1.1624e-06 - val_mae: 2.4451e-04\n",
      "Epoch 67/100\n",
      "4/4 [==============================] - 33s 8s/step - loss: 1.1707e-06 - mae: 2.4442e-04 - val_loss: 1.1624e-06 - val_mae: 2.4453e-04\n",
      "Epoch 68/100\n",
      "4/4 [==============================] - 33s 8s/step - loss: 1.1706e-06 - mae: 2.4444e-04 - val_loss: 1.1624e-06 - val_mae: 2.4454e-04\n",
      "Epoch 69/100\n",
      "4/4 [==============================] - 34s 9s/step - loss: 1.1706e-06 - mae: 2.4445e-04 - val_loss: 1.1624e-06 - val_mae: 2.4456e-04\n",
      "Epoch 70/100\n",
      "4/4 [==============================] - 33s 8s/step - loss: 1.1706e-06 - mae: 2.4446e-04 - val_loss: 1.1624e-06 - val_mae: 2.4458e-04\n",
      "Epoch 71/100\n",
      "4/4 [==============================] - 34s 8s/step - loss: 1.1706e-06 - mae: 2.4448e-04 - val_loss: 1.1624e-06 - val_mae: 2.4460e-04\n",
      "Epoch 72/100\n",
      "4/4 [==============================] - 34s 8s/step - loss: 1.1705e-06 - mae: 2.4450e-04 - val_loss: 1.1624e-06 - val_mae: 2.4461e-04\n",
      "Epoch 73/100\n",
      "4/4 [==============================] - 34s 8s/step - loss: 1.1705e-06 - mae: 2.4451e-04 - val_loss: 1.1623e-06 - val_mae: 2.4463e-04\n",
      "Epoch 74/100\n",
      "4/4 [==============================] - 35s 9s/step - loss: 1.1705e-06 - mae: 2.4453e-04 - val_loss: 1.1623e-06 - val_mae: 2.4465e-04\n",
      "Epoch 75/100\n",
      "4/4 [==============================] - 33s 8s/step - loss: 1.1705e-06 - mae: 2.4455e-04 - val_loss: 1.1623e-06 - val_mae: 2.4467e-04\n",
      "Epoch 76/100\n",
      "4/4 [==============================] - 32s 8s/step - loss: 1.1705e-06 - mae: 2.4457e-04 - val_loss: 1.1623e-06 - val_mae: 2.4469e-04\n",
      "Epoch 77/100\n",
      "4/4 [==============================] - 32s 8s/step - loss: 1.1704e-06 - mae: 2.4458e-04 - val_loss: 1.1623e-06 - val_mae: 2.4470e-04\n",
      "Epoch 78/100\n",
      "4/4 [==============================] - 34s 8s/step - loss: 1.1704e-06 - mae: 2.4459e-04 - val_loss: 1.1623e-06 - val_mae: 2.4472e-04\n",
      "Epoch 79/100\n",
      "4/4 [==============================] - 36s 9s/step - loss: 1.1704e-06 - mae: 2.4461e-04 - val_loss: 1.1623e-06 - val_mae: 2.4473e-04\n",
      "Epoch 80/100\n",
      "4/4 [==============================] - 33s 8s/step - loss: 1.1704e-06 - mae: 2.4462e-04 - val_loss: 1.1623e-06 - val_mae: 2.4475e-04\n",
      "Epoch 81/100\n",
      "4/4 [==============================] - 34s 8s/step - loss: 1.1704e-06 - mae: 2.4463e-04 - val_loss: 1.1623e-06 - val_mae: 2.4476e-04\n",
      "Epoch 82/100\n",
      "4/4 [==============================] - 29s 7s/step - loss: 1.1704e-06 - mae: 2.4464e-04 - val_loss: 1.1623e-06 - val_mae: 2.4477e-04\n",
      "Epoch 83/100\n",
      "4/4 [==============================] - 32s 8s/step - loss: 1.1704e-06 - mae: 2.4465e-04 - val_loss: 1.1624e-06 - val_mae: 2.4478e-04\n"
     ]
    }
   ],
   "source": [
    "es = EarlyStopping(patience = 5, restore_best_weights=True)\n",
    "\n",
    "history = model.fit(X_train, y_train,\n",
    "                      batch_size = 16, \n",
    "                      epochs = 100,\n",
    "                      validation_split = 0.3,\n",
    "                      callbacks = es)"
   ]
  },
  {
   "cell_type": "code",
   "execution_count": 16,
   "metadata": {
    "ExecuteTime": {
     "end_time": "2020-12-05T13:40:35.821732Z",
     "start_time": "2020-12-05T13:40:35.811246Z"
    }
   },
   "outputs": [
    {
     "data": {
      "text/plain": [
       "dict_keys(['loss', 'mae', 'val_loss', 'val_mae'])"
      ]
     },
     "execution_count": 16,
     "metadata": {},
     "output_type": "execute_result"
    }
   ],
   "source": [
    "history.history.keys()"
   ]
  },
  {
   "cell_type": "code",
   "execution_count": 17,
   "metadata": {
    "ExecuteTime": {
     "end_time": "2020-12-05T13:40:51.798022Z",
     "start_time": "2020-12-05T13:40:51.415337Z"
    }
   },
   "outputs": [
    {
     "data": {
      "text/plain": [
       "[<matplotlib.lines.Line2D at 0x12b77cbb0>]"
      ]
     },
     "execution_count": 17,
     "metadata": {},
     "output_type": "execute_result"
    },
    {
     "data": {
      "image/png": "[encoded data removed]",
      "text/plain": [
       "<Figure size 432x288 with 1 Axes>"
      ]
     },
     "metadata": {
      "needs_background": "light"
     },
     "output_type": "display_data"
    }
   ],
   "source": [
    "plt.plot(history.history['val_loss'])"
   ]
  },
  {
   "cell_type": "code",
   "execution_count": 18,
   "metadata": {
    "ExecuteTime": {
     "end_time": "2020-12-05T13:41:15.265005Z",
     "start_time": "2020-12-05T13:41:14.987087Z"
    }
   },
   "outputs": [
    {
     "data": {
      "text/plain": [
       "[<matplotlib.lines.Line2D at 0x12bec37c0>]"
      ]
     },
     "execution_count": 18,
     "metadata": {},
     "output_type": "execute_result"
    },
    {
     "data": {
      "image/png": "[encoded data removed]",
      "text/plain": [
       "<Figure size 432x288 with 1 Axes>"
      ]
     },
     "metadata": {
      "needs_background": "light"
     },
     "output_type": "display_data"
    }
   ],
   "source": [
    "plt.plot(history.history['val_mae'])"
   ]
  },
  {
   "cell_type": "code",
   "execution_count": 19,
   "metadata": {
    "ExecuteTime": {
     "end_time": "2020-12-05T13:44:29.053250Z",
     "start_time": "2020-12-05T13:44:21.094787Z"
    }
   },
   "outputs": [
    {
     "name": "stdout",
     "output_type": "stream",
     "text": [
      "1/1 [==============================] - 0s 2ms/step - loss: 1.2371e-06 - mae: 2.5378e-04\n",
      "[1.23710901789309e-06, 0.00025377701967954636]\n"
     ]
    }
   ],
   "source": [
    "print(model.evaluate(X_test, y_test))"
   ]
  },
  {
   "cell_type": "code",
   "execution_count": null,
   "metadata": {},
   "outputs": [],
   "source": []
  },
  {
   "cell_type": "code",
   "execution_count": null,
   "metadata": {},
   "outputs": [],
   "source": []
  }
 ],
 "metadata": {
  "kernelspec": {
   "display_name": "Python 3",
   "language": "python",
   "name": "python3"
  },
  "language_info": {
   "codemirror_mode": {
    "name": "ipython",
    "version": 3
   },
   "file_extension": ".py",
   "mimetype": "text/x-python",
   "name": "python",
   "nbconvert_exporter": "python",
   "pygments_lexer": "ipython3",
   "version": "3.8.5"
  },
  "toc": {
   "base_numbering": 1,
   "nav_menu": {},
   "number_sections": true,
   "sideBar": true,
   "skip_h1_title": false,
   "title_cell": "Table of Contents",
   "title_sidebar": "Contents",
   "toc_cell": false,
   "toc_position": {},
   "toc_section_display": true,
   "toc_window_display": false
  },
  "varInspector": {
   "cols": {
    "lenName": 16,
    "lenType": 16,
    "lenVar": 40
   },
   "kernels_config": {
    "python": {
     "delete_cmd_postfix": "",
     "delete_cmd_prefix": "del ",
     "library": "var_list.py",
     "varRefreshCmd": "print(var_dic_list())"
    },
    "r": {
     "delete_cmd_postfix": ") ",
     "delete_cmd_prefix": "rm(",
     "library": "var_list.r",
     "varRefreshCmd": "cat(var_dic_list()) "
    }
   },
   "position": {
    "height": "334.85px",
    "left": "880px",
    "right": "20px",
    "top": "16px",
    "width": "350px"
   },
   "types_to_exclude": [
    "module",
    "function",
    "builtin_function_or_method",
    "instance",
    "_Feature"
   ],
   "window_display": true
  }
 },
 "nbformat": 4,
 "nbformat_minor": 4
}
