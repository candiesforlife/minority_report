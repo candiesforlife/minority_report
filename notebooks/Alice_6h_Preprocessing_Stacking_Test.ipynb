{
 "cells": [
  {
   "cell_type": "markdown",
   "metadata": {},
   "source": [
    "# Imports"
   ]
  },
  {
   "cell_type": "code",
   "execution_count": 1,
   "metadata": {
    "ExecuteTime": {
     "end_time": "2020-12-09T10:18:48.484477Z",
     "start_time": "2020-12-09T10:18:46.707371Z"
    }
   },
   "outputs": [],
   "source": [
    "# data import\n",
    "import pickle\n",
    "\n",
    "# data manipulation\n",
    "import numpy as np\n",
    "import pandas as pd\n",
    "from datetime import datetime\n",
    "\n",
    "# plotting\n",
    "import matplotlib.pyplot as plt\n",
    "\n",
    "#gaussian filter\n",
    "from scipy.ndimage import gaussian_filter"
   ]
  },
  {
   "cell_type": "code",
   "execution_count": 2,
   "metadata": {
    "ExecuteTime": {
     "end_time": "2020-12-09T10:18:48.794265Z",
     "start_time": "2020-12-09T10:18:48.486926Z"
    }
   },
   "outputs": [],
   "source": [
    "pickle_path = ('../raw_data/clean-75-precinct.pickle')\n",
    "with open(pickle_path, 'rb') as f:\n",
    "    df = pickle.load(f)"
   ]
  },
  {
   "cell_type": "markdown",
   "metadata": {},
   "source": [
    "# Train & Test Df"
   ]
  },
  {
   "cell_type": "markdown",
   "metadata": {},
   "source": [
    "## Add 6h date"
   ]
  },
  {
   "cell_type": "code",
   "execution_count": 3,
   "metadata": {
    "ExecuteTime": {
     "end_time": "2020-12-09T10:18:49.132783Z",
     "start_time": "2020-12-09T10:18:48.798104Z"
    }
   },
   "outputs": [],
   "source": [
    "def round_six_hours(period):\n",
    "    \n",
    "    if period.hour < 6:\n",
    "        period = period.replace(hour = 0)\n",
    "        \n",
    "    elif period.hour < 12 :\n",
    "        period = period.replace(hour = 6)\n",
    "        \n",
    "    elif period.hour < 18 :\n",
    "        period = period.replace(hour = 12)\n",
    "        \n",
    "    else:\n",
    "        period = period.replace(hour = 18)\n",
    "        \n",
    "    return period\n",
    "\n",
    "df['six_hour_date'] = df['period'].apply(lambda x: round_six_hours(x))"
   ]
  },
  {
   "cell_type": "markdown",
   "metadata": {},
   "source": [
    "## Split dataframe"
   ]
  },
  {
   "cell_type": "code",
   "execution_count": 4,
   "metadata": {
    "ExecuteTime": {
     "end_time": "2020-12-09T10:18:49.146501Z",
     "start_time": "2020-12-09T10:18:49.136338Z"
    }
   },
   "outputs": [
    {
     "data": {
      "text/plain": [
       "(208915, 21)"
      ]
     },
     "execution_count": 4,
     "metadata": {},
     "output_type": "execute_result"
    }
   ],
   "source": [
    "df.shape"
   ]
  },
  {
   "cell_type": "code",
   "execution_count": 5,
   "metadata": {
    "ExecuteTime": {
     "end_time": "2020-12-09T10:18:50.003184Z",
     "start_time": "2020-12-09T10:18:49.151337Z"
    }
   },
   "outputs": [],
   "source": [
    "year = df['period'].apply(lambda x: int(x.strftime('%Y')))"
   ]
  },
  {
   "cell_type": "code",
   "execution_count": 6,
   "metadata": {
    "ExecuteTime": {
     "end_time": "2020-12-09T10:18:50.020086Z",
     "start_time": "2020-12-09T10:18:50.005445Z"
    }
   },
   "outputs": [
    {
     "data": {
      "text/plain": [
       "9.1"
      ]
     },
     "execution_count": 6,
     "metadata": {},
     "output_type": "execute_result"
    }
   ],
   "source": [
    "year.nunique() * 0.7 # choosing X_train size"
   ]
  },
  {
   "cell_type": "code",
   "execution_count": 7,
   "metadata": {
    "ExecuteTime": {
     "end_time": "2020-12-09T10:18:50.091792Z",
     "start_time": "2020-12-09T10:18:50.023484Z"
    }
   },
   "outputs": [],
   "source": [
    "inf_train = df['period'] >= datetime(2007, 1, 1, 0, 0, 0)\n",
    "\n",
    "sup_train = df['period'] < datetime(2016, 1, 1, 0, 0, 0)\n",
    "\n",
    "train_df = df[inf_train & sup_train]"
   ]
  },
  {
   "cell_type": "code",
   "execution_count": 8,
   "metadata": {
    "ExecuteTime": {
     "end_time": "2020-12-09T10:18:50.133737Z",
     "start_time": "2020-12-09T10:18:50.097154Z"
    }
   },
   "outputs": [],
   "source": [
    "inf_test = df['period'] >= datetime(2016, 1, 1, 0, 0, 0)\n",
    "\n",
    "sup_test = df['period'] <= datetime(2019, 10, 28, 0, 0, 0)\n",
    "\n",
    "test_df = df[inf_test & sup_test]"
   ]
  },
  {
   "cell_type": "code",
   "execution_count": 9,
   "metadata": {
    "ExecuteTime": {
     "end_time": "2020-12-09T10:18:50.144021Z",
     "start_time": "2020-12-09T10:18:50.137928Z"
    }
   },
   "outputs": [
    {
     "data": {
      "text/plain": [
       "((149669, 21), (56972, 21))"
      ]
     },
     "execution_count": 9,
     "metadata": {},
     "output_type": "execute_result"
    }
   ],
   "source": [
    "train_df.shape, test_df.shape"
   ]
  },
  {
   "cell_type": "code",
   "execution_count": 10,
   "metadata": {
    "ExecuteTime": {
     "end_time": "2020-12-09T10:18:50.157141Z",
     "start_time": "2020-12-09T10:18:50.146985Z"
    }
   },
   "outputs": [
    {
     "data": {
      "text/plain": [
       "0.27270420984610966"
      ]
     },
     "execution_count": 10,
     "metadata": {},
     "output_type": "execute_result"
    }
   ],
   "source": [
    "test_df.shape[0] / df.shape[0]"
   ]
  },
  {
   "cell_type": "markdown",
   "metadata": {},
   "source": [
    "# Matrix"
   ]
  },
  {
   "cell_type": "code",
   "execution_count": 11,
   "metadata": {
    "ExecuteTime": {
     "end_time": "2020-12-09T10:18:50.171977Z",
     "start_time": "2020-12-09T10:18:50.159427Z"
    }
   },
   "outputs": [],
   "source": [
    "def from_meters_to_steps(lat_meters, lon_meters):\n",
    "    \"\"\"\n",
    "    gives the latitude and longitude step to use for the grid buckets\n",
    "    lat_meters, lon_meters = lat/lon step\n",
    "    \"\"\"\n",
    "    #Position, decimal degrees\n",
    "    lat = 40\n",
    "    lon = -73\n",
    "\n",
    "    #Earth’s radius, sphere\n",
    "    R=6378137\n",
    "\n",
    "    #offsets in meters\n",
    "    dn = lat_meters\n",
    "    de = lon_meters\n",
    "\n",
    "    #Coordinate offsets in radians\n",
    "    dLat = dn/R\n",
    "    dLon = de/(R*np.cos(np.pi*lat/180))\n",
    "\n",
    "    #OffsetPosition, decimal degrees\n",
    "    latO = dLat * 180/np.pi\n",
    "    lonO = dLon * 180/np.pi \n",
    "\n",
    "    return latO, lonO"
   ]
  },
  {
   "cell_type": "code",
   "execution_count": 45,
   "metadata": {
    "ExecuteTime": {
     "end_time": "2020-12-09T11:21:08.579302Z",
     "start_time": "2020-12-09T11:21:08.570116Z"
    }
   },
   "outputs": [],
   "source": [
    "def from_coord_to_matrix_six(df, lat_meters, lon_meters):\n",
    "        \"\"\"\n",
    "        outputs the 3D matrix of all coordinates for a given bucket height and width in meters\n",
    "        \"\"\"\n",
    "        \n",
    "        lat_meters = lat_meters\n",
    "        lon_meters = lon_meters\n",
    "        \n",
    "        df = df.copy()\n",
    "        \n",
    "        #add 'time_index' column to df\n",
    "        #ind = {time:index for index,time in enumerate(np.sort(df['period'].unique()))}\n",
    "        #df['time_index'] = df['period'].map(ind)\n",
    "        ind = {time: index for index, time in enumerate(np.sort(df['six_hour_date'].unique()))}\n",
    "        df['time_index'] = df['six_hour_date'].map(ind)\n",
    "        \n",
    "        grid_offset = np.array([ -df['latitude'].max() , df['longitude'].min(), 0 ]) # Where do you start\n",
    "        \n",
    "        #from meters to lat/lon step\n",
    "        lat_spacing, lon_spacing = from_meters_to_steps(lat_meters, lon_meters )\n",
    "        \n",
    "        grid_spacing = np.array([lat_spacing , lon_spacing, 1 ]) # What's the space you consider (euclidian here)\n",
    "        \n",
    "        #get points coordinates\n",
    "        coords = np.array([( -lat, lon,t_ind) for lat, lon,t_ind \\\n",
    "                       in zip(df['latitude'],df['longitude'],df['time_index'])])\n",
    "\n",
    "        # Convert point to index\n",
    "        indexes = np.round((coords - grid_offset)/grid_spacing).astype('int')\n",
    "        X = indexes[:,0]\n",
    "        Y = indexes[:,1]\n",
    "        Z = indexes[:,2]\n",
    "\n",
    "        # virgin matrix\n",
    "        # dim 1: distance of precinct in lat / lat_spacing\n",
    "        a = np.zeros((np.round(0.1979377630000414 / lat_spacing).astype('int'),\n",
    "                     np.round(0.48138366199999894 / lon_spacing).astype('int'),\n",
    "                     Z.max() + 1))\n",
    "    \n",
    "        a[X, Y, Z] = 1\n",
    "\n",
    "        lat_size = a.shape[1]\n",
    "        lon_size = a.shape[2]\n",
    "        img3D_non_conv = a\n",
    "\n",
    "        return img3D_non_conv"
   ]
  },
  {
   "cell_type": "code",
   "execution_count": 52,
   "metadata": {
    "ExecuteTime": {
     "end_time": "2020-12-09T11:25:44.941987Z",
     "start_time": "2020-12-09T11:25:44.593463Z"
    }
   },
   "outputs": [],
   "source": [
    "img_six = from_coord_to_matrix_six(train_df, 50, 50)"
   ]
  },
  {
   "cell_type": "code",
   "execution_count": 53,
   "metadata": {
    "ExecuteTime": {
     "end_time": "2020-12-09T11:25:45.651418Z",
     "start_time": "2020-12-09T11:25:45.643261Z"
    }
   },
   "outputs": [],
   "source": [
    "def img_plot(img):\n",
    "    \n",
    "    fig, axes = plt.subplots(1, 4, figsize = (20, 10))\n",
    "\n",
    "    max_lum = img.max()\n",
    "\n",
    "    for i in range(4):\n",
    "        axes[i].imshow(img[:, :, i], cmap = 'gray', vmin = 0, vmax = max_lum)"
   ]
  },
  {
   "cell_type": "code",
   "execution_count": 54,
   "metadata": {
    "ExecuteTime": {
     "end_time": "2020-12-09T11:25:46.337868Z",
     "start_time": "2020-12-09T11:25:46.327230Z"
    }
   },
   "outputs": [
    {
     "data": {
      "text/plain": [
       "(441, 821, 13127)"
      ]
     },
     "execution_count": 54,
     "metadata": {},
     "output_type": "execute_result"
    }
   ],
   "source": [
    "img_six.shape"
   ]
  },
  {
   "cell_type": "code",
   "execution_count": 55,
   "metadata": {
    "ExecuteTime": {
     "end_time": "2020-12-09T11:25:48.189298Z",
     "start_time": "2020-12-09T11:25:46.979212Z"
    }
   },
   "outputs": [],
   "source": [
    "img_six_sample = img_six[:, :, 0:10]"
   ]
  },
  {
   "cell_type": "code",
   "execution_count": 18,
   "metadata": {
    "ExecuteTime": {
     "end_time": "2020-12-09T10:21:42.949190Z",
     "start_time": "2020-12-09T10:21:42.943638Z"
    }
   },
   "outputs": [
    {
     "data": {
      "text/plain": [
       "(1443, 2267, 10)"
      ]
     },
     "execution_count": 18,
     "metadata": {},
     "output_type": "execute_result"
    }
   ],
   "source": [
    "img_six_sample.shape"
   ]
  },
  {
   "cell_type": "code",
   "execution_count": 19,
   "metadata": {
    "ExecuteTime": {
     "end_time": "2020-12-09T10:44:58.635056Z",
     "start_time": "2020-12-09T10:44:05.349500Z"
    }
   },
   "outputs": [
    {
     "data": {
      "image/png": "[encoded data removed]",
      "text/plain": [
       "<Figure size 1440x720 with 4 Axes>"
      ]
     },
     "metadata": {
      "needs_background": "light"
     },
     "output_type": "display_data"
    }
   ],
   "source": [
    "img_plot(img_six_sample)"
   ]
  },
  {
   "cell_type": "code",
   "execution_count": null,
   "metadata": {},
   "outputs": [],
   "source": []
  }
 ],
 "metadata": {
  "kernelspec": {
   "display_name": "Python 3",
   "language": "python",
   "name": "python3"
  },
  "language_info": {
   "codemirror_mode": {
    "name": "ipython",
    "version": 3
   },
   "file_extension": ".py",
   "mimetype": "text/x-python",
   "name": "python",
   "nbconvert_exporter": "python",
   "pygments_lexer": "ipython3",
   "version": "3.8.6"
  },
  "toc": {
   "base_numbering": 1,
   "nav_menu": {},
   "number_sections": true,
   "sideBar": true,
   "skip_h1_title": false,
   "title_cell": "Table of Contents",
   "title_sidebar": "Contents",
   "toc_cell": false,
   "toc_position": {},
   "toc_section_display": true,
   "toc_window_display": false
  }
 },
 "nbformat": 4,
 "nbformat_minor": 4
}
