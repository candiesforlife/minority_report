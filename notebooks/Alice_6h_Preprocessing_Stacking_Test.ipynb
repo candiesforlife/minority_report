{
 "cells": [
  {
   "cell_type": "markdown",
   "metadata": {},
   "source": [
    "# Imports"
   ]
  },
  {
   "cell_type": "code",
   "execution_count": 1,
   "metadata": {
    "ExecuteTime": {
     "end_time": "2020-12-09T11:59:19.799119Z",
     "start_time": "2020-12-09T11:59:19.216868Z"
    }
   },
   "outputs": [],
   "source": [
    "# data import\n",
    "import pickle\n",
    "\n",
    "# data manipulation\n",
    "import numpy as np\n",
    "import pandas as pd\n",
    "from datetime import datetime\n",
    "\n",
    "# plotting\n",
    "import matplotlib.pyplot as plt\n",
    "\n",
    "#gaussian filter\n",
    "from scipy.ndimage import gaussian_filter"
   ]
  },
  {
   "cell_type": "code",
   "execution_count": 2,
   "metadata": {
    "ExecuteTime": {
     "end_time": "2020-12-09T11:59:20.016097Z",
     "start_time": "2020-12-09T11:59:19.801240Z"
    }
   },
   "outputs": [],
   "source": [
    "pickle_path = ('../raw_data/clean-75-precinct.pickle')\n",
    "with open(pickle_path, 'rb') as f:\n",
    "    df = pickle.load(f)"
   ]
  },
  {
   "cell_type": "markdown",
   "metadata": {},
   "source": [
    "# Train & Test Df"
   ]
  },
  {
   "cell_type": "markdown",
   "metadata": {
    "heading_collapsed": true
   },
   "source": [
    "## Cut Lat_Long Outliers (Outside 75th Precinct)"
   ]
  },
  {
   "cell_type": "code",
   "execution_count": 3,
   "metadata": {
    "ExecuteTime": {
     "end_time": "2020-12-09T11:59:20.023105Z",
     "start_time": "2020-12-09T11:59:20.019043Z"
    },
    "hidden": true
   },
   "outputs": [],
   "source": [
    "# max and min lat long for 75th precinct\n",
    "lat_min, lat_max, lon_min, lon_max = (40.6218192717505, 40.6951504231971, -73.90404639808888, -73.83559344190869)"
   ]
  },
  {
   "cell_type": "code",
   "execution_count": 4,
   "metadata": {
    "ExecuteTime": {
     "end_time": "2020-12-09T11:59:20.086469Z",
     "start_time": "2020-12-09T11:59:20.028335Z"
    },
    "hidden": true
   },
   "outputs": [],
   "source": [
    "max_lat = df['latitude'] <= lat_max # is smaller or equal to max lat boundary\n",
    "min_lat = df['latitude'] >= lat_min # is greater or equal to min lat boundary\n",
    "\n",
    "max_lon = df['longitude'] <= lon_max # is smaller or equal to max lon boundary\n",
    "min_lon = df['longitude'] >= lon_min # is greater or equal to min lon boundary\n",
    "\n",
    "df = df[ max_lat & min_lat & max_lon & min_lon] # side note: excludes 125 wrong lat long"
   ]
  },
  {
   "cell_type": "markdown",
   "metadata": {
    "heading_collapsed": true
   },
   "source": [
    "## Add 6h date"
   ]
  },
  {
   "cell_type": "code",
   "execution_count": 5,
   "metadata": {
    "ExecuteTime": {
     "end_time": "2020-12-09T11:59:20.389885Z",
     "start_time": "2020-12-09T11:59:20.088866Z"
    },
    "hidden": true
   },
   "outputs": [],
   "source": [
    "def round_six_hours(period):\n",
    "    \n",
    "    if period.hour < 6:\n",
    "        period = period.replace(hour = 0)\n",
    "        \n",
    "    elif period.hour < 12 :\n",
    "        period = period.replace(hour = 6)\n",
    "        \n",
    "    elif period.hour < 18 :\n",
    "        period = period.replace(hour = 12)\n",
    "        \n",
    "    else:\n",
    "        period = period.replace(hour = 18)\n",
    "        \n",
    "    return period\n",
    "\n",
    "df['six_hour_date'] = df['period'].apply(lambda x: round_six_hours(x))"
   ]
  },
  {
   "cell_type": "markdown",
   "metadata": {},
   "source": [
    "## Split dataframe"
   ]
  },
  {
   "cell_type": "markdown",
   "metadata": {
    "heading_collapsed": true
   },
   "source": [
    "### Choosing Size of Train & Test Df"
   ]
  },
  {
   "cell_type": "code",
   "execution_count": 6,
   "metadata": {
    "ExecuteTime": {
     "end_time": "2020-12-09T11:59:20.401624Z",
     "start_time": "2020-12-09T11:59:20.393117Z"
    },
    "hidden": true
   },
   "outputs": [
    {
     "data": {
      "text/plain": [
       "(208790, 21)"
      ]
     },
     "execution_count": 6,
     "metadata": {},
     "output_type": "execute_result"
    }
   ],
   "source": [
    "df.shape"
   ]
  },
  {
   "cell_type": "code",
   "execution_count": 7,
   "metadata": {
    "ExecuteTime": {
     "end_time": "2020-12-09T11:59:21.359548Z",
     "start_time": "2020-12-09T11:59:20.408495Z"
    },
    "hidden": true
   },
   "outputs": [],
   "source": [
    "year = df['period'].apply(lambda x: int(x.strftime('%Y')))"
   ]
  },
  {
   "cell_type": "code",
   "execution_count": 8,
   "metadata": {
    "ExecuteTime": {
     "end_time": "2020-12-09T11:59:21.373912Z",
     "start_time": "2020-12-09T11:59:21.368461Z"
    },
    "hidden": true
   },
   "outputs": [
    {
     "data": {
      "text/plain": [
       "9.1"
      ]
     },
     "execution_count": 8,
     "metadata": {},
     "output_type": "execute_result"
    }
   ],
   "source": [
    "year.nunique() * 0.7 # choosing X_train size"
   ]
  },
  {
   "cell_type": "markdown",
   "metadata": {},
   "source": [
    "### To be put into function:"
   ]
  },
  {
   "cell_type": "code",
   "execution_count": 9,
   "metadata": {
    "ExecuteTime": {
     "end_time": "2020-12-09T11:59:21.444962Z",
     "start_time": "2020-12-09T11:59:21.379324Z"
    }
   },
   "outputs": [],
   "source": [
    "inf_train = df['period'] >= datetime(2007, 1, 1, 0, 0, 0)\n",
    "\n",
    "sup_train = df['period'] < datetime(2016, 1, 1, 0, 0, 0)\n",
    "\n",
    "train_df = df[inf_train & sup_train]"
   ]
  },
  {
   "cell_type": "code",
   "execution_count": 10,
   "metadata": {
    "ExecuteTime": {
     "end_time": "2020-12-09T11:59:21.489053Z",
     "start_time": "2020-12-09T11:59:21.447420Z"
    }
   },
   "outputs": [],
   "source": [
    "inf_test = df['period'] >= datetime(2016, 1, 1, 0, 0, 0)\n",
    "\n",
    "sup_test = df['period'] <= datetime(2019, 10, 28, 0, 0, 0)\n",
    "\n",
    "test_df = df[inf_test & sup_test]"
   ]
  },
  {
   "cell_type": "markdown",
   "metadata": {
    "heading_collapsed": true
   },
   "source": [
    "### Check"
   ]
  },
  {
   "cell_type": "code",
   "execution_count": 11,
   "metadata": {
    "ExecuteTime": {
     "end_time": "2020-12-09T11:59:21.501569Z",
     "start_time": "2020-12-09T11:59:21.495411Z"
    },
    "hidden": true
   },
   "outputs": [
    {
     "data": {
      "text/plain": [
       "((149575, 21), (56942, 21))"
      ]
     },
     "execution_count": 11,
     "metadata": {},
     "output_type": "execute_result"
    }
   ],
   "source": [
    "train_df.shape, test_df.shape"
   ]
  },
  {
   "cell_type": "code",
   "execution_count": 12,
   "metadata": {
    "ExecuteTime": {
     "end_time": "2020-12-09T11:59:21.513125Z",
     "start_time": "2020-12-09T11:59:21.504127Z"
    },
    "hidden": true
   },
   "outputs": [
    {
     "data": {
      "text/plain": [
       "0.2727237894535179"
      ]
     },
     "execution_count": 12,
     "metadata": {},
     "output_type": "execute_result"
    }
   ],
   "source": [
    "test_df.shape[0] / df.shape[0]"
   ]
  },
  {
   "cell_type": "markdown",
   "metadata": {},
   "source": [
    "# Matrix"
   ]
  },
  {
   "cell_type": "code",
   "execution_count": 13,
   "metadata": {
    "ExecuteTime": {
     "end_time": "2020-12-09T11:59:21.524503Z",
     "start_time": "2020-12-09T11:59:21.515739Z"
    }
   },
   "outputs": [],
   "source": [
    "def from_meters_to_steps(lat_meters, lon_meters):\n",
    "    \"\"\"\n",
    "    gives the latitude and longitude step to use for the grid buckets\n",
    "    lat_meters, lon_meters = lat/lon step\n",
    "    \"\"\"\n",
    "    #Position, decimal degrees\n",
    "    lat = 40\n",
    "    lon = -73\n",
    "\n",
    "    #Earth’s radius, sphere\n",
    "    R=6378137\n",
    "\n",
    "    #offsets in meters\n",
    "    dn = lat_meters\n",
    "    de = lon_meters\n",
    "\n",
    "    #Coordinate offsets in radians\n",
    "    dLat = dn/R\n",
    "    dLon = de/(R*np.cos(np.pi*lat/180))\n",
    "\n",
    "    #OffsetPosition, decimal degrees\n",
    "    latO = dLat * 180/np.pi\n",
    "    lonO = dLon * 180/np.pi \n",
    "\n",
    "    return latO, lonO"
   ]
  },
  {
   "cell_type": "code",
   "execution_count": 14,
   "metadata": {
    "ExecuteTime": {
     "end_time": "2020-12-09T11:59:21.538045Z",
     "start_time": "2020-12-09T11:59:21.529526Z"
    }
   },
   "outputs": [],
   "source": [
    "def from_coord_to_matrix_six(df, lat_meters, lon_meters):\n",
    "        \"\"\"\n",
    "        outputs the 3D matrix of all coordinates for a given bucket height and width in meters\n",
    "        \"\"\"\n",
    "        \n",
    "        lat_meters = lat_meters\n",
    "        lon_meters = lon_meters\n",
    "        \n",
    "        df = df.copy()\n",
    "        \n",
    "        #add 'time_index' column to df\n",
    "        #ind = {time:index for index,time in enumerate(np.sort(df['period'].unique()))}\n",
    "        #df['time_index'] = df['period'].map(ind)\n",
    "        ind = {time: index for index, time in enumerate(np.sort(df['six_hour_date'].unique()))}\n",
    "        df['time_index'] = df['six_hour_date'].map(ind)\n",
    "        \n",
    "        grid_offset = np.array([ -df['latitude'].max() , df['longitude'].min(), 0 ]) # Where do you start\n",
    "        \n",
    "        #from meters to lat/lon step\n",
    "        lat_spacing, lon_spacing = from_meters_to_steps(lat_meters, lon_meters )\n",
    "        \n",
    "        grid_spacing = np.array([lat_spacing , lon_spacing, 1 ]) # What's the space you consider (euclidian here)\n",
    "        \n",
    "        #get points coordinates\n",
    "        coords = np.array([( -lat, lon,t_ind) for lat, lon,t_ind \\\n",
    "                       in zip(df['latitude'],df['longitude'],df['time_index'])])\n",
    "\n",
    "        # Convert point to index\n",
    "        indexes = np.round((coords - grid_offset)/grid_spacing).astype('int')\n",
    "        X = indexes[:,0]\n",
    "        Y = indexes[:,1]\n",
    "        Z = indexes[:,2]\n",
    "\n",
    "        # virgin matrix\n",
    "        # precinct distances:\n",
    "        lat_min, lat_max, lon_max, lon_min = (40.6218192717505,\n",
    "                                              40.6951504231971,\n",
    "                                              -73.90404639808888,\n",
    "                                              -73.83559344190869)\n",
    "        lat_diff = lat_max - lat_min # distance in lat that makes up width of precinct 75\n",
    "        lon_diff = lon_min - lon_max # distance in lon that makes up width of precinct 75\n",
    "        \n",
    "        # dim 1: distance of precinct in lat / lat_spacing\n",
    "        a = np.zeros((np.round(lat_diff / lat_spacing).astype('int'),\n",
    "                     np.round(lon_diff / lon_spacing).astype('int'),\n",
    "                     Z.max() + 1))\n",
    "    \n",
    "        a[X, Y, Z] = 1\n",
    "\n",
    "        lat_size = a.shape[1]\n",
    "        lon_size = a.shape[2]\n",
    "        img3D_non_conv = a\n",
    "\n",
    "        return img3D_non_conv"
   ]
  },
  {
   "cell_type": "code",
   "execution_count": 15,
   "metadata": {
    "ExecuteTime": {
     "end_time": "2020-12-09T11:59:21.982392Z",
     "start_time": "2020-12-09T11:59:21.542374Z"
    }
   },
   "outputs": [],
   "source": [
    "img_six = from_coord_to_matrix_six(train_df, 15, 15)"
   ]
  },
  {
   "cell_type": "code",
   "execution_count": 16,
   "metadata": {
    "ExecuteTime": {
     "end_time": "2020-12-09T11:59:21.990795Z",
     "start_time": "2020-12-09T11:59:21.984484Z"
    }
   },
   "outputs": [],
   "source": [
    "def img_plot(img):\n",
    "    \n",
    "    fig, axes = plt.subplots(1, 4, figsize = (20, 10))\n",
    "\n",
    "    max_lum = img.max()\n",
    "\n",
    "    for i in range(4):\n",
    "        axes[i].imshow(img[:, :, i], cmap = 'gray', vmin = 0, vmax = max_lum)"
   ]
  },
  {
   "cell_type": "code",
   "execution_count": 17,
   "metadata": {
    "ExecuteTime": {
     "end_time": "2020-12-09T11:59:22.014936Z",
     "start_time": "2020-12-09T11:59:21.996134Z"
    }
   },
   "outputs": [
    {
     "data": {
      "text/plain": [
       "(544, 389, 13127)"
      ]
     },
     "execution_count": 17,
     "metadata": {},
     "output_type": "execute_result"
    }
   ],
   "source": [
    "img_six.shape"
   ]
  },
  {
   "cell_type": "code",
   "execution_count": 18,
   "metadata": {
    "ExecuteTime": {
     "end_time": "2020-12-09T11:59:22.030147Z",
     "start_time": "2020-12-09T11:59:22.022589Z"
    }
   },
   "outputs": [],
   "source": [
    "img_six_sample = img_six[:, :, 0:10]"
   ]
  },
  {
   "cell_type": "code",
   "execution_count": 19,
   "metadata": {
    "ExecuteTime": {
     "end_time": "2020-12-09T11:59:22.047455Z",
     "start_time": "2020-12-09T11:59:22.034370Z"
    }
   },
   "outputs": [
    {
     "data": {
      "text/plain": [
       "(544, 389, 10)"
      ]
     },
     "execution_count": 19,
     "metadata": {},
     "output_type": "execute_result"
    }
   ],
   "source": [
    "img_six_sample.shape"
   ]
  },
  {
   "cell_type": "code",
   "execution_count": 20,
   "metadata": {
    "ExecuteTime": {
     "end_time": "2020-12-09T11:59:23.168835Z",
     "start_time": "2020-12-09T11:59:22.052053Z"
    }
   },
   "outputs": [
    {
     "data": {
      "image/png": "[encoded data removed]",
      "text/plain": [
       "<Figure size 1440x720 with 4 Axes>"
      ]
     },
     "metadata": {
      "needs_background": "light"
     },
     "output_type": "display_data"
    }
   ],
   "source": [
    "img_plot(img_six_sample)"
   ]
  },
  {
   "cell_type": "code",
   "execution_count": null,
   "metadata": {
    "ExecuteTime": {
     "start_time": "2020-12-09T12:01:05.266Z"
    }
   },
   "outputs": [],
   "source": [
    "img3D_conv_six = gaussian_filter(img_six, sigma = (2, 2, 3))\n",
    "\n",
    "img_conv_sample = img3D_conv_six[:, :, 0:10]\n",
    "\n",
    "img_plot(img_conv_sample)"
   ]
  }
 ],
 "metadata": {
  "kernelspec": {
   "display_name": "Python 3",
   "language": "python",
   "name": "python3"
  },
  "language_info": {
   "codemirror_mode": {
    "name": "ipython",
    "version": 3
   },
   "file_extension": ".py",
   "mimetype": "text/x-python",
   "name": "python",
   "nbconvert_exporter": "python",
   "pygments_lexer": "ipython3",
   "version": "3.8.6"
  },
  "toc": {
   "base_numbering": 1,
   "nav_menu": {},
   "number_sections": true,
   "sideBar": true,
   "skip_h1_title": false,
   "title_cell": "Table of Contents",
   "title_sidebar": "Contents",
   "toc_cell": false,
   "toc_position": {},
   "toc_section_display": true,
   "toc_window_display": false
  }
 },
 "nbformat": 4,
 "nbformat_minor": 4
}
