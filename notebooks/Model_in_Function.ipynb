{
 "cells": [
  {
   "cell_type": "markdown",
   "metadata": {},
   "source": [
    "## NYPD Data"
   ]
  },
  {
   "cell_type": "markdown",
   "metadata": {},
   "source": [
    "### Imports"
   ]
  },
  {
   "cell_type": "code",
   "execution_count": 1,
   "metadata": {
    "ExecuteTime": {
     "end_time": "2020-12-05T09:46:47.385700Z",
     "start_time": "2020-12-05T09:46:46.470198Z"
    }
   },
   "outputs": [],
   "source": [
    "# data import\n",
    "import pickle\n",
    "\n",
    "# data manipulation\n",
    "import numpy as np\n",
    "import pandas as pd\n",
    "from datetime import datetime\n",
    "\n",
    "# plotting\n",
    "import matplotlib.pyplot as plt\n",
    "\n",
    "#gaussian filter\n",
    "from scipy.ndimage import gaussian_filter"
   ]
  },
  {
   "cell_type": "markdown",
   "metadata": {},
   "source": [
    "### Data Import"
   ]
  },
  {
   "cell_type": "code",
   "execution_count": 2,
   "metadata": {
    "ExecuteTime": {
     "end_time": "2020-12-05T09:46:52.643311Z",
     "start_time": "2020-12-05T09:46:47.389079Z"
    }
   },
   "outputs": [],
   "source": [
    "pickle_path = ('../raw_data/clean.pickle')\n",
    "with open(pickle_path, 'rb') as f:\n",
    "    df = pickle.load(f)"
   ]
  },
  {
   "cell_type": "markdown",
   "metadata": {},
   "source": [
    "### Sample Selection"
   ]
  },
  {
   "cell_type": "code",
   "execution_count": 3,
   "metadata": {
    "ExecuteTime": {
     "end_time": "2020-12-05T09:46:53.311714Z",
     "start_time": "2020-12-05T09:46:52.657386Z"
    }
   },
   "outputs": [],
   "source": [
    "inf = df['period'] > datetime(2016, 10, 1, 0, 0, 0)\n",
    "sup = df['period'] < datetime(2016, 11, 1, 0, 0, 0)\n",
    "sample = df[ inf & sup ]"
   ]
  },
  {
   "cell_type": "markdown",
   "metadata": {},
   "source": [
    "### Lat - Long to Array"
   ]
  },
  {
   "cell_type": "code",
   "execution_count": 4,
   "metadata": {
    "ExecuteTime": {
     "end_time": "2020-12-05T09:46:53.331285Z",
     "start_time": "2020-12-05T09:46:53.314170Z"
    }
   },
   "outputs": [],
   "source": [
    "def from_coord_to_matrix(df):\n",
    "    #add 'time_index' column to df\n",
    "    ind = {time:index for index,time in enumerate(np.sort(df['period'].unique()))}\n",
    "    df['time_index'] = df['period'].map(ind)\n",
    "    #initiate matrix\n",
    "    grid_offset = np.array([0, -74.25559136315213, 40.49611539518921]) # Where do you start\n",
    "    grid_spacing = np.array([1, 0.005, 0.005]) # What's the space you consider (euclidian here)\n",
    "    #get points coordinates\n",
    "    coords = np.array([(t_ind, lon, lat) for t_ind, lon, lat \\\n",
    "                   in zip(df['time_index'],df['longitude'],df['latitude'])])\n",
    "    # Convert point to index\n",
    "    indexes = np.round((coords - grid_offset)/grid_spacing).astype('int')\n",
    "    #virgin matrix\n",
    "    a = np.zeros((indexes[:,0].max()+1, indexes[:,1].max()+1, indexes[:,2].max()+1))\n",
    "    Z = indexes[:,0]\n",
    "    X = indexes[:,1]\n",
    "    Y = indexes[:,2]\n",
    "    a[Z, X, Y]=1\n",
    "    return a"
   ]
  },
  {
   "cell_type": "code",
   "execution_count": 5,
   "metadata": {
    "ExecuteTime": {
     "end_time": "2020-12-05T09:46:53.423118Z",
     "start_time": "2020-12-05T09:46:53.333789Z"
    }
   },
   "outputs": [
    {
     "name": "stderr",
     "output_type": "stream",
     "text": [
      "<ipython-input-4-b7369d75031f>:4: SettingWithCopyWarning: \n",
      "A value is trying to be set on a copy of a slice from a DataFrame.\n",
      "Try using .loc[row_indexer,col_indexer] = value instead\n",
      "\n",
      "See the caveats in the documentation: https://pandas.pydata.org/pandas-docs/stable/user_guide/indexing.html#returning-a-view-versus-a-copy\n",
      "  df['time_index'] = df['period'].map(ind)\n"
     ]
    }
   ],
   "source": [
    "img = from_coord_to_matrix(sample)"
   ]
  },
  {
   "cell_type": "markdown",
   "metadata": {},
   "source": [
    "### Plotting Array (with and w/o Gaussian filter)"
   ]
  },
  {
   "cell_type": "code",
   "execution_count": 6,
   "metadata": {
    "ExecuteTime": {
     "end_time": "2020-12-05T09:46:53.621847Z",
     "start_time": "2020-12-05T09:46:53.426766Z"
    }
   },
   "outputs": [
    {
     "data": {
      "image/png": "[encoded data removed]",
      "text/plain": [
       "<Figure size 360x360 with 1 Axes>"
      ]
     },
     "metadata": {
      "needs_background": "light"
     },
     "output_type": "display_data"
    }
   ],
   "source": [
    "plt.figure(figsize=(5, 5))\n",
    "plt.imshow(img[3], cmap='gray');"
   ]
  },
  {
   "cell_type": "code",
   "execution_count": 7,
   "metadata": {
    "ExecuteTime": {
     "end_time": "2020-12-05T09:46:54.046500Z",
     "start_time": "2020-12-05T09:46:53.627041Z"
    }
   },
   "outputs": [
    {
     "data": {
      "image/png": "[encoded data removed]",
      "text/plain": [
       "<Figure size 360x360 with 1 Axes>"
      ]
     },
     "metadata": {
      "needs_background": "light"
     },
     "output_type": "display_data"
    }
   ],
   "source": [
    "img3D_conv = gaussian_filter(img, sigma=(2, 2, 2))\n",
    "\n",
    "plt.figure(figsize=(5, 5))\n",
    "\n",
    "plt.imshow(img3D_conv[3], cmap='gray');"
   ]
  },
  {
   "cell_type": "markdown",
   "metadata": {},
   "source": [
    "### Splitting into X and y"
   ]
  },
  {
   "cell_type": "code",
   "execution_count": 8,
   "metadata": {
    "ExecuteTime": {
     "end_time": "2020-12-05T09:46:54.053777Z",
     "start_time": "2020-12-05T09:46:54.050114Z"
    }
   },
   "outputs": [],
   "source": [
    "def get_observation_target(img3D_conv):\n",
    "    \n",
    "    position = np.random.randint(0, img3D_conv.shape[0] - 12)\n",
    "    \n",
    "    observation = img3D_conv[position:position + 8]\n",
    "    \n",
    "    target = img3D_conv[position + 8:position + 12].flatten()\n",
    "    \n",
    "    return observation, target"
   ]
  },
  {
   "cell_type": "markdown",
   "metadata": {},
   "source": [
    "### Subsampling to get multiple X and y"
   ]
  },
  {
   "cell_type": "code",
   "execution_count": 9,
   "metadata": {
    "ExecuteTime": {
     "end_time": "2020-12-05T09:46:54.061801Z",
     "start_time": "2020-12-05T09:46:54.055839Z"
    }
   },
   "outputs": [],
   "source": [
    "def get_X_y(img3D_conv, number_of_observations):\n",
    "    \n",
    "    X = []\n",
    "    y = []\n",
    "    \n",
    "    for n in range(number_of_observations):\n",
    "        X_subsample, y_subsample = get_observation_target(img3D_conv)\n",
    "        X.append(X_subsample)\n",
    "        y.append(y_subsample)\n",
    "        \n",
    "    X = np.array(X)\n",
    "    y = np.array(y)\n",
    "    \n",
    "    return X, y"
   ]
  },
  {
   "cell_type": "code",
   "execution_count": 10,
   "metadata": {
    "ExecuteTime": {
     "end_time": "2020-12-05T09:46:54.074049Z",
     "start_time": "2020-12-05T09:46:54.064227Z"
    }
   },
   "outputs": [],
   "source": [
    "X, y = get_X_y(img3D_conv, 10)"
   ]
  },
  {
   "cell_type": "markdown",
   "metadata": {},
   "source": [
    "## Model"
   ]
  },
  {
   "cell_type": "markdown",
   "metadata": {},
   "source": [
    "### Imports"
   ]
  },
  {
   "cell_type": "code",
   "execution_count": 11,
   "metadata": {
    "ExecuteTime": {
     "end_time": "2020-12-05T09:46:56.961146Z",
     "start_time": "2020-12-05T09:46:54.082661Z"
    }
   },
   "outputs": [],
   "source": [
    "# Train, test, split\n",
    "from sklearn.model_selection import train_test_split\n",
    "\n",
    "# Model\n",
    "from tensorflow.keras import models\n",
    "from tensorflow.keras import layers\n",
    "from tensorflow.keras.callbacks import EarlyStopping"
   ]
  },
  {
   "cell_type": "markdown",
   "metadata": {},
   "source": [
    "### Train, test, split"
   ]
  },
  {
   "cell_type": "code",
   "execution_count": 12,
   "metadata": {
    "ExecuteTime": {
     "end_time": "2020-12-05T09:46:56.974451Z",
     "start_time": "2020-12-05T09:46:56.963285Z"
    }
   },
   "outputs": [],
   "source": [
    "X_train, X_test, y_train, y_test = train_test_split(X, y, test_size = 0.2)"
   ]
  },
  {
   "cell_type": "markdown",
   "metadata": {},
   "source": [
    "### Model"
   ]
  },
  {
   "cell_type": "code",
   "execution_count": 21,
   "metadata": {
    "ExecuteTime": {
     "end_time": "2020-12-05T09:54:43.115250Z",
     "start_time": "2020-12-05T09:54:43.100929Z"
    }
   },
   "outputs": [],
   "source": [
    "def model():\n",
    "    \n",
    "    model = models.Sequential()\n",
    "\n",
    "    model.add(layers.GaussianNoise(stddev = 2.5, input_shape = (8, 112, 84)))\n",
    "    \n",
    "    model.add(layers.Conv2D(64, kernel_size = 3, activation = 'relu'))\n",
    "    \n",
    "    model.add(layers.Conv2D(32, kernel_size = 3, activation = 'relu'))\n",
    "\n",
    "    model.add(layers.Conv2D(16, kernel_size = 3, activation = 'relu'))\n",
    "\n",
    "    model.add(layers.Flatten())\n",
    "\n",
    "    model.add(layers.Dense(4 * 112 * 84))\n",
    "\n",
    "    model.compile(loss = 'mse',\n",
    "                      optimizer = 'adam',\n",
    "                      metrics = 'mae')\n",
    "    \n",
    "    return model"
   ]
  },
  {
   "cell_type": "markdown",
   "metadata": {},
   "source": [
    "### Running Model (Instance, Early Stopping, Fit and Evaluate)"
   ]
  },
  {
   "cell_type": "markdown",
   "metadata": {},
   "source": [
    "**Reminders**\n",
    "\n",
    "**batch_size:** no. of data used to compute error between y_pred and y_true each time weights of neural network updated (use 16 or 32)\n",
    "\n",
    "**epoch:** once all data has been used once to update the weights"
   ]
  },
  {
   "cell_type": "code",
   "execution_count": 22,
   "metadata": {
    "ExecuteTime": {
     "end_time": "2020-12-05T09:54:45.909132Z",
     "start_time": "2020-12-05T09:54:44.517460Z"
    }
   },
   "outputs": [],
   "source": [
    "model = model()"
   ]
  },
  {
   "cell_type": "code",
   "execution_count": 25,
   "metadata": {
    "ExecuteTime": {
     "end_time": "2020-12-05T09:58:54.638336Z",
     "start_time": "2020-12-05T09:58:54.596409Z"
    }
   },
   "outputs": [
    {
     "name": "stdout",
     "output_type": "stream",
     "text": [
      "Model: \"sequential_2\"\n",
      "_________________________________________________________________\n",
      "Layer (type)                 Output Shape              Param #   \n",
      "=================================================================\n",
      "gaussian_noise_2 (GaussianNo (None, 8, 112, 84)        0         \n",
      "_________________________________________________________________\n",
      "conv2d_5 (Conv2D)            (None, 6, 110, 64)        48448     \n",
      "_________________________________________________________________\n",
      "conv2d_6 (Conv2D)            (None, 4, 108, 32)        18464     \n",
      "_________________________________________________________________\n",
      "conv2d_7 (Conv2D)            (None, 2, 106, 16)        4624      \n",
      "_________________________________________________________________\n",
      "flatten_2 (Flatten)          (None, 3392)              0         \n",
      "_________________________________________________________________\n",
      "dense_2 (Dense)              (None, 37632)             127685376 \n",
      "=================================================================\n",
      "Total params: 127,756,912\n",
      "Trainable params: 127,756,912\n",
      "Non-trainable params: 0\n",
      "_________________________________________________________________\n"
     ]
    }
   ],
   "source": [
    "model.summary()"
   ]
  },
  {
   "cell_type": "code",
   "execution_count": 23,
   "metadata": {
    "ExecuteTime": {
     "end_time": "2020-12-05T09:56:58.058653Z",
     "start_time": "2020-12-05T09:54:45.912047Z"
    }
   },
   "outputs": [
    {
     "name": "stdout",
     "output_type": "stream",
     "text": [
      "Epoch 1/100\n",
      "1/1 [==============================] - 1s 509ms/step - loss: 0.4174 - mae: 0.5154 - val_loss: 1.5340e-04 - val_mae: 0.0069\n",
      "Epoch 2/100\n",
      "1/1 [==============================] - 0s 426ms/step - loss: 1.4220 - mae: 1.1269 - val_loss: 1.4559e-04 - val_mae: 0.0059\n",
      "Epoch 3/100\n",
      "1/1 [==============================] - 0s 456ms/step - loss: 0.2960 - mae: 0.4605 - val_loss: 1.4450e-04 - val_mae: 0.0057\n",
      "Epoch 4/100\n",
      "1/1 [==============================] - 0s 84ms/step - loss: 0.0860 - mae: 0.2378 - val_loss: 1.4492e-04 - val_mae: 0.0058\n",
      "Epoch 5/100\n",
      "1/1 [==============================] - 0s 85ms/step - loss: 0.0603 - mae: 0.2023 - val_loss: 1.4468e-04 - val_mae: 0.0058\n",
      "Epoch 6/100\n",
      "1/1 [==============================] - 0s 372ms/step - loss: 0.0434 - mae: 0.1737 - val_loss: 1.4402e-04 - val_mae: 0.0057\n",
      "Epoch 7/100\n",
      "1/1 [==============================] - 0s 374ms/step - loss: 0.0214 - mae: 0.1225 - val_loss: 1.4338e-04 - val_mae: 0.0056\n",
      "Epoch 8/100\n",
      "1/1 [==============================] - 0s 371ms/step - loss: 0.0130 - mae: 0.0950 - val_loss: 1.4294e-04 - val_mae: 0.0056\n",
      "Epoch 9/100\n",
      "1/1 [==============================] - 0s 398ms/step - loss: 0.0068 - mae: 0.0678 - val_loss: 1.4276e-04 - val_mae: 0.0056\n",
      "Epoch 10/100\n",
      "1/1 [==============================] - 0s 387ms/step - loss: 0.0031 - mae: 0.0449 - val_loss: 1.4260e-04 - val_mae: 0.0056\n",
      "Epoch 11/100\n",
      "1/1 [==============================] - 0s 391ms/step - loss: 0.0011 - mae: 0.0266 - val_loss: 1.4238e-04 - val_mae: 0.0056\n",
      "Epoch 12/100\n",
      "1/1 [==============================] - 0s 374ms/step - loss: 4.8556e-04 - mae: 0.0169 - val_loss: 1.4209e-04 - val_mae: 0.0056\n",
      "Epoch 13/100\n",
      "1/1 [==============================] - 0s 385ms/step - loss: 2.9464e-04 - mae: 0.0122 - val_loss: 1.4175e-04 - val_mae: 0.0056\n",
      "Epoch 14/100\n",
      "1/1 [==============================] - 0s 380ms/step - loss: 1.9331e-04 - mae: 0.0084 - val_loss: 1.4137e-04 - val_mae: 0.0056\n",
      "Epoch 15/100\n",
      "1/1 [==============================] - 0s 385ms/step - loss: 1.7490e-04 - mae: 0.0074 - val_loss: 1.4095e-04 - val_mae: 0.0056\n",
      "Epoch 16/100\n",
      "1/1 [==============================] - 0s 389ms/step - loss: 1.7296e-04 - mae: 0.0073 - val_loss: 1.4049e-04 - val_mae: 0.0057\n",
      "Epoch 17/100\n",
      "1/1 [==============================] - 0s 412ms/step - loss: 1.6030e-04 - mae: 0.0062 - val_loss: 1.3999e-04 - val_mae: 0.0057\n",
      "Epoch 18/100\n",
      "1/1 [==============================] - 0s 380ms/step - loss: 1.6285e-04 - mae: 0.0064 - val_loss: 1.3945e-04 - val_mae: 0.0057\n",
      "Epoch 19/100\n",
      "1/1 [==============================] - 0s 380ms/step - loss: 1.5681e-04 - mae: 0.0059 - val_loss: 1.3888e-04 - val_mae: 0.0057\n",
      "Epoch 20/100\n",
      "1/1 [==============================] - 0s 394ms/step - loss: 1.5615e-04 - mae: 0.0059 - val_loss: 1.3828e-04 - val_mae: 0.0057\n",
      "Epoch 21/100\n",
      "1/1 [==============================] - 0s 386ms/step - loss: 1.5599e-04 - mae: 0.0060 - val_loss: 1.3766e-04 - val_mae: 0.0057\n",
      "Epoch 22/100\n",
      "1/1 [==============================] - 0s 433ms/step - loss: 1.5474e-04 - mae: 0.0059 - val_loss: 1.3700e-04 - val_mae: 0.0056\n",
      "Epoch 23/100\n",
      "1/1 [==============================] - 0s 422ms/step - loss: 1.5409e-04 - mae: 0.0059 - val_loss: 1.3632e-04 - val_mae: 0.0056\n",
      "Epoch 24/100\n",
      "1/1 [==============================] - 1s 611ms/step - loss: 1.5322e-04 - mae: 0.0059 - val_loss: 1.3562e-04 - val_mae: 0.0056\n",
      "Epoch 25/100\n",
      "1/1 [==============================] - 0s 387ms/step - loss: 1.5242e-04 - mae: 0.0059 - val_loss: 1.3490e-04 - val_mae: 0.0056\n",
      "Epoch 26/100\n",
      "1/1 [==============================] - 0s 372ms/step - loss: 1.5159e-04 - mae: 0.0059 - val_loss: 1.3415e-04 - val_mae: 0.0056\n",
      "Epoch 27/100\n",
      "1/1 [==============================] - 0s 377ms/step - loss: 1.5074e-04 - mae: 0.0059 - val_loss: 1.3339e-04 - val_mae: 0.0056\n",
      "Epoch 28/100\n",
      "1/1 [==============================] - 0s 379ms/step - loss: 1.4987e-04 - mae: 0.0059 - val_loss: 1.3261e-04 - val_mae: 0.0056\n",
      "Epoch 29/100\n",
      "1/1 [==============================] - 0s 386ms/step - loss: 1.4898e-04 - mae: 0.0058 - val_loss: 1.3182e-04 - val_mae: 0.0056\n",
      "Epoch 30/100\n",
      "1/1 [==============================] - 0s 405ms/step - loss: 1.4808e-04 - mae: 0.0058 - val_loss: 1.3101e-04 - val_mae: 0.0056\n",
      "Epoch 31/100\n",
      "1/1 [==============================] - 0s 408ms/step - loss: 1.4715e-04 - mae: 0.0058 - val_loss: 1.3018e-04 - val_mae: 0.0055\n",
      "Epoch 32/100\n",
      "1/1 [==============================] - 0s 476ms/step - loss: 1.4632e-04 - mae: 0.0058 - val_loss: 1.2935e-04 - val_mae: 0.0055\n",
      "Epoch 33/100\n",
      "1/1 [==============================] - 0s 393ms/step - loss: 1.4526e-04 - mae: 0.0058 - val_loss: 1.2850e-04 - val_mae: 0.0055\n",
      "Epoch 34/100\n",
      "1/1 [==============================] - 0s 380ms/step - loss: 1.4430e-04 - mae: 0.0058 - val_loss: 1.2765e-04 - val_mae: 0.0055\n",
      "Epoch 35/100\n",
      "1/1 [==============================] - 0s 395ms/step - loss: 1.4332e-04 - mae: 0.0057 - val_loss: 1.2678e-04 - val_mae: 0.0055\n",
      "Epoch 36/100\n",
      "1/1 [==============================] - 0s 420ms/step - loss: 1.4234e-04 - mae: 0.0057 - val_loss: 1.2591e-04 - val_mae: 0.0054\n",
      "Epoch 37/100\n",
      "1/1 [==============================] - 0s 385ms/step - loss: 1.4134e-04 - mae: 0.0057 - val_loss: 1.2503e-04 - val_mae: 0.0054\n",
      "Epoch 38/100\n",
      "1/1 [==============================] - 0s 440ms/step - loss: 1.4033e-04 - mae: 0.0057 - val_loss: 1.2414e-04 - val_mae: 0.0054\n",
      "Epoch 39/100\n",
      "1/1 [==============================] - 0s 390ms/step - loss: 1.3932e-04 - mae: 0.0057 - val_loss: 1.2325e-04 - val_mae: 0.0054\n",
      "Epoch 40/100\n",
      "1/1 [==============================] - 0s 415ms/step - loss: 1.3830e-04 - mae: 0.0056 - val_loss: 1.2235e-04 - val_mae: 0.0054\n",
      "Epoch 41/100\n",
      "1/1 [==============================] - 0s 423ms/step - loss: 1.3728e-04 - mae: 0.0056 - val_loss: 1.2145e-04 - val_mae: 0.0053\n",
      "Epoch 42/100\n",
      "1/1 [==============================] - 0s 381ms/step - loss: 1.3625e-04 - mae: 0.0056 - val_loss: 1.2055e-04 - val_mae: 0.0053\n",
      "Epoch 43/100\n",
      "1/1 [==============================] - 0s 396ms/step - loss: 1.3521e-04 - mae: 0.0056 - val_loss: 1.1964e-04 - val_mae: 0.0053\n",
      "Epoch 44/100\n",
      "1/1 [==============================] - 0s 418ms/step - loss: 1.3418e-04 - mae: 0.0055 - val_loss: 1.1873e-04 - val_mae: 0.0053\n",
      "Epoch 45/100\n",
      "1/1 [==============================] - 0s 471ms/step - loss: 1.3313e-04 - mae: 0.0055 - val_loss: 1.1782e-04 - val_mae: 0.0052\n",
      "Epoch 46/100\n",
      "1/1 [==============================] - 0s 398ms/step - loss: 1.3209e-04 - mae: 0.0055 - val_loss: 1.1691e-04 - val_mae: 0.0052\n",
      "Epoch 47/100\n",
      "1/1 [==============================] - 0s 382ms/step - loss: 1.3104e-04 - mae: 0.0055 - val_loss: 1.1600e-04 - val_mae: 0.0052\n",
      "Epoch 48/100\n",
      "1/1 [==============================] - 0s 391ms/step - loss: 1.3000e-04 - mae: 0.0054 - val_loss: 1.1508e-04 - val_mae: 0.0052\n",
      "Epoch 49/100\n",
      "1/1 [==============================] - 0s 382ms/step - loss: 1.2895e-04 - mae: 0.0054 - val_loss: 1.1417e-04 - val_mae: 0.0051\n",
      "Epoch 50/100\n",
      "1/1 [==============================] - 0s 389ms/step - loss: 1.2790e-04 - mae: 0.0054 - val_loss: 1.1326e-04 - val_mae: 0.0051\n",
      "Epoch 51/100\n",
      "1/1 [==============================] - 0s 375ms/step - loss: 1.2685e-04 - mae: 0.0054 - val_loss: 1.1235e-04 - val_mae: 0.0051\n",
      "Epoch 52/100\n",
      "1/1 [==============================] - 0s 429ms/step - loss: 1.2580e-04 - mae: 0.0053 - val_loss: 1.1144e-04 - val_mae: 0.0051\n",
      "Epoch 53/100\n",
      "1/1 [==============================] - 0s 391ms/step - loss: 1.2476e-04 - mae: 0.0053 - val_loss: 1.1053e-04 - val_mae: 0.0050\n",
      "Epoch 54/100\n",
      "1/1 [==============================] - 0s 395ms/step - loss: 1.2371e-04 - mae: 0.0053 - val_loss: 1.0963e-04 - val_mae: 0.0050\n",
      "Epoch 55/100\n",
      "1/1 [==============================] - 0s 380ms/step - loss: 1.2267e-04 - mae: 0.0052 - val_loss: 1.0872e-04 - val_mae: 0.0050\n",
      "Epoch 56/100\n",
      "1/1 [==============================] - 0s 371ms/step - loss: 1.2162e-04 - mae: 0.0052 - val_loss: 1.0782e-04 - val_mae: 0.0050\n",
      "Epoch 57/100\n",
      "1/1 [==============================] - 0s 380ms/step - loss: 1.2058e-04 - mae: 0.0052 - val_loss: 1.0693e-04 - val_mae: 0.0049\n",
      "Epoch 58/100\n",
      "1/1 [==============================] - 0s 392ms/step - loss: 1.1955e-04 - mae: 0.0052 - val_loss: 1.0604e-04 - val_mae: 0.0049\n",
      "Epoch 59/100\n",
      "1/1 [==============================] - 0s 391ms/step - loss: 1.1851e-04 - mae: 0.0051 - val_loss: 1.0515e-04 - val_mae: 0.0049\n"
     ]
    },
    {
     "name": "stdout",
     "output_type": "stream",
     "text": [
      "Epoch 60/100\n",
      "1/1 [==============================] - 0s 388ms/step - loss: 1.1748e-04 - mae: 0.0051 - val_loss: 1.0426e-04 - val_mae: 0.0048\n",
      "Epoch 61/100\n",
      "1/1 [==============================] - 0s 374ms/step - loss: 1.1645e-04 - mae: 0.0051 - val_loss: 1.0338e-04 - val_mae: 0.0048\n",
      "Epoch 62/100\n",
      "1/1 [==============================] - 0s 376ms/step - loss: 1.1543e-04 - mae: 0.0051 - val_loss: 1.0250e-04 - val_mae: 0.0048\n",
      "Epoch 63/100\n",
      "1/1 [==============================] - 0s 386ms/step - loss: 1.1441e-04 - mae: 0.0050 - val_loss: 1.0163e-04 - val_mae: 0.0048\n",
      "Epoch 64/100\n",
      "1/1 [==============================] - 0s 376ms/step - loss: 1.1340e-04 - mae: 0.0050 - val_loss: 1.0076e-04 - val_mae: 0.0047\n",
      "Epoch 65/100\n",
      "1/1 [==============================] - 0s 375ms/step - loss: 1.1238e-04 - mae: 0.0050 - val_loss: 9.9897e-05 - val_mae: 0.0047\n",
      "Epoch 66/100\n",
      "1/1 [==============================] - 0s 377ms/step - loss: 1.1138e-04 - mae: 0.0049 - val_loss: 9.9039e-05 - val_mae: 0.0047\n",
      "Epoch 67/100\n",
      "1/1 [==============================] - 0s 386ms/step - loss: 1.1038e-04 - mae: 0.0049 - val_loss: 9.8186e-05 - val_mae: 0.0047\n",
      "Epoch 68/100\n",
      "1/1 [==============================] - 0s 388ms/step - loss: 1.0938e-04 - mae: 0.0049 - val_loss: 9.7338e-05 - val_mae: 0.0046\n",
      "Epoch 69/100\n",
      "1/1 [==============================] - 0s 380ms/step - loss: 1.0839e-04 - mae: 0.0049 - val_loss: 9.6496e-05 - val_mae: 0.0046\n",
      "Epoch 70/100\n",
      "1/1 [==============================] - 0s 406ms/step - loss: 1.0740e-04 - mae: 0.0048 - val_loss: 9.5659e-05 - val_mae: 0.0046\n",
      "Epoch 71/100\n",
      "1/1 [==============================] - 0s 479ms/step - loss: 1.0642e-04 - mae: 0.0048 - val_loss: 9.4828e-05 - val_mae: 0.0046\n",
      "Epoch 72/100\n",
      "1/1 [==============================] - 0s 462ms/step - loss: 1.0545e-04 - mae: 0.0048 - val_loss: 9.4004e-05 - val_mae: 0.0045\n",
      "Epoch 73/100\n",
      "1/1 [==============================] - 0s 391ms/step - loss: 1.0448e-04 - mae: 0.0048 - val_loss: 9.3185e-05 - val_mae: 0.0045\n",
      "Epoch 74/100\n",
      "1/1 [==============================] - 0s 385ms/step - loss: 1.0352e-04 - mae: 0.0047 - val_loss: 9.2372e-05 - val_mae: 0.0045\n",
      "Epoch 75/100\n",
      "1/1 [==============================] - 0s 382ms/step - loss: 1.0256e-04 - mae: 0.0047 - val_loss: 9.1565e-05 - val_mae: 0.0045\n",
      "Epoch 76/100\n",
      "1/1 [==============================] - 0s 392ms/step - loss: 1.0161e-04 - mae: 0.0047 - val_loss: 9.0765e-05 - val_mae: 0.0044\n",
      "Epoch 77/100\n",
      "1/1 [==============================] - 0s 421ms/step - loss: 1.0067e-04 - mae: 0.0046 - val_loss: 8.9971e-05 - val_mae: 0.0044\n",
      "Epoch 78/100\n",
      "1/1 [==============================] - 0s 368ms/step - loss: 9.9732e-05 - mae: 0.0046 - val_loss: 8.9184e-05 - val_mae: 0.0044\n",
      "Epoch 79/100\n",
      "1/1 [==============================] - 0s 439ms/step - loss: 9.8801e-05 - mae: 0.0046 - val_loss: 8.8403e-05 - val_mae: 0.0044\n",
      "Epoch 80/100\n",
      "1/1 [==============================] - 0s 419ms/step - loss: 9.7877e-05 - mae: 0.0046 - val_loss: 8.7628e-05 - val_mae: 0.0043\n",
      "Epoch 81/100\n",
      "1/1 [==============================] - 0s 411ms/step - loss: 9.6959e-05 - mae: 0.0045 - val_loss: 8.6860e-05 - val_mae: 0.0043\n",
      "Epoch 82/100\n",
      "1/1 [==============================] - 0s 431ms/step - loss: 9.6048e-05 - mae: 0.0045 - val_loss: 8.6099e-05 - val_mae: 0.0043\n",
      "Epoch 83/100\n",
      "1/1 [==============================] - 1s 502ms/step - loss: 9.5145e-05 - mae: 0.0045 - val_loss: 8.5345e-05 - val_mae: 0.0042\n",
      "Epoch 84/100\n",
      "1/1 [==============================] - 1s 550ms/step - loss: 9.4248e-05 - mae: 0.0045 - val_loss: 8.4598e-05 - val_mae: 0.0042\n",
      "Epoch 85/100\n",
      "1/1 [==============================] - 0s 417ms/step - loss: 9.3358e-05 - mae: 0.0044 - val_loss: 8.3857e-05 - val_mae: 0.0042\n",
      "Epoch 86/100\n",
      "1/1 [==============================] - 0s 380ms/step - loss: 9.2475e-05 - mae: 0.0044 - val_loss: 8.3124e-05 - val_mae: 0.0042\n",
      "Epoch 87/100\n",
      "1/1 [==============================] - 0s 440ms/step - loss: 9.1599e-05 - mae: 0.0044 - val_loss: 8.2397e-05 - val_mae: 0.0042\n",
      "Epoch 88/100\n",
      "1/1 [==============================] - 0s 450ms/step - loss: 9.0731e-05 - mae: 0.0044 - val_loss: 8.1677e-05 - val_mae: 0.0041\n",
      "Epoch 89/100\n",
      "1/1 [==============================] - 0s 400ms/step - loss: 8.9869e-05 - mae: 0.0043 - val_loss: 8.0964e-05 - val_mae: 0.0041\n",
      "Epoch 90/100\n",
      "1/1 [==============================] - 0s 420ms/step - loss: 8.9015e-05 - mae: 0.0043 - val_loss: 8.0259e-05 - val_mae: 0.0041\n",
      "Epoch 91/100\n",
      "1/1 [==============================] - 0s 431ms/step - loss: 8.8169e-05 - mae: 0.0043 - val_loss: 7.9560e-05 - val_mae: 0.0041\n",
      "Epoch 92/100\n",
      "1/1 [==============================] - 1s 584ms/step - loss: 8.7329e-05 - mae: 0.0043 - val_loss: 7.8868e-05 - val_mae: 0.0040\n",
      "Epoch 93/100\n",
      "1/1 [==============================] - 0s 408ms/step - loss: 8.6497e-05 - mae: 0.0042 - val_loss: 7.8184e-05 - val_mae: 0.0040\n",
      "Epoch 94/100\n",
      "1/1 [==============================] - 0s 407ms/step - loss: 8.5672e-05 - mae: 0.0042 - val_loss: 7.7507e-05 - val_mae: 0.0040\n",
      "Epoch 95/100\n",
      "1/1 [==============================] - 0s 392ms/step - loss: 8.4855e-05 - mae: 0.0042 - val_loss: 7.6836e-05 - val_mae: 0.0040\n",
      "Epoch 96/100\n",
      "1/1 [==============================] - 0s 405ms/step - loss: 8.4045e-05 - mae: 0.0042 - val_loss: 7.6173e-05 - val_mae: 0.0039\n",
      "Epoch 97/100\n",
      "1/1 [==============================] - 0s 390ms/step - loss: 8.3243e-05 - mae: 0.0041 - val_loss: 7.5517e-05 - val_mae: 0.0039\n",
      "Epoch 98/100\n",
      "1/1 [==============================] - 0s 429ms/step - loss: 8.2448e-05 - mae: 0.0041 - val_loss: 7.4869e-05 - val_mae: 0.0039\n",
      "Epoch 99/100\n",
      "1/1 [==============================] - 0s 408ms/step - loss: 8.1661e-05 - mae: 0.0041 - val_loss: 7.4227e-05 - val_mae: 0.0039\n",
      "Epoch 100/100\n",
      "1/1 [==============================] - 0s 379ms/step - loss: 8.0881e-05 - mae: 0.0041 - val_loss: 7.3592e-05 - val_mae: 0.0039\n"
     ]
    },
    {
     "data": {
      "text/plain": [
       "<tensorflow.python.keras.callbacks.History at 0x11c4f74c0>"
      ]
     },
     "execution_count": 23,
     "metadata": {},
     "output_type": "execute_result"
    }
   ],
   "source": [
    "es = EarlyStopping(patience = 30, restore_best_weights=True)\n",
    "\n",
    "model.fit(X_train, y_train,\n",
    "          batch_size = 16, \n",
    "          epochs = 100,\n",
    "          validation_split = 0.3,\n",
    "          callbacks = es)"
   ]
  },
  {
   "cell_type": "code",
   "execution_count": 24,
   "metadata": {
    "ExecuteTime": {
     "end_time": "2020-12-05T09:56:58.159986Z",
     "start_time": "2020-12-05T09:56:58.062544Z"
    }
   },
   "outputs": [
    {
     "name": "stdout",
     "output_type": "stream",
     "text": [
      "1/1 [==============================] - 0s 2ms/step - loss: 8.6358e-05 - mae: 0.0041\n",
      "[8.635756239527836e-05, 0.004130907356739044]\n"
     ]
    }
   ],
   "source": [
    "print(model.evaluate(X_test, y_test))"
   ]
  }
 ],
 "metadata": {
  "kernelspec": {
   "display_name": "Python 3",
   "language": "python",
   "name": "python3"
  },
  "language_info": {
   "codemirror_mode": {
    "name": "ipython",
    "version": 3
   },
   "file_extension": ".py",
   "mimetype": "text/x-python",
   "name": "python",
   "nbconvert_exporter": "python",
   "pygments_lexer": "ipython3",
   "version": "3.8.6"
  },
  "toc": {
   "base_numbering": 1,
   "nav_menu": {},
   "number_sections": true,
   "sideBar": true,
   "skip_h1_title": false,
   "title_cell": "Table of Contents",
   "title_sidebar": "Contents",
   "toc_cell": false,
   "toc_position": {},
   "toc_section_display": true,
   "toc_window_display": false
  }
 },
 "nbformat": 4,
 "nbformat_minor": 4
}
