{
 "cells": [
  {
   "cell_type": "code",
   "execution_count": 1,
   "metadata": {
    "ExecuteTime": {
     "end_time": "2020-12-02T14:38:41.659727Z",
     "start_time": "2020-12-02T14:38:18.081630Z"
    }
   },
   "outputs": [
    {
     "name": "stderr",
     "output_type": "stream",
     "text": [
      "/Users/alicedebokay/.pyenv/versions/3.8.6/envs/minority_report/lib/python3.8/site-packages/IPython/core/interactiveshell.py:3146: DtypeWarning: Columns (11) have mixed types.Specify dtype option on import or set low_memory=False.\n",
      "  has_raised = await self.run_ast_nodes(code_ast.body, cell_name,\n"
     ]
    }
   ],
   "source": [
    "import pandas as pd\n",
    "\n",
    "df = pd.read_csv('../raw_data/data.csv')[:100_000]"
   ]
  },
  {
   "cell_type": "code",
   "execution_count": 2,
   "metadata": {
    "ExecuteTime": {
     "end_time": "2020-12-02T14:38:41.685314Z",
     "start_time": "2020-12-02T14:38:41.668056Z"
    }
   },
   "outputs": [
    {
     "data": {
      "text/plain": [
       "(100000, 22)"
      ]
     },
     "execution_count": 2,
     "metadata": {},
     "output_type": "execute_result"
    }
   ],
   "source": [
    "df.shape"
   ]
  },
  {
   "cell_type": "code",
   "execution_count": 3,
   "metadata": {
    "ExecuteTime": {
     "end_time": "2020-12-02T14:38:41.696647Z",
     "start_time": "2020-12-02T14:38:41.689899Z"
    }
   },
   "outputs": [],
   "source": [
    "def drop_nan(df):\n",
    "    '''\n",
    "    Returns a dataframe without NaN\n",
    "    '''\n",
    "    df = df.copy()\n",
    "    #drop precinct missing values\n",
    "    not_unknown = df['precinct_number'] != -99.0\n",
    "    not_nan = df['precinct_number'] == df['precinct_number']\n",
    "    df = df[not_unknown & not_nan]\n",
    "    #drop time and date missing values\n",
    "    df = df[df['time'] == df['time']]\n",
    "    df = df[df['date'] == df['date']]\n",
    "    #drop offense_type and crime_completed\n",
    "    df = df[df['offense_type'] == df['offense_type']]\n",
    "    df = df[df['crime_completed'] == df['crime_completed']]\n",
    "    return df"
   ]
  },
  {
   "cell_type": "code",
   "execution_count": 4,
   "metadata": {
    "ExecuteTime": {
     "end_time": "2020-12-02T14:38:42.244562Z",
     "start_time": "2020-12-02T14:38:41.704546Z"
    }
   },
   "outputs": [],
   "source": [
    "df = drop_nan(df)"
   ]
  },
  {
   "cell_type": "code",
   "execution_count": 5,
   "metadata": {
    "ExecuteTime": {
     "end_time": "2020-12-02T14:38:42.279516Z",
     "start_time": "2020-12-02T14:38:42.248812Z"
    }
   },
   "outputs": [],
   "source": [
    "df[\"period\"] = df[\"date\"] + ' ' + df[\"time\"]"
   ]
  },
  {
   "cell_type": "code",
   "execution_count": 6,
   "metadata": {
    "ExecuteTime": {
     "end_time": "2020-12-02T14:38:42.290444Z",
     "start_time": "2020-12-02T14:38:42.282554Z"
    },
    "collapsed": true
   },
   "outputs": [
    {
     "data": {
      "text/plain": [
       "0        02/11/2015 15:00:00\n",
       "1        03/17/2012 10:30:00\n",
       "2        10/27/2016 13:48:00\n",
       "3        11/27/2014 19:00:00\n",
       "4        12/11/2013 13:30:00\n",
       "                ...         \n",
       "99995    09/13/2007 09:50:00\n",
       "99996    12/14/2011 21:30:00\n",
       "99997    11/27/2011 02:00:00\n",
       "99998    12/05/2007 15:25:00\n",
       "99999    03/28/2011 23:30:00\n",
       "Name: period, Length: 99595, dtype: object"
      ]
     },
     "execution_count": 6,
     "metadata": {},
     "output_type": "execute_result"
    }
   ],
   "source": [
    "df['period']"
   ]
  },
  {
   "cell_type": "code",
   "execution_count": null,
   "metadata": {},
   "outputs": [],
   "source": [
    "import pandas\n",
    "import datetime\n",
    "def dateparse (time_in_secs):    \n",
    "    return datetime.datetime.fromtimestamp(float(time_in_secs))\n",
    "x = pandas.read_csv('data.csv',delimiter=';', parse_dates=True,date_parser=dateparse, index_col='DateTime', names=['DateTime', 'X'], header=None)\n",
    "out = x.truncate(before=datetime.datetime(2015,12,2,12,2,18))"
   ]
  },
  {
   "cell_type": "code",
   "execution_count": 26,
   "metadata": {
    "ExecuteTime": {
     "end_time": "2020-12-02T17:23:11.341353Z",
     "start_time": "2020-12-02T17:23:11.331795Z"
    }
   },
   "outputs": [],
   "source": [
    "from datetime import datetime\n",
    "\n",
    "def to_date_format(df):\n",
    "    '''\n",
    "    Returns dataframe with 'date' as datetime dtype\n",
    "    Filters dataframe to show only complaints dated 2007 onwards\n",
    "    '''\n",
    "    df = df.copy()\n",
    "    df['period'] = df['period'].apply(lambda x: \\\n",
    "                                datetime.strptime(x, '%m/%d/%Y %H:%M:%S'))\n",
    "    df['period'] = df['period'].apply(lambda x: rounder(x))\n",
    "    df = df[df['period'] > datetime(2006, 12, 31, 23, 59, 0)]\n",
    "    return df"
   ]
  },
  {
   "cell_type": "code",
   "execution_count": 27,
   "metadata": {
    "ExecuteTime": {
     "end_time": "2020-12-02T17:23:11.956080Z",
     "start_time": "2020-12-02T17:23:11.939581Z"
    }
   },
   "outputs": [],
   "source": [
    "def rounder(t):\n",
    "    '''Rounds all hours to closest hour.'''\n",
    "    if t.minute >= 30:\n",
    "        return t.replace(hour = t.hour + 1, minute = 0, second = 0, microsecond = 0)\n",
    "    else:\n",
    "        return t.replace(minute = 0, second = 0, microsecond = 0)"
   ]
  },
  {
   "cell_type": "code",
   "execution_count": 28,
   "metadata": {
    "ExecuteTime": {
     "end_time": "2020-12-02T17:23:14.286834Z",
     "start_time": "2020-12-02T17:23:13.870983Z"
    }
   },
   "outputs": [
    {
     "ename": "TypeError",
     "evalue": "strptime() argument 1 must be str, not Timestamp",
     "output_type": "error",
     "traceback": [
      "\u001b[0;31m---------------------------------------------------------------------------\u001b[0m",
      "\u001b[0;31mTypeError\u001b[0m                                 Traceback (most recent call last)",
      "\u001b[0;32m<ipython-input-28-d2a56787f721>\u001b[0m in \u001b[0;36m<module>\u001b[0;34m\u001b[0m\n\u001b[0;32m----> 1\u001b[0;31m \u001b[0mdf\u001b[0m \u001b[0;34m=\u001b[0m \u001b[0mto_date_format\u001b[0m\u001b[0;34m(\u001b[0m\u001b[0mdf\u001b[0m\u001b[0;34m)\u001b[0m\u001b[0;34m\u001b[0m\u001b[0;34m\u001b[0m\u001b[0m\n\u001b[0m",
      "\u001b[0;32m<ipython-input-26-02c4581fedeb>\u001b[0m in \u001b[0;36mto_date_format\u001b[0;34m(df)\u001b[0m\n\u001b[1;32m      7\u001b[0m     '''\n\u001b[1;32m      8\u001b[0m     \u001b[0mdf\u001b[0m \u001b[0;34m=\u001b[0m \u001b[0mdf\u001b[0m\u001b[0;34m.\u001b[0m\u001b[0mcopy\u001b[0m\u001b[0;34m(\u001b[0m\u001b[0;34m)\u001b[0m\u001b[0;34m\u001b[0m\u001b[0;34m\u001b[0m\u001b[0m\n\u001b[0;32m----> 9\u001b[0;31m     df['period'] = df['period'].apply(lambda x: \\\n\u001b[0m\u001b[1;32m     10\u001b[0m                                 datetime.strptime(x, '%m/%d/%Y %H:%M:%S'))\n\u001b[1;32m     11\u001b[0m     \u001b[0mdf\u001b[0m\u001b[0;34m[\u001b[0m\u001b[0;34m'period'\u001b[0m\u001b[0;34m]\u001b[0m \u001b[0;34m=\u001b[0m \u001b[0mdf\u001b[0m\u001b[0;34m[\u001b[0m\u001b[0;34m'period'\u001b[0m\u001b[0;34m]\u001b[0m\u001b[0;34m.\u001b[0m\u001b[0mapply\u001b[0m\u001b[0;34m(\u001b[0m\u001b[0;32mlambda\u001b[0m \u001b[0mx\u001b[0m\u001b[0;34m:\u001b[0m \u001b[0mrounder\u001b[0m\u001b[0;34m(\u001b[0m\u001b[0mx\u001b[0m\u001b[0;34m)\u001b[0m\u001b[0;34m)\u001b[0m\u001b[0;34m\u001b[0m\u001b[0;34m\u001b[0m\u001b[0m\n",
      "\u001b[0;32m~/.pyenv/versions/3.8.6/envs/minority_report/lib/python3.8/site-packages/pandas/core/series.py\u001b[0m in \u001b[0;36mapply\u001b[0;34m(self, func, convert_dtype, args, **kwds)\u001b[0m\n\u001b[1;32m   4210\u001b[0m             \u001b[0;32melse\u001b[0m\u001b[0;34m:\u001b[0m\u001b[0;34m\u001b[0m\u001b[0;34m\u001b[0m\u001b[0m\n\u001b[1;32m   4211\u001b[0m                 \u001b[0mvalues\u001b[0m \u001b[0;34m=\u001b[0m \u001b[0mself\u001b[0m\u001b[0;34m.\u001b[0m\u001b[0mastype\u001b[0m\u001b[0;34m(\u001b[0m\u001b[0mobject\u001b[0m\u001b[0;34m)\u001b[0m\u001b[0;34m.\u001b[0m\u001b[0m_values\u001b[0m\u001b[0;34m\u001b[0m\u001b[0;34m\u001b[0m\u001b[0m\n\u001b[0;32m-> 4212\u001b[0;31m                 \u001b[0mmapped\u001b[0m \u001b[0;34m=\u001b[0m \u001b[0mlib\u001b[0m\u001b[0;34m.\u001b[0m\u001b[0mmap_infer\u001b[0m\u001b[0;34m(\u001b[0m\u001b[0mvalues\u001b[0m\u001b[0;34m,\u001b[0m \u001b[0mf\u001b[0m\u001b[0;34m,\u001b[0m \u001b[0mconvert\u001b[0m\u001b[0;34m=\u001b[0m\u001b[0mconvert_dtype\u001b[0m\u001b[0;34m)\u001b[0m\u001b[0;34m\u001b[0m\u001b[0;34m\u001b[0m\u001b[0m\n\u001b[0m\u001b[1;32m   4213\u001b[0m \u001b[0;34m\u001b[0m\u001b[0m\n\u001b[1;32m   4214\u001b[0m         \u001b[0;32mif\u001b[0m \u001b[0mlen\u001b[0m\u001b[0;34m(\u001b[0m\u001b[0mmapped\u001b[0m\u001b[0;34m)\u001b[0m \u001b[0;32mand\u001b[0m \u001b[0misinstance\u001b[0m\u001b[0;34m(\u001b[0m\u001b[0mmapped\u001b[0m\u001b[0;34m[\u001b[0m\u001b[0;36m0\u001b[0m\u001b[0;34m]\u001b[0m\u001b[0;34m,\u001b[0m \u001b[0mSeries\u001b[0m\u001b[0;34m)\u001b[0m\u001b[0;34m:\u001b[0m\u001b[0;34m\u001b[0m\u001b[0;34m\u001b[0m\u001b[0m\n",
      "\u001b[0;32mpandas/_libs/lib.pyx\u001b[0m in \u001b[0;36mpandas._libs.lib.map_infer\u001b[0;34m()\u001b[0m\n",
      "\u001b[0;32m<ipython-input-26-02c4581fedeb>\u001b[0m in \u001b[0;36m<lambda>\u001b[0;34m(x)\u001b[0m\n\u001b[1;32m      8\u001b[0m     \u001b[0mdf\u001b[0m \u001b[0;34m=\u001b[0m \u001b[0mdf\u001b[0m\u001b[0;34m.\u001b[0m\u001b[0mcopy\u001b[0m\u001b[0;34m(\u001b[0m\u001b[0;34m)\u001b[0m\u001b[0;34m\u001b[0m\u001b[0;34m\u001b[0m\u001b[0m\n\u001b[1;32m      9\u001b[0m     df['period'] = df['period'].apply(lambda x: \\\n\u001b[0;32m---> 10\u001b[0;31m                                 datetime.strptime(x, '%m/%d/%Y %H:%M:%S'))\n\u001b[0m\u001b[1;32m     11\u001b[0m     \u001b[0mdf\u001b[0m\u001b[0;34m[\u001b[0m\u001b[0;34m'period'\u001b[0m\u001b[0;34m]\u001b[0m \u001b[0;34m=\u001b[0m \u001b[0mdf\u001b[0m\u001b[0;34m[\u001b[0m\u001b[0;34m'period'\u001b[0m\u001b[0;34m]\u001b[0m\u001b[0;34m.\u001b[0m\u001b[0mapply\u001b[0m\u001b[0;34m(\u001b[0m\u001b[0;32mlambda\u001b[0m \u001b[0mx\u001b[0m\u001b[0;34m:\u001b[0m \u001b[0mrounder\u001b[0m\u001b[0;34m(\u001b[0m\u001b[0mx\u001b[0m\u001b[0;34m)\u001b[0m\u001b[0;34m)\u001b[0m\u001b[0;34m\u001b[0m\u001b[0;34m\u001b[0m\u001b[0m\n\u001b[1;32m     12\u001b[0m     \u001b[0mdf\u001b[0m \u001b[0;34m=\u001b[0m \u001b[0mdf\u001b[0m\u001b[0;34m[\u001b[0m\u001b[0mdf\u001b[0m\u001b[0;34m[\u001b[0m\u001b[0;34m'period'\u001b[0m\u001b[0;34m]\u001b[0m \u001b[0;34m>\u001b[0m \u001b[0mdatetime\u001b[0m\u001b[0;34m(\u001b[0m\u001b[0;36m2006\u001b[0m\u001b[0;34m,\u001b[0m \u001b[0;36m12\u001b[0m\u001b[0;34m,\u001b[0m \u001b[0;36m31\u001b[0m\u001b[0;34m,\u001b[0m \u001b[0;36m23\u001b[0m\u001b[0;34m,\u001b[0m \u001b[0;36m59\u001b[0m\u001b[0;34m,\u001b[0m \u001b[0;36m0\u001b[0m\u001b[0;34m)\u001b[0m\u001b[0;34m]\u001b[0m\u001b[0;34m\u001b[0m\u001b[0;34m\u001b[0m\u001b[0m\n",
      "\u001b[0;31mTypeError\u001b[0m: strptime() argument 1 must be str, not Timestamp"
     ]
    }
   ],
   "source": [
    "df = to_date_format(df)"
   ]
  },
  {
   "cell_type": "code",
   "execution_count": 15,
   "metadata": {
    "ExecuteTime": {
     "end_time": "2020-12-02T14:56:44.790235Z",
     "start_time": "2020-12-02T14:56:44.739338Z"
    }
   },
   "outputs": [
    {
     "data": {
      "text/plain": [
       "Timestamp('2016-10-27 13:48:00')"
      ]
     },
     "execution_count": 15,
     "metadata": {},
     "output_type": "execute_result"
    }
   ],
   "source": [
    "df['period'][2]"
   ]
  },
  {
   "cell_type": "code",
   "execution_count": 10,
   "metadata": {
    "ExecuteTime": {
     "end_time": "2020-12-02T14:38:43.567511Z",
     "start_time": "2020-12-02T14:38:43.560007Z"
    }
   },
   "outputs": [
    {
     "data": {
      "text/plain": [
       "pandas._libs.tslibs.timestamps.Timestamp"
      ]
     },
     "execution_count": 10,
     "metadata": {},
     "output_type": "execute_result"
    }
   ],
   "source": [
    "type(df['period'][0])"
   ]
  },
  {
   "cell_type": "code",
   "execution_count": 13,
   "metadata": {
    "ExecuteTime": {
     "end_time": "2020-12-02T14:46:40.325517Z",
     "start_time": "2020-12-02T14:46:39.942791Z"
    }
   },
   "outputs": [],
   "source": [
    "df['year'] = df['period'].apply(lambda x: x.year)"
   ]
  },
  {
   "cell_type": "code",
   "execution_count": 14,
   "metadata": {
    "ExecuteTime": {
     "end_time": "2020-12-02T14:46:46.178619Z",
     "start_time": "2020-12-02T14:46:46.145600Z"
    }
   },
   "outputs": [
    {
     "data": {
      "text/html": [
       "<div>\n",
       "<style scoped>\n",
       "    .dataframe tbody tr th:only-of-type {\n",
       "        vertical-align: middle;\n",
       "    }\n",
       "\n",
       "    .dataframe tbody tr th {\n",
       "        vertical-align: top;\n",
       "    }\n",
       "\n",
       "    .dataframe thead th {\n",
       "        text-align: right;\n",
       "    }\n",
       "</style>\n",
       "<table border=\"1\" class=\"dataframe\">\n",
       "  <thead>\n",
       "    <tr style=\"text-align: right;\">\n",
       "      <th></th>\n",
       "      <th>complaint_id</th>\n",
       "      <th>date</th>\n",
       "      <th>time</th>\n",
       "      <th>precinct_number</th>\n",
       "      <th>offense_type</th>\n",
       "      <th>crime_completed</th>\n",
       "      <th>offense_level</th>\n",
       "      <th>borough</th>\n",
       "      <th>premise_desc</th>\n",
       "      <th>premise</th>\n",
       "      <th>...</th>\n",
       "      <th>suspect_sex</th>\n",
       "      <th>latitude</th>\n",
       "      <th>longitude</th>\n",
       "      <th>patrol_borough</th>\n",
       "      <th>metro</th>\n",
       "      <th>victim_age</th>\n",
       "      <th>victim_race</th>\n",
       "      <th>victim_sex</th>\n",
       "      <th>period</th>\n",
       "      <th>year</th>\n",
       "    </tr>\n",
       "  </thead>\n",
       "  <tbody>\n",
       "    <tr>\n",
       "      <th>0</th>\n",
       "      <td>325341655</td>\n",
       "      <td>02/11/2015</td>\n",
       "      <td>15:00:00</td>\n",
       "      <td>73.0</td>\n",
       "      <td>OFFENSES AGAINST PUBLIC ADMINI</td>\n",
       "      <td>COMPLETED</td>\n",
       "      <td>MISDEMEANOR</td>\n",
       "      <td>BROOKLYN</td>\n",
       "      <td>INSIDE</td>\n",
       "      <td>RESIDENCE - PUBLIC HOUSING</td>\n",
       "      <td>...</td>\n",
       "      <td>M</td>\n",
       "      <td>40.664239</td>\n",
       "      <td>-73.908425</td>\n",
       "      <td>PATROL BORO BKLYN NORTH</td>\n",
       "      <td>NaN</td>\n",
       "      <td>&lt;18</td>\n",
       "      <td>BLACK</td>\n",
       "      <td>M</td>\n",
       "      <td>2015-02-11 15:00:00</td>\n",
       "      <td>2015</td>\n",
       "    </tr>\n",
       "    <tr>\n",
       "      <th>1</th>\n",
       "      <td>393816841</td>\n",
       "      <td>03/17/2012</td>\n",
       "      <td>10:30:00</td>\n",
       "      <td>69.0</td>\n",
       "      <td>ASSAULT 3 &amp; RELATED OFFENSES</td>\n",
       "      <td>COMPLETED</td>\n",
       "      <td>MISDEMEANOR</td>\n",
       "      <td>BROOKLYN</td>\n",
       "      <td>INSIDE</td>\n",
       "      <td>RESIDENCE-HOUSE</td>\n",
       "      <td>...</td>\n",
       "      <td>NaN</td>\n",
       "      <td>40.644590</td>\n",
       "      <td>-73.892672</td>\n",
       "      <td>PATROL BORO BKLYN SOUTH</td>\n",
       "      <td>NaN</td>\n",
       "      <td>45-64</td>\n",
       "      <td>BLACK</td>\n",
       "      <td>F</td>\n",
       "      <td>2012-03-17 10:30:00</td>\n",
       "      <td>2012</td>\n",
       "    </tr>\n",
       "    <tr>\n",
       "      <th>2</th>\n",
       "      <td>802896158</td>\n",
       "      <td>10/27/2016</td>\n",
       "      <td>13:48:00</td>\n",
       "      <td>71.0</td>\n",
       "      <td>HARRASSMENT 2</td>\n",
       "      <td>COMPLETED</td>\n",
       "      <td>VIOLATION</td>\n",
       "      <td>BROOKLYN</td>\n",
       "      <td>INSIDE</td>\n",
       "      <td>PUBLIC SCHOOL</td>\n",
       "      <td>...</td>\n",
       "      <td>M</td>\n",
       "      <td>40.658758</td>\n",
       "      <td>-73.942435</td>\n",
       "      <td>PATROL BORO BKLYN SOUTH</td>\n",
       "      <td>NaN</td>\n",
       "      <td>18-24</td>\n",
       "      <td>BLACK</td>\n",
       "      <td>M</td>\n",
       "      <td>2016-10-27 13:48:00</td>\n",
       "      <td>2016</td>\n",
       "    </tr>\n",
       "  </tbody>\n",
       "</table>\n",
       "<p>3 rows × 24 columns</p>\n",
       "</div>"
      ],
      "text/plain": [
       "   complaint_id        date      time  precinct_number  \\\n",
       "0     325341655  02/11/2015  15:00:00             73.0   \n",
       "1     393816841  03/17/2012  10:30:00             69.0   \n",
       "2     802896158  10/27/2016  13:48:00             71.0   \n",
       "\n",
       "                     offense_type crime_completed offense_level   borough  \\\n",
       "0  OFFENSES AGAINST PUBLIC ADMINI       COMPLETED   MISDEMEANOR  BROOKLYN   \n",
       "1    ASSAULT 3 & RELATED OFFENSES       COMPLETED   MISDEMEANOR  BROOKLYN   \n",
       "2                   HARRASSMENT 2       COMPLETED     VIOLATION  BROOKLYN   \n",
       "\n",
       "  premise_desc                     premise  ... suspect_sex   latitude  \\\n",
       "0       INSIDE  RESIDENCE - PUBLIC HOUSING  ...           M  40.664239   \n",
       "1       INSIDE             RESIDENCE-HOUSE  ...         NaN  40.644590   \n",
       "2       INSIDE               PUBLIC SCHOOL  ...           M  40.658758   \n",
       "\n",
       "   longitude           patrol_borough metro  victim_age  victim_race  \\\n",
       "0 -73.908425  PATROL BORO BKLYN NORTH   NaN         <18        BLACK   \n",
       "1 -73.892672  PATROL BORO BKLYN SOUTH   NaN       45-64        BLACK   \n",
       "2 -73.942435  PATROL BORO BKLYN SOUTH   NaN       18-24        BLACK   \n",
       "\n",
       "  victim_sex              period  year  \n",
       "0          M 2015-02-11 15:00:00  2015  \n",
       "1          F 2012-03-17 10:30:00  2012  \n",
       "2          M 2016-10-27 13:48:00  2016  \n",
       "\n",
       "[3 rows x 24 columns]"
      ]
     },
     "execution_count": 14,
     "metadata": {},
     "output_type": "execute_result"
    }
   ],
   "source": [
    "df.head(3)"
   ]
  },
  {
   "cell_type": "code",
   "execution_count": 25,
   "metadata": {
    "ExecuteTime": {
     "end_time": "2020-12-02T15:30:33.862780Z",
     "start_time": "2020-12-02T15:30:33.714910Z"
    }
   },
   "outputs": [
    {
     "data": {
      "text/html": [
       "<div>\n",
       "<style scoped>\n",
       "    .dataframe tbody tr th:only-of-type {\n",
       "        vertical-align: middle;\n",
       "    }\n",
       "\n",
       "    .dataframe tbody tr th {\n",
       "        vertical-align: top;\n",
       "    }\n",
       "\n",
       "    .dataframe thead th {\n",
       "        text-align: right;\n",
       "    }\n",
       "</style>\n",
       "<table border=\"1\" class=\"dataframe\">\n",
       "  <thead>\n",
       "    <tr style=\"text-align: right;\">\n",
       "      <th></th>\n",
       "      <th>complaint_id</th>\n",
       "      <th>precinct_number</th>\n",
       "      <th>offense_type</th>\n",
       "      <th>crime_completed</th>\n",
       "      <th>offense_level</th>\n",
       "      <th>borough</th>\n",
       "      <th>premise_desc</th>\n",
       "      <th>premise</th>\n",
       "      <th>jurisdiction</th>\n",
       "      <th>park_name</th>\n",
       "      <th>...</th>\n",
       "      <th>suspect_sex</th>\n",
       "      <th>latitude</th>\n",
       "      <th>longitude</th>\n",
       "      <th>patrol_borough</th>\n",
       "      <th>metro</th>\n",
       "      <th>victim_age</th>\n",
       "      <th>victim_race</th>\n",
       "      <th>victim_sex</th>\n",
       "      <th>period</th>\n",
       "      <th>year</th>\n",
       "    </tr>\n",
       "  </thead>\n",
       "  <tbody>\n",
       "    <tr>\n",
       "      <th>0</th>\n",
       "      <td>325341655</td>\n",
       "      <td>73.0</td>\n",
       "      <td>OFFENSES AGAINST PUBLIC ADMINI</td>\n",
       "      <td>COMPLETED</td>\n",
       "      <td>MISDEMEANOR</td>\n",
       "      <td>BROOKLYN</td>\n",
       "      <td>INSIDE</td>\n",
       "      <td>RESIDENCE - PUBLIC HOUSING</td>\n",
       "      <td>N.Y. HOUSING POLICE</td>\n",
       "      <td>NaN</td>\n",
       "      <td>...</td>\n",
       "      <td>M</td>\n",
       "      <td>40.664239</td>\n",
       "      <td>-73.908425</td>\n",
       "      <td>PATROL BORO BKLYN NORTH</td>\n",
       "      <td>NaN</td>\n",
       "      <td>&lt;18</td>\n",
       "      <td>BLACK</td>\n",
       "      <td>M</td>\n",
       "      <td>2015-02-11 15:00:00</td>\n",
       "      <td>2015</td>\n",
       "    </tr>\n",
       "    <tr>\n",
       "      <th>1</th>\n",
       "      <td>393816841</td>\n",
       "      <td>69.0</td>\n",
       "      <td>ASSAULT 3 &amp; RELATED OFFENSES</td>\n",
       "      <td>COMPLETED</td>\n",
       "      <td>MISDEMEANOR</td>\n",
       "      <td>BROOKLYN</td>\n",
       "      <td>INSIDE</td>\n",
       "      <td>RESIDENCE-HOUSE</td>\n",
       "      <td>N.Y. POLICE DEPT</td>\n",
       "      <td>NaN</td>\n",
       "      <td>...</td>\n",
       "      <td>NaN</td>\n",
       "      <td>40.644590</td>\n",
       "      <td>-73.892672</td>\n",
       "      <td>PATROL BORO BKLYN SOUTH</td>\n",
       "      <td>NaN</td>\n",
       "      <td>45-64</td>\n",
       "      <td>BLACK</td>\n",
       "      <td>F</td>\n",
       "      <td>2012-03-17 10:30:00</td>\n",
       "      <td>2012</td>\n",
       "    </tr>\n",
       "    <tr>\n",
       "      <th>2</th>\n",
       "      <td>802896158</td>\n",
       "      <td>71.0</td>\n",
       "      <td>HARRASSMENT 2</td>\n",
       "      <td>COMPLETED</td>\n",
       "      <td>VIOLATION</td>\n",
       "      <td>BROOKLYN</td>\n",
       "      <td>INSIDE</td>\n",
       "      <td>PUBLIC SCHOOL</td>\n",
       "      <td>N.Y. POLICE DEPT</td>\n",
       "      <td>NaN</td>\n",
       "      <td>...</td>\n",
       "      <td>M</td>\n",
       "      <td>40.658758</td>\n",
       "      <td>-73.942435</td>\n",
       "      <td>PATROL BORO BKLYN SOUTH</td>\n",
       "      <td>NaN</td>\n",
       "      <td>18-24</td>\n",
       "      <td>BLACK</td>\n",
       "      <td>M</td>\n",
       "      <td>2016-10-27 13:48:00</td>\n",
       "      <td>2016</td>\n",
       "    </tr>\n",
       "    <tr>\n",
       "      <th>3</th>\n",
       "      <td>633812343</td>\n",
       "      <td>112.0</td>\n",
       "      <td>RAPE</td>\n",
       "      <td>COMPLETED</td>\n",
       "      <td>FELONY</td>\n",
       "      <td>QUEENS</td>\n",
       "      <td>INSIDE</td>\n",
       "      <td>RESIDENCE - APT. HOUSE</td>\n",
       "      <td>N.Y. POLICE DEPT</td>\n",
       "      <td>NaN</td>\n",
       "      <td>...</td>\n",
       "      <td>M</td>\n",
       "      <td>40.722364</td>\n",
       "      <td>-73.851474</td>\n",
       "      <td>PATROL BORO QUEENS NORTH</td>\n",
       "      <td>NaN</td>\n",
       "      <td>25-44</td>\n",
       "      <td>WHITE</td>\n",
       "      <td>F</td>\n",
       "      <td>2014-11-27 19:00:00</td>\n",
       "      <td>2014</td>\n",
       "    </tr>\n",
       "    <tr>\n",
       "      <th>4</th>\n",
       "      <td>300349533</td>\n",
       "      <td>24.0</td>\n",
       "      <td>GRAND LARCENY</td>\n",
       "      <td>COMPLETED</td>\n",
       "      <td>FELONY</td>\n",
       "      <td>MANHATTAN</td>\n",
       "      <td>INSIDE</td>\n",
       "      <td>DOCTOR/DENTIST OFFICE</td>\n",
       "      <td>N.Y. POLICE DEPT</td>\n",
       "      <td>NaN</td>\n",
       "      <td>...</td>\n",
       "      <td>NaN</td>\n",
       "      <td>40.793465</td>\n",
       "      <td>-73.968950</td>\n",
       "      <td>PATROL BORO MAN NORTH</td>\n",
       "      <td>NaN</td>\n",
       "      <td>45-64</td>\n",
       "      <td>WHITE</td>\n",
       "      <td>F</td>\n",
       "      <td>2013-12-11 13:30:00</td>\n",
       "      <td>2013</td>\n",
       "    </tr>\n",
       "    <tr>\n",
       "      <th>...</th>\n",
       "      <td>...</td>\n",
       "      <td>...</td>\n",
       "      <td>...</td>\n",
       "      <td>...</td>\n",
       "      <td>...</td>\n",
       "      <td>...</td>\n",
       "      <td>...</td>\n",
       "      <td>...</td>\n",
       "      <td>...</td>\n",
       "      <td>...</td>\n",
       "      <td>...</td>\n",
       "      <td>...</td>\n",
       "      <td>...</td>\n",
       "      <td>...</td>\n",
       "      <td>...</td>\n",
       "      <td>...</td>\n",
       "      <td>...</td>\n",
       "      <td>...</td>\n",
       "      <td>...</td>\n",
       "      <td>...</td>\n",
       "      <td>...</td>\n",
       "    </tr>\n",
       "    <tr>\n",
       "      <th>99995</th>\n",
       "      <td>499648605</td>\n",
       "      <td>61.0</td>\n",
       "      <td>CRIMINAL MISCHIEF &amp; RELATED OF</td>\n",
       "      <td>COMPLETED</td>\n",
       "      <td>MISDEMEANOR</td>\n",
       "      <td>BROOKLYN</td>\n",
       "      <td>FRONT OF</td>\n",
       "      <td>RESIDENCE-HOUSE</td>\n",
       "      <td>N.Y. POLICE DEPT</td>\n",
       "      <td>NaN</td>\n",
       "      <td>...</td>\n",
       "      <td>NaN</td>\n",
       "      <td>40.587058</td>\n",
       "      <td>-73.936448</td>\n",
       "      <td>PATROL BORO BKLYN SOUTH</td>\n",
       "      <td>NaN</td>\n",
       "      <td>NaN</td>\n",
       "      <td>UNKNOWN</td>\n",
       "      <td>E</td>\n",
       "      <td>2007-09-13 09:50:00</td>\n",
       "      <td>2007</td>\n",
       "    </tr>\n",
       "    <tr>\n",
       "      <th>99996</th>\n",
       "      <td>261360313</td>\n",
       "      <td>52.0</td>\n",
       "      <td>ASSAULT 3 &amp; RELATED OFFENSES</td>\n",
       "      <td>COMPLETED</td>\n",
       "      <td>MISDEMEANOR</td>\n",
       "      <td>BRONX</td>\n",
       "      <td>FRONT OF</td>\n",
       "      <td>STREET</td>\n",
       "      <td>N.Y. POLICE DEPT</td>\n",
       "      <td>NaN</td>\n",
       "      <td>...</td>\n",
       "      <td>NaN</td>\n",
       "      <td>40.861843</td>\n",
       "      <td>-73.902951</td>\n",
       "      <td>PATROL BORO BRONX</td>\n",
       "      <td>NaN</td>\n",
       "      <td>NaN</td>\n",
       "      <td>UNKNOWN</td>\n",
       "      <td>M</td>\n",
       "      <td>2011-12-14 21:30:00</td>\n",
       "      <td>2011</td>\n",
       "    </tr>\n",
       "    <tr>\n",
       "      <th>99997</th>\n",
       "      <td>205495976</td>\n",
       "      <td>114.0</td>\n",
       "      <td>CRIMINAL MISCHIEF &amp; RELATED OF</td>\n",
       "      <td>COMPLETED</td>\n",
       "      <td>FELONY</td>\n",
       "      <td>QUEENS</td>\n",
       "      <td>NaN</td>\n",
       "      <td>STREET</td>\n",
       "      <td>N.Y. POLICE DEPT</td>\n",
       "      <td>NaN</td>\n",
       "      <td>...</td>\n",
       "      <td>NaN</td>\n",
       "      <td>40.780131</td>\n",
       "      <td>-73.911526</td>\n",
       "      <td>PATROL BORO QUEENS NORTH</td>\n",
       "      <td>NaN</td>\n",
       "      <td>&lt;18</td>\n",
       "      <td>WHITE HISPANIC</td>\n",
       "      <td>F</td>\n",
       "      <td>2011-11-27 02:00:00</td>\n",
       "      <td>2011</td>\n",
       "    </tr>\n",
       "    <tr>\n",
       "      <th>99998</th>\n",
       "      <td>712555932</td>\n",
       "      <td>52.0</td>\n",
       "      <td>PETIT LARCENY</td>\n",
       "      <td>COMPLETED</td>\n",
       "      <td>MISDEMEANOR</td>\n",
       "      <td>BRONX</td>\n",
       "      <td>FRONT OF</td>\n",
       "      <td>STREET</td>\n",
       "      <td>N.Y. POLICE DEPT</td>\n",
       "      <td>NaN</td>\n",
       "      <td>...</td>\n",
       "      <td>M</td>\n",
       "      <td>40.877927</td>\n",
       "      <td>-73.882373</td>\n",
       "      <td>PATROL BORO BRONX</td>\n",
       "      <td>NaN</td>\n",
       "      <td>NaN</td>\n",
       "      <td>WHITE</td>\n",
       "      <td>F</td>\n",
       "      <td>2007-12-05 15:25:00</td>\n",
       "      <td>2007</td>\n",
       "    </tr>\n",
       "    <tr>\n",
       "      <th>99999</th>\n",
       "      <td>559111918</td>\n",
       "      <td>66.0</td>\n",
       "      <td>CRIMINAL MISCHIEF &amp; RELATED OF</td>\n",
       "      <td>COMPLETED</td>\n",
       "      <td>FELONY</td>\n",
       "      <td>BROOKLYN</td>\n",
       "      <td>INSIDE</td>\n",
       "      <td>RESIDENCE-HOUSE</td>\n",
       "      <td>N.Y. POLICE DEPT</td>\n",
       "      <td>NaN</td>\n",
       "      <td>...</td>\n",
       "      <td>NaN</td>\n",
       "      <td>40.625756</td>\n",
       "      <td>-73.967327</td>\n",
       "      <td>PATROL BORO BKLYN SOUTH</td>\n",
       "      <td>NaN</td>\n",
       "      <td>65+</td>\n",
       "      <td>WHITE</td>\n",
       "      <td>M</td>\n",
       "      <td>2011-03-28 23:30:00</td>\n",
       "      <td>2011</td>\n",
       "    </tr>\n",
       "  </tbody>\n",
       "</table>\n",
       "<p>86622 rows × 22 columns</p>\n",
       "</div>"
      ],
      "text/plain": [
       "       complaint_id  precinct_number                    offense_type  \\\n",
       "0         325341655             73.0  OFFENSES AGAINST PUBLIC ADMINI   \n",
       "1         393816841             69.0    ASSAULT 3 & RELATED OFFENSES   \n",
       "2         802896158             71.0                   HARRASSMENT 2   \n",
       "3         633812343            112.0                            RAPE   \n",
       "4         300349533             24.0                   GRAND LARCENY   \n",
       "...             ...              ...                             ...   \n",
       "99995     499648605             61.0  CRIMINAL MISCHIEF & RELATED OF   \n",
       "99996     261360313             52.0    ASSAULT 3 & RELATED OFFENSES   \n",
       "99997     205495976            114.0  CRIMINAL MISCHIEF & RELATED OF   \n",
       "99998     712555932             52.0                   PETIT LARCENY   \n",
       "99999     559111918             66.0  CRIMINAL MISCHIEF & RELATED OF   \n",
       "\n",
       "      crime_completed offense_level    borough premise_desc  \\\n",
       "0           COMPLETED   MISDEMEANOR   BROOKLYN       INSIDE   \n",
       "1           COMPLETED   MISDEMEANOR   BROOKLYN       INSIDE   \n",
       "2           COMPLETED     VIOLATION   BROOKLYN       INSIDE   \n",
       "3           COMPLETED        FELONY     QUEENS       INSIDE   \n",
       "4           COMPLETED        FELONY  MANHATTAN       INSIDE   \n",
       "...               ...           ...        ...          ...   \n",
       "99995       COMPLETED   MISDEMEANOR   BROOKLYN     FRONT OF   \n",
       "99996       COMPLETED   MISDEMEANOR      BRONX     FRONT OF   \n",
       "99997       COMPLETED        FELONY     QUEENS          NaN   \n",
       "99998       COMPLETED   MISDEMEANOR      BRONX     FRONT OF   \n",
       "99999       COMPLETED        FELONY   BROOKLYN       INSIDE   \n",
       "\n",
       "                          premise         jurisdiction park_name  ...  \\\n",
       "0      RESIDENCE - PUBLIC HOUSING  N.Y. HOUSING POLICE       NaN  ...   \n",
       "1                 RESIDENCE-HOUSE     N.Y. POLICE DEPT       NaN  ...   \n",
       "2                   PUBLIC SCHOOL     N.Y. POLICE DEPT       NaN  ...   \n",
       "3          RESIDENCE - APT. HOUSE     N.Y. POLICE DEPT       NaN  ...   \n",
       "4           DOCTOR/DENTIST OFFICE     N.Y. POLICE DEPT       NaN  ...   \n",
       "...                           ...                  ...       ...  ...   \n",
       "99995             RESIDENCE-HOUSE     N.Y. POLICE DEPT       NaN  ...   \n",
       "99996                      STREET     N.Y. POLICE DEPT       NaN  ...   \n",
       "99997                      STREET     N.Y. POLICE DEPT       NaN  ...   \n",
       "99998                      STREET     N.Y. POLICE DEPT       NaN  ...   \n",
       "99999             RESIDENCE-HOUSE     N.Y. POLICE DEPT       NaN  ...   \n",
       "\n",
       "      suspect_sex   latitude  longitude            patrol_borough  metro  \\\n",
       "0               M  40.664239 -73.908425   PATROL BORO BKLYN NORTH    NaN   \n",
       "1             NaN  40.644590 -73.892672   PATROL BORO BKLYN SOUTH    NaN   \n",
       "2               M  40.658758 -73.942435   PATROL BORO BKLYN SOUTH    NaN   \n",
       "3               M  40.722364 -73.851474  PATROL BORO QUEENS NORTH    NaN   \n",
       "4             NaN  40.793465 -73.968950     PATROL BORO MAN NORTH    NaN   \n",
       "...           ...        ...        ...                       ...    ...   \n",
       "99995         NaN  40.587058 -73.936448   PATROL BORO BKLYN SOUTH    NaN   \n",
       "99996         NaN  40.861843 -73.902951         PATROL BORO BRONX    NaN   \n",
       "99997         NaN  40.780131 -73.911526  PATROL BORO QUEENS NORTH    NaN   \n",
       "99998           M  40.877927 -73.882373         PATROL BORO BRONX    NaN   \n",
       "99999         NaN  40.625756 -73.967327   PATROL BORO BKLYN SOUTH    NaN   \n",
       "\n",
       "      victim_age     victim_race victim_sex              period  year  \n",
       "0            <18           BLACK          M 2015-02-11 15:00:00  2015  \n",
       "1          45-64           BLACK          F 2012-03-17 10:30:00  2012  \n",
       "2          18-24           BLACK          M 2016-10-27 13:48:00  2016  \n",
       "3          25-44           WHITE          F 2014-11-27 19:00:00  2014  \n",
       "4          45-64           WHITE          F 2013-12-11 13:30:00  2013  \n",
       "...          ...             ...        ...                 ...   ...  \n",
       "99995        NaN         UNKNOWN          E 2007-09-13 09:50:00  2007  \n",
       "99996        NaN         UNKNOWN          M 2011-12-14 21:30:00  2011  \n",
       "99997        <18  WHITE HISPANIC          F 2011-11-27 02:00:00  2011  \n",
       "99998        NaN           WHITE          F 2007-12-05 15:25:00  2007  \n",
       "99999        65+           WHITE          M 2011-03-28 23:30:00  2011  \n",
       "\n",
       "[86622 rows x 22 columns]"
      ]
     },
     "execution_count": 25,
     "metadata": {},
     "output_type": "execute_result"
    }
   ],
   "source": [
    "df.drop(columns = ['date', 'time'])"
   ]
  },
  {
   "cell_type": "code",
   "execution_count": 20,
   "metadata": {
    "ExecuteTime": {
     "end_time": "2020-12-02T15:21:46.794669Z",
     "start_time": "2020-12-02T15:21:46.784438Z"
    }
   },
   "outputs": [],
   "source": [
    "import pickle"
   ]
  },
  {
   "cell_type": "code",
   "execution_count": 21,
   "metadata": {
    "ExecuteTime": {
     "end_time": "2020-12-02T15:23:24.095583Z",
     "start_time": "2020-12-02T15:23:24.084959Z"
    }
   },
   "outputs": [],
   "source": [
    "with open('test.pickle', 'wb') as f:\n",
    "    pickle.dump(df.head(3), f)"
   ]
  },
  {
   "cell_type": "code",
   "execution_count": 22,
   "metadata": {
    "ExecuteTime": {
     "end_time": "2020-12-02T15:24:47.675912Z",
     "start_time": "2020-12-02T15:24:47.667965Z"
    }
   },
   "outputs": [],
   "source": [
    "with open('test.pickle', 'rb') as f:\n",
    "    data_test = pickle.load(f)"
   ]
  },
  {
   "cell_type": "code",
   "execution_count": 24,
   "metadata": {
    "ExecuteTime": {
     "end_time": "2020-12-02T15:25:12.249528Z",
     "start_time": "2020-12-02T15:25:12.241650Z"
    }
   },
   "outputs": [
    {
     "data": {
      "text/plain": [
       "Timestamp('2015-02-11 15:00:00')"
      ]
     },
     "execution_count": 24,
     "metadata": {},
     "output_type": "execute_result"
    }
   ],
   "source": [
    "data_test['period'][0]"
   ]
  },
  {
   "cell_type": "code",
   "execution_count": 16,
   "metadata": {
    "ExecuteTime": {
     "end_time": "2020-12-02T14:58:24.309678Z",
     "start_time": "2020-12-02T14:58:23.937569Z"
    }
   },
   "outputs": [],
   "source": [
    "data = pd.read_csv('../raw_data/clean.csv')"
   ]
  },
  {
   "cell_type": "code",
   "execution_count": 17,
   "metadata": {
    "ExecuteTime": {
     "end_time": "2020-12-02T14:58:29.952449Z",
     "start_time": "2020-12-02T14:58:29.921454Z"
    }
   },
   "outputs": [
    {
     "data": {
      "text/html": [
       "<div>\n",
       "<style scoped>\n",
       "    .dataframe tbody tr th:only-of-type {\n",
       "        vertical-align: middle;\n",
       "    }\n",
       "\n",
       "    .dataframe tbody tr th {\n",
       "        vertical-align: top;\n",
       "    }\n",
       "\n",
       "    .dataframe thead th {\n",
       "        text-align: right;\n",
       "    }\n",
       "</style>\n",
       "<table border=\"1\" class=\"dataframe\">\n",
       "  <thead>\n",
       "    <tr style=\"text-align: right;\">\n",
       "      <th></th>\n",
       "      <th>complaint_id</th>\n",
       "      <th>date</th>\n",
       "      <th>time</th>\n",
       "      <th>precinct_number</th>\n",
       "      <th>offense_type</th>\n",
       "      <th>crime_completed</th>\n",
       "      <th>offense_level</th>\n",
       "      <th>premise_desc</th>\n",
       "      <th>premise</th>\n",
       "      <th>jurisdiction</th>\n",
       "      <th>...</th>\n",
       "      <th>suspect_sex</th>\n",
       "      <th>latitude</th>\n",
       "      <th>longitude</th>\n",
       "      <th>metro</th>\n",
       "      <th>victim_age</th>\n",
       "      <th>victim_race</th>\n",
       "      <th>victim_sex</th>\n",
       "      <th>period</th>\n",
       "      <th>borough</th>\n",
       "      <th>patrol_borough</th>\n",
       "    </tr>\n",
       "  </thead>\n",
       "  <tbody>\n",
       "    <tr>\n",
       "      <th>0</th>\n",
       "      <td>325341655</td>\n",
       "      <td>02/11/2015</td>\n",
       "      <td>15:00:00</td>\n",
       "      <td>73</td>\n",
       "      <td>OFFENSES AGAINST PUBLIC ADMINI</td>\n",
       "      <td>True</td>\n",
       "      <td>MISDEMEANOR</td>\n",
       "      <td>INSIDE</td>\n",
       "      <td>RESIDENCE - PUBLIC HOUSING</td>\n",
       "      <td>N.Y. HOUSING POLICE</td>\n",
       "      <td>...</td>\n",
       "      <td>M</td>\n",
       "      <td>40.664239</td>\n",
       "      <td>-73.908425</td>\n",
       "      <td>NOT SUBWAY</td>\n",
       "      <td>&lt;18</td>\n",
       "      <td>BLACK</td>\n",
       "      <td>M</td>\n",
       "      <td>2015-02-11 15:00:00</td>\n",
       "      <td>BROOKLYN</td>\n",
       "      <td>PATROL BORO BKLYN NORTH</td>\n",
       "    </tr>\n",
       "    <tr>\n",
       "      <th>1</th>\n",
       "      <td>393816841</td>\n",
       "      <td>03/17/2012</td>\n",
       "      <td>10:30:00</td>\n",
       "      <td>69</td>\n",
       "      <td>ASSAULT 3 &amp; RELATED OFFENSES</td>\n",
       "      <td>True</td>\n",
       "      <td>MISDEMEANOR</td>\n",
       "      <td>INSIDE</td>\n",
       "      <td>RESIDENCE-HOUSE</td>\n",
       "      <td>N.Y. POLICE DEPT</td>\n",
       "      <td>...</td>\n",
       "      <td>UNKNOWN</td>\n",
       "      <td>40.644590</td>\n",
       "      <td>-73.892672</td>\n",
       "      <td>NOT SUBWAY</td>\n",
       "      <td>45-64</td>\n",
       "      <td>BLACK</td>\n",
       "      <td>F</td>\n",
       "      <td>2012-03-17 10:30:00</td>\n",
       "      <td>BROOKLYN</td>\n",
       "      <td>PATROL BORO BKLYN SOUTH</td>\n",
       "    </tr>\n",
       "    <tr>\n",
       "      <th>2</th>\n",
       "      <td>802896158</td>\n",
       "      <td>10/27/2016</td>\n",
       "      <td>13:48:00</td>\n",
       "      <td>71</td>\n",
       "      <td>HARRASSMENT 2</td>\n",
       "      <td>True</td>\n",
       "      <td>VIOLATION</td>\n",
       "      <td>INSIDE</td>\n",
       "      <td>PUBLIC SCHOOL</td>\n",
       "      <td>N.Y. POLICE DEPT</td>\n",
       "      <td>...</td>\n",
       "      <td>M</td>\n",
       "      <td>40.658758</td>\n",
       "      <td>-73.942435</td>\n",
       "      <td>NOT SUBWAY</td>\n",
       "      <td>18-24</td>\n",
       "      <td>BLACK</td>\n",
       "      <td>M</td>\n",
       "      <td>2016-10-27 13:48:00</td>\n",
       "      <td>BROOKLYN</td>\n",
       "      <td>PATROL BORO BKLYN SOUTH</td>\n",
       "    </tr>\n",
       "  </tbody>\n",
       "</table>\n",
       "<p>3 rows × 23 columns</p>\n",
       "</div>"
      ],
      "text/plain": [
       "   complaint_id        date      time  precinct_number  \\\n",
       "0     325341655  02/11/2015  15:00:00               73   \n",
       "1     393816841  03/17/2012  10:30:00               69   \n",
       "2     802896158  10/27/2016  13:48:00               71   \n",
       "\n",
       "                     offense_type crime_completed offense_level premise_desc  \\\n",
       "0  OFFENSES AGAINST PUBLIC ADMINI            True   MISDEMEANOR       INSIDE   \n",
       "1    ASSAULT 3 & RELATED OFFENSES            True   MISDEMEANOR       INSIDE   \n",
       "2                   HARRASSMENT 2            True     VIOLATION       INSIDE   \n",
       "\n",
       "                      premise         jurisdiction  ... suspect_sex  \\\n",
       "0  RESIDENCE - PUBLIC HOUSING  N.Y. HOUSING POLICE  ...           M   \n",
       "1             RESIDENCE-HOUSE     N.Y. POLICE DEPT  ...     UNKNOWN   \n",
       "2               PUBLIC SCHOOL     N.Y. POLICE DEPT  ...           M   \n",
       "\n",
       "    latitude  longitude        metro  victim_age  victim_race victim_sex  \\\n",
       "0  40.664239 -73.908425  NOT SUBWAY          <18        BLACK          M   \n",
       "1  40.644590 -73.892672  NOT SUBWAY        45-64        BLACK          F   \n",
       "2  40.658758 -73.942435  NOT SUBWAY        18-24        BLACK          M   \n",
       "\n",
       "                period   borough           patrol_borough  \n",
       "0  2015-02-11 15:00:00  BROOKLYN  PATROL BORO BKLYN NORTH  \n",
       "1  2012-03-17 10:30:00  BROOKLYN  PATROL BORO BKLYN SOUTH  \n",
       "2  2016-10-27 13:48:00  BROOKLYN  PATROL BORO BKLYN SOUTH  \n",
       "\n",
       "[3 rows x 23 columns]"
      ]
     },
     "execution_count": 17,
     "metadata": {},
     "output_type": "execute_result"
    }
   ],
   "source": [
    "data.head(3)"
   ]
  },
  {
   "cell_type": "code",
   "execution_count": 18,
   "metadata": {
    "ExecuteTime": {
     "end_time": "2020-12-02T14:59:06.324139Z",
     "start_time": "2020-12-02T14:59:06.318017Z"
    }
   },
   "outputs": [
    {
     "data": {
      "text/plain": [
       "str"
      ]
     },
     "execution_count": 18,
     "metadata": {},
     "output_type": "execute_result"
    }
   ],
   "source": [
    "type(data['period'][2])"
   ]
  },
  {
   "cell_type": "code",
   "execution_count": 19,
   "metadata": {
    "ExecuteTime": {
     "end_time": "2020-12-02T15:06:45.290671Z",
     "start_time": "2020-12-02T15:06:45.283139Z"
    }
   },
   "outputs": [
    {
     "data": {
      "text/plain": [
       "'2016-10-27 13:48:00'"
      ]
     },
     "execution_count": 19,
     "metadata": {},
     "output_type": "execute_result"
    }
   ],
   "source": [
    "data['period'][2]"
   ]
  }
 ],
 "metadata": {
  "kernelspec": {
   "display_name": "Python 3",
   "language": "python",
   "name": "python3"
  },
  "language_info": {
   "codemirror_mode": {
    "name": "ipython",
    "version": 3
   },
   "file_extension": ".py",
   "mimetype": "text/x-python",
   "name": "python",
   "nbconvert_exporter": "python",
   "pygments_lexer": "ipython3",
   "version": "3.8.6"
  },
  "toc": {
   "base_numbering": 1,
   "nav_menu": {},
   "number_sections": true,
   "sideBar": true,
   "skip_h1_title": false,
   "title_cell": "Table of Contents",
   "title_sidebar": "Contents",
   "toc_cell": false,
   "toc_position": {},
   "toc_section_display": true,
   "toc_window_display": false
  }
 },
 "nbformat": 4,
 "nbformat_minor": 4
}
