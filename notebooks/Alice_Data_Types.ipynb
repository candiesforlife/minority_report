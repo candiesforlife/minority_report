{
 "cells": [
  {
   "cell_type": "markdown",
   "metadata": {},
   "source": [
    "## Load Data"
   ]
  },
  {
   "cell_type": "code",
   "execution_count": 1,
   "metadata": {
    "ExecuteTime": {
     "end_time": "2020-12-01T15:17:44.937436Z",
     "start_time": "2020-12-01T15:17:44.044778Z"
    }
   },
   "outputs": [],
   "source": [
    "import pandas as pd"
   ]
  },
  {
   "cell_type": "code",
   "execution_count": 2,
   "metadata": {
    "ExecuteTime": {
     "end_time": "2020-12-01T15:17:44.963190Z",
     "start_time": "2020-12-01T15:17:44.957990Z"
    }
   },
   "outputs": [
    {
     "ename": "SyntaxError",
     "evalue": "unmatched ')' (<ipython-input-2-28394fff6b53>, line 3)",
     "output_type": "error",
     "traceback": [
      "\u001b[0;36m  File \u001b[0;32m\"<ipython-input-2-28394fff6b53>\"\u001b[0;36m, line \u001b[0;32m3\u001b[0m\n\u001b[0;31m    df = pd.read_csv(file), low_memory = False)\u001b[0m\n\u001b[0m                                              ^\u001b[0m\n\u001b[0;31mSyntaxError\u001b[0m\u001b[0;31m:\u001b[0m unmatched ')'\n"
     ]
    }
   ],
   "source": [
    "file = '../raw_data/data.csv'\n",
    "\n",
    "df = pd.read_csv(file), low_memory = False)"
   ]
  },
  {
   "cell_type": "markdown",
   "metadata": {
    "heading_collapsed": true
   },
   "source": [
    "## Data Inspection"
   ]
  },
  {
   "cell_type": "code",
   "execution_count": null,
   "metadata": {
    "ExecuteTime": {
     "end_time": "2020-12-01T15:17:44.971708Z",
     "start_time": "2020-12-01T15:17:44.045Z"
    },
    "hidden": true
   },
   "outputs": [],
   "source": [
    "df.head(3)"
   ]
  },
  {
   "cell_type": "code",
   "execution_count": null,
   "metadata": {
    "ExecuteTime": {
     "end_time": "2020-12-01T15:17:44.975799Z",
     "start_time": "2020-12-01T15:17:44.047Z"
    },
    "hidden": true
   },
   "outputs": [],
   "source": [
    "df.info()"
   ]
  },
  {
   "cell_type": "markdown",
   "metadata": {},
   "source": [
    "## Datetime"
   ]
  },
  {
   "cell_type": "markdown",
   "metadata": {},
   "source": [
    "### Time"
   ]
  },
  {
   "cell_type": "code",
   "execution_count": null,
   "metadata": {
    "ExecuteTime": {
     "end_time": "2020-12-01T15:17:44.977366Z",
     "start_time": "2020-12-01T15:17:44.048Z"
    },
    "scrolled": true
   },
   "outputs": [],
   "source": [
    "def to_timestamp(column_name, df):\n",
    "    '''converts given column to datetime.time dtype'''\n",
    "    clean_df = df.copy()\n",
    "    clean_df[column_name] = pd.to_datetime(clean_df[column_name], format = '%H:%M:%S').dt.time\n",
    "    return clean_df"
   ]
  },
  {
   "cell_type": "code",
   "execution_count": null,
   "metadata": {
    "ExecuteTime": {
     "end_time": "2020-12-01T15:17:44.978952Z",
     "start_time": "2020-12-01T15:17:44.051Z"
    }
   },
   "outputs": [],
   "source": [
    "clean_df = to_timestamp('time', df)"
   ]
  },
  {
   "cell_type": "code",
   "execution_count": null,
   "metadata": {
    "ExecuteTime": {
     "end_time": "2020-12-01T15:17:44.982505Z",
     "start_time": "2020-12-01T15:17:44.053Z"
    }
   },
   "outputs": [],
   "source": [
    "type(clean_df['time'][3])"
   ]
  },
  {
   "cell_type": "markdown",
   "metadata": {},
   "source": [
    "In order to access **only** the hour or minutes of the committed crime, use **.hour** or **.minute**, like so:"
   ]
  },
  {
   "cell_type": "code",
   "execution_count": null,
   "metadata": {
    "ExecuteTime": {
     "end_time": "2020-12-01T15:17:44.984354Z",
     "start_time": "2020-12-01T15:17:44.054Z"
    }
   },
   "outputs": [],
   "source": [
    "clean_df['hour'] = clean_df['time'].apply(lambda x: x.hour)"
   ]
  },
  {
   "cell_type": "code",
   "execution_count": null,
   "metadata": {
    "ExecuteTime": {
     "end_time": "2020-12-01T15:17:44.987395Z",
     "start_time": "2020-12-01T15:17:44.055Z"
    }
   },
   "outputs": [],
   "source": [
    "clean_df['hour'].head() # will convert to integer once NaN dropped"
   ]
  },
  {
   "cell_type": "code",
   "execution_count": null,
   "metadata": {
    "ExecuteTime": {
     "end_time": "2020-12-01T15:17:45.002039Z",
     "start_time": "2020-12-01T15:17:44.057Z"
    }
   },
   "outputs": [],
   "source": [
    "clean_df['minute'] = clean_df['time'].apply(lambda x: x.minute)"
   ]
  },
  {
   "cell_type": "code",
   "execution_count": null,
   "metadata": {
    "ExecuteTime": {
     "end_time": "2020-12-01T15:17:45.046199Z",
     "start_time": "2020-12-01T15:17:44.060Z"
    }
   },
   "outputs": [],
   "source": [
    "clean_df['time'].isna().sum() # 48 NaN in 'time' column to be dropped"
   ]
  },
  {
   "cell_type": "code",
   "execution_count": null,
   "metadata": {
    "ExecuteTime": {
     "end_time": "2020-12-01T15:17:45.053215Z",
     "start_time": "2020-12-01T15:17:44.061Z"
    }
   },
   "outputs": [],
   "source": [
    "clean_df.head(3)"
   ]
  },
  {
   "cell_type": "markdown",
   "metadata": {},
   "source": [
    "### Date"
   ]
  },
  {
   "cell_type": "code",
   "execution_count": null,
   "metadata": {
    "ExecuteTime": {
     "end_time": "2020-12-01T15:17:45.056046Z",
     "start_time": "2020-12-01T15:17:44.066Z"
    }
   },
   "outputs": [],
   "source": [
    "df['date'][0:10]"
   ]
  },
  {
   "cell_type": "code",
   "execution_count": null,
   "metadata": {
    "ExecuteTime": {
     "end_time": "2020-12-01T15:17:45.058757Z",
     "start_time": "2020-12-01T15:17:44.072Z"
    }
   },
   "outputs": [],
   "source": [
    "pd.to_datetime(df['date'][0:10], format = '%m/%d/%Y')"
   ]
  },
  {
   "cell_type": "code",
   "execution_count": null,
   "metadata": {
    "ExecuteTime": {
     "end_time": "2020-12-01T15:17:45.061090Z",
     "start_time": "2020-12-01T15:17:44.074Z"
    }
   },
   "outputs": [],
   "source": [
    "def to_date(column_name, df):\n",
    "    '''converts given column to datetime dtype'''\n",
    "    clean_df = df.copy()\n",
    "    clean_df[column_name] = pd.to_datetime(clean_df[column_name], format = '%m/%d/%Y')\n",
    "    return clean_df"
   ]
  }
 ],
 "metadata": {
  "kernelspec": {
   "display_name": "Python 3",
   "language": "python",
   "name": "python3"
  },
  "language_info": {
   "codemirror_mode": {
    "name": "ipython",
    "version": 3
   },
   "file_extension": ".py",
   "mimetype": "text/x-python",
   "name": "python",
   "nbconvert_exporter": "python",
   "pygments_lexer": "ipython3",
   "version": "3.8.6"
  },
  "toc": {
   "base_numbering": 1,
   "nav_menu": {},
   "number_sections": true,
   "sideBar": true,
   "skip_h1_title": false,
   "title_cell": "Table of Contents",
   "title_sidebar": "Contents",
   "toc_cell": false,
   "toc_position": {},
   "toc_section_display": true,
   "toc_window_display": false
  }
 },
 "nbformat": 4,
 "nbformat_minor": 4
}
