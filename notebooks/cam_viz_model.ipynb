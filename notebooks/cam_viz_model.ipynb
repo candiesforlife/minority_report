{
 "cells": [
  {
   "cell_type": "code",
   "execution_count": 1,
   "metadata": {
    "ExecuteTime": {
     "end_time": "2020-12-02T16:18:08.643074Z",
     "start_time": "2020-12-02T16:18:08.594561Z"
    }
   },
   "outputs": [],
   "source": [
    "%load_ext autoreload\n",
    "%autoreload 2"
   ]
  },
  {
   "cell_type": "code",
   "execution_count": 39,
   "metadata": {
    "ExecuteTime": {
     "end_time": "2020-12-02T16:45:12.689095Z",
     "start_time": "2020-12-02T16:45:12.038093Z"
    }
   },
   "outputs": [],
   "source": [
    "from minority_report.clean_data import CleanData\n",
    "from minority_report.scaling import Scaling\n",
    "import matplotlib.pyplot as plt\n",
    "import seaborn as sns"
   ]
  },
  {
   "cell_type": "markdown",
   "metadata": {},
   "source": [
    "# Load data"
   ]
  },
  {
   "cell_type": "code",
   "execution_count": 13,
   "metadata": {
    "ExecuteTime": {
     "end_time": "2020-12-02T16:23:52.549464Z",
     "start_time": "2020-12-02T16:23:24.860186Z"
    }
   },
   "outputs": [],
   "source": [
    "df = CleanData()"
   ]
  },
  {
   "cell_type": "code",
   "execution_count": 14,
   "metadata": {
    "ExecuteTime": {
     "end_time": "2020-12-02T16:31:50.441045Z",
     "start_time": "2020-12-02T16:23:52.693665Z"
    }
   },
   "outputs": [
    {
     "name": "stdout",
     "output_type": "stream",
     "text": [
      "dropping NaNs\n",
      "Changing date column\n",
      "Changing suspect column\n",
      "Changing victim column\n",
      "Changing premise column\n",
      "Changing park & metro column\n",
      "Changing coordinates columns\n",
      "Changing borough column\n",
      "Changing patrol column\n",
      "Changing precinct column\n"
     ]
    },
    {
     "data": {
      "text/html": [
       "<div>\n",
       "<style scoped>\n",
       "    .dataframe tbody tr th:only-of-type {\n",
       "        vertical-align: middle;\n",
       "    }\n",
       "\n",
       "    .dataframe tbody tr th {\n",
       "        vertical-align: top;\n",
       "    }\n",
       "\n",
       "    .dataframe thead th {\n",
       "        text-align: right;\n",
       "    }\n",
       "</style>\n",
       "<table border=\"1\" class=\"dataframe\">\n",
       "  <thead>\n",
       "    <tr style=\"text-align: right;\">\n",
       "      <th></th>\n",
       "      <th>complaint_id</th>\n",
       "      <th>precinct_number</th>\n",
       "      <th>offense_type</th>\n",
       "      <th>crime_completed</th>\n",
       "      <th>offense_level</th>\n",
       "      <th>premise_desc</th>\n",
       "      <th>premise</th>\n",
       "      <th>jurisdiction</th>\n",
       "      <th>park_name</th>\n",
       "      <th>suspect_age</th>\n",
       "      <th>...</th>\n",
       "      <th>suspect_sex</th>\n",
       "      <th>latitude</th>\n",
       "      <th>longitude</th>\n",
       "      <th>metro</th>\n",
       "      <th>victim_age</th>\n",
       "      <th>victim_race</th>\n",
       "      <th>victim_sex</th>\n",
       "      <th>period</th>\n",
       "      <th>borough</th>\n",
       "      <th>patrol_borough</th>\n",
       "    </tr>\n",
       "  </thead>\n",
       "  <tbody>\n",
       "    <tr>\n",
       "      <th>0</th>\n",
       "      <td>325341655</td>\n",
       "      <td>73</td>\n",
       "      <td>OFFENSES AGAINST PUBLIC ADMINI</td>\n",
       "      <td>COMPLETED</td>\n",
       "      <td>MISDEMEANOR</td>\n",
       "      <td>INSIDE</td>\n",
       "      <td>RESIDENCE - PUBLIC HOUSING</td>\n",
       "      <td>N.Y. HOUSING POLICE</td>\n",
       "      <td>NOT PARK</td>\n",
       "      <td>25-44</td>\n",
       "      <td>...</td>\n",
       "      <td>M</td>\n",
       "      <td>40.664239</td>\n",
       "      <td>-73.908425</td>\n",
       "      <td>NOT SUBWAY</td>\n",
       "      <td>&lt;18</td>\n",
       "      <td>BLACK</td>\n",
       "      <td>M</td>\n",
       "      <td>2015-02-11 15:00:00</td>\n",
       "      <td>BROOKLYN</td>\n",
       "      <td>PATROL BORO BKLYN NORTH</td>\n",
       "    </tr>\n",
       "    <tr>\n",
       "      <th>1</th>\n",
       "      <td>393816841</td>\n",
       "      <td>69</td>\n",
       "      <td>ASSAULT 3 &amp; RELATED OFFENSES</td>\n",
       "      <td>COMPLETED</td>\n",
       "      <td>MISDEMEANOR</td>\n",
       "      <td>INSIDE</td>\n",
       "      <td>RESIDENCE-HOUSE</td>\n",
       "      <td>N.Y. POLICE DEPT</td>\n",
       "      <td>NOT PARK</td>\n",
       "      <td>UNKNOWN</td>\n",
       "      <td>...</td>\n",
       "      <td>UNKNOWN</td>\n",
       "      <td>40.644590</td>\n",
       "      <td>-73.892672</td>\n",
       "      <td>NOT SUBWAY</td>\n",
       "      <td>45-64</td>\n",
       "      <td>BLACK</td>\n",
       "      <td>F</td>\n",
       "      <td>2012-03-17 10:30:00</td>\n",
       "      <td>BROOKLYN</td>\n",
       "      <td>PATROL BORO BKLYN SOUTH</td>\n",
       "    </tr>\n",
       "    <tr>\n",
       "      <th>2</th>\n",
       "      <td>802896158</td>\n",
       "      <td>71</td>\n",
       "      <td>HARRASSMENT 2</td>\n",
       "      <td>COMPLETED</td>\n",
       "      <td>VIOLATION</td>\n",
       "      <td>INSIDE</td>\n",
       "      <td>PUBLIC SCHOOL</td>\n",
       "      <td>N.Y. POLICE DEPT</td>\n",
       "      <td>NOT PARK</td>\n",
       "      <td>&lt;18</td>\n",
       "      <td>...</td>\n",
       "      <td>M</td>\n",
       "      <td>40.658758</td>\n",
       "      <td>-73.942435</td>\n",
       "      <td>NOT SUBWAY</td>\n",
       "      <td>18-24</td>\n",
       "      <td>BLACK</td>\n",
       "      <td>M</td>\n",
       "      <td>2016-10-27 13:48:00</td>\n",
       "      <td>BROOKLYN</td>\n",
       "      <td>PATROL BORO BKLYN SOUTH</td>\n",
       "    </tr>\n",
       "    <tr>\n",
       "      <th>3</th>\n",
       "      <td>633812343</td>\n",
       "      <td>112</td>\n",
       "      <td>RAPE</td>\n",
       "      <td>COMPLETED</td>\n",
       "      <td>FELONY</td>\n",
       "      <td>INSIDE</td>\n",
       "      <td>RESIDENCE - APT. HOUSE</td>\n",
       "      <td>N.Y. POLICE DEPT</td>\n",
       "      <td>NOT PARK</td>\n",
       "      <td>25-44</td>\n",
       "      <td>...</td>\n",
       "      <td>M</td>\n",
       "      <td>40.722364</td>\n",
       "      <td>-73.851474</td>\n",
       "      <td>NOT SUBWAY</td>\n",
       "      <td>25-44</td>\n",
       "      <td>WHITE</td>\n",
       "      <td>F</td>\n",
       "      <td>2014-11-27 19:00:00</td>\n",
       "      <td>QUEENS</td>\n",
       "      <td>PATROL BORO QUEENS NORTH</td>\n",
       "    </tr>\n",
       "    <tr>\n",
       "      <th>4</th>\n",
       "      <td>300349533</td>\n",
       "      <td>24</td>\n",
       "      <td>GRAND LARCENY</td>\n",
       "      <td>COMPLETED</td>\n",
       "      <td>FELONY</td>\n",
       "      <td>INSIDE</td>\n",
       "      <td>DOCTOR/DENTIST OFFICE</td>\n",
       "      <td>N.Y. POLICE DEPT</td>\n",
       "      <td>NOT PARK</td>\n",
       "      <td>UNKNOWN</td>\n",
       "      <td>...</td>\n",
       "      <td>UNKNOWN</td>\n",
       "      <td>40.793465</td>\n",
       "      <td>-73.968950</td>\n",
       "      <td>NOT SUBWAY</td>\n",
       "      <td>45-64</td>\n",
       "      <td>WHITE</td>\n",
       "      <td>F</td>\n",
       "      <td>2013-12-11 13:30:00</td>\n",
       "      <td>MANHATTAN</td>\n",
       "      <td>PATROL BORO MAN NORTH</td>\n",
       "    </tr>\n",
       "    <tr>\n",
       "      <th>...</th>\n",
       "      <td>...</td>\n",
       "      <td>...</td>\n",
       "      <td>...</td>\n",
       "      <td>...</td>\n",
       "      <td>...</td>\n",
       "      <td>...</td>\n",
       "      <td>...</td>\n",
       "      <td>...</td>\n",
       "      <td>...</td>\n",
       "      <td>...</td>\n",
       "      <td>...</td>\n",
       "      <td>...</td>\n",
       "      <td>...</td>\n",
       "      <td>...</td>\n",
       "      <td>...</td>\n",
       "      <td>...</td>\n",
       "      <td>...</td>\n",
       "      <td>...</td>\n",
       "      <td>...</td>\n",
       "      <td>...</td>\n",
       "      <td>...</td>\n",
       "    </tr>\n",
       "    <tr>\n",
       "      <th>6983202</th>\n",
       "      <td>225471008</td>\n",
       "      <td>109</td>\n",
       "      <td>ASSAULT 3 &amp; RELATED OFFENSES</td>\n",
       "      <td>COMPLETED</td>\n",
       "      <td>MISDEMEANOR</td>\n",
       "      <td>INSIDE</td>\n",
       "      <td>RESIDENCE - APT. HOUSE</td>\n",
       "      <td>N.Y. POLICE DEPT</td>\n",
       "      <td>NOT PARK</td>\n",
       "      <td>25-44</td>\n",
       "      <td>...</td>\n",
       "      <td>M</td>\n",
       "      <td>40.785050</td>\n",
       "      <td>-73.856852</td>\n",
       "      <td>NOT SUBWAY</td>\n",
       "      <td>25-44</td>\n",
       "      <td>ASIAN / PACIFIC ISLANDER</td>\n",
       "      <td>F</td>\n",
       "      <td>2018-12-02 04:15:00</td>\n",
       "      <td>QUEENS</td>\n",
       "      <td>PATROL BORO QUEENS NORTH</td>\n",
       "    </tr>\n",
       "    <tr>\n",
       "      <th>6983203</th>\n",
       "      <td>368441925</td>\n",
       "      <td>25</td>\n",
       "      <td>OFF. AGNST PUB ORD SENSBLTY &amp;</td>\n",
       "      <td>COMPLETED</td>\n",
       "      <td>MISDEMEANOR</td>\n",
       "      <td>INSIDE</td>\n",
       "      <td>RESIDENCE - APT. HOUSE</td>\n",
       "      <td>N.Y. POLICE DEPT</td>\n",
       "      <td>NOT PARK</td>\n",
       "      <td>25-44</td>\n",
       "      <td>...</td>\n",
       "      <td>F</td>\n",
       "      <td>40.801717</td>\n",
       "      <td>-73.937283</td>\n",
       "      <td>NOT SUBWAY</td>\n",
       "      <td>25-44</td>\n",
       "      <td>BLACK</td>\n",
       "      <td>M</td>\n",
       "      <td>2018-01-20 00:08:00</td>\n",
       "      <td>MANHATTAN</td>\n",
       "      <td>PATROL BORO MAN NORTH</td>\n",
       "    </tr>\n",
       "    <tr>\n",
       "      <th>6983204</th>\n",
       "      <td>146134182</td>\n",
       "      <td>41</td>\n",
       "      <td>CRIMINAL MISCHIEF &amp; RELATED OF</td>\n",
       "      <td>COMPLETED</td>\n",
       "      <td>FELONY</td>\n",
       "      <td>FRONT OF</td>\n",
       "      <td>STREET</td>\n",
       "      <td>N.Y. POLICE DEPT</td>\n",
       "      <td>NOT PARK</td>\n",
       "      <td>UNKNOWN</td>\n",
       "      <td>...</td>\n",
       "      <td>UNKNOWN</td>\n",
       "      <td>40.814612</td>\n",
       "      <td>-73.903637</td>\n",
       "      <td>NOT SUBWAY</td>\n",
       "      <td>25-44</td>\n",
       "      <td>BLACK HISPANIC</td>\n",
       "      <td>F</td>\n",
       "      <td>2018-08-03 22:30:00</td>\n",
       "      <td>BRONX</td>\n",
       "      <td>PATROL BORO BRONX</td>\n",
       "    </tr>\n",
       "    <tr>\n",
       "      <th>6983205</th>\n",
       "      <td>763119484</td>\n",
       "      <td>107</td>\n",
       "      <td>FRAUDS</td>\n",
       "      <td>COMPLETED</td>\n",
       "      <td>MISDEMEANOR</td>\n",
       "      <td>INSIDE</td>\n",
       "      <td>RESIDENCE - APT. HOUSE</td>\n",
       "      <td>N.Y. POLICE DEPT</td>\n",
       "      <td>NOT PARK</td>\n",
       "      <td>UNKNOWN</td>\n",
       "      <td>...</td>\n",
       "      <td>U</td>\n",
       "      <td>40.724699</td>\n",
       "      <td>-73.808549</td>\n",
       "      <td>NOT SUBWAY</td>\n",
       "      <td>18-24</td>\n",
       "      <td>ASIAN / PACIFIC ISLANDER</td>\n",
       "      <td>M</td>\n",
       "      <td>2018-12-10 11:00:00</td>\n",
       "      <td>QUEENS</td>\n",
       "      <td>PATROL BORO QUEENS SOUTH</td>\n",
       "    </tr>\n",
       "    <tr>\n",
       "      <th>6983206</th>\n",
       "      <td>176655779</td>\n",
       "      <td>67</td>\n",
       "      <td>GRAND LARCENY OF MOTOR VEHICLE</td>\n",
       "      <td>COMPLETED</td>\n",
       "      <td>FELONY</td>\n",
       "      <td>INSIDE</td>\n",
       "      <td>STORE UNCLASSIFIED</td>\n",
       "      <td>N.Y. POLICE DEPT</td>\n",
       "      <td>NOT PARK</td>\n",
       "      <td>UNKNOWN</td>\n",
       "      <td>...</td>\n",
       "      <td>UNKNOWN</td>\n",
       "      <td>40.650987</td>\n",
       "      <td>-73.935263</td>\n",
       "      <td>NOT SUBWAY</td>\n",
       "      <td>UNKNOWN</td>\n",
       "      <td>UNKNOWN</td>\n",
       "      <td>D</td>\n",
       "      <td>2018-11-15 10:00:00</td>\n",
       "      <td>BROOKLYN</td>\n",
       "      <td>PATROL BORO BKLYN SOUTH</td>\n",
       "    </tr>\n",
       "  </tbody>\n",
       "</table>\n",
       "<p>6416137 rows × 21 columns</p>\n",
       "</div>"
      ],
      "text/plain": [
       "         complaint_id  precinct_number                    offense_type  \\\n",
       "0           325341655               73  OFFENSES AGAINST PUBLIC ADMINI   \n",
       "1           393816841               69    ASSAULT 3 & RELATED OFFENSES   \n",
       "2           802896158               71                   HARRASSMENT 2   \n",
       "3           633812343              112                            RAPE   \n",
       "4           300349533               24                   GRAND LARCENY   \n",
       "...               ...              ...                             ...   \n",
       "6983202     225471008              109    ASSAULT 3 & RELATED OFFENSES   \n",
       "6983203     368441925               25   OFF. AGNST PUB ORD SENSBLTY &   \n",
       "6983204     146134182               41  CRIMINAL MISCHIEF & RELATED OF   \n",
       "6983205     763119484              107                          FRAUDS   \n",
       "6983206     176655779               67  GRAND LARCENY OF MOTOR VEHICLE   \n",
       "\n",
       "        crime_completed offense_level premise_desc  \\\n",
       "0             COMPLETED   MISDEMEANOR       INSIDE   \n",
       "1             COMPLETED   MISDEMEANOR       INSIDE   \n",
       "2             COMPLETED     VIOLATION       INSIDE   \n",
       "3             COMPLETED        FELONY       INSIDE   \n",
       "4             COMPLETED        FELONY       INSIDE   \n",
       "...                 ...           ...          ...   \n",
       "6983202       COMPLETED   MISDEMEANOR       INSIDE   \n",
       "6983203       COMPLETED   MISDEMEANOR       INSIDE   \n",
       "6983204       COMPLETED        FELONY     FRONT OF   \n",
       "6983205       COMPLETED   MISDEMEANOR       INSIDE   \n",
       "6983206       COMPLETED        FELONY       INSIDE   \n",
       "\n",
       "                            premise         jurisdiction park_name  \\\n",
       "0        RESIDENCE - PUBLIC HOUSING  N.Y. HOUSING POLICE  NOT PARK   \n",
       "1                   RESIDENCE-HOUSE     N.Y. POLICE DEPT  NOT PARK   \n",
       "2                     PUBLIC SCHOOL     N.Y. POLICE DEPT  NOT PARK   \n",
       "3            RESIDENCE - APT. HOUSE     N.Y. POLICE DEPT  NOT PARK   \n",
       "4             DOCTOR/DENTIST OFFICE     N.Y. POLICE DEPT  NOT PARK   \n",
       "...                             ...                  ...       ...   \n",
       "6983202      RESIDENCE - APT. HOUSE     N.Y. POLICE DEPT  NOT PARK   \n",
       "6983203      RESIDENCE - APT. HOUSE     N.Y. POLICE DEPT  NOT PARK   \n",
       "6983204                      STREET     N.Y. POLICE DEPT  NOT PARK   \n",
       "6983205      RESIDENCE - APT. HOUSE     N.Y. POLICE DEPT  NOT PARK   \n",
       "6983206          STORE UNCLASSIFIED     N.Y. POLICE DEPT  NOT PARK   \n",
       "\n",
       "        suspect_age  ... suspect_sex   latitude  longitude        metro  \\\n",
       "0             25-44  ...           M  40.664239 -73.908425  NOT SUBWAY    \n",
       "1           UNKNOWN  ...     UNKNOWN  40.644590 -73.892672  NOT SUBWAY    \n",
       "2               <18  ...           M  40.658758 -73.942435  NOT SUBWAY    \n",
       "3             25-44  ...           M  40.722364 -73.851474  NOT SUBWAY    \n",
       "4           UNKNOWN  ...     UNKNOWN  40.793465 -73.968950  NOT SUBWAY    \n",
       "...             ...  ...         ...        ...        ...          ...   \n",
       "6983202       25-44  ...           M  40.785050 -73.856852  NOT SUBWAY    \n",
       "6983203       25-44  ...           F  40.801717 -73.937283  NOT SUBWAY    \n",
       "6983204     UNKNOWN  ...     UNKNOWN  40.814612 -73.903637  NOT SUBWAY    \n",
       "6983205     UNKNOWN  ...           U  40.724699 -73.808549  NOT SUBWAY    \n",
       "6983206     UNKNOWN  ...     UNKNOWN  40.650987 -73.935263  NOT SUBWAY    \n",
       "\n",
       "        victim_age               victim_race victim_sex               period  \\\n",
       "0              <18                     BLACK          M  2015-02-11 15:00:00   \n",
       "1            45-64                     BLACK          F  2012-03-17 10:30:00   \n",
       "2            18-24                     BLACK          M  2016-10-27 13:48:00   \n",
       "3            25-44                     WHITE          F  2014-11-27 19:00:00   \n",
       "4            45-64                     WHITE          F  2013-12-11 13:30:00   \n",
       "...            ...                       ...        ...                  ...   \n",
       "6983202      25-44  ASIAN / PACIFIC ISLANDER          F  2018-12-02 04:15:00   \n",
       "6983203      25-44                     BLACK          M  2018-01-20 00:08:00   \n",
       "6983204      25-44            BLACK HISPANIC          F  2018-08-03 22:30:00   \n",
       "6983205      18-24  ASIAN / PACIFIC ISLANDER          M  2018-12-10 11:00:00   \n",
       "6983206    UNKNOWN                   UNKNOWN          D  2018-11-15 10:00:00   \n",
       "\n",
       "           borough            patrol_borough  \n",
       "0         BROOKLYN   PATROL BORO BKLYN NORTH  \n",
       "1         BROOKLYN   PATROL BORO BKLYN SOUTH  \n",
       "2         BROOKLYN   PATROL BORO BKLYN SOUTH  \n",
       "3           QUEENS  PATROL BORO QUEENS NORTH  \n",
       "4        MANHATTAN     PATROL BORO MAN NORTH  \n",
       "...            ...                       ...  \n",
       "6983202     QUEENS  PATROL BORO QUEENS NORTH  \n",
       "6983203  MANHATTAN     PATROL BORO MAN NORTH  \n",
       "6983204      BRONX         PATROL BORO BRONX  \n",
       "6983205     QUEENS  PATROL BORO QUEENS SOUTH  \n",
       "6983206   BROOKLYN   PATROL BORO BKLYN SOUTH  \n",
       "\n",
       "[6416137 rows x 21 columns]"
      ]
     },
     "execution_count": 14,
     "metadata": {},
     "output_type": "execute_result"
    }
   ],
   "source": [
    "df.total_clean()"
   ]
  },
  {
   "cell_type": "code",
   "execution_count": 17,
   "metadata": {
    "ExecuteTime": {
     "end_time": "2020-12-02T16:31:57.904046Z",
     "start_time": "2020-12-02T16:31:57.852586Z"
    }
   },
   "outputs": [
    {
     "data": {
      "text/plain": [
       "(6416137, 21)"
      ]
     },
     "execution_count": 17,
     "metadata": {},
     "output_type": "execute_result"
    }
   ],
   "source": [
    "df.data.shape"
   ]
  },
  {
   "cell_type": "code",
   "execution_count": 20,
   "metadata": {
    "ExecuteTime": {
     "end_time": "2020-12-02T16:33:35.490893Z",
     "start_time": "2020-12-02T16:33:30.310646Z"
    }
   },
   "outputs": [
    {
     "data": {
      "text/plain": [
       "complaint_id       0\n",
       "precinct_number    0\n",
       "offense_type       0\n",
       "crime_completed    0\n",
       "offense_level      0\n",
       "premise_desc       0\n",
       "premise            0\n",
       "jurisdiction       0\n",
       "park_name          0\n",
       "suspect_age        0\n",
       "suspect_race       0\n",
       "suspect_sex        0\n",
       "latitude           0\n",
       "longitude          0\n",
       "metro              0\n",
       "victim_age         0\n",
       "victim_race        0\n",
       "victim_sex         0\n",
       "period             0\n",
       "borough            0\n",
       "patrol_borough     0\n",
       "dtype: int64"
      ]
     },
     "execution_count": 20,
     "metadata": {},
     "output_type": "execute_result"
    }
   ],
   "source": [
    "df.data.isnull().sum()"
   ]
  },
  {
   "cell_type": "markdown",
   "metadata": {},
   "source": [
    "# Explore data"
   ]
  },
  {
   "cell_type": "code",
   "execution_count": 22,
   "metadata": {
    "ExecuteTime": {
     "end_time": "2020-12-02T16:34:33.039256Z",
     "start_time": "2020-12-02T16:34:32.983279Z"
    }
   },
   "outputs": [
    {
     "data": {
      "text/plain": [
       "Index(['complaint_id', 'precinct_number', 'offense_type', 'crime_completed',\n",
       "       'offense_level', 'premise_desc', 'premise', 'jurisdiction', 'park_name',\n",
       "       'suspect_age', 'suspect_race', 'suspect_sex', 'latitude', 'longitude',\n",
       "       'metro', 'victim_age', 'victim_race', 'victim_sex', 'period', 'borough',\n",
       "       'patrol_borough'],\n",
       "      dtype='object')"
      ]
     },
     "execution_count": 22,
     "metadata": {},
     "output_type": "execute_result"
    }
   ],
   "source": [
    "df.data.columns"
   ]
  },
  {
   "cell_type": "code",
   "execution_count": 42,
   "metadata": {
    "ExecuteTime": {
     "end_time": "2020-12-02T16:46:09.524039Z",
     "start_time": "2020-12-02T16:46:00.673632Z"
    }
   },
   "outputs": [
    {
     "data": {
      "text/plain": [
       "<AxesSubplot:xlabel='borough', ylabel='count'>"
      ]
     },
     "execution_count": 42,
     "metadata": {},
     "output_type": "execute_result"
    },
    {
     "data": {
      "image/png": "[encoded data removed]",
      "text/plain": [
       "<Figure size 432x288 with 1 Axes>"
      ]
     },
     "metadata": {
      "needs_background": "light"
     },
     "output_type": "display_data"
    }
   ],
   "source": [
    "sns.countplot(x='borough', hue='offense_level', data=df.data)"
   ]
  },
  {
   "cell_type": "code",
   "execution_count": 54,
   "metadata": {
    "ExecuteTime": {
     "end_time": "2020-12-02T17:02:51.779982Z",
     "start_time": "2020-12-02T17:02:32.532524Z"
    }
   },
   "outputs": [
    {
     "data": {
      "text/plain": [
       "(array([ 0,  1,  2,  3,  4,  5,  6,  7,  8,  9, 10, 11, 12, 13, 14, 15, 16,\n",
       "        17, 18, 19, 20, 21, 22, 23, 24, 25, 26, 27, 28, 29, 30, 31, 32, 33,\n",
       "        34, 35, 36, 37, 38, 39, 40, 41, 42, 43, 44, 45, 46, 47, 48, 49, 50,\n",
       "        51, 52, 53, 54, 55, 56, 57, 58, 59, 60, 61, 62, 63, 64, 65, 66, 67,\n",
       "        68, 69, 70]),\n",
       " [Text(0, 0, 'OFFENSES AGAINST PUBLIC ADMINI'),\n",
       "  Text(1, 0, 'ASSAULT 3 & RELATED OFFENSES'),\n",
       "  Text(2, 0, 'HARRASSMENT 2'),\n",
       "  Text(3, 0, 'RAPE'),\n",
       "  Text(4, 0, 'GRAND LARCENY'),\n",
       "  Text(5, 0, 'PETIT LARCENY'),\n",
       "  Text(6, 0, 'OFF. AGNST PUB ORD SENSBLTY &'),\n",
       "  Text(7, 0, 'CRIMINAL TRESPASS'),\n",
       "  Text(8, 0, 'CRIMINAL MISCHIEF & RELATED OF'),\n",
       "  Text(9, 0, 'FELONY ASSAULT'),\n",
       "  Text(10, 0, 'SEX CRIMES'),\n",
       "  Text(11, 0, 'DANGEROUS DRUGS'),\n",
       "  Text(12, 0, 'BURGLARY'),\n",
       "  Text(13, 0, 'DANGEROUS WEAPONS'),\n",
       "  Text(14, 0, 'THEFT-FRAUD'),\n",
       "  Text(15, 0, 'ROBBERY'),\n",
       "  Text(16, 0, 'MISCELLANEOUS PENAL LAW'),\n",
       "  Text(17, 0, 'GRAND LARCENY OF MOTOR VEHICLE'),\n",
       "  Text(18, 0, 'INTOXICATED & IMPAIRED DRIVING'),\n",
       "  Text(19, 0, 'OTHER OFFENSES RELATED TO THEF'),\n",
       "  Text(20, 0, 'POSSESSION OF STOLEN PROPERTY'),\n",
       "  Text(21, 0, 'VEHICLE AND TRAFFIC LAWS'),\n",
       "  Text(22, 0, 'MURDER & NON-NEGL. MANSLAUGHTER'),\n",
       "  Text(23, 0, 'UNAUTHORIZED USE OF A VEHICLE'),\n",
       "  Text(24, 0, 'THEFT OF SERVICES'),\n",
       "  Text(25, 0, 'NYS LAWS-UNCLASSIFIED FELONY'),\n",
       "  Text(26, 0, 'OFFENSES INVOLVING FRAUD'),\n",
       "  Text(27, 0, 'FORGERY'),\n",
       "  Text(28, 0, 'ADMINISTRATIVE CODE'),\n",
       "  Text(29, 0, 'GAMBLING'),\n",
       "  Text(30, 0, 'FRAUDS'),\n",
       "  Text(31, 0, 'ARSON'),\n",
       "  Text(32, 0, 'OFFENSES AGAINST THE PERSON'),\n",
       "  Text(33, 0, 'OFFENSES RELATED TO CHILDREN'),\n",
       "  Text(34, 0, 'PETIT LARCENY OF MOTOR VEHICLE'),\n",
       "  Text(35, 0, 'DISORDERLY CONDUCT'),\n",
       "  Text(36, 0, 'FRAUDULENT ACCOSTING'),\n",
       "  Text(37, 0, 'OTHER STATE LAWS (NON PENAL LA'),\n",
       "  Text(38, 0, \"BURGLAR'S TOOLS\"),\n",
       "  Text(39, 0, 'CHILD ABANDONMENT/NON SUPPORT'),\n",
       "  Text(40, 0, 'ALCOHOLIC BEVERAGE CONTROL LAW'),\n",
       "  Text(41, 0, 'KIDNAPPING & RELATED OFFENSES'),\n",
       "  Text(42, 0, 'PROSTITUTION & RELATED OFFENSES'),\n",
       "  Text(43, 0, 'OTHER STATE LAWS'),\n",
       "  Text(44, 0, 'JOSTLING'),\n",
       "  Text(45, 0, 'NEW YORK CITY HEALTH CODE'),\n",
       "  Text(46, 0, 'OFFENSES AGAINST PUBLIC SAFETY'),\n",
       "  Text(47, 0, 'AGRICULTURE & MRKTS LAW-UNCLASSIFIED'),\n",
       "  Text(48, 0, 'LOITERING/GAMBLING (CARDS, DIC'),\n",
       "  Text(49, 0, 'LOITERING/DEVIATE SEX'),\n",
       "  Text(50, 0, 'HOMICIDE-NEGLIGENT,UNCLASSIFIE'),\n",
       "  Text(51, 0, 'ENDAN WELFARE INCOMP'),\n",
       "  Text(52, 0, 'LOITERING'),\n",
       "  Text(53, 0, 'ESCAPE 3'),\n",
       "  Text(54, 0, 'ANTICIPATORY OFFENSES'),\n",
       "  Text(55, 0, 'LOITERING FOR DRUG PURPOSES'),\n",
       "  Text(56, 0, 'OTHER TRAFFIC INFRACTION'),\n",
       "  Text(57, 0, 'INTOXICATED/IMPAIRED DRIVING'),\n",
       "  Text(58, 0, 'HOMICIDE-NEGLIGENT-VEHICLE'),\n",
       "  Text(59, 0, 'UNLAWFUL POSS. WEAP. ON SCHOOL'),\n",
       "  Text(60, 0, 'DISRUPTION OF A RELIGIOUS SERV'),\n",
       "  Text(61, 0, 'ADMINISTRATIVE CODES'),\n",
       "  Text(62, 0, 'UNDER THE INFLUENCE OF DRUGS'),\n",
       "  Text(63, 0, 'FORTUNE TELLING'),\n",
       "  Text(64, 0, 'ABORTION'),\n",
       "  Text(65, 0, 'KIDNAPPING'),\n",
       "  Text(66, 0, 'OTHER STATE LAWS (NON PENAL LAW)'),\n",
       "  Text(67, 0, 'NYS LAWS-UNCLASSIFIED VIOLATION'),\n",
       "  Text(68, 0, 'KIDNAPPING AND RELATED OFFENSES'),\n",
       "  Text(69, 0, 'FELONY SEX CRIMES'),\n",
       "  Text(70, 0, 'OFFENSES AGAINST MARRIAGE UNCL')])"
      ]
     },
     "execution_count": 54,
     "metadata": {},
     "output_type": "execute_result"
    },
    {
     "data": {
      "image/png": "[encoded data removed]",
      "text/plain": [
       "<Figure size 432x288 with 1 Axes>"
      ]
     },
     "metadata": {
      "needs_background": "light"
     },
     "output_type": "display_data"
    }
   ],
   "source": [
    "sns.countplot(x='offense_type', hue='borough', data=df.data)\n",
    "plt.xticks(rotation=45)\n"
   ]
  },
  {
   "cell_type": "code",
   "execution_count": null,
   "metadata": {},
   "outputs": [],
   "source": []
  },
  {
   "cell_type": "code",
   "execution_count": null,
   "metadata": {},
   "outputs": [],
   "source": []
  },
  {
   "cell_type": "code",
   "execution_count": null,
   "metadata": {},
   "outputs": [],
   "source": []
  },
  {
   "cell_type": "code",
   "execution_count": null,
   "metadata": {},
   "outputs": [],
   "source": []
  }
 ],
 "metadata": {
  "kernelspec": {
   "display_name": "Python 3",
   "language": "python",
   "name": "python3"
  },
  "language_info": {
   "codemirror_mode": {
    "name": "ipython",
    "version": 3
   },
   "file_extension": ".py",
   "mimetype": "text/x-python",
   "name": "python",
   "nbconvert_exporter": "python",
   "pygments_lexer": "ipython3",
   "version": "3.8.5"
  },
  "toc": {
   "base_numbering": 1,
   "nav_menu": {},
   "number_sections": true,
   "sideBar": true,
   "skip_h1_title": false,
   "title_cell": "Table of Contents",
   "title_sidebar": "Contents",
   "toc_cell": false,
   "toc_position": {},
   "toc_section_display": true,
   "toc_window_display": false
  },
  "varInspector": {
   "cols": {
    "lenName": 16,
    "lenType": 16,
    "lenVar": 40
   },
   "kernels_config": {
    "python": {
     "delete_cmd_postfix": "",
     "delete_cmd_prefix": "del ",
     "library": "var_list.py",
     "varRefreshCmd": "print(var_dic_list())"
    },
    "r": {
     "delete_cmd_postfix": ") ",
     "delete_cmd_prefix": "rm(",
     "library": "var_list.r",
     "varRefreshCmd": "cat(var_dic_list()) "
    }
   },
   "types_to_exclude": [
    "module",
    "function",
    "builtin_function_or_method",
    "instance",
    "_Feature"
   ],
   "window_display": false
  }
 },
 "nbformat": 4,
 "nbformat_minor": 4
}
