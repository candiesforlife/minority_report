{
 "cells": [
  {
   "cell_type": "code",
   "execution_count": null,
   "metadata": {
    "ExecuteTime": {
     "end_time": "2020-12-03T19:49:04.745882Z",
     "start_time": "2020-12-03T19:49:04.704204Z"
    }
   },
   "outputs": [],
   "source": [
    "%load_ext autoreload\n",
    "%autoreload 2"
   ]
  },
  {
   "cell_type": "code",
   "execution_count": 1,
   "metadata": {
    "ExecuteTime": {
     "end_time": "2020-12-03T20:39:48.451224Z",
     "start_time": "2020-12-03T20:39:46.662368Z"
    }
   },
   "outputs": [],
   "source": [
    "from minority_report.clean_data import CleanData\n",
    "from minority_report.scaling import Scaling\n",
    "from datetime import datetime, timedelta\n",
    "from geopandas import GeoSeries\n",
    "from shapely.geometry import Point\n",
    "import matplotlib.pyplot as plt"
   ]
  },
  {
   "cell_type": "markdown",
   "metadata": {},
   "source": [
    "# Load data"
   ]
  },
  {
   "cell_type": "code",
   "execution_count": 2,
   "metadata": {
    "ExecuteTime": {
     "end_time": "2020-12-03T20:39:57.374644Z",
     "start_time": "2020-12-03T20:39:48.876725Z"
    }
   },
   "outputs": [
    {
     "data": {
      "text/html": [
       "<div>\n",
       "<style scoped>\n",
       "    .dataframe tbody tr th:only-of-type {\n",
       "        vertical-align: middle;\n",
       "    }\n",
       "\n",
       "    .dataframe tbody tr th {\n",
       "        vertical-align: top;\n",
       "    }\n",
       "\n",
       "    .dataframe thead th {\n",
       "        text-align: right;\n",
       "    }\n",
       "</style>\n",
       "<table border=\"1\" class=\"dataframe\">\n",
       "  <thead>\n",
       "    <tr style=\"text-align: right;\">\n",
       "      <th></th>\n",
       "      <th>precinct_number</th>\n",
       "      <th>offense_type</th>\n",
       "      <th>crime_completed</th>\n",
       "      <th>offense_level</th>\n",
       "      <th>premise_desc</th>\n",
       "      <th>premise</th>\n",
       "      <th>jurisdiction</th>\n",
       "      <th>park_name</th>\n",
       "      <th>suspect_age</th>\n",
       "      <th>suspect_race</th>\n",
       "      <th>suspect_sex</th>\n",
       "      <th>latitude</th>\n",
       "      <th>longitude</th>\n",
       "      <th>metro</th>\n",
       "      <th>victim_age</th>\n",
       "      <th>victim_race</th>\n",
       "      <th>victim_sex</th>\n",
       "      <th>period</th>\n",
       "      <th>borough</th>\n",
       "      <th>patrol_borough</th>\n",
       "    </tr>\n",
       "  </thead>\n",
       "  <tbody>\n",
       "    <tr>\n",
       "      <th>0</th>\n",
       "      <td>73</td>\n",
       "      <td>OFFENSES AGAINST PUBLIC ADMINI</td>\n",
       "      <td>COMPLETED</td>\n",
       "      <td>MISDEMEANOR</td>\n",
       "      <td>INSIDE</td>\n",
       "      <td>RESIDENCE - PUBLIC HOUSING</td>\n",
       "      <td>N.Y. HOUSING POLICE</td>\n",
       "      <td>NOT PARK</td>\n",
       "      <td>25-44</td>\n",
       "      <td>BLACK</td>\n",
       "      <td>M</td>\n",
       "      <td>40.664239</td>\n",
       "      <td>-73.908425</td>\n",
       "      <td>NOT SUBWAY</td>\n",
       "      <td>&lt;18</td>\n",
       "      <td>BLACK</td>\n",
       "      <td>M</td>\n",
       "      <td>2015-02-11 15:00:00</td>\n",
       "      <td>BROOKLYN</td>\n",
       "      <td>PATROL BORO BKLYN NORTH</td>\n",
       "    </tr>\n",
       "    <tr>\n",
       "      <th>1</th>\n",
       "      <td>69</td>\n",
       "      <td>ASSAULT 3 &amp; RELATED OFFENSES</td>\n",
       "      <td>COMPLETED</td>\n",
       "      <td>MISDEMEANOR</td>\n",
       "      <td>INSIDE</td>\n",
       "      <td>RESIDENCE-HOUSE</td>\n",
       "      <td>N.Y. POLICE DEPT</td>\n",
       "      <td>NOT PARK</td>\n",
       "      <td>UNKNOWN</td>\n",
       "      <td>UNKNOWN</td>\n",
       "      <td>UNKNOWN</td>\n",
       "      <td>40.644590</td>\n",
       "      <td>-73.892672</td>\n",
       "      <td>NOT SUBWAY</td>\n",
       "      <td>45-64</td>\n",
       "      <td>BLACK</td>\n",
       "      <td>F</td>\n",
       "      <td>2012-03-17 10:00:00</td>\n",
       "      <td>BROOKLYN</td>\n",
       "      <td>PATROL BORO BKLYN SOUTH</td>\n",
       "    </tr>\n",
       "    <tr>\n",
       "      <th>2</th>\n",
       "      <td>71</td>\n",
       "      <td>HARRASSMENT 2</td>\n",
       "      <td>COMPLETED</td>\n",
       "      <td>VIOLATION</td>\n",
       "      <td>INSIDE</td>\n",
       "      <td>PUBLIC SCHOOL</td>\n",
       "      <td>N.Y. POLICE DEPT</td>\n",
       "      <td>NOT PARK</td>\n",
       "      <td>&lt;18</td>\n",
       "      <td>BLACK</td>\n",
       "      <td>M</td>\n",
       "      <td>40.658758</td>\n",
       "      <td>-73.942435</td>\n",
       "      <td>NOT SUBWAY</td>\n",
       "      <td>18-24</td>\n",
       "      <td>BLACK</td>\n",
       "      <td>M</td>\n",
       "      <td>2016-10-27 13:00:00</td>\n",
       "      <td>BROOKLYN</td>\n",
       "      <td>PATROL BORO BKLYN SOUTH</td>\n",
       "    </tr>\n",
       "    <tr>\n",
       "      <th>3</th>\n",
       "      <td>112</td>\n",
       "      <td>RAPE</td>\n",
       "      <td>COMPLETED</td>\n",
       "      <td>FELONY</td>\n",
       "      <td>INSIDE</td>\n",
       "      <td>RESIDENCE - APT. HOUSE</td>\n",
       "      <td>N.Y. POLICE DEPT</td>\n",
       "      <td>NOT PARK</td>\n",
       "      <td>25-44</td>\n",
       "      <td>WHITE HISPANIC</td>\n",
       "      <td>M</td>\n",
       "      <td>40.722364</td>\n",
       "      <td>-73.851474</td>\n",
       "      <td>NOT SUBWAY</td>\n",
       "      <td>25-44</td>\n",
       "      <td>WHITE</td>\n",
       "      <td>F</td>\n",
       "      <td>2014-11-27 19:00:00</td>\n",
       "      <td>QUEENS</td>\n",
       "      <td>PATROL BORO QUEENS NORTH</td>\n",
       "    </tr>\n",
       "    <tr>\n",
       "      <th>4</th>\n",
       "      <td>24</td>\n",
       "      <td>GRAND LARCENY</td>\n",
       "      <td>COMPLETED</td>\n",
       "      <td>FELONY</td>\n",
       "      <td>INSIDE</td>\n",
       "      <td>DOCTOR/DENTIST OFFICE</td>\n",
       "      <td>N.Y. POLICE DEPT</td>\n",
       "      <td>NOT PARK</td>\n",
       "      <td>UNKNOWN</td>\n",
       "      <td>UNKNOWN</td>\n",
       "      <td>UNKNOWN</td>\n",
       "      <td>40.793465</td>\n",
       "      <td>-73.968950</td>\n",
       "      <td>NOT SUBWAY</td>\n",
       "      <td>45-64</td>\n",
       "      <td>WHITE</td>\n",
       "      <td>F</td>\n",
       "      <td>2013-12-11 13:00:00</td>\n",
       "      <td>MANHATTAN</td>\n",
       "      <td>PATROL BORO MAN NORTH</td>\n",
       "    </tr>\n",
       "    <tr>\n",
       "      <th>...</th>\n",
       "      <td>...</td>\n",
       "      <td>...</td>\n",
       "      <td>...</td>\n",
       "      <td>...</td>\n",
       "      <td>...</td>\n",
       "      <td>...</td>\n",
       "      <td>...</td>\n",
       "      <td>...</td>\n",
       "      <td>...</td>\n",
       "      <td>...</td>\n",
       "      <td>...</td>\n",
       "      <td>...</td>\n",
       "      <td>...</td>\n",
       "      <td>...</td>\n",
       "      <td>...</td>\n",
       "      <td>...</td>\n",
       "      <td>...</td>\n",
       "      <td>...</td>\n",
       "      <td>...</td>\n",
       "      <td>...</td>\n",
       "    </tr>\n",
       "    <tr>\n",
       "      <th>6983202</th>\n",
       "      <td>109</td>\n",
       "      <td>ASSAULT 3 &amp; RELATED OFFENSES</td>\n",
       "      <td>COMPLETED</td>\n",
       "      <td>MISDEMEANOR</td>\n",
       "      <td>INSIDE</td>\n",
       "      <td>RESIDENCE - APT. HOUSE</td>\n",
       "      <td>N.Y. POLICE DEPT</td>\n",
       "      <td>NOT PARK</td>\n",
       "      <td>25-44</td>\n",
       "      <td>WHITE HISPANIC</td>\n",
       "      <td>M</td>\n",
       "      <td>40.785050</td>\n",
       "      <td>-73.856852</td>\n",
       "      <td>NOT SUBWAY</td>\n",
       "      <td>25-44</td>\n",
       "      <td>ASIAN / PACIFIC ISLANDER</td>\n",
       "      <td>F</td>\n",
       "      <td>2018-12-02 04:00:00</td>\n",
       "      <td>QUEENS</td>\n",
       "      <td>PATROL BORO QUEENS NORTH</td>\n",
       "    </tr>\n",
       "    <tr>\n",
       "      <th>6983203</th>\n",
       "      <td>25</td>\n",
       "      <td>OFF. AGNST PUB ORD SENSBLTY &amp;</td>\n",
       "      <td>COMPLETED</td>\n",
       "      <td>MISDEMEANOR</td>\n",
       "      <td>INSIDE</td>\n",
       "      <td>RESIDENCE - APT. HOUSE</td>\n",
       "      <td>N.Y. POLICE DEPT</td>\n",
       "      <td>NOT PARK</td>\n",
       "      <td>25-44</td>\n",
       "      <td>BLACK</td>\n",
       "      <td>F</td>\n",
       "      <td>40.801717</td>\n",
       "      <td>-73.937283</td>\n",
       "      <td>NOT SUBWAY</td>\n",
       "      <td>25-44</td>\n",
       "      <td>BLACK</td>\n",
       "      <td>M</td>\n",
       "      <td>2018-01-20 00:00:00</td>\n",
       "      <td>MANHATTAN</td>\n",
       "      <td>PATROL BORO MAN NORTH</td>\n",
       "    </tr>\n",
       "    <tr>\n",
       "      <th>6983204</th>\n",
       "      <td>41</td>\n",
       "      <td>CRIMINAL MISCHIEF &amp; RELATED OF</td>\n",
       "      <td>COMPLETED</td>\n",
       "      <td>FELONY</td>\n",
       "      <td>FRONT OF</td>\n",
       "      <td>STREET</td>\n",
       "      <td>N.Y. POLICE DEPT</td>\n",
       "      <td>NOT PARK</td>\n",
       "      <td>UNKNOWN</td>\n",
       "      <td>UNKNOWN</td>\n",
       "      <td>UNKNOWN</td>\n",
       "      <td>40.814612</td>\n",
       "      <td>-73.903637</td>\n",
       "      <td>NOT SUBWAY</td>\n",
       "      <td>25-44</td>\n",
       "      <td>BLACK HISPANIC</td>\n",
       "      <td>F</td>\n",
       "      <td>2018-08-03 22:00:00</td>\n",
       "      <td>BRONX</td>\n",
       "      <td>PATROL BORO BRONX</td>\n",
       "    </tr>\n",
       "    <tr>\n",
       "      <th>6983205</th>\n",
       "      <td>107</td>\n",
       "      <td>FRAUDS</td>\n",
       "      <td>COMPLETED</td>\n",
       "      <td>MISDEMEANOR</td>\n",
       "      <td>INSIDE</td>\n",
       "      <td>RESIDENCE - APT. HOUSE</td>\n",
       "      <td>N.Y. POLICE DEPT</td>\n",
       "      <td>NOT PARK</td>\n",
       "      <td>UNKNOWN</td>\n",
       "      <td>UNKNOWN</td>\n",
       "      <td>U</td>\n",
       "      <td>40.724699</td>\n",
       "      <td>-73.808549</td>\n",
       "      <td>NOT SUBWAY</td>\n",
       "      <td>18-24</td>\n",
       "      <td>ASIAN / PACIFIC ISLANDER</td>\n",
       "      <td>M</td>\n",
       "      <td>2018-12-10 11:00:00</td>\n",
       "      <td>QUEENS</td>\n",
       "      <td>PATROL BORO QUEENS SOUTH</td>\n",
       "    </tr>\n",
       "    <tr>\n",
       "      <th>6983206</th>\n",
       "      <td>67</td>\n",
       "      <td>GRAND LARCENY OF MOTOR VEHICLE</td>\n",
       "      <td>COMPLETED</td>\n",
       "      <td>FELONY</td>\n",
       "      <td>INSIDE</td>\n",
       "      <td>STORE UNCLASSIFIED</td>\n",
       "      <td>N.Y. POLICE DEPT</td>\n",
       "      <td>NOT PARK</td>\n",
       "      <td>UNKNOWN</td>\n",
       "      <td>UNKNOWN</td>\n",
       "      <td>UNKNOWN</td>\n",
       "      <td>40.650987</td>\n",
       "      <td>-73.935263</td>\n",
       "      <td>NOT SUBWAY</td>\n",
       "      <td>UNKNOWN</td>\n",
       "      <td>UNKNOWN</td>\n",
       "      <td>D</td>\n",
       "      <td>2018-11-15 10:00:00</td>\n",
       "      <td>BROOKLYN</td>\n",
       "      <td>PATROL BORO BKLYN SOUTH</td>\n",
       "    </tr>\n",
       "  </tbody>\n",
       "</table>\n",
       "<p>6416137 rows × 20 columns</p>\n",
       "</div>"
      ],
      "text/plain": [
       "         precinct_number                    offense_type crime_completed  \\\n",
       "0                     73  OFFENSES AGAINST PUBLIC ADMINI       COMPLETED   \n",
       "1                     69    ASSAULT 3 & RELATED OFFENSES       COMPLETED   \n",
       "2                     71                   HARRASSMENT 2       COMPLETED   \n",
       "3                    112                            RAPE       COMPLETED   \n",
       "4                     24                   GRAND LARCENY       COMPLETED   \n",
       "...                  ...                             ...             ...   \n",
       "6983202              109    ASSAULT 3 & RELATED OFFENSES       COMPLETED   \n",
       "6983203               25   OFF. AGNST PUB ORD SENSBLTY &       COMPLETED   \n",
       "6983204               41  CRIMINAL MISCHIEF & RELATED OF       COMPLETED   \n",
       "6983205              107                          FRAUDS       COMPLETED   \n",
       "6983206               67  GRAND LARCENY OF MOTOR VEHICLE       COMPLETED   \n",
       "\n",
       "        offense_level premise_desc                     premise  \\\n",
       "0         MISDEMEANOR       INSIDE  RESIDENCE - PUBLIC HOUSING   \n",
       "1         MISDEMEANOR       INSIDE             RESIDENCE-HOUSE   \n",
       "2           VIOLATION       INSIDE               PUBLIC SCHOOL   \n",
       "3              FELONY       INSIDE      RESIDENCE - APT. HOUSE   \n",
       "4              FELONY       INSIDE       DOCTOR/DENTIST OFFICE   \n",
       "...               ...          ...                         ...   \n",
       "6983202   MISDEMEANOR       INSIDE      RESIDENCE - APT. HOUSE   \n",
       "6983203   MISDEMEANOR       INSIDE      RESIDENCE - APT. HOUSE   \n",
       "6983204        FELONY     FRONT OF                      STREET   \n",
       "6983205   MISDEMEANOR       INSIDE      RESIDENCE - APT. HOUSE   \n",
       "6983206        FELONY       INSIDE          STORE UNCLASSIFIED   \n",
       "\n",
       "                jurisdiction park_name suspect_age    suspect_race  \\\n",
       "0        N.Y. HOUSING POLICE  NOT PARK       25-44           BLACK   \n",
       "1           N.Y. POLICE DEPT  NOT PARK     UNKNOWN         UNKNOWN   \n",
       "2           N.Y. POLICE DEPT  NOT PARK         <18           BLACK   \n",
       "3           N.Y. POLICE DEPT  NOT PARK       25-44  WHITE HISPANIC   \n",
       "4           N.Y. POLICE DEPT  NOT PARK     UNKNOWN         UNKNOWN   \n",
       "...                      ...       ...         ...             ...   \n",
       "6983202     N.Y. POLICE DEPT  NOT PARK       25-44  WHITE HISPANIC   \n",
       "6983203     N.Y. POLICE DEPT  NOT PARK       25-44           BLACK   \n",
       "6983204     N.Y. POLICE DEPT  NOT PARK     UNKNOWN         UNKNOWN   \n",
       "6983205     N.Y. POLICE DEPT  NOT PARK     UNKNOWN         UNKNOWN   \n",
       "6983206     N.Y. POLICE DEPT  NOT PARK     UNKNOWN         UNKNOWN   \n",
       "\n",
       "        suspect_sex   latitude  longitude        metro victim_age  \\\n",
       "0                 M  40.664239 -73.908425  NOT SUBWAY         <18   \n",
       "1           UNKNOWN  40.644590 -73.892672  NOT SUBWAY       45-64   \n",
       "2                 M  40.658758 -73.942435  NOT SUBWAY       18-24   \n",
       "3                 M  40.722364 -73.851474  NOT SUBWAY       25-44   \n",
       "4           UNKNOWN  40.793465 -73.968950  NOT SUBWAY       45-64   \n",
       "...             ...        ...        ...          ...        ...   \n",
       "6983202           M  40.785050 -73.856852  NOT SUBWAY       25-44   \n",
       "6983203           F  40.801717 -73.937283  NOT SUBWAY       25-44   \n",
       "6983204     UNKNOWN  40.814612 -73.903637  NOT SUBWAY       25-44   \n",
       "6983205           U  40.724699 -73.808549  NOT SUBWAY       18-24   \n",
       "6983206     UNKNOWN  40.650987 -73.935263  NOT SUBWAY     UNKNOWN   \n",
       "\n",
       "                      victim_race victim_sex               period    borough  \\\n",
       "0                           BLACK          M  2015-02-11 15:00:00   BROOKLYN   \n",
       "1                           BLACK          F  2012-03-17 10:00:00   BROOKLYN   \n",
       "2                           BLACK          M  2016-10-27 13:00:00   BROOKLYN   \n",
       "3                           WHITE          F  2014-11-27 19:00:00     QUEENS   \n",
       "4                           WHITE          F  2013-12-11 13:00:00  MANHATTAN   \n",
       "...                           ...        ...                  ...        ...   \n",
       "6983202  ASIAN / PACIFIC ISLANDER          F  2018-12-02 04:00:00     QUEENS   \n",
       "6983203                     BLACK          M  2018-01-20 00:00:00  MANHATTAN   \n",
       "6983204            BLACK HISPANIC          F  2018-08-03 22:00:00      BRONX   \n",
       "6983205  ASIAN / PACIFIC ISLANDER          M  2018-12-10 11:00:00     QUEENS   \n",
       "6983206                   UNKNOWN          D  2018-11-15 10:00:00   BROOKLYN   \n",
       "\n",
       "                   patrol_borough  \n",
       "0         PATROL BORO BKLYN NORTH  \n",
       "1         PATROL BORO BKLYN SOUTH  \n",
       "2         PATROL BORO BKLYN SOUTH  \n",
       "3        PATROL BORO QUEENS NORTH  \n",
       "4           PATROL BORO MAN NORTH  \n",
       "...                           ...  \n",
       "6983202  PATROL BORO QUEENS NORTH  \n",
       "6983203     PATROL BORO MAN NORTH  \n",
       "6983204         PATROL BORO BRONX  \n",
       "6983205  PATROL BORO QUEENS SOUTH  \n",
       "6983206   PATROL BORO BKLYN SOUTH  \n",
       "\n",
       "[6416137 rows x 20 columns]"
      ]
     },
     "execution_count": 2,
     "metadata": {},
     "output_type": "execute_result"
    }
   ],
   "source": [
    "df = Scaling()\n",
    "df.load_data()"
   ]
  },
  {
   "cell_type": "code",
   "execution_count": 3,
   "metadata": {
    "ExecuteTime": {
     "end_time": "2020-12-03T20:39:57.781298Z",
     "start_time": "2020-12-03T20:39:57.524614Z"
    }
   },
   "outputs": [],
   "source": [
    "sample = df.data[['period', 'latitude', 'longitude']]"
   ]
  },
  {
   "cell_type": "code",
   "execution_count": null,
   "metadata": {
    "ExecuteTime": {
     "end_time": "2020-12-03T19:55:17.175651Z",
     "start_time": "2020-12-03T19:55:17.131246Z"
    }
   },
   "outputs": [],
   "source": [
    "sample"
   ]
  },
  {
   "cell_type": "code",
   "execution_count": null,
   "metadata": {
    "ExecuteTime": {
     "end_time": "2020-12-03T19:55:18.607668Z",
     "start_time": "2020-12-03T19:55:17.435642Z"
    }
   },
   "outputs": [],
   "source": [
    "inf = sample['period'] > datetime(2013, 7, 1, 0, 0, 0)\n",
    "sup = sample['period'] < datetime(2013, 8, 1, 0, 0, 0)"
   ]
  },
  {
   "cell_type": "code",
   "execution_count": null,
   "metadata": {
    "ExecuteTime": {
     "end_time": "2020-12-03T19:55:18.894567Z",
     "start_time": "2020-12-03T19:55:18.814242Z"
    }
   },
   "outputs": [],
   "source": [
    "interval = sample[inf & sup]\n",
    "interval"
   ]
  },
  {
   "cell_type": "code",
   "execution_count": null,
   "metadata": {
    "ExecuteTime": {
     "end_time": "2020-12-03T19:55:19.215126Z",
     "start_time": "2020-12-03T19:55:19.180381Z"
    }
   },
   "outputs": [],
   "source": [
    "liste = np.sort(np.array(interval['period'].unique()))\n",
    "    \n",
    "lat_per_image = []\n",
    "lon_per_image = []\n",
    "length = len(liste)"
   ]
  },
  {
   "cell_type": "code",
   "execution_count": null,
   "metadata": {
    "ExecuteTime": {
     "end_time": "2020-12-03T19:55:35.700266Z",
     "start_time": "2020-12-03T19:55:35.652905Z"
    }
   },
   "outputs": [],
   "source": [
    "for index, timestamp in enumerate(liste[:2]):\n",
    "    if (index+1) % 10 ==0:\n",
    "        print(f'Grouping timestamp {index+1}/{length}')\n",
    "    by_hour = np.array(interval[interval['period']== timestamp][['latitude', 'longitude']])\n",
    "    #print(by_hour)\n",
    "    lat_per_image.append([coord[0] for coord in by_hour])\n",
    "    lon_per_image.append([coord[1] for coord in by_hour])\n",
    "    \n",
    "lat_per_image"
   ]
  },
  {
   "cell_type": "code",
   "execution_count": null,
   "metadata": {
    "ExecuteTime": {
     "end_time": "2020-12-03T20:10:08.921089Z",
     "start_time": "2020-12-03T20:10:08.853352Z"
    }
   },
   "outputs": [],
   "source": [
    "interval.resample('hour')"
   ]
  },
  {
   "cell_type": "code",
   "execution_count": null,
   "metadata": {
    "ExecuteTime": {
     "end_time": "2020-12-03T20:32:15.553984Z",
     "start_time": "2020-12-03T20:32:15.541205Z"
    }
   },
   "outputs": [],
   "source": [
    "from datetime import datetime\n",
    "\n",
    "def group_by_hour_list(df, year, month, day):#, sampling=True):\n",
    "    '''\n",
    "    get a sample of a month-time crimes grouped by hour\n",
    "    inputs = start_date info\n",
    "    '''\n",
    "    sample = df.data[['period', 'latitude', 'longitude']]\n",
    "    \n",
    "    #if sampling:\n",
    "    inf = sample['period'] > datetime(year, month, day, 0, 0, 0)\n",
    "    next_month = month+1\n",
    "    next_year = year\n",
    "    if month == 12:\n",
    "        next_month = 1\n",
    "        next_year = year+1\n",
    "    #print(next_year, next_month)\n",
    "    sup = sample['period'] < datetime(next_year, next_month, day, 0, 0, 0)\n",
    "    sample = sample[ inf & sup ]\n",
    "    \n",
    "    liste = np.sort(np.array(sample['period'].unique()))\n",
    "    length = len(liste)\n",
    "    lat_per_image = [[coord[1] for coord in np.array(sample[sample['period']== timestamp][['latitude', 'longitude']])]\\\n",
    "             for index, timestamp in enumerate(liste)]\n",
    "    lon_per_image = [[coord[0] for coord in np.array(sample[sample['period']== timestamp][['latitude', 'longitude']])]\\\n",
    "             for index, timestamp in enumerate(liste)]\n",
    "    \n",
    "    return lat_per_image, lon_per_image\n",
    "\n"
   ]
  },
  {
   "cell_type": "code",
   "execution_count": null,
   "metadata": {
    "ExecuteTime": {
     "end_time": "2020-12-03T20:32:42.497178Z",
     "start_time": "2020-12-03T20:32:26.857524Z"
    }
   },
   "outputs": [],
   "source": [
    "lats, lons = group_by_hour_list(df, 2013, 8, 5)#, sampling=False)"
   ]
  },
  {
   "cell_type": "code",
   "execution_count": null,
   "metadata": {},
   "outputs": [],
   "source": [
    "print(df.data['longitude'].min(), df.data['longitude'].max())"
   ]
  },
  {
   "cell_type": "code",
   "execution_count": null,
   "metadata": {
    "ExecuteTime": {
     "end_time": "2020-12-03T16:37:07.972604Z",
     "start_time": "2020-12-03T16:31:22.257754Z"
    },
    "scrolled": false
   },
   "outputs": [],
   "source": []
  },
  {
   "cell_type": "code",
   "execution_count": null,
   "metadata": {},
   "outputs": [],
   "source": []
  },
  {
   "cell_type": "code",
   "execution_count": null,
   "metadata": {},
   "outputs": [],
   "source": []
  },
  {
   "cell_type": "markdown",
   "metadata": {},
   "source": [
    "# Explore data"
   ]
  },
  {
   "cell_type": "code",
   "execution_count": 4,
   "metadata": {
    "ExecuteTime": {
     "end_time": "2020-12-03T20:40:05.381778Z",
     "start_time": "2020-12-03T20:40:05.367920Z"
    }
   },
   "outputs": [],
   "source": [
    "from datetime import datetime\n",
    "\n",
    "def group_by_hour(df, year, month, day):#, sampling=True):\n",
    "    '''\n",
    "    get a sample of a month-time crimes grouped by hour\n",
    "    inputs = start_date info\n",
    "    '''\n",
    "    sample = df.data[['period', 'latitude', 'longitude']]\n",
    "    \n",
    "    #if sampling:\n",
    "    inf = sample['period'] > datetime(year, month, day, 0, 0, 0)\n",
    "    next_month = month+1\n",
    "    next_year = year\n",
    "    if month == 12:\n",
    "        next_month = 1\n",
    "        next_year = year+1\n",
    "    #print(next_year, next_month)\n",
    "    sup = sample['period'] < datetime(next_year, next_month, day, 0, 0, 0)\n",
    "    sample = sample[ inf & sup ]\n",
    "    \n",
    "    liste = np.sort(np.array(sample['period'].unique()))\n",
    "    length = len(liste)\n",
    "    lat_per_image = []\n",
    "    lon_per_image = []\n",
    "    for index, timestamp in enumerate(liste):\n",
    "        if (index+1) % 100 ==0:\n",
    "            print(f'Grouping timestamp {index+1}/{length}')\n",
    "        by_hour = np.array(sample[sample['period']== timestamp][['latitude', 'longitude']])\n",
    "        lat_per_image.append([coord[0] for coord in by_hour])\n",
    "        lon_per_image.append([coord[1] for coord in by_hour])\n",
    "    return lat_per_image, lon_per_image"
   ]
  },
  {
   "cell_type": "code",
   "execution_count": 5,
   "metadata": {
    "ExecuteTime": {
     "end_time": "2020-12-03T20:40:16.070469Z",
     "start_time": "2020-12-03T20:40:07.053578Z"
    },
    "scrolled": true
   },
   "outputs": [
    {
     "name": "stdout",
     "output_type": "stream",
     "text": [
      "Grouping timestamp 100/743\n",
      "Grouping timestamp 200/743\n",
      "Grouping timestamp 300/743\n",
      "Grouping timestamp 400/743\n",
      "Grouping timestamp 500/743\n",
      "Grouping timestamp 600/743\n",
      "Grouping timestamp 700/743\n"
     ]
    }
   ],
   "source": [
    "lats, lons = group_by_hour(df, 2013, 8, 5)#, sampling=False)"
   ]
  },
  {
   "cell_type": "code",
   "execution_count": null,
   "metadata": {
    "ExecuteTime": {
     "end_time": "2020-12-03T20:25:14.278494Z",
     "start_time": "2020-12-03T20:25:14.271208Z"
    }
   },
   "outputs": [],
   "source": [
    "len(lons)"
   ]
  },
  {
   "cell_type": "code",
   "execution_count": null,
   "metadata": {
    "ExecuteTime": {
     "end_time": "2020-12-03T20:25:16.246122Z",
     "start_time": "2020-12-03T20:25:16.236384Z"
    }
   },
   "outputs": [],
   "source": [
    "len(lats)"
   ]
  },
  {
   "cell_type": "code",
   "execution_count": null,
   "metadata": {
    "ExecuteTime": {
     "end_time": "2020-12-03T20:25:22.969414Z",
     "start_time": "2020-12-03T20:25:21.461300Z"
    }
   },
   "outputs": [],
   "source": [
    "lons"
   ]
  },
  {
   "cell_type": "code",
   "execution_count": null,
   "metadata": {
    "ExecuteTime": {
     "end_time": "2020-12-03T20:25:28.613810Z",
     "start_time": "2020-12-03T20:25:27.156537Z"
    }
   },
   "outputs": [],
   "source": [
    "lats"
   ]
  },
  {
   "cell_type": "code",
   "execution_count": null,
   "metadata": {
    "ExecuteTime": {
     "end_time": "2020-12-03T14:27:04.258798Z",
     "start_time": "2020-12-03T14:27:03.701083Z"
    }
   },
   "outputs": [],
   "source": [
    "import matplotlib.pyplot as plt\n",
    "plt.scatter(lats[0], lons[0])"
   ]
  },
  {
   "cell_type": "code",
   "execution_count": null,
   "metadata": {},
   "outputs": [],
   "source": [
    "#latitude max-min de NYC\n",
    "40.934109, -74.051895 (NW)\n",
    "40.530765, -73.744835 (SE)\n",
    "\n",
    "#faire un maillage de NYC\n",
    "40.763934, -73.976322 to "
   ]
  },
  {
   "cell_type": "code",
   "execution_count": null,
   "metadata": {
    "ExecuteTime": {
     "end_time": "2020-12-03T15:13:43.740576Z",
     "start_time": "2020-12-03T15:13:43.673848Z"
    }
   },
   "outputs": [],
   "source": [
    "(40.934109 - 40.530765)/-0.00045 #latitude"
   ]
  },
  {
   "cell_type": "code",
   "execution_count": null,
   "metadata": {
    "ExecuteTime": {
     "end_time": "2020-12-03T15:12:00.047907Z",
     "start_time": "2020-12-03T15:11:59.981867Z"
    }
   },
   "outputs": [],
   "source": [
    "(-73.673232--74.051895)/0.006179099999999771  #longitude"
   ]
  },
  {
   "cell_type": "code",
   "execution_count": null,
   "metadata": {},
   "outputs": [],
   "source": []
  },
  {
   "cell_type": "code",
   "execution_count": null,
   "metadata": {
    "ExecuteTime": {
     "end_time": "2020-12-03T16:21:31.057004Z",
     "start_time": "2020-12-03T16:21:30.141177Z"
    }
   },
   "outputs": [],
   "source": []
  },
  {
   "cell_type": "code",
   "execution_count": null,
   "metadata": {
    "ExecuteTime": {
     "end_time": "2020-12-03T15:46:39.297124Z",
     "start_time": "2020-12-03T15:46:39.221888Z"
    }
   },
   "outputs": [],
   "source": [
    "#BOUNDS\n",
    "from shapely.geometry import Polygon\n",
    "import numpy as np\n",
    "points = gdf # for one image\n",
    "xmin, ymax = 40.887224, -74.261419 #(NW) \n",
    "xmax, ymin = 40.530765, -73.744835 #(SE)"
   ]
  },
  {
   "cell_type": "code",
   "execution_count": null,
   "metadata": {
    "ExecuteTime": {
     "end_time": "2020-12-03T16:17:06.246470Z",
     "start_time": "2020-12-03T16:17:06.156246Z"
    }
   },
   "outputs": [],
   "source": [
    "#import geopandas\n",
    "#from geopandas import GeoDataFrame, GeoSeries\n",
    "#import matplotlib.pyplot as plt\n",
    "#from matplotlib.colors import Normalize\n",
    "#import matplotlib.cm as cm\n",
    "#%matplotlib inline\n",
    "#import seaborn as sns\n",
    "#from shapely.geometry import Point, Polygon\n",
    "#import numpy as np\n",
    "#import googlemaps\n",
    "#from datetime import datetime\n",
    "#plt.rcParams[\"figure.figsize\"] = [8,6]\n",
    "\n",
    "# Get the shape-file for NYC\n",
    "#boros = GeoDataFrame.from_file('../raw_data/geo_export_b18517e0-34fa-4296-ba66-861a5dbbd96d.sh')\n",
    "#boros = boros.set_index('boro_code')\n",
    "#boros = boros.sort_index()\n",
    "\n",
    "# Plot and color by borough\n",
    "#boros.plot(column = 'boro_name')\n",
    "\n",
    "# Get rid of are that you aren't interested in (too far away)\n",
    "#plt.gca().set_xlim([-74.05, -73.85])\n",
    "#plt.gca().set_ylim([40.65, 40.9])\n",
    "\n",
    "# make a grid of latitude-longitude values\n",
    "#xmin, xmax, ymin, ymax = -74.05, -73.85, 40.65, 40.9\n",
    "#xx, yy = np.meshgrid(np.linspace(xmin,xmax,100), np.linspace(ymin,ymax,100))\n",
    "#xc = xx.flatten()\n",
    "#yc = yy.flatten()\n",
    "\n",
    "# Now convert these points to geo-data\n",
    "#pts = GeoSeries([Point(x, y) for x, y in zip(xc, yc)])\n",
    "#in_map =  np.array([pts.within(geom) for geom in boros.geometry]).sum(axis=0)\n",
    "#pts = GeoSeries([val for pos,val in enumerate(pts) if in_map[pos]])\n",
    "\n",
    "# Plot to make sure it makes sense:\n",
    "#pts.plot(markersize=1)"
   ]
  },
  {
   "cell_type": "code",
   "execution_count": null,
   "metadata": {
    "ExecuteTime": {
     "end_time": "2020-12-03T19:48:28.604023Z",
     "start_time": "2020-12-03T19:48:28.594017Z"
    }
   },
   "outputs": [],
   "source": [
    "#import geopandas\n",
    "#from geopandas import GeoDataFrame, GeoSeries\n",
    "#import matplotlib.pyplot as plt\n",
    "#from matplotlib.colors import Normalize\n",
    "#import matplotlib.cm as cm\n",
    "#%matplotlib inline\n",
    "#import seaborn as sns\n",
    "#from shapely.geometry import Point, Polygon\n",
    "#import numpy as np\n",
    "#import googlemaps\n",
    "#from datetime import datetime\n",
    "#plt.rcParams[\"figure.figsize\"] = [8,6]\n",
    "\n",
    "#fig, ax = plt.subplots()\n",
    "\n",
    "# make a grid of latitude-longitude values\n",
    "#xmin, xmax, ymin, ymax = -74.21, -73.73, 40.530765, 40.887224\n",
    "#xx, yy = np.meshgrid(np.linspace(xmin,xmax,100), np.linspace(ymin,ymax,100))\n",
    "#xc = xx.flatten()\n",
    "#yc = yy.flatten()\n",
    "\n",
    "# Now convert these points to geo-data\n",
    "#pts = GeoSeries([Point(x, y) for x, y in zip(xc, yc)])\n",
    "\n",
    "# Plot to make sure it makes sense:\n",
    "#pts.plot(markersize=1, ax=ax)\n",
    "#geo.plot(ax=ax)"
   ]
  },
  {
   "cell_type": "code",
   "execution_count": 6,
   "metadata": {
    "ExecuteTime": {
     "end_time": "2020-12-03T20:40:20.928035Z",
     "start_time": "2020-12-03T20:40:20.916591Z"
    }
   },
   "outputs": [],
   "source": [
    "geometry = [Point(xy) for xy in zip(lons[2], lats[2])]\n",
    "#df_geopandas = sample.drop(['longitude', 'latitude'], axis=1)\n",
    "gdf = GeoSeries(geometry)"
   ]
  },
  {
   "cell_type": "code",
   "execution_count": 7,
   "metadata": {
    "ExecuteTime": {
     "end_time": "2020-12-03T20:40:25.016329Z",
     "start_time": "2020-12-03T20:40:24.235595Z"
    }
   },
   "outputs": [
    {
     "data": {
      "image/png": "[encoded data removed]",
      "text/plain": [
       "<Figure size 1080x1080 with 1 Axes>"
      ]
     },
     "metadata": {
      "needs_background": "light"
     },
     "output_type": "display_data"
    }
   ],
   "source": [
    "import geopandas\n",
    "from geopandas import GeoDataFrame, GeoSeries\n",
    "import matplotlib.pyplot as plt\n",
    "from matplotlib.colors import Normalize\n",
    "import matplotlib.cm as cm\n",
    "%matplotlib inline\n",
    "import seaborn as sns\n",
    "from shapely.geometry import Point, Polygon\n",
    "import numpy as np\n",
    "import googlemaps\n",
    "from datetime import datetime\n",
    "plt.rcParams[\"figure.figsize\"] = [15, 15]\n",
    "\n",
    "\n",
    "fig, ax = plt.subplots()\n",
    "\n",
    "# make a grid of latitude-longitude values\n",
    "xmin, xmax, ymin, ymax = -74.21, -73.73, 40.49611539518921, 40.91553277600008\n",
    "xx, yy = np.meshgrid(np.linspace(xmin,xmax,100), np.linspace(ymin,ymax,100))\n",
    "xc = xx.flatten()\n",
    "yc = yy.flatten()\n",
    "\n",
    "# Now convert these points to geo-data\n",
    "pts = GeoSeries([Point(x, y) for x, y in zip(xc, yc)])\n",
    "\n",
    "# Plot to make sure it makes sense:\n",
    "#pts.plot(markersize=1, ax=ax)\n",
    "gdf.plot(ax=ax, color='black')\n",
    "plt.gca().axison=False\n",
    "\n",
    "#plt.savefig('../images/test.jpeg')\n",
    "extent = ax.get_window_extent().transformed(fig.dpi_scale_trans.inverted())\n",
    "fig.savefig('../images/image.jpeg', bbox_inches=extent)"
   ]
  },
  {
   "cell_type": "code",
   "execution_count": null,
   "metadata": {
    "ExecuteTime": {
     "end_time": "2020-12-03T17:34:37.433294Z",
     "start_time": "2020-12-03T17:34:37.319077Z"
    }
   },
   "outputs": [],
   "source": [
    "#from matplotlib.image import imread\n",
    "\n",
    "#img = imread('../images/test.jpeg', 0)\n",
    "#img.shape"
   ]
  },
  {
   "cell_type": "code",
   "execution_count": 8,
   "metadata": {
    "ExecuteTime": {
     "end_time": "2020-12-03T20:40:27.984723Z",
     "start_time": "2020-12-03T20:40:27.818547Z"
    }
   },
   "outputs": [],
   "source": [
    "from skimage import io\n",
    "img = io.imread('../images/image.jpeg', as_gray=False)"
   ]
  },
  {
   "cell_type": "code",
   "execution_count": 9,
   "metadata": {
    "ExecuteTime": {
     "end_time": "2020-12-03T20:40:29.589754Z",
     "start_time": "2020-12-03T20:40:29.579652Z"
    }
   },
   "outputs": [
    {
     "data": {
      "text/plain": [
       "(642, 837, 3)"
      ]
     },
     "execution_count": 9,
     "metadata": {},
     "output_type": "execute_result"
    }
   ],
   "source": [
    "img.shape"
   ]
  },
  {
   "cell_type": "code",
   "execution_count": null,
   "metadata": {
    "ExecuteTime": {
     "end_time": "2020-12-03T20:38:26.680386Z",
     "start_time": "2020-12-03T20:38:26.643998Z"
    }
   },
   "outputs": [],
   "source": [
    "np.unique(img)"
   ]
  },
  {
   "cell_type": "code",
   "execution_count": null,
   "metadata": {
    "ExecuteTime": {
     "end_time": "2020-12-03T20:38:46.251761Z",
     "start_time": "2020-12-03T20:38:45.774589Z"
    }
   },
   "outputs": [],
   "source": [
    "plt.imshow(img)"
   ]
  },
  {
   "cell_type": "code",
   "execution_count": null,
   "metadata": {},
   "outputs": [],
   "source": []
  },
  {
   "cell_type": "code",
   "execution_count": 42,
   "metadata": {
    "ExecuteTime": {
     "end_time": "2020-12-03T21:08:01.727235Z",
     "start_time": "2020-12-03T21:07:55.790563Z"
    }
   },
   "outputs": [
    {
     "data": {
      "image/png": "[encoded data removed]",
      "text/plain": [
       "<Figure size 1080x1080 with 1 Axes>"
      ]
     },
     "metadata": {
      "needs_background": "light"
     },
     "output_type": "display_data"
    },
    {
     "data": {
      "image/png": "[encoded data removed]",
      "text/plain": [
       "<Figure size 1080x1080 with 1 Axes>"
      ]
     },
     "metadata": {
      "needs_background": "light"
     },
     "output_type": "display_data"
    },
    {
     "data": {
      "image/png": "[encoded data removed]",
      "text/plain": [
       "<Figure size 1080x1080 with 1 Axes>"
      ]
     },
     "metadata": {
      "needs_background": "light"
     },
     "output_type": "display_data"
    },
    {
     "data": {
      "image/png": "[encoded data removed]",
      "text/plain": [
       "<Figure size 1080x1080 with 1 Axes>"
      ]
     },
     "metadata": {
      "needs_background": "light"
     },
     "output_type": "display_data"
    },
    {
     "data": {
      "image/png": "[encoded data removed]",
      "text/plain": [
       "<Figure size 1080x1080 with 1 Axes>"
      ]
     },
     "metadata": {
      "needs_background": "light"
     },
     "output_type": "display_data"
    },
    {
     "data": {
      "image/png": "[encoded data removed]",
      "text/plain": [
       "<Figure size 1080x1080 with 1 Axes>"
      ]
     },
     "metadata": {
      "needs_background": "light"
     },
     "output_type": "display_data"
    },
    {
     "data": {
      "image/png": "[encoded data removed]",
      "text/plain": [
       "<Figure size 1080x1080 with 1 Axes>"
      ]
     },
     "metadata": {
      "needs_background": "light"
     },
     "output_type": "display_data"
    },
    {
     "data": {
      "image/png": "[encoded data removed]",
      "text/plain": [
       "<Figure size 1080x1080 with 1 Axes>"
      ]
     },
     "metadata": {
      "needs_background": "light"
     },
     "output_type": "display_data"
    },
    {
     "data": {
      "image/png": "[encoded data removed]",
      "text/plain": [
       "<Figure size 1080x1080 with 1 Axes>"
      ]
     },
     "metadata": {
      "needs_background": "light"
     },
     "output_type": "display_data"
    },
    {
     "data": {
      "image/png": "[encoded data removed]",
      "text/plain": [
       "<Figure size 1080x1080 with 1 Axes>"
      ]
     },
     "metadata": {
      "needs_background": "light"
     },
     "output_type": "display_data"
    }
   ],
   "source": [
    "import geopandas\n",
    "from geopandas import GeoDataFrame, GeoSeries\n",
    "import matplotlib.pyplot as plt\n",
    "from matplotlib.colors import Normalize\n",
    "import matplotlib.cm as cm\n",
    "%matplotlib inline\n",
    "import seaborn as sns\n",
    "from shapely.geometry import Point, Polygon\n",
    "import numpy as np\n",
    "import googlemaps\n",
    "from datetime import datetime\n",
    "from skimage import io\n",
    "plt.rcParams[\"figure.figsize\"] = [15, 15]\n",
    "\n",
    "img_list = []\n",
    "for i in range (10):\n",
    "    geometry = [Point(xy) for xy in zip(lons[i], lats[i])]\n",
    "    gdf = GeoSeries(geometry)\n",
    "    \n",
    "    fig, ax = plt.subplots()\n",
    "\n",
    "    # make a grid of latitude-longitude values\n",
    "    #xmin, xmax, ymin, ymax = -74.25559136315213, -73.70000906387347, 40.49611539518921, 40.91553277600008\n",
    "    #xx, yy = np.meshgrid(np.linspace(xmin,xmax,100), np.linspace(ymin,ymax,100))\n",
    "    #xc = xx.flatten()\n",
    "    #yc = yy.flatten()\n",
    "\n",
    "    # Now convert these points to geo-data\n",
    "    #pts = GeoSeries([Point(x, y) for x, y in zip(xc, yc)])\n",
    "\n",
    "    # Plot to make sure it makes sense:\n",
    "    #pts.plot(markersize=1, ax=ax)\n",
    "    #ax.axison=False\n",
    "    ax.set_xlim(left=-74.25559136315213, right=-73.70000906387347)\n",
    "    ax.set_ylim(bottom = 40.49611539518921, top=40.91553277600008)\n",
    "    \n",
    "    gdf.plot(ax=ax, color='black')\n",
    "    \n",
    "    #save plot\n",
    "    extent = ax.get_window_extent().transformed(fig.dpi_scale_trans.inverted())\n",
    "    fig.savefig('../images/image.jpeg', bbox_inches=extent)\n",
    "    #read plot as np.array\n",
    "    img = io.imread('../images/image.jpeg')\n",
    "    # add np.array to list\n",
    "    img_list.append(img)\n",
    "img_list = np.array(img_list)"
   ]
  },
  {
   "cell_type": "code",
   "execution_count": 43,
   "metadata": {
    "ExecuteTime": {
     "end_time": "2020-12-03T21:08:03.608081Z",
     "start_time": "2020-12-03T21:08:03.598483Z"
    }
   },
   "outputs": [
    {
     "data": {
      "text/plain": [
       "(10, 631, 837, 3)"
      ]
     },
     "execution_count": 43,
     "metadata": {},
     "output_type": "execute_result"
    }
   ],
   "source": [
    "img_list.shape"
   ]
  },
  {
   "cell_type": "code",
   "execution_count": 44,
   "metadata": {
    "ExecuteTime": {
     "end_time": "2020-12-03T21:08:15.848913Z",
     "start_time": "2020-12-03T21:08:15.368699Z"
    }
   },
   "outputs": [
    {
     "data": {
      "text/plain": [
       "<matplotlib.image.AxesImage at 0x127c10eb0>"
      ]
     },
     "execution_count": 44,
     "metadata": {},
     "output_type": "execute_result"
    },
    {
     "data": {
      "image/png": "[encoded data removed]",
      "text/plain": [
       "<Figure size 1080x1080 with 1 Axes>"
      ]
     },
     "metadata": {
      "needs_background": "light"
     },
     "output_type": "display_data"
    }
   ],
   "source": [
    "plt.imshow(img_list[1])"
   ]
  },
  {
   "cell_type": "markdown",
   "metadata": {},
   "source": [
    "# Get boundaries"
   ]
  },
  {
   "cell_type": "code",
   "execution_count": 20,
   "metadata": {
    "ExecuteTime": {
     "end_time": "2020-12-03T20:44:35.508749Z",
     "start_time": "2020-12-03T20:44:35.499485Z"
    }
   },
   "outputs": [],
   "source": [
    "import pandas as pd"
   ]
  },
  {
   "cell_type": "code",
   "execution_count": 21,
   "metadata": {
    "ExecuteTime": {
     "end_time": "2020-12-03T20:44:36.604729Z",
     "start_time": "2020-12-03T20:44:36.566826Z"
    }
   },
   "outputs": [],
   "source": [
    "boundaries = pd.read_csv('../raw_data/nybb.csv')"
   ]
  },
  {
   "cell_type": "code",
   "execution_count": null,
   "metadata": {
    "ExecuteTime": {
     "end_time": "2020-12-03T19:07:46.480505Z",
     "start_time": "2020-12-03T19:07:46.425935Z"
    }
   },
   "outputs": [],
   "source": [
    "boundaries"
   ]
  },
  {
   "cell_type": "code",
   "execution_count": null,
   "metadata": {
    "ExecuteTime": {
     "end_time": "2020-12-03T19:07:49.390105Z",
     "start_time": "2020-12-03T19:07:49.355673Z"
    }
   },
   "outputs": [],
   "source": [
    "boundaries['the_geom'][0]"
   ]
  },
  {
   "cell_type": "code",
   "execution_count": null,
   "metadata": {},
   "outputs": [],
   "source": []
  },
  {
   "cell_type": "code",
   "execution_count": null,
   "metadata": {
    "ExecuteTime": {
     "end_time": "2020-12-03T18:47:15.600506Z",
     "start_time": "2020-12-03T18:47:15.470215Z"
    }
   },
   "outputs": [],
   "source": [
    "bounds = boudaries['the_geom'][0].replace('MULTIPOLYGON','')\\\n",
    "                                .replace('(','')\\\n",
    "                                .replace(')','')\\\n",
    "                                .strip().\\\n",
    "                                replace(' ',',')\\\n",
    "                                .split(',')\n",
    "bound"
   ]
  },
  {
   "cell_type": "code",
   "execution_count": null,
   "metadata": {
    "ExecuteTime": {
     "end_time": "2020-12-03T18:50:55.308602Z",
     "start_time": "2020-12-03T18:50:55.181053Z"
    }
   },
   "outputs": [],
   "source": [
    "coords = [float(element) for element in bound if element != '']\n",
    "coords"
   ]
  },
  {
   "cell_type": "code",
   "execution_count": null,
   "metadata": {
    "ExecuteTime": {
     "end_time": "2020-12-03T16:46:15.063088Z",
     "start_time": "2020-12-03T16:46:14.965635Z"
    }
   },
   "outputs": [],
   "source": [
    "latitude = []\n",
    "longitude = []\n",
    "for element in coords:\n",
    "    if element > 0:\n",
    "        latitude.append(element)\n",
    "    else:\n",
    "        longitude.append(element)\n",
    "print(min(latitude), max(latitude))\n",
    "print(min(longitude), max(longitude))"
   ]
  },
  {
   "cell_type": "code",
   "execution_count": 13,
   "metadata": {
    "ExecuteTime": {
     "end_time": "2020-12-03T20:44:15.527829Z",
     "start_time": "2020-12-03T20:44:15.517790Z"
    }
   },
   "outputs": [],
   "source": [
    "def get_local_min_max(coords):\n",
    "    \n",
    "    latitude = []\n",
    "    longitude = []\n",
    "    for element in coords:\n",
    "        if element > 0:\n",
    "            latitude.append(element)\n",
    "        else:\n",
    "            longitude.append(element)\n",
    "    min_max_lat = [min(latitude), max(latitude)]\n",
    "    min_max_lon = [min(longitude), max(longitude)]\n",
    "    return min_max_lat, min_max_lon"
   ]
  },
  {
   "cell_type": "code",
   "execution_count": 14,
   "metadata": {
    "ExecuteTime": {
     "end_time": "2020-12-03T20:44:16.609281Z",
     "start_time": "2020-12-03T20:44:16.595372Z"
    }
   },
   "outputs": [],
   "source": [
    "def compare_lon_lat(lat, lon, best_lat, best_lon):\n",
    "    #print(lat, best_lat)\n",
    "    if lat[0] < best_lat[0]:\n",
    "        best_lat[0] = lat[0]\n",
    "    if lat[1] > best_lat[1]:\n",
    "        best_lat[1] = lat[1]\n",
    "    if lon[0] < best_lon[0]:\n",
    "        best_lon[0] = lon[0]\n",
    "    if lon[1] > best_lon[1]:\n",
    "        best_lon[1] = lon[1]\n",
    "    return best_lat, best_lon"
   ]
  },
  {
   "cell_type": "code",
   "execution_count": 15,
   "metadata": {
    "ExecuteTime": {
     "end_time": "2020-12-03T20:44:17.688041Z",
     "start_time": "2020-12-03T20:44:17.677626Z"
    }
   },
   "outputs": [],
   "source": [
    "def absolute_min_max(boundaries):\n",
    "    best_lat = [0,0]\n",
    "    best_lon = [0,0]\n",
    "    for borough in range(boundaries.shape[0]):\n",
    "        bounds = boundaries['the_geom'][borough].replace('MULTIPOLYGON','')\\\n",
    "                                .replace('(','')\\\n",
    "                                .replace(')','')\\\n",
    "                                .strip().\\\n",
    "                                replace(' ',',')\\\n",
    "                                .split(',')\n",
    "        coords = [float(element) for element in bounds if element != '']\n",
    "        lat, lon = get_local_min_max(coords)\n",
    "        #import ipdb ; ipdb.set_trace()\n",
    "        if (best_lat == [0,0]) & (best_lon ==[0,0]):\n",
    "            best_lat = lat\n",
    "            best_lon = lon\n",
    "        else:\n",
    "            best_lat, best_lon = compare_lon_lat(lat, lon, best_lat, best_lon)\n",
    "    return best_lat, best_lon"
   ]
  },
  {
   "cell_type": "code",
   "execution_count": 22,
   "metadata": {
    "ExecuteTime": {
     "end_time": "2020-12-03T20:44:39.031905Z",
     "start_time": "2020-12-03T20:44:38.828023Z"
    }
   },
   "outputs": [
    {
     "data": {
      "text/plain": [
       "([40.49611539518921, 40.91553277600008],\n",
       " [-74.25559136315213, -73.70000906387347])"
      ]
     },
     "execution_count": 22,
     "metadata": {},
     "output_type": "execute_result"
    }
   ],
   "source": [
    "absolute_min_max(boundaries)"
   ]
  },
  {
   "cell_type": "code",
   "execution_count": null,
   "metadata": {},
   "outputs": [],
   "source": []
  }
 ],
 "metadata": {
  "kernelspec": {
   "display_name": "Python 3",
   "language": "python",
   "name": "python3"
  },
  "language_info": {
   "codemirror_mode": {
    "name": "ipython",
    "version": 3
   },
   "file_extension": ".py",
   "mimetype": "text/x-python",
   "name": "python",
   "nbconvert_exporter": "python",
   "pygments_lexer": "ipython3",
   "version": "3.8.5"
  },
  "toc": {
   "base_numbering": 1,
   "nav_menu": {},
   "number_sections": true,
   "sideBar": true,
   "skip_h1_title": false,
   "title_cell": "Table of Contents",
   "title_sidebar": "Contents",
   "toc_cell": false,
   "toc_position": {},
   "toc_section_display": true,
   "toc_window_display": false
  },
  "varInspector": {
   "cols": {
    "lenName": 16,
    "lenType": 16,
    "lenVar": 40
   },
   "kernels_config": {
    "python": {
     "delete_cmd_postfix": "",
     "delete_cmd_prefix": "del ",
     "library": "var_list.py",
     "varRefreshCmd": "print(var_dic_list())"
    },
    "r": {
     "delete_cmd_postfix": ") ",
     "delete_cmd_prefix": "rm(",
     "library": "var_list.r",
     "varRefreshCmd": "cat(var_dic_list()) "
    }
   },
   "types_to_exclude": [
    "module",
    "function",
    "builtin_function_or_method",
    "instance",
    "_Feature"
   ],
   "window_display": false
  }
 },
 "nbformat": 4,
 "nbformat_minor": 4
}
