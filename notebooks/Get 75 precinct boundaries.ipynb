{
 "cells": [
  {
   "cell_type": "markdown",
   "metadata": {},
   "source": [
    "# Get 75 precinct boundaries"
   ]
  },
  {
   "cell_type": "code",
   "execution_count": 1,
   "metadata": {
    "ExecuteTime": {
     "end_time": "2021-01-15T13:26:54.354045Z",
     "start_time": "2021-01-15T13:26:53.785258Z"
    }
   },
   "outputs": [],
   "source": [
    "import pandas as pd"
   ]
  },
  {
   "cell_type": "code",
   "execution_count": 6,
   "metadata": {
    "ExecuteTime": {
     "end_time": "2021-01-15T13:27:42.793935Z",
     "start_time": "2021-01-15T13:27:42.743322Z"
    }
   },
   "outputs": [
    {
     "data": {
      "text/html": [
       "<div>\n",
       "<style scoped>\n",
       "    .dataframe tbody tr th:only-of-type {\n",
       "        vertical-align: middle;\n",
       "    }\n",
       "\n",
       "    .dataframe tbody tr th {\n",
       "        vertical-align: top;\n",
       "    }\n",
       "\n",
       "    .dataframe thead th {\n",
       "        text-align: right;\n",
       "    }\n",
       "</style>\n",
       "<table border=\"1\" class=\"dataframe\">\n",
       "  <thead>\n",
       "    <tr style=\"text-align: right;\">\n",
       "      <th></th>\n",
       "      <th>Shape_Area</th>\n",
       "      <th>the_geom</th>\n",
       "      <th>Shape_Leng</th>\n",
       "      <th>Precinct</th>\n",
       "    </tr>\n",
       "  </thead>\n",
       "  <tbody>\n",
       "    <tr>\n",
       "      <th>26</th>\n",
       "      <td>1.803815e+08</td>\n",
       "      <td>MULTIPOLYGON (((-73.8502309076287 40.623320823...</td>\n",
       "      <td>106041.948809</td>\n",
       "      <td>75</td>\n",
       "    </tr>\n",
       "  </tbody>\n",
       "</table>\n",
       "</div>"
      ],
      "text/plain": [
       "      Shape_Area                                           the_geom  \\\n",
       "26  1.803815e+08  MULTIPOLYGON (((-73.8502309076287 40.623320823...   \n",
       "\n",
       "       Shape_Leng  Precinct  \n",
       "26  106041.948809        75  "
      ]
     },
     "execution_count": 6,
     "metadata": {},
     "output_type": "execute_result"
    }
   ],
   "source": [
    "precincts = pd.read_csv('../raw_data/nypp.csv')\n",
    "precincts = precincts[precincts['Precinct']==75]\n",
    "precincts"
   ]
  },
  {
   "cell_type": "code",
   "execution_count": 7,
   "metadata": {
    "ExecuteTime": {
     "end_time": "2021-01-15T13:27:56.182484Z",
     "start_time": "2021-01-15T13:27:56.174380Z"
    }
   },
   "outputs": [],
   "source": [
    "def get_local_min_max(coords):\n",
    "    \n",
    "    latitude = []\n",
    "    longitude = []\n",
    "    for element in coords:\n",
    "        if element > 0:\n",
    "            latitude.append(element)\n",
    "        else:\n",
    "            longitude.append(element)\n",
    "    min_max_lat = [min(latitude), max(latitude)]\n",
    "    min_max_lon = [min(longitude), max(longitude)]\n",
    "    return min_max_lat, min_max_lon"
   ]
  },
  {
   "cell_type": "code",
   "execution_count": 8,
   "metadata": {
    "ExecuteTime": {
     "end_time": "2021-01-15T13:28:04.475891Z",
     "start_time": "2021-01-15T13:28:04.462877Z"
    }
   },
   "outputs": [],
   "source": [
    "def compare_lon_lat(lat, lon, best_lat, best_lon):\n",
    "    #print(lat, best_lat)\n",
    "    if lat[0] < best_lat[0]:\n",
    "        best_lat[0] = lat[0]\n",
    "    if lat[1] > best_lat[1]:\n",
    "        best_lat[1] = lat[1]\n",
    "    if lon[0] < best_lon[0]:\n",
    "        best_lon[0] = lon[0]\n",
    "    if lon[1] > best_lon[1]:\n",
    "        best_lon[1] = lon[1]\n",
    "    return best_lat, best_lon"
   ]
  },
  {
   "cell_type": "code",
   "execution_count": 28,
   "metadata": {
    "ExecuteTime": {
     "end_time": "2021-01-15T13:32:17.625662Z",
     "start_time": "2021-01-15T13:32:17.615871Z"
    }
   },
   "outputs": [],
   "source": [
    "def min_max_by_borough(boundaries):\n",
    "    best_lat = [0,0]\n",
    "    best_lon = [0,0]\n",
    "    bounds = boundaries['the_geom'].iloc[0].replace('MULTIPOLYGON','')\\\n",
    "                            .replace('(','')\\\n",
    "                            .replace(')','')\\\n",
    "                            .strip().\\\n",
    "                            replace(' ',',')\\\n",
    "                            .split(',')\n",
    "    coords = [float(element) for element in bounds if element != '']\n",
    "    lat, lon = get_local_min_max(coords)\n",
    "    #import ipdb ; ipdb.set_trace()\n",
    "    if (best_lat == [0,0]) & (best_lon ==[0,0]):\n",
    "        best_lat = lat\n",
    "        best_lon = lon\n",
    "    else:\n",
    "        best_lat, best_lon = compare_lon_lat(lat, lon, best_lat, best_lon)\n",
    "    return best_lat, best_lon"
   ]
  },
  {
   "cell_type": "code",
   "execution_count": 12,
   "metadata": {
    "ExecuteTime": {
     "end_time": "2021-01-15T13:29:28.797105Z",
     "start_time": "2021-01-15T13:29:28.783935Z"
    }
   },
   "outputs": [
    {
     "data": {
      "text/plain": [
       "Index(['Shape_Area', 'the_geom', 'Shape_Leng', 'Precinct'], dtype='object')"
      ]
     },
     "execution_count": 12,
     "metadata": {},
     "output_type": "execute_result"
    }
   ],
   "source": [
    "precincts.columns"
   ]
  },
  {
   "cell_type": "code",
   "execution_count": 29,
   "metadata": {
    "ExecuteTime": {
     "end_time": "2021-01-15T13:32:30.344421Z",
     "start_time": "2021-01-15T13:32:30.313414Z"
    }
   },
   "outputs": [
    {
     "data": {
      "text/plain": [
       "([40.6218192717505, 40.6951504231971],\n",
       " [-73.90404639808888, -73.83559344190869])"
      ]
     },
     "execution_count": 29,
     "metadata": {},
     "output_type": "execute_result"
    }
   ],
   "source": [
    "min_max_by_borough(precincts)"
   ]
  },
  {
   "cell_type": "code",
   "execution_count": null,
   "metadata": {},
   "outputs": [],
   "source": []
  }
 ],
 "metadata": {
  "kernelspec": {
   "display_name": "Python 3",
   "language": "python",
   "name": "python3"
  },
  "language_info": {
   "codemirror_mode": {
    "name": "ipython",
    "version": 3
   },
   "file_extension": ".py",
   "mimetype": "text/x-python",
   "name": "python",
   "nbconvert_exporter": "python",
   "pygments_lexer": "ipython3",
   "version": "3.8.5"
  },
  "toc": {
   "base_numbering": 1,
   "nav_menu": {},
   "number_sections": true,
   "sideBar": true,
   "skip_h1_title": false,
   "title_cell": "Table of Contents",
   "title_sidebar": "Contents",
   "toc_cell": false,
   "toc_position": {},
   "toc_section_display": true,
   "toc_window_display": false
  },
  "varInspector": {
   "cols": {
    "lenName": 16,
    "lenType": 16,
    "lenVar": 40
   },
   "kernels_config": {
    "python": {
     "delete_cmd_postfix": "",
     "delete_cmd_prefix": "del ",
     "library": "var_list.py",
     "varRefreshCmd": "print(var_dic_list())"
    },
    "r": {
     "delete_cmd_postfix": ") ",
     "delete_cmd_prefix": "rm(",
     "library": "var_list.r",
     "varRefreshCmd": "cat(var_dic_list()) "
    }
   },
   "types_to_exclude": [
    "module",
    "function",
    "builtin_function_or_method",
    "instance",
    "_Feature"
   ],
   "window_display": false
  }
 },
 "nbformat": 4,
 "nbformat_minor": 4
}
