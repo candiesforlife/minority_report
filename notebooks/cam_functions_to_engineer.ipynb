{
 "cells": [
  {
   "cell_type": "code",
   "execution_count": 1,
   "metadata": {
    "ExecuteTime": {
     "end_time": "2020-12-05T10:17:32.126614Z",
     "start_time": "2020-12-05T10:17:29.819498Z"
    }
   },
   "outputs": [],
   "source": [
    "\n",
    "import pandas as pd\n",
    "import numpy as np\n"
   ]
  },
  {
   "cell_type": "code",
   "execution_count": 7,
   "metadata": {
    "ExecuteTime": {
     "end_time": "2020-12-05T16:26:52.535680Z",
     "start_time": "2020-12-05T16:26:52.485750Z"
    }
   },
   "outputs": [],
   "source": [
    "def from_meters_to_coords(lat_meters, lon_meters):\n",
    "    \"\"\"\n",
    "    gives the latitude and longitude step to use for the grid buckets\n",
    "    lat_meters, lon_meters = lat/lon step\n",
    "    \"\"\"\n",
    "    #Position, decimal degrees\n",
    "    lat = 40\n",
    "    lon = -73\n",
    "\n",
    "    #Earth’s radius, sphere\n",
    "    R=6378137\n",
    "\n",
    "    #offsets in meters\n",
    "    dn = lat_meters\n",
    "    de = lon_meters\n",
    "\n",
    "    #Coordinate offsets in radians\n",
    "    dLat = dn/R\n",
    "    dLon = de/(R*np.cos(np.pi*lat/180))\n",
    "\n",
    "    #OffsetPosition, decimal degrees\n",
    "    latO = dLat * 180/np.pi\n",
    "    lonO = dLon * 180/np.pi \n",
    "\n",
    "    del lat, lon, R, dn, de, dLat, dLon\n",
    "\n",
    "    return latO, lonO"
   ]
  },
  {
   "cell_type": "code",
   "execution_count": 5,
   "metadata": {
    "ExecuteTime": {
     "end_time": "2020-12-05T11:24:32.893704Z",
     "start_time": "2020-12-05T11:24:32.873310Z"
    }
   },
   "outputs": [],
   "source": [
    "def from_coord_to_matrix(df, lat_meters, lon_meters):\n",
    "    \"\"\"\n",
    "    outputs the 3D matrix of all coordinates for a given bucket height and width in meters\n",
    "    \"\"\"\n",
    "    df=df.copy()\n",
    "    #add 'time_index' column to df\n",
    "    ind = {time:index for index,time in enumerate(np.sort(df['period'].unique()))}\n",
    "    df['time_index'] = df['period'].map(ind)\n",
    "    \n",
    "    #initiate matrix\n",
    "    grid_offset = np.array([0, -40.91553277600008,  -74.25559136315213,]) # Where do you start\n",
    "    #from meters to lat/lon step\n",
    "    lat_spacing, lon_spacing = from_meters_to_coords(lat_meters, lon_meters )\n",
    "    grid_spacing = np.array([1, lat_spacing , lon_spacing]) # What's the space you consider (euclidian here)\n",
    "     \n",
    "    \n",
    "    #get points coordinates\n",
    "    coords = np.array([(t_ind, -lat, lon) for t_ind, lat, lon \\\n",
    "                   in zip(df['time_index'],df['latitude'],df['longitude'])])\n",
    "    \n",
    "    \n",
    "    # Convert point to index\n",
    "    indexes = np.round((coords - grid_offset)/grid_spacing).astype('int')\n",
    "    Z = indexes[:,0]\n",
    "    Y = indexes[:,1]\n",
    "    X = indexes[:,2]\n",
    "    \n",
    "    #virgin matrix\n",
    "    a = np.zeros((Z.max()+1, Y.max()+1, X.max()+1))\n",
    "   \n",
    "    \n",
    "    a[Z, Y, X]=1\n",
    "    \n",
    "    del ind, grid_offset, lat_spacing, lon_spacing, grid_spacing, coords, indexes, Z, Y, X\n",
    "    \n",
    "    return a, a.shape[1], a.shape[2]"
   ]
  },
  {
   "cell_type": "code",
   "execution_count": null,
   "metadata": {},
   "outputs": [],
   "source": [
    "def from_matrix_to_coord(indexes, lat_meters, lon_meters):\n",
    "    \"\"\"\n",
    "    gives back the coordinates from a 3D matrix for a given bucket height and width\n",
    "    \"\"\"\n",
    "    # Where do you start\n",
    "    grid_offset = np.array([0, -40.91553277600008,  -74.25559136315213,]) \n",
    "    \n",
    "    #from meters to lat/lon step\n",
    "    lat_spacing, lon_spacing = from_meters_to_coords(lat_meters, lon_meters )\n",
    "    \n",
    "    # What's the space you consider (euclidian here)\n",
    "    grid_spacing = np.array([1, lat_spacing, lon_spacing]) \n",
    "    \n",
    "    result = grid_offset + indexes * grid_spacing\n",
    "    return result"
   ]
  },
  {
   "cell_type": "code",
   "execution_count": 6,
   "metadata": {
    "ExecuteTime": {
     "end_time": "2020-12-05T14:35:16.659503Z",
     "start_time": "2020-12-05T14:35:16.506806Z"
    }
   },
   "outputs": [],
   "source": [
    "def get_observation_target(img3D_conv, x_length, y_length):\n",
    "    '''\n",
    "    output an observation of x_length consecutive images and the y_length next images as the target\n",
    "    '''\n",
    "    position = np.random.randint(0, img3D_conv.shape[0] - (x_length + y_length))\n",
    "    observation = img3D_conv[position:position + x_length]\n",
    "    target = img3D_conv[position + x_length:position + (x_length + y_length)].flatten()\n",
    "    \n",
    "    del position \n",
    "\n",
    "    return observation, target"
   ]
  },
  {
   "cell_type": "code",
   "execution_count": 4,
   "metadata": {
    "ExecuteTime": {
     "end_time": "2020-12-05T11:08:09.448201Z",
     "start_time": "2020-12-05T11:08:09.436274Z"
    }
   },
   "outputs": [],
   "source": [
    "def get_X_y(img3D_conv, number_of_observations, x_length, y_length):\n",
    "    '''\n",
    "    outputs n observations and their associated targets\n",
    "    '''\n",
    "    X = []\n",
    "    y = []\n",
    "    \n",
    "    for n in range(number_of_observations):\n",
    "        X_subsample, y_subsample = get_observation_target(img3D_conv, x_length, y_length)\n",
    "        X.append(X_subsample)\n",
    "        y.append(y_subsample)\n",
    "        \n",
    "    X = np.array(X)\n",
    "    y = np.array(y)\n",
    "\n",
    "    del X_subsample, y_subsample, n\n",
    "    \n",
    "    return X, y"
   ]
  },
  {
   "cell_type": "code",
   "execution_count": null,
   "metadata": {},
   "outputs": [],
   "source": [
    "def init_model(x_length, y_length, lat_size, lon_size):\n",
    "    print('initializing model')\n",
    "    model = models.Sequential()\n",
    "    \n",
    "    print('adding conv2D 1')\n",
    "    model.add(layers.Conv2D(16, kernel_size = 5, activation = 'relu',padding='same',\n",
    "                            input_shape = (x_length, lat_size, lon_size),\n",
    "                           data_format='channels_first'))\n",
    "    model.add(layers.MaxPooling2D(2, data_format='channels_first'))\n",
    "\n",
    "    print('adding conv2D 2')\n",
    "    model.add(layers.Conv2D(128, kernel_size = 3, activation = 'relu', padding='same',  data_format='channels_first'))\n",
    "    model.add(layers.MaxPooling2D(2, data_format='channels_first'))\n",
    "\n",
    "    print('adding conv2D 3')\n",
    "    model.add(layers.Conv2D(64, kernel_size = 3, activation = 'relu', padding='same', data_format='channels_first' ))\n",
    "    model.add(layers.MaxPooling2D(2, data_format='channels_first'))     \n",
    "\n",
    "    print('flattening')\n",
    "    model.add(layers.Flatten())\n",
    "    \n",
    "    print('adding dense layer 1')\n",
    "    model.add(layers.Dense(50, activation = 'relu'))\n",
    "    \n",
    "    print('adding dense layer 2')\n",
    "    model.add(layers.Dense(500, activation = 'relu'))\n",
    "    \n",
    "    #print('adding dense layer 2')\n",
    "    #model.add(layers.Dropout(rate=0.5))\n",
    "\n",
    "    print('adding dense layer 3')\n",
    "    model.add(layers.Dense(y_length * lat_size * lon_size, activation = 'relu'))\n",
    "    \n",
    "    print('Reshaping')\n",
    "    model.add(layers.Reshape((y_length, lat_size, lon_size)))\n",
    "    \n",
    "    print('compiling')\n",
    "    model.compile(loss = 'mse',\n",
    "                  optimizer = 'adam',\n",
    "                  metrics = 'mae')\n",
    "    print('Done !')\n",
    "    \n",
    "    return model"
   ]
  }
 ],
 "metadata": {
  "kernelspec": {
   "display_name": "Python 3",
   "language": "python",
   "name": "python3"
  },
  "language_info": {
   "codemirror_mode": {
    "name": "ipython",
    "version": 3
   },
   "file_extension": ".py",
   "mimetype": "text/x-python",
   "name": "python",
   "nbconvert_exporter": "python",
   "pygments_lexer": "ipython3",
   "version": "3.8.5"
  },
  "toc": {
   "base_numbering": 1,
   "nav_menu": {},
   "number_sections": true,
   "sideBar": true,
   "skip_h1_title": false,
   "title_cell": "Table of Contents",
   "title_sidebar": "Contents",
   "toc_cell": false,
   "toc_position": {},
   "toc_section_display": true,
   "toc_window_display": false
  },
  "varInspector": {
   "cols": {
    "lenName": 16,
    "lenType": 16,
    "lenVar": 40
   },
   "kernels_config": {
    "python": {
     "delete_cmd_postfix": "",
     "delete_cmd_prefix": "del ",
     "library": "var_list.py",
     "varRefreshCmd": "print(var_dic_list())"
    },
    "r": {
     "delete_cmd_postfix": ") ",
     "delete_cmd_prefix": "rm(",
     "library": "var_list.r",
     "varRefreshCmd": "cat(var_dic_list()) "
    }
   },
   "types_to_exclude": [
    "module",
    "function",
    "builtin_function_or_method",
    "instance",
    "_Feature"
   ],
   "window_display": false
  }
 },
 "nbformat": 4,
 "nbformat_minor": 4
}
