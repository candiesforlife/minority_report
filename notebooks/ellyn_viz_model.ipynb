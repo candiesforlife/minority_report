{
 "cells": [
  {
   "cell_type": "code",
   "execution_count": 1,
   "metadata": {
    "ExecuteTime": {
     "end_time": "2020-12-04T13:49:22.654004Z",
     "start_time": "2020-12-04T13:49:22.621831Z"
    }
   },
   "outputs": [],
   "source": [
    "%load_ext autoreload\n",
    "%autoreload 2"
   ]
  },
  {
   "cell_type": "code",
   "execution_count": 2,
   "metadata": {
    "ExecuteTime": {
     "end_time": "2020-12-04T13:49:25.889073Z",
     "start_time": "2020-12-04T13:49:22.657424Z"
    }
   },
   "outputs": [],
   "source": [
    "from minority_report.clean_data import CleanData\n",
    "from minority_report.scaling import Scaling\n",
    "from datetime import datetime, timedelta\n",
    "from geopandas import GeoSeries\n",
    "from shapely.geometry import Point\n",
    "import matplotlib.pyplot as plt\n",
    "import pandas as pd"
   ]
  },
  {
   "cell_type": "markdown",
   "metadata": {},
   "source": [
    "# Load data"
   ]
  },
  {
   "cell_type": "code",
   "execution_count": 3,
   "metadata": {
    "ExecuteTime": {
     "end_time": "2020-12-04T13:49:38.016194Z",
     "start_time": "2020-12-04T13:49:25.895950Z"
    }
   },
   "outputs": [
    {
     "data": {
      "text/html": [
       "<div>\n",
       "<style scoped>\n",
       "    .dataframe tbody tr th:only-of-type {\n",
       "        vertical-align: middle;\n",
       "    }\n",
       "\n",
       "    .dataframe tbody tr th {\n",
       "        vertical-align: top;\n",
       "    }\n",
       "\n",
       "    .dataframe thead th {\n",
       "        text-align: right;\n",
       "    }\n",
       "</style>\n",
       "<table border=\"1\" class=\"dataframe\">\n",
       "  <thead>\n",
       "    <tr style=\"text-align: right;\">\n",
       "      <th></th>\n",
       "      <th>precinct_number</th>\n",
       "      <th>offense_type</th>\n",
       "      <th>crime_completed</th>\n",
       "      <th>offense_level</th>\n",
       "      <th>premise_desc</th>\n",
       "      <th>premise</th>\n",
       "      <th>jurisdiction</th>\n",
       "      <th>park_name</th>\n",
       "      <th>suspect_age</th>\n",
       "      <th>suspect_race</th>\n",
       "      <th>suspect_sex</th>\n",
       "      <th>latitude</th>\n",
       "      <th>longitude</th>\n",
       "      <th>metro</th>\n",
       "      <th>victim_age</th>\n",
       "      <th>victim_race</th>\n",
       "      <th>victim_sex</th>\n",
       "      <th>period</th>\n",
       "      <th>borough</th>\n",
       "      <th>patrol_borough</th>\n",
       "    </tr>\n",
       "  </thead>\n",
       "  <tbody>\n",
       "    <tr>\n",
       "      <th>0</th>\n",
       "      <td>73</td>\n",
       "      <td>OFFENSES AGAINST PUBLIC ADMINI</td>\n",
       "      <td>COMPLETED</td>\n",
       "      <td>MISDEMEANOR</td>\n",
       "      <td>INSIDE</td>\n",
       "      <td>RESIDENCE - PUBLIC HOUSING</td>\n",
       "      <td>N.Y. HOUSING POLICE</td>\n",
       "      <td>NOT PARK</td>\n",
       "      <td>25-44</td>\n",
       "      <td>BLACK</td>\n",
       "      <td>M</td>\n",
       "      <td>True</td>\n",
       "      <td>True</td>\n",
       "      <td>NOT SUBWAY</td>\n",
       "      <td>&lt;18</td>\n",
       "      <td>BLACK</td>\n",
       "      <td>M</td>\n",
       "      <td>2015-02-11 15:00:00</td>\n",
       "      <td>BROOKLYN</td>\n",
       "      <td>PATROL BORO BKLYN NORTH</td>\n",
       "    </tr>\n",
       "    <tr>\n",
       "      <th>1</th>\n",
       "      <td>69</td>\n",
       "      <td>ASSAULT 3 &amp; RELATED OFFENSES</td>\n",
       "      <td>COMPLETED</td>\n",
       "      <td>MISDEMEANOR</td>\n",
       "      <td>INSIDE</td>\n",
       "      <td>RESIDENCE-HOUSE</td>\n",
       "      <td>N.Y. POLICE DEPT</td>\n",
       "      <td>NOT PARK</td>\n",
       "      <td>UNKNOWN</td>\n",
       "      <td>UNKNOWN</td>\n",
       "      <td>UNKNOWN</td>\n",
       "      <td>True</td>\n",
       "      <td>True</td>\n",
       "      <td>NOT SUBWAY</td>\n",
       "      <td>45-64</td>\n",
       "      <td>BLACK</td>\n",
       "      <td>F</td>\n",
       "      <td>2012-03-17 10:00:00</td>\n",
       "      <td>BROOKLYN</td>\n",
       "      <td>PATROL BORO BKLYN SOUTH</td>\n",
       "    </tr>\n",
       "    <tr>\n",
       "      <th>2</th>\n",
       "      <td>71</td>\n",
       "      <td>HARRASSMENT 2</td>\n",
       "      <td>COMPLETED</td>\n",
       "      <td>VIOLATION</td>\n",
       "      <td>INSIDE</td>\n",
       "      <td>PUBLIC SCHOOL</td>\n",
       "      <td>N.Y. POLICE DEPT</td>\n",
       "      <td>NOT PARK</td>\n",
       "      <td>&lt;18</td>\n",
       "      <td>BLACK</td>\n",
       "      <td>M</td>\n",
       "      <td>True</td>\n",
       "      <td>True</td>\n",
       "      <td>NOT SUBWAY</td>\n",
       "      <td>18-24</td>\n",
       "      <td>BLACK</td>\n",
       "      <td>M</td>\n",
       "      <td>2016-10-27 13:00:00</td>\n",
       "      <td>BROOKLYN</td>\n",
       "      <td>PATROL BORO BKLYN SOUTH</td>\n",
       "    </tr>\n",
       "    <tr>\n",
       "      <th>3</th>\n",
       "      <td>112</td>\n",
       "      <td>RAPE</td>\n",
       "      <td>COMPLETED</td>\n",
       "      <td>FELONY</td>\n",
       "      <td>INSIDE</td>\n",
       "      <td>RESIDENCE - APT. HOUSE</td>\n",
       "      <td>N.Y. POLICE DEPT</td>\n",
       "      <td>NOT PARK</td>\n",
       "      <td>25-44</td>\n",
       "      <td>WHITE HISPANIC</td>\n",
       "      <td>M</td>\n",
       "      <td>True</td>\n",
       "      <td>True</td>\n",
       "      <td>NOT SUBWAY</td>\n",
       "      <td>25-44</td>\n",
       "      <td>WHITE</td>\n",
       "      <td>F</td>\n",
       "      <td>2014-11-27 19:00:00</td>\n",
       "      <td>QUEENS</td>\n",
       "      <td>PATROL BORO QUEENS NORTH</td>\n",
       "    </tr>\n",
       "    <tr>\n",
       "      <th>4</th>\n",
       "      <td>24</td>\n",
       "      <td>GRAND LARCENY</td>\n",
       "      <td>COMPLETED</td>\n",
       "      <td>FELONY</td>\n",
       "      <td>INSIDE</td>\n",
       "      <td>DOCTOR/DENTIST OFFICE</td>\n",
       "      <td>N.Y. POLICE DEPT</td>\n",
       "      <td>NOT PARK</td>\n",
       "      <td>UNKNOWN</td>\n",
       "      <td>UNKNOWN</td>\n",
       "      <td>UNKNOWN</td>\n",
       "      <td>True</td>\n",
       "      <td>True</td>\n",
       "      <td>NOT SUBWAY</td>\n",
       "      <td>45-64</td>\n",
       "      <td>WHITE</td>\n",
       "      <td>F</td>\n",
       "      <td>2013-12-11 13:00:00</td>\n",
       "      <td>MANHATTAN</td>\n",
       "      <td>PATROL BORO MAN NORTH</td>\n",
       "    </tr>\n",
       "    <tr>\n",
       "      <th>...</th>\n",
       "      <td>...</td>\n",
       "      <td>...</td>\n",
       "      <td>...</td>\n",
       "      <td>...</td>\n",
       "      <td>...</td>\n",
       "      <td>...</td>\n",
       "      <td>...</td>\n",
       "      <td>...</td>\n",
       "      <td>...</td>\n",
       "      <td>...</td>\n",
       "      <td>...</td>\n",
       "      <td>...</td>\n",
       "      <td>...</td>\n",
       "      <td>...</td>\n",
       "      <td>...</td>\n",
       "      <td>...</td>\n",
       "      <td>...</td>\n",
       "      <td>...</td>\n",
       "      <td>...</td>\n",
       "      <td>...</td>\n",
       "    </tr>\n",
       "    <tr>\n",
       "      <th>6983202</th>\n",
       "      <td>109</td>\n",
       "      <td>ASSAULT 3 &amp; RELATED OFFENSES</td>\n",
       "      <td>COMPLETED</td>\n",
       "      <td>MISDEMEANOR</td>\n",
       "      <td>INSIDE</td>\n",
       "      <td>RESIDENCE - APT. HOUSE</td>\n",
       "      <td>N.Y. POLICE DEPT</td>\n",
       "      <td>NOT PARK</td>\n",
       "      <td>25-44</td>\n",
       "      <td>WHITE HISPANIC</td>\n",
       "      <td>M</td>\n",
       "      <td>True</td>\n",
       "      <td>True</td>\n",
       "      <td>NOT SUBWAY</td>\n",
       "      <td>25-44</td>\n",
       "      <td>ASIAN / PACIFIC ISLANDER</td>\n",
       "      <td>F</td>\n",
       "      <td>2018-12-02 04:00:00</td>\n",
       "      <td>QUEENS</td>\n",
       "      <td>PATROL BORO QUEENS NORTH</td>\n",
       "    </tr>\n",
       "    <tr>\n",
       "      <th>6983203</th>\n",
       "      <td>25</td>\n",
       "      <td>OFF. AGNST PUB ORD SENSBLTY &amp;</td>\n",
       "      <td>COMPLETED</td>\n",
       "      <td>MISDEMEANOR</td>\n",
       "      <td>INSIDE</td>\n",
       "      <td>RESIDENCE - APT. HOUSE</td>\n",
       "      <td>N.Y. POLICE DEPT</td>\n",
       "      <td>NOT PARK</td>\n",
       "      <td>25-44</td>\n",
       "      <td>BLACK</td>\n",
       "      <td>F</td>\n",
       "      <td>True</td>\n",
       "      <td>True</td>\n",
       "      <td>NOT SUBWAY</td>\n",
       "      <td>25-44</td>\n",
       "      <td>BLACK</td>\n",
       "      <td>M</td>\n",
       "      <td>2018-01-20 00:00:00</td>\n",
       "      <td>MANHATTAN</td>\n",
       "      <td>PATROL BORO MAN NORTH</td>\n",
       "    </tr>\n",
       "    <tr>\n",
       "      <th>6983204</th>\n",
       "      <td>41</td>\n",
       "      <td>CRIMINAL MISCHIEF &amp; RELATED OF</td>\n",
       "      <td>COMPLETED</td>\n",
       "      <td>FELONY</td>\n",
       "      <td>FRONT OF</td>\n",
       "      <td>STREET</td>\n",
       "      <td>N.Y. POLICE DEPT</td>\n",
       "      <td>NOT PARK</td>\n",
       "      <td>UNKNOWN</td>\n",
       "      <td>UNKNOWN</td>\n",
       "      <td>UNKNOWN</td>\n",
       "      <td>True</td>\n",
       "      <td>True</td>\n",
       "      <td>NOT SUBWAY</td>\n",
       "      <td>25-44</td>\n",
       "      <td>BLACK HISPANIC</td>\n",
       "      <td>F</td>\n",
       "      <td>2018-08-03 22:00:00</td>\n",
       "      <td>BRONX</td>\n",
       "      <td>PATROL BORO BRONX</td>\n",
       "    </tr>\n",
       "    <tr>\n",
       "      <th>6983205</th>\n",
       "      <td>107</td>\n",
       "      <td>FRAUDS</td>\n",
       "      <td>COMPLETED</td>\n",
       "      <td>MISDEMEANOR</td>\n",
       "      <td>INSIDE</td>\n",
       "      <td>RESIDENCE - APT. HOUSE</td>\n",
       "      <td>N.Y. POLICE DEPT</td>\n",
       "      <td>NOT PARK</td>\n",
       "      <td>UNKNOWN</td>\n",
       "      <td>UNKNOWN</td>\n",
       "      <td>U</td>\n",
       "      <td>True</td>\n",
       "      <td>True</td>\n",
       "      <td>NOT SUBWAY</td>\n",
       "      <td>18-24</td>\n",
       "      <td>ASIAN / PACIFIC ISLANDER</td>\n",
       "      <td>M</td>\n",
       "      <td>2018-12-10 11:00:00</td>\n",
       "      <td>QUEENS</td>\n",
       "      <td>PATROL BORO QUEENS SOUTH</td>\n",
       "    </tr>\n",
       "    <tr>\n",
       "      <th>6983206</th>\n",
       "      <td>67</td>\n",
       "      <td>GRAND LARCENY OF MOTOR VEHICLE</td>\n",
       "      <td>COMPLETED</td>\n",
       "      <td>FELONY</td>\n",
       "      <td>INSIDE</td>\n",
       "      <td>STORE UNCLASSIFIED</td>\n",
       "      <td>N.Y. POLICE DEPT</td>\n",
       "      <td>NOT PARK</td>\n",
       "      <td>UNKNOWN</td>\n",
       "      <td>UNKNOWN</td>\n",
       "      <td>UNKNOWN</td>\n",
       "      <td>True</td>\n",
       "      <td>True</td>\n",
       "      <td>NOT SUBWAY</td>\n",
       "      <td>UNKNOWN</td>\n",
       "      <td>UNKNOWN</td>\n",
       "      <td>D</td>\n",
       "      <td>2018-11-15 10:00:00</td>\n",
       "      <td>BROOKLYN</td>\n",
       "      <td>PATROL BORO BKLYN SOUTH</td>\n",
       "    </tr>\n",
       "  </tbody>\n",
       "</table>\n",
       "<p>6416137 rows × 20 columns</p>\n",
       "</div>"
      ],
      "text/plain": [
       "         precinct_number                    offense_type crime_completed  \\\n",
       "0                     73  OFFENSES AGAINST PUBLIC ADMINI       COMPLETED   \n",
       "1                     69    ASSAULT 3 & RELATED OFFENSES       COMPLETED   \n",
       "2                     71                   HARRASSMENT 2       COMPLETED   \n",
       "3                    112                            RAPE       COMPLETED   \n",
       "4                     24                   GRAND LARCENY       COMPLETED   \n",
       "...                  ...                             ...             ...   \n",
       "6983202              109    ASSAULT 3 & RELATED OFFENSES       COMPLETED   \n",
       "6983203               25   OFF. AGNST PUB ORD SENSBLTY &       COMPLETED   \n",
       "6983204               41  CRIMINAL MISCHIEF & RELATED OF       COMPLETED   \n",
       "6983205              107                          FRAUDS       COMPLETED   \n",
       "6983206               67  GRAND LARCENY OF MOTOR VEHICLE       COMPLETED   \n",
       "\n",
       "        offense_level premise_desc                     premise  \\\n",
       "0         MISDEMEANOR       INSIDE  RESIDENCE - PUBLIC HOUSING   \n",
       "1         MISDEMEANOR       INSIDE             RESIDENCE-HOUSE   \n",
       "2           VIOLATION       INSIDE               PUBLIC SCHOOL   \n",
       "3              FELONY       INSIDE      RESIDENCE - APT. HOUSE   \n",
       "4              FELONY       INSIDE       DOCTOR/DENTIST OFFICE   \n",
       "...               ...          ...                         ...   \n",
       "6983202   MISDEMEANOR       INSIDE      RESIDENCE - APT. HOUSE   \n",
       "6983203   MISDEMEANOR       INSIDE      RESIDENCE - APT. HOUSE   \n",
       "6983204        FELONY     FRONT OF                      STREET   \n",
       "6983205   MISDEMEANOR       INSIDE      RESIDENCE - APT. HOUSE   \n",
       "6983206        FELONY       INSIDE          STORE UNCLASSIFIED   \n",
       "\n",
       "                jurisdiction park_name suspect_age    suspect_race  \\\n",
       "0        N.Y. HOUSING POLICE  NOT PARK       25-44           BLACK   \n",
       "1           N.Y. POLICE DEPT  NOT PARK     UNKNOWN         UNKNOWN   \n",
       "2           N.Y. POLICE DEPT  NOT PARK         <18           BLACK   \n",
       "3           N.Y. POLICE DEPT  NOT PARK       25-44  WHITE HISPANIC   \n",
       "4           N.Y. POLICE DEPT  NOT PARK     UNKNOWN         UNKNOWN   \n",
       "...                      ...       ...         ...             ...   \n",
       "6983202     N.Y. POLICE DEPT  NOT PARK       25-44  WHITE HISPANIC   \n",
       "6983203     N.Y. POLICE DEPT  NOT PARK       25-44           BLACK   \n",
       "6983204     N.Y. POLICE DEPT  NOT PARK     UNKNOWN         UNKNOWN   \n",
       "6983205     N.Y. POLICE DEPT  NOT PARK     UNKNOWN         UNKNOWN   \n",
       "6983206     N.Y. POLICE DEPT  NOT PARK     UNKNOWN         UNKNOWN   \n",
       "\n",
       "        suspect_sex  latitude  longitude        metro victim_age  \\\n",
       "0                 M      True       True  NOT SUBWAY         <18   \n",
       "1           UNKNOWN      True       True  NOT SUBWAY       45-64   \n",
       "2                 M      True       True  NOT SUBWAY       18-24   \n",
       "3                 M      True       True  NOT SUBWAY       25-44   \n",
       "4           UNKNOWN      True       True  NOT SUBWAY       45-64   \n",
       "...             ...       ...        ...          ...        ...   \n",
       "6983202           M      True       True  NOT SUBWAY       25-44   \n",
       "6983203           F      True       True  NOT SUBWAY       25-44   \n",
       "6983204     UNKNOWN      True       True  NOT SUBWAY       25-44   \n",
       "6983205           U      True       True  NOT SUBWAY       18-24   \n",
       "6983206     UNKNOWN      True       True  NOT SUBWAY     UNKNOWN   \n",
       "\n",
       "                      victim_race victim_sex               period    borough  \\\n",
       "0                           BLACK          M  2015-02-11 15:00:00   BROOKLYN   \n",
       "1                           BLACK          F  2012-03-17 10:00:00   BROOKLYN   \n",
       "2                           BLACK          M  2016-10-27 13:00:00   BROOKLYN   \n",
       "3                           WHITE          F  2014-11-27 19:00:00     QUEENS   \n",
       "4                           WHITE          F  2013-12-11 13:00:00  MANHATTAN   \n",
       "...                           ...        ...                  ...        ...   \n",
       "6983202  ASIAN / PACIFIC ISLANDER          F  2018-12-02 04:00:00     QUEENS   \n",
       "6983203                     BLACK          M  2018-01-20 00:00:00  MANHATTAN   \n",
       "6983204            BLACK HISPANIC          F  2018-08-03 22:00:00      BRONX   \n",
       "6983205  ASIAN / PACIFIC ISLANDER          M  2018-12-10 11:00:00     QUEENS   \n",
       "6983206                   UNKNOWN          D  2018-11-15 10:00:00   BROOKLYN   \n",
       "\n",
       "                   patrol_borough  \n",
       "0         PATROL BORO BKLYN NORTH  \n",
       "1         PATROL BORO BKLYN SOUTH  \n",
       "2         PATROL BORO BKLYN SOUTH  \n",
       "3        PATROL BORO QUEENS NORTH  \n",
       "4           PATROL BORO MAN NORTH  \n",
       "...                           ...  \n",
       "6983202  PATROL BORO QUEENS NORTH  \n",
       "6983203     PATROL BORO MAN NORTH  \n",
       "6983204         PATROL BORO BRONX  \n",
       "6983205  PATROL BORO QUEENS SOUTH  \n",
       "6983206   PATROL BORO BKLYN SOUTH  \n",
       "\n",
       "[6416137 rows x 20 columns]"
      ]
     },
     "execution_count": 3,
     "metadata": {},
     "output_type": "execute_result"
    }
   ],
   "source": [
    "df = Scaling()\n",
    "df.load_data()"
   ]
  },
  {
   "cell_type": "markdown",
   "metadata": {},
   "source": [
    "# Group by hour"
   ]
  },
  {
   "cell_type": "code",
   "execution_count": 4,
   "metadata": {
    "ExecuteTime": {
     "end_time": "2020-12-04T13:49:38.208002Z",
     "start_time": "2020-12-04T13:49:38.020244Z"
    }
   },
   "outputs": [],
   "source": [
    "lat_interv = df.data['latitude'].between(40.49611539518921, 40.91553277600008)\n",
    "lon_interv = df.data['longitude'].between(-74.25559136315213,-73.70000906387347)"
   ]
  },
  {
   "cell_type": "code",
   "execution_count": 5,
   "metadata": {
    "ExecuteTime": {
     "end_time": "2020-12-04T13:49:38.291933Z",
     "start_time": "2020-12-04T13:49:38.212116Z"
    }
   },
   "outputs": [],
   "source": [
    "sample = df.data[lat_interv & lon_interv]\\\n",
    "        [['period', 'latitude', 'longitude']]"
   ]
  },
  {
   "cell_type": "code",
   "execution_count": 6,
   "metadata": {
    "ExecuteTime": {
     "end_time": "2020-12-04T13:49:38.374486Z",
     "start_time": "2020-12-04T13:49:38.300564Z"
    }
   },
   "outputs": [
    {
     "data": {
      "text/html": [
       "<div>\n",
       "<style scoped>\n",
       "    .dataframe tbody tr th:only-of-type {\n",
       "        vertical-align: middle;\n",
       "    }\n",
       "\n",
       "    .dataframe tbody tr th {\n",
       "        vertical-align: top;\n",
       "    }\n",
       "\n",
       "    .dataframe thead th {\n",
       "        text-align: right;\n",
       "    }\n",
       "</style>\n",
       "<table border=\"1\" class=\"dataframe\">\n",
       "  <thead>\n",
       "    <tr style=\"text-align: right;\">\n",
       "      <th></th>\n",
       "      <th>period</th>\n",
       "      <th>latitude</th>\n",
       "      <th>longitude</th>\n",
       "    </tr>\n",
       "  </thead>\n",
       "  <tbody>\n",
       "  </tbody>\n",
       "</table>\n",
       "</div>"
      ],
      "text/plain": [
       "Empty DataFrame\n",
       "Columns: [period, latitude, longitude]\n",
       "Index: []"
      ]
     },
     "execution_count": 6,
     "metadata": {},
     "output_type": "execute_result"
    }
   ],
   "source": [
    "sample"
   ]
  },
  {
   "cell_type": "code",
   "execution_count": 7,
   "metadata": {
    "ExecuteTime": {
     "end_time": "2020-12-04T13:49:38.440460Z",
     "start_time": "2020-12-04T13:49:38.386257Z"
    }
   },
   "outputs": [],
   "source": [
    "inf = sample['period'] > datetime(2013, 7, 1, 0, 0, 0)\n",
    "sup = sample['period'] < datetime(2013, 8, 1, 0, 0, 0)"
   ]
  },
  {
   "cell_type": "code",
   "execution_count": 8,
   "metadata": {
    "ExecuteTime": {
     "end_time": "2020-12-04T13:49:38.502031Z",
     "start_time": "2020-12-04T13:49:38.444921Z"
    }
   },
   "outputs": [
    {
     "data": {
      "text/html": [
       "<div>\n",
       "<style scoped>\n",
       "    .dataframe tbody tr th:only-of-type {\n",
       "        vertical-align: middle;\n",
       "    }\n",
       "\n",
       "    .dataframe tbody tr th {\n",
       "        vertical-align: top;\n",
       "    }\n",
       "\n",
       "    .dataframe thead th {\n",
       "        text-align: right;\n",
       "    }\n",
       "</style>\n",
       "<table border=\"1\" class=\"dataframe\">\n",
       "  <thead>\n",
       "    <tr style=\"text-align: right;\">\n",
       "      <th></th>\n",
       "      <th>period</th>\n",
       "      <th>latitude</th>\n",
       "      <th>longitude</th>\n",
       "    </tr>\n",
       "  </thead>\n",
       "  <tbody>\n",
       "  </tbody>\n",
       "</table>\n",
       "</div>"
      ],
      "text/plain": [
       "Empty DataFrame\n",
       "Columns: [period, latitude, longitude]\n",
       "Index: []"
      ]
     },
     "execution_count": 8,
     "metadata": {},
     "output_type": "execute_result"
    }
   ],
   "source": [
    "interval = sample[inf & sup]\n",
    "interval"
   ]
  },
  {
   "cell_type": "code",
   "execution_count": 9,
   "metadata": {
    "ExecuteTime": {
     "end_time": "2020-12-04T13:49:38.951836Z",
     "start_time": "2020-12-04T13:49:38.515120Z"
    }
   },
   "outputs": [
    {
     "ename": "NameError",
     "evalue": "name 'np' is not defined",
     "output_type": "error",
     "traceback": [
      "\u001b[0;31m------------------------------------------------------------------------\u001b[0m",
      "\u001b[0;31mNameError\u001b[0m                              Traceback (most recent call last)",
      "\u001b[0;32m<ipython-input-9-f8af86f5113e>\u001b[0m in \u001b[0;36m<module>\u001b[0;34m\u001b[0m\n\u001b[0;32m----> 1\u001b[0;31m \u001b[0mliste\u001b[0m \u001b[0;34m=\u001b[0m \u001b[0mnp\u001b[0m\u001b[0;34m.\u001b[0m\u001b[0msort\u001b[0m\u001b[0;34m(\u001b[0m\u001b[0mnp\u001b[0m\u001b[0;34m.\u001b[0m\u001b[0marray\u001b[0m\u001b[0;34m(\u001b[0m\u001b[0minterval\u001b[0m\u001b[0;34m[\u001b[0m\u001b[0;34m'period'\u001b[0m\u001b[0;34m]\u001b[0m\u001b[0;34m.\u001b[0m\u001b[0munique\u001b[0m\u001b[0;34m(\u001b[0m\u001b[0;34m)\u001b[0m\u001b[0;34m)\u001b[0m\u001b[0;34m)\u001b[0m\u001b[0;34m\u001b[0m\u001b[0;34m\u001b[0m\u001b[0m\n\u001b[0m\u001b[1;32m      2\u001b[0m \u001b[0;34m\u001b[0m\u001b[0m\n\u001b[1;32m      3\u001b[0m \u001b[0mlat_per_image\u001b[0m \u001b[0;34m=\u001b[0m \u001b[0;34m[\u001b[0m\u001b[0;34m]\u001b[0m\u001b[0;34m\u001b[0m\u001b[0;34m\u001b[0m\u001b[0m\n\u001b[1;32m      4\u001b[0m \u001b[0mlon_per_image\u001b[0m \u001b[0;34m=\u001b[0m \u001b[0;34m[\u001b[0m\u001b[0;34m]\u001b[0m\u001b[0;34m\u001b[0m\u001b[0;34m\u001b[0m\u001b[0m\n\u001b[1;32m      5\u001b[0m \u001b[0mlength\u001b[0m \u001b[0;34m=\u001b[0m \u001b[0mlen\u001b[0m\u001b[0;34m(\u001b[0m\u001b[0mliste\u001b[0m\u001b[0;34m)\u001b[0m\u001b[0;34m\u001b[0m\u001b[0;34m\u001b[0m\u001b[0m\n",
      "\u001b[0;31mNameError\u001b[0m: name 'np' is not defined"
     ]
    }
   ],
   "source": [
    "liste = np.sort(np.array(interval['period'].unique()))\n",
    "    \n",
    "lat_per_image = []\n",
    "lon_per_image = []\n",
    "length = len(liste)"
   ]
  },
  {
   "cell_type": "code",
   "execution_count": null,
   "metadata": {
    "ExecuteTime": {
     "end_time": "2020-12-04T13:49:38.984156Z",
     "start_time": "2020-12-04T13:49:22.616Z"
    }
   },
   "outputs": [],
   "source": [
    "for index, timestamp in enumerate(liste[:2]):\n",
    "    if (index+1) % 10 ==0:\n",
    "        print(f'Grouping timestamp {index+1}/{length}')\n",
    "    by_hour = np.array(interval[interval['period']== timestamp][['latitude', 'longitude']])\n",
    "    #print(by_hour)\n",
    "    lat_per_image.append([coord[0] for coord in by_hour])\n",
    "    lon_per_image.append([coord[1] for coord in by_hour])\n",
    "    \n",
    "lat_per_image"
   ]
  },
  {
   "cell_type": "code",
   "execution_count": null,
   "metadata": {
    "ExecuteTime": {
     "end_time": "2020-12-04T13:49:38.999046Z",
     "start_time": "2020-12-04T13:49:22.619Z"
    }
   },
   "outputs": [],
   "source": [
    "interval.resample('hour')"
   ]
  },
  {
   "cell_type": "code",
   "execution_count": null,
   "metadata": {
    "ExecuteTime": {
     "end_time": "2020-12-04T13:49:39.007785Z",
     "start_time": "2020-12-04T13:49:22.624Z"
    }
   },
   "outputs": [],
   "source": [
    "from datetime import datetime\n",
    "\n",
    "def group_by_hour_list(df, year, month, day):#, sampling=True):\n",
    "    '''\n",
    "    get a sample of a month-time crimes grouped by hour\n",
    "    inputs = start_date info\n",
    "    '''\n",
    "    sample = df.data[['period', 'latitude', 'longitude']]\n",
    "    \n",
    "    #if sampling:\n",
    "    inf = sample['period'] > datetime(year, month, day, 0, 0, 0)\n",
    "    next_month = month+1\n",
    "    next_year = year\n",
    "    if month == 12:\n",
    "        next_month = 1\n",
    "        next_year = year+1\n",
    "    #print(next_year, next_month)\n",
    "    sup = sample['period'] < datetime(next_year, next_month, day, 0, 0, 0)\n",
    "    sample = sample[ inf & sup ]\n",
    "    \n",
    "    liste = np.sort(np.array(sample['period'].unique()))\n",
    "    length = len(liste)\n",
    "    lat_per_image = [[coord[1] for coord in np.array(sample[sample['period']== timestamp][['latitude', 'longitude']])]\\\n",
    "             for index, timestamp in enumerate(liste)]\n",
    "    lon_per_image = [[coord[0] for coord in np.array(sample[sample['period']== timestamp][['latitude', 'longitude']])]\\\n",
    "             for index, timestamp in enumerate(liste)]\n",
    "    \n",
    "    return lat_per_image, lon_per_image\n",
    "\n"
   ]
  },
  {
   "cell_type": "code",
   "execution_count": null,
   "metadata": {
    "ExecuteTime": {
     "end_time": "2020-12-04T13:49:39.014526Z",
     "start_time": "2020-12-04T13:49:22.630Z"
    }
   },
   "outputs": [],
   "source": [
    "lats, lons = group_by_hour_list(df, 2013, 8, 5)#, sampling=False)"
   ]
  },
  {
   "cell_type": "code",
   "execution_count": null,
   "metadata": {
    "ExecuteTime": {
     "end_time": "2020-12-04T13:49:39.021549Z",
     "start_time": "2020-12-04T13:49:22.632Z"
    }
   },
   "outputs": [],
   "source": [
    "print(df.data['longitude'].min(), df.data['longitude'].max())"
   ]
  },
  {
   "cell_type": "code",
   "execution_count": null,
   "metadata": {
    "ExecuteTime": {
     "end_time": "2020-12-03T16:37:07.972604Z",
     "start_time": "2020-12-03T16:31:22.257754Z"
    },
    "scrolled": false
   },
   "outputs": [],
   "source": []
  },
  {
   "cell_type": "code",
   "execution_count": null,
   "metadata": {},
   "outputs": [],
   "source": []
  },
  {
   "cell_type": "code",
   "execution_count": null,
   "metadata": {},
   "outputs": [],
   "source": []
  },
  {
   "cell_type": "code",
   "execution_count": null,
   "metadata": {
    "ExecuteTime": {
     "end_time": "2020-12-04T13:49:39.025193Z",
     "start_time": "2020-12-04T13:49:22.640Z"
    }
   },
   "outputs": [],
   "source": [
    "from datetime import datetime\n",
    "\n",
    "def group_by_hour(df, year, month, day):#, sampling=True):\n",
    "    '''\n",
    "    get a sample of a month-time crimes grouped by hour\n",
    "    inputs = start_date info\n",
    "    '''\n",
    "    sample = df.data[['period', 'latitude', 'longitude']]\n",
    "    \n",
    "    #if sampling:\n",
    "    inf = sample['period'] > datetime(year, month, day, 0, 0, 0)\n",
    "    next_month = month+1\n",
    "    next_year = year\n",
    "    if month == 12:\n",
    "        next_month = 1\n",
    "        next_year = year+1\n",
    "    #print(next_year, next_month)\n",
    "    sup = sample['period'] < datetime(next_year, next_month, day, 0, 0, 0)\n",
    "    sample = sample[ inf & sup ]\n",
    "    \n",
    "    liste = np.sort(np.array(sample['period'].unique()))\n",
    "    length = len(liste)\n",
    "    lat_per_image = []\n",
    "    lon_per_image = []\n",
    "    for index, timestamp in enumerate(liste):\n",
    "        if (index+1) % 100 ==0:\n",
    "            print(f'Grouping timestamp {index+1}/{length}')\n",
    "        by_hour = np.array(sample[sample['period']== timestamp][['latitude', 'longitude']])\n",
    "        lat_per_image.append([coord[0] for coord in by_hour])\n",
    "        lon_per_image.append([coord[1] for coord in by_hour])\n",
    "    return lat_per_image, lon_per_image"
   ]
  },
  {
   "cell_type": "code",
   "execution_count": null,
   "metadata": {
    "ExecuteTime": {
     "end_time": "2020-12-04T13:49:39.029865Z",
     "start_time": "2020-12-04T13:49:22.642Z"
    }
   },
   "outputs": [],
   "source": [
    "lats, lons = group_by_hour(df, 2013, 8, 5)#, sampling=False)"
   ]
  },
  {
   "cell_type": "code",
   "execution_count": null,
   "metadata": {
    "ExecuteTime": {
     "end_time": "2020-12-04T13:49:39.039884Z",
     "start_time": "2020-12-04T13:49:22.645Z"
    }
   },
   "outputs": [],
   "source": [
    "len(lons)"
   ]
  },
  {
   "cell_type": "code",
   "execution_count": null,
   "metadata": {
    "ExecuteTime": {
     "end_time": "2020-12-04T13:49:39.052067Z",
     "start_time": "2020-12-04T13:49:22.648Z"
    }
   },
   "outputs": [],
   "source": [
    "len(lats)"
   ]
  },
  {
   "cell_type": "code",
   "execution_count": null,
   "metadata": {
    "ExecuteTime": {
     "end_time": "2020-12-04T13:49:39.065446Z",
     "start_time": "2020-12-04T13:49:22.651Z"
    }
   },
   "outputs": [],
   "source": [
    "lons"
   ]
  },
  {
   "cell_type": "code",
   "execution_count": null,
   "metadata": {
    "ExecuteTime": {
     "end_time": "2020-12-04T13:49:39.092022Z",
     "start_time": "2020-12-04T13:49:22.654Z"
    }
   },
   "outputs": [],
   "source": [
    "lats"
   ]
  },
  {
   "cell_type": "code",
   "execution_count": null,
   "metadata": {
    "ExecuteTime": {
     "end_time": "2020-12-04T13:49:39.099184Z",
     "start_time": "2020-12-04T13:49:22.656Z"
    }
   },
   "outputs": [],
   "source": [
    "import matplotlib.pyplot as plt\n",
    "plt.scatter(lats[0], lons[0])"
   ]
  },
  {
   "cell_type": "code",
   "execution_count": null,
   "metadata": {
    "ExecuteTime": {
     "end_time": "2020-12-04T13:49:39.113775Z",
     "start_time": "2020-12-04T13:49:22.659Z"
    }
   },
   "outputs": [],
   "source": [
    "#latitude max-min de NYC\n",
    "40.934109, -74.051895 (NW)\n",
    "40.530765, -73.744835 (SE)\n",
    "\n",
    "#faire un maillage de NYC\n",
    "40.763934, -73.976322 to "
   ]
  },
  {
   "cell_type": "code",
   "execution_count": null,
   "metadata": {
    "ExecuteTime": {
     "end_time": "2020-12-04T13:49:39.124548Z",
     "start_time": "2020-12-04T13:49:22.662Z"
    }
   },
   "outputs": [],
   "source": [
    "(40.934109 - 40.530765)/-0.00045 #latitude"
   ]
  },
  {
   "cell_type": "code",
   "execution_count": null,
   "metadata": {
    "ExecuteTime": {
     "end_time": "2020-12-04T13:49:39.135504Z",
     "start_time": "2020-12-04T13:49:22.665Z"
    }
   },
   "outputs": [],
   "source": [
    "(-73.673232--74.051895)/0.006179099999999771  #longitude"
   ]
  },
  {
   "cell_type": "markdown",
   "metadata": {
    "heading_collapsed": true
   },
   "source": [
    "# Get boundaries of NYC"
   ]
  },
  {
   "cell_type": "code",
   "execution_count": null,
   "metadata": {
    "ExecuteTime": {
     "end_time": "2020-12-03T16:21:31.057004Z",
     "start_time": "2020-12-03T16:21:30.141177Z"
    },
    "hidden": true
   },
   "outputs": [],
   "source": []
  },
  {
   "cell_type": "code",
   "execution_count": null,
   "metadata": {
    "ExecuteTime": {
     "end_time": "2020-12-04T13:49:39.138909Z",
     "start_time": "2020-12-04T13:49:22.671Z"
    },
    "hidden": true
   },
   "outputs": [],
   "source": [
    "#BOUNDS\n",
    "from shapely.geometry import Polygon\n",
    "import numpy as np\n",
    "points = gdf # for one image\n",
    "xmin, ymax = 40.887224, -74.261419 #(NW) \n",
    "xmax, ymin = 40.530765, -73.744835 #(SE)"
   ]
  },
  {
   "cell_type": "code",
   "execution_count": null,
   "metadata": {
    "ExecuteTime": {
     "end_time": "2020-12-04T13:49:39.141091Z",
     "start_time": "2020-12-04T13:49:22.674Z"
    },
    "hidden": true
   },
   "outputs": [],
   "source": [
    "#import geopandas\n",
    "#from geopandas import GeoDataFrame, GeoSeries\n",
    "#import matplotlib.pyplot as plt\n",
    "#from matplotlib.colors import Normalize\n",
    "#import matplotlib.cm as cm\n",
    "#%matplotlib inline\n",
    "#import seaborn as sns\n",
    "#from shapely.geometry import Point, Polygon\n",
    "#import numpy as np\n",
    "#import googlemaps\n",
    "#from datetime import datetime\n",
    "#plt.rcParams[\"figure.figsize\"] = [8,6]\n",
    "\n",
    "# Get the shape-file for NYC\n",
    "#boros = GeoDataFrame.from_file('../raw_data/geo_export_b18517e0-34fa-4296-ba66-861a5dbbd96d.sh')\n",
    "#boros = boros.set_index('boro_code')\n",
    "#boros = boros.sort_index()\n",
    "\n",
    "# Plot and color by borough\n",
    "#boros.plot(column = 'boro_name')\n",
    "\n",
    "# Get rid of are that you aren't interested in (too far away)\n",
    "#plt.gca().set_xlim([-74.05, -73.85])\n",
    "#plt.gca().set_ylim([40.65, 40.9])\n",
    "\n",
    "# make a grid of latitude-longitude values\n",
    "#xmin, xmax, ymin, ymax = -74.05, -73.85, 40.65, 40.9\n",
    "#xx, yy = np.meshgrid(np.linspace(xmin,xmax,100), np.linspace(ymin,ymax,100))\n",
    "#xc = xx.flatten()\n",
    "#yc = yy.flatten()\n",
    "\n",
    "# Now convert these points to geo-data\n",
    "#pts = GeoSeries([Point(x, y) for x, y in zip(xc, yc)])\n",
    "#in_map =  np.array([pts.within(geom) for geom in boros.geometry]).sum(axis=0)\n",
    "#pts = GeoSeries([val for pos,val in enumerate(pts) if in_map[pos]])\n",
    "\n",
    "# Plot to make sure it makes sense:\n",
    "#pts.plot(markersize=1)"
   ]
  },
  {
   "cell_type": "code",
   "execution_count": null,
   "metadata": {
    "ExecuteTime": {
     "end_time": "2020-12-04T13:49:39.143267Z",
     "start_time": "2020-12-04T13:49:22.683Z"
    },
    "hidden": true
   },
   "outputs": [],
   "source": [
    "#import geopandas\n",
    "#from geopandas import GeoDataFrame, GeoSeries\n",
    "#import matplotlib.pyplot as plt\n",
    "#from matplotlib.colors import Normalize\n",
    "#import matplotlib.cm as cm\n",
    "#%matplotlib inline\n",
    "#import seaborn as sns\n",
    "#from shapely.geometry import Point, Polygon\n",
    "#import numpy as np\n",
    "#import googlemaps\n",
    "#from datetime import datetime\n",
    "#plt.rcParams[\"figure.figsize\"] = [8,6]\n",
    "\n",
    "#fig, ax = plt.subplots()\n",
    "\n",
    "# make a grid of latitude-longitude values\n",
    "#xmin, xmax, ymin, ymax = -74.21, -73.73, 40.530765, 40.887224\n",
    "#xx, yy = np.meshgrid(np.linspace(xmin,xmax,100), np.linspace(ymin,ymax,100))\n",
    "#xc = xx.flatten()\n",
    "#yc = yy.flatten()\n",
    "\n",
    "# Now convert these points to geo-data\n",
    "#pts = GeoSeries([Point(x, y) for x, y in zip(xc, yc)])\n",
    "\n",
    "# Plot to make sure it makes sense:\n",
    "#pts.plot(markersize=1, ax=ax)\n",
    "#geo.plot(ax=ax)"
   ]
  },
  {
   "cell_type": "code",
   "execution_count": null,
   "metadata": {
    "ExecuteTime": {
     "end_time": "2020-12-04T13:49:39.145249Z",
     "start_time": "2020-12-04T13:49:22.688Z"
    },
    "hidden": true
   },
   "outputs": [],
   "source": [
    "boundaries = pd.read_csv('../raw_data/nybb.csv')"
   ]
  },
  {
   "cell_type": "code",
   "execution_count": null,
   "metadata": {
    "ExecuteTime": {
     "end_time": "2020-12-04T13:49:39.155906Z",
     "start_time": "2020-12-04T13:49:22.691Z"
    },
    "hidden": true
   },
   "outputs": [],
   "source": [
    "boundaries"
   ]
  },
  {
   "cell_type": "code",
   "execution_count": null,
   "metadata": {
    "ExecuteTime": {
     "end_time": "2020-12-04T13:49:39.160874Z",
     "start_time": "2020-12-04T13:49:22.696Z"
    },
    "hidden": true
   },
   "outputs": [],
   "source": [
    "boundaries['the_geom'][0]"
   ]
  },
  {
   "cell_type": "code",
   "execution_count": null,
   "metadata": {
    "hidden": true
   },
   "outputs": [],
   "source": []
  },
  {
   "cell_type": "code",
   "execution_count": null,
   "metadata": {
    "ExecuteTime": {
     "end_time": "2020-12-04T13:49:39.175449Z",
     "start_time": "2020-12-04T13:49:22.720Z"
    },
    "hidden": true
   },
   "outputs": [],
   "source": [
    "def get_local_min_max(coords):\n",
    "    \n",
    "    latitude = []\n",
    "    longitude = []\n",
    "    for element in coords:\n",
    "        if element > 0:\n",
    "            latitude.append(element)\n",
    "        else:\n",
    "            longitude.append(element)\n",
    "    min_max_lat = [min(latitude), max(latitude)]\n",
    "    min_max_lon = [min(longitude), max(longitude)]\n",
    "    return min_max_lat, min_max_lon"
   ]
  },
  {
   "cell_type": "code",
   "execution_count": null,
   "metadata": {
    "ExecuteTime": {
     "end_time": "2020-12-04T13:49:39.177614Z",
     "start_time": "2020-12-04T13:49:22.722Z"
    },
    "hidden": true
   },
   "outputs": [],
   "source": [
    "def compare_lon_lat(lat, lon, best_lat, best_lon):\n",
    "    #print(lat, best_lat)\n",
    "    if lat[0] < best_lat[0]:\n",
    "        best_lat[0] = lat[0]\n",
    "    if lat[1] > best_lat[1]:\n",
    "        best_lat[1] = lat[1]\n",
    "    if lon[0] < best_lon[0]:\n",
    "        best_lon[0] = lon[0]\n",
    "    if lon[1] > best_lon[1]:\n",
    "        best_lon[1] = lon[1]\n",
    "    return best_lat, best_lon"
   ]
  },
  {
   "cell_type": "code",
   "execution_count": null,
   "metadata": {
    "ExecuteTime": {
     "end_time": "2020-12-04T13:49:39.180043Z",
     "start_time": "2020-12-04T13:49:22.725Z"
    },
    "hidden": true
   },
   "outputs": [],
   "source": [
    "def absolute_min_max(boundaries):\n",
    "    best_lat = [0,0]\n",
    "    best_lon = [0,0]\n",
    "    for borough in range(boundaries.shape[0]):\n",
    "        bounds = boundaries['the_geom'][borough].replace('MULTIPOLYGON','')\\\n",
    "                                .replace('(','')\\\n",
    "                                .replace(')','')\\\n",
    "                                .strip().\\\n",
    "                                replace(' ',',')\\\n",
    "                                .split(',')\n",
    "        coords = [float(element) for element in bounds if element != '']\n",
    "        lat, lon = get_local_min_max(coords)\n",
    "        #import ipdb ; ipdb.set_trace()\n",
    "        if (best_lat == [0,0]) & (best_lon ==[0,0]):\n",
    "            best_lat = lat\n",
    "            best_lon = lon\n",
    "        else:\n",
    "            best_lat, best_lon = compare_lon_lat(lat, lon, best_lat, best_lon)\n",
    "    return best_lat, best_lon"
   ]
  },
  {
   "cell_type": "code",
   "execution_count": null,
   "metadata": {
    "ExecuteTime": {
     "end_time": "2020-12-04T13:49:39.182351Z",
     "start_time": "2020-12-04T13:49:22.728Z"
    },
    "hidden": true
   },
   "outputs": [],
   "source": [
    "absolute_min_max(boundaries)"
   ]
  },
  {
   "cell_type": "markdown",
   "metadata": {},
   "source": [
    "# Get all images"
   ]
  },
  {
   "cell_type": "code",
   "execution_count": null,
   "metadata": {
    "ExecuteTime": {
     "end_time": "2020-12-04T13:49:39.189773Z",
     "start_time": "2020-12-04T13:49:22.731Z"
    }
   },
   "outputs": [],
   "source": [
    "geometry = [Point(xy) for xy in zip(lons[2], lats[2])]\n",
    "#df_geopandas = sample.drop(['longitude', 'latitude'], axis=1)\n",
    "gdf = GeoSeries(geometry)"
   ]
  },
  {
   "cell_type": "code",
   "execution_count": null,
   "metadata": {
    "ExecuteTime": {
     "end_time": "2020-12-04T13:49:39.192461Z",
     "start_time": "2020-12-04T13:49:22.733Z"
    }
   },
   "outputs": [],
   "source": [
    "#import geopandas\n",
    "#from geopandas import GeoDataFrame, GeoSeries\n",
    "#import matplotlib.pyplot as plt\n",
    "#from matplotlib.colors import Normalize\n",
    "#import matplotlib.cm as cm\n",
    "#%matplotlib inline\n",
    "#import seaborn as sns\n",
    "#from shapely.geometry import Point, Polygon\n",
    "#import numpy as np\n",
    "#import googlemaps\n",
    "#from datetime import datetime\n",
    "#plt.rcParams[\"figure.figsize\"] = [15, 15]\n",
    "\n",
    "\n",
    "#fig, ax = plt.subplots()\n",
    "\n",
    "# make a grid of latitude-longitude values\n",
    "#xmin, xmax, ymin, ymax = -74.21, -73.73, 40.49611539518921, 40.91553277600008\n",
    "#xx, yy = np.meshgrid(np.linspace(xmin,xmax,100), np.linspace(ymin,ymax,100))\n",
    "#xc = xx.flatten()\n",
    "#yc = yy.flatten()\n",
    "\n",
    "# Now convert these points to geo-data\n",
    "#pts = GeoSeries([Point(x, y) for x, y in zip(xc, yc)])\n",
    "\n",
    "# Plot to make sure it makes sense:\n",
    "#pts.plot(markersize=1, ax=ax)\n",
    "#gdf.plot(ax=ax, color='black')\n",
    "#plt.gca().axison=False\n",
    "\n",
    "#plt.savefig('../images/test.jpeg')\n",
    "#extent = ax.get_window_extent().transformed(fig.dpi_scale_trans.inverted())\n",
    "#fig.savefig('../images/image.jpeg', bbox_inches=extent)"
   ]
  },
  {
   "cell_type": "code",
   "execution_count": null,
   "metadata": {
    "ExecuteTime": {
     "end_time": "2020-12-04T13:49:39.195763Z",
     "start_time": "2020-12-04T13:49:22.737Z"
    }
   },
   "outputs": [],
   "source": [
    "#from matplotlib.image import imread\n",
    "\n",
    "#img = imread('../images/test.jpeg', 0)\n",
    "#img.shape"
   ]
  },
  {
   "cell_type": "code",
   "execution_count": null,
   "metadata": {
    "ExecuteTime": {
     "end_time": "2020-12-04T13:49:39.198185Z",
     "start_time": "2020-12-04T13:49:22.739Z"
    }
   },
   "outputs": [],
   "source": [
    "from skimage import io\n",
    "img = io.imread('../images/image.jpeg', as_gray=False)"
   ]
  },
  {
   "cell_type": "code",
   "execution_count": null,
   "metadata": {
    "ExecuteTime": {
     "end_time": "2020-12-04T13:49:39.201140Z",
     "start_time": "2020-12-04T13:49:22.741Z"
    }
   },
   "outputs": [],
   "source": [
    "img.shape"
   ]
  },
  {
   "cell_type": "code",
   "execution_count": null,
   "metadata": {
    "ExecuteTime": {
     "end_time": "2020-12-04T13:49:39.206445Z",
     "start_time": "2020-12-04T13:49:22.744Z"
    }
   },
   "outputs": [],
   "source": [
    "np.unique(img)"
   ]
  },
  {
   "cell_type": "code",
   "execution_count": null,
   "metadata": {
    "ExecuteTime": {
     "end_time": "2020-12-04T13:49:39.219027Z",
     "start_time": "2020-12-04T13:49:22.746Z"
    }
   },
   "outputs": [],
   "source": [
    "plt.imshow(img)"
   ]
  },
  {
   "cell_type": "code",
   "execution_count": null,
   "metadata": {},
   "outputs": [],
   "source": []
  },
  {
   "cell_type": "code",
   "execution_count": null,
   "metadata": {
    "ExecuteTime": {
     "end_time": "2020-12-04T13:49:39.222675Z",
     "start_time": "2020-12-04T13:49:22.752Z"
    }
   },
   "outputs": [],
   "source": [
    "#import geopandas\n",
    "#from geopandas import GeoDataFrame, GeoSeries\n",
    "import matplotlib.pyplot as plt\n",
    "#from matplotlib.colors import Normalize\n",
    "#import matplotlib.cm as cm\n",
    "%matplotlib inline\n",
    "#import seaborn as sns\n",
    "#from shapely.geometry import Point, Polygon\n",
    "import numpy as np\n",
    "#import googlemaps\n",
    "#from datetime import datetime\n",
    "from skimage import io, color\n",
    "plt.rcParams[\"figure.figsize\"] = [15,15]\n",
    "\n",
    "img_list = []\n",
    "for i in range (100):\n",
    "    #geometry = [Point(xy) for xy in zip(lons[i], lats[i])]\n",
    "    #gdf = GeoSeries(geometry)\n",
    "    \n",
    "    fig, ax = plt.subplots()\n",
    "\n",
    "    # make a grid of latitude-longitude values\n",
    "    #xmin, xmax, ymin, ymax = -74.25559136315213, -73.70000906387347, 40.49611539518921, 40.91553277600008\n",
    "    #xx, yy = np.meshgrid(np.linspace(xmin,xmax,100), np.linspace(ymin,ymax,100))\n",
    "    #xc = xx.flatten()\n",
    "    #yc = yy.flatten()\n",
    "\n",
    "    # Now convert these points to geo-data\n",
    "    #pts = GeoSeries([Point(x, y) for x, y in zip(xc, yc)])\n",
    "\n",
    "    # Plot to make sure it makes sense:\n",
    "    #pts.plot(markersize=1, ax=ax)\n",
    "    #ax.axison=False\n",
    "    ax.set_xlim(left=-74.25559136315213, right=-73.70000906387347)\n",
    "    ax.set_ylim(bottom = 40.49611539518921, top=40.91553277600008)\n",
    "    \n",
    "    ax.scatter(lons[i], lats[i] , color='black')\n",
    "    \n",
    "    #save plot\n",
    "    extent = ax.get_window_extent().transformed(fig.dpi_scale_trans.inverted())\n",
    "    fig.savefig('../images/image.jpeg', bbox_inches=extent)\n",
    "    #read plot as np.array\n",
    "    img = io.imread('../images/image.jpeg')\n",
    "    grayscale = color.rgb2gray(img)\n",
    "    # add np.array to list\n",
    "    img_list.append(grayscale)\n",
    "img_list = np.array(img_list)"
   ]
  },
  {
   "cell_type": "code",
   "execution_count": null,
   "metadata": {
    "ExecuteTime": {
     "end_time": "2020-12-04T13:49:39.225916Z",
     "start_time": "2020-12-04T13:49:22.756Z"
    }
   },
   "outputs": [],
   "source": [
    "img_list.shape"
   ]
  },
  {
   "cell_type": "code",
   "execution_count": null,
   "metadata": {
    "ExecuteTime": {
     "end_time": "2020-12-04T13:49:39.230463Z",
     "start_time": "2020-12-04T13:49:22.758Z"
    }
   },
   "outputs": [],
   "source": [
    "plt.imshow(img_list[1])"
   ]
  },
  {
   "cell_type": "markdown",
   "metadata": {
    "ExecuteTime": {
     "end_time": "2020-12-03T20:44:15.527829Z",
     "start_time": "2020-12-03T20:44:15.517790Z"
    }
   },
   "source": [
    "# passer dans le kernel"
   ]
  },
  {
   "cell_type": "code",
   "execution_count": null,
   "metadata": {
    "ExecuteTime": {
     "end_time": "2020-12-04T13:49:39.236721Z",
     "start_time": "2020-12-04T13:49:22.762Z"
    }
   },
   "outputs": [],
   "source": [
    "img_list.shape"
   ]
  },
  {
   "cell_type": "code",
   "execution_count": null,
   "metadata": {
    "ExecuteTime": {
     "end_time": "2020-12-04T13:49:39.239457Z",
     "start_time": "2020-12-04T13:49:22.764Z"
    }
   },
   "outputs": [],
   "source": [
    "from scipy.ndimage import gaussian_filter\n",
    "img3D_conv = gaussian_filter(img_list, sigma=(2,2,2))"
   ]
  },
  {
   "cell_type": "code",
   "execution_count": null,
   "metadata": {
    "ExecuteTime": {
     "end_time": "2020-12-04T13:49:39.242293Z",
     "start_time": "2020-12-04T13:49:22.769Z"
    },
    "scrolled": false
   },
   "outputs": [],
   "source": [
    "max_lum = img3D_conv.max()\n",
    "for i in range(19):\n",
    "    plt.imshow(img3D_conv[i+1,:,:], cmap='gray')\n",
    "    plt.show()"
   ]
  },
  {
   "cell_type": "code",
   "execution_count": null,
   "metadata": {},
   "outputs": [],
   "source": []
  },
  {
   "cell_type": "code",
   "execution_count": null,
   "metadata": {},
   "outputs": [],
   "source": []
  },
  {
   "cell_type": "markdown",
   "metadata": {
    "ExecuteTime": {
     "end_time": "2020-12-03T20:44:16.609281Z",
     "start_time": "2020-12-03T20:44:16.595372Z"
    }
   },
   "source": [
    "# get observations"
   ]
  },
  {
   "cell_type": "code",
   "execution_count": null,
   "metadata": {
    "ExecuteTime": {
     "end_time": "2020-12-04T13:49:39.245700Z",
     "start_time": "2020-12-04T13:49:22.775Z"
    }
   },
   "outputs": [],
   "source": [
    "def get_observation_target (img3D_conv):\n",
    "    position = np.random.randint(0,img3D_conv.shape[0]-27)\n",
    "    observation = img3D_conv[position:position+24]\n",
    "    target = img3D_conv[position+24:position+27]\n",
    "    return observation, target"
   ]
  },
  {
   "cell_type": "code",
   "execution_count": null,
   "metadata": {
    "ExecuteTime": {
     "end_time": "2020-12-04T13:49:39.255518Z",
     "start_time": "2020-12-04T13:49:22.778Z"
    }
   },
   "outputs": [],
   "source": [
    "def get_X_y(img3D_conv, number_of_observations):\n",
    "    X = []\n",
    "    y = []\n",
    "    for n in range(number_of_observations):\n",
    "        X_subsample, y_subsample = get_observation_target(img3D_conv)\n",
    "        X.append(X_subsample)\n",
    "        y.append(y_subsample)\n",
    "    X = np.array(X)\n",
    "    y = np.array(y)\n",
    "    return X, y"
   ]
  },
  {
   "cell_type": "code",
   "execution_count": null,
   "metadata": {
    "ExecuteTime": {
     "end_time": "2020-12-04T13:49:39.264188Z",
     "start_time": "2020-12-04T13:49:22.780Z"
    }
   },
   "outputs": [],
   "source": [
    "X, y = get_X_y(img3D_conv, 50 )"
   ]
  },
  {
   "cell_type": "code",
   "execution_count": null,
   "metadata": {
    "ExecuteTime": {
     "end_time": "2020-12-04T13:49:39.274072Z",
     "start_time": "2020-12-04T13:49:22.785Z"
    }
   },
   "outputs": [],
   "source": [
    "X.shape"
   ]
  },
  {
   "cell_type": "code",
   "execution_count": null,
   "metadata": {
    "ExecuteTime": {
     "end_time": "2020-12-04T13:49:39.277181Z",
     "start_time": "2020-12-04T13:49:22.789Z"
    }
   },
   "outputs": [],
   "source": [
    "y.shape"
   ]
  },
  {
   "cell_type": "markdown",
   "metadata": {
    "ExecuteTime": {
     "end_time": "2020-12-03T20:44:17.688041Z",
     "start_time": "2020-12-03T20:44:17.677626Z"
    }
   },
   "source": []
  },
  {
   "cell_type": "code",
   "execution_count": null,
   "metadata": {
    "ExecuteTime": {
     "end_time": "2020-12-03T20:44:39.031905Z",
     "start_time": "2020-12-03T20:44:38.828023Z"
    }
   },
   "outputs": [],
   "source": []
  },
  {
   "cell_type": "code",
   "execution_count": 17,
   "metadata": {
    "ExecuteTime": {
     "end_time": "2020-12-04T13:55:24.671773Z",
     "start_time": "2020-12-04T13:55:14.741558Z"
    }
   },
   "outputs": [
    {
     "data": {
      "text/plain": [
       "array([[[1, 0, 0, ..., 1, 0, 1],\n",
       "        [0, 1, 0, ..., 1, 1, 0],\n",
       "        [1, 1, 1, ..., 0, 1, 1],\n",
       "        ...,\n",
       "        [1, 0, 1, ..., 1, 1, 1],\n",
       "        [0, 0, 1, ..., 0, 1, 1],\n",
       "        [0, 0, 1, ..., 0, 1, 0]],\n",
       "\n",
       "       [[0, 1, 0, ..., 0, 0, 0],\n",
       "        [0, 0, 1, ..., 1, 0, 0],\n",
       "        [0, 1, 0, ..., 1, 1, 1],\n",
       "        ...,\n",
       "        [1, 1, 1, ..., 1, 0, 0],\n",
       "        [1, 1, 0, ..., 1, 1, 0],\n",
       "        [1, 1, 0, ..., 0, 0, 1]],\n",
       "\n",
       "       [[0, 1, 1, ..., 0, 0, 0],\n",
       "        [1, 0, 0, ..., 0, 1, 0],\n",
       "        [1, 1, 1, ..., 1, 0, 0],\n",
       "        ...,\n",
       "        [1, 0, 1, ..., 1, 0, 0],\n",
       "        [1, 0, 0, ..., 0, 0, 0],\n",
       "        [1, 0, 0, ..., 0, 0, 0]],\n",
       "\n",
       "       ...,\n",
       "\n",
       "       [[0, 0, 0, ..., 1, 1, 0],\n",
       "        [1, 1, 1, ..., 1, 0, 0],\n",
       "        [0, 0, 0, ..., 1, 1, 1],\n",
       "        ...,\n",
       "        [0, 0, 0, ..., 0, 1, 0],\n",
       "        [0, 1, 1, ..., 1, 0, 0],\n",
       "        [0, 0, 1, ..., 1, 1, 0]],\n",
       "\n",
       "       [[0, 0, 1, ..., 1, 0, 1],\n",
       "        [0, 1, 1, ..., 0, 1, 1],\n",
       "        [0, 1, 1, ..., 0, 0, 0],\n",
       "        ...,\n",
       "        [0, 0, 1, ..., 1, 0, 0],\n",
       "        [0, 0, 0, ..., 1, 1, 1],\n",
       "        [0, 1, 1, ..., 0, 0, 1]],\n",
       "\n",
       "       [[1, 1, 1, ..., 0, 1, 1],\n",
       "        [0, 1, 1, ..., 1, 1, 1],\n",
       "        [0, 0, 0, ..., 0, 0, 1],\n",
       "        ...,\n",
       "        [0, 1, 1, ..., 0, 1, 0],\n",
       "        [0, 1, 0, ..., 1, 1, 1],\n",
       "        [1, 1, 0, ..., 1, 1, 0]]])"
      ]
     },
     "execution_count": 17,
     "metadata": {},
     "output_type": "execute_result"
    }
   ],
   "source": [
    "import numpy as np\n",
    "\n",
    "total_nb_of_hours_in_a_month = np.random.randint(2, size= (1000,1000,743))\n",
    "total_nb_of_hours_in_a_month"
   ]
  },
  {
   "cell_type": "code",
   "execution_count": 18,
   "metadata": {
    "ExecuteTime": {
     "end_time": "2020-12-04T13:55:28.415462Z",
     "start_time": "2020-12-04T13:55:28.370832Z"
    }
   },
   "outputs": [],
   "source": [
    "from scipy.ndimage import gaussian_filter\n",
    "\n",
    "def filtering(df,img_list,x,y,z):\n",
    "    img3D_conv = gaussian_filter(img_list, sigma=(x,y,z))\n",
    "    for i in range(19):\n",
    "        plt.imshow(img3D_conv[i+1,:,:], cmap='gray')\n",
    "        plt.show()"
   ]
  },
  {
   "cell_type": "code",
   "execution_count": null,
   "metadata": {
    "ExecuteTime": {
     "start_time": "2020-12-04T13:58:00.812Z"
    }
   },
   "outputs": [],
   "source": [
    "result = filtering(df,total_nb_of_hours_in_a_month,5,5,7)"
   ]
  },
  {
   "cell_type": "code",
   "execution_count": 20,
   "metadata": {
    "ExecuteTime": {
     "end_time": "2020-12-04T13:57:24.529416Z",
     "start_time": "2020-12-04T13:57:24.470149Z"
    }
   },
   "outputs": [
    {
     "ename": "AttributeError",
     "evalue": "'NoneType' object has no attribute 'shape'",
     "output_type": "error",
     "traceback": [
      "\u001b[0;31m------------------------------------------------------------------------\u001b[0m",
      "\u001b[0;31mAttributeError\u001b[0m                         Traceback (most recent call last)",
      "\u001b[0;32m<ipython-input-20-4a99d8abe300>\u001b[0m in \u001b[0;36m<module>\u001b[0;34m\u001b[0m\n\u001b[0;32m----> 1\u001b[0;31m \u001b[0mresult\u001b[0m\u001b[0;34m.\u001b[0m\u001b[0mshape\u001b[0m\u001b[0;34m\u001b[0m\u001b[0;34m\u001b[0m\u001b[0m\n\u001b[0m",
      "\u001b[0;31mAttributeError\u001b[0m: 'NoneType' object has no attribute 'shape'"
     ]
    }
   ],
   "source": []
  },
  {
   "cell_type": "code",
   "execution_count": null,
   "metadata": {},
   "outputs": [],
   "source": []
  }
 ],
 "metadata": {
  "kernelspec": {
   "display_name": "Python 3",
   "language": "python",
   "name": "python3"
  },
  "language_info": {
   "codemirror_mode": {
    "name": "ipython",
    "version": 3
   },
   "file_extension": ".py",
   "mimetype": "text/x-python",
   "name": "python",
   "nbconvert_exporter": "python",
   "pygments_lexer": "ipython3",
   "version": "3.8.5"
  },
  "toc": {
   "base_numbering": 1,
   "nav_menu": {},
   "number_sections": true,
   "sideBar": true,
   "skip_h1_title": false,
   "title_cell": "Table of Contents",
   "title_sidebar": "Contents",
   "toc_cell": false,
   "toc_position": {},
   "toc_section_display": true,
   "toc_window_display": false
  },
  "varInspector": {
   "cols": {
    "lenName": 16,
    "lenType": 16,
    "lenVar": 40
   },
   "kernels_config": {
    "python": {
     "delete_cmd_postfix": "",
     "delete_cmd_prefix": "del ",
     "library": "var_list.py",
     "varRefreshCmd": "print(var_dic_list())"
    },
    "r": {
     "delete_cmd_postfix": ") ",
     "delete_cmd_prefix": "rm(",
     "library": "var_list.r",
     "varRefreshCmd": "cat(var_dic_list()) "
    }
   },
   "types_to_exclude": [
    "module",
    "function",
    "builtin_function_or_method",
    "instance",
    "_Feature"
   ],
   "window_display": false
  }
 },
 "nbformat": 4,
 "nbformat_minor": 4
}
